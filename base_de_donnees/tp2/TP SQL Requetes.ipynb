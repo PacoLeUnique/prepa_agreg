{
 "cells": [
  {
   "cell_type": "markdown",
   "metadata": {
    "id": "GsY6YM8hDShS",
    "tags": []
   },
   "source": [
    "# TP SQL Agrégation Informatique 2024\n",
    "\n",
    "date du révision du document : 23/09/24\n",
    "\n",
    "Ce TP est effectué en utilisant le SGBD H2.\n",
    "\n",
    "Rmq: ce TP peut aussi se faire avec un autre SGBD tel que MariaDB."
   ]
  },
  {
   "cell_type": "markdown",
   "metadata": {
    "id": "9dwsZ9ffDShV",
    "tags": []
   },
   "source": [
    "## Installation"
   ]
  },
  {
   "cell_type": "markdown",
   "metadata": {
    "id": "QMvQNBXPIrKZ"
   },
   "source": [
    "Les fichiers SQL pour créer la base Jeux Olympiques"
   ]
  },
  {
   "cell_type": "code",
   "execution_count": 1,
   "metadata": {
    "colab": {
     "base_uri": "https://localhost:8080/"
    },
    "executionInfo": {
     "elapsed": 1831,
     "status": "ok",
     "timestamp": 1711530058743,
     "user": {
      "displayName": "Hubert Naacke",
      "userId": "03575281438400116050"
     },
     "user_tz": -60
    },
    "id": "kcImW_57IqaJ",
    "outputId": "52dcb164-5db7-474b-d674-adc726a8b29c",
    "tags": []
   },
   "outputs": [
    {
     "name": "stdout",
     "output_type": "stream",
     "text": [
      "--2024-09-30 15:56:49--  https://nuage.lip6.fr/s/LqD9N23kxrfHopr/download?path=agreg/bd-jo-v2_H2.sql\n",
      "Résolution de nuage.lip6.fr (nuage.lip6.fr)… 132.227.201.11\n",
      "Connexion à nuage.lip6.fr (nuage.lip6.fr)|132.227.201.11|:443… connecté.\n",
      "requête HTTP transmise, en attente de la réponse… 200 OK\n",
      "Taille : 382202 (373K) [application/octet-stream]\n",
      "Enregistre : ‘bd-jo-v2_H2.sql’\n",
      "\n",
      "bd-jo-v2_H2.sql     100%[===================>] 373,24K  --.-KB/s    ds 0,04s   \n",
      "\n",
      "2024-09-30 15:56:49 (9,48 MB/s) - ‘bd-jo-v2_H2.sql’ enregistré [382202/382202]\n",
      "\n"
     ]
    }
   ],
   "source": [
    "!wget https://nuage.lip6.fr/s/LqD9N23kxrfHopr/download?path=agreg/bd-jo-v2_H2.sql -O bd-jo-v2_H2.sql"
   ]
  },
  {
   "cell_type": "code",
   "execution_count": 2,
   "metadata": {
    "colab": {
     "base_uri": "https://localhost:8080/"
    },
    "executionInfo": {
     "elapsed": 188,
     "status": "ok",
     "timestamp": 1711530088334,
     "user": {
      "displayName": "Hubert Naacke",
      "userId": "03575281438400116050"
     },
     "user_tz": -60
    },
    "id": "kVjvXVESJD3p",
    "outputId": "541af703-0e65-4469-a73a-9d3a645b6359",
    "tags": []
   },
   "outputs": [
    {
     "name": "stdout",
     "output_type": "stream",
     "text": [
      "bd-jo-v2_H2.sql  bd-jo-v2_mariaDB.sql\n"
     ]
    }
   ],
   "source": [
    "!ls *.sql"
   ]
  },
  {
   "cell_type": "markdown",
   "metadata": {
    "id": "bzj0aeunRZFh"
   },
   "source": [
    "Les 8 premières lignes du fichier sql"
   ]
  },
  {
   "cell_type": "code",
   "execution_count": 3,
   "metadata": {
    "colab": {
     "base_uri": "https://localhost:8080/"
    },
    "executionInfo": {
     "elapsed": 288,
     "status": "ok",
     "timestamp": 1711532244246,
     "user": {
      "displayName": "Hubert Naacke",
      "userId": "03575281438400116050"
     },
     "user_tz": -60
    },
    "id": "fvuYPVPWQ_nh",
    "outputId": "e288b484-940b-4153-bd7c-d06643342623",
    "tags": []
   },
   "outputs": [
    {
     "name": "stdout",
     "output_type": "stream",
     "text": [
      "-- Pays (codePays, nomP)\n",
      "-- Sport (sid, nomS)\n",
      "-- Epreuve (epid, sid*, nomEp, categorie, dateDebut, dateFin)    \n",
      "-- Athlete (aid, nomAth, prenomAth, dateNaissance, codePays*)\n",
      "-- Equipe (eqid*, codePays*)\n",
      "-- AthletesEquipe(eqid*, aid*)\n",
      "-- RangIndividuel (epid*, aid*, rang)\n",
      "-- RangEquipe (epid*, eqid*, rang)\n"
     ]
    }
   ],
   "source": [
    "!head -n 8 bd-jo-v2_H2.sql"
   ]
  },
  {
   "cell_type": "markdown",
   "metadata": {
    "id": "SBQFGoHpDShV",
    "tags": []
   },
   "source": [
    "### Installer l'adaptateur PostgrSQL / Python"
   ]
  },
  {
   "cell_type": "code",
   "execution_count": 4,
   "metadata": {
    "colab": {
     "base_uri": "https://localhost:8080/"
    },
    "executionInfo": {
     "elapsed": 15741,
     "status": "ok",
     "timestamp": 1711528584470,
     "user": {
      "displayName": "Hubert Naacke",
      "userId": "03575281438400116050"
     },
     "user_tz": -60
    },
    "id": "yWGt20mnDShW",
    "outputId": "598dd9d0-d073-4f24-bd78-c01ba6c575e6",
    "tags": []
   },
   "outputs": [
    {
     "name": "stdout",
     "output_type": "stream",
     "text": [
      "Defaulting to user installation because normal site-packages is not writeable\n",
      "Requirement already satisfied: psycopg2-binary in /home/paco/.local/lib/python3.10/site-packages (2.9.9)\n",
      "Note: you may need to restart the kernel to use updated packages.\n"
     ]
    }
   ],
   "source": [
    "pip install psycopg2-binary"
   ]
  },
  {
   "cell_type": "code",
   "execution_count": 5,
   "metadata": {},
   "outputs": [],
   "source": [
    "# executer uniquemement sur jupyterhub Moodle\n",
    "# pip install pyspark"
   ]
  },
  {
   "cell_type": "markdown",
   "metadata": {},
   "source": [
    "**Relancez le kernel**: Kernel -> Restart kernel ..."
   ]
  },
  {
   "cell_type": "markdown",
   "metadata": {},
   "source": [
    "Télécharger les pilote PostgreSQL et H2"
   ]
  },
  {
   "cell_type": "markdown",
   "metadata": {
    "id": "dVcdSSWRDShX"
   },
   "source": [
    "https://www.psycopg.org/docs/"
   ]
  },
  {
   "cell_type": "code",
   "execution_count": 1,
   "metadata": {
    "colab": {
     "base_uri": "https://localhost:8080/"
    },
    "executionInfo": {
     "elapsed": 1965,
     "status": "ok",
     "timestamp": 1711528586432,
     "user": {
      "displayName": "Hubert Naacke",
      "userId": "03575281438400116050"
     },
     "user_tz": -60
    },
    "id": "6SPFLPImDShX",
    "outputId": "8958f74a-45a5-4723-944c-82945a4234a2",
    "tags": []
   },
   "outputs": [
    {
     "name": "stdout",
     "output_type": "stream",
     "text": [
      "--2024-09-30 16:05:31--  https://nuage.lip6.fr/s/LqD9N23kxrfHopr/download?path=agreg/postgresql-42.6.0.jar\n",
      "Résolution de nuage.lip6.fr (nuage.lip6.fr)… 132.227.201.11\n",
      "Connexion à nuage.lip6.fr (nuage.lip6.fr)|132.227.201.11|:443… connecté.\n",
      "requête HTTP transmise, en attente de la réponse… 200 OK\n",
      "Taille : 1081604 (1,0M) [application/octet-stream]\n",
      "Enregistre : ‘postgresql-42.6.0.jar’\n",
      "\n",
      "postgresql-42.6.0.j 100%[===================>]   1,03M  --.-KB/s    ds 0,09s   \n",
      "\n",
      "2024-09-30 16:05:31 (11,7 MB/s) - ‘postgresql-42.6.0.jar’ enregistré [1081604/1081604]\n",
      "\n"
     ]
    }
   ],
   "source": [
    "!wget https://nuage.lip6.fr/s/LqD9N23kxrfHopr/download?path=agreg/postgresql-42.6.0.jar -O postgresql-42.6.0.jar"
   ]
  },
  {
   "cell_type": "code",
   "execution_count": 2,
   "metadata": {
    "colab": {
     "base_uri": "https://localhost:8080/"
    },
    "executionInfo": {
     "elapsed": 1319,
     "status": "ok",
     "timestamp": 1711528587748,
     "user": {
      "displayName": "Hubert Naacke",
      "userId": "03575281438400116050"
     },
     "user_tz": -60
    },
    "id": "87OrmjBgDShY",
    "outputId": "e9223706-b638-44da-c52f-106b9a61e3f4",
    "tags": []
   },
   "outputs": [
    {
     "name": "stdout",
     "output_type": "stream",
     "text": [
      "--2024-09-30 16:05:32--  https://nuage.lip6.fr/s/LqD9N23kxrfHopr/download?path=agreg/h2-2.1.214.jar\n",
      "Résolution de nuage.lip6.fr (nuage.lip6.fr)… 132.227.201.11\n",
      "Connexion à nuage.lip6.fr (nuage.lip6.fr)|132.227.201.11|:443… connecté.\n",
      "requête HTTP transmise, en attente de la réponse… 200 OK\n",
      "Taille : 2543011 (2,4M) [application/octet-stream]\n",
      "Enregistre : ‘h2-2.1.214.jar’\n",
      "\n",
      "h2-2.1.214.jar      100%[===================>]   2,42M  8,09MB/s    ds 0,3s    \n",
      "\n",
      "2024-09-30 16:05:32 (8,09 MB/s) - ‘h2-2.1.214.jar’ enregistré [2543011/2543011]\n",
      "\n"
     ]
    }
   ],
   "source": [
    "!wget https://nuage.lip6.fr/s/LqD9N23kxrfHopr/download?path=agreg/h2-2.1.214.jar -O h2-2.1.214.jar"
   ]
  },
  {
   "cell_type": "markdown",
   "metadata": {},
   "source": [
    "## Fonctions utiles"
   ]
  },
  {
   "cell_type": "markdown",
   "metadata": {},
   "source": [
    "## connect_H2"
   ]
  },
  {
   "cell_type": "code",
   "execution_count": 6,
   "metadata": {},
   "outputs": [],
   "source": [
    "def connect_H2(db,user,password,port=5435):\n",
    "    global connection\n",
    "    try:\n",
    "        connection\n",
    "    except:\n",
    "        connection = None\n",
    "    if connection != None:\n",
    "        try:\n",
    "            connection.close()\n",
    "            print(\"Connection closed\")\n",
    "        except  Error as e:\n",
    "            print(f\"The error '{e}' occurred\")\n",
    "    try:\n",
    "        # connection = sqlite3.connect(path,isolation_level='DEFERRED')\n",
    "        connection = psycopg2.connect(f\"dbname={db} user={user} password={password} host=localhost port={port}\")\n",
    "        print(\"Connection to H2 DB successful\")\n",
    "    except Exception as e:\n",
    "        print(f\"The error '{e}' occurred\")\n",
    "    return connection"
   ]
  },
  {
   "cell_type": "markdown",
   "metadata": {},
   "source": [
    "## execute"
   ]
  },
  {
   "cell_type": "code",
   "execution_count": 7,
   "metadata": {},
   "outputs": [],
   "source": [
    "def execute(connection, query, show=True,close=True):\n",
    "    try:\n",
    "        cursor = connection.cursor()\n",
    "        cursor.execute(query)\n",
    "        print(cursor.rowcount,\"rows\")\n",
    "        if show and cursor.rowcount and cursor.description is not None:\n",
    "            names = [desc[0] for desc in cursor.description]\n",
    "            lengths={}\n",
    "            for attr in names:\n",
    "                lengths[attr]=len(attr)\n",
    "            for ligne in cursor:\n",
    "                i=0\n",
    "                for attr in ligne:\n",
    "                    lengths[names[i]]=max(lengths[names[i]],len(str(attr).replace('\\n',' ')))\n",
    "                    i=i+1\n",
    "            print('|',end='')\n",
    "            for attr in names:\n",
    "                print(str(attr).ljust(lengths[attr]),end='|')\n",
    "            print()\n",
    "            print('|',end='')\n",
    "            for attr in names:\n",
    "                print(''.ljust(lengths[attr]+1,'-'),end='')\n",
    "            print()\n",
    "            cursor.execute(query)\n",
    "            for ligne in cursor:\n",
    "                i=0\n",
    "                print('|',end='')\n",
    "                for attr in ligne:\n",
    "                    print(str(attr).replace('\\n',' ')[:lengths[names[i]]].ljust(lengths[names[i]]),end='|')\n",
    "                    i=i+1\n",
    "                print()\n",
    "        if close:\n",
    "            cursor.close()\n",
    "    except Exception as e:\n",
    "        print(f\"The error '{e}' occurred\")\n",
    "        cursor=None\n",
    "    return cursor"
   ]
  },
  {
   "cell_type": "markdown",
   "metadata": {},
   "source": [
    "## show table"
   ]
  },
  {
   "cell_type": "code",
   "execution_count": 8,
   "metadata": {},
   "outputs": [],
   "source": [
    "def show_table(connection,table_name):\n",
    "\n",
    "    query=f\"\"\"\n",
    "SELECT table_name,\n",
    "       column_name,\n",
    "       data_type,\n",
    "       column_default,\n",
    "       is_nullable,\n",
    "       character_maximum_length,\n",
    "       numeric_precision\n",
    "FROM information_schema.columns \n",
    "where lower(table_name)  = '{table_name}'  \n",
    "\"\"\"\n",
    "    execute(connection,query)\n",
    "    "
   ]
  },
  {
   "cell_type": "markdown",
   "metadata": {},
   "source": [
    "## show_schema"
   ]
  },
  {
   "cell_type": "code",
   "execution_count": 9,
   "metadata": {},
   "outputs": [],
   "source": [
    "def show_schema(connection):\n",
    "\n",
    "    print('*********** Tables ************')\n",
    "    query=\"\"\"\n",
    "    select TABLE_NAME\n",
    "    from INFORMATION_SCHEMA.TABLES \n",
    "    where TABLE_SCHEMA = 'public'\n",
    "    \"\"\"\n",
    "    execute(connection,query,show=True)\n",
    "\n",
    "    print('\\n\\n*********** Domaines ************')\n",
    "    query=\"\"\"\n",
    "    SELECT domain_name,check_clause \n",
    "    FROM information_schema.domain_constraints a, information_schema.check_constraints b\n",
    "    where a.constraint_name=b.constraint_name\n",
    "    \"\"\"\n",
    "    execute(connection,query)\n",
    "\n",
    "    print('\\n\\n*********** Attributs ************')\n",
    "    query=f\"\"\"\n",
    "    SELECT c.table_name,\n",
    "           c.column_name,\n",
    "           c.data_type,\n",
    "           c.column_default,\n",
    "           c.is_nullable,\n",
    "           c.character_maximum_length,\n",
    "           c.numeric_precision\n",
    "    FROM INFORMATION_SCHEMA.TABLES t, information_schema.columns c\n",
    "    where t.table_name=c.table_name\n",
    "    and t.TABLE_SCHEMA = 'public'\n",
    "    \"\"\"\n",
    "    execute(connection,query)\n",
    "    "
   ]
  },
  {
   "cell_type": "markdown",
   "metadata": {
    "id": "e-tLIlA5DShX",
    "tags": []
   },
   "source": [
    "## Démarrage du Serveur H2"
   ]
  },
  {
   "cell_type": "code",
   "execution_count": 10,
   "metadata": {
    "id": "uYFrmROKQRhM",
    "tags": []
   },
   "outputs": [
    {
     "name": "stdout",
     "output_type": "stream",
     "text": [
      "La commande java est: java\n",
      "Le numero du port du serveur H2 est: 5008\n",
      "Les fichiers dans ./data:\n"
     ]
    }
   ],
   "source": [
    "import psycopg2\n",
    "import os\n",
    "import subprocess\n",
    "\n",
    "\n",
    "local_dir = \"./data\"\n",
    "os.makedirs(local_dir, exist_ok=True)\n",
    "\n",
    "# binaire java : décommenter sur jupyterhub Moodle\n",
    "# java='/opt/tljh/user/envs/pyspark/bin/java'\n",
    "java='java'\n",
    "\n",
    "# chaque utilisateur doit avoir un port différent!\n",
    "port = 5008\n",
    "\n",
    "print(f'La commande java est: {java}')\n",
    "print(f'Le numero du port du serveur H2 est: {port}')\n",
    "print(f'Les fichiers dans {local_dir}:')\n",
    "for f in os.listdir(local_dir):\n",
    "    print(f'   {f}')"
   ]
  },
  {
   "cell_type": "code",
   "execution_count": 2,
   "metadata": {
    "tags": []
   },
   "outputs": [
    {
     "name": "stdout",
     "output_type": "stream",
     "text": [
      "openjdk 11.0.24 2024-07-16\n",
      "OpenJDK Runtime Environment (build 11.0.24+8-post-Ubuntu-1ubuntu322.04)\n",
      "OpenJDK 64-Bit Server VM (build 11.0.24+8-post-Ubuntu-1ubuntu322.04, mixed mode, sharing)\n",
      "\n"
     ]
    }
   ],
   "source": [
    "output=subprocess.run(f'{java} --version',shell=True, text=True, stdout=subprocess.PIPE).stdout\n",
    "print(output)"
   ]
  },
  {
   "cell_type": "code",
   "execution_count": 3,
   "metadata": {
    "tags": []
   },
   "outputs": [],
   "source": [
    "# Défnir le port pour le serveur H2\n",
    "cmd=f\"{java} -Dh2.bindAddress=127.0.0.1  -cp  h2-2.1.214.jar:postgresql-42.6.0.jar org.h2.tools.Server -pg -pgPort {port}  -baseDir ./data -ifNotExists\"\n",
    "proc=subprocess.Popen(cmd,\n",
    "                      shell=True,\n",
    "                      text=True,\n",
    "                      stdout=subprocess.PIPE,\n",
    "                      stderr=subprocess.PIPE, \n",
    "                      )"
   ]
  },
  {
   "cell_type": "code",
   "execution_count": 11,
   "metadata": {
    "tags": []
   },
   "outputs": [
    {
     "name": "stdout",
     "output_type": "stream",
     "text": [
      "Serveur H2 en marche\n"
     ]
    }
   ],
   "source": [
    "try:\n",
    "    outs, errs = proc.communicate(timeout=1)\n",
    "    print(errs)\n",
    "except :\n",
    "    print(\"Serveur H2 en marche\")"
   ]
  },
  {
   "cell_type": "code",
   "execution_count": 12,
   "metadata": {
    "tags": []
   },
   "outputs": [
    {
     "name": "stdout",
     "output_type": "stream",
     "text": [
      "Connection to H2 DB successful\n"
     ]
    }
   ],
   "source": [
    "connection =  connect_H2(\"jo\"+f'{port}',\"ba\",\"ba\",port)"
   ]
  },
  {
   "cell_type": "markdown",
   "metadata": {
    "id": "oa_rwdtXDSha",
    "tags": []
   },
   "source": [
    "# Requêtes SQL"
   ]
  },
  {
   "cell_type": "code",
   "execution_count": 13,
   "metadata": {
    "colab": {
     "base_uri": "https://localhost:8080/"
    },
    "executionInfo": {
     "elapsed": 1486,
     "status": "ok",
     "timestamp": 1711532638404,
     "user": {
      "displayName": "Hubert Naacke",
      "userId": "03575281438400116050"
     },
     "user_tz": -60
    },
    "id": "oxlCUKk6DSha",
    "outputId": "fa2228b0-7cc2-4af4-d82a-48579a939fa7",
    "tags": []
   },
   "outputs": [
    {
     "name": "stdout",
     "output_type": "stream",
     "text": [
      "0 rows\n"
     ]
    }
   ],
   "source": [
    "with open(\"bd-jo-v2_H2.sql\",mode=\"r\",encoding='utf-8') as schemafile:\n",
    "  execute(connection, schemafile.read())\n",
    "  connection.commit()"
   ]
  },
  {
   "cell_type": "markdown",
   "metadata": {
    "id": "nbsrhjRmDShb"
   },
   "source": [
    "## Exemple"
   ]
  },
  {
   "cell_type": "markdown",
   "metadata": {
    "id": "AQ0AZErQDShb"
   },
   "source": [
    "Tous les athlètes"
   ]
  },
  {
   "cell_type": "code",
   "execution_count": 14,
   "metadata": {
    "colab": {
     "base_uri": "https://localhost:8080/"
    },
    "executionInfo": {
     "elapsed": 207,
     "status": "ok",
     "timestamp": 1711532726112,
     "user": {
      "displayName": "Hubert Naacke",
      "userId": "03575281438400116050"
     },
     "user_tz": -60
    },
    "id": "JJrH42LEDShb",
    "outputId": "2157bf24-415a-4664-ddf3-a0e4de3175b7",
    "scrolled": true,
    "tags": []
   },
   "outputs": [
    {
     "name": "stdout",
     "output_type": "stream",
     "text": [
      "2431 rows\n",
      "|aid |nomath                 |prenomath        |datenaissance|codepays|\n",
      "|----------------------------------------------------------------------\n",
      "|1   |BJOERNDALEN            |Ole Einar        |1974-01-27   |NOR     |\n",
      "|2   |BJOERGEN               |Marit            |1980-03-21   |NOR     |\n",
      "|3   |AN                     |Victor           |1985-11-23   |RUS     |\n",
      "|4   |PECHSTEIN              |Claudia          |1972-02-22   |GER     |\n",
      "|5   |WÜST                   |Ireen            |1986-04-01   |NED     |\n",
      "|6   |SVENDSEN               |Emil Hegle       |1985-07-12   |NOR     |\n",
      "|7   |AMMANN                 |Simon            |1981-06-25   |SUI     |\n",
      "|8   |KRAMER                 |Sven             |1986-04-23   |NED     |\n",
      "|9   |SABLIKOVA              |Martina          |1987-05-27   |CZE     |\n",
      "|10  |HAMELIN                |Charles          |1984-04-14   |CAN     |\n",
      "|11  |MORGENSTERN            |Thomas           |1986-10-30   |AUT     |\n",
      "|12  |HELLNER                |Marcus           |1985-11-25   |SWE     |\n",
      "|13  |HOEFL-RIESCH           |Maria            |1984-11-24   |GER     |\n",
      "|14  |DOMRACHEVA             |Darya            |1986-08-03   |BLR     |\n",
      "|15  |COLOGNA                |Dario            |1986-03-11   |SUI     |\n",
      "|16  |LOCH                   |Felix            |1989-07-24   |GER     |\n",
      "|17  |ZHOU                   |Yang             |1991-06-09   |CHN     |\n",
      "|18  |NYSTAD                 |Claudia          |1978-02-01   |GER     |\n",
      "|19  |SACHENBACHER-STEHLE    |Evi              |1980-11-27   |GER     |\n",
      "|20  |KALLA                  |Charlotte        |1987-07-22   |SWE     |\n",
      "|21  |ZAITSEVA               |Olga             |1978-05-16   |RUS     |\n",
      "|22  |PLYUSHCHENKO           |Evgeny           |1982-11-03   |RUS     |\n",
      "|23  |MAZE                   |Tina             |1983-05-02   |SLO     |\n",
      "|24  |DAVIS                  |Shani            |1982-08-13   |USA     |\n",
      "|25  |FOURCADE               |Martin           |1988-09-14   |FRA     |\n",
      "|26  |OLSSON                 |Johan            |1980-03-19   |SWE     |\n",
      "|27  |ZOEGGELER              |Armin            |1974-01-04   |ITA     |\n",
      "|28  |KOWALCZYK              |Justyna          |1983-01-23   |POL     |\n",
      "|29  |HENKEL                 |Andrea           |1977-12-10   |GER     |\n",
      "|30  |BERGER                 |Tora             |1981-03-18   |NOR     |\n",
      "|31  |NORTHUG                |Petter Jr.       |1986-01-06   |NOR     |\n",
      "|32  |DI CENTA               |Giorgio          |1972-07-10   |ITA     |\n",
      "|33  |KUZMINA                |Anastazia        |1984-08-28   |SVK     |\n",
      "|34  |PARK                   |Seung-Hi         |1992-03-28   |KOR     |\n",
      "|35  |STECHER                |Mario            |1977-07-17   |AUT     |\n",
      "|36  |RAICH                  |Benjamin         |1978-02-28   |AUT     |\n",
      "|37  |USTYUGOV               |Evgeny           |1985-06-04   |RUS     |\n",
      "|38  |RICHARDSSON            |Daniel           |1982-03-15   |SWE     |\n",
      "|39  |GEISENBERGER           |Natalie          |1988-02-05   |GER     |\n",
      "|40  |SCHOCH                 |Philipp          |1979-10-12   |SUI     |\n",
      "|41  |BILODEAU               |Alexandre        |1987-09-08   |CAN     |\n",
      "|42  |WHITE                  |Shaun            |1986-09-03   |USA     |\n",
      "|43  |LIGETY                 |Ted              |1984-08-31   |USA     |\n",
      "|44  |SANG-HWA               |Lee              |1989-02-25   |KOR     |\n",
      "|45  |STOCH                  |Kamil            |1987-05-25   |POL     |\n",
      "|46  |TER MORS               |Jorien           |1989-12-21   |NED     |\n",
      "|47  |GRAABAK                |Joergen          |1991-04-26   |NOR     |\n",
      "|48  |WILD                   |Vic              |1986-08-23   |RUS     |\n",
      "|49  |MILLER                 |Bode             |1977-10-12   |USA     |\n",
      "|50  |MANCUSO                |Julia            |1984-03-09   |USA     |\n",
      "|51  |MORRISON               |Denny            |1985-09-08   |CAN     |\n",
      "|52  |MOAN                   |Magnus Hovdal    |1983-08-26   |NOR     |\n",
      "|53  |HAAG                   |Anna             |1986-06-01   |SWE     |\n",
      "|54  |BECKERT                |Stephanie        |1988-05-30   |GER     |\n",
      "|55  |DE JONG                |Bob              |1976-11-13   |NED     |\n",
      "|56  |SCHLIERENZAUER         |Gregor           |1990-01-07   |AUT     |\n",
      "|57  |HUEFNER                |Tatjana          |1983-04-30   |GER     |\n",
      "|58  |JANSRUD                |Kjetil           |1985-08-28   |NOR     |\n",
      "|59  |SVINDAL                |Aksel Lund       |1982-12-26   |NOR     |\n",
      "|60  |JOHAUG                 |Therese          |1988-06-25   |NOR     |\n",
      "|61  |FRENZEL                |Eric             |1988-11-21   |GER     |\n",
      "|62  |BLOKHUIJSEN            |Jan              |1989-04-01   |NED     |\n",
      "|63  |SHIM                   |Suk-Hee          |1997-01-30   |KOR     |\n",
      "|64  |DEMONG                 |Bill             |1980-03-29   |USA     |\n",
      "|65  |NESBITT                |Christine        |1985-05-17   |CAN     |\n",
      "|66  |LEGKOV                 |Alexander        |1983-05-07   |RUS     |\n",
      "|67  |TETER                  |Hannah           |1987-01-27   |USA     |\n",
      "|68  |BEGG-SMITH             |Dale             |1985-01-18   |AUS     |\n",
      "|69  |BRIGHT                 |Torah            |1986-12-27   |AUS     |\n",
      "|70  |FENNINGER              |Anna             |1989-06-18   |AUT     |\n",
      "|71  |KRIUKOV                |Nikita           |1985-05-30   |RUS     |\n",
      "|72  |OESTBERG               |Ingvild Flugstad |1990-11-09   |NOR     |\n",
      "|73  |KIM                    |Yuna             |1990-09-05   |KOR     |\n",
      "|74  |VERWEIJ                |Koen             |1990-08-26   |NED     |\n",
      "|75  |WANK                   |Andreas          |1988-02-18   |GER     |\n",
      "|76  |GRIGOREV               |Vladimir         |1982-08-08   |RUS     |\n",
      "|77  |MO                     |Tae Bum          |1989-02-15   |KOR     |\n",
      "|78  |BIELER                 |Christoph        |1977-10-28   |AUT     |\n",
      "|79  |GRUBER                 |Bernhard         |1982-08-12   |AUT     |\n",
      "|80  |TUITERT                |Mark             |1980-04-04   |NED     |\n",
      "|81  |CLARK                  |Kelly            |1983-07-26   |USA     |\n",
      "|82  |ECKHOFF                |Tiril            |1990-05-21   |NOR     |\n",
      "|83  |LASSILA                |Lydia            |1982-01-17   |AUS     |\n",
      "|84  |GRISHIN                |Alexei           |1979-06-18   |BLR     |\n",
      "|85  |SOEDERGREN             |Anders           |1977-05-17   |SWE     |\n",
      "|86  |KEARNEY                |Hannah           |1986-02-26   |USA     |\n",
      "|87  |TRETYAKOV              |Aleksandr        |1985-04-19   |RUS     |\n",
      "|88  |INGEMARSDOTTER         |Ida              |1985-04-26   |SWE     |\n",
      "|89  |STEIRA                 |Kristin Stormer  |1981-04-30   |NOR     |\n",
      "|90  |REBENSBURG             |Viktoria         |1989-10-04   |GER     |\n",
      "|91  |SHIPULIN               |Anton            |1987-08-21   |RUS     |\n",
      "|92  |SEMERENKO              |Vita             |1986-01-18   |UKR     |\n",
      "|93  |BRODKA                 |Zbigniew         |1984-10-08   |POL     |\n",
      "|94  |BEEK                   |Lotte van        |1991-12-09   |NED     |\n",
      "|95  |MULDER                 |Michel           |1986-02-27   |NED     |\n",
      "|96  |KROG                   |Magnus           |1987-03-19   |NOR     |\n",
      "|97  |BERGSMA                |Jorrit           |1986-02-01   |NED     |\n",
      "|98  |TSUPER                 |Alla             |1979-04-16   |BLR     |\n",
      "|99  |ANDERSON               |Jasey Jay        |1975-04-13   |CAN     |\n",
      "|100 |RICKER                 |Maelle           |1978-12-02   |CAN     |\n",
      "|101 |MATT                   |Mario            |1979-04-09   |AUT     |\n",
      "|102 |JAUHOJARVI             |Sami             |1981-05-05   |FIN     |\n",
      "|103 |SAUERBREIJ             |Nicolien         |1979-07-31   |NED     |\n",
      "|104 |DEFAGO                 |Didier           |1977-10-02   |SUI     |\n",
      "|105 |CRAWFORD               |Chandra          |1983-11-19   |CAN     |\n",
      "|106 |FERRY                  |Bjoern           |1978-08-01   |SWE     |\n",
      "|107 |SEMERENKO              |Valj             |1986-01-18   |UKR     |\n",
      "|108 |LAMY CHAPPUIS          |Jason            |1986-09-09   |FRA     |\n",
      "|109 |VAULTIER               |Pierre           |1987-06-24   |FRA     |\n",
      "|110 |ANESI                  |Matteo           |1984-08-16   |ITA     |\n",
      "|111 |GROOTHUIS              |Stefan           |1981-11-23   |NED     |\n",
      "|112 |HATTESTAD              |Ola Vigen        |1982-04-19   |NOR     |\n",
      "|113 |KUSHNIR                |Anton            |1984-10-13   |BLR     |\n",
      "|114 |PODLADTCHIKOV          |Iouri            |1988-09-13   |SUI     |\n",
      "|115 |RAZZOLI                |Giuliano         |1984-12-18   |ITA     |\n",
      "|116 |GISIN                  |Dominique        |1985-06-04   |SUI     |\n",
      "|117 |JANKA                  |Carlo            |1986-10-15   |SUI     |\n",
      "|118 |VILETTA                |Sandro           |1986-01-23   |SUI     |\n",
      "|119 |VOLKOV                 |Alexey           |1988-04-05   |RUS     |\n",
      "|120 |DZHYMA                 |Juliya           |1990-09-19   |UKR     |\n",
      "|121 |PIDHRUSHNA             |Olena            |1987-01-09   |UKR     |\n",
      "|122 |BOE                    |Tarjei           |1988-07-29   |NOR     |\n",
      "|123 |FALLA                  |Maiken Caspersen |1990-08-13   |NOR     |\n",
      "|124 |SCHMID                 |Michael          |1984-03-18   |SUI     |\n",
      "|125 |KLEMETSEN              |Haavard          |1979-01-05   |NOR     |\n",
      "|126 |FARRINGTON             |Kaitlyn          |1989-12-18   |USA     |\n",
      "|127 |ANDERSON               |Jamie            |1990-09-13   |USA     |\n",
      "|128 |KUMMER                 |Patrizia         |1987-10-16   |SUI     |\n",
      "|129 |DUJMOVITS              |Julia            |1987-06-12   |AUT     |\n",
      "|130 |FREUND                 |Severin          |1988-05-11   |GER     |\n",
      "|131 |LEENSTRA               |Marrit           |1989-05-10   |NED     |\n",
      "|132 |GIROUX                 |Mathieu          |1986-02-03   |CAN     |\n",
      "|133 |MAKOWSKY               |Lucas            |1987-05-30   |CAN     |\n",
      "|134 |ELISTRATOV             |Semion           |1990-05-03   |RUS     |\n",
      "|135 |CHO                    |Ha-Ri            |1986-07-29   |KOR     |\n",
      "|136 |JEAN                   |Olivier          |1984-03-15   |CAN     |\n",
      "|137 |HAMELIN                |Francois         |1986-12-18   |CAN     |\n",
      "|138 |SOTNIKOVA              |Adelina          |1996-07-01   |RUS     |\n",
      "|139 |WELLINGER              |Andreas          |1995-08-28   |GER     |\n",
      "|140 |YARNOLD                |Elizabeth        |1988-10-31   |GBR     |\n",
      "|141 |WIKEN                  |Emma             |1989-05-01   |SWE     |\n",
      "|142 |NELSON                 |Lars             |1985-08-19   |SWE     |\n",
      "|143 |NISKANEN               |Iivo             |1992-01-12   |FIN     |\n",
      "|144 |HANYU                  |Yuzuru           |1994-12-07   |JPN     |\n",
      "|145 |LIPNITSKAYA            |Yulia            |1998-06-05   |RUS     |\n",
      "|146 |KOTSENBURG             |Sage             |1993-07-27   |USA     |\n",
      "|147 |SAMKOVA                |Eva              |1993-04-28   |CZE     |\n",
      "|148 |JIANROU                |Li               |1986-08-15   |CHN     |\n",
      "|149 |KIM                    |Alang            |1995-08-22   |KOR     |\n",
      "|150 |VOGT                   |Carina           |1992-02-05   |GER     |\n",
      "|151 |KRAUS                  |Marinus          |1991-02-13   |GER     |\n",
      "|152 |HONG                   |Zhang            |1988-04-12   |CHN     |\n",
      "|153 |MAYER                  |Matthias         |1990-06-09   |AUT     |\n",
      "|154 |SHIFFRIN               |Mikaela          |1995-03-13   |USA     |\n",
      "|155 |MALYSHKO               |Dmitry           |1987-03-19   |RUS     |\n",
      "|156 |CHAPUIS                |Jean Frederic    |1989-03-02   |FRA     |\n",
      "|157 |THOMPSON               |Marielle         |1992-06-15   |CAN     |\n",
      "|158 |DUFOUR-LAPOINTE        |Justine          |1994-03-25   |CAN     |\n",
      "|159 |HOWELL                 |Dara             |1994-08-23   |CAN     |\n",
      "|160 |WISE                   |David            |1990-06-30   |USA     |\n",
      "|161 |BOWMAN                 |Maddie           |1994-01-10   |USA     |\n",
      "|162 |CHRISTENSEN            |Joss             |1991-12-20   |USA     |\n",
      "|163 |KOSTELIC               |Ivica            |1979-11-23   |CRO     |\n",
      "|164 |SCHILD                 |Marlies          |1981-05-31   |AUT     |\n",
      "|165 |KIRCHEISEN             |Bjoern           |1983-08-06   |GER     |\n",
      "|166 |DEMTSCHENKO            |Albert           |1971-11-27   |RUS     |\n",
      "|167 |VYLEGZHANIN            |Maxim            |1982-10-18   |RUS     |\n",
      "|168 |ST-GELAIS              |Marianne         |1990-02-17   |CAN     |\n",
      "|169 |SAARINEN               |Aino Kaisa       |1979-02-01   |FIN     |\n",
      "|170 |ANGERER                |Tobias           |1977-04-12   |GER     |\n",
      "|171 |KASAI                  |Noriaki          |1972-06-06   |JPN     |\n",
      "|172 |HOSP                   |Nicole           |1983-11-06   |AUT     |\n",
      "|173 |SUMANN                 |Christoph        |1976-01-19   |AUT     |\n",
      "|174 |MORAVEC                |Ondrej           |1984-06-09   |CZE     |\n",
      "|175 |AHONEN                 |Janne            |1977-05-11   |FIN     |\n",
      "|176 |LI                     |Nina             |1983-01-10   |CHN     |\n",
      "|177 |TEICHMANN              |Axel             |1979-07-14   |GER     |\n",
      "|178 |DUKURS                 |Martins          |1984-03-31   |LAT     |\n",
      "|179 |VILUKHINA              |Olga             |1988-03-22   |RUS     |\n",
      "|180 |SOUKALOVA              |Gabriela         |1989-11-01   |CZE     |\n",
      "|181 |NISKANEN               |Kerttu           |1988-06-13   |FIN     |\n",
      "|182 |CHAN                   |Patrick          |1990-12-31   |CAN     |\n",
      "|183 |LESSER                 |Erik             |1988-05-17   |GER     |\n",
      "|184 |FONTANA                |Arianna          |1990-04-14   |ITA     |\n",
      "|185 |BAUER                  |Lukas            |1977-08-18   |CZE     |\n",
      "|186 |CELSKI                 |J.R.             |1990-07-17   |USA     |\n",
      "|187 |DASHINSKI              |Dmitri           |1977-11-09   |BLR     |\n",
      "|188 |MESOTITSCH             |Daniel           |1976-05-22   |AUT     |\n",
      "|189 |DROLET                 |Marie-Eve        |1982-02-03   |CAN     |\n",
      "|190 |FILBRICH               |Jens             |1979-03-13   |GER     |\n",
      "|191 |BOEHLER                |Stefanie         |1981-02-27   |GER     |\n",
      "|192 |KOBER                  |Amelie           |1987-11-16   |GER     |\n",
      "|193 |MALTAIS                |Dominique        |1980-11-09   |CAN     |\n",
      "|194 |SKOBREV                |Ivan             |1983-02-08   |RUS     |\n",
      "|195 |INNERHOFER             |Christof         |1984-12-17   |ITA     |\n",
      "|196 |WEIBRECHT              |Andrew           |1986-02-10   |USA     |\n",
      "|197 |SOUKUP                 |Jaroslav         |1982-07-12   |CZE     |\n",
      "|198 |EDER                   |Simon            |1983-02-23   |AUT     |\n",
      "|199 |BRUNET                 |Marie Laure      |1988-11-20   |FRA     |\n",
      "|200 |PETERSON               |Teodor           |1988-05-01   |SWE     |\n",
      "|201 |RYDZEK                 |Johannes         |1991-12-09   |GER     |\n",
      "|202 |KOSIR                  |Zan              |1984-04-11   |SLO     |\n",
      "|203 |KARL                   |Benjamin         |1985-10-16   |AUT     |\n",
      "|204 |PREVC                  |Peter            |1992-09-20   |SLO     |\n",
      "|205 |WOZNIAK                |Katarzyna        |1989-10-05   |POL     |\n",
      "|206 |BACHLEDA-CURUS         |Katarzyna        |1980-01-01   |POL     |\n",
      "|207 |ZLOTKOWSKA             |Luiza            |1986-05-25   |POL     |\n",
      "|208 |MALONE                 |Jordan           |1984-04-20   |USA     |\n",
      "|209 |RIESSLE                |Fabian           |1990-12-18   |GER     |\n",
      "|210 |SUNDBY                 |Martin Johnsrud  |1984-09-26   |NOR     |\n",
      "|211 |TIANYU                 |Han              |1996-06-03   |CHN     |\n",
      "|212 |DAJING                 |Wu               |1994-07-24   |CHN     |\n",
      "|213 |DORIN HABERT           |Marie            |1986-06-19   |FRA     |\n",
      "|214 |LANDERTINGER           |Dominik          |1988-03-13   |AUT     |\n",
      "|215 |TABATA                 |Maki             |1974-11-09   |JPN     |\n",
      "|216 |LODWICK                |Todd             |1976-11-21   |USA     |\n",
      "|217 |POUTIAINEN             |Tanja            |1980-04-06   |FIN     |\n",
      "|218 |NOVIKOV                |Sergei           |1979-04-27   |BLR     |\n",
      "|219 |WOLF                   |Jenny            |1979-01-31   |GER     |\n",
      "|220 |MOELLER                |David            |1982-01-13   |GER     |\n",
      "|221 |TAKEUCHI               |Tomoka           |1983-12-21   |JPN     |\n",
      "|222 |SCHOCH                 |Simon            |1978-10-07   |SUI     |\n",
      "|223 |JACOBELLIS             |Lindsey          |1985-08-19   |USA     |\n",
      "|224 |WATABE                 |Akito            |1988-05-26   |JPN     |\n",
      "|225 |RUDMAN                 |Shelley          |1981-03-23   |GBR     |\n",
      "|226 |NAGASHIMA              |Keiichiro        |1982-04-20   |JPN     |\n",
      "|227 |ANTHONIOZ              |Deborah          |1978-08-29   |FRA     |\n",
      "|228 |HERBST                 |Reinfried        |1978-10-11   |AUT     |\n",
      "|229 |REITHMAYER             |Nina             |1984-06-08   |AUT     |\n",
      "|230 |HIRSCHER               |Marcel           |1989-03-02   |AUT     |\n",
      "|231 |MISSILLIER             |Steve            |1984-12-12   |FRA     |\n",
      "|232 |KHRUSTALEVA            |Elena            |1980-09-28   |KAZ     |\n",
      "|233 |SCHEMPP                |Simon            |1988-11-14   |GER     |\n",
      "|234 |PEIFFER                |Arnd             |1987-03-18   |GER     |\n",
      "|235 |VITKOVA                |Veronika         |1988-12-09   |CZE     |\n",
      "|236 |GASPARIN               |Selina           |1984-04-03   |SUI     |\n",
      "|237 |BESSMERTNYKH           |Alexander        |1986-09-15   |RUS     |\n",
      "|238 |ZELLER                 |Katrin           |1979-03-01   |GER     |\n",
      "|239 |KYLLOENEN              |Anne             |1987-11-30   |FIN     |\n",
      "|240 |LAHTEENMAKI            |Krista           |1990-12-12   |FIN     |\n",
      "|241 |MORRIS                 |David            |1984-08-31   |AUS     |\n",
      "|242 |XU                     |Mengtao          |1990-07-12   |CHN     |\n",
      "|243 |DUFOUR-LAPOINTE        |Chloe            |1991-12-02   |CAN     |\n",
      "|244 |SERWA                  |Kelsey           |1989-09-01   |CAN     |\n",
      "|245 |MATT                   |Andreas          |1982-10-19   |AUT     |\n",
      "|246 |BOVOLENTA              |Arnaud           |1988-09-06   |FRA     |\n",
      "|247 |ASADA                  |Mao              |1990-09-25   |JPN     |\n",
      "|248 |REYNOLDS               |Kevin            |1990-07-23   |CAN     |\n",
      "|249 |IVANOVA                |Tatiana          |1991-02-16   |RUS     |\n",
      "|250 |ILYUKHINA              |Ekaterina        |1987-06-19   |RUS     |\n",
      "|251 |OLYUNIN                |Nikolay          |1991-10-23   |RUS     |\n",
      "|252 |SANDBECH               |Staale           |1993-06-03   |NOR     |\n",
      "|253 |KARSTENS               |Anke             |1985-10-13   |GER     |\n",
      "|254 |PIIROINEN              |Peetu            |1988-02-15   |FIN     |\n",
      "|255 |GALMARINI              |Nevin            |1986-12-04   |SUI     |\n",
      "|256 |PIKUS-PACE             |Noelle           |1982-12-08   |USA     |\n",
      "|257 |CZERWONKA              |Natalia          |1988-10-20   |POL     |\n",
      "|258 |FATKULINA              |Olga             |1990-01-23   |RUS     |\n",
      "|259 |KODAIRA                |Nao              |1986-05-26   |JPN     |\n",
      "|260 |HOZUMI                 |Masako           |1986-09-11   |JPN     |\n",
      "|261 |SMEEKENS               |Jan              |1987-02-11   |NED     |\n",
      "|262 |KUCK                   |Jonathan         |1990-03-14   |USA     |\n",
      "|263 |HANSEN                 |Brian            |1990-09-03   |USA     |\n",
      "|264 |MALTAIS                |Valerie          |1990-07-04   |CAN     |\n",
      "|265 |ALVAREZ                |Eduardo          |1990-01-30   |USA     |\n",
      "|266 |TSCHARNKE              |Tim              |1989-12-13   |GER     |\n",
      "|267 |JAPAROV                |Dmitriy          |1986-01-01   |RUS     |\n",
      "|268 |OSMOND                 |Kaetlyn          |1995-12-05   |CAN     |\n",
      "|269 |HIRANO                 |Ayumu            |1998-11-29   |JPN     |\n",
      "|270 |RUKAJARVI              |Enni             |1990-05-13   |FIN     |\n",
      "|271 |HEWITT                 |Jessica          |1986-10-09   |CAN     |\n",
      "|272 |KEXIN                  |Fan              |1993-09-19   |CHN     |\n",
      "|273 |CREVELING              |Chris            |1986-12-29   |USA     |\n",
      "|274 |DIETHART               |Thomas           |1992-02-25   |AUT     |\n",
      "|275 |HAYBOECK               |Michael          |1991-03-05   |AUT     |\n",
      "|276 |IRASCHKO-STOLZ         |Daniela          |1983-11-21   |AUT     |\n",
      "|277 |JOO                    |Hyong Jun        |1991-04-22   |KOR     |\n",
      "|278 |KIM                    |Cheol Min        |1992-11-29   |KOR     |\n",
      "|279 |LEE                    |Seung Hoon       |1988-03-06   |KOR     |\n",
      "|280 |SHUMILOVA              |Ekaterina        |1986-10-25   |RUS     |\n",
      "|281 |ROMANOVA               |Yana             |1983-05-11   |RUS     |\n",
      "|282 |BOEHM                  |Daniel           |1986-06-16   |GER     |\n",
      "|283 |MARTINOD               |Marie            |1984-07-20   |FRA     |\n",
      "|284 |RIDDLE                 |Mike             |1986-06-17   |CAN     |\n",
      "|285 |KINGSBURY              |Mikael           |1992-07-24   |CAN     |\n",
      "|286 |KENWORTHY              |Gus              |1991-10-01   |USA     |\n",
      "|287 |LOGAN                  |Devin            |1993-02-17   |USA     |\n",
      "|288 |RUBENIS                |Martins          |1978-09-26   |LAT     |\n",
      "|289 |BARDAL                 |Anders           |1982-08-24   |NOR     |\n",
      "|290 |GOERGL                 |Elisabeth        |1981-02-20   |AUT     |\n",
      "|291 |JOENSSON               |Emil             |1985-08-15   |SWE     |\n",
      "|292 |BOER                   |Margot           |1985-08-07   |NED     |\n",
      "|293 |GRAF                   |Olga             |1983-07-15   |RUS     |\n",
      "|294 |LOBYSHEVA              |Yekaterina       |1985-03-13   |RUS     |\n",
      "|295 |MAGAL                  |Jiri             |1977-04-11   |CZE     |\n",
      "|296 |HOLLINGSWORTH          |Mellisa          |1980-10-04   |CAN     |\n",
      "|297 |ROPONEN                |Riitta-Liisa     |1978-05-06   |FIN     |\n",
      "|298 |TAKAHASHI              |Daisuke          |1986-03-16   |JPN     |\n",
      "|299 |BUAAS                  |Kjersti          |1982-01-05   |NOR     |\n",
      "|300 |GREGORIN               |Teja             |1980-06-29   |SLO     |\n",
      "|301 |KRANJEC                |Robert           |1981-07-16   |SLO     |\n",
      "|302 |HURAJT                 |Pavol            |1978-02-04   |SVK     |\n",
      "|303 |FESSEL                 |Nicole           |1983-03-19   |GER     |\n",
      "|304 |BØKKO                  |Håvard           |1987-02-02   |NOR     |\n",
      "|305 |HAMLIN                 |Erin             |1986-11-19   |USA     |\n",
      "|306 |HUDEC                  |Jan              |1981-08-19   |CAN     |\n",
      "|307 |KOIVURANTA             |Anssi            |1988-07-03   |FIN     |\n",
      "|308 |MYHRER                 |Andre            |1983-01-11   |SWE     |\n",
      "|309 |SMYSHLYAEV             |Alexandr         |1987-03-16   |RUS     |\n",
      "|310 |ITO                    |Daiki            |1985-12-27   |JPN     |\n",
      "|311 |KATO                   |Joji             |1985-02-06   |JPN     |\n",
      "|312 |GAILLARD               |Jean Marc        |1980-10-07   |FRA     |\n",
      "|313 |LIU                    |Zhongqing        |1985-11-10   |CHN     |\n",
      "|314 |KOSTNER                |Carolina         |1987-02-08   |ITA     |\n",
      "|315 |PITTIN                 |Alessandro       |1990-02-11   |ITA     |\n",
      "|316 |DE LE RUE              |Paul-Henri       |1984-04-17   |FRA     |\n",
      "|317 |WANG                   |Beixing          |1985-03-10   |CHN     |\n",
      "|318 |KLEIBEUKER             |Carien           |1978-03-12   |NED     |\n",
      "|319 |FLATLAND               |Ann Kristin      |1982-11-06   |NOR     |\n",
      "|320 |ZETTEL                 |Kathrin          |1986-08-05   |AUT     |\n",
      "|321 |KREINER                |Marion           |1981-05-04   |AUT     |\n",
      "|322 |FABJAN                 |Vesna            |1985-03-13   |SLO     |\n",
      "|323 |NIEDZWIEDZKI           |Konrad           |1985-01-02   |POL     |\n",
      "|324 |GUT                    |Lara             |1991-04-27   |SUI     |\n",
      "|325 |PINTURAULT             |Alexis           |1991-03-20   |FRA     |\n",
      "|326 |HOFER                  |Lukas            |1989-09-30   |ITA     |\n",
      "|327 |OBERHOFER              |Karin            |1985-11-03   |ITA     |\n",
      "|328 |WIERER                 |Dorothea         |1990-04-03   |ITA     |\n",
      "|329 |SKARDINO               |Nadezhda         |1985-03-27   |BLR     |\n",
      "|330 |BEATRIX                |Jean Guillaume   |1988-03-24   |FRA     |\n",
      "|331 |PETUKHOV               |Alexey           |1983-06-28   |RUS     |\n",
      "|332 |CHERNOUSOV             |Ilia             |1986-08-07   |RUS     |\n",
      "|333 |KHAZOVA                |Irina            |1984-03-20   |RUS     |\n",
      "|334 |JAKS                   |Martin           |1986-09-06   |CZE     |\n",
      "|335 |DUVILLARD              |Robin            |1983-12-22   |FRA     |\n",
      "|336 |MANIFICAT              |Maurice          |1986-04-04   |FRA     |\n",
      "|337 |PERRILLAT BOITEUX      |Ivan             |1985-12-28   |FRA     |\n",
      "|338 |JIA                    |Zongyang         |1991-03-01   |CHN     |\n",
      "|339 |HOLMLUND               |Anna             |1987-10-03   |SWE     |\n",
      "|340 |JOSSERAND              |Marion           |1986-10-06   |FRA     |\n",
      "|341 |TEN                    |Denis            |1993-06-13   |KAZ     |\n",
      "|342 |ABBOTT                 |Jeremy           |1985-06-05   |USA     |\n",
      "|343 |WAGNER                 |Ashley           |1991-05-16   |USA     |\n",
      "|344 |TIRUMA                 |Eliza            |1990-08-21   |LAT     |\n",
      "|345 |EDELMANN               |Tino             |1985-04-13   |GER     |\n",
      "|346 |KLAPFER                |Lukas            |1985-12-25   |AUT     |\n",
      "|347 |ZAVARZINA              |Alena            |1989-05-27   |RUS     |\n",
      "|348 |RAMOIN                 |Tony             |1988-12-23   |FRA     |\n",
      "|349 |JACOBSEN               |Anders           |1985-02-17   |NOR     |\n",
      "|350 |TAKEUCHI               |Taku             |1987-05-20   |JPN     |\n",
      "|351 |HUBER                  |Anja             |1983-05-20   |GER     |\n",
      "|352 |ANTOINE                |Matthew          |1985-04-02   |USA     |\n",
      "|353 |SZYMANSKI              |Jan              |1989-03-02   |POL     |\n",
      "|354 |SKOKOVA                |Yuliya           |1982-12-01   |RUS     |\n",
      "|355 |LEE                    |Kang Seok        |1985-02-28   |KOR     |\n",
      "|356 |SHIKHOVA               |Yekaterina       |1985-06-25   |RUS     |\n",
      "|357 |VAN RIESSEN            |Laurine          |1987-08-10   |NED     |\n",
      "|358 |MULDER                 |Ronald           |1986-02-27   |NED     |\n",
      "|359 |KNEGT                  |Sjinkie          |1989-07-05   |NED     |\n",
      "|360 |VIVIANI                |Elena            |1992-10-10   |ITA     |\n",
      "|361 |PERETTI                |Lucia            |1990-11-14   |ITA     |\n",
      "|362 |VALCEPINA              |Martina          |1992-06-04   |ITA     |\n",
      "|363 |DUDEK                  |Alyson           |1990-07-30   |USA     |\n",
      "|364 |HIRAOKA                |Taku             |1995-10-29   |JPN     |\n",
      "|365 |NIKITINA               |Elena            |1992-11-02   |RUS     |\n",
      "|366 |WENG                   |Heidi            |1991-07-20   |NOR     |\n",
      "|367 |NILSSON                |Stina            |1993-06-24   |SWE     |\n",
      "|368 |HERRMANN               |Denise           |1988-12-20   |GER     |\n",
      "|369 |GOLD                   |Gracie           |1995-08-17   |USA     |\n",
      "|370 |BROWN                  |Jason            |1994-12-15   |USA     |\n",
      "|371 |TRESPEUCH              |Chloe            |1994-04-13   |FRA     |\n",
      "|372 |MCMORRIS               |Mark             |1993-12-09   |CAN     |\n",
      "|373 |DEIBOLD                |Alex             |1986-05-08   |USA     |\n",
      "|374 |JONES                  |Jenny            |1980-07-03   |GBR     |\n",
      "|375 |COURNOYER              |Charle           |1991-06-11   |CAN     |\n",
      "|376 |CHEN                   |Dequan           |1995-08-30   |CHN     |\n",
      "|377 |SHI                    |Jingnan          |1994-04-07   |CHN     |\n",
      "|378 |SHIMIZU                |Reruhi           |1993-12-04   |JPN     |\n",
      "|379 |MATTEL                 |Coline           |1995-11-03   |FRA     |\n",
      "|380 |KRISTOFFERSEN          |Henrik           |1994-07-02   |NOR     |\n",
      "|381 |STRACHOVA              |Sarka            |1985-02-11   |CZE     |\n",
      "|382 |GARANICHEV             |Evgeniy          |1988-02-13   |RUS     |\n",
      "|383 |WINDISCH               |Dominik          |1989-11-06   |ITA     |\n",
      "|384 |FAK                    |Jakov            |1987-08-01   |SLO     |\n",
      "|385 |ONOZUKA                |Ayana            |1988-03-23   |JPN     |\n",
      "|386 |MIDOL                  |Jonathan         |1988-01-13   |FRA     |\n",
      "|387 |ROLLAND                |Kevin            |1989-08-10   |FRA     |\n",
      "|388 |GOEPPER                |Nicholas         |1994-03-14   |USA     |\n",
      "|389 |LAMARRE                |Kim              |1988-05-20   |CAN     |\n",
      "|390 |AHN                    |Viktor           |1985-10-20   |RUS     |\n",
      "|391 |SKARDZINA              |Nadzeya          |1985-03-28   |BLR     |\n",
      "|392 |TOFALVI                |Eva              |None         |ROU     |\n",
      "|393 |CHOI                   |Heung-Chul       |None         |KOR     |\n",
      "|394 |KIM                    |Hyun-Ki          |None         |KOR     |\n",
      "|395 |BAJCICAK               |Martin           |None         |SVK     |\n",
      "|396 |SHEVCHENKO             |Valentina        |None         |UKR     |\n",
      "|397 |UEMURA                 |Aiko             |None         |JPN     |\n",
      "|398 |DERYZEMLYA             |Andriy           |None         |UKR     |\n",
      "|399 |TOBRELUTS              |Indrek           |None         |EST     |\n",
      "|400 |MATURA                 |Jan              |None         |CZE     |\n",
      "|401 |SIMARI BIRKNER         |Macarena         |None         |ARG     |\n",
      "|402 |KIRCHGASSER            |Michaela         |None         |AUT     |\n",
      "|403 |WINDISCH               |Veronika         |None         |AUT     |\n",
      "|404 |CLARK RIBEIRO          |Isabel           |None         |BRA     |\n",
      "|405 |RUIZ CASTILLO          |Carolina         |None         |ESP     |\n",
      "|406 |SYKARAS                |Kostas           |None         |GRE     |\n",
      "|407 |CHEBOTKO               |Nikolay          |None         |KAZ     |\n",
      "|408 |GWIZDON                |Magdalena        |None         |POL     |\n",
      "|409 |LOBKOV                 |Dmitry           |None         |RUS     |\n",
      "|410 |CETINKAYA              |Kelime           |None         |TUR     |\n",
      "|411 |OGLAGO                 |Sabahattin       |None         |TUR     |\n",
      "|412 |SIMARI BIRKNER         |Cristian Javier  |None         |ARG     |\n",
      "|413 |OWENS                  |Jenny            |None         |AUS     |\n",
      "|414 |KROELL                 |Klaus            |None         |AUT     |\n",
      "|415 |DENIFL                 |Wilhelm          |None         |AUT     |\n",
      "|416 |PROMMEGGER             |Andreas          |None         |AUT     |\n",
      "|417 |RIEGLER                |Claudia          |None         |AUT     |\n",
      "|418 |KLETCHEROV             |Michail          |None         |BUL     |\n",
      "|419 |JANDA                  |Jakub            |None         |CZE     |\n",
      "|420 |VERNER                 |Tomas            |None         |CZE     |\n",
      "|421 |NOVOTNA                |Katerina         |None         |CZE     |\n",
      "|422 |BANK                   |Ondrej           |None         |CZE     |\n",
      "|423 |KRAUS                  |Tomas            |None         |CZE     |\n",
      "|424 |CHURAVY                |Pavel            |None         |CZE     |\n",
      "|425 |SUDOVA                 |Nikola           |None         |CZE     |\n",
      "|426 |SLAVIK                 |Tomas            |None         |CZE     |\n",
      "|427 |MOELLER                |Martin           |None         |DEN     |\n",
      "|428 |LESSING                |Roland           |None         |EST     |\n",
      "|429 |KOSKELA                |Pekka            |None         |FIN     |\n",
      "|430 |LACROIX                |Sebastian        |None         |FRA     |\n",
      "|431 |LIZEROUX               |Julien           |None         |FRA     |\n",
      "|432 |JOUBERT                |Brian            |None         |FRA     |\n",
      "|433 |ALCOTT                 |Chimene          |None         |GBR     |\n",
      "|434 |BROMLEY                |Kristan          |None         |GBR     |\n",
      "|435 |ELEY                   |Jon              |None         |GBR     |\n",
      "|436 |BIRNBACHER             |Andreas          |None         |GER     |\n",
      "|437 |WISCHNEWSKI            |Anke             |None         |GER     |\n",
      "|438 |FISCHNALLER            |Roland           |None         |ITA     |\n",
      "|439 |PONZA                  |Michela          |None         |ITA     |\n",
      "|440 |SIMONCELLI             |Davide           |None         |ITA     |\n",
      "|441 |KARBON                 |Denise           |None         |ITA     |\n",
      "|442 |SASAKI                 |Akira            |None         |JPN     |\n",
      "|443 |YUASA                  |Naoki            |None         |JPN     |\n",
      "|444 |WATASE                 |Yuta             |None         |JPN     |\n",
      "|445 |ISA                    |Hidenori         |None         |JPN     |\n",
      "|446 |DUKURS                 |Tomass           |None         |LAT     |\n",
      "|447 |RASIMOVICIUTE          |Diana            |None         |LTU     |\n",
      "|448 |VALENCIC               |Mitja            |None         |SLO     |\n",
      "|449 |MARIC                  |Janez            |None         |SLO     |\n",
      "|450 |AUFDENBLATTEN          |Fraenzi          |None         |SUI     |\n",
      "|451 |LARSSON                |Markus           |None         |SWE     |\n",
      "|452 |BERGMAN                |Carl Johan       |None         |SWE     |\n",
      "|453 |DIDENKO                |Nadiya           |None         |UKR     |\n",
      "|454 |BAILEY                 |Lowell           |None         |USA     |\n",
      "|455 |RANDALL                |Kikkan           |None         |USA     |\n",
      "|456 |FREEMAN                |Kris             |None         |USA     |\n",
      "|457 |KOOS                   |Torin            |None         |USA     |\n",
      "|458 |SULLIVAN               |Marco            |None         |USA     |\n",
      "|459 |REITER                 |Justin           |None         |USA     |\n",
      "|460 |MOURAO                 |Jaqueline        |None         |BRA     |\n",
      "|461 |BARAHONA               |Noelle           |None         |CHI     |\n",
      "|462 |NEUREUTHER             |Felix            |None         |GER     |\n",
      "|463 |ABRAMASHVILI           |Iason            |None         |GEO     |\n",
      "|464 |GEDEVANISHVILI         |Elene            |None         |GEO     |\n",
      "|465 |STRAMATURARU           |Raluca           |None         |ROU     |\n",
      "|466 |BUSSLER                |Patrick          |None         |GER     |\n",
      "|467 |JOERG                  |Selina           |None         |GER     |\n",
      "|468 |HESSE                  |Judith           |None         |GER     |\n",
      "|469 |LEHMANN                |Robert           |None         |GER     |\n",
      "|470 |CHATAIGNIER            |Maxime           |None         |FRA     |\n",
      "|471 |FAUCONNET              |Thibaut          |None         |FRA     |\n",
      "|472 |PIERRON                |Veronique        |None         |FRA     |\n",
      "|473 |BARNES                 |Lanny            |None         |USA     |\n",
      "|474 |BURKE                  |Tim              |None         |USA     |\n",
      "|475 |NEWELL                 |Andrew           |None         |USA     |\n",
      "|476 |JOHNSON                |Anders           |None         |USA     |\n",
      "|477 |GUAY                   |Erik             |None         |CAN     |\n",
      "|478 |JANYK                  |Michael          |None         |CAN     |\n",
      "|479 |OSBORNE-PARADIS        |Manuel           |None         |CAN     |\n",
      "|480 |KOCHER                 |Zina             |None         |CAN     |\n",
      "|481 |LEGUELLEC              |Jean Philippe    |None         |CAN     |\n",
      "|482 |AMMAR                  |Amanda           |None         |CAN     |\n",
      "|483 |KERSHAW                |Devon            |None         |CAN     |\n",
      "|484 |CHEREPANOV             |Sergey           |None         |KAZ     |\n",
      "|485 |ROBICHAUD              |Audrey           |None         |CAN     |\n",
      "|486 |BARMASHOV              |Dmitriy          |None         |KAZ     |\n",
      "|487 |REIHERD                |Dmitriy          |None         |KAZ     |\n",
      "|488 |RYBALOVA               |Darya            |None         |KAZ     |\n",
      "|489 |GOUGH                  |Alex             |None         |CAN     |\n",
      "|490 |LIPSCOMB               |Crispin          |None         |CAN     |\n",
      "|491 |MARTIN                 |Brad             |None         |CAN     |\n",
      "|492 |NICOLL                 |Mercedes         |None         |CAN     |\n",
      "|493 |SCHUSSLER              |Brittany         |None         |CAN     |\n",
      "|494 |BABENKO                |Dmitry           |None         |KAZ     |\n",
      "|495 |ZHIGIN                 |Aleksandr        |None         |KAZ     |\n",
      "|496 |KRYZL                  |Krystof          |None         |CZE     |\n",
      "|497 |SLESINGR               |Michal           |None         |CZE     |\n",
      "|498 |KUMMEL                 |Peeter           |None         |EST     |\n",
      "|499 |REHEMAA                |Aivar            |None         |EST     |\n",
      "|500 |NOUSIAINEN             |Ville            |None         |FIN     |\n",
      "|501 |GLEBOVA                |Elena            |None         |EST     |\n",
      "|502 |RYYNAENEN              |Janne            |None         |FIN     |\n",
      "|503 |KORPI                  |Janne            |None         |FIN     |\n",
      "|504 |HAJEK                  |Antonin          |None         |CZE     |\n",
      "|505 |MATVEEVA               |Natalia          |None         |RUS     |\n",
      "|506 |COOK                   |Emily            |None         |USA     |\n",
      "|507 |KORNILOV               |Denis            |None         |RUS     |\n",
      "|508 |VASSILIEV              |Dmitry           |None         |RUS     |\n",
      "|509 |TUDEGESHEVA            |Ekaterina        |None         |RUS     |\n",
      "|510 |HOLLAND                |Nate             |None         |USA     |\n",
      "|511 |ROMMEL                 |Frank            |None         |GER     |\n",
      "|512 |UHLAENDER              |Katie            |None         |USA     |\n",
      "|513 |FREDRICKS              |Tucker           |None         |USA     |\n",
      "|514 |LAMB                   |Maria            |None         |USA     |\n",
      "|515 |BORODULINA             |Tatiana          |None         |RUS     |\n",
      "|516 |TREJBAL                |Filip            |None         |CZE     |\n",
      "|517 |VRABLIK                |Martin           |None         |CZE     |\n",
      "|518 |GANTNEROVA             |Jana             |None         |SVK     |\n",
      "|519 |LINDELL-VIKARBY        |Jessica          |None         |SWE     |\n",
      "|520 |PIETILAE-HOLMNER       |Maria            |None         |SWE     |\n",
      "|521 |COOK                   |Stacey           |None         |USA     |\n",
      "|522 |NYMAN                  |Steven           |None         |USA     |\n",
      "|523 |STIEGLER               |Resi             |None         |USA     |\n",
      "|524 |MAKARAINEN             |Kaisa            |None         |FIN     |\n",
      "|525 |GEREKOVA               |Jana             |None         |SVK     |\n",
      "|526 |KAZAR                  |Matej            |None         |SVK     |\n",
      "|527 |MATIASKO               |Miroslav         |None         |SVK     |\n",
      "|528 |KOZISEK                |Dusan            |None         |CZE     |\n",
      "|529 |ISHIDA                 |Masako           |None         |JPN     |\n",
      "|530 |ONDA                   |Yuichi           |None         |JPN     |\n",
      "|531 |OTCENAS                |Martin           |None         |SVK     |\n",
      "|532 |PROCHAZKOVA            |Alena            |None         |SVK     |\n",
      "|533 |NORGREN                |Britta           |None         |SWE     |\n",
      "|534 |ITO                    |Miki             |None         |JPN     |\n",
      "|535 |SPETT                  |Per              |None         |SWE     |\n",
      "|536 |NINIS                  |Jozef            |None         |SVK     |\n",
      "|537 |GILLINGS               |Zoe              |None         |GBR     |\n",
      "|538 |FUJIMORI               |Yuka             |None         |JPN     |\n",
      "|539 |POUTALA                |Mika             |None         |FIN     |\n",
      "|540 |OIKAWA                 |Yuya             |None         |JPN     |\n",
      "|541 |NIGG                   |Marina           |None         |LIE     |\n",
      "|542 |WEIRATHER              |Tina             |None         |LIE     |\n",
      "|543 |HALLENBARTER           |Simon            |None         |SUI     |\n",
      "|544 |GRYGORENKO             |Kateryna         |None         |UKR     |\n",
      "|545 |LAMBERT                |Thomas           |None         |SUI     |\n",
      "|546 |ULRICH                 |Renato           |None         |SUI     |\n",
      "|547 |ABRAMENKO              |Oleksandr        |None         |UKR     |\n",
      "|548 |KOCHER                 |Martina          |None         |SUI     |\n",
      "|549 |KIS                    |Andriy           |None         |UKR     |\n",
      "|550 |KIRKOVA                |Maria            |None         |BUL     |\n",
      "|551 |BARTHET                |Anne-Sophie      |None         |FRA     |\n",
      "|552 |FANARA                 |Thomas           |None         |FRA     |\n",
      "|553 |GRANGE                 |Jean-Baptiste    |None         |FRA     |\n",
      "|554 |MARCHAND-ARVIER        |Marie            |None         |FRA     |\n",
      "|555 |THEAUX                 |Adrien           |None         |FRA     |\n",
      "|556 |COSTAZZA               |Chiara           |None         |ITA     |\n",
      "|557 |FANCHINI               |Elena            |None         |ITA     |\n",
      "|558 |FANCHINI               |Nadia            |None         |ITA     |\n",
      "|559 |FILL                   |Peter            |None         |ITA     |\n",
      "|560 |HEEL                   |Werner           |None         |ITA     |\n",
      "|561 |MERIGHETTI             |Daniela          |None         |ITA     |\n",
      "|562 |MOELGG                 |Manfred          |None         |ITA     |\n",
      "|563 |STUFFER                |Verena           |None         |ITA     |\n",
      "|564 |THALER                 |Patrick          |None         |ITA     |\n",
      "|565 |FOURCADE               |Simon            |None         |FRA     |\n",
      "|566 |WINDISCH               |Markus           |None         |ITA     |\n",
      "|567 |DE LORENZI             |Christian        |None         |ITA     |\n",
      "|568 |BOTTOMLEY              |Esther           |None         |AUS     |\n",
      "|569 |FISCHER                |Remo             |None         |SUI     |\n",
      "|570 |LIVERS                 |Toni             |None         |SUI     |\n",
      "|571 |PERL                   |Curdin           |None         |SUI     |\n",
      "|572 |LI                     |Hongxue          |None         |CHN     |\n",
      "|573 |MAN                    |Dandan           |None         |CHN     |\n",
      "|574 |REN                    |Long             |None         |CHN     |\n",
      "|575 |CLARA                  |Roland           |None         |ITA     |\n",
      "|576 |PASINI                 |Fabio            |None         |ITA     |\n",
      "|577 |LEE                    |Chae-Won         |None         |KOR     |\n",
      "|578 |CHENG                  |Shuang           |None         |CHN     |\n",
      "|579 |ZHANG                  |Xin              |None         |CHN     |\n",
      "|580 |MATIZ                  |Giacomo          |None         |ITA     |\n",
      "|581 |SCANZIO                |Deborah          |None         |ITA     |\n",
      "|582 |BRAUD                  |Francois         |None         |FRA     |\n",
      "|583 |LAHEURTE               |Maxime           |None         |FRA     |\n",
      "|584 |BRESADOLA              |Davide           |None         |ITA     |\n",
      "|585 |MICHIELLI              |Giuseppe         |None         |ITA     |\n",
      "|586 |CRAWFORD               |Holly            |None         |AUS     |\n",
      "|587 |JEKOVA                 |Alexandra        |None         |BUL     |\n",
      "|588 |SUN                    |Zhifeng          |None         |CHN     |\n",
      "|589 |RODRIGUEZ              |Sophie           |None         |FRA     |\n",
      "|590 |BOCCACINI              |Corinna          |None         |ITA     |\n",
      "|591 |ERLACHER               |Meinhard         |None         |ITA     |\n",
      "|592 |MAAS                   |Cheryl           |None         |NED     |\n",
      "|593 |COLLOREDO              |Sebastian        |None         |ITA     |\n",
      "|594 |STEELE                 |Michelle         |None         |AUS     |\n",
      "|595 |OIOLI                  |Maurizio         |None         |ITA     |\n",
      "|596 |CONFORTOLA             |Yuri             |None         |ITA     |\n",
      "|597 |KERSTHOLT              |Niels            |None         |NED     |\n",
      "|598 |ZHANG                  |Shuang           |None         |CHN     |\n",
      "|599 |LEE                    |Bo Ra            |None         |KOR     |\n",
      "|600 |LEE                    |Kyou-Hyuk        |None         |KOR     |\n",
      "|601 |SANDFORD               |Ben              |None         |NZL     |\n",
      "|602 |LOESETH                |Nina             |None         |NOR     |\n",
      "|603 |DOLIDOWITSCH           |Sergei           |None         |BLR     |\n",
      "|604 |LASUTKIN               |Alexander        |None         |BLR     |\n",
      "|605 |SANNIKOVA              |Alena            |None         |BLR     |\n",
      "|606 |GJERDALEN              |Tord Asle        |None         |NOR     |\n",
      "|607 |WURM                   |Harald           |None         |AUT     |\n",
      "|608 |DAMJANOVSKI            |Darko            |None         |MKD     |\n",
      "|609 |PFEIFER                |Viktor           |None         |AUT     |\n",
      "|610 |PFISTER                |Daniel           |None         |AUT     |\n",
      "|611 |MACOVEI                |Bogdan           |None         |MDA     |\n",
      "|612 |MOLL                   |Susanne          |None         |AUT     |\n",
      "|613 |SCHAIRER               |Markus           |None         |AUT     |\n",
      "|614 |SAMSAL                 |Dalibor          |None         |CRO     |\n",
      "|615 |ZRNCIC-DIM             |Natko            |None         |CRO     |\n",
      "|616 |BAUER                  |Klemen           |None         |SLO     |\n",
      "|617 |SHERPA                 |Dachhiri         |None         |NEP     |\n",
      "|618 |DAMJAN                 |Jernej           |None         |SLO     |\n",
      "|619 |FLANDER                |Rok              |None         |SLO     |\n",
      "|620 |SUSTERSIC              |Izidor           |None         |SLO     |\n",
      "|621 |GUTIERREZ              |Mireia           |None         |AND     |\n",
      "|622 |PALKA                  |Krystyna         |None         |POL     |\n",
      "|623 |PLYWACZYK              |Krzysztof        |None         |POL     |\n",
      "|624 |ORGUE                  |Laura            |None         |ESP     |\n",
      "|625 |KRECZMER               |Maciej           |None         |POL     |\n",
      "|626 |LIGOCKI                |Mateusz          |None         |POL     |\n",
      "|627 |LIGOCKI                |Michal           |None         |POL     |\n",
      "|628 |ZYLA                   |Piotr            |None         |POL     |\n",
      "|629 |WAS                    |Artur            |None         |POL     |\n",
      "|630 |KNOCH                  |Viktor           |None         |HUN     |\n",
      "|631 |TOLA                   |Erjon            |None         |ALB     |\n",
      "|632 |CASTELLET              |Queralt          |None         |ESP     |\n",
      "|633 |NOVAKOVIC              |Zana             |None         |BIH     |\n",
      "|634 |COLETTI                |Alexandra        |None         |MON     |\n",
      "|635 |JENOT                  |Olivier          |None         |MON     |\n",
      "|636 |ZAKURDAEV              |Igor             |None         |KAZ     |\n",
      "|637 |KOSHKIN                |Dmitriy          |None         |KAZ     |\n",
      "|638 |BEDAREVA               |Maria            |None         |RUS     |\n",
      "|639 |ZUEV                   |Stepan           |None         |RUS     |\n",
      "|640 |YAKOVISHINA            |Elena            |None         |RUS     |\n",
      "|641 |SEJERSTED              |Lotte Smiseth    |None         |NOR     |\n",
      "|642 |BYDLINSKI              |Maciej           |None         |POL     |\n",
      "|643 |KLUS                   |Aleksandra       |None         |POL     |\n",
      "|644 |TRAVERS                |Dow              |None         |CAY     |\n",
      "|645 |BENIANIDZE             |Alex             |None         |GEO     |\n",
      "|646 |PAPAMICHAEL            |Constantinos     |None         |CYP     |\n",
      "|647 |LONGHI                 |Jhonatan         |None         |BRA     |\n",
      "|648 |HARRISSON              |Maya             |None         |BRA     |\n",
      "|649 |NOVOSELIC              |Sofija           |None         |CRO     |\n",
      "|650 |TSIKLAURI              |Nino             |None         |GEO     |\n",
      "|651 |BARBU                  |Alexandru        |None         |ROU     |\n",
      "|652 |LOESETH                |Mona             |None         |NOR     |\n",
      "|653 |LINDNER                |Georg            |None         |MDA     |\n",
      "|654 |GROSS                  |Stefano          |None         |ITA     |\n",
      "|655 |PARIS                  |Dominik          |None         |ITA     |\n",
      "|656 |IGNJATOVIC             |Nevena           |None         |SRB     |\n",
      "|657 |BRIGNONE               |Federica         |None         |ITA     |\n",
      "|658 |MARSAGLIA              |Francesca        |None         |ITA     |\n",
      "|659 |MATSOTSKA              |Bogdana          |None         |UKR     |\n",
      "|660 |FEIERABEND             |Denise           |None         |SUI     |\n",
      "|661 |CARRERAS               |Pol              |None         |ESP     |\n",
      "|662 |PREFONTAINE            |Marie-Pier       |None         |CAN     |\n",
      "|663 |GAGNON                 |Marie-Michele    |None         |CAN     |\n",
      "|664 |SPENCE                 |Brad             |None         |CAN     |\n",
      "|665 |YURKIW                 |Larisa           |None         |CAN     |\n",
      "|666 |RALLI                  |Sophia           |None         |GRE     |\n",
      "|667 |BASSANI ANTIVARI       |Gaia             |None         |AZE     |\n",
      "|668 |JUNG                   |Dong-Hyun        |None         |KOR     |\n",
      "|669 |RISTEVSKI              |Antonio          |None         |MKD     |\n",
      "|670 |BERECZ                 |Anna             |None         |HUN     |\n",
      "|671 |FARKAS                 |Norbert          |None         |HUN     |\n",
      "|672 |KUDRATOV               |Alisher          |None         |TJK     |\n",
      "|673 |SMITH                  |Warren Cummings  |None         |EST     |\n",
      "|674 |ESTEVE RIGAIL          |Kevin            |None         |AND     |\n",
      "|675 |CHAMOUN                |Jacky            |None         |LIB     |\n",
      "|676 |SHKANOVA               |Maria            |None         |BLR     |\n",
      "|677 |SAVEH SHEMSHAKI        |Hossein          |None         |IRI     |\n",
      "|678 |ZVEJNIEKS              |Kristaps         |None         |LAT     |\n",
      "|679 |RODE                   |Roberts          |None         |LAT     |\n",
      "|680 |GASUNA                 |Lelde            |None         |LAT     |\n",
      "|681 |TERRA                  |Ferran           |None         |ESP     |\n",
      "|682 |DE LA CUESTA           |Paul             |None         |ESP     |\n",
      "|683 |PRISADOV               |Stefan           |None         |BUL     |\n",
      "|684 |GEORGIEV               |Georgi           |None         |BUL     |\n",
      "|685 |CHONGAROV              |Nikola           |None         |BUL     |\n",
      "|686 |QUIROGA                |Julietta         |None         |ARG     |\n",
      "|687 |FAARUP                 |Christoffer      |None         |DEN     |\n",
      "|688 |GEIGER                 |Christina        |None         |GER     |\n",
      "|689 |WIRTH                  |Barbara          |None         |GER     |\n",
      "|690 |DOPFER                 |Fritz            |None         |GER     |\n",
      "|691 |SANDELL                |Marcus           |None         |FIN     |\n",
      "|692 |RYDING                 |David            |None         |GBR     |\n",
      "|693 |HANSDOTTER             |Frida            |None         |SWE     |\n",
      "|694 |KLING                  |Kajsa            |None         |SWE     |\n",
      "|695 |HARGIN                 |Mattias          |None         |SWE     |\n",
      "|696 |OLSSON                 |Matts            |None         |SWE     |\n",
      "|697 |BAECK                  |Axel             |None         |SWE     |\n",
      "|698 |GASTALDI               |Sebastiano       |None         |ARG     |\n",
      "|699 |FERK                   |Marusa           |None         |SLO     |\n",
      "|700 |STUHEC                 |Ilka             |None         |SLO     |\n",
      "|701 |XIA                    |Lina             |None         |CHN     |\n",
      "|702 |SMITH                  |Leanne           |None         |USA     |\n",
      "|703 |JITLOFF                |Tim              |None         |USA     |\n",
      "|704 |KASPER                 |Nolan            |None         |USA     |\n",
      "|705 |FORD                   |Julia            |None         |USA     |\n",
      "|706 |CHODOUNSKY             |David            |None         |USA     |\n",
      "|707 |MCJAMES                |Megan            |None         |USA     |\n",
      "|708 |ROSS                   |Laurenne         |None         |USA     |\n",
      "|709 |KUCEROVA               |Nikol            |None         |CZE     |\n",
      "|710 |KRIZOVA                |Klara            |None         |CZE     |\n",
      "|711 |PAULATHOVA             |Katerina         |None         |CZE     |\n",
      "|712 |ZEMANOVA               |Andrea           |None         |CZE     |\n",
      "|713 |KUENG                  |Patrick          |None         |SUI     |\n",
      "|714 |ABDERHALDEN            |Marianne         |None         |SUI     |\n",
      "|715 |CAVIEZEL               |Mauro            |None         |SUI     |\n",
      "|716 |FEUZ                   |Beat             |None         |SUI     |\n",
      "|717 |SUTER                  |Fabienne         |None         |SUI     |\n",
      "|718 |KANTOROVA              |Barbara          |None         |SVK     |\n",
      "|719 |LUKACOVA               |Barbora          |None         |SVK     |\n",
      "|720 |SAALOVA                |Kristina         |None         |SVK     |\n",
      "|721 |ZAMPA                  |Adam             |None         |SVK     |\n",
      "|722 |BAUMANN                |Romed            |None         |AUT     |\n",
      "|723 |FRANZ                  |Max              |None         |AUT     |\n",
      "|724 |SCHILD                 |Bernadette       |None         |AUT     |\n",
      "|725 |SCHOERGHOFER           |Philipp          |None         |AUT     |\n",
      "|726 |STREITBERGER           |Georg            |None         |AUT     |\n",
      "|727 |OETTL REYES            |Ornella          |None         |PER     |\n",
      "|728 |OETTL REYES            |Manfred          |None         |PER     |\n",
      "|729 |BAUD                   |Adeline          |None         |FRA     |\n",
      "|730 |BERTRAND               |Marion           |None         |FRA     |\n",
      "|731 |MARMOTTAN              |Anemone          |None         |FRA     |\n",
      "|732 |NOENS                  |Nastasia         |None         |FRA     |\n",
      "|733 |CLAREY                 |Johan            |None         |FRA     |\n",
      "|734 |FAIVRE                 |Mathieu          |None         |FRA     |\n",
      "|735 |FAYED                  |Guillermo        |None         |FRA     |\n",
      "|736 |MERMILLOD BLONDIN      |Thomas           |None         |FRA     |\n",
      "|737 |POISSON                |David            |None         |FRA     |\n",
      "|738 |VORONOV                |Artem            |None         |UZB     |\n",
      "|739 |GRIGOREVA              |Kseniya          |None         |UZB     |\n",
      "|740 |LAIKERT                |Igor             |None         |BIH     |\n",
      "|741 |RUDIC                  |Marko            |None         |BIH     |\n",
      "|742 |PHELAN                 |Brittany         |None         |CAN     |\n",
      "|743 |MIELZYNSKI             |Erin             |None         |CAN     |\n",
      "|744 |SIMMERLING             |Georgia          |None         |CAN     |\n",
      "|745 |HOHENLOHE              |Hubertus von     |None         |MEX     |\n",
      "|746 |TORSTI                 |Samu             |None         |FIN     |\n",
      "|747 |SEREBRAKIAN            |Arman-Ted        |None         |ARM     |\n",
      "|748 |OLIVERAS               |Marc             |None         |AND     |\n",
      "|749 |HAUGEN                 |Leif Kristian    |None         |NOR     |\n",
      "|750 |GILARDONI              |Marina           |None         |SUI     |\n",
      "|751 |SZCZUREK               |Lukasz           |None         |POL     |\n",
      "|752 |NAUMIK                 |Sergey           |None         |KAZ     |\n",
      "|753 |SAVITSKIY              |Yan              |None         |KAZ     |\n",
      "|754 |KENESHEV               |Dias             |None         |KAZ     |\n",
      "|755 |TRIFONOV               |Alexandr         |None         |KAZ     |\n",
      "|756 |LEBEDEVA               |Marina           |None         |KAZ     |\n",
      "|757 |SOLEMDAL               |Synnoeve         |None         |NOR     |\n",
      "|758 |SEMENOV                |Serhiy           |None         |UKR     |\n",
      "|759 |SEDNEV                 |Serguei          |None         |UKR     |\n",
      "|760 |PRYMA                  |Artem            |None         |UKR     |\n",
      "|761 |SUZUKI                 |Fuyuko           |None         |JPN     |\n",
      "|762 |KAUKENAS               |Tomas            |None         |LTU     |\n",
      "|763 |LEE                    |In-Bok           |None         |KOR     |\n",
      "|764 |MUN                    |Ji-Hee           |None         |KOR     |\n",
      "|765 |PINZARU                |Victor           |None         |MDA     |\n",
      "|766 |PETROVIC               |Milanko          |None         |SRB     |\n",
      "|767 |CRAWFORD               |Rosanna          |None         |CAN     |\n",
      "|768 |GREEN                  |Brendan          |None         |CAN     |\n",
      "|769 |PERRAS                 |Scott            |None         |CAN     |\n",
      "|770 |SMITH                  |Nathan           |None         |CAN     |\n",
      "|771 |IMRIE                  |Megan            |None         |CAN     |\n",
      "|772 |KOIV                   |Kauri            |None         |EST     |\n",
      "|773 |LEHTLA                 |Kadri            |None         |EST     |\n",
      "|774 |STEPTSENKO             |Danil            |None         |EST     |\n",
      "|775 |GOMBOS                 |Karoly           |None         |HUN     |\n",
      "|776 |JUSKANE                |Zanna            |None         |LAT     |\n",
      "|777 |RASTORGUJEVS           |Andrejs          |None         |LAT     |\n",
      "|778 |ABRAMENKO              |Evgeny           |None         |BLR     |\n",
      "|779 |KALINCHIK              |Liudmila         |None         |BLR     |\n",
      "|780 |PADIAL HERNANDEZ       |Victoria         |None         |ESP     |\n",
      "|781 |ILIEV                  |Vladimir         |None         |BUL     |\n",
      "|782 |KENANOV                |Miroslav         |None         |BUL     |\n",
      "|783 |ANEV                   |Krasimir         |None         |BUL     |\n",
      "|784 |ALMOUKOV               |Alexei           |None         |AUS     |\n",
      "|785 |STEPHAN                |Christoph        |None         |GER     |\n",
      "|786 |LAUKKANEN              |Mari             |None         |FIN     |\n",
      "|787 |KAUPPINEN              |Jarkko           |None         |FIN     |\n",
      "|788 |SONG                   |Chaoqing         |None         |CHN     |\n",
      "|789 |JACKSON                |Lee-Steve        |None         |GBR     |\n",
      "|790 |DOKL                   |Peter            |None         |SLO     |\n",
      "|791 |COOK                   |Annalies         |None         |USA     |\n",
      "|792 |DUNKLEE                |Susan            |None         |USA     |\n",
      "|793 |STUDEBAKER             |Sara             |None         |USA     |\n",
      "|794 |NORDGREN               |Leif             |None         |USA     |\n",
      "|795 |CURRIER                |Russell          |None         |USA     |\n",
      "|796 |JOLLER                 |Ivan             |None         |SUI     |\n",
      "|797 |WEGER                  |Benjamin         |None         |SUI     |\n",
      "|798 |CHRAPANOVA             |Martina          |None         |SVK     |\n",
      "|799 |POLIAKOVA              |Terezia          |None         |SVK     |\n",
      "|800 |BESCOND                |Anais            |None         |FRA     |\n",
      "|801 |BOEUF                  |Alexis           |None         |FRA     |\n",
      "|802 |BOLLIET                |Marine           |None         |FRA     |\n",
      "|803 |HAELG                  |Philipp          |None         |LIE     |\n",
      "|804 |GAFAROV                |Anton            |None         |RUS     |\n",
      "|805 |SHAPOVALOVA            |Evgenia          |None         |RUS     |\n",
      "|806 |SLONOVA                |Anastasia        |None         |KAZ     |\n",
      "|807 |VELICHKO               |Yevgeniy         |None         |KAZ     |\n",
      "|808 |STAROSTIN              |Mark             |None         |KAZ     |\n",
      "|809 |TCHEKALEVA             |Yulia            |None         |RUS     |\n",
      "|810 |VOLZHENTSEV            |Stanislav        |None         |RUS     |\n",
      "|811 |JACOBSEN               |Astrid Uhrenholdt|None         |NOR     |\n",
      "|812 |ROENNING               |Eldar            |None         |NOR     |\n",
      "|813 |GLOEERSEN              |Anders           |None         |NOR     |\n",
      "|814 |JASKOWIEC              |Sylwia           |None         |POL     |\n",
      "|815 |PEREKHODA              |Ruslan           |None         |UKR     |\n",
      "|816 |ANTSYBOR               |Maryna           |None         |UKR     |\n",
      "|817 |TSESELSKA              |Kateryna         |None         |UKR     |\n",
      "|818 |RIBELA                 |Leandro          |None         |BRA     |\n",
      "|819 |MALEC                  |Vedrana          |None         |CRO     |\n",
      "|820 |PEPENE                 |Paul Constantin  |None         |ROU     |\n",
      "|821 |PUCHIANU               |Cornel           |None         |ROU     |\n",
      "|822 |KARP                   |Algo             |None         |EST     |\n",
      "|823 |CAMENSCIC              |Alexandra        |None         |MDA     |\n",
      "|824 |BRANDSDAL              |Eirik            |None         |NOR     |\n",
      "|825 |SMRKOVIC               |Rejhan           |None         |SRB     |\n",
      "|826 |HOFER                  |David            |None         |ITA     |\n",
      "|827 |BROCARD                |Elisa            |None         |ITA     |\n",
      "|828 |OJASTE                 |Triin            |None         |EST     |\n",
      "|829 |MACIUSZEK              |Paulina          |None         |POL     |\n",
      "|830 |HARVEY                 |Alex             |None         |CAN     |\n",
      "|831 |SIMON                  |Agnes            |None         |HUN     |\n",
      "|832 |SZABO                  |Milan            |None         |HUN     |\n",
      "|833 |ROJO                   |Imanol           |None         |ESP     |\n",
      "|834 |CHINBAT                |Otgontsetseg     |None         |MGL     |\n",
      "|835 |TAMMJARV               |Karel            |None         |EST     |\n",
      "|836 |SEYD                   |Seyed Sattar     |None         |IRI     |\n",
      "|837 |PAIPALS                |Janis            |None         |LAT     |\n",
      "|838 |LIEPINS                |Arvis            |None         |LAT     |\n",
      "|839 |GUTIERREZ              |Javier           |None         |ESP     |\n",
      "|840 |MALCHEVA               |Teodora          |None         |BUL     |\n",
      "|841 |WATSON                 |Aimee            |None         |AUS     |\n",
      "|842 |DUBAREZAVA             |Nastassia        |None         |BLR     |\n",
      "|843 |IVANOU                 |Aliaksei         |None         |BLR     |\n",
      "|844 |PETERS                 |Kari             |None         |LUX     |\n",
      "|845 |WENZL                  |Josef            |None         |GER     |\n",
      "|846 |MALVALEHTO             |Mona-Lisa        |None         |FIN     |\n",
      "|847 |HEIKKINEN              |Matti            |None         |FIN     |\n",
      "|848 |JYLHAE                 |Martti           |None         |FIN     |\n",
      "|849 |LEHTONEN               |Lari             |None         |FIN     |\n",
      "|850 |PENTSINEN              |Anssi            |None         |FIN     |\n",
      "|851 |MUSGRAVE               |Andrew           |None         |GBR     |\n",
      "|852 |MUSGRAVE               |Rosamund         |None         |GBR     |\n",
      "|853 |SMITH                  |Callum           |None         |GBR     |\n",
      "|854 |YOUNG                  |Andrew           |None         |GBR     |\n",
      "|855 |MURPHY                 |Tucker           |None         |BER     |\n",
      "|856 |LINDBORG               |Sara             |None         |SWE     |\n",
      "|857 |JEZERSEK               |Barbara          |None         |SLO     |\n",
      "|858 |VISNAR                 |Katja            |None         |SLO     |\n",
      "|859 |XU                     |Wenlong          |None         |CHN     |\n",
      "|860 |SUN                    |Qinghai          |None         |CHN     |\n",
      "|861 |STEPHEN                |Elizabeth        |None         |USA     |\n",
      "|862 |HOFFMAN                |Noah             |None         |USA     |\n",
      "|863 |NOVAK                  |Petr             |None         |CZE     |\n",
      "|864 |RAZYM                  |Ales             |None         |CZE     |\n",
      "|865 |MORAVCOVA              |Klara            |None         |CZE     |\n",
      "|866 |KINDSCHI               |Joeri            |None         |SUI     |\n",
      "|867 |VAN DER GRAAFF         |Laurien          |None         |SUI     |\n",
      "|868 |BONER                  |Seraina          |None         |SUI     |\n",
      "|869 |KOTSCHOVA              |Daniela          |None         |SVK     |\n",
      "|870 |MLYNAR                 |Peter            |None         |SVK     |\n",
      "|871 |DUERR                  |Johannes         |None         |AUT     |\n",
      "|872 |SMUTNA                 |Katerina         |None         |AUT     |\n",
      "|873 |CARCELEN               |Roberto          |None         |PER     |\n",
      "|874 |FAIVRE PICON           |Anouk            |None         |FRA     |\n",
      "|875 |GAILLARD               |Cyril            |None         |FRA     |\n",
      "|876 |HUGUE                  |Coraline         |None         |FRA     |\n",
      "|877 |MIRANDA                |Cyril            |None         |FRA     |\n",
      "|878 |KARISIK                |Tanja            |None         |BIH     |\n",
      "|879 |PLAKALOVIC             |Mladen           |None         |BIH     |\n",
      "|880 |CALDWELL               |Sophie           |None         |USA     |\n",
      "|881 |HALFVARSSON            |Calle            |None         |SWE     |\n",
      "|882 |GAIAZOVA               |Daria            |None         |CAN     |\n",
      "|883 |WEBSTER                |Brittany         |None         |CAN     |\n",
      "|884 |JONES                  |Perianne         |None         |CAN     |\n",
      "|885 |BROOKS                 |Holly            |None         |USA     |\n",
      "|886 |WATSON                 |Callum           |None         |AUS     |\n",
      "|887 |HAMILTON               |Simeon           |None         |USA     |\n",
      "|888 |MIKAYELYAN             |Sergey           |None         |ARM     |\n",
      "|889 |VOLKOV                 |Andrey           |None         |RUS     |\n",
      "|890 |VOLKOV                 |Sergey           |None         |RUS     |\n",
      "|891 |KOROTKOV               |Egor             |None         |RUS     |\n",
      "|892 |LIVINSKAYA             |Yulia            |None         |RUS     |\n",
      "|893 |MOZHAEV                |Sergey           |None         |RUS     |\n",
      "|894 |MURATOVA               |Elena            |None         |RUS     |\n",
      "|895 |RAKHIMOVA              |Regina           |None         |RUS     |\n",
      "|896 |PERTAKHIYA             |Marika           |None         |RUS     |\n",
      "|897 |STOLYAROVA             |Ekaterina        |None         |RUS     |\n",
      "|898 |GALYSHEVA              |Yulia            |None         |KAZ     |\n",
      "|899 |ARAPBAYEVA             |Zhibek           |None         |KAZ     |\n",
      "|900 |BERESTOVSKIY           |Sergei           |None         |KAZ     |\n",
      "|901 |HOEIE GJEFSEN          |Marte            |None         |NOR     |\n",
      "|902 |POLYUK                 |Olga             |None         |UKR     |\n",
      "|903 |MURATA                 |Arisa            |None         |JPN     |\n",
      "|904 |NISHI                  |Nobuyuki         |None         |JPN     |\n",
      "|905 |ENDO                   |Sho              |None         |JPN     |\n",
      "|906 |BORGE LIE              |Thomas           |None         |NOR     |\n",
      "|907 |DELBOSCO               |Christopher      |None         |CAN     |\n",
      "|908 |LEMAN                  |Brady            |None         |CAN     |\n",
      "|909 |SEO                    |Jung-Hwa         |None         |KOR     |\n",
      "|910 |CREMA                  |Katya            |None         |AUS     |\n",
      "|911 |HALL                   |Sam              |None         |AUS     |\n",
      "|912 |KNELLER                |Scott            |None         |AUS     |\n",
      "|913 |HUSKOVA                |Hanna            |None         |BLR     |\n",
      "|914 |OSIPAU                 |Denis            |None         |BLR     |\n",
      "|915 |CHOI                   |Jae-Woo          |None         |KOR     |\n",
      "|916 |ZACHER                 |Heidi            |None         |GER     |\n",
      "|917 |QI                     |Guangpu          |None         |CHN     |\n",
      "|918 |WU                     |Chao             |None         |CHN     |\n",
      "|919 |NING                   |Qin              |None         |CHN     |\n",
      "|920 |KIRAMO                 |Arttu            |None         |FIN     |\n",
      "|921 |PELLINEN               |Jouni            |None         |FIN     |\n",
      "|922 |FORSLUND               |Michael          |None         |SWE     |\n",
      "|923 |KLOSER                 |Heidi            |None         |USA     |\n",
      "|924 |CALDWELL               |Ashley           |None         |USA     |\n",
      "|925 |MCPHIE                 |Heather          |None         |USA     |\n",
      "|926 |WILSON                 |Bradley          |None         |USA     |\n",
      "|927 |OUTTRIM                |Eliza            |None         |USA     |\n",
      "|928 |DENEEN                 |Patrick          |None         |USA     |\n",
      "|929 |VACULIKOVA             |Tereza           |None         |CZE     |\n",
      "|930 |LUEDI                  |Sanna            |None         |SUI     |\n",
      "|931 |MUELLER                |Katrin           |None         |SUI     |\n",
      "|932 |NIEDERER               |Armin            |None         |SUI     |\n",
      "|933 |SCHAERER               |Tanja            |None         |SUI     |\n",
      "|934 |SMITH                  |Fanny            |None         |SUI     |\n",
      "|935 |FIVA                   |Alex             |None         |SUI     |\n",
      "|936 |KOLLER                 |Patrick          |None         |AUT     |\n",
      "|937 |OFNER                  |Katrin           |None         |AUT     |\n",
      "|938 |ZANGERL                |Thomas           |None         |AUT     |\n",
      "|939 |BENNA                  |Anthony          |None         |FRA     |\n",
      "|940 |DAVID                  |Ophelie          |None         |FRA     |\n",
      "|941 |DUNCAN                 |David            |None         |CAN     |\n",
      "|942 |LIMBACHER              |Andrea           |None         |AUT     |\n",
      "|943 |DUFOUR-LAPOINTE        |Maxime           |None         |CAN     |\n",
      "|944 |MARQUIS                |Philippe         |None         |CAN     |\n",
      "|945 |SCHAUER                |Andreas          |None         |GER     |\n",
      "|946 |RAKIMGALIEV            |Abzal            |None         |KAZ     |\n",
      "|947 |POPOVA                 |Nataliia         |None         |UKR     |\n",
      "|948 |SUZUKI                 |Akiko            |None         |JPN     |\n",
      "|949 |KELEMEN                |Zoltan           |None         |ROU     |\n",
      "|950 |FERNANDEZ              |Javier           |None         |ESP     |\n",
      "|951 |MARCHEI                |Valentina        |None         |ITA     |\n",
      "|952 |ROMANENKOV             |Viktor           |None         |EST     |\n",
      "|953 |LIEBERS                |Peter            |None         |GER     |\n",
      "|954 |ZHANG                  |Kexin            |None         |CHN     |\n",
      "|955 |MCCORKELL              |Jenna            |None         |GBR     |\n",
      "|956 |HELGESSON              |Viktoria         |None         |SWE     |\n",
      "|957 |MAJOROV                |Alexander        |None         |SWE     |\n",
      "|958 |BREZINA                |Michal           |None         |CZE     |\n",
      "|959 |FRANK                  |Kerstin          |None         |AUT     |\n",
      "|960 |AMODIO                 |Florent          |None         |FRA     |\n",
      "|961 |MACHIDA                |Tatsuki          |None         |JPN     |\n",
      "|962 |PAVLICHENKO            |Semen            |None         |RUS     |\n",
      "|963 |KHOREVA                |Natalia          |None         |RUS     |\n",
      "|964 |KUROWSKI               |Maciej           |None         |POL     |\n",
      "|965 |KANAYAMA               |Hidenari         |None         |JPN     |\n",
      "|966 |MANDZIY                |Andriy           |None         |UKR     |\n",
      "|967 |CRETU                  |Valentin         |None         |ROU     |\n",
      "|968 |GASPARINI              |Sandra           |None         |ITA     |\n",
      "|969 |LANGENHAN              |Andi             |None         |GER     |\n",
      "|970 |KIVLENIEKS             |Inars            |None         |LAT     |\n",
      "|971 |MAURINS                |Kristaps         |None         |LAT     |\n",
      "|972 |CARIGIET               |Gregory          |None         |SUI     |\n",
      "|973 |HANSEN                 |Kate             |None         |USA     |\n",
      "|974 |HYMAN                  |Ondrej           |None         |CZE     |\n",
      "|975 |EGGER                  |Reinhard         |None         |AUT     |\n",
      "|976 |KINDL                  |Wolfgang         |None         |AUT     |\n",
      "|977 |BUCSIS                 |Anastasia        |None         |CAN     |\n",
      "|978 |PANIN                  |Ivan             |None         |RUS     |\n",
      "|979 |KOKSLIEN               |Mikko            |None         |NOR     |\n",
      "|980 |KATO                   |Taihei           |None         |JPN     |\n",
      "|981 |WATABE                 |Yoshito          |None         |JPN     |\n",
      "|982 |BAUER                  |Armin            |None         |ITA     |\n",
      "|983 |RUNGGALDIER            |Lukas            |None         |ITA     |\n",
      "|984 |TIIRMAA                |Karl-August      |None         |EST     |\n",
      "|985 |NURMSALU               |Kaarel           |None         |EST     |\n",
      "|986 |BERLOT                 |Gasper           |None         |SLO     |\n",
      "|987 |JELENKO                |Marjan           |None         |SLO     |\n",
      "|988 |ORANIC                 |Mitja            |None         |SLO     |\n",
      "|989 |FLETCHER               |Taylor           |None         |USA     |\n",
      "|990 |FLETCHER               |Bryan            |None         |USA     |\n",
      "|991 |DVORAK                 |Miroslav         |None         |CZE     |\n",
      "|992 |HUG                    |Tim              |None         |SUI     |\n",
      "|993 |JODKO                  |Maciej           |None         |POL     |\n",
      "|994 |KROL                   |Aleksandra       |None         |POL     |\n",
      "|995 |SZTOKFISZ              |Karolina         |None         |POL     |\n",
      "|996 |ZAJAC                  |Joanna           |None         |POL     |\n",
      "|997 |TSOY                   |Valeriya         |None         |KAZ     |\n",
      "|998 |BOLDYKOV               |Andrey           |None         |RUS     |\n",
      "|999 |DETKOV                 |Stanislav        |None         |RUS     |\n",
      "|1000|SOBOLEV                |Alexey           |None         |RUS     |\n",
      "|1001|TARASOV                |Sergey           |None         |RUS     |\n",
      "|1002|OLAFSEN                |Helene           |None         |NOR     |\n",
      "|1003|ENGELI                 |Hilde-Katrine    |None         |NOR     |\n",
      "|1004|SIVERTZEN              |Stian            |None         |NOR     |\n",
      "|1005|DUCKWORTH              |Alexandra        |None         |CAN     |\n",
      "|1006|AONO                   |Ryo              |None         |JPN     |\n",
      "|1007|OKADA                  |Rana             |None         |JPN     |\n",
      "|1008|CHUNDAK                |Annamari         |None         |UKR     |\n",
      "|1009|PENYAK                 |Yosyf            |None         |UKR     |\n",
      "|1010|MAKAR                  |Morena           |None         |CRO     |\n",
      "|1011|MICIC                  |Nina             |None         |SRB     |\n",
      "|1012|PERATHONER             |Emanuel          |None         |ITA     |\n",
      "|1013|MARCH                  |Aaron            |None         |ITA     |\n",
      "|1014|BRUTTO                 |Raffaella        |None         |ITA     |\n",
      "|1015|CAI                    |Xuetong          |None         |CHN     |\n",
      "|1016|BERGHUIS               |Bell             |None         |NED     |\n",
      "|1017|VAN DER WAL            |Dolf             |None         |NED     |\n",
      "|1018|CALVE                  |Caroline         |None         |CAN     |\n",
      "|1019|FAGAN                  |Robert           |None         |CAN     |\n",
      "|1020|LAMBERT                |Michael          |None         |CAN     |\n",
      "|1021|LAVIGNE                |Ariane           |None         |CAN     |\n",
      "|1022|MORISON                |Matthew          |None         |CAN     |\n",
      "|1023|KIM                    |Ho-jun           |None         |KOR     |\n",
      "|1024|SHIN                   |Bong-shik        |None         |KOR     |\n",
      "|1025|SOBOLEV                |Andrey           |None         |RUS     |\n",
      "|1026|MARIN TARROCH          |Lluis            |None         |AND     |\n",
      "|1027|SCHAD                  |Konstantin       |None         |GER     |\n",
      "|1028|LABOECK                |Isabella         |None         |GER     |\n",
      "|1029|BERGMANN               |Alexander        |None         |GER     |\n",
      "|1030|LIU                    |Jiayu            |None         |CHN     |\n",
      "|1031|SHI                    |Wancheng         |None         |CHN     |\n",
      "|1032|ZHANG                  |Yiwei            |None         |CHN     |\n",
      "|1033|HERNANDEZ              |Regino           |None         |ESP     |\n",
      "|1034|YANKOV                 |Radoslav         |None         |BUL     |\n",
      "|1035|PULLIN                 |Alex             |None         |AUS     |\n",
      "|1036|JOHNSTONE              |Nathan           |None         |AUS     |\n",
      "|1037|SINCLAIR               |Rebecca          |None         |NZL     |\n",
      "|1038|LAARI                  |Ilkka-Eemeli     |None         |FIN     |\n",
      "|1039|LINDFORS               |Anton            |None         |FIN     |\n",
      "|1040|MALIN                  |Markus           |None         |FIN     |\n",
      "|1041|HARINGTON              |Dominic          |None         |GBR     |\n",
      "|1042|KILNER                 |Ben              |None         |GBR     |\n",
      "|1043|MARGUC                 |Rok              |None         |SLO     |\n",
      "|1044|BAUMGARTNER            |Nick             |None         |USA     |\n",
      "|1045|DAVIS                  |Danny            |None         |USA     |\n",
      "|1046|BRETZ                  |Gregory          |None         |USA     |\n",
      "|1047|BAKES                  |David            |None         |CZE     |\n",
      "|1048|PANCOCHOVA             |Sarka            |None         |CZE     |\n",
      "|1049|MATTEOTTI              |Luca             |None         |ITA     |\n",
      "|1050|MICK                   |Christoph        |None         |ITA     |\n",
      "|1051|MEILER                 |Simona           |None         |SUI     |\n",
      "|1052|PURTSCHERT             |Nadja            |None         |SUI     |\n",
      "|1053|ZOGG                   |Julie            |None         |SUI     |\n",
      "|1054|CANDRIAN               |Sina             |None         |SUI     |\n",
      "|1055|FLUETSCH               |Kaspar           |None         |SUI     |\n",
      "|1056|HALLER                 |Ursina           |None         |SUI     |\n",
      "|1057|HALLER                 |Christian        |None         |SUI     |\n",
      "|1058|DOUSCHAN               |Hanno            |None         |AUT     |\n",
      "|1059|MATHIES                |Lukas            |None         |AUT     |\n",
      "|1060|MESCHIK                |Ina              |None         |AUT     |\n",
      "|1061|RAMBERGER              |Maria            |None         |AUT     |\n",
      "|1062|UNTERKOFLER            |Anton            |None         |AUT     |\n",
      "|1063|BAISAMY                |Johann           |None         |FRA     |\n",
      "|1064|DUFOUR                 |Sylvain          |None         |FRA     |\n",
      "|1065|LONGO                  |Arthur           |None         |FRA     |\n",
      "|1066|MOENNE LOCCOZ          |Nelly            |None         |FRA     |\n",
      "|1067|THOVEX                 |Mirabelle        |None         |FRA     |\n",
      "|1068|REID                   |Charles          |None         |CAN     |\n",
      "|1069|SMITS                  |Seppe            |None         |BEL     |\n",
      "|1070|KOT                    |Maciej           |None         |POL     |\n",
      "|1071|DELLASEGA              |Roberto          |None         |ITA     |\n",
      "|1072|MORRICE                |Trevor           |None         |CAN     |\n",
      "|1073|KANG                   |Chil-Ku          |None         |KOR     |\n",
      "|1074|ZOGRAFSKI              |Vladimir         |None         |BUL     |\n",
      "|1075|TEPES                  |Jurij            |None         |SLO     |\n",
      "|1076|ALEXANDER              |Nicholas         |None         |USA     |\n",
      "|1077|FAIRALL                |Nicholas         |None         |USA     |\n",
      "|1078|HLAVA                  |Lukas            |None         |CZE     |\n",
      "|1079|KOUDELKA               |Roman            |None         |CZE     |\n",
      "|1080|DESCHWANDEN            |Gregor           |None         |SUI     |\n",
      "|1081|KUBACKI                |Dawid            |None         |POL     |\n",
      "|1082|BOYD-CLOWES            |Mackenzie        |None         |CAN     |\n",
      "|1083|CHUDINOV               |Sergei           |None         |RUS     |\n",
      "|1084|KOMURO                 |Nozomi           |None         |JPN     |\n",
      "|1085|MAZILU                 |Maria Marinela   |None         |ROU     |\n",
      "|1086|VELICU                 |Dorin Dumitru    |None         |ROU     |\n",
      "|1087|FAIRBAIRN              |John             |None         |CAN     |\n",
      "|1088|MIRAMBELL              |Ander            |None         |ESP     |\n",
      "|1089|FARROW                 |John             |None         |AUS     |\n",
      "|1090|EUSTACE                |Katharine        |None         |NZL     |\n",
      "|1091|DALY                   |John             |None         |USA     |\n",
      "|1092|TRESS                  |Kyle             |None         |USA     |\n",
      "|1093|GUGGENBERGER           |Matthias         |None         |AUT     |\n",
      "|1094|REID                   |Sarah            |None         |CAN     |\n",
      "|1095|DRUSZKIEWICZ           |Sebastian        |None         |POL     |\n",
      "|1096|KUZIN                  |Denis            |None         |KAZ     |\n",
      "|1097|KRECH                  |Roman            |None         |KAZ     |\n",
      "|1098|GOLIKOVA               |Angelina         |None         |RUS     |\n",
      "|1099|YESIN                  |Aleksey          |None         |RUS     |\n",
      "|1100|RUMYANTSEV             |Aleksandr        |None         |RUS     |\n",
      "|1101|CHERNOVA               |Anna             |None         |RUS     |\n",
      "|1102|PEDERSEN               |Sverre Lunde     |None         |NOR     |\n",
      "|1103|KAMIJO                 |Yuji             |None         |JPN     |\n",
      "|1104|ISHIZAWA               |Shiho            |None         |JPN     |\n",
      "|1105|TSUJI                  |Maki             |None         |JPN     |\n",
      "|1106|NOH                    |Seon Yeong       |None         |KOR     |\n",
      "|1107|HEMMER                 |Mari             |None         |NOR     |\n",
      "|1108|NAUTA                  |Yvonne           |None         |NED     |\n",
      "|1109|VAN DER WEIJDEN        |Annouk           |None         |NED     |\n",
      "|1110|GREGG                  |Jamie            |None         |CAN     |\n",
      "|1111|DUTTON                 |William          |None         |CAN     |\n",
      "|1112|NINZI                  |Mirko            |None         |ITA     |\n",
      "|1113|SILOVS                 |Haralds          |None         |LAT     |\n",
      "|1114|GREIG                  |Daniel           |None         |AUS     |\n",
      "|1115|DOBBIN                 |Shane            |None         |NZL     |\n",
      "|1116|HIRSCHBICHLER          |Gabriele         |None         |GER     |\n",
      "|1117|BECKERT                |Patrick          |None         |GER     |\n",
      "|1118|SCHWARZ                |Samuel           |None         |GER     |\n",
      "|1119|IHLE                   |Nico             |None         |GER     |\n",
      "|1120|QI                     |Shuai            |None         |CHN     |\n",
      "|1121|TODD                   |Sugar            |None         |USA     |\n",
      "|1122|MEEK                   |Patrick          |None         |USA     |\n",
      "|1123|ROOKARD                |Jilleanne        |None         |USA     |\n",
      "|1124|RICHARDSON             |Heather          |None         |USA     |\n",
      "|1125|WHITMORE               |Mitchell         |None         |USA     |\n",
      "|1126|RINGSRED               |Anna             |None         |USA     |\n",
      "|1127|CHOLEWINSKI            |Lauren           |None         |USA     |\n",
      "|1128|GUNTHER                |Kelly            |None         |USA     |\n",
      "|1129|ERBANOVA               |Karolina         |None         |CZE     |\n",
      "|1130|ROKITA                 |Anna             |None         |AUT     |\n",
      "|1131|BELYAKOVA              |Olga             |None         |RUS     |\n",
      "|1132|MALISZEWSKA            |Patrycja         |None         |POL     |\n",
      "|1133|BEKZHANOV              |Aydar            |None         |KAZ     |\n",
      "|1134|SIMONOVA               |Inna             |None         |KAZ     |\n",
      "|1135|BYKANOV                |Vladislav        |None         |ISR     |\n",
      "|1136|TAKAMIDO               |Yuzo             |None         |JPN     |\n",
      "|1137|SAKASHITA              |Satoshi          |None         |JPN     |\n",
      "|1138|ITO                    |Ayuko            |None         |JPN     |\n",
      "|1139|SAKAI                  |Yui              |None         |JPN     |\n",
      "|1140|SAKURAI                |Biba             |None         |JPN     |\n",
      "|1141|SHIMIZU                |Sayuri           |None         |JPN     |\n",
      "|1142|BLACKBURN              |Mackenzie        |None         |TPE     |\n",
      "|1143|HEIDUM                 |Bernadett        |None         |HUN     |\n",
      "|1144|KESZLER                |Andrea           |None         |HUN     |\n",
      "|1145|BERES                  |Bence            |None         |HUN     |\n",
      "|1146|VAN KERKHOF            |Yara             |None         |NED     |\n",
      "|1147|VAN DER WART           |Freek            |None         |NED     |\n",
      "|1148|LUI                    |Pan To Barton    |None         |HKG     |\n",
      "|1149|LIU                    |Qiuhong          |None         |CHN     |\n",
      "|1150|LIANG                  |Wenhao           |None         |CHN     |\n",
      "|1151|BODA                   |Pierre           |None         |AUS     |\n",
      "|1152|SEIFERT                |Robert           |None         |GER     |\n",
      "|1153|CHRISTIE               |Elise            |None         |GBR     |\n",
      "|1154|GILMARTIN              |Charlotte        |None         |GBR     |\n",
      "|1155|WHELBOURNE             |Jack             |None         |GBR     |\n",
      "|1156|SMITH                  |Jessica          |None         |USA     |\n",
      "|1157|LEPAPE                 |Sebastien        |None         |FRA     |\n",
      "|1158|MACE                   |Benjamin         |None         |FRA     |\n",
      "|1159|KOLB                   |Hanna            |None         |GER     |\n",
      "|1160|WOERNER                |Anna             |None         |GER     |\n",
      "|1161|FISCHER                |Thomas           |None         |GER     |\n",
      "|1162|COX                    |Britteny         |None         |AUS     |\n",
      "|1163|GRAHAM                 |Matt             |None         |AUS     |\n",
      "|1164|FLISAR                 |Filip            |None         |SLO     |\n",
      "|1165|HILL                   |Kevin            |None         |CAN     |\n",
      "|1166|GULINI                 |Faye             |None         |USA     |\n",
      "|1167|JAMES                  |Scott            |None         |AUS     |\n",
      "|1168|FRENETTE               |Peter            |None         |USA     |\n",
      "|1169|FREITAG                |Richard          |None         |GER     |\n",
      "|1170|FANNEMEL               |Anders           |None         |NOR     |\n",
      "|1171|GILDAY                 |Michael          |None         |CAN     |\n",
      "|1172|ZAVECKAS               |Rokas            |None         |LTU     |\n",
      "|1173|MYTSAK                 |Dmytro           |None         |UKR     |\n",
      "|1174|SMALL                  |Greta            |None         |AUS     |\n",
      "|1175|VERDU SANCHEZ          |Joan             |None         |AND     |\n",
      "|1176|ABOLTINA               |Agnese           |None         |LAT     |\n",
      "|1177|BELL                   |Florence         |None         |IRL     |\n",
      "|1178|TOBI                   |Triin            |None         |EST     |\n",
      "|1179|VALCAREGGI             |Massimiliano     |None         |GRE     |\n",
      "|1180|MOHBAT                 |Alexandre        |None         |LIB     |\n",
      "|1181|VILHJALMSDOTTIR        |Helga Maria      |None         |ISL     |\n",
      "|1182|MICHELOTTI             |Vincenzo Romano  |None         |SMR     |\n",
      "|1183|VLHOVA                 |Petra            |None         |SVK     |\n",
      "|1184|LAMHAMEDI              |Adam             |None         |MAR     |\n",
      "|1185|SONG                   |Na               |None         |CHN     |\n",
      "|1186|VISHNEVSKAYA           |Galina           |None         |KAZ     |\n",
      "|1187|GASPARIN               |Aita             |None         |SUI     |\n",
      "|1188|PREUSS                 |Franziska        |None         |GER     |\n",
      "|1189|PRIPICI                |Florin Daniel    |None         |ROU     |\n",
      "|1190|KRASOVSKYI             |Oleksii          |None         |UKR     |\n",
      "|1191|GLANVILLE              |Lucy             |None         |AUS     |\n",
      "|1192|KIVARI                 |Lauri            |None         |FIN     |\n",
      "|1193|SUMMERHAYES            |Katie            |None         |GBR     |\n",
      "|1194|MAHLER                 |Kai              |None         |SUI     |\n",
      "|1195|BLUNCK                 |Aaron            |None         |USA     |\n",
      "|1196|KIM                    |Kwang-Jin        |None         |KOR     |\n",
      "|1197|KIM                    |Haejin           |None         |KOR     |\n",
      "|1198|WELLS                  |Beau-James       |None         |NZL     |\n",
      "|1199|YAN                    |Han              |None         |CHN     |\n",
      "|1200|LI                     |Zijun            |None         |CHN     |\n",
      "|1201|PARK                   |So Youn          |None         |KOR     |\n",
      "|1202|MARTINEZ               |Michael Christian|None         |PHI     |\n",
      "|1203|FENNELL                |John             |None         |CAN     |\n",
      "|1204|MALYK                  |Mitchel          |None         |CAN     |\n",
      "|1205|STETSKIV               |Olena            |None         |UKR     |\n",
      "|1206|FERLAZZO               |Alex             |None         |AUS     |\n",
      "|1207|ZIRNE                  |Ulla             |None         |LAT     |\n",
      "|1208|VOETTER                |Andrea           |None         |ITA     |\n",
      "|1209|LIEN                   |Te-An            |None         |TPE     |\n",
      "|1210|BRITCHER               |Summer           |None         |USA     |\n",
      "|1211|WEST                   |Tucker           |None         |USA     |\n",
      "|1212|KOTENOVA               |Vendula          |None         |CZE     |\n",
      "|1213|HEROLA                 |Ilkka            |None         |FIN     |\n",
      "|1214|ILVES                  |Kristjan         |None         |EST     |\n",
      "|1215|PORTYK                 |Tomas            |None         |CZE     |\n",
      "|1216|AVTANEEV               |Nikita           |None         |RUS     |\n",
      "|1217|HOEPFL                 |Johannes         |None         |GER     |\n",
      "|1218|HABLUETZEL             |David            |None         |SUI     |\n",
      "|1219|GOLD                   |Arielle          |None         |USA     |\n",
      "|1220|KRALJ                  |Jan              |None         |SLO     |\n",
      "|1221|RAVNJAK                |Tim-Kevin        |None         |SLO     |\n",
      "|1222|TAKANASHI              |Sara             |None         |JPN     |\n",
      "|1223|HENRICH                |Taylor           |None         |CAN     |\n",
      "|1224|KOREK                  |Dusty            |None         |CAN     |\n",
      "|1225|LEMARE                 |Lea              |None         |FRA     |\n",
      "|1226|ALTHAUS                |Katharina        |None         |GER     |\n",
      "|1227|NAGAI                  |Hideaki          |None         |JPN     |\n",
      "|1228|CIESLAR                |Adam             |None         |POL     |\n",
      "|1229|KLIMOV                 |Evgeniy          |None         |RUS     |\n",
      "|1230|PIHO                   |Han Hendrik      |None         |EST     |\n",
      "|1231|COSTA                  |Samuel           |None         |ITA     |\n",
      "|1232|PASICHNYK              |Viktor           |None         |UKR     |\n",
      "|1233|LEINONEN               |Mikke            |None         |FIN     |\n",
      "|1234|VAEHAESOEYRINKI        |Eetu             |None         |FIN     |\n",
      "|1235|TAKAHASHI              |Hiroatsu         |None         |JPN     |\n",
      "|1236|SASAHARA               |Yuki             |None         |JPN     |\n",
      "|1237|ORLOVA                 |Maria            |None         |RUS     |\n",
      "|1238|POTYLITSINA            |Olga             |None         |RUS     |\n",
      "|1239|NEILSON                |Eric             |None         |CAN     |\n",
      "|1240|KEFALAS                |Alexandros       |None         |GRE     |\n",
      "|1241|FLOCK                  |Janine           |None         |AUT     |\n",
      "|1242|MAIER                  |Raphael          |None         |AUT     |\n",
      "|1243|CHAFFER                |Lucy             |None         |AUS     |\n",
      "|1244|GRIEBEL                |Sophia           |None         |GER     |\n",
      "|1245|KROECKEL               |Alexander        |None         |GER     |\n",
      "|1246|THEES                  |Marion           |None         |GER     |\n",
      "|1247|LEE                    |Hansin           |None         |KOR     |\n",
      "|1248|YUN                    |Sungbin          |None         |KOR     |\n",
      "|1249|GREENWOOD              |Sean             |None         |IRL     |\n",
      "|1250|PRIEDULENA             |Lelde            |None         |LAT     |\n",
      "|1251|PARSONS                |Dominic Edward   |None         |GBR     |\n",
      "|1252|TREGYBOV               |Nikita           |None         |RUS     |\n",
      "|1253|BELOV                  |Evgeniy          |None         |RUS     |\n",
      "|1254|ARDISAUSKAITE          |Ingrida          |None         |LTU     |\n",
      "|1255|STROLIA                |Vytautas         |None         |LTU     |\n",
      "|1256|GLAVATSKIKH            |Konstantin       |None         |RUS     |\n",
      "|1257|TSINZOV                |Veselin          |None         |BUL     |\n",
      "|1258|GRIDIN                 |Andrey           |None         |BUL     |\n",
      "|1259|GRIGOROVA-BURGOVA      |Antoniya         |None         |BUL     |\n",
      "|1260|USTIUGOV               |Sergey           |None         |RUS     |\n",
      "|1261|KUBINSKA               |Kornelia         |None         |POL     |\n",
      "|1262|SZYMANCZAK             |Agnieszka        |None         |POL     |\n",
      "|1263|ANTOLEC                |Jan              |None         |POL     |\n",
      "|1264|GAZUREK                |Sebastian        |None         |POL     |\n",
      "|1265|KLISZ                  |Pawel            |None         |POL     |\n",
      "|1266|STAREGA                |Maciej           |None         |POL     |\n",
      "|1267|FERNANDEZ              |Yonathan Jesus   |None         |CHI     |\n",
      "|1268|DOTSENKO               |Anastasia        |None         |RUS     |\n",
      "|1269|ZHUKOVA                |Natalia          |None         |RUS     |\n",
      "|1270|IVANOVA                |Julia            |None         |RUS     |\n",
      "|1271|KUZIUKOVA              |Olga             |None         |RUS     |\n",
      "|1272|REZASOLTANI            |Farzaneh         |None         |IRI     |\n",
      "|1273|KAMINSKAYA             |Valiantsina      |None         |BLR     |\n",
      "|1274|SARA                   |Timea            |None         |ROU     |\n",
      "|1275|AKHMADIYEV             |Yerdos           |None         |KAZ     |\n",
      "|1276|VOLOTKA                |Denis            |None         |KAZ     |\n",
      "|1277|KOLOMINA               |Yelena           |None         |KAZ     |\n",
      "|1278|OSSIPOVA               |Tatyana          |None         |KAZ     |\n",
      "|1279|POLTORANIN             |Alexey           |None         |KAZ     |\n",
      "|1280|RAGOZIN                |Roman            |None         |KAZ     |\n",
      "|1281|CICHERO                |Federico Pablo   |None         |ARG     |\n",
      "|1282|AYMONIER               |Celia            |None         |FRA     |\n",
      "|1283|BACKSCHEIDER           |Adrien           |None         |FRA     |\n",
      "|1284|GROS                   |Baptiste         |None         |FRA     |\n",
      "|1285|JAY                    |Renaud           |None         |FRA     |\n",
      "|1286|JEAN                   |Aurore           |None         |FRA     |\n",
      "|1287|RANKEL                 |Raido            |None         |EST     |\n",
      "|1288|SELLIS                 |Siim             |None         |EST     |\n",
      "|1289|BABIKOV                |Ivan             |None         |CAN     |\n",
      "|1290|COCKNEY                |Jesse            |None         |CAN     |\n",
      "|1291|KILLICK                |Graeme           |None         |CAN     |\n",
      "|1292|NISHIKAWA              |Emily            |None         |CAN     |\n",
      "|1293|WIDMER                 |Heidi            |None         |CAN     |\n",
      "|1294|VALJAS                 |Len              |None         |CAN     |\n",
      "|1295|ERIKSON                |Hanna            |None         |SWE     |\n",
      "|1296|NOECKLER               |Dietmar          |None         |ITA     |\n",
      "|1297|PELLEGRINO             |Federico         |None         |ITA     |\n",
      "|1298|PELLEGRIN              |Mattia           |None         |ITA     |\n",
      "|1299|NIZZI                  |Enrico           |None         |ITA     |\n",
      "|1300|DE FABIANI             |Francesco        |None         |ITA     |\n",
      "|1301|AGREITER               |Debora           |None         |ITA     |\n",
      "|1302|DE MARTIN TOPRANIN     |Virginia         |None         |ITA     |\n",
      "|1303|PILLER                 |Marina           |None         |ITA     |\n",
      "|1304|DEBERTOLIS             |Ilaria           |None         |ITA     |\n",
      "|1305|VUERICH                |Gaia             |None         |ITA     |\n",
      "|1306|LAURENT                |Greta            |None         |ITA     |\n",
      "|1307|KOVACEVIC              |Ivana            |None         |SRB     |\n",
      "|1308|DADIC                  |Edi              |None         |CRO     |\n",
      "|1309|GOLBERG                |Paal             |None         |NOR     |\n",
      "|1310|ROETHE                 |Sjur             |None         |NOR     |\n",
      "|1311|SARGENT                |Ida              |None         |USA     |\n",
      "|1312|DIGGINS                |Jessica          |None         |USA     |\n",
      "|1313|ROSSITER               |Jan              |None         |IRL     |\n",
      "|1314|BOLD                   |Byambadorj       |None         |MGL     |\n",
      "|1315|ANGELIS                |Apostolos        |None         |GRE     |\n",
      "|1316|TSAKIRI                |Panagiota        |None         |GRE     |\n",
      "|1317|MAYERHOFER             |Veronika         |None         |AUT     |\n",
      "|1318|SCHWARZ                |Nathalie         |None         |AUT     |\n",
      "|1319|STADLOBER              |Teresa           |None         |AUT     |\n",
      "|1320|HAUKE                  |Max              |None         |AUT     |\n",
      "|1321|TRITSCHER              |Bernhard         |None         |AUT     |\n",
      "|1322|BELLINGHAM             |Phillip          |None         |AUS     |\n",
      "|1323|SEMENOV                |Michail          |None         |BLR     |\n",
      "|1324|BING                   |Thomas           |None         |GER     |\n",
      "|1325|DOTZLER                |Hannes           |None         |GER     |\n",
      "|1326|EISENLAUER             |Sebastian        |None         |GER     |\n",
      "|1327|BJORNSEN               |Sadie            |None         |USA     |\n",
      "|1328|GREGG                  |Brian            |None         |USA     |\n",
      "|1329|MIKKONEN               |Juho             |None         |FIN     |\n",
      "|1330|SARASOJA-LILJA         |Riikka           |None         |FIN     |\n",
      "|1331|HWANG                  |Jun-Ho           |None         |KOR     |\n",
      "|1332|GROHOVA                |Karolina         |None         |CZE     |\n",
      "|1333|NOVAKOVA               |Petra            |None         |CZE     |\n",
      "|1334|VRABCOVA-NYVLTOVA      |Eva              |None         |CZE     |\n",
      "|1335|ANTYPENKO              |Tetyana          |None         |UKR     |\n",
      "|1336|DAUSHKANE              |Inga             |None         |LAT     |\n",
      "|1337|BIRGISSON              |Saevar           |None         |ISL     |\n",
      "|1338|BJORNSEN               |Erik             |None         |USA     |\n",
      "|1339|BAUMANN                |Jonas            |None         |SUI     |\n",
      "|1340|HEDIGER                |Jovian           |None         |SUI     |\n",
      "|1341|CEBASEK                |Alenka           |None         |SLO     |\n",
      "|1342|RAZINGER               |Nika             |None         |SLO     |\n",
      "|1343|KOLAROSKA              |Marija           |None         |MKD     |\n",
      "|1344|SCHAAD                 |Roman            |None         |SUI     |\n",
      "|1345|YEGHOYAN               |Artur            |None         |ARM     |\n",
      "|1346|JESPERSEN              |Chris Andre      |None         |NOR     |\n",
      "|1347|PETITJEAN              |Mathilde Amivi   |None         |TOG     |\n",
      "|1348|LISOGOR                |Marina           |None         |UKR     |\n",
      "|1349|ANGER                  |Lucia            |None         |GER     |\n",
      "|1350|BUILLET                |Marion           |None         |FRA     |\n",
      "|1351|MORRONE DI SILVESTRI   |Angelica         |None         |DMA     |\n",
      "|1352|DI SILVESTRI           |Gary             |None         |DMA     |\n",
      "|1353|IQBAL                  |Nadeem           |None         |IND     |\n",
      "|1354|GALSTYAN               |Katya            |None         |ARM     |\n",
      "|1355|MURAKAMI               |Kanako           |None         |JPN     |\n",
      "|1356|GE                     |Misha            |None         |UZB     |\n",
      "|1357|BYCHENKO               |Alexei           |None         |ISR     |\n",
      "|1358|RAYA                   |Javier           |None         |ESP     |\n",
      "|1359|GODOROZHA              |Yakov            |None         |UKR     |\n",
      "|1360|MEITE                  |Mae Berenice     |None         |FRA     |\n",
      "|1361|RAJICOVA               |Nicole           |None         |SVK     |\n",
      "|1362|PARKINSON              |Paul Bonifacio   |None         |ITA     |\n",
      "|1363|DALEMAN                |Gabrielle        |None         |CAN     |\n",
      "|1364|FIRUS                  |Liam             |None         |CAN     |\n",
      "|1365|HAN                    |Brooklee         |None         |AUS     |\n",
      "|1366|KERRY                  |Brendan          |None         |AUS     |\n",
      "|1367|EDMUNDS                |Polina           |None         |USA     |\n",
      "|1368|WILLIAMS               |Isadora          |None         |BRA     |\n",
      "|1369|KIM                    |Hae Jin          |None         |KOR     |\n",
      "|1370|WEINZIERL              |Nathalie         |None         |GER     |\n",
      "|1371|GJERSEM                |Anne Line        |None         |NOR     |\n",
      "|1372|UKOLOVA                |Elizaveta        |None         |CZE     |\n",
      "|1373|HENDRICKX              |Jorik            |None         |BEL     |\n",
      "|1374|BATURINA               |Ekaterina        |None         |RUS     |\n",
      "|1375|PERETYAGIN             |Aleksander       |None         |RUS     |\n",
      "|1376|BENYOV                 |Stanislav        |None         |BUL     |\n",
      "|1377|KULS                   |Ewa              |None         |POL     |\n",
      "|1378|WOJTUSCISZYN           |Natalia          |None         |POL     |\n",
      "|1379|EDNEY                  |Samuel           |None         |CAN     |\n",
      "|1380|JONES                  |Arianne          |None         |CAN     |\n",
      "|1381|MCRAE                  |Kimberley        |None         |CAN     |\n",
      "|1382|BONNEFOY               |Morgane          |None         |FRA     |\n",
      "|1383|GBUROVA                |Viera            |None         |SVK     |\n",
      "|1384|ROBATSCHER             |Sandra           |None         |ITA     |\n",
      "|1385|FISCHNALLER            |Dominik          |None         |ITA     |\n",
      "|1386|RIEDER                 |Emanuel          |None         |ITA     |\n",
      "|1387|SUNG                   |Eunryung         |None         |KOR     |\n",
      "|1388|KELLY                  |Aidan            |None         |USA     |\n",
      "|1389|MAZDZER                |Christopher      |None         |USA     |\n",
      "|1390|SHKHUMOVA              |Olena            |None         |UKR     |\n",
      "|1391|KIM                    |Donghyeon        |None         |KOR     |\n",
      "|1392|KASTLUNGER             |Miriam           |None         |AUT     |\n",
      "|1393|KOPPANG                |Jo Alexander     |None         |NOR     |\n",
      "|1394|NOERBECH               |Thor Haug        |None         |NOR     |\n",
      "|1395|ROLFSEN                |Toennes Stang    |None         |NOR     |\n",
      "|1396|PLATZER                |Birgit           |None         |AUT     |\n",
      "|1397|AXENOVA                |Yelizaveta       |None         |KAZ     |\n",
      "|1398|BANANI                 |Bruno            |None         |TGA     |\n",
      "|1399|KESHAVAN               |Shiva            |None         |IND     |\n",
      "|1400|SOBOLEVA               |Natalia          |None         |RUS     |\n",
      "|1401|NEDEFUJI               |Ayumu            |None         |JPN     |\n",
      "|1402|KADONO                 |Yuki             |None         |JPN     |\n",
      "|1403|KOLEGOV                |Valery           |None         |RUS     |\n",
      "|1404|KOPRIVITSA             |Anton            |None         |RUS     |\n",
      "|1405|KHARITONOV             |Pavel            |None         |RUS     |\n",
      "|1406|LI                     |Shuang           |None         |CHN     |\n",
      "|1407|BANKES                 |Charlotte        |None         |FRA     |\n",
      "|1408|GRIMAL                 |Clemence         |None         |FRA     |\n",
      "|1409|BLASMAN                |Jenna            |None         |CAN     |\n",
      "|1410|HOLDEN                 |Jake             |None         |CAN     |\n",
      "|1411|LEESON                 |Marianne         |None         |CAN     |\n",
      "|1412|LIVINGSTON             |Derek            |None         |CAN     |\n",
      "|1413|PARROT                 |Maxence          |None         |CAN     |\n",
      "|1414|ROBANSKE               |Christopher      |None         |CAN     |\n",
      "|1415|TOUTANT                |Sebastien        |None         |CAN     |\n",
      "|1416|TSUYUKI                |Katie            |None         |CAN     |\n",
      "|1417|OBRIEN                 |Spencer          |None         |CAN     |\n",
      "|1418|HERRERO                |Laro             |None         |ESP     |\n",
      "|1419|OCHNER                 |Nadya            |None         |ITA     |\n",
      "|1420|VISINTIN               |Omar             |None         |ITA     |\n",
      "|1421|LEONI                  |Tommaso          |None         |ITA     |\n",
      "|1422|MOIOLI                 |Michela          |None         |ITA     |\n",
      "|1423|EGUIBAR                |Lucas            |None         |ESP     |\n",
      "|1424|MATTSSON               |Niklas           |None         |SWE     |\n",
      "|1425|THORGREN               |Sven             |None         |SWE     |\n",
      "|1426|BERGREM                |Torgeir          |None         |NOR     |\n",
      "|1427|BRAATEN                |Gjermund         |None         |NOR     |\n",
      "|1428|NORENDAL               |Silje            |None         |NOR     |\n",
      "|1429|ULSLETTEN              |Emil Andre       |None         |NOR     |\n",
      "|1430|GASSER                 |Anna             |None         |AUT     |\n",
      "|1431|KRAINER                |Adrian           |None         |AUT     |\n",
      "|1432|SCHATTSCHNEIDER        |Clemens          |None         |AUT     |\n",
      "|1433|WEISSENBACHER          |Mathias          |None         |AUT     |\n",
      "|1434|HAEMMERLE              |Alessandro       |None         |AUT     |\n",
      "|1435|SHORR                  |Karly            |None         |USA     |\n",
      "|1436|WALKER                 |Ty               |None         |USA     |\n",
      "|1437|GULDEMOND              |Charles          |None         |USA     |\n",
      "|1438|STASSEL                |Ryan             |None         |USA     |\n",
      "|1439|JENSON                 |Jessika          |None         |USA     |\n",
      "|1440|GOLD                   |Taylor           |None         |USA     |\n",
      "|1441|JACOB                  |Trevor           |None         |USA     |\n",
      "|1442|HERNANDEZ              |Jacqueline       |None         |USA     |\n",
      "|1443|BAUMEISTER             |Stefan           |None         |GER     |\n",
      "|1444|BERG                   |Paul             |None         |GER     |\n",
      "|1445|ENNE                   |Merika           |None         |FIN     |\n",
      "|1446|PAUMOLA                |Ville            |None         |FIN     |\n",
      "|1447|SUITIALA               |Ella             |None         |FIN     |\n",
      "|1448|TAKA                   |Jussi            |None         |FIN     |\n",
      "|1449|TONTERI                |Roope            |None         |FIN     |\n",
      "|1450|KIM                    |Sang-kyum        |None         |KOR     |\n",
      "|1451|BOLTON                 |Cameron          |None         |AUS     |\n",
      "|1452|BROCKHOFF              |Belle            |None         |AUS     |\n",
      "|1453|CALLISTER              |Kent             |None         |AUS     |\n",
      "|1454|HUGHES                 |Jarryd           |None         |AUS     |\n",
      "|1455|MAGIROS                |Stephanie        |None         |AUS     |\n",
      "|1456|TRIGGER                |Hannah           |None         |AUS     |\n",
      "|1457|LEE                    |Kwang-ki         |None         |KOR     |\n",
      "|1458|OCONNOR                |Seamus           |None         |IRL     |\n",
      "|1459|NOVAK                  |Emil             |None         |CZE     |\n",
      "|1460|LEDECKA                |Ester            |None         |CZE     |\n",
      "|1461|FULLER                 |Aimee            |None         |GBR     |\n",
      "|1462|MORGAN                 |Billy            |None         |GBR     |\n",
      "|1463|NICHOLLS               |Jamie            |None         |GBR     |\n",
      "|1464|GOTLIEB                |Shelly           |None         |NZL     |\n",
      "|1465|LUXTON                 |Stefi            |None         |NZL     |\n",
      "|1466|PRIOR                  |Christy          |None         |NZL     |\n",
      "|1467|TORR                   |Rebecca          |None         |NZL     |\n",
      "|1468|DEKKER                 |Michelle         |None         |NED     |\n",
      "|1469|DE JONG                |Dimi             |None         |NED     |\n",
      "|1470|WATTER                 |Tim              |None         |SUI     |\n",
      "|1471|MUELLER                |Stefanie         |None         |SUI     |\n",
      "|1472|ROHRER                 |Verena           |None         |SUI     |\n",
      "|1473|SCHERRER               |Jan              |None         |SUI     |\n",
      "|1474|DERUNGS                |Isabel           |None         |SUI     |\n",
      "|1475|GERBER                 |Sandra Daniela   |None         |SUI     |\n",
      "|1476|JAMES                  |Marvin           |None         |SUI     |\n",
      "|1477|JENNY                  |Ladina           |None         |SUI     |\n",
      "|1478|KOCH                   |Lucien           |None         |SUI     |\n",
      "|1479|KOENZ                  |Elena            |None         |SUI     |\n",
      "|1480|KOTNIK                 |Gloria           |None         |SLO     |\n",
      "|1481|SAKAZUME               |Ryosuke          |None         |JPN     |\n",
      "|1482|SEREIKAITE             |Agne             |None         |LTU     |\n",
      "|1483|PROSVIRNOVA            |Sofia            |None         |RUS     |\n",
      "|1484|REZNIK                 |Valeriya         |None         |RUS     |\n",
      "|1485|SIARHEYU               |Maksim           |None         |BLR     |\n",
      "|1486|TALAYEVA               |Volha            |None         |BLR     |\n",
      "|1487|BODOVA                 |Tatiana          |None         |SVK     |\n",
      "|1488|DOTTI                  |Tommaso          |None         |ITA     |\n",
      "|1489|LOBELLO                |Anthony          |None         |ITA     |\n",
      "|1490|SCOTT                  |Emily            |None         |USA     |\n",
      "|1491|KONYA                  |Zsofia           |None         |HUN     |\n",
      "|1492|LIU SHAOLIN            |Sandor           |None         |HUN     |\n",
      "|1493|LOCKETT                |Deanna           |None         |AUS     |\n",
      "|1494|ZHUMAGAZIYEV           |Nurbergen        |None         |KAZ     |\n",
      "|1495|NIKISHA                |Denis            |None         |KAZ     |\n",
      "|1496|VLASOVA                |Safiya           |None         |UKR     |\n",
      "|1497|SIN                    |Da Woon          |None         |KOR     |\n",
      "|1498|PARK                   |Se Yeong         |None         |KOR     |\n",
      "|1499|LEE                    |Han-Bin          |None         |KOR     |\n",
      "|1500|SEIDEL                 |Anna             |None         |GER     |\n",
      "|1501|LOUDIN                 |Vojtech          |None         |CZE     |\n",
      "|1502|PUKITIS                |Roberto          |None         |LAT     |\n",
      "|1503|SHOEBRIDGE             |Richard          |None         |GBR     |\n",
      "|1504|VAN RUIJVEN            |Lara             |None         |NED     |\n",
      "|1505|ITO                    |Yuki             |None         |JPN     |\n",
      "|1506|YAMADA                 |Yurina           |None         |JPN     |\n",
      "|1507|ZIOBRO                 |Jan              |None         |POL     |\n",
      "|1508|PCHELINTSEV            |Alexey           |None         |KAZ     |\n",
      "|1509|ZHAPAROV               |Marat            |None         |KAZ     |\n",
      "|1510|CLAIR                  |Julia            |None         |FRA     |\n",
      "|1511|ROMASHOV               |Alexey           |None         |RUS     |\n",
      "|1512|AVVAKUMOVA             |Irina            |None         |RUS     |\n",
      "|1513|LAMY CHAPPUIS          |Ronan            |None         |FRA     |\n",
      "|1514|SAMMELSELG             |Siim-Tanel       |None         |EST     |\n",
      "|1515|INSAM                  |Evelyn           |None         |ITA     |\n",
      "|1516|RUNGGALDIER            |Elena            |None         |ITA     |\n",
      "|1517|JAHR                   |Line             |None         |NOR     |\n",
      "|1518|LUNDBY                 |Maren            |None         |NOR     |\n",
      "|1519|SMEBY                  |Helena Olsson    |None         |NOR     |\n",
      "|1520|VELTA                  |Rune             |None         |NOR     |\n",
      "|1521|HAZETDINOV             |Ilmir            |None         |RUS     |\n",
      "|1522|MAKSIMOCHKIN           |Mikhail          |None         |RUS     |\n",
      "|1523|ROWLEY                 |Matthew          |None         |CAN     |\n",
      "|1524|TANAKA                 |Atsuko           |None         |CAN     |\n",
      "|1525|VAN                    |Lindsey          |None         |USA     |\n",
      "|1526|HENDRICKSON            |Sarah            |None         |USA     |\n",
      "|1527|JEROME                 |Jessica          |None         |USA     |\n",
      "|1528|POLYCHRONIDIS          |Nico             |None         |GRE     |\n",
      "|1529|HOELZL                 |Chiara           |None         |AUT     |\n",
      "|1530|GRAESSLER              |Ulrike           |None         |GER     |\n",
      "|1531|KYKKAENEN              |Julia            |None         |FIN     |\n",
      "|1532|MAEAETTAE              |Jarkko           |None         |FIN     |\n",
      "|1533|MUOTKA                 |Olli             |None         |FIN     |\n",
      "|1534|CHOI                   |Seou             |None         |KOR     |\n",
      "|1535|ERNST                  |Gianina          |None         |GER     |\n",
      "|1536|WINDMUELLER            |Bigna            |None         |SUI     |\n",
      "|1537|LOGAR                  |Eva              |None         |SLO     |\n",
      "|1538|POZUN                  |Katja            |None         |SLO     |\n",
      "|1539|ROGELJ                 |Spela            |None         |SLO     |\n",
      "|1540|VTIC                   |Maja             |None         |SLO     |\n",
      "|1541|PITEA                  |Sorin Iulian     |None         |ROU     |\n",
      "|1542|KONDO                  |Taro             |None         |JPN     |\n",
      "|1543|SUMIYOSHI              |Miyako           |None         |JPN     |\n",
      "|1544|KIKUCHI                |Ayaka            |None         |JPN     |\n",
      "|1545|FUJIMURA               |Shoko            |None         |JPN     |\n",
      "|1546|YAMANAKA               |Daichi           |None         |JPN     |\n",
      "|1547|OSHIGIRI               |Misaki           |None         |JPN     |\n",
      "|1548|TAKAGI                 |Nana             |None         |JPN     |\n",
      "|1549|NOGAL                  |Artur            |None         |POL     |\n",
      "|1550|KOVAL                  |Denis            |None         |RUS     |\n",
      "|1551|KUZNETCOV              |Artyom           |None         |RUS     |\n",
      "|1552|YUSKOV                 |Denis            |None         |RUS     |\n",
      "|1553|MALYSHEVA              |Yekaterina       |None         |RUS     |\n",
      "|1554|ANDERSSON              |David            |None         |SWE     |\n",
      "|1555|AYDOVA                 |Yekaterina       |None         |KAZ     |\n",
      "|1556|MEZENTSEV              |Fyodor           |None         |KAZ     |\n",
      "|1557|SUNG                   |Ching-Yang       |None         |TPE     |\n",
      "|1558|FERNANDEZ              |Ewen             |None         |FRA     |\n",
      "|1559|BLONDIN                |Ivanie           |None         |CAN     |\n",
      "|1560|CHRIST                 |Kali             |None         |CAN     |\n",
      "|1561|IRVINE                 |Kaylin           |None         |CAN     |\n",
      "|1562|JUNIO                  |Gilmore          |None         |CAN     |\n",
      "|1563|OUARDI                 |Muncef           |None         |CAN     |\n",
      "|1564|TUTT                   |Brianne          |None         |CAN     |\n",
      "|1565|WOTHERSPOON            |Danielle         |None         |CAN     |\n",
      "|1566|DE HAITRE              |Vincent          |None         |CAN     |\n",
      "|1567|DALDOSSI               |Yvonne           |None         |ITA     |\n",
      "|1568|LOLLOBRIGIDA           |Francesca        |None         |ITA     |\n",
      "|1569|BOSA                   |David            |None         |ITA     |\n",
      "|1570|GIOVANNINI             |Andrea           |None         |ITA     |\n",
      "|1571|BOKKO                  |Hege             |None         |NOR     |\n",
      "|1572|HVAMMEN                |Espen            |None         |NOR     |\n",
      "|1573|LORENTZEN              |Havard           |None         |NOR     |\n",
      "|1574|SPIELER NILSEN         |Simen            |None         |NOR     |\n",
      "|1575|NJAATUN                |Ida              |None         |NOR     |\n",
      "|1576|MANTIA                 |Joey             |None         |USA     |\n",
      "|1577|GARCIA                 |Jonathan         |None         |USA     |\n",
      "|1578|LEHMAN                 |Emery            |None         |USA     |\n",
      "|1579|NAGY                   |Konrad           |None         |HUN     |\n",
      "|1580|BITTNER                |Vanessa          |None         |AUT     |\n",
      "|1581|HUDEY                  |Marsha           |None         |CAN     |\n",
      "|1582|BOWE                   |Brittany         |None         |USA     |\n",
      "|1583|PULLI                  |Tommi            |None         |FIN     |\n",
      "|1584|KIM                    |Taeyun           |None         |KOR     |\n",
      "|1585|PARK                   |Seung Ju         |None         |KOR     |\n",
      "|1586|KIM                    |Bo Reum          |None         |KOR     |\n",
      "|1587|KIM                    |Hyun Yung        |None         |KOR     |\n",
      "|1588|YANG                   |Shin Young       |None         |KOR     |\n",
      "|1589|GEISREITER             |Moritz           |None         |GER     |\n",
      "|1590|ANGERMUELLER           |Monique          |None         |GER     |\n",
      "|1591|BAUMGAERTNER           |Alexej           |None         |GER     |\n",
      "|1592|KRAUS                  |Bente            |None         |GER     |\n",
      "|1593|ROTH                   |Denise           |None         |GER     |\n",
      "|1594|LI                     |Dan              |None         |CHN     |\n",
      "|1595|ZHAO                   |Xin              |None         |CHN     |\n",
      "|1596|MU                     |Zhongsheng       |None         |CHN     |\n",
      "|1597|BAI                    |Qiuming          |None         |CHN     |\n",
      "|1598|TIAN                   |Guojun           |None         |CHN     |\n",
      "|1599|LI                     |Qishi            |None         |CHN     |\n",
      "|1600|PEETERS                |Jelena           |None         |BEL     |\n",
      "|1601|SWINGS                 |Bart             |None         |BEL     |\n",
      "|1602|DE JONG                |Antoinette       |None         |NED     |\n",
      "|1603|WILLIAMSON             |Shane            |None         |JPN     |\n",
      "|1604|KIM                    |Junho            |None         |KOR     |\n",
      "|1605|SERYAYEV               |Yevgeny          |None         |RUS     |\n",
      "|1606|SUVOROV                |Aleksey          |None         |RUS     |\n",
      "|1607|BOGOLYUBSKY            |Igor             |None         |RUS     |\n",
      "|1608|JANUSKEVICIUTE         |Ieva             |None         |LTU     |\n",
      "|1609|CLARO                  |Eugenio          |None         |CHI     |\n",
      "|1610|VON APPEN              |Henrik           |None         |CHI     |\n",
      "|1611|BRACHNER               |Patrick          |None         |AZE     |\n",
      "|1612|CHRAPEK                |Karolina         |None         |POL     |\n",
      "|1613|GASIENICA-DANIEL       |Maryna           |None         |POL     |\n",
      "|1614|GARNIEWICZ             |Mateusz          |None         |POL     |\n",
      "|1615|JASICZEK               |Michal           |None         |POL     |\n",
      "|1616|VANDEPUT               |Virgile          |None         |ISR     |\n",
      "|1617|TAZI                   |Kenza            |None         |MAR     |\n",
      "|1618|KIYADARBANDSARI        |Mohammad         |None         |IRI     |\n",
      "|1619|ABBASI                 |Forough          |None         |IRI     |\n",
      "|1620|DANILOCHKIN            |Yuri             |None         |BLR     |\n",
      "|1621|PFIFFNER               |Marco            |None         |LIE     |\n",
      "|1622|TAYLOR                 |Alexandra        |None         |CYP     |\n",
      "|1623|CAILL                  |Ania Monica      |None         |ROU     |\n",
      "|1624|HADZIC                 |Tarik            |None         |MNE     |\n",
      "|1625|BULATOVIC              |Ivana            |None         |MNE     |\n",
      "|1626|TRIKHICHEV             |Pavel            |None         |RUS     |\n",
      "|1627|BANCORA                |Salome           |None         |ARG     |\n",
      "|1628|BIRKNER KETELHOHN      |Jorge F.         |None         |ARG     |\n",
      "|1629|ALOPINA                |Ksenia           |None         |RUS     |\n",
      "|1630|MAYTAKOV               |Sergei           |None         |RUS     |\n",
      "|1631|NOVIKOV                |Vladislav        |None         |RUS     |\n",
      "|1632|KHOROSHILOV            |Alexander        |None         |RUS     |\n",
      "|1633|GLEBOV                 |Alexander        |None         |RUS     |\n",
      "|1634|KHUBER                 |Martin           |None         |KAZ     |\n",
      "|1635|ZHANG                  |Yuxin            |None         |CHN     |\n",
      "|1636|WIKSTROEM              |Emelie           |None         |SWE     |\n",
      "|1637|HECTOR                 |Sara             |None         |SWE     |\n",
      "|1638|SWENN-LARSSON          |Anna             |None         |SWE     |\n",
      "|1639|ACHIRILOAIE            |Ioan Valeriu     |None         |ROU     |\n",
      "|1640|PELLEGRIN              |Elise            |None         |MLT     |\n",
      "|1641|DE ALIPRANDINI         |Luca             |None         |ITA     |\n",
      "|1642|BROWN                  |Philip           |None         |CAN     |\n",
      "|1643|PHILP                  |Trevor           |None         |CAN     |\n",
      "|1644|PRIDY                  |Morgan           |None         |CAN     |\n",
      "|1645|TERWIEL                |Elli             |None         |CAN     |\n",
      "|1646|THOMSEN                |Benjamin         |None         |CAN     |\n",
      "|1647|NANI                   |Roberto          |None         |ITA     |\n",
      "|1648|BENDIK                 |Martin           |None         |SVK     |\n",
      "|1649|FALAT                  |Matej            |None         |SVK     |\n",
      "|1650|ZAMPA                  |Andreas          |None         |SVK     |\n",
      "|1651|PUENTE TASIAS          |Alex             |None         |ESP     |\n",
      "|1652|BAMFORD                |Emily            |None         |AUS     |\n",
      "|1653|CHRYSTAL               |Lavinia          |None         |AUS     |\n",
      "|1654|DEMSCHAR               |Dominic          |None         |AUS     |\n",
      "|1655|PERAUDO                |Ross             |None         |AUS     |\n",
      "|1656|VUKICEVIC              |Marko            |None         |SRB     |\n",
      "|1657|KOMSIC                 |Andrea           |None         |CRO     |\n",
      "|1658|ZUBCIC                 |Filip            |None         |CRO     |\n",
      "|1659|VIDOVIC                |Matej            |None         |CRO     |\n",
      "|1660|BRIGOVIC               |Sebastian        |None         |CRO     |\n",
      "|1661|MIKLOS                 |Edit             |None         |HUN     |\n",
      "|1662|LYNE                   |Conor            |None         |IRL     |\n",
      "|1663|KILDE                  |Aleksander Aamodt|None         |NOR     |\n",
      "|1664|MOWINCKEL              |Ragnhild         |None         |NOR     |\n",
      "|1665|SOLEVAAG               |Sebastian-Foss   |None         |NOR     |\n",
      "|1666|HUETTER                |Cornelia         |None         |AUT     |\n",
      "|1667|STERZ                  |Regina           |None         |AUT     |\n",
      "|1668|STRIEDINGER            |Otmar            |None         |AUT     |\n",
      "|1669|GOLDBERG               |Jared            |None         |USA     |\n",
      "|1670|WILES                  |Jacqueline       |None         |USA     |\n",
      "|1671|LUITZ                  |Stefan           |None         |GER     |\n",
      "|1672|PALONIEMI              |Santeri          |None         |FIN     |\n",
      "|1673|GANONG                 |Travis           |None         |USA     |\n",
      "|1674|PARK                   |Je-Yun           |None         |KOR     |\n",
      "|1675|GIM                    |So-Hui           |None         |KOR     |\n",
      "|1676|SUCHARITAKUL           |Kanes            |None         |THA     |\n",
      "|1677|ALESSANDRIA            |Arnaud           |None         |MON     |\n",
      "|1678|DUBOVSKA               |Martina          |None         |CZE     |\n",
      "|1679|ONSKULIS               |Martins          |None         |LAT     |\n",
      "|1680|GUDMUNDSSON            |Brynjar Jokull   |None         |ISL     |\n",
      "|1681|KRISTGEIRSSON          |Einar Kristinn   |None         |ISL     |\n",
      "|1682|BARWOOD                |Adam             |None         |NZL     |\n",
      "|1683|VANAKORN               |Vanessa          |None         |THA     |\n",
      "|1684|MEHILLI                |Suela            |None         |ALB     |\n",
      "|1685|CAMPBELL               |Jasmine          |None         |ISV     |\n",
      "|1686|DIAS                   |Camille          |None         |POR     |\n",
      "|1687|HANSE                  |Arthur           |None         |POR     |\n",
      "|1688|YULE                   |Daniel           |None         |SUI     |\n",
      "|1689|ZENHAEUSERN            |Ramon            |None         |SUI     |\n",
      "|1690|MURISIER               |Justin           |None         |SUI     |\n",
      "|1691|AERNI                  |Luca             |None         |SUI     |\n",
      "|1692|CAVIEZEL               |Gino             |None         |SUI     |\n",
      "|1693|GISIN                  |Michelle         |None         |SUI     |\n",
      "|1694|HOLDENER               |Wendy            |None         |SUI     |\n",
      "|1695|SELVA                  |Federica         |None         |SMR     |\n",
      "|1696|KOSI                   |Klemen           |None         |SLO     |\n",
      "|1697|KRANJEC                |Zan              |None         |SLO     |\n",
      "|1698|LAVTAR                 |Katarina         |None         |SLO     |\n",
      "|1699|GOUTT                  |Yohan Goncalves  |None         |TLS     |\n",
      "|1700|STEYN                  |Luke             |None         |ZIM     |\n",
      "|1701|SIMSEK                 |Emre             |None         |TUR     |\n",
      "|1702|KANG                   |Young-Seo        |None         |KOR     |\n",
      "|1703|KOCAAGA                |Tugba            |None         |TUR     |\n",
      "|1704|KARIM                  |Muhammad         |None         |PAK     |\n",
      "|1705|DIPOL                  |Alessia Afi      |None         |TOG     |\n",
      "|1706|THAKUR                 |Himanshu         |None         |IND     |\n",
      "|1707|KYUNG                  |Sung Hyun        |None         |KOR     |\n",
      "|1708|HOJNISZ                |Monika           |None         |POL     |\n",
      "|1709|NOWAKOWSKA-ZIEMNIAK    |Weronika         |None         |POL     |\n",
      "|1710|GUZIK                  |Grzegorz         |None         |POL     |\n",
      "|1711|LEPEL                  |Rafal            |None         |POL     |\n",
      "|1712|SLONINA                |Lukasz           |None         |POL     |\n",
      "|1713|ZLATEV                 |Ivan             |None         |BUL     |\n",
      "|1714|STOYANOVA              |Desislava        |None         |BUL     |\n",
      "|1715|NAKAJIMA               |Yuki             |None         |JPN     |\n",
      "|1716|SUZUKI                 |Rina             |None         |JPN     |\n",
      "|1717|KOBAYASHI              |Miki             |None         |JPN     |\n",
      "|1718|CHEPELIN               |Vladimir         |None         |BLR     |\n",
      "|1719|LIADOV                 |Yuryi            |None         |BLR     |\n",
      "|1720|PISAREVA               |Nadzeya          |None         |BLR     |\n",
      "|1721|LOGINOV                |Alexander        |None         |RUS     |\n",
      "|1722|GLAZYRINA              |Ekaterina        |None         |RUS     |\n",
      "|1723|PIDRUCHNYI             |Dmytro           |None         |UKR     |\n",
      "|1724|ZHANG                  |Yan              |None         |CHN     |\n",
      "|1725|TANG                   |Jialin           |None         |CHN     |\n",
      "|1726|DREISSIGACKER          |Hannah           |None         |USA     |\n",
      "|1727|CHEVALIER              |Anais            |None         |FRA     |\n",
      "|1728|DESTHIEUX              |Simon            |None         |FRA     |\n",
      "|1729|LINDSTROEM             |Fredrik          |None         |SWE     |\n",
      "|1730|ERMITS                 |Kalev            |None         |EST     |\n",
      "|1731|GAIM                   |Grete            |None         |EST     |\n",
      "|1732|TALIHAERM              |Johanna          |None         |EST     |\n",
      "|1733|YURLOVA                |Daria            |None         |EST     |\n",
      "|1734|GONTIER                |Nicole           |None         |ITA     |\n",
      "|1735|RUNGGALDIER            |Alexia           |None         |ITA     |\n",
      "|1736|FIALKOVA               |Paulina          |None         |SVK     |\n",
      "|1737|HASILLA                |Tomas            |None         |SVK     |\n",
      "|1738|LOBO ESCOLAR           |Victor           |None         |ESP     |\n",
      "|1739|PANTOV                 |Anton            |None         |KAZ     |\n",
      "|1740|RAIKOVA                |Alina            |None         |KAZ     |\n",
      "|1741|USANOVA                |Darya            |None         |KAZ     |\n",
      "|1742|BOE                    |Johannes Thingnes|None         |NOR     |\n",
      "|1743|RINGEN                 |Elise            |None         |NOR     |\n",
      "|1744|ARWIDSON               |Tobias           |None         |SWE     |\n",
      "|1745|SZOCS                  |Emoke            |None         |HUN     |\n",
      "|1746|SOULIE                 |Laure            |None         |AND     |\n",
      "|1747|HAUSER                 |Lisa Theresa     |None         |AUT     |\n",
      "|1748|INNERHOFER             |Katharina        |None         |AUT     |\n",
      "|1749|HILDEBRAND             |Franziska        |None         |GER     |\n",
      "|1750|DAHLMEIER              |Laura            |None         |GER     |\n",
      "|1751|HEINICKE               |Megan            |None         |CAN     |\n",
      "|1752|TOIVANEN               |Ahti             |None         |FIN     |\n",
      "|1753|DAROZHKA               |Aliaksandr       |None         |BLR     |\n",
      "|1754|KRUPCIK                |Tomas            |None         |CZE     |\n",
      "|1755|KRCMAR                 |Michal           |None         |CZE     |\n",
      "|1756|LANDOVA                |Jitka            |None         |CZE     |\n",
      "|1757|PUSKARCIKOVA           |Eva              |None         |CZE     |\n",
      "|1758|LIGHTFOOT              |Amanda           |None         |GBR     |\n",
      "|1759|WIESTNER               |Serafin          |None         |SUI     |\n",
      "|1760|BOECKLI                |Claudio          |None         |SUI     |\n",
      "|1761|CADURISCH              |Irene            |None         |SUI     |\n",
      "|1762|GASPARIN               |Elisa            |None         |SUI     |\n",
      "|1763|OHACO                  |Dominique        |None         |CHI     |\n",
      "|1764|HOSHINO                |Junko            |None         |JPN     |\n",
      "|1765|TSUDA                  |Kentaro          |None         |JPN     |\n",
      "|1766|MITSUBOSHI             |Manami           |None         |JPN     |\n",
      "|1767|TAKAO                  |Chiho            |None         |JPN     |\n",
      "|1768|CROOK                  |Peter            |None         |IVB     |\n",
      "|1769|RIEMEN-ZEREBECKA       |Karolina         |None         |POL     |\n",
      "|1770|CHIRTCOVA              |Anastasiia       |None         |RUS     |\n",
      "|1771|PAVLENKO               |Aleksey          |None         |RUS     |\n",
      "|1772|BUROV                  |Ilya             |None         |RUS     |\n",
      "|1773|KROTOV                 |Pavel            |None         |RUS     |\n",
      "|1774|KORSUNOVA              |Veronika         |None         |RUS     |\n",
      "|1775|ORLOVA                 |Alexandra        |None         |RUS     |\n",
      "|1776|SLIVETS                |Assoli           |None         |RUS     |\n",
      "|1777|SLIVETS                |Timofei          |None         |RUS     |\n",
      "|1778|MIRTOVA                |Anna             |None         |RUS     |\n",
      "|1779|KORPACHEV              |Pavel            |None         |RUS     |\n",
      "|1780|MAKAGONOVA             |Natalya          |None         |RUS     |\n",
      "|1781|NABOKIKH               |Pavel            |None         |RUS     |\n",
      "|1782|CHESNOKOVA             |Elizavetta       |None         |RUS     |\n",
      "|1783|ALDABERGENOVA          |Zhanbota         |None         |KAZ     |\n",
      "|1784|INKARBEK               |Baglan           |None         |KAZ     |\n",
      "|1785|ADELISSE               |Antoine          |None         |FRA     |\n",
      "|1786|BARON                  |Alizee           |None         |FRA     |\n",
      "|1787|BERGER SABBATEL        |Marielle         |None         |FRA     |\n",
      "|1788|BERTONI                |Xavier           |None         |FRA     |\n",
      "|1789|BONNAIRE               |Jules            |None         |FRA     |\n",
      "|1790|CARADEUX               |Anais            |None         |FRA     |\n",
      "|1791|CAVET                  |Benjamin         |None         |FRA     |\n",
      "|1792|DEVOUASSOUX            |Jonas            |None         |FRA     |\n",
      "|1793|KRIEF                  |Thomas           |None         |FRA     |\n",
      "|1794|LAFFONT                |Perrine          |None         |FRA     |\n",
      "|1795|JOFFROY                |Stephanie        |None         |CHI     |\n",
      "|1796|PANCRAS                |Jeremy           |None         |FRA     |\n",
      "|1797|VALENTIN               |Benoit           |None         |FRA     |\n",
      "|1798|GRIFFITHS              |Katia            |None         |ESP     |\n",
      "|1799|SLEPECKA               |Natalia          |None         |SVK     |\n",
      "|1800|STROMKOVA              |Zuzana           |None         |SVK     |\n",
      "|1801|EDER                   |Markus           |None         |ITA     |\n",
      "|1802|BEAULIEU-MARCHAND      |Alex             |None         |CAN     |\n",
      "|1803|TSUBOTA                |Yuki             |None         |CAN     |\n",
      "|1804|DOREY                  |Justin           |None         |CAN     |\n",
      "|1805|GAGNON                 |Marc-Antoine     |None         |CAN     |\n",
      "|1806|GERRITS                |Travis           |None         |CAN     |\n",
      "|1807|GROENEWOUD             |Rosalind         |None         |CAN     |\n",
      "|1808|HANSEN                 |Keltie           |None         |CAN     |\n",
      "|1809|MARGETTS               |Matt             |None         |CAN     |\n",
      "|1810|TURSKI                 |Kaya             |None         |CAN     |\n",
      "|1811|EKLUND                 |John             |None         |SWE     |\n",
      "|1812|BERTAGNA               |Silvia           |None         |ITA     |\n",
      "|1813|TJADER                 |Jesper           |None         |SWE     |\n",
      "|1814|DAHLSTROM              |Emma             |None         |SWE     |\n",
      "|1815|FJALLSTROM             |Ludvig           |None         |SWE     |\n",
      "|1816|BOWMAN                 |Noah             |None         |CAN     |\n",
      "|1817|AURDAL                 |Aleksander       |None         |NOR     |\n",
      "|1818|BRAATEN                |Oystein          |None         |NOR     |\n",
      "|1819|HAATVEIT               |Andreas          |None         |NOR     |\n",
      "|1820|JUELL                  |Didrik Bastian   |None         |NOR     |\n",
      "|1821|LINDSTAD               |Jon Anders       |None         |NOR     |\n",
      "|1822|MITHASSEL              |Christian        |None         |NOR     |\n",
      "|1823|WESSEL                 |Hedvig           |None         |NOR     |\n",
      "|1824|NAESLUND               |Sandra           |None         |SWE     |\n",
      "|1825|OEHLING NORBERG        |Victor           |None         |SWE     |\n",
      "|1826|WESTER                 |Oscar            |None         |SWE     |\n",
      "|1827|HARLAUT                |Henrik           |None         |SWE     |\n",
      "|1828|PUZDERKO               |Mykola           |None         |UKR     |\n",
      "|1829|NOVOSAD                |Anastasiya       |None         |UKR     |\n",
      "|1830|MOKHNATSKA             |Nadiya           |None         |UKR     |\n",
      "|1831|BAIR                   |Philomena        |None         |AUT     |\n",
      "|1832|GOHL                   |Andreas          |None         |AUT     |\n",
      "|1833|LADNER                 |Marco            |None         |AUT     |\n",
      "|1834|TRIBONDEAU             |Luca             |None         |AUT     |\n",
      "|1835|WAHRSTOETTER           |Christoph        |None         |AUT     |\n",
      "|1836|GRIMUS                 |Anton            |None         |AUS     |\n",
      "|1837|HENSHAW                |Russell          |None         |AUS     |\n",
      "|1838|KENNEDY-SIM            |Sami             |None         |AUS     |\n",
      "|1839|PARKS                  |Nicole           |None         |AUS     |\n",
      "|1840|PEEL                   |Laura            |None         |AUS     |\n",
      "|1841|SCOTT                  |Danielle         |None         |AUS     |\n",
      "|1842|SEGAL                  |Anna             |None         |AUS     |\n",
      "|1843|SHEEHAN                |Amy              |None         |AUS     |\n",
      "|1844|SUMMERS                |Brodie           |None         |AUS     |\n",
      "|1845|WELLS                  |Samantha         |None         |AUS     |\n",
      "|1846|WILLIAMS               |Davina           |None         |AUS     |\n",
      "|1847|HUNDER                 |Per Kristian     |None         |NOR     |\n",
      "|1848|CURRIER                |Lyman            |None         |USA     |\n",
      "|1849|VANLAANEN              |Angeli           |None         |USA     |\n",
      "|1850|BROWN                  |Bobby            |None         |USA     |\n",
      "|1851|YATER-WALLACE          |Torin            |None         |USA     |\n",
      "|1852|DREW                   |Annalisa         |None         |USA     |\n",
      "|1853|SIGOURNEY              |Brita            |None         |USA     |\n",
      "|1854|BOHONNON               |Mac              |None         |USA     |\n",
      "|1855|TELLER                 |John             |None         |USA     |\n",
      "|1856|HERMAN                 |Keri             |None         |USA     |\n",
      "|1857|EIGLER                 |Florian          |None         |GER     |\n",
      "|1858|ZIMMERMANN             |Lisa             |None         |GER     |\n",
      "|1859|GRASEMANN              |Laura            |None         |GER     |\n",
      "|1860|BOHNACKER              |Daniel           |None         |GER     |\n",
      "|1861|CAKMAKLI               |Sabrina          |None         |GER     |\n",
      "|1862|STAUDINGER             |Christina        |None         |AUT     |\n",
      "|1863|KEMPPAINEN             |Antti-Jussi      |None         |FIN     |\n",
      "|1864|MIETTUNEN              |Ville            |None         |FIN     |\n",
      "|1865|PENTTALA               |Jussi            |None         |FIN     |\n",
      "|1866|RAISANEN               |Otso             |None         |FIN     |\n",
      "|1867|SALONEN                |Jimi             |None         |FIN     |\n",
      "|1868|SEO                    |Jee-Won          |None         |KOR     |\n",
      "|1869|PARK                   |Hee-Jin          |None         |KOR     |\n",
      "|1870|ONEILL                 |Taylah           |None         |AUS     |\n",
      "|1871|KOLMAKOV               |Pavel            |None         |KAZ     |\n",
      "|1872|SKALA                  |Marek            |None         |CZE     |\n",
      "|1873|BUCHAN                 |Murray           |None         |GBR     |\n",
      "|1874|LONSDALE               |Emma             |None         |GBR     |\n",
      "|1875|MACHON                 |James            |None         |GBR     |\n",
      "|1876|WOODS                  |James            |None         |GBR     |\n",
      "|1877|SANTOS                 |Joselane         |None         |BRA     |\n",
      "|1878|OLLILA                 |Antti            |None         |FIN     |\n",
      "|1879|KUZMA                  |Janina           |None         |NZL     |\n",
      "|1880|SHEEHAN                |Lyndon           |None         |NZL     |\n",
      "|1881|WELLS                  |Byron            |None         |NZL     |\n",
      "|1882|WELLS                  |Josiah           |None         |NZL     |\n",
      "|1883|WILLCOX-SILFVERBERG    |Anna             |None         |NZL     |\n",
      "|1884|AERTS                  |Katrien          |None         |BEL     |\n",
      "|1885|MUELLER                |Jorinde          |None         |SUI     |\n",
      "|1886|RAGETTLI               |Nina             |None         |SUI     |\n",
      "|1887|AMBUEHL                |Elias            |None         |SUI     |\n",
      "|1888|BERRA                  |Camillia         |None         |SUI     |\n",
      "|1889|BHEND                  |Eveline          |None         |SUI     |\n",
      "|1890|BOESCH                 |Fabian           |None         |SUI     |\n",
      "|1891|FAIVRE                 |Virginie         |None         |SUI     |\n",
      "|1892|GASSER                 |Mischa           |None         |SUI     |\n",
      "|1893|GISLER                 |Joel             |None         |SUI     |\n",
      "|1894|JAEGER                 |Mirjam           |None         |SUI     |\n",
      "|1895|LAUPER                 |Nils             |None         |SUI     |\n",
      "|1896|LERJEN                 |Yannic           |None         |SUI     |\n",
      "|1897|SCHULER                |Luca             |None         |SUI     |\n",
      "|1898|MARINO                 |Julia            |None         |PAR     |\n",
      "|1899|KRASS                  |Julia            |None         |USA     |\n",
      "|1900|MAYR                   |Benedikt         |None         |GER     |\n",
      "|1901|PATJA                  |Aleksi           |None         |FIN     |\n",
      "|1902|PODCHUFAROVA           |Olga             |None         |RUS     |\n",
      "|1903|ENGER                  |Gyda             |None         |NOR     |\n",
      "|1904|TIMOFEEV               |Evgeniy          |None         |KGZ     |\n",
      "|1905|ASGEIRSDOTTIR          |Erla             |None         |ISL     |\n",
      "|1906|PARDO ANDRETTA         |Antonio Jose     |None         |VEN     |\n",
      "|1907|PLUSHENKO              |Evgeni           |None         |RUS     |\n",
      "|1908|TRETIAKOV              |Alexander        |1985-04-19   |RUS     |\n",
      "|1909|Welle-Strand HORN      |Fanny            |None         |NOR     |\n",
      "|1910|DOHERTY                |Sean             |None         |USA     |\n",
      "|1911|BURDYGA                |Natalya          |None         |UKR     |\n",
      "|1912|PANFILOVA              |Mariya           |None         |UKR     |\n",
      "|1913|PINTER                 |Friedrich        |None         |AUT     |\n",
      "|1914|MOYSE                  |Heather          |None         |CAN     |\n",
      "|1915|HUMPHRIES              |Kaillie          |None         |CAN     |\n",
      "|1916|WILLIAMS               |Lauryn           |None         |USA     |\n",
      "|1917|MEYERS                 |Elana            |None         |USA     |\n",
      "|1918|GREUBEL                |Jamie            |None         |USA     |\n",
      "|1919|EVANS                  |Aja              |None         |USA     |\n",
      "|1920|KAMPHUIS               |Esme             |None         |NED     |\n",
      "|1921|VIS                    |Judith           |None         |NED     |\n",
      "|1922|PROKOFF                |Sandra           |None         |GER     |\n",
      "|1923|FRITZ                  |Franziska        |None         |GER     |\n",
      "|1924|WILLEMSEN              |Elfje            |None         |BEL     |\n",
      "|1925|Emilie MARIEN          |Hanna            |None         |BEL     |\n",
      "|1926|MARTINI                |Cathleen         |None         |GER     |\n",
      "|1927|SENKEL                 |Christin         |None         |GER     |\n",
      "|1928|MEYER                  |Fabienne         |None         |SUI     |\n",
      "|1929|MAYER                  |Tanja            |None         |SUI     |\n",
      "|1930|UDOBKINA               |Liudmila         |None         |RUS     |\n",
      "|1931|STULNEVA               |Olga             |None         |RUS     |\n",
      "|1932|SCHNEIDERHEINZE        |Anja             |None         |GER     |\n",
      "|1933|SCHNEIDER              |Stephanie        |None         |GER     |\n",
      "|1934|JONES                  |Lolo             |None         |USA     |\n",
      "|1935|FENLATOR               |Jazmine          |None         |USA     |\n",
      "|1936|WALKER                 |Paula            |None         |GBR     |\n",
      "|1937|WILSON                 |Rebekah          |None         |GBR     |\n",
      "|1938|CIOCHETTI              |Jennifer         |None         |CAN     |\n",
      "|1939|VALOIS                 |Chelsea          |None         |CAN     |\n",
      "|1940|RAWLINSON              |Jana             |None         |AUS     |\n",
      "|1941|RADJENOVIC             |Astrid           |None         |AUS     |\n",
      "|1942|HENGSTER               |Christina        |None         |AUT     |\n",
      "|1943|TUECHI                 |Alexandra        |None         |AUT     |\n",
      "|1944|SERGEEVA               |Nadezhda         |None         |RUS     |\n",
      "|1945|PALEEVA                |Nadezhda         |None         |RUS     |\n",
      "|1946|GRECU                  |Andreea          |None         |ROU     |\n",
      "|1947|CONSTANTIN             |Maria            |None         |ROU     |\n",
      "|1948|KIM                    |Sunok            |None         |KOR     |\n",
      "|1949|SHIN                   |Mihwa            |None         |KOR     |\n",
      "|1950|SANTOS                 |Fabiana          |None         |BRA     |\n",
      "|1951|Mayara DA SILVA        |Sally            |None         |BRA     |\n",
      "|1952|ZUBKOV                 |Alexander        |None         |RUS     |\n",
      "|1953|VOEVODA                |Alexey           |None         |RUS     |\n",
      "|1954|HEFTI                  |Beat             |None         |SUI     |\n",
      "|1955|BAUMANN                |Alex             |None         |SUI     |\n",
      "|1956|HOLCOMB                |Steven           |None         |USA     |\n",
      "|1957|LANGTON                |Steven           |None         |USA     |\n",
      "|1958|BELUGIN                |Maxim            |None         |RUS     |\n",
      "|1959|KASJANOV               |Alexander        |None         |RUS     |\n",
      "|1960|DREISHKENS             |Daumants         |None         |LAT     |\n",
      "|1961|MELBARDIS              |Oskars           |None         |LAT     |\n",
      "|1962|BARNETT                |Bryan            |None         |CAN     |\n",
      "|1963|KRIPPS                 |Justin           |None         |CAN     |\n",
      "|1964|LUMSDEN                |Jesse            |None         |CAN     |\n",
      "|1965|SPRING                 |Chris            |None         |CAN     |\n",
      "|1966|BAECKER                |Jannis           |None         |GER     |\n",
      "|1967|FRIEDRICH              |Francesco        |None         |GER     |\n",
      "|1968|RUSH                   |Lyndon           |None         |CAN     |\n",
      "|1969|BROWN                  |Lascelles        |None         |CAN     |\n",
      "|1970|EGGER                  |Juerg            |None         |SUI     |\n",
      "|1971|PETER                  |Rico             |None         |SUI     |\n",
      "|1972|KUSKE                  |Kevin            |None         |GER     |\n",
      "|1973|FLORSCHUETZ            |Thomas           |None         |GER     |\n",
      "|1974|FOGT                   |Christopher      |None         |USA     |\n",
      "|1975|BUTNER                 |Cory             |None         |USA     |\n",
      "|1976|CUNNINGHAM             |Nick             |None         |USA     |\n",
      "|1977|ROBINSON               |Dallas           |None         |USA     |\n",
      "|1978|BERTAZZO               |Simone           |None         |ITA     |\n",
      "|1979|FONTANA                |Simone           |None         |ITA     |\n",
      "|1980|ROEDIGER               |Alexander        |None         |GER     |\n",
      "|1981|ARNDT                  |Maximilian       |None         |GER     |\n",
      "|1982|KIBERMANIS             |Oskars           |None         |LAT     |\n",
      "|1983|LEIBOMS                |Vairis           |None         |LAT     |\n",
      "|1984|ISTRATE                |Nicolae          |None         |ROU     |\n",
      "|1985|Cezar CRACIUN          |Florin           |None         |ROU     |\n",
      "|1986|WON                    |Yunjong          |None         |KOR     |\n",
      "|1987|SEO                    |Youngwoo         |None         |KOR     |\n",
      "|1988|VAN CALKER             |Edwin            |None         |NED     |\n",
      "|1989|VAN DER ZIJDE          |Bror             |None         |NED     |\n",
      "|1990|HEINRICH               |Romain           |None         |FRA     |\n",
      "|1991|COSTERG                |Loic             |None         |FRA     |\n",
      "|1992|GATTUSO                |Sebastien        |None         |MON     |\n",
      "|1993|SERVELLE               |Patrice          |None         |MON     |\n",
      "|1994|MAIER                  |Benjamin         |None         |AUT     |\n",
      "|1995|SAMMER                 |Markus           |None         |AUT     |\n",
      "|1996|BAINES                 |John             |None         |GBR     |\n",
      "|1997|DEEN                   |Lamin            |None         |GBR     |\n",
      "|1998|VRBA                   |Jan              |None         |CZE     |\n",
      "|1999|VACEK                  |Michal           |None         |CZE     |\n",
      "|2000|KIM                    |Donghyun         |None         |KOR     |\n",
      "|2001|JUN                    |Junglin          |None         |KOR     |\n",
      "|2002|HARVEY                 |Duncan           |None         |AUS     |\n",
      "|2003|SPENCE                 |Heath            |None         |AUS     |\n",
      "|2004|KUPCZYK                |Dawid            |None         |POL     |\n",
      "|2005|MROZ                   |Pawel            |None         |POL     |\n",
      "|2006|SUZUKI                 |Hiroshi          |None         |JPN     |\n",
      "|2007|MIYAZAKI               |Hisashi          |None         |JPN     |\n",
      "|2008|WATT                   |Winston          |None         |JAM     |\n",
      "|2009|DIXON                  |Marvin           |None         |JAM     |\n",
      "|2010|RADENOVIC              |Vuk              |None         |SRB     |\n",
      "|2011|BUNDALO                |Aleksandar       |None         |SRB     |\n",
      "|2012|TRUNENKOV              |Dmitry           |None         |RUS     |\n",
      "|2013|NEGODAYLO              |Alexey           |None         |RUS     |\n",
      "|2014|STRENGA                |Janis            |None         |LAT     |\n",
      "|2015|VILKASTE               |Arvis            |None         |LAT     |\n",
      "|2016|TOMASEVICZ             |Curt             |None         |USA     |\n",
      "|2017|PUSHKAREV              |Aleksei          |None         |RUS     |\n",
      "|2018|HUZIN                  |Ilvir            |None         |RUS     |\n",
      "|2019|BENSON                 |Stuart           |None         |GBR     |\n",
      "|2020|FEARON                 |Joel             |None         |GBR     |\n",
      "|2021|James JACKSON          |John             |None         |GBR     |\n",
      "|2022|TASKER                 |Bruce            |None         |GBR     |\n",
      "|2023|PUTZE                  |Martin           |None         |GER     |\n",
      "|2024|HUEBENBECKER           |Marko            |None         |GER     |\n",
      "|2025|POSER                  |Christian        |None         |GER     |\n",
      "|2026|BLUHM                  |Joshua           |None         |GER     |\n",
      "|2027|LAMPARTER              |Thomas           |None         |SUI     |\n",
      "|2028|BISSETT                |David            |None         |CAN     |\n",
      "|2029|WRIGHT                 |Neville          |None         |CAN     |\n",
      "|2030|BERMBACH               |Gregor           |None         |GER     |\n",
      "|2031|MARGIS                 |Thorsten         |None         |GER     |\n",
      "|2032|JANSMA                 |Sybren           |None         |NED     |\n",
      "|2033|KLAASSEN               |Arno             |None         |NED     |\n",
      "|2034|OLSEN                  |Justin           |None         |USA     |\n",
      "|2035|QUINN                  |Johnny           |None         |USA     |\n",
      "|2036|MCNAUGHTON             |James            |None         |CAN     |\n",
      "|2037|RANDALL                |Timothy          |None         |CAN     |\n",
      "|2038|BROKS                  |Raivis           |None         |LAT     |\n",
      "|2039|LUSIS                  |Helvijs          |None         |LAT     |\n",
      "|2040|MOISEEV                |Petr             |None         |RUS     |\n",
      "|2041|ZAKHAROV               |Nikita           |None         |RUS     |\n",
      "|2042|MOKROUSOV              |Maxim            |None         |RUS     |\n",
      "|2043|KHRENKOV               |Nikolay          |None         |RUS     |\n",
      "|2044|SUCHY                  |Dominik          |None         |CZE     |\n",
      "|2045|DVORAK                 |Dominik          |None         |CZE     |\n",
      "|2046|LEFORT                 |Elly             |None         |FRA     |\n",
      "|2047|RIBET                  |Florent          |None         |FRA     |\n",
      "|2048|ROMANINI               |Samuele          |None         |ITA     |\n",
      "|2049|COSTA                  |Francesco        |None         |ITA     |\n",
      "|2050|SIMONS                 |Ben              |None         |GBR     |\n",
      "|2051|MATTHEWS               |Andrew           |None         |GBR     |\n",
      "|2052|SUK                    |Youngjin         |None         |KOR     |\n",
      "|2053|SOMOV                  |Angel            |None         |AUT     |\n",
      "|2054|WITHALM                |Stefan           |None         |AUT     |\n",
      "|2055|MATA                   |Lucas            |None         |AUS     |\n",
      "|2056|NICHOLS                |Gareth           |None         |AUS     |\n",
      "|2057|BAILLARD               |Jeremy           |None         |FRA     |\n",
      "|2058|BOUTHERIN              |Jeremie          |None         |FRA     |\n",
      "|2059|Alexis GODEFROY        |Thibault         |None         |FRA     |\n",
      "|2060|Daniel Jean-Paul RICARD|Vincent          |None         |FRA     |\n",
      "|2061|NEAGU                  |Andreas          |None         |ROU     |\n",
      "|2062|MUNTEAN                |Paul             |None         |ROU     |\n",
      "|2063|OTAVA                  |Bogdan           |None         |ROU     |\n",
      "|2064|JAGNESAK               |Milan            |None         |SVK     |\n",
      "|2065|NAROVEC                |Petr             |None         |SVK     |\n",
      "|2066|KOZIENKA               |Lukas            |None         |SVK     |\n",
      "|2067|MOKRAS                 |Juraj            |None         |SVK     |\n",
      "|2068|SATO                   |Shintaro         |None         |JPN     |\n",
      "|2069|KUROIWA                |Toshiki          |None         |JPN     |\n",
      "|2070|KIM                    |Sik              |None         |KOR     |\n",
      "|2071|KIM                    |Kyunghyun        |None         |KOR     |\n",
      "|2072|OH                     |Jeahan           |None         |KOR     |\n",
      "|2073|BINDILATTI             |Edson            |None         |BRA     |\n",
      "|2074|Carlos PESSONI         |Odirlei          |None         |BRA     |\n",
      "|2075|Ricardo MARTINS        |Edson            |None         |BRA     |\n",
      "|2076|GONCALVES SILVA        |Fabio            |None         |BRA     |\n",
      "|2077|DEMETRE                |Luke             |None         |CAN     |\n",
      "|2078|RINHOLM                |Graeme           |None         |CAN     |\n",
      "|2079|KASPEROWICZ            |Michal           |None         |POL     |\n",
      "|2080|ZALEWSKI               |Daniel           |None         |POL     |\n",
      "|2081|MINATO                 |Yusuke           |None         |JPN     |\n",
      "|2082|NABEEV                 |Niyaz            |None         |RUS     |\n",
      "|2083|YAHIN                  |Ernest           |None         |RUS     |\n",
      "|2084|LAWES                  |Kaitlyn          |None         |CAN     |\n",
      "|2085|MCEWEN                 |Dawn             |None         |CAN     |\n",
      "|2086|OFFICER                |Jill             |None         |CAN     |\n",
      "|2087|WALL                   |Kirsten          |None         |CAN     |\n",
      "|2088|BERTRUP                |Christina        |None         |SWE     |\n",
      "|2089|KNOCHENHAUER           |Agnes            |None         |SWE     |\n",
      "|2090|PRYTZ                  |Maria            |None         |SWE     |\n",
      "|2091|SIGFRIDSSON            |Margaretha       |None         |SWE     |\n",
      "|2092|WENNERSTROM            |Maria            |None         |SWE     |\n",
      "|2093|ADAMS                  |Vicki            |None         |GBR     |\n",
      "|2094|GRAY                   |Lauren           |None         |GBR     |\n",
      "|2095|HAMILTON               |Claire           |None         |GBR     |\n",
      "|2096|MUIRHEAD               |Eve              |None         |GBR     |\n",
      "|2097|SLOAN                  |Anna             |None         |GBR     |\n",
      "|2098|OTT                    |Mirjam           |None         |SUI     |\n",
      "|2099|SCHAFER                |Carmen           |None         |SUI     |\n",
      "|2100|KUNG                   |Carmen           |None         |SUI     |\n",
      "|2101|GREINER                |Janine           |None         |SUI     |\n",
      "|2102|PATZ                   |Alina            |None         |SUI     |\n",
      "|2103|OGASAWARA              |Ayumi            |None         |JPN     |\n",
      "|2104|FUNAYAMA               |Yumie            |None         |JPN     |\n",
      "|2105|ONODERA                |Kaho             |None         |JPN     |\n",
      "|2106|TOMABECHI              |Michiko          |None         |JPN     |\n",
      "|2107|YOSHIDA                |Chinami          |None         |JPN     |\n",
      "|2108|NIELSEN                |Lene             |None         |DEN     |\n",
      "|2109|SIMONSEN               |Helle            |None         |DEN     |\n",
      "|2110|ELLEGAARD              |Jeanne           |None         |DEN     |\n",
      "|2111|POULSEN                |Maria            |None         |DEN     |\n",
      "|2112|DE NEERGAARD           |Mette            |None         |DEN     |\n",
      "|2113|BINGYU                 |Wang             |None         |CHN     |\n",
      "|2114|YIN                    |Liu              |None         |CHN     |\n",
      "|2115|QUINGSHUANG            |Yue              |None         |CHN     |\n",
      "|2116|YAN                    |Zhou             |None         |CHN     |\n",
      "|2117|YILUN                  |Jiang            |None         |CHN     |\n",
      "|2118|JI-SUN                 |Kim              |None         |KOR     |\n",
      "|2119|SEUL-BEE               |Lee              |None         |KOR     |\n",
      "|2120|MI-SUNG                |Shin             |None         |KOR     |\n",
      "|2121|UN-CHI                 |Gim              |None         |KOR     |\n",
      "|2122|HYUN-JUNG              |Lee              |None         |KOR     |\n",
      "|2123|JACOBS                 |Brad             |None         |CAN     |\n",
      "|2124|FRY                    |Ryan             |None         |CAN     |\n",
      "|2125|J. HARNDEN             |E.               |None         |CAN     |\n",
      "|2126|HARNDEN                |Ryan             |None         |CAN     |\n",
      "|2127|FLAXEY                 |Caleb            |None         |CAN     |\n",
      "|2128|MURDOCH                |David            |None         |GBR     |\n",
      "|2129|BREWSTER               |Tom              |None         |GBR     |\n",
      "|2130|DRUMMOND               |Greg             |None         |GBR     |\n",
      "|2131|ANDREWS                |Scott            |None         |GBR     |\n",
      "|2132|GOODFELLOW             |Michael          |None         |GBR     |\n",
      "|2133|EDIN                   |Niklas           |None         |SWE     |\n",
      "|2134|KRAUPP                 |Sebastian        |None         |SWE     |\n",
      "|2135|LINDBERG               |Fredrik          |None         |SWE     |\n",
      "|2136|KJALL                  |Viktor           |None         |SWE     |\n",
      "|2137|ERIKSSON               |Oskar            |None         |SWE     |\n",
      "|2138|RUI                    |Liu              |None         |CHN     |\n",
      "|2139|XIAOMING               |Xu               |None         |CHN     |\n",
      "|2140|DEXIN                  |Ba               |None         |CHN     |\n",
      "|2141|JIALIANG               |Zang             |None         |CHN     |\n",
      "|2142|DEJIA                  |Zou              |None         |CHN     |\n",
      "|2143|ULSRUD                 |Thomas           |None         |NOR     |\n",
      "|2144|NERGARD                |Torger           |None         |NOR     |\n",
      "|2145|SVAE                   |Christoffer      |None         |NOR     |\n",
      "|2146|VAD PETERSSON          |Havard           |None         |NOR     |\n",
      "|2147|HOIBERG                |Markus           |None         |NOR     |\n",
      "|2148|STJERNE                |Rasmus           |None         |DEN     |\n",
      "|2149|FREDERIKSEN            |Johnny           |None         |DEN     |\n",
      "|2150|POULSEN                |Mikkel           |None         |DEN     |\n",
      "|2151|HARRY                  |Troels           |None         |DEN     |\n",
      "|2152|VILANDT                |Lars             |None         |DEN     |\n",
      "|2153|DROZDOV                |Andrey           |None         |RUS     |\n",
      "|2154|ARKHIPOV               |Evgeniy          |None         |RUS     |\n",
      "|2155|STUKALSKIY             |Aleksey          |None         |RUS     |\n",
      "|2156|DRON                   |Petr             |None         |RUS     |\n",
      "|2157|KOZYREV                |Aleksandr        |None         |RUS     |\n",
      "|2158|MICHEL                 |Sven             |None         |SUI     |\n",
      "|2159|PATZ                   |Claudio          |None         |SUI     |\n",
      "|2160|TROLLIET               |Sandro           |None         |SUI     |\n",
      "|2161|GEMPELER               |Simon            |None         |SUI     |\n",
      "|2162|Agosta                 |Meghan           |None         |CAN     |\n",
      "|2163|Apps                   |Gillian          |None         |CAN     |\n",
      "|2164|Daoust                 |Mélodie          |None         |CAN     |\n",
      "|2165|Fortino                |Laura            |None         |CAN     |\n",
      "|2166|Hefford                |Jayna            |None         |CAN     |\n",
      "|2167|Irwin                  |Haley            |None         |CAN     |\n",
      "|2168|Jenner                 |Brianne          |None         |CAN     |\n",
      "|2169|Johnston               |Rebecca          |None         |CAN     |\n",
      "|2170|Labonté                |Charline         |None         |CAN     |\n",
      "|2171|Lacasse                |Geneviève        |None         |CAN     |\n",
      "|2172|Larocque               |Jocelyne         |None         |CAN     |\n",
      "|2173|Mikkelson              |Meaghan          |None         |CAN     |\n",
      "|2174|Ouellette              |Caroline         |None         |CAN     |\n",
      "|2175|Poulin                 |Marie-Philip     |None         |CAN     |\n",
      "|2176|Rougeau                |Lauriane         |None         |CAN     |\n",
      "|2177|Spooner                |Natalie          |None         |CAN     |\n",
      "|2178|Szabados               |Shannon          |None         |CAN     |\n",
      "|2179|Wakefield              |Jennifer         |None         |CAN     |\n",
      "|2180|Ward                   |Catherine        |None         |CAN     |\n",
      "|2181|Watchorn               |Tara             |None         |CAN     |\n",
      "|2182|Wickenheiser           |Hayley           |None         |CAN     |\n",
      "|2183|Bellamy                |Kacey            |None         |USA     |\n",
      "|2184|Bozek                  |Megan            |None         |USA     |\n",
      "|2185|Carpenter              |Alex             |None         |USA     |\n",
      "|2186|Chu                    |Julie            |None         |USA     |\n",
      "|2187|Coyne                  |Kendall          |None         |USA     |\n",
      "|2188|Decker                 |Brianna          |None         |USA     |\n",
      "|2189|Duggan                 |Meghan           |None         |USA     |\n",
      "|2190|Fry                    |Lyndsey          |None         |USA     |\n",
      "|2191|Kessel                 |Amanda           |None         |USA     |\n",
      "|2192|Knight                 |Hilary           |None         |USA     |\n",
      "|2193|Lamoureux              |Jocelyne         |None         |USA     |\n",
      "|2194|Lamoureux-Kolls        |Monique          |None         |USA     |\n",
      "|2195|Marvin                 |Gigi             |None         |USA     |\n",
      "|2196|McLaughlin             |Brianne          |None         |USA     |\n",
      "|2197|Picard                 |Michelle         |None         |USA     |\n",
      "|2198|Pucci                  |Josephine        |None         |USA     |\n",
      "|2199|Schaus                 |Molly            |None         |USA     |\n",
      "|2200|Schleper               |Anne             |None         |USA     |\n",
      "|2201|Stack                  |Kelli            |None         |USA     |\n",
      "|2202|Stecklein              |Lee              |None         |USA     |\n",
      "|2203|Vetter                 |Jessie           |None         |USA     |\n",
      "|2204|Alder                  |Janine           |None         |SUI     |\n",
      "|2205|Altmann                |Livia            |None         |SUI     |\n",
      "|2206|Anthamatten            |Sophie           |None         |SUI     |\n",
      "|2207|Benz                   |Laura            |None         |SUI     |\n",
      "|2208|Benz                   |Sara             |None         |SUI     |\n",
      "|2209|Bullo                  |Nicole           |None         |SUI     |\n",
      "|2210|Eggimann               |Romy             |None         |SUI     |\n",
      "|2211|Forster                |Sarah            |None         |SUI     |\n",
      "|2212|Frautschi              |Angela           |None         |SUI     |\n",
      "|2213|Lutz                   |Jessica          |None         |SUI     |\n",
      "|2214|Marty                  |Julia            |None         |SUI     |\n",
      "|2215|Marty                  |Stefanie         |None         |SUI     |\n",
      "|2216|Muller                 |Alina            |None         |SUI     |\n",
      "|2217|Nabholz                |Katrin           |None         |SUI     |\n",
      "|2218|Raselli                |Evelina          |None         |SUI     |\n",
      "|2219|Schelling              |Florence         |None         |SUI     |\n",
      "|2220|Stalder                |Lara             |None         |SUI     |\n",
      "|2221|Stanz                  |Phoebe           |None         |SUI     |\n",
      "|2222|Stiefel                |Anja             |None         |SUI     |\n",
      "|2223|Thalmann               |Sandra           |None         |SUI     |\n",
      "|2224|Waidacher              |Nina             |None         |SUI     |\n",
      "|2225|Benn                   |Jamie            |None         |CAN     |\n",
      "|2226|Bergeron               |Patrice          |None         |CAN     |\n",
      "|2227|Bouwmeester            |Jay              |None         |CAN     |\n",
      "|2228|Carter                 |Jeff             |None         |CAN     |\n",
      "|2229|Crosby                 |Sidney           |None         |CAN     |\n",
      "|2230|Doughty                |Drew             |None         |CAN     |\n",
      "|2231|Duchene                |Matt             |None         |CAN     |\n",
      "|2232|Getzlaf                |Ryan             |None         |CAN     |\n",
      "|2233|Hamhuis                |Dan              |None         |CAN     |\n",
      "|2234|Keith                  |Duncan           |None         |CAN     |\n",
      "|2235|Kunitz                 |Chris            |None         |CAN     |\n",
      "|2236|Luongo                 |Roberto          |None         |CAN     |\n",
      "|2237|Marleau                |Patrick          |None         |CAN     |\n",
      "|2238|Nash                   |Rick             |None         |CAN     |\n",
      "|2239|Perry                  |Corey            |None         |CAN     |\n",
      "|2240|Pietrangelo            |Alex             |None         |CAN     |\n",
      "|2241|Price                  |Carey            |None         |CAN     |\n",
      "|2242|St-Louis               |Martin           |None         |CAN     |\n",
      "|2243|Sharp                  |Patrick          |None         |CAN     |\n",
      "|2244|Smith                  |Mike             |None         |CAN     |\n",
      "|2245|Subban                 |P.K.             |None         |CAN     |\n",
      "|2246|Tavares                |John             |None         |CAN     |\n",
      "|2247|Toews                  |Jonathan         |None         |CAN     |\n",
      "|2248|Vlasic                 |Marc-Édouard     |None         |CAN     |\n",
      "|2249|Weber                  |Shea             |None         |CAN     |\n",
      "|2250|Alfredsson             |Daniel           |None         |SWE     |\n",
      "|2251|Backstrom              |Nicklas          |None         |SWE     |\n",
      "|2252|Berglund               |Patrik           |None         |SWE     |\n",
      "|2253|Edler                  |Alexander        |None         |SWE     |\n",
      "|2254|Ekman-Larsson          |Oliver           |None         |SWE     |\n",
      "|2255|Enroth                 |Jhonas           |None         |SWE     |\n",
      "|2256|Ericsson               |Jimmie           |None         |SWE     |\n",
      "|2257|Ericsson               |Jonathan         |None         |SWE     |\n",
      "|2258|Eriksson               |Loui             |None         |SWE     |\n",
      "|2259|Gustavsson             |Jonas            |None         |SWE     |\n",
      "|2260|Hagelin                |Carl             |None         |SWE     |\n",
      "|2261|Hjalmarsson            |Niklas           |None         |SWE     |\n",
      "|2262|Johansson              |Marcus           |None         |SWE     |\n",
      "|2263|Karlsson               |Erik             |None         |SWE     |\n",
      "|2264|Kronwall               |Niklas           |None         |SWE     |\n",
      "|2265|Krüger                 |Marcus           |None         |SWE     |\n",
      "|2266|Landeskog              |Gabriel          |None         |SWE     |\n",
      "|2267|Lundqvist              |Henrik           |None         |SWE     |\n",
      "|2268|Nyquist                |Gustav           |None         |SWE     |\n",
      "|2269|Oduya                  |Johnny           |None         |SWE     |\n",
      "|2270|Sedin                  |Daniel           |None         |SWE     |\n",
      "|2271|Silfverberg            |Jakob            |None         |SWE     |\n",
      "|2272|Steen                  |Alexander        |None         |SWE     |\n",
      "|2273|Tallinder              |Henrik           |None         |SWE     |\n",
      "|2274|Zetterberg             |Henrik           |None         |SWE     |\n",
      "|2275|Aaltonen               |Juhamatti        |None         |FIN     |\n",
      "|2276|Barkov                 |Aleksander       |None         |FIN     |\n",
      "|2277|Granlund               |Mikael           |None         |FIN     |\n",
      "|2278|Hietanen               |Juuso            |None         |FIN     |\n",
      "|2279|Immonen                |Jarkko           |None         |FIN     |\n",
      "|2280|Jokinen                |Jussi            |None         |FIN     |\n",
      "|2281|Jokinen                |Olli             |None         |FIN     |\n",
      "|2282|Komarov                |Leo              |None         |FIN     |\n",
      "|2283|Lepistö                |Sami             |None         |FIN     |\n",
      "|2284|Kontiola               |Petri            |None         |FIN     |\n",
      "|2285|Korpikoski             |Lauri            |None         |FIN     |\n",
      "|2286|Kukkonen               |Lasse            |None         |FIN     |\n",
      "|2287|Lehterä                |Jori             |None         |FIN     |\n",
      "|2288|Lehtonen               |Kari             |None         |FIN     |\n",
      "|2289|Määttä                 |Olli             |None         |FIN     |\n",
      "|2290|Niemi                  |Antti            |None         |FIN     |\n",
      "|2291|Pihlström              |Antti            |None         |FIN     |\n",
      "|2292|Rask                   |Tuukka           |None         |FIN     |\n",
      "|2293|Ruutu                  |Tuomo            |None         |FIN     |\n",
      "|2294|Salminen               |Sakari           |None         |FIN     |\n",
      "|2295|Salo                   |Sami             |None         |FIN     |\n",
      "|2296|Selänne                |Teemu            |None         |FIN     |\n",
      "|2297|Timonen                |Kimmo            |None         |FIN     |\n",
      "|2298|Väänänen               |Ossi             |None         |FIN     |\n",
      "|2299|Vatanen                |Sami             |None         |FIN     |\n",
      "|2300|ARLT                   |Tobias           |None         |GER     |\n",
      "|2301|WENDL                  |Tobias           |None         |GER     |\n",
      "|2302|LINGER                 |Andreas          |None         |AUT     |\n",
      "|2303|LINGER                 |Wolfgang         |None         |AUT     |\n",
      "|2304|SICS                   |Andris           |None         |LAT     |\n",
      "|2305|SICS                   |Juris            |None         |LAT     |\n",
      "|2306|SNITH                  |Justin           |None         |CAN     |\n",
      "|2307|WALKER                 |Tristan          |None         |CAN     |\n",
      "|2308|ANTONOV                |Vladislav        |None         |RUS     |\n",
      "|2309|DENISYEV               |Alexander        |None         |RUS     |\n",
      "|2310|GRUBER                 |Patrick          |None         |ITA     |\n",
      "|2311|OBERSTOLZ              |Christian        |None         |ITA     |\n",
      "|2312|RASTNER                |Patrick          |None         |ITA     |\n",
      "|2313|RIEDER                 |Ludwig           |None         |ITA     |\n",
      "|2314|EGGERT                 |Toni             |None         |GER     |\n",
      "|2315|BENECKEN               |Sascha           |None         |GER     |\n",
      "|2316|MAKHNUTIN              |Vladimir         |None         |RUS     |\n",
      "|2317|YUZHAKOV               |Vladislav        |None         |RUS     |\n",
      "|2318|GUDRAMOVICS            |Oskars           |None         |LAT     |\n",
      "|2319|KALNINS                |Peteris          |None         |LAT     |\n",
      "|2320|NICCUM                 |Christian        |None         |USA     |\n",
      "|2321|TERDIMAN               |Jayson           |None         |USA     |\n",
      "|2322|PETRULAK               |Jozef            |None         |SVK     |\n",
      "|2323|ZEMANIK                |Marian           |None         |SVK     |\n",
      "|2324|BROZ                   |Antonin          |None         |CZE     |\n",
      "|2325|BROZ                   |Lukas            |None         |CZE     |\n",
      "|2326|GRIFFALL               |Preston          |None         |USA     |\n",
      "|2327|MORTENSEN              |Matthew          |None         |USA     |\n",
      "|2328|MIKRUT                 |Karol            |None         |POL     |\n",
      "|2329|POREBA                 |Patryk           |None         |POL     |\n",
      "|2330|SOLCANSKY              |Marek            |None         |SVK     |\n",
      "|2331|STUCHLAK               |Karol            |None         |SVK     |\n",
      "|2332|ZAKHARKIV              |Roman            |None         |UKR     |\n",
      "|2333|OBOLONCHYK             |Oleksandr        |None         |UKR     |\n",
      "|2334|PARK                   |Jinyong          |None         |KOR     |\n",
      "|2335|Myung CHO              |Jung             |None         |KOR     |\n",
      "|2336|FISCHLER               |Georg            |None         |AUT     |\n",
      "|2337|PENZ                   |Peter            |None         |AUT     |\n",
      "|2338|ZÖGGELER               |Armin            |None         |ITA     |\n",
      "|2339|TATIANA                |VOLOSOZHAR       |None         |RUS     |\n",
      "|2340|MAXIM                  |TRANKOV          |None         |RUS     |\n",
      "|2341|KSENIA                 |STOLBOVA         |None         |RUS     |\n",
      "|2342|FEDOR 02               |KLIMOV           |None         |RUS     |\n",
      "|2343|ALIONA                 |SAVCHENKO        |None         |GER     |\n",
      "|2344|ROBIN 02               |SZOLKOWY         |None         |GER     |\n",
      "|2345|WHITE                  |Charlie          |None         |USA     |\n",
      "|2346|DAVIS                  |Meryl            |None         |USA     |\n",
      "|2347|MOIR                   |Scott            |None         |CAN     |\n",
      "|2348|VIRTUE                 |Tessa            |None         |CAN     |\n",
      "|2349|ILINYKH                |Elena            |None         |RUS     |\n",
      "|2350|KATSALAPOV             |Nikita           |None         |RUS     |\n",
      "|2351|BOURZAT                |Fabian           |None         |FRA     |\n",
      "|2352|PECHALAT               |Nathalie         |None         |FRA     |\n",
      "|2353|SOLOVIEV               |Dmitri           |None         |RUS     |\n",
      "|2354|BOBROVA                |Ekaterina        |None         |RUS     |\n",
      "|2355|CAPPELLINI             |Anna             |None         |ITA     |\n",
      "|2356|LANOTTE                |Luca             |None         |ITA     |\n",
      "|2357|POJE                   |Andrew           |None         |CAN     |\n",
      "|2358|WEAVER                 |Kaitlyn          |None         |CAN     |\n",
      "|2359|CHOCK                  |Madison          |None         |USA     |\n",
      "|2360|BATES                  |Evan             |None         |USA     |\n",
      "|2361|SHIBUTANI              |Maia             |None         |USA     |\n",
      "|2362|SHIBUTANI              |Alex             |None         |USA     |\n",
      "|2363|BUCKLAND               |Nicholas         |None         |GBR     |\n",
      "|2364|COOMES                 |Penny            |None         |GBR     |\n",
      "|2365|GAZSI                  |Alexander        |None         |GER     |\n",
      "|2366|ZHIGANSHINA            |Nelli            |None         |GER     |\n",
      "|2367|SITNIKOV               |Alexei           |None         |AZE     |\n",
      "|2368|ZLOBINA                |Julia            |None         |AZE     |\n",
      "|2369|DIAZ                   |Adria            |None         |ESP     |\n",
      "|2370|HURTADO                |Sara             |None         |ESP     |\n",
      "|2371|GUIGNARD               |Charlene         |None         |ITA     |\n",
      "|2372|FABBRI                 |Marco            |None         |ITA     |\n",
      "|2373|CARRON                 |Pernelle         |None         |FRA     |\n",
      "|2374|JONES                  |Lloyd            |None         |FRA     |\n",
      "|2375|SINITSINA              |Victoria         |None         |RUS     |\n",
      "|2376|ZHIGANSHIN             |Ruslan           |None         |RUS     |\n",
      "|2377|STAGNIUNAS             |Deividas         |None         |LTU     |\n",
      "|2378|TOBIAS                 |Isabella         |None         |LTU     |\n",
      "|2379|ISLAM                  |Mitchell         |None         |CAN     |\n",
      "|2380|PAUL                   |Alexandra        |None         |CAN     |\n",
      "|2381|KOLBE                  |Tanja            |None         |GER     |\n",
      "|2382|CARUSO                 |Stefano          |None         |GER     |\n",
      "|2383|OBRIEN                 |Danielle         |None         |AUS     |\n",
      "|2384|MERRIMAN               |Gregory          |None         |AUS     |\n",
      "|2385|REED                   |Cathy            |None         |JPN     |\n",
      "|2386|REED                   |Chris            |None         |JPN     |\n",
      "|2387|UCAR                   |Alper            |None         |TUR     |\n",
      "|2388|AGAFONOVA              |Alisa            |None         |TUR     |\n",
      "|2389|HUANG                  |Xintong          |None         |CHN     |\n",
      "|2390|ZHENG                  |Xun              |None         |CHN     |\n",
      "|2391|DUN                    |Dmitri           |None         |UKR     |\n",
      "|2392|HEEKIN-CANEDY          |Siobhan          |None         |UKR     |\n",
      "|2393|Bobrova                |Ekaterina        |None         |RUS     |\n",
      "|2394|Ilinykh                |Elena            |None         |RUS     |\n",
      "|2395|Katsalapov             |Nikita           |None         |RUS     |\n",
      "|2396|Klimov                 |Fedor            |None         |RUS     |\n",
      "|2397|Lipnitskaya            |Yulia            |None         |RUS     |\n",
      "|2398|Pliouchtchenko         |Ievgueni         |None         |RUS     |\n",
      "|2399|Soloviev               |Dmitri           |None         |RUS     |\n",
      "|2400|Stolbova               |Ksenia           |None         |RUS     |\n",
      "|2401|Trankov                |Maxim            |None         |RUS     |\n",
      "|2402|Volosozhar             |Tatiana          |None         |RUS     |\n",
      "|2403|Chan                   |Patrick          |None         |CAN     |\n",
      "|2404|Duhamel                |Meagan           |None         |CAN     |\n",
      "|2405|Moir                   |Scott            |None         |CAN     |\n",
      "|2406|Moore-Towers           |Kirsten          |None         |CAN     |\n",
      "|2407|Moscovitch             |Dylan            |None         |CAN     |\n",
      "|2408|Osmond                 |Kaetlyn          |None         |CAN     |\n",
      "|2409|Radford                |Eric             |None         |CAN     |\n",
      "|2410|Reynolds               |Kevin            |None         |CAN     |\n",
      "|2411|Virtue                 |Tessa            |None         |CAN     |\n",
      "|2412|Abbott                 |Jeremy           |None         |USA     |\n",
      "|2413|Brown                  |Jason            |None         |USA     |\n",
      "|2414|Castelli               |Marissa          |None         |USA     |\n",
      "|2415|Davis                  |Meryl            |None         |USA     |\n",
      "|2416|Gold                   |Gracie           |None         |USA     |\n",
      "|2417|Shnapir                |Simon            |None         |USA     |\n",
      "|2418|Wagner                 |Ashley           |None         |USA     |\n",
      "|2419|White                  |Charlie          |None         |USA     |\n",
      "|2420|Hee SHIM               |Suk              |None         |KOR     |\n",
      "|2421|FAN                    |Kexin            |None         |CHN     |\n",
      "|2422|ZAKHAROV               |Ruslan           |None         |RUS     |\n",
      "|2423|WU                     |Dajing           |None         |CHN     |\n",
      "|2424|BREEUWSMA              |Daan             |None         |NED     |\n",
      "|2425|AZHGALIYEV             |Abzal            |None         |KAZ     |\n",
      "|2426|GRUBER                 |Bettina          |None         |SUI     |\n",
      "|2427|NARUSE                 |Nobu             |None         |JPN     |\n",
      "|2428|YOSHIDA                |Keishin          |None         |JPN     |\n",
      "|2429|MIYAZAWA               |Hiroyuki         |None         |JPN     |\n",
      "|2430|LENTING                |Akira            |None         |JPN     |\n",
      "|2431|COLOGNA                |Gianluca         |None         |SUI     |\n"
     ]
    }
   ],
   "source": [
    "cursor=execute(connection,query=\"SELECT * FROM athlete\",show=True)\n",
    "# préciser le parametre top=n pour afficher n lignes\n",
    "# cursor=execute(connection,query=\"SELECT * FROM athlete\",show=True, top=20)"
   ]
  },
  {
   "cell_type": "code",
   "execution_count": 15,
   "metadata": {
    "colab": {
     "base_uri": "https://localhost:8080/"
    },
    "executionInfo": {
     "elapsed": 201,
     "status": "ok",
     "timestamp": 1711530449935,
     "user": {
      "displayName": "Hubert Naacke",
      "userId": "03575281438400116050"
     },
     "user_tz": -60
    },
    "id": "E6ixGbm-DShb",
    "outputId": "7abc0e85-6b23-44d2-c071-f5040aa3566f",
    "tags": []
   },
   "outputs": [
    {
     "data": {
      "text/plain": [
       "b'SELECT * FROM athlete'"
      ]
     },
     "execution_count": 15,
     "metadata": {},
     "output_type": "execute_result"
    }
   ],
   "source": [
    "cursor.query"
   ]
  },
  {
   "cell_type": "code",
   "execution_count": 17,
   "metadata": {
    "colab": {
     "base_uri": "https://localhost:8080/"
    },
    "executionInfo": {
     "elapsed": 202,
     "status": "ok",
     "timestamp": 1711530453483,
     "user": {
      "displayName": "Hubert Naacke",
      "userId": "03575281438400116050"
     },
     "user_tz": -60
    },
    "id": "lFF_VxYKDShb",
    "outputId": "7ad5a8a2-5531-433e-ae1c-74799e35e6f6",
    "tags": []
   },
   "outputs": [
    {
     "data": {
      "text/plain": [
       "2431"
      ]
     },
     "execution_count": 17,
     "metadata": {},
     "output_type": "execute_result"
    }
   ],
   "source": [
    "cursor.rowcount"
   ]
  },
  {
   "cell_type": "code",
   "execution_count": 18,
   "metadata": {
    "colab": {
     "base_uri": "https://localhost:8080/"
    },
    "executionInfo": {
     "elapsed": 213,
     "status": "ok",
     "timestamp": 1711530456883,
     "user": {
      "displayName": "Hubert Naacke",
      "userId": "03575281438400116050"
     },
     "user_tz": -60
    },
    "id": "gE3RDK2bDShb",
    "outputId": "337e3900-f6b3-4ce6-8941-9d7895021cbe",
    "tags": []
   },
   "outputs": [
    {
     "data": {
      "text/plain": [
       "(Column(name='aid', type_code=23),\n",
       " Column(name='nomath', type_code=1043),\n",
       " Column(name='prenomath', type_code=1043),\n",
       " Column(name='datenaissance', type_code=1082),\n",
       " Column(name='codepays', type_code=1043))"
      ]
     },
     "execution_count": 18,
     "metadata": {},
     "output_type": "execute_result"
    }
   ],
   "source": [
    "cursor.description"
   ]
  },
  {
   "cell_type": "markdown",
   "metadata": {
    "id": "0jSmkJT-DShb"
   },
   "source": [
    "## TD 5 SQL JOINTURES"
   ]
  },
  {
   "cell_type": "markdown",
   "metadata": {
    "id": "yP3BekznDShb"
   },
   "source": [
    "### Jointures"
   ]
  },
  {
   "cell_type": "markdown",
   "metadata": {
    "id": "08-VrNGXDShb"
   },
   "source": [
    "#### Q1. Les athlètes français (nom pays = 'France') (104 lignes)."
   ]
  },
  {
   "cell_type": "code",
   "execution_count": 19,
   "metadata": {
    "colab": {
     "base_uri": "https://localhost:8080/"
    },
    "executionInfo": {
     "elapsed": 4,
     "status": "ok",
     "timestamp": 1711531971893,
     "user": {
      "displayName": "Hubert Naacke",
      "userId": "03575281438400116050"
     },
     "user_tz": -60
    },
    "id": "JZnGUrm4DShc",
    "outputId": "a4c88cae-e089-4365-8cba-115bfc03aabe",
    "scrolled": true,
    "tags": []
   },
   "outputs": [
    {
     "name": "stdout",
     "output_type": "stream",
     "text": [
      "104 rows\n",
      "|nomath                 |prenomath     |\n",
      "|---------------------------------------\n",
      "|FOURCADE               |Martin        |\n",
      "|LAMY CHAPPUIS          |Jason         |\n",
      "|VAULTIER               |Pierre        |\n",
      "|CHAPUIS                |Jean Frederic |\n",
      "|BRUNET                 |Marie Laure   |\n",
      "|DORIN HABERT           |Marie         |\n",
      "|ANTHONIOZ              |Deborah       |\n",
      "|MISSILLIER             |Steve         |\n",
      "|BOVOLENTA              |Arnaud        |\n",
      "|MARTINOD               |Marie         |\n",
      "|GAILLARD               |Jean Marc     |\n",
      "|DE LE RUE              |Paul-Henri    |\n",
      "|PINTURAULT             |Alexis        |\n",
      "|BEATRIX                |Jean Guillaume|\n",
      "|DUVILLARD              |Robin         |\n",
      "|MANIFICAT              |Maurice       |\n",
      "|PERRILLAT BOITEUX      |Ivan          |\n",
      "|JOSSERAND              |Marion        |\n",
      "|RAMOIN                 |Tony          |\n",
      "|TRESPEUCH              |Chloe         |\n",
      "|MATTEL                 |Coline        |\n",
      "|MIDOL                  |Jonathan      |\n",
      "|ROLLAND                |Kevin         |\n",
      "|LACROIX                |Sebastian     |\n",
      "|LIZEROUX               |Julien        |\n",
      "|JOUBERT                |Brian         |\n",
      "|CHATAIGNIER            |Maxime        |\n",
      "|FAUCONNET              |Thibaut       |\n",
      "|PIERRON                |Veronique     |\n",
      "|BARTHET                |Anne-Sophie   |\n",
      "|FANARA                 |Thomas        |\n",
      "|GRANGE                 |Jean-Baptiste |\n",
      "|MARCHAND-ARVIER        |Marie         |\n",
      "|THEAUX                 |Adrien        |\n",
      "|FOURCADE               |Simon         |\n",
      "|BRAUD                  |Francois      |\n",
      "|LAHEURTE               |Maxime        |\n",
      "|RODRIGUEZ              |Sophie        |\n",
      "|BAUD                   |Adeline       |\n",
      "|BERTRAND               |Marion        |\n",
      "|MARMOTTAN              |Anemone       |\n",
      "|NOENS                  |Nastasia      |\n",
      "|CLAREY                 |Johan         |\n",
      "|FAIVRE                 |Mathieu       |\n",
      "|FAYED                  |Guillermo     |\n",
      "|MERMILLOD BLONDIN      |Thomas        |\n",
      "|POISSON                |David         |\n",
      "|BESCOND                |Anais         |\n",
      "|BOEUF                  |Alexis        |\n",
      "|BOLLIET                |Marine        |\n",
      "|FAIVRE PICON           |Anouk         |\n",
      "|GAILLARD               |Cyril         |\n",
      "|HUGUE                  |Coraline      |\n",
      "|MIRANDA                |Cyril         |\n",
      "|BENNA                  |Anthony       |\n",
      "|DAVID                  |Ophelie       |\n",
      "|AMODIO                 |Florent       |\n",
      "|BAISAMY                |Johann        |\n",
      "|DUFOUR                 |Sylvain       |\n",
      "|LONGO                  |Arthur        |\n",
      "|MOENNE LOCCOZ          |Nelly         |\n",
      "|THOVEX                 |Mirabelle     |\n",
      "|LEPAPE                 |Sebastien     |\n",
      "|MACE                   |Benjamin      |\n",
      "|LEMARE                 |Lea           |\n",
      "|AYMONIER               |Celia         |\n",
      "|BACKSCHEIDER           |Adrien        |\n",
      "|GROS                   |Baptiste      |\n",
      "|JAY                    |Renaud        |\n",
      "|JEAN                   |Aurore        |\n",
      "|BUILLET                |Marion        |\n",
      "|MEITE                  |Mae Berenice  |\n",
      "|BONNEFOY               |Morgane       |\n",
      "|BANKES                 |Charlotte     |\n",
      "|GRIMAL                 |Clemence      |\n",
      "|CLAIR                  |Julia         |\n",
      "|LAMY CHAPPUIS          |Ronan         |\n",
      "|FERNANDEZ              |Ewen          |\n",
      "|CHEVALIER              |Anais         |\n",
      "|DESTHIEUX              |Simon         |\n",
      "|ADELISSE               |Antoine       |\n",
      "|BARON                  |Alizee        |\n",
      "|BERGER SABBATEL        |Marielle      |\n",
      "|BERTONI                |Xavier        |\n",
      "|BONNAIRE               |Jules         |\n",
      "|CARADEUX               |Anais         |\n",
      "|CAVET                  |Benjamin      |\n",
      "|DEVOUASSOUX            |Jonas         |\n",
      "|KRIEF                  |Thomas        |\n",
      "|LAFFONT                |Perrine       |\n",
      "|PANCRAS                |Jeremy        |\n",
      "|VALENTIN               |Benoit        |\n",
      "|HEINRICH               |Romain        |\n",
      "|COSTERG                |Loic          |\n",
      "|LEFORT                 |Elly          |\n",
      "|RIBET                  |Florent       |\n",
      "|BAILLARD               |Jeremy        |\n",
      "|BOUTHERIN              |Jeremie       |\n",
      "|Alexis GODEFROY        |Thibault      |\n",
      "|Daniel Jean-Paul RICARD|Vincent       |\n",
      "|BOURZAT                |Fabian        |\n",
      "|PECHALAT               |Nathalie      |\n",
      "|CARRON                 |Pernelle      |\n",
      "|JONES                  |Lloyd         |\n"
     ]
    }
   ],
   "source": [
    "query=\"\"\"\n",
    "select a.nomAth, a.prenomAth\n",
    "from Pays p, Athlete a\n",
    "where a.codePays = p.codePays and p.nomP='France'\n",
    "\"\"\"\n",
    "\n",
    "cursor=execute(connection,query,show=True)"
   ]
  },
  {
   "cell_type": "code",
   "execution_count": null,
   "metadata": {
    "colab": {
     "base_uri": "https://localhost:8080/"
    },
    "executionInfo": {
     "elapsed": 192,
     "status": "ok",
     "timestamp": 1711531976763,
     "user": {
      "displayName": "Hubert Naacke",
      "userId": "03575281438400116050"
     },
     "user_tz": -60
    },
    "id": "E-M3bcrtDShc",
    "outputId": "859034a6-c15c-4dc8-b2ce-ba6c2d53650c",
    "scrolled": true,
    "tags": []
   },
   "outputs": [],
   "source": [
    "query=\"\"\"\n",
    "select nomAth, prenomAth\n",
    "from Pays natural join Athlete\n",
    "where nomP='France'\n",
    "\"\"\"\n",
    "\n",
    "cursor=execute(connection,query,show=True)"
   ]
  },
  {
   "cell_type": "markdown",
   "metadata": {
    "id": "Ynt-ZA0HDShc"
   },
   "source": [
    "#### Q2. Les épreuves (sport, nom d'épreuve, catégorie) triées par nom de sport, puis par nom d'épreuve dans l'ordre inverse du dictionnaire (98 lignes)."
   ]
  },
  {
   "cell_type": "code",
   "execution_count": null,
   "metadata": {
    "executionInfo": {
     "elapsed": 6,
     "status": "aborted",
     "timestamp": 1711528602921,
     "user": {
      "displayName": "Hubert Naacke",
      "userId": "03575281438400116050"
     },
     "user_tz": -60
    },
    "id": "9um4B-Q3DShc",
    "scrolled": true,
    "tags": []
   },
   "outputs": [],
   "source": [
    "query=\"\"\"\n",
    "select distinct e.nomep, e.categorie, s.nomsp\n",
    "from epreuve e, sport s\n",
    "where e.sid = s.sid\n",
    "order by s.nomsp desc, e.nomep desc\n",
    "\"\"\"\n",
    "\n",
    "cursor=execute(connection,query,show=True)"
   ]
  },
  {
   "cell_type": "code",
   "execution_count": null,
   "metadata": {
    "executionInfo": {
     "elapsed": 6,
     "status": "aborted",
     "timestamp": 1711528602921,
     "user": {
      "displayName": "Hubert Naacke",
      "userId": "03575281438400116050"
     },
     "user_tz": -60
    },
    "id": "Lq7qIAKMDShc",
    "scrolled": true,
    "tags": []
   },
   "outputs": [],
   "source": [
    "query=\"\"\"\n",
    "select nomep, categorie, nomsp\n",
    "from epreuve natural join sport\n",
    "order by nomsp desc, nomep desc\n",
    "\"\"\"\n",
    "\n",
    "cursor=execute(connection,query,show=True)"
   ]
  },
  {
   "cell_type": "markdown",
   "metadata": {
    "id": "BLsYd1wODShc"
   },
   "source": [
    "#### Q3. Les athlètes ayant participé à une équipe de France (30 lignes)."
   ]
  },
  {
   "cell_type": "code",
   "execution_count": null,
   "metadata": {
    "executionInfo": {
     "elapsed": 5,
     "status": "aborted",
     "timestamp": 1711528602921,
     "user": {
      "displayName": "Hubert Naacke",
      "userId": "03575281438400116050"
     },
     "user_tz": -60
    },
    "id": "AFKmMJF-DShc",
    "scrolled": true,
    "tags": []
   },
   "outputs": [],
   "source": [
    "query=\"\"\"\n",
    "\n",
    "\n",
    "\n",
    "\"\"\"\n",
    "\n",
    "cursor=execute(connection,query,show=True)"
   ]
  },
  {
   "cell_type": "markdown",
   "metadata": {
    "id": "CbG9YLPVDShg"
   },
   "source": [
    "#### Q4. Les épreuves (sport, épreuve, catégorie) auxquelles participent des équipes (25 lignes)."
   ]
  },
  {
   "cell_type": "code",
   "execution_count": null,
   "metadata": {
    "executionInfo": {
     "elapsed": 5,
     "status": "aborted",
     "timestamp": 1711528602921,
     "user": {
      "displayName": "Hubert Naacke",
      "userId": "03575281438400116050"
     },
     "user_tz": -60
    },
    "id": "QD_Ot0xmDShg",
    "scrolled": true,
    "tags": []
   },
   "outputs": [],
   "source": [
    "query=\"\"\"\n",
    "\n",
    "\n",
    "\n",
    "\"\"\"\n",
    "\n",
    "cursor=execute(connection,query,show=True)"
   ]
  },
  {
   "cell_type": "markdown",
   "metadata": {
    "id": "gY4zoQDBDShg"
   },
   "source": [
    "#### Q5. Le pays qui a gagné, en équipe, la médaille d'or dans l'épreuve de la catégorie 'Femmes' intitulée 'relais 4x6km' du sport 'Biathlon' (Ukraine)."
   ]
  },
  {
   "cell_type": "code",
   "execution_count": null,
   "metadata": {
    "executionInfo": {
     "elapsed": 5,
     "status": "aborted",
     "timestamp": 1711528602921,
     "user": {
      "displayName": "Hubert Naacke",
      "userId": "03575281438400116050"
     },
     "user_tz": -60
    },
    "id": "AdkSrVNoDShg",
    "tags": []
   },
   "outputs": [],
   "source": [
    "query=\"\"\"\n",
    "\n",
    "\n",
    "\"\"\"\n",
    "\n",
    "cursor=execute(connection,query,show=True)"
   ]
  },
  {
   "cell_type": "markdown",
   "metadata": {
    "id": "GyGxsM1aDShg"
   },
   "source": [
    "#### Q6. Les athlètes ayant participé à au moins une épreuve individuelle et au moins une par équipe (372 lignes)."
   ]
  },
  {
   "cell_type": "code",
   "execution_count": null,
   "metadata": {
    "executionInfo": {
     "elapsed": 5,
     "status": "aborted",
     "timestamp": 1711528602921,
     "user": {
      "displayName": "Hubert Naacke",
      "userId": "03575281438400116050"
     },
     "user_tz": -60
    },
    "id": "3gZOjA-PDShg",
    "scrolled": true,
    "tags": []
   },
   "outputs": [],
   "source": [
    "query=\"\"\"\n",
    "\n",
    "\n",
    "\n",
    "\"\"\"\n",
    "\n",
    "cursor=execute(connection,query,show=True)"
   ]
  },
  {
   "cell_type": "markdown",
   "metadata": {
    "id": "5_K-0zXqDShg"
   },
   "source": [
    "#### Q7. Les homonymes (les nom de familles portés par deux athlètes ou plus) (141 lignes)"
   ]
  },
  {
   "cell_type": "code",
   "execution_count": null,
   "metadata": {
    "executionInfo": {
     "elapsed": 5,
     "status": "aborted",
     "timestamp": 1711528602921,
     "user": {
      "displayName": "Hubert Naacke",
      "userId": "03575281438400116050"
     },
     "user_tz": -60
    },
    "id": "LJIOhbcnDShg",
    "scrolled": true
   },
   "outputs": [],
   "source": [
    "query=\"\"\"\n",
    "\n",
    "\n",
    "\"\"\"\n",
    "\n",
    "cursor=execute(connection,query,show=True)"
   ]
  },
  {
   "cell_type": "markdown",
   "metadata": {
    "id": "kJzSOAcoDShh"
   },
   "source": [
    "Q8. Les athlètes ayant participé à (au moins) deux épreuves individuelles (706 lignes)."
   ]
  },
  {
   "cell_type": "code",
   "execution_count": null,
   "metadata": {
    "executionInfo": {
     "elapsed": 5,
     "status": "aborted",
     "timestamp": 1711528602921,
     "user": {
      "displayName": "Hubert Naacke",
      "userId": "03575281438400116050"
     },
     "user_tz": -60
    },
    "id": "kWgVxi9bDShh",
    "scrolled": true
   },
   "outputs": [],
   "source": [
    "query=\"\"\"\n",
    "\n",
    "\n",
    "\"\"\"\n",
    "\n",
    "cursor=execute(connection,query,show=True)"
   ]
  },
  {
   "cell_type": "markdown",
   "metadata": {
    "id": "xc1f5hG7DShh"
   },
   "source": [
    "Q9. Les athlètes ayant gagné une médaille dans une épreuve individuelle, mais ayant été disqualifiés\n",
    "dans une autre (14 lignes)."
   ]
  },
  {
   "cell_type": "code",
   "execution_count": null,
   "metadata": {
    "executionInfo": {
     "elapsed": 5,
     "status": "aborted",
     "timestamp": 1711528602921,
     "user": {
      "displayName": "Hubert Naacke",
      "userId": "03575281438400116050"
     },
     "user_tz": -60
    },
    "id": "0yPIBgVZDShh",
    "scrolled": true
   },
   "outputs": [],
   "source": [
    "query=\"\"\"\n",
    "\n",
    "\n",
    "\"\"\"\n",
    "\n",
    "cursor=execute(connection,query,show=True)"
   ]
  },
  {
   "cell_type": "markdown",
   "metadata": {
    "id": "NbclvJrdDShh"
   },
   "source": [
    "Q10. Les athlètes ayant gagné (au moins) une médaille dans une épreuve individuelle (182 lignes)."
   ]
  },
  {
   "cell_type": "code",
   "execution_count": null,
   "metadata": {
    "executionInfo": {
     "elapsed": 5,
     "status": "aborted",
     "timestamp": 1711528602921,
     "user": {
      "displayName": "Hubert Naacke",
      "userId": "03575281438400116050"
     },
     "user_tz": -60
    },
    "id": "lG6EshDvDShh",
    "scrolled": true
   },
   "outputs": [],
   "source": [
    "query=\"\"\"\n",
    "\n",
    "\n",
    "\"\"\"\n",
    "\n",
    "cursor=execute(connection,query,show=True)"
   ]
  },
  {
   "cell_type": "markdown",
   "metadata": {
    "id": "si3XiSfODShh"
   },
   "source": [
    "Q11.  Les noms de pays qui n’ont qu’une seule équipe (9 lignes)."
   ]
  },
  {
   "cell_type": "code",
   "execution_count": null,
   "metadata": {
    "executionInfo": {
     "elapsed": 6,
     "status": "aborted",
     "timestamp": 1711528602922,
     "user": {
      "displayName": "Hubert Naacke",
      "userId": "03575281438400116050"
     },
     "user_tz": -60
    },
    "id": "lIgfQP3fDShh",
    "scrolled": true
   },
   "outputs": [],
   "source": [
    "query=\"\"\"\n",
    "\n",
    "\n",
    "\"\"\"\n",
    "\n",
    "cursor=execute(connection,query,show=True)"
   ]
  },
  {
   "cell_type": "code",
   "execution_count": null,
   "metadata": {
    "executionInfo": {
     "elapsed": 6,
     "status": "aborted",
     "timestamp": 1711528602922,
     "user": {
      "displayName": "Hubert Naacke",
      "userId": "03575281438400116050"
     },
     "user_tz": -60
    },
    "id": "niI8gngJDShi",
    "scrolled": true
   },
   "outputs": [],
   "source": [
    "query=\"\"\"\n",
    "\n",
    "\n",
    "\"\"\"\n",
    "\n",
    "cursor=execute(connection,query,show=True)"
   ]
  },
  {
   "cell_type": "markdown",
   "metadata": {
    "id": "yssBUD_wDShi"
   },
   "source": [
    "Q12. Les athlètes ayant participé à exactement 2 épreuves individuelles (402 lignes)."
   ]
  },
  {
   "cell_type": "code",
   "execution_count": null,
   "metadata": {
    "executionInfo": {
     "elapsed": 5,
     "status": "aborted",
     "timestamp": 1711528602922,
     "user": {
      "displayName": "Hubert Naacke",
      "userId": "03575281438400116050"
     },
     "user_tz": -60
    },
    "id": "L2q2m-GbDShi",
    "scrolled": true,
    "tags": []
   },
   "outputs": [],
   "source": [
    "query=\"\"\"\n",
    "\n",
    "\n",
    "\"\"\"\n",
    "\n",
    "cursor=execute(connection,query,show=True)"
   ]
  },
  {
   "cell_type": "markdown",
   "metadata": {
    "id": "mrN79gkzDShi"
   },
   "source": [
    "## TME5 SQL JOINTURES / EXISTS"
   ]
  },
  {
   "cell_type": "markdown",
   "metadata": {
    "id": "d6Kpq0bYDShi"
   },
   "source": [
    "### Jointures"
   ]
  },
  {
   "cell_type": "markdown",
   "metadata": {
    "id": "2RrQU6blDShi"
   },
   "source": [
    "#### Q1. Les sports auxquels LESSER Erik a participé en supposant qu'il a participé aux épreuves\n",
    "individuelles (2 lignes)."
   ]
  },
  {
   "cell_type": "code",
   "execution_count": null,
   "metadata": {
    "executionInfo": {
     "elapsed": 5,
     "status": "aborted",
     "timestamp": 1711528602922,
     "user": {
      "displayName": "Hubert Naacke",
      "userId": "03575281438400116050"
     },
     "user_tz": -60
    },
    "id": "9bjTg7nyDShi",
    "scrolled": true
   },
   "outputs": [],
   "source": [
    "query=\"\"\"\n",
    "\n",
    "\n",
    "\"\"\"\n",
    "\n",
    "cursor=execute(connection,query,show=True)"
   ]
  },
  {
   "cell_type": "markdown",
   "metadata": {
    "id": "hUALRU2UDShi"
   },
   "source": [
    "#### Q2. Les athlètes ayant participé aux épreuves individuelles de (au moins) deux sports différents (2 lignes)."
   ]
  },
  {
   "cell_type": "code",
   "execution_count": null,
   "metadata": {
    "executionInfo": {
     "elapsed": 5,
     "status": "aborted",
     "timestamp": 1711528602922,
     "user": {
      "displayName": "Hubert Naacke",
      "userId": "03575281438400116050"
     },
     "user_tz": -60
    },
    "id": "mZV3cvm5DShi",
    "scrolled": true
   },
   "outputs": [],
   "source": [
    "query=\"\"\"\n",
    "\n",
    "\n",
    "\"\"\"\n",
    "\n",
    "cursor=execute(connection,query,show=True)"
   ]
  },
  {
   "cell_type": "markdown",
   "metadata": {
    "id": "zTcY5xzzDShj"
   },
   "source": [
    "#### Q3. Les dates de début et de fin des Jeux Olympique 2014."
   ]
  },
  {
   "cell_type": "code",
   "execution_count": null,
   "metadata": {
    "executionInfo": {
     "elapsed": 5,
     "status": "aborted",
     "timestamp": 1711528602922,
     "user": {
      "displayName": "Hubert Naacke",
      "userId": "03575281438400116050"
     },
     "user_tz": -60
    },
    "id": "8I9indOQDShj",
    "scrolled": true
   },
   "outputs": [],
   "source": [
    "query=\"\"\"\n",
    "\n",
    "\n",
    "\"\"\"\n",
    "\n",
    "cursor=execute(connection,query,show=True)"
   ]
  },
  {
   "cell_type": "markdown",
   "metadata": {
    "id": "1PsB4ZC8DShj"
   },
   "source": [
    "#### Q4. Les pays qui ont des participants de moins de 18 ans ou de plus que 40 au 24-02-2016\n",
    "(Attention : il faut éliminer les athlètes dont on ne connaît pas la date de naissance) (9 ou 7 lignes)."
   ]
  },
  {
   "cell_type": "code",
   "execution_count": null,
   "metadata": {
    "executionInfo": {
     "elapsed": 5,
     "status": "aborted",
     "timestamp": 1711528602922,
     "user": {
      "displayName": "Hubert Naacke",
      "userId": "03575281438400116050"
     },
     "user_tz": -60
    },
    "id": "fedu2ztEDShj",
    "scrolled": true
   },
   "outputs": [],
   "source": [
    "query=\"\"\"\n",
    "\n",
    "\n",
    "\"\"\"\n",
    "\n",
    "cursor=execute(connection,query,show=True)"
   ]
  },
  {
   "cell_type": "markdown",
   "metadata": {
    "id": "O53zhapJDShj"
   },
   "source": [
    "### NOT EXISTS / NOT IN"
   ]
  },
  {
   "cell_type": "markdown",
   "metadata": {
    "id": "jSg8G8pZDShj"
   },
   "source": [
    "#### Q5. Les équipes n'ayant pas d'athlète (la base de données ne contient pas l'information sur les participants) (13 lignes)"
   ]
  },
  {
   "cell_type": "code",
   "execution_count": null,
   "metadata": {
    "executionInfo": {
     "elapsed": 5,
     "status": "aborted",
     "timestamp": 1711528602922,
     "user": {
      "displayName": "Hubert Naacke",
      "userId": "03575281438400116050"
     },
     "user_tz": -60
    },
    "id": "YzdWhNRwDShj",
    "scrolled": true
   },
   "outputs": [],
   "source": [
    "query=\"\"\"\n",
    "\n",
    "\n",
    "\"\"\"\n",
    "\n",
    "cursor=execute(connection,query,show=True)"
   ]
  },
  {
   "cell_type": "markdown",
   "metadata": {
    "id": "9JvQDK5FDShj"
   },
   "source": [
    "#### Q6. Les équipes qui ont exactement 2 athlètes. Retourner l'équipe en question avec ses deux seuls athlètes (114 lignes).\n"
   ]
  },
  {
   "cell_type": "code",
   "execution_count": null,
   "metadata": {
    "executionInfo": {
     "elapsed": 5,
     "status": "aborted",
     "timestamp": 1711528602922,
     "user": {
      "displayName": "Hubert Naacke",
      "userId": "03575281438400116050"
     },
     "user_tz": -60
    },
    "id": "BkfPuOz7DShj",
    "scrolled": true
   },
   "outputs": [],
   "source": [
    "query=\"\"\"\n",
    "\n",
    "\n",
    "\n",
    "\"\"\"\n",
    "\n",
    "cursor=execute(connection,query,show=True)"
   ]
  },
  {
   "cell_type": "markdown",
   "metadata": {
    "id": "7b8IUaxEDShk"
   },
   "source": [
    "#### Q7. Les sports qui n'ont pas d'épreuves de catégorie Mixte (12 lignes)."
   ]
  },
  {
   "cell_type": "code",
   "execution_count": null,
   "metadata": {
    "executionInfo": {
     "elapsed": 5,
     "status": "aborted",
     "timestamp": 1711528602922,
     "user": {
      "displayName": "Hubert Naacke",
      "userId": "03575281438400116050"
     },
     "user_tz": -60
    },
    "id": "ASz71k__DShk",
    "scrolled": true
   },
   "outputs": [],
   "source": [
    "query=\"\"\"\n",
    "\n",
    "\n",
    "\"\"\"\n",
    "\n",
    "cursor=execute(connection,query,show=True)"
   ]
  },
  {
   "cell_type": "markdown",
   "metadata": {
    "id": "-8ecel1MDShk"
   },
   "source": [
    "####  Q8. Les athlètes qui ont gagné une médaille d’or (au moins) mais pas de médaille d’argent ni de bronze (53 lignes)"
   ]
  },
  {
   "cell_type": "code",
   "execution_count": null,
   "metadata": {
    "executionInfo": {
     "elapsed": 5,
     "status": "aborted",
     "timestamp": 1711528602922,
     "user": {
      "displayName": "Hubert Naacke",
      "userId": "03575281438400116050"
     },
     "user_tz": -60
    },
    "id": "8gpFf36CDShk",
    "scrolled": true
   },
   "outputs": [],
   "source": [
    "query=\"\"\"\n",
    "\n",
    "\n",
    "\"\"\"\n",
    "\n",
    "cursor=execute(connection,query,show=True)"
   ]
  },
  {
   "cell_type": "markdown",
   "metadata": {
    "id": "NCXhuW6fDShk"
   },
   "source": [
    "#### Q9. Les athlète(s) qui ont fini dernier d’une épreuve individuelle. Indiquer leur nom, prenom, le nom\n",
    "du sport et de l’épreuve et leur rang. Attention : il faut filtrer les athlètes disqualifiés (73 lignes)."
   ]
  },
  {
   "cell_type": "code",
   "execution_count": null,
   "metadata": {
    "executionInfo": {
     "elapsed": 35683,
     "status": "aborted",
     "timestamp": 1711528602923,
     "user": {
      "displayName": "Hubert Naacke",
      "userId": "03575281438400116050"
     },
     "user_tz": -60
    },
    "id": "ksce1eRBDShk",
    "scrolled": true
   },
   "outputs": [],
   "source": [
    "query=\"\"\"\n",
    "\n",
    "\n",
    "\"\"\"\n",
    "\n",
    "cursor=execute(connection,query,show=True)"
   ]
  },
  {
   "cell_type": "markdown",
   "metadata": {
    "id": "TpSj-ODmDShk"
   },
   "source": [
    "## TD6 REQUÊTES IMBRIQUÉES AVEC EXISTS, ALL ET ANY"
   ]
  },
  {
   "cell_type": "markdown",
   "metadata": {
    "id": "inBTec6bDShk"
   },
   "source": [
    "### Q1. Les athlètes ayant participé à (au moins) une épreuve individuelle et (au moins) une épreuve\n",
    "par équipe. Exprimer la requête en utilisant ANY (au lieu de IN; voir requête 2.6 dans TD5).\n",
    "Résultat : (372 lignes)"
   ]
  },
  {
   "cell_type": "code",
   "execution_count": null,
   "metadata": {
    "executionInfo": {
     "elapsed": 35682,
     "status": "aborted",
     "timestamp": 1711528602923,
     "user": {
      "displayName": "Hubert Naacke",
      "userId": "03575281438400116050"
     },
     "user_tz": -60
    },
    "id": "jZhUWFmzDShk",
    "tags": []
   },
   "outputs": [],
   "source": [
    "query=\"\"\"\n",
    "\n",
    "\n",
    "\"\"\"\n",
    "execute(connection,query,show=True)"
   ]
  },
  {
   "cell_type": "markdown",
   "metadata": {
    "id": "tc3O5JslDShl"
   },
   "source": [
    "### Q2."
   ]
  },
  {
   "cell_type": "markdown",
   "metadata": {
    "id": "lvohJonkDShl"
   },
   "source": [
    "#### a) Les pays ayant au moins un athlète (requête équivalente: les pays ayant participé aux JO).\n",
    "Résultat : (88 lignes)"
   ]
  },
  {
   "cell_type": "code",
   "execution_count": null,
   "metadata": {
    "executionInfo": {
     "elapsed": 35682,
     "status": "aborted",
     "timestamp": 1711528602923,
     "user": {
      "displayName": "Hubert Naacke",
      "userId": "03575281438400116050"
     },
     "user_tz": -60
    },
    "id": "UEmldNxzDShl"
   },
   "outputs": [],
   "source": [
    "query=\"\"\"\n",
    "\n",
    "\n",
    "\"\"\"\n",
    "execute(connection,query,show=True)"
   ]
  },
  {
   "cell_type": "markdown",
   "metadata": {
    "id": "FpVKW8s9DShl"
   },
   "source": [
    "#### b) Les pays ayant exactement un seul athlète\n",
    "Résultat : (18 lignes)"
   ]
  },
  {
   "cell_type": "code",
   "execution_count": null,
   "metadata": {
    "executionInfo": {
     "elapsed": 35682,
     "status": "aborted",
     "timestamp": 1711528602923,
     "user": {
      "displayName": "Hubert Naacke",
      "userId": "03575281438400116050"
     },
     "user_tz": -60
    },
    "id": "T61sXjczDShl"
   },
   "outputs": [],
   "source": [
    "query=\"\"\"\n",
    "\n",
    "\n",
    "\"\"\"\n",
    "execute(connection,query,show=True)\n"
   ]
  },
  {
   "cell_type": "markdown",
   "metadata": {
    "id": "S8MaJUVhDShl"
   },
   "source": [
    "### Q3"
   ]
  },
  {
   "cell_type": "markdown",
   "metadata": {
    "id": "8b8ela4SDShl"
   },
   "source": [
    "#### a) Les athlètes qui n'ont jamais été disqualifiés aux épreuves individuelles.\n",
    "Résultat : (2194 lignes)"
   ]
  },
  {
   "cell_type": "code",
   "execution_count": null,
   "metadata": {
    "executionInfo": {
     "elapsed": 35682,
     "status": "aborted",
     "timestamp": 1711528602923,
     "user": {
      "displayName": "Hubert Naacke",
      "userId": "03575281438400116050"
     },
     "user_tz": -60
    },
    "id": "b8LARRGSDShl"
   },
   "outputs": [],
   "source": [
    "query=\"\"\"\n",
    "\n",
    "\n",
    "\"\"\"\n",
    "execute(connection,query,show=True)"
   ]
  },
  {
   "cell_type": "markdown",
   "metadata": {
    "id": "rXOXDfcQDShl"
   },
   "source": [
    "#### b) Les pays qui n'ont pas eu d'athlète disqualifié aux épreuves individuelles.\n",
    "Résultat : (143 lignes)"
   ]
  },
  {
   "cell_type": "code",
   "execution_count": null,
   "metadata": {
    "executionInfo": {
     "elapsed": 35682,
     "status": "aborted",
     "timestamp": 1711528602923,
     "user": {
      "displayName": "Hubert Naacke",
      "userId": "03575281438400116050"
     },
     "user_tz": -60
    },
    "id": "A1f6xeSWDShm"
   },
   "outputs": [],
   "source": [
    "query=\"\"\"\n",
    "\n",
    "\n",
    "\"\"\"\n",
    "execute(connection,query,show=True)"
   ]
  },
  {
   "cell_type": "markdown",
   "metadata": {
    "id": "RnMhQrjpDShm"
   },
   "source": [
    "#### c) Les pays qui ont participé aux JO et qui n'ont pas eu d'athlètes disqualifiés aux épreuves\n",
    "individuelles.\n",
    "Résultat : (25 lignes)"
   ]
  },
  {
   "cell_type": "code",
   "execution_count": null,
   "metadata": {
    "executionInfo": {
     "elapsed": 35681,
     "status": "aborted",
     "timestamp": 1711528602923,
     "user": {
      "displayName": "Hubert Naacke",
      "userId": "03575281438400116050"
     },
     "user_tz": -60
    },
    "id": "10QJYyUIDShm"
   },
   "outputs": [],
   "source": [
    "query=\"\"\"\n",
    "\n",
    "\n",
    "\"\"\"\n",
    "execute(connection,query,show=True)"
   ]
  },
  {
   "cell_type": "markdown",
   "metadata": {
    "id": "tDm6H7QLDShm"
   },
   "source": [
    "#### d) Les pays qui ont participé aux JO et qui n'ont pas eu des athlètes disqualifiés ni en\n",
    "individuel ni par équipe\n",
    "Résultat : (25 lignes)"
   ]
  },
  {
   "cell_type": "code",
   "execution_count": null,
   "metadata": {
    "executionInfo": {
     "elapsed": 35681,
     "status": "aborted",
     "timestamp": 1711528602923,
     "user": {
      "displayName": "Hubert Naacke",
      "userId": "03575281438400116050"
     },
     "user_tz": -60
    },
    "id": "5qoutVw5DShm"
   },
   "outputs": [],
   "source": [
    "query=\"\"\"\n",
    "\n",
    "\n",
    "\"\"\"\n",
    "execute(connection,query,show=True)"
   ]
  },
  {
   "cell_type": "markdown",
   "metadata": {
    "id": "aZYxVLILDShm"
   },
   "source": [
    "### Q4"
   ]
  },
  {
   "cell_type": "markdown",
   "metadata": {
    "id": "pKjzNCe3DShm"
   },
   "source": [
    "#### a) Les athlètes n'ayant pas gagné de médaille ni en individuel ni en équipe\n",
    "Résultat : (1921 lignes)"
   ]
  },
  {
   "cell_type": "code",
   "execution_count": null,
   "metadata": {
    "executionInfo": {
     "elapsed": 35681,
     "status": "aborted",
     "timestamp": 1711528602923,
     "user": {
      "displayName": "Hubert Naacke",
      "userId": "03575281438400116050"
     },
     "user_tz": -60
    },
    "id": "N52k0ERuDShm"
   },
   "outputs": [],
   "source": [
    "query=\"\"\"\n",
    "\n",
    "\n",
    "\"\"\"\n",
    "execute(connection,query,show=True)"
   ]
  },
  {
   "cell_type": "markdown",
   "metadata": {
    "id": "12_xikc-DShm"
   },
   "source": [
    "#### b) Les pays ayant participé aux JO et n'ayant pas gagné de médaille ni en individuel ni en équipe.\n",
    "Résultat : (63 lignes)"
   ]
  },
  {
   "cell_type": "code",
   "execution_count": null,
   "metadata": {
    "executionInfo": {
     "elapsed": 35682,
     "status": "aborted",
     "timestamp": 1711528602924,
     "user": {
      "displayName": "Hubert Naacke",
      "userId": "03575281438400116050"
     },
     "user_tz": -60
    },
    "id": "jQjRoxQWDShm"
   },
   "outputs": [],
   "source": [
    "query=\"\"\"\n",
    "\n",
    "\n",
    "\"\"\"\n",
    "execute(connection,query,show=True)\n"
   ]
  },
  {
   "cell_type": "markdown",
   "metadata": {
    "id": "BHQP6bj3DShn"
   },
   "source": [
    "### Q5. L'(es) épreuve(s) avec la plus grande durée.\n",
    "Résultat : Hockey sur glace, Hockey sur glace, Hommes, 16 jours"
   ]
  },
  {
   "cell_type": "code",
   "execution_count": null,
   "metadata": {
    "executionInfo": {
     "elapsed": 35681,
     "status": "aborted",
     "timestamp": 1711528602924,
     "user": {
      "displayName": "Hubert Naacke",
      "userId": "03575281438400116050"
     },
     "user_tz": -60
    },
    "id": "T3ld3yejDShn"
   },
   "outputs": [],
   "source": [
    "query=\"\"\"\n",
    "\n",
    "\n",
    "\"\"\"\n",
    "execute(connection,query,show=True)"
   ]
  },
  {
   "cell_type": "markdown",
   "metadata": {
    "id": "fJuEZFQkDShn"
   },
   "source": [
    "### Q6. Les athlètes ayant gagné une médaille à toutes les épreuve individuelles auxquelles ils ont\n",
    "participé. Résultat : (109 lignes)"
   ]
  },
  {
   "cell_type": "code",
   "execution_count": null,
   "metadata": {
    "executionInfo": {
     "elapsed": 35681,
     "status": "aborted",
     "timestamp": 1711528602924,
     "user": {
      "displayName": "Hubert Naacke",
      "userId": "03575281438400116050"
     },
     "user_tz": -60
    },
    "id": "YqEY8--hDShn"
   },
   "outputs": [],
   "source": [
    "query=\"\"\"\n",
    "\n",
    "\n",
    "\"\"\"\n",
    "execute(connection,query,show=True)"
   ]
  },
  {
   "cell_type": "markdown",
   "metadata": {
    "id": "woY1jHZFDShn"
   },
   "source": [
    "## TME6 REQUÊTES IMBRIQUÉES AVEC EXISTS, ALL ET ANY"
   ]
  },
  {
   "cell_type": "markdown",
   "metadata": {
    "id": "ixp7qvJfDShn"
   },
   "source": [
    "### ANY / ALL / IN / EXISTS"
   ]
  },
  {
   "cell_type": "markdown",
   "metadata": {
    "id": "EAfHGnCvDShn"
   },
   "source": [
    "Exprimer les requêtes suivantes en SQL :\n",
    "\n",
    "#### Q1. Les sports dont toutes les épreuves ont duré un seul jour.\n",
    "Résultat : Ski de fond, Ski alpin, Biathlon"
   ]
  },
  {
   "cell_type": "code",
   "execution_count": null,
   "metadata": {
    "executionInfo": {
     "elapsed": 35681,
     "status": "aborted",
     "timestamp": 1711528602924,
     "user": {
      "displayName": "Hubert Naacke",
      "userId": "03575281438400116050"
     },
     "user_tz": -60
    },
    "id": "keXSfhFIDShn"
   },
   "outputs": [],
   "source": [
    "query=\"\"\"\n",
    "\n",
    "\n",
    "\"\"\"\n",
    "execute(connection,query,show=True)"
   ]
  },
  {
   "cell_type": "markdown",
   "metadata": {
    "id": "1jbH8K3GDShn"
   },
   "source": [
    "#### Q2. Les sports qui n'ont pas d'épreuves de categorie Mixte.\n",
    "Résultat : (12 lignes)"
   ]
  },
  {
   "cell_type": "code",
   "execution_count": null,
   "metadata": {
    "executionInfo": {
     "elapsed": 35681,
     "status": "aborted",
     "timestamp": 1711528602924,
     "user": {
      "displayName": "Hubert Naacke",
      "userId": "03575281438400116050"
     },
     "user_tz": -60
    },
    "id": "Hp-9faDvDSho"
   },
   "outputs": [],
   "source": [
    "query=\"\"\"\n",
    "\n",
    "\n",
    "\"\"\"\n",
    "execute(connection,query,show=True)"
   ]
  },
  {
   "cell_type": "markdown",
   "metadata": {
    "id": "LA4F74h5DSho"
   },
   "source": [
    "#### Q3. Les équipes dont aucun athlète n'a gagné de médaille aux épreuves individuelles.\n",
    "Attention : il y a des équipes sans athlètes.\n",
    "Résultat : (265 lignes avec les équipes sans athlètes - 252 lignes sans les équipes sans\n",
    "athlètes)"
   ]
  },
  {
   "cell_type": "markdown",
   "metadata": {
    "id": "jKXiAMzXDSho"
   },
   "source": [
    "Avec les équipes sans athlètes :"
   ]
  },
  {
   "cell_type": "code",
   "execution_count": null,
   "metadata": {
    "executionInfo": {
     "elapsed": 35680,
     "status": "aborted",
     "timestamp": 1711528602924,
     "user": {
      "displayName": "Hubert Naacke",
      "userId": "03575281438400116050"
     },
     "user_tz": -60
    },
    "id": "s40N2IhuDSho"
   },
   "outputs": [],
   "source": [
    "query=\"\"\"\n",
    "\n",
    "\n",
    "\"\"\"\n",
    "execute(connection,query,show=True)"
   ]
  },
  {
   "cell_type": "markdown",
   "metadata": {
    "id": "XjLPKeTtDSho"
   },
   "source": [
    "Sans les équipes sans athlètes :"
   ]
  },
  {
   "cell_type": "code",
   "execution_count": null,
   "metadata": {
    "executionInfo": {
     "elapsed": 35680,
     "status": "aborted",
     "timestamp": 1711528602924,
     "user": {
      "displayName": "Hubert Naacke",
      "userId": "03575281438400116050"
     },
     "user_tz": -60
    },
    "id": "dkwCB_kADSho"
   },
   "outputs": [],
   "source": [
    "query=\"\"\"\n",
    "\n",
    "\n",
    "\"\"\"\n",
    "execute(connection,query,show=True)"
   ]
  },
  {
   "cell_type": "markdown",
   "metadata": {
    "id": "Sp-NIjoFDSho"
   },
   "source": [
    "#### Q4. La nationalité de l'athlète le/la plus jeune. Attention : il y a des athlètes dont on ne connaît pas la date de naissance.\n",
    "Résultat : ('29/11/1998','JPN')"
   ]
  },
  {
   "cell_type": "code",
   "execution_count": null,
   "metadata": {
    "executionInfo": {
     "elapsed": 35680,
     "status": "aborted",
     "timestamp": 1711528602924,
     "user": {
      "displayName": "Hubert Naacke",
      "userId": "03575281438400116050"
     },
     "user_tz": -60
    },
    "id": "tsTJve8BDSho"
   },
   "outputs": [],
   "source": [
    "query=\"\"\"\n",
    "\n",
    "\n",
    "\"\"\"\n",
    "execute(connection,query,show=True)"
   ]
  },
  {
   "cell_type": "markdown",
   "metadata": {
    "id": "xWJKiwE0DSho"
   },
   "source": [
    "#### Q5. Le plus jeune athlète de chaque pays.\n",
    "Résultat : (26 lignes)"
   ]
  },
  {
   "cell_type": "code",
   "execution_count": null,
   "metadata": {
    "executionInfo": {
     "elapsed": 35680,
     "status": "aborted",
     "timestamp": 1711528602924,
     "user": {
      "displayName": "Hubert Naacke",
      "userId": "03575281438400116050"
     },
     "user_tz": -60
    },
    "id": "uKSYD1tpDSho"
   },
   "outputs": [],
   "source": [
    "query=\"\"\"\n",
    "\n",
    "\n",
    "\"\"\"\n",
    "execute(connection,query,show=True)"
   ]
  },
  {
   "cell_type": "markdown",
   "metadata": {
    "id": "TG_di603DShp"
   },
   "source": [
    "## TME7 REQUÊTES D'AGRÉGATION ET DIVISION"
   ]
  },
  {
   "cell_type": "markdown",
   "metadata": {
    "id": "yNRfzniwDShp"
   },
   "source": [
    "On reprend le schéma schéma « Jeux Olympiques d'hiver 2014 ».\n",
    "\n",
    "PAYS (CODEPAYS, NOMP)\n",
    "\n",
    "SPORT (SID , NOM SP)\n",
    "\n",
    "EPREUVE (EPID, SID*, NOMEP, CATEGORIE, DATEDEBUT, DATEFIN)\n",
    "\n",
    "ATHLETE (AID, NOMATH, PRENOMATH, DATENAISSANCE, CODEPAYS*)\n",
    "\n",
    "EQUIPE (EQID, CODE PAYS*)\n",
    "\n",
    "ATHLETESEQUIPE (EQID*, AID*)\n",
    "\n",
    "RANGINDIVIDUEL (EPID*, AID*, RANG)\n",
    "\n",
    "RANGEQUIPE (EPID*, EQID*, RANG)"
   ]
  },
  {
   "cell_type": "markdown",
   "metadata": {
    "id": "EKfqIvNxDShp"
   },
   "source": [
    "### Fonctions d’agrégation « COUNT, SUM, AVG, MIN, MAX »"
   ]
  },
  {
   "cell_type": "markdown",
   "metadata": {
    "id": "IhmRb3JdDShp"
   },
   "source": [
    "#### Q1. Le nombre d’athlètes.\n",
    "Résultat (1 ligne) : 2431"
   ]
  },
  {
   "cell_type": "code",
   "execution_count": null,
   "metadata": {
    "executionInfo": {
     "elapsed": 35679,
     "status": "aborted",
     "timestamp": 1711528602924,
     "user": {
      "displayName": "Hubert Naacke",
      "userId": "03575281438400116050"
     },
     "user_tz": -60
    },
    "id": "QVKNzqKiDShp"
   },
   "outputs": [],
   "source": [
    "query=\"\"\"\n",
    "\n",
    "\n",
    "\"\"\"\n",
    "execute(connection,query,show=True)"
   ]
  },
  {
   "cell_type": "markdown",
   "metadata": {
    "id": "PvBJVaFgDShp"
   },
   "source": [
    "#### Q2. Le nombre d’athlètes ayant participé à au moins une épreuve en individuel.\n",
    "Résultat (1 ligne) : 1558"
   ]
  },
  {
   "cell_type": "code",
   "execution_count": null,
   "metadata": {
    "executionInfo": {
     "elapsed": 35679,
     "status": "aborted",
     "timestamp": 1711528602924,
     "user": {
      "displayName": "Hubert Naacke",
      "userId": "03575281438400116050"
     },
     "user_tz": -60
    },
    "id": "3Fc6bZ9MDShp"
   },
   "outputs": [],
   "source": [
    "query=\"\"\"\n",
    "\n",
    "\n",
    "\"\"\"\n",
    "execute(connection,query,show=True)"
   ]
  },
  {
   "cell_type": "markdown",
   "metadata": {
    "id": "fX7q_0MSDShp"
   },
   "source": [
    "#### Q3. L'âge moyen des sportifs dont le code pays est 'FRA' (France) au 06/02/2014.\n",
    "Résultat (1 ligne) : 26,8\n",
    "Aide :\n",
    "– utilisez round(valeur,nb) pour garder seulement nb décimales à valeur\n",
    "– sous Oracle, utilisez: to_date('06/02/2014','dd/mm/YYYY')"
   ]
  },
  {
   "cell_type": "code",
   "execution_count": null,
   "metadata": {
    "executionInfo": {
     "elapsed": 35679,
     "status": "aborted",
     "timestamp": 1711528602924,
     "user": {
      "displayName": "Hubert Naacke",
      "userId": "03575281438400116050"
     },
     "user_tz": -60
    },
    "id": "c1QvG6FKDShp"
   },
   "outputs": [],
   "source": [
    "query=\"\"\"\n",
    "\n",
    "\n",
    "\"\"\"\n",
    "execute(connection,query,show=True)"
   ]
  },
  {
   "cell_type": "markdown",
   "metadata": {
    "id": "0lZSHarvDShq"
   },
   "source": [
    "#### Q4. La durée moyenne, minimale et maximale des épreuves.\n",
    "Résultat (1 ligne) : « Durée moyenne = 1,98 min = 1 max = 16 »\n",
    "Aide : utilisez l’opérateur de concaténation ||\n",
    "Attention : entre le 10/01/2014 et le 13/01/2014, il y a une durée de 4 jours (et non pas 3)."
   ]
  },
  {
   "cell_type": "code",
   "execution_count": null,
   "metadata": {
    "executionInfo": {
     "elapsed": 35679,
     "status": "aborted",
     "timestamp": 1711528602924,
     "user": {
      "displayName": "Hubert Naacke",
      "userId": "03575281438400116050"
     },
     "user_tz": -60
    },
    "id": "8Bz-1NB7DShq"
   },
   "outputs": [],
   "source": [
    "query=\"\"\"\n",
    "\n",
    "\n",
    "\"\"\"\n",
    "execute(connection,query,show=True)"
   ]
  },
  {
   "cell_type": "markdown",
   "metadata": {
    "id": "Nd2yfiKWDShq"
   },
   "source": [
    "#### Q5. Le nombre moyen d'athlètes par pays, c'est-à-dire le nombre d'athlètes divisé par le nombre\n",
    "de pays (ayant au moins un athlète). Résultat (1 ligne) : 27,625"
   ]
  },
  {
   "cell_type": "code",
   "execution_count": null,
   "metadata": {
    "executionInfo": {
     "elapsed": 35679,
     "status": "aborted",
     "timestamp": 1711528602925,
     "user": {
      "displayName": "Hubert Naacke",
      "userId": "03575281438400116050"
     },
     "user_tz": -60
    },
    "id": "787j4hAbDShq"
   },
   "outputs": [],
   "source": [
    "query=\"\"\"\n",
    "\n",
    "\n",
    "\"\"\"\n",
    "execute(connection,query,show=True)"
   ]
  },
  {
   "cell_type": "markdown",
   "metadata": {
    "id": "bNDsu7-zDShq"
   },
   "source": [
    "Partitionnement « group by »"
   ]
  },
  {
   "cell_type": "markdown",
   "metadata": {
    "id": "RTCBIJjlDShq"
   },
   "source": [
    "#### Q6. Pour chaque pays, le nom du pays et le nombre d’athlètes, ordonner par nombre d’athlètes\n",
    "croissant.\n",
    "Résultats (88 lignes) : (PAK,1) ; (HKG, 1) ; ... ; (USA, 196) ; (CAN,221)"
   ]
  },
  {
   "cell_type": "code",
   "execution_count": null,
   "metadata": {
    "executionInfo": {
     "elapsed": 35679,
     "status": "aborted",
     "timestamp": 1711528602925,
     "user": {
      "displayName": "Hubert Naacke",
      "userId": "03575281438400116050"
     },
     "user_tz": -60
    },
    "id": "KHg_uOVODShq"
   },
   "outputs": [],
   "source": [
    "query=\"\"\"\n",
    "\n",
    "\n",
    "\"\"\"\n",
    "execute(connection,query,show=True)"
   ]
  },
  {
   "cell_type": "markdown",
   "metadata": {
    "id": "GUe904mgDShq"
   },
   "source": [
    "#### Q7. Le nombre moyen d'athlètes par pays (avec group by). Aide : compter le nombre\n",
    "d’athlètes dans chaque pays (ayant au moins un athlète), puis faire la moyenne.\n",
    "Résultat (1 ligne) : 27,625"
   ]
  },
  {
   "cell_type": "code",
   "execution_count": null,
   "metadata": {
    "executionInfo": {
     "elapsed": 35679,
     "status": "aborted",
     "timestamp": 1711528602925,
     "user": {
      "displayName": "Hubert Naacke",
      "userId": "03575281438400116050"
     },
     "user_tz": -60
    },
    "id": "1tJt1IsZDShs"
   },
   "outputs": [],
   "source": [
    "query=\"\"\"\n",
    "\n",
    "\n",
    "\"\"\"\n",
    "execute(connection,query,show=True)"
   ]
  },
  {
   "cell_type": "markdown",
   "metadata": {
    "id": "0kox98aiDShs"
   },
   "source": [
    "#### Q8. Pour chaque équipe, l’eqid de l'équipe et le nombre d'athlètes, ordonner par nombre\n",
    "d’athlètes décroissant.\n",
    "Résultats (296 lignes) : (164,25) ; (165,25) ; (166,25) ; ... ; (180,2) ; (181, 2) ; (182, 2)"
   ]
  },
  {
   "cell_type": "code",
   "execution_count": null,
   "metadata": {
    "executionInfo": {
     "elapsed": 35680,
     "status": "aborted",
     "timestamp": 1711528602926,
     "user": {
      "displayName": "Hubert Naacke",
      "userId": "03575281438400116050"
     },
     "user_tz": -60
    },
    "id": "deEcEFPoDShs"
   },
   "outputs": [],
   "source": [
    "query=\"\"\"\n",
    "\n",
    "\n",
    "\"\"\"\n",
    "execute(connection,query,show=True)"
   ]
  },
  {
   "cell_type": "markdown",
   "metadata": {
    "id": "PspDdwPWDShs"
   },
   "source": [
    "#### Q9. Pour chaque catégorie, la catégorie et le nombre d'épreuves.\n",
    "Résultats (3 lignes) : (Femmes,43) ; (Mixte,6) ; (Hommes,49)"
   ]
  },
  {
   "cell_type": "code",
   "execution_count": null,
   "metadata": {
    "executionInfo": {
     "elapsed": 35679,
     "status": "aborted",
     "timestamp": 1711528602926,
     "user": {
      "displayName": "Hubert Naacke",
      "userId": "03575281438400116050"
     },
     "user_tz": -60
    },
    "id": "k2z-8fQ3DShs"
   },
   "outputs": [],
   "source": [
    "query=\"\"\"\n",
    "\n",
    "\n",
    "\"\"\"\n",
    "execute(connection,query,show=True)"
   ]
  },
  {
   "cell_type": "markdown",
   "metadata": {
    "id": "0Urj8uEkDShs"
   },
   "source": [
    "#### Q10. Pour chaque sport, le nom du sport et le nombre d'épreuves, ordonner par nombre d'épreuves\n",
    "décroissant.\n",
    "\n",
    "Résultats (15 lignes) : (Patinage de vitesse,12) ; (Ski de fond,12) ; ... ;(Hockey sur glace,2)"
   ]
  },
  {
   "cell_type": "code",
   "execution_count": null,
   "metadata": {
    "executionInfo": {
     "elapsed": 35680,
     "status": "aborted",
     "timestamp": 1711528602927,
     "user": {
      "displayName": "Hubert Naacke",
      "userId": "03575281438400116050"
     },
     "user_tz": -60
    },
    "id": "s-xvalbhDSht"
   },
   "outputs": [],
   "source": [
    "query=\"\"\"\n",
    "\n",
    "\n",
    "\"\"\"\n",
    "execute(connection,query,show=True)"
   ]
  },
  {
   "cell_type": "markdown",
   "metadata": {
    "id": "eAM56o5EDSht"
   },
   "source": [
    "#### Q11. Pour chaque pays, le code du pays, le nombre de médailles en épreuve individuelle gagnées et le nombre d'athlètes ayant gagnés au moins une médaille. Ordonner par nombre de médailles décroissant.\n",
    "Aide : 2 tables seulement sont nécessaires.\n",
    "Résultats (24 lignes) : (NOR, 24,19) ; (NED,22,15) ; ..."
   ]
  },
  {
   "cell_type": "code",
   "execution_count": null,
   "metadata": {
    "executionInfo": {
     "elapsed": 35680,
     "status": "aborted",
     "timestamp": 1711528602927,
     "user": {
      "displayName": "Hubert Naacke",
      "userId": "03575281438400116050"
     },
     "user_tz": -60
    },
    "id": "nruTMVDUDSht"
   },
   "outputs": [],
   "source": [
    "query=\"\"\"\n",
    "\n",
    "\n",
    "\"\"\"\n",
    "execute(connection,query,show=True)"
   ]
  },
  {
   "cell_type": "markdown",
   "metadata": {
    "id": "n0HiPJqEDSht"
   },
   "source": []
  },
  {
   "cell_type": "markdown",
   "metadata": {
    "id": "gFIpKkbVDSht"
   },
   "source": [
    "#### Q12. Pour chaque pays et sport, le code du pays, le sid du sport, le nombre de médailles en épreuve individuelle gagnées, le nombre d'athlètes ayant gagnés au moins une médaille, ordonner d'abord par code pays, puis par nombre de médailles décroissant.\n",
    "Résultats (84 lignes) : (AUS,12,2,2); (AUS,15,1,1);(AUT,13,9,7);(AUT,15,2,2);..."
   ]
  },
  {
   "cell_type": "code",
   "execution_count": null,
   "metadata": {
    "executionInfo": {
     "elapsed": 2,
     "status": "aborted",
     "timestamp": 1711528603248,
     "user": {
      "displayName": "Hubert Naacke",
      "userId": "03575281438400116050"
     },
     "user_tz": -60
    },
    "id": "TRVaK9f9DSht"
   },
   "outputs": [],
   "source": [
    "query=\"\"\"\n",
    "\n",
    "\n",
    "\"\"\"\n",
    "execute(connection,query,show=True)"
   ]
  },
  {
   "cell_type": "markdown",
   "metadata": {
    "id": "oJV58Gu2DSht"
   },
   "source": [
    "### Partitionnement avec « group by / having »\n",
    "\n",
    "#### Q13. L’eqid de la ou des équipes qui sont composées :\n",
    "##### a) d'exactement 10 athlètes. Résultat (1 ligne) : 226"
   ]
  },
  {
   "cell_type": "code",
   "execution_count": null,
   "metadata": {
    "executionInfo": {
     "elapsed": 1,
     "status": "aborted",
     "timestamp": 1711528603248,
     "user": {
      "displayName": "Hubert Naacke",
      "userId": "03575281438400116050"
     },
     "user_tz": -60
    },
    "id": "jKyuoCPhDSht"
   },
   "outputs": [],
   "source": [
    "query=\"\"\"\n",
    "\n",
    "\n",
    "\"\"\"\n",
    "execute(connection,query,show=True)"
   ]
  },
  {
   "cell_type": "markdown",
   "metadata": {
    "id": "Vl5YkK80DSht"
   },
   "source": [
    "##### b) du plus d’athlètes pour ces JO."
   ]
  },
  {
   "cell_type": "markdown",
   "metadata": {
    "id": "6jYa0FBHDShu"
   },
   "source": [
    "Résultats (3 lignes) : 164 ; 165 ; 166"
   ]
  },
  {
   "cell_type": "code",
   "execution_count": null,
   "metadata": {
    "executionInfo": {
     "elapsed": 1,
     "status": "aborted",
     "timestamp": 1711528603248,
     "user": {
      "displayName": "Hubert Naacke",
      "userId": "03575281438400116050"
     },
     "user_tz": -60
    },
    "id": "IHODPob-DShu"
   },
   "outputs": [],
   "source": [
    "query=\"\"\"\n",
    "\n",
    "\n",
    "\"\"\"\n",
    "execute(connection,query,show=True)"
   ]
  },
  {
   "cell_type": "markdown",
   "metadata": {
    "id": "6IHvH-MxDShu"
   },
   "source": [
    "#### Q14. Le nombre d'épreuves en individuel où il y a eu au moins 100 participants.\n",
    "Résultat (1 ligne ) : 2"
   ]
  },
  {
   "cell_type": "code",
   "execution_count": null,
   "metadata": {
    "executionInfo": {
     "elapsed": 36000,
     "status": "aborted",
     "timestamp": 1711528603248,
     "user": {
      "displayName": "Hubert Naacke",
      "userId": "03575281438400116050"
     },
     "user_tz": -60
    },
    "id": "QoW0DopFDShu"
   },
   "outputs": [],
   "source": [
    "query=\"\"\"\n",
    "\n",
    "\n",
    "\"\"\"\n",
    "execute(connection,query,show=True)"
   ]
  },
  {
   "cell_type": "markdown",
   "metadata": {
    "id": "Gt685MZpDShu"
   },
   "source": [
    "#### Q15. Le nom des pays qui ont gagné au moins 20 médailles aux épreuves individuelles.\n",
    "Résultats (3 lignes) : Pays-Bas ; États-Unis ; Norvège"
   ]
  },
  {
   "cell_type": "code",
   "execution_count": null,
   "metadata": {
    "executionInfo": {
     "elapsed": 36000,
     "status": "aborted",
     "timestamp": 1711528603248,
     "user": {
      "displayName": "Hubert Naacke",
      "userId": "03575281438400116050"
     },
     "user_tz": -60
    },
    "id": "9sFqn3p2DShu"
   },
   "outputs": [],
   "source": [
    "query=\"\"\"\n",
    "\n",
    "\n",
    "\"\"\"\n",
    "execute(connection,query,show=True)"
   ]
  },
  {
   "cell_type": "markdown",
   "metadata": {
    "id": "KQt8iV6NDShu"
   },
   "source": [
    "### Division en SQL"
   ]
  },
  {
   "cell_type": "markdown",
   "metadata": {
    "id": "Mdp4OA2FDShu"
   },
   "source": [
    "#### Q16. Le sid des sports qui ont des épreuves dans toutes les catégories existantes.\n",
    "Résultats (3 lignes) : 1 ; 6 ; 7\n",
    "\n",
    "Principe : pour chaque épreuve, on compte le nombre de catégories, puis on regarde si il est\n",
    "égal au nombre total de catégories d’épreuves."
   ]
  },
  {
   "cell_type": "code",
   "execution_count": null,
   "metadata": {
    "executionInfo": {
     "elapsed": 36000,
     "status": "aborted",
     "timestamp": 1711528603248,
     "user": {
      "displayName": "Hubert Naacke",
      "userId": "03575281438400116050"
     },
     "user_tz": -60
    },
    "id": "kMi-yv_XDShu"
   },
   "outputs": [],
   "source": [
    "query=\"\"\"\n",
    "\n",
    "\n",
    "\"\"\"\n",
    "execute(connection,query,show=True)"
   ]
  },
  {
   "cell_type": "code",
   "execution_count": null,
   "metadata": {
    "executionInfo": {
     "elapsed": 35999,
     "status": "aborted",
     "timestamp": 1711528603248,
     "user": {
      "displayName": "Hubert Naacke",
      "userId": "03575281438400116050"
     },
     "user_tz": -60
    },
    "id": "i-s24UeBDShu"
   },
   "outputs": [],
   "source": [
    "query=\"\"\"\n",
    "\n",
    "\"\"\"\n",
    "execute(connection,query,show=True)"
   ]
  },
  {
   "cell_type": "markdown",
   "metadata": {
    "id": "b069OTr5DShv"
   },
   "source": [
    "#### Q17. Le nom des pays qui ont participé aux épreuves en individuel de tous les sports en individuel.\n",
    "\n",
    "Résultats (3 lignes) : (Russie,12) ; (États-Unis,12) ; (Italie,12)"
   ]
  },
  {
   "cell_type": "code",
   "execution_count": null,
   "metadata": {
    "executionInfo": {
     "elapsed": 35999,
     "status": "aborted",
     "timestamp": 1711528603248,
     "user": {
      "displayName": "Hubert Naacke",
      "userId": "03575281438400116050"
     },
     "user_tz": -60
    },
    "id": "dJJAW5DUDShv"
   },
   "outputs": [],
   "source": [
    "query=\"\"\"\n",
    "\n",
    "\n",
    "\"\"\"\n",
    "execute(connection,query,show=True)"
   ]
  },
  {
   "cell_type": "markdown",
   "metadata": {
    "id": "N0MeqCQtDShv"
   },
   "source": []
  },
  {
   "cell_type": "markdown",
   "metadata": {
    "id": "OaepQLuRDShv"
   },
   "source": [
    "## Requêtes avec paramètres"
   ]
  },
  {
   "cell_type": "code",
   "execution_count": null,
   "metadata": {
    "executionInfo": {
     "elapsed": 35999,
     "status": "aborted",
     "timestamp": 1711528603248,
     "user": {
      "displayName": "Hubert Naacke",
      "userId": "03575281438400116050"
     },
     "user_tz": -60
    },
    "id": "D0mH5zChDShv"
   },
   "outputs": [],
   "source": [
    "cursor=connection.cursor()\n",
    "cursor.execute(\"SELECT * FROM athlete WHERE aid=(%s)\", '1')\n",
    "print(cursor.fetchall())\n"
   ]
  },
  {
   "cell_type": "markdown",
   "metadata": {
    "id": "27BYp1HrDShv",
    "jp-MarkdownHeadingCollapsed": true,
    "tags": []
   },
   "source": [
    "# Manipulation de données : SQL DDL et DML\n",
    "\n",
    "Les exercices suivantes correspondent aux chapitres correspondants dans les documents\n",
    "*poly-TD-etudiants-2023.pdf* et *poly-TME-etudiants-2023.pdf*\n",
    "sur Moodle."
   ]
  },
  {
   "cell_type": "markdown",
   "metadata": {
    "id": "T0d4nY4QDShv",
    "tags": []
   },
   "source": [
    "## TD8 CREATION DE SCHEMAS- CONTRAINTES D'INTEGRITE\n",
    "\n",
    "On considère le schéma Entreprise décrit ci-dessous.\n",
    "\n",
    "EMPLOYE (NumSS, NomE, PrenomE, NumChef*, VilleE, DateNaiss)\n",
    "\n",
    "PROJET(NumProj, NomProj, RespProj*, VilleP, Budget)\n",
    "\n",
    "EMBAUCHE (NumSS*, NumProj*, DateEmb, Profil*)\n",
    "\n",
    "GRILLE_SAL (Profil, salaire)\n",
    "\n",
    "La clé primaire de chaque relation est soulignée et les attributs des clés étrangères sont suivis d’un\n",
    "astérisque. Cette base contient des informations sur des employés et sur les projets dans lesquels ils\n",
    "sont impliqués. DateEnreg dans la table employe donne la date à laquelle l'employé a été enregistré\n",
    "dans la BD. Ces employés sont embauchés dans un projet sur un profil donné et perçoivent un\n",
    "salaire en fonction de ce profil. Le chef d'un employé dans la table Employé et le chef d'un projet\n",
    "dans la table Projet sont des employés. En plus des contraintes de clé et contraintes référentielles\n",
    "indiquées dans le schéma, on voudrait intégrer les contraintes suivantes :\n",
    "\n",
    "* Domaines\n",
    "    - Le numéro de sécurité sociale possède exactement 5 chiffres.\n",
    "    - Les attributs textuels (NomE, PrenomE, NomProj, Profil) ne dépassent pas 20 caractères (ils peuvent en avoir moins).\n",
    "    - La ville d’un employé (VillE) ou d’un projet (VilleP) se limite à 'Paris', 'Lyon' et 'Marseille' et sa longueur ne dépasse pas 9 caractères.\n",
    "    - Le numéro d’un projet varie entre 5 et 7 chiffres.\n",
    "    - Le salaire peut avoir deux chiffres après la virgule et ne dépasse pas 90 000.\n",
    "    - Le budget est un entier sur 6 chiffres (sans virgule)\n",
    "    - Aucun employé ne peut avoir plus de 70 ans au moment où il est enregistré dans la table Employé.\n",
    "\n",
    "* Clés\n",
    "    - Il n'y a pas deux employés avec le même nom et le même prénom.\n",
    "\n",
    "* Not-null\n",
    "    - Chaque projet doit avoir un responsable.\n",
    "    - Dans la table Embauche, NumSS; NumProj et Profil représentent un employé, un projet et un profil existant."
   ]
  },
  {
   "cell_type": "markdown",
   "metadata": {
    "id": "3zzXFT_kDShv"
   },
   "source": [
    "### Donner en SQL les instructions de création des contraintes de domaines indiquées dans l'énoncé."
   ]
  },
  {
   "cell_type": "code",
   "execution_count": null,
   "metadata": {
    "colab": {
     "base_uri": "https://localhost:8080/"
    },
    "executionInfo": {
     "elapsed": 214,
     "status": "ok",
     "timestamp": 1711532345984,
     "user": {
      "displayName": "Hubert Naacke",
      "userId": "03575281438400116050"
     },
     "user_tz": -60
    },
    "id": "VXV3bOxNDShw",
    "outputId": "d04c7a24-fe09-4102-cbd5-1f4df6f2c8c3"
   },
   "outputs": [],
   "source": [
    "execute(connection,\"drop all objects\")"
   ]
  },
  {
   "cell_type": "code",
   "execution_count": null,
   "metadata": {
    "colab": {
     "base_uri": "https://localhost:8080/"
    },
    "executionInfo": {
     "elapsed": 203,
     "status": "ok",
     "timestamp": 1711532352030,
     "user": {
      "displayName": "Hubert Naacke",
      "userId": "03575281438400116050"
     },
     "user_tz": -60
    },
    "id": "YP5SGBLoDShw",
    "outputId": "e3631188-3e75-40ab-ba2c-61d5e849c141"
   },
   "outputs": [],
   "source": [
    "query=\"\"\"\n",
    "/* Le numéro de sécurité sociale possède exactement 5 chiffres.*/\n",
    "drop domain dnumss if exists;\n",
    "create domain dnumss as  varchar(5)\n",
    "\"\"\"\n",
    "execute(connection,query)"
   ]
  },
  {
   "cell_type": "code",
   "execution_count": null,
   "metadata": {
    "executionInfo": {
     "elapsed": 35990,
     "status": "aborted",
     "timestamp": 1711528603249,
     "user": {
      "displayName": "Hubert Naacke",
      "userId": "03575281438400116050"
     },
     "user_tz": -60
    },
    "id": "b_iYtRf_DShw"
   },
   "outputs": [],
   "source": [
    "query=\"\"\"\n",
    "/* Les attributs textuels (NomE, PrenomE, NomProj, Profil) ne dépassent pas 20 caractères (ils\n",
    "peuvent en avoir moins).*/\n",
    "drop domain dchaines if exists;\n",
    "create domain dchaines as  varchar(20);\n",
    "\"\"\"\n",
    "execute(connection,query)"
   ]
  },
  {
   "cell_type": "code",
   "execution_count": null,
   "metadata": {
    "executionInfo": {
     "elapsed": 35988,
     "status": "aborted",
     "timestamp": 1711528603249,
     "user": {
      "displayName": "Hubert Naacke",
      "userId": "03575281438400116050"
     },
     "user_tz": -60
    },
    "id": "GxsbtmoLDShx"
   },
   "outputs": [],
   "source": [
    "query=\"\"\"\n",
    "/* La ville d’un employé (VilleE) ou d’un projet (VilleP) se limite à 'Paris', 'Lyon' et 'Marseille' et\n",
    "sa longueur ne dépasse pas 9 caractères.*/\n",
    "drop domain dvilles if exists;\n",
    "create domain dvilles as  ...\n",
    "\"\"\"\n",
    "execute(connection,query)"
   ]
  },
  {
   "cell_type": "code",
   "execution_count": null,
   "metadata": {
    "executionInfo": {
     "elapsed": 35985,
     "status": "aborted",
     "timestamp": 1711528603249,
     "user": {
      "displayName": "Hubert Naacke",
      "userId": "03575281438400116050"
     },
     "user_tz": -60
    },
    "id": "5DyiXkniDShx"
   },
   "outputs": [],
   "source": [
    "query=\"\"\"\n",
    "/*Le numéro d’un projet varie entre 5 et 7 chiffres.*/\n",
    "drop domain dnumproj if exists;\n",
    "create domain dnumproj as ...\n",
    "\n",
    "/* Le salaire peut avoir deux chiffres après la virgule et ne dépasse pas 90 000.*/\n",
    "drop domain dsal if exists;\n",
    "create domain dsal as\n",
    "\n",
    "/*Budget sur 6 chiffres*/\n",
    "drop domain dbudget if exists;\n",
    "create domain dbudget as  ...\n",
    "\n",
    "/*Aucun employé ne peut avoir plus de 70 ans au moment où il est enregistré dans la table\n",
    "Employé.*/\n",
    "drop domain ddatenaiss if exists;\n",
    "create domain ddatenaiss as ...\n",
    "\"\"\"\n",
    "execute(connection,query)\n"
   ]
  },
  {
   "cell_type": "markdown",
   "metadata": {
    "id": "03QCSmaXDShx"
   },
   "source": [
    "### Donner en SQL les instructions de création du schéma de la base en leur associant les contraintes de clés, référentielles et de domaines indiquées dans l'énoncé."
   ]
  },
  {
   "cell_type": "code",
   "execution_count": null,
   "metadata": {
    "executionInfo": {
     "elapsed": 35985,
     "status": "aborted",
     "timestamp": 1711528603249,
     "user": {
      "displayName": "Hubert Naacke",
      "userId": "03575281438400116050"
     },
     "user_tz": -60
    },
    "id": "1oVzuc0iDShx"
   },
   "outputs": [],
   "source": [
    "query=\"\"\"\n",
    "/*EMPLOYE (NumSS, NomE, PrenomE, NumChef*, VilleE, DateNaiss)*/\n",
    "create table Employe(\n",
    "\n",
    "\n",
    "\n",
    "\n",
    ")\n",
    "\"\"\"\n",
    "execute(connection,query)\n"
   ]
  },
  {
   "cell_type": "code",
   "execution_count": null,
   "metadata": {
    "executionInfo": {
     "elapsed": 35985,
     "status": "aborted",
     "timestamp": 1711528603249,
     "user": {
      "displayName": "Hubert Naacke",
      "userId": "03575281438400116050"
     },
     "user_tz": -60
    },
    "id": "8h3ceZjbDShx"
   },
   "outputs": [],
   "source": [
    "query=\"\"\"\n",
    "/*PROJET(NumProj, NomProj, RespProj*, VilleP, Budget)*/\n",
    "create table Projet(\n",
    "\n",
    "\n",
    ")\n",
    "\"\"\"\n",
    "execute(connection,query)"
   ]
  },
  {
   "cell_type": "code",
   "execution_count": null,
   "metadata": {
    "executionInfo": {
     "elapsed": 35985,
     "status": "aborted",
     "timestamp": 1711528603249,
     "user": {
      "displayName": "Hubert Naacke",
      "userId": "03575281438400116050"
     },
     "user_tz": -60
    },
    "id": "jLa1qvUGDShx"
   },
   "outputs": [],
   "source": [
    "query=\"\"\"\n",
    "/*GRILLE_SAL (Profil, salaire)*/\n",
    "create table Grille_sal(\n",
    "\n",
    "\n",
    "\n",
    ")\n",
    "\"\"\"\n",
    "execute(connection,query)\n"
   ]
  },
  {
   "cell_type": "code",
   "execution_count": null,
   "metadata": {
    "executionInfo": {
     "elapsed": 35985,
     "status": "aborted",
     "timestamp": 1711528603249,
     "user": {
      "displayName": "Hubert Naacke",
      "userId": "03575281438400116050"
     },
     "user_tz": -60
    },
    "id": "McdvD-98DShx"
   },
   "outputs": [],
   "source": [
    "query=\"\"\"\n",
    "/*EMBAUCHE (NumSS*, NumProj*, DateEmb, Profil*)*/\n",
    "create table Embauche(\n",
    "\n",
    "\n",
    "\n",
    ")\n",
    "\"\"\"\n",
    "execute(connection,query)\n"
   ]
  },
  {
   "cell_type": "markdown",
   "metadata": {
    "id": "B9in-rbnDShx"
   },
   "source": [
    "3. Un responsable de projet doit habiter la ville du projet dont il est responsable. Donner en\n",
    "SQL l'instruction permettant d’exprimer cette contrainte en considérant que la table projet a été créée/ Utiliser la commande"
   ]
  },
  {
   "cell_type": "markdown",
   "metadata": {
    "id": "eSp8t549DShy"
   },
   "source": [
    "      alter table <table> add constraint <nom><expression>"
   ]
  },
  {
   "cell_type": "code",
   "execution_count": null,
   "metadata": {
    "executionInfo": {
     "elapsed": 35984,
     "status": "aborted",
     "timestamp": 1711528603249,
     "user": {
      "displayName": "Hubert Naacke",
      "userId": "03575281438400116050"
     },
     "user_tz": -60
    },
    "id": "rsODSnGqDShy"
   },
   "outputs": [],
   "source": [
    "query=\"\"\"\n",
    "alter table PROJET add constraint resprojet check\n",
    "\"\"\"\n",
    "execute(connection,query)\n"
   ]
  },
  {
   "cell_type": "markdown",
   "metadata": {
    "id": "o7JK6ji-DShy"
   },
   "source": [
    "Commande utile:\n",
    "    "
   ]
  },
  {
   "cell_type": "code",
   "execution_count": null,
   "metadata": {
    "executionInfo": {
     "elapsed": 35984,
     "status": "aborted",
     "timestamp": 1711528603249,
     "user": {
      "displayName": "Hubert Naacke",
      "userId": "03575281438400116050"
     },
     "user_tz": -60
    },
    "id": "bhCNLF9wDShy"
   },
   "outputs": [],
   "source": [
    "query=\"\"\"\n",
    "alter table PROJET drop constraint resprojet\n",
    "\"\"\"\n",
    "execute(connection,query)\n"
   ]
  },
  {
   "cell_type": "markdown",
   "metadata": {
    "id": "k44L2LGEDShy"
   },
   "source": [
    "## TME8 CREATION DE SCHEMAS- CONTRAINTES D'INTEGRITE\n",
    "\n",
    "Dans ce qui suit, il vous est demandé d'effectuer des insertions de n-uplets dans des tables.\n",
    "\n",
    "Syntaxe des insertions :\n",
    "\n",
    "    insert into Table(attr1, attr2, ...) values ('val1', 'val2', ....)\n",
    "    insert into Table values ('val1', 'val2', ....)\n",
    "    insert into Table <requête>\n",
    "    \n",
    "\n",
    "Syntaxe des suppressions :\n",
    "\n",
    "    delete from table\n",
    "    delete from table where <cond>\n",
    "\n",
    "Syntaxe des mise à jour :\n",
    "\n",
    "    upate table set attr = valeur where <cond>\n",
    "    upate table set attr = <requete> where <cond>"
   ]
  },
  {
   "cell_type": "code",
   "execution_count": null,
   "metadata": {
    "executionInfo": {
     "elapsed": 35984,
     "status": "aborted",
     "timestamp": 1711528603249,
     "user": {
      "displayName": "Hubert Naacke",
      "userId": "03575281438400116050"
     },
     "user_tz": -60
    },
    "id": "1xOEOGmzDShy"
   },
   "outputs": [],
   "source": [
    "connection = connect_H2(f\"employes{port}\",\"ba\",\"ba\",port)"
   ]
  },
  {
   "cell_type": "markdown",
   "metadata": {
    "id": "kM0JuxY7DShy"
   },
   "source": [
    "### Insérez dans chaque table au moins un n-uplet qui vérifie les contraintes d'intégrité."
   ]
  },
  {
   "cell_type": "code",
   "execution_count": null,
   "metadata": {
    "executionInfo": {
     "elapsed": 35984,
     "status": "aborted",
     "timestamp": 1711528603249,
     "user": {
      "displayName": "Hubert Naacke",
      "userId": "03575281438400116050"
     },
     "user_tz": -60
    },
    "id": "Fctov3JHDShy"
   },
   "outputs": [],
   "source": [
    "query=\"\"\"\n",
    "insert into employe(NUMSS,NOME,PRENOME, VILLEE , DATENAISS ) values (12345, 'Smith', 'John', 'Paris', '1975-08-25' ))\n",
    "insert into projet ...\n",
    "insert into embauche ...\n",
    "insert int grille_sal ...\n",
    "\"\"\"\n",
    "execute(connection,query)"
   ]
  },
  {
   "cell_type": "markdown",
   "metadata": {
    "id": "A00VgmkjDShy"
   },
   "source": [
    "### Proposez des insertions qui violent les contraintes d'intégrité définies pour chaque table."
   ]
  },
  {
   "cell_type": "markdown",
   "metadata": {
    "id": "KepHdGXBDShy"
   },
   "source": [
    "#### Proposer une insertion dans la table Employé qui ne respecte pas la contrainte de clé primaire."
   ]
  },
  {
   "cell_type": "code",
   "execution_count": null,
   "metadata": {
    "executionInfo": {
     "elapsed": 35983,
     "status": "aborted",
     "timestamp": 1711528603249,
     "user": {
      "displayName": "Hubert Naacke",
      "userId": "03575281438400116050"
     },
     "user_tz": -60
    },
    "id": "fl-lGRp8DShy"
   },
   "outputs": [],
   "source": [
    "query=\"\"\"\n",
    "insert into employe (NumSS, NomE, prenomE, villeE, dateNaiss)\n",
    "   values (21456, 'DUPONT', 'Marc', 'paris', parsedatetime('12-01-1982', 'dd-MM-yyyy' )) ;\n",
    "insert into employe\n",
    "\"\"\"\n",
    "execute(connection,query)"
   ]
  },
  {
   "cell_type": "markdown",
   "metadata": {
    "id": "OmnSIGGQDShz"
   },
   "source": [
    "#### Proposer une insertion dans la table Employe qui ne respecte pas la contrainte de limite d'âge."
   ]
  },
  {
   "cell_type": "code",
   "execution_count": null,
   "metadata": {
    "executionInfo": {
     "elapsed": 35984,
     "status": "aborted",
     "timestamp": 1711528603250,
     "user": {
      "displayName": "Hubert Naacke",
      "userId": "03575281438400116050"
     },
     "user_tz": -60
    },
    "id": "iJVGQa8eDShz"
   },
   "outputs": [],
   "source": [
    "query=\"\"\"\n",
    "insert into employe\n",
    "\n",
    "\n",
    "\"\"\"\n",
    "execute(connection,query)"
   ]
  },
  {
   "cell_type": "markdown",
   "metadata": {
    "id": "uJIy16cxDShz"
   },
   "source": [
    "#### Proposer une insertion dans la table Employe qui ne respecte pas la contrainte de longueur de\n",
    "l'attribut NumSS."
   ]
  },
  {
   "cell_type": "code",
   "execution_count": null,
   "metadata": {
    "executionInfo": {
     "elapsed": 35984,
     "status": "aborted",
     "timestamp": 1711528603250,
     "user": {
      "displayName": "Hubert Naacke",
      "userId": "03575281438400116050"
     },
     "user_tz": -60
    },
    "id": "Sc9qJi-3DShz"
   },
   "outputs": [],
   "source": [
    "query=\"\"\"\n",
    "insert into employe\n",
    "\"\"\"\n",
    "execute(connection,query)"
   ]
  },
  {
   "cell_type": "markdown",
   "metadata": {
    "id": "wI9-lOJnDShz"
   },
   "source": [
    "#### Proposer une insertion dans la table Employe qui ne respecte pas la contrainte sur les villes possibles."
   ]
  },
  {
   "cell_type": "code",
   "execution_count": null,
   "metadata": {
    "executionInfo": {
     "elapsed": 35984,
     "status": "aborted",
     "timestamp": 1711528603250,
     "user": {
      "displayName": "Hubert Naacke",
      "userId": "03575281438400116050"
     },
     "user_tz": -60
    },
    "id": "O1wyAlhlDShz"
   },
   "outputs": [],
   "source": [
    "query=\"\"\"\n",
    "insert into employe\n",
    "\"\"\"\n",
    "execute(connection,query)"
   ]
  },
  {
   "cell_type": "markdown",
   "metadata": {
    "id": "2cFxNzDLDShz"
   },
   "source": [
    "#### Proposer une insertion dans la table Grille_SAL qui ne respecte pas la contrainte sur le salaire qui ne doit pas dépasser 90 000."
   ]
  },
  {
   "cell_type": "code",
   "execution_count": null,
   "metadata": {
    "executionInfo": {
     "elapsed": 35984,
     "status": "aborted",
     "timestamp": 1711528603250,
     "user": {
      "displayName": "Hubert Naacke",
      "userId": "03575281438400116050"
     },
     "user_tz": -60
    },
    "id": "GN90d7fMDShz"
   },
   "outputs": [],
   "source": [
    "query=\"\"\"\n",
    "insert into  Grille_sal ....\n",
    "\"\"\"\n",
    "execute(connection,query)"
   ]
  },
  {
   "cell_type": "markdown",
   "metadata": {
    "id": "y2B3dqzSDSh0"
   },
   "source": [
    "#### Proposer une insertion dans la table Projet qui ne respecte pas la contrainte référentielle vers Employe."
   ]
  },
  {
   "cell_type": "code",
   "execution_count": null,
   "metadata": {
    "executionInfo": {
     "elapsed": 35983,
     "status": "aborted",
     "timestamp": 1711528603250,
     "user": {
      "displayName": "Hubert Naacke",
      "userId": "03575281438400116050"
     },
     "user_tz": -60
    },
    "id": "nuA6aCADDSh0"
   },
   "outputs": [],
   "source": [
    "query=\"\"\"\n",
    "insert into Projet values\n",
    "\"\"\"\n",
    "cursor=execute(connection,query)"
   ]
  },
  {
   "cell_type": "markdown",
   "metadata": {
    "id": "_qmJQPdQDSh0"
   },
   "source": [
    "#### Proposer une insertion dans la table Embauche qui ne respecte pas une des contraintes\n",
    "référentielles."
   ]
  },
  {
   "cell_type": "code",
   "execution_count": null,
   "metadata": {
    "executionInfo": {
     "elapsed": 35983,
     "status": "aborted",
     "timestamp": 1711528603250,
     "user": {
      "displayName": "Hubert Naacke",
      "userId": "03575281438400116050"
     },
     "user_tz": -60
    },
    "id": "rZqZTYJEDSh0"
   },
   "outputs": [],
   "source": [
    "query=\"\"\"\n",
    "insert into employe ...\n",
    "\n",
    "\"\"\"\n",
    "execute(connection,query)"
   ]
  },
  {
   "cell_type": "markdown",
   "metadata": {
    "id": "iw275It6DSh0"
   },
   "source": [
    "## TD9 CREATION DES SCHEMAS - MODIFICATION DES DONNEES.\n",
    "\n",
    "### Villes et Pays\n",
    "\n",
    "On veut créer un schéma relationnel pour stocker des informations sur des villes et des pays.\n",
    "\n",
    "#### 1. Traduisez le schéma relationnel suivant en instructions SQL:\n",
    "\n",
    "    Ville(nom, population, pays*)\n",
    "    Pays(nom, capitale*)\n",
    "\n",
    "où pays est une référence vers un pays dans la table Pays et capitale est une référence vers une ville dans la table Ville."
   ]
  },
  {
   "cell_type": "code",
   "execution_count": null,
   "metadata": {
    "executionInfo": {
     "elapsed": 35983,
     "status": "aborted",
     "timestamp": 1711528603250,
     "user": {
      "displayName": "Hubert Naacke",
      "userId": "03575281438400116050"
     },
     "user_tz": -60
    },
    "id": "VenSvbeGDSh0"
   },
   "outputs": [],
   "source": [
    "connection = connect_H2(f\"villes{port}\",\"ba\",\"ba\",port)"
   ]
  },
  {
   "cell_type": "code",
   "execution_count": null,
   "metadata": {
    "executionInfo": {
     "elapsed": 35983,
     "status": "aborted",
     "timestamp": 1711528603250,
     "user": {
      "displayName": "Hubert Naacke",
      "userId": "03575281438400116050"
     },
     "user_tz": -60
    },
    "id": "yS186naEDSh0"
   },
   "outputs": [],
   "source": [
    "query=\"\"\"\n",
    "create table Ville(\n",
    "\n",
    "\n",
    "\n",
    ");\n",
    "create table Pays(\n",
    "\n",
    "\n",
    "\n",
    ");\n",
    "\n",
    "\n",
    "\n",
    "\n",
    "\"\"\"\n",
    "execute(connection,query)\n"
   ]
  },
  {
   "cell_type": "markdown",
   "metadata": {
    "id": "Q5HA7Gh2DSh0"
   },
   "source": [
    "#### Insérez la France avec sa capitale Paris (3 millions d'habitants) dans la base de données."
   ]
  },
  {
   "cell_type": "code",
   "execution_count": null,
   "metadata": {
    "executionInfo": {
     "elapsed": 35982,
     "status": "aborted",
     "timestamp": 1711528603250,
     "user": {
      "displayName": "Hubert Naacke",
      "userId": "03575281438400116050"
     },
     "user_tz": -60
    },
    "id": "2OhHFfZXDSh0"
   },
   "outputs": [],
   "source": [
    "query=\"\"\"\n",
    "\n",
    "\n",
    "\n",
    "\n",
    "\"\"\"\n",
    "cursor=execute(connection,query)"
   ]
  },
  {
   "cell_type": "markdown",
   "metadata": {
    "id": "7oHGvjtWDSh0"
   },
   "source": [
    "#### Modifiez le schéma de telle manière que la suppression d'un pays déclenche automatiquement la suppression de toutes les villes du pays.\n",
    "                                             "
   ]
  },
  {
   "cell_type": "code",
   "execution_count": null,
   "metadata": {
    "executionInfo": {
     "elapsed": 35982,
     "status": "aborted",
     "timestamp": 1711528603250,
     "user": {
      "displayName": "Hubert Naacke",
      "userId": "03575281438400116050"
     },
     "user_tz": -60
    },
    "id": "uV06NtpGDSh1"
   },
   "outputs": [],
   "source": [
    "query=\"\"\"\n",
    "alter table Ville drop constraint fk_pays;\n",
    "alter table Ville add constraint fk_pays ....\n",
    "\n",
    "alter table Pays drop constraint fk_pays_capitale;\n",
    "alter table Pays add constraint fk_pays_capitale .....\n",
    "\"\"\"\n",
    "execute(connection,query)\n",
    "\n"
   ]
  },
  {
   "cell_type": "markdown",
   "metadata": {
    "id": "-hayUXuQDSh1"
   },
   "source": [
    "#### Effacez les deux tables Ville et Pays du schéma."
   ]
  },
  {
   "cell_type": "code",
   "execution_count": null,
   "metadata": {
    "executionInfo": {
     "elapsed": 35982,
     "status": "aborted",
     "timestamp": 1711528603250,
     "user": {
      "displayName": "Hubert Naacke",
      "userId": "03575281438400116050"
     },
     "user_tz": -60
    },
    "id": "hTXICCaEDSh1"
   },
   "outputs": [],
   "source": [
    "query=\"\"\"\n",
    "\n",
    "\n",
    "\n",
    "\n",
    "\"\"\"\n",
    "execute(connection,query)\n"
   ]
  },
  {
   "cell_type": "markdown",
   "metadata": {
    "id": "bRXAiwg1DSh1"
   },
   "source": [
    "### Arbres ordonnées"
   ]
  },
  {
   "cell_type": "markdown",
   "metadata": {
    "id": "mbBOIyI0DSh1"
   },
   "source": [
    "Voici une table Arbre qui permet de stocker des arbres ordonnés dans une base de données\n",
    "relationnelle:"
   ]
  },
  {
   "cell_type": "code",
   "execution_count": null,
   "metadata": {
    "executionInfo": {
     "elapsed": 35982,
     "status": "aborted",
     "timestamp": 1711528603250,
     "user": {
      "displayName": "Hubert Naacke",
      "userId": "03575281438400116050"
     },
     "user_tz": -60
    },
    "id": "5TObwH6YDSh1"
   },
   "outputs": [],
   "source": [
    "connection = connect_H2(f\"arbres{port}\",\"ba\",\"ba\",port)"
   ]
  },
  {
   "cell_type": "code",
   "execution_count": null,
   "metadata": {
    "executionInfo": {
     "elapsed": 35982,
     "status": "aborted",
     "timestamp": 1711528603250,
     "user": {
      "displayName": "Hubert Naacke",
      "userId": "03575281438400116050"
     },
     "user_tz": -60
    },
    "id": "Cs9GCirNDSh1"
   },
   "outputs": [],
   "source": [
    "query=\"\"\"\n",
    "drop table Arbre if exists;\n",
    "create table Arbre(\n",
    "    id numeric(10),\n",
    "    par numeric(10),\n",
    "    pos numeric(2),\n",
    "    constraint pk primary key (id),\n",
    "    constraint fk foreign key (par) references Arbre (id));\n",
    "\"\"\"\n",
    "execute(connection,query)\n"
   ]
  },
  {
   "cell_type": "markdown",
   "metadata": {
    "id": "D4qtH7WkDSh1"
   },
   "source": [
    "- id est l'identifiant du nœud,\n",
    "- par est l'identifiant du parent,\n",
    "- pos est la position parmi les enfants ;"
   ]
  },
  {
   "cell_type": "markdown",
   "metadata": {
    "id": "w_UbBVzwDSh1"
   },
   "source": [
    "#### Inserez l'arbre binaire (1(2(4,5),3(6,7(8,9))))) dans la base de données."
   ]
  },
  {
   "cell_type": "code",
   "execution_count": null,
   "metadata": {
    "executionInfo": {
     "elapsed": 35981,
     "status": "aborted",
     "timestamp": 1711528603250,
     "user": {
      "displayName": "Hubert Naacke",
      "userId": "03575281438400116050"
     },
     "user_tz": -60
    },
    "id": "inCfdk-GDSh1"
   },
   "outputs": [],
   "source": [
    "query=\"\"\"\n",
    "\n",
    "insert into Arbre\n",
    "\n",
    "\n",
    "\"\"\"\n",
    "execute(connection,query,show=True)\n"
   ]
  },
  {
   "cell_type": "markdown",
   "metadata": {
    "id": "p8aF9BMzDSh2"
   },
   "source": [
    "#### Comment faut il modifier le schéma pour empêcher qu'un noeud a deux enfants à la même position?"
   ]
  },
  {
   "cell_type": "code",
   "execution_count": null,
   "metadata": {
    "executionInfo": {
     "elapsed": 35981,
     "status": "aborted",
     "timestamp": 1711528603250,
     "user": {
      "displayName": "Hubert Naacke",
      "userId": "03575281438400116050"
     },
     "user_tz": -60
    },
    "id": "JpCSlF9nDSh2"
   },
   "outputs": [],
   "source": [
    "query=\"\"\"\n",
    "alter table Arbre add constraint ....\n",
    "\"\"\"\n",
    "execute(connection,query)\n",
    "\n"
   ]
  },
  {
   "cell_type": "markdown",
   "metadata": {
    "id": "sms6MrYMDSh2"
   },
   "source": [
    "#### Effacez le sous-arbre 3(6,7(8,9)) de la base de données."
   ]
  },
  {
   "cell_type": "code",
   "execution_count": null,
   "metadata": {
    "executionInfo": {
     "elapsed": 35982,
     "status": "aborted",
     "timestamp": 1711528603251,
     "user": {
      "displayName": "Hubert Naacke",
      "userId": "03575281438400116050"
     },
     "user_tz": -60
    },
    "id": "yR4wKshCDSh2"
   },
   "outputs": [],
   "source": [
    "query=\"\"\"\n",
    "\n",
    "\n",
    "\n",
    "\"\"\"\n",
    "execute(connection,query)\n"
   ]
  },
  {
   "cell_type": "markdown",
   "metadata": {
    "id": "4Tnd34RyDSh2"
   },
   "source": [
    "#### Est-ce que l'instruction suivante est possible sur l'arbre initial (avant l'effacement) ?"
   ]
  },
  {
   "cell_type": "code",
   "execution_count": null,
   "metadata": {
    "executionInfo": {
     "elapsed": 35982,
     "status": "aborted",
     "timestamp": 1711528603251,
     "user": {
      "displayName": "Hubert Naacke",
      "userId": "03575281438400116050"
     },
     "user_tz": -60
    },
    "id": "h2LXvhbvDSh2"
   },
   "outputs": [],
   "source": [
    "query=\"\"\"\n",
    "delete from Arbre where id=3\n",
    "\"\"\"\n",
    "execute(connection,query)"
   ]
  },
  {
   "cell_type": "markdown",
   "metadata": {
    "id": "Vj9uN36bDSh2"
   },
   "source": [
    "#### Comment peut-on modifier le schéma pour effacer le sous-arbre avec l'instruction précédente ?"
   ]
  },
  {
   "cell_type": "code",
   "execution_count": null,
   "metadata": {
    "executionInfo": {
     "elapsed": 35981,
     "status": "aborted",
     "timestamp": 1711528603251,
     "user": {
      "displayName": "Hubert Naacke",
      "userId": "03575281438400116050"
     },
     "user_tz": -60
    },
    "id": "RfH2rNQuDSh2"
   },
   "outputs": [],
   "source": [
    "query=\"\"\"\n",
    "\n",
    "\n",
    "\n",
    "\"\"\"\n",
    "execute(connection,query)"
   ]
  },
  {
   "cell_type": "markdown",
   "metadata": {
    "id": "6PuFctcpDSh2"
   },
   "source": [
    "#### Est-ce qu'il est possible de modifier l'identifiant d'un nœud ?"
   ]
  },
  {
   "cell_type": "markdown",
   "metadata": {
    "id": "0zZ7GyFpDSh2"
   },
   "source": [
    "#### Comment peut-on modifier le schéma pour permettre l'instruction précédente ?"
   ]
  },
  {
   "cell_type": "code",
   "execution_count": null,
   "metadata": {
    "executionInfo": {
     "elapsed": 35981,
     "status": "aborted",
     "timestamp": 1711528603251,
     "user": {
      "displayName": "Hubert Naacke",
      "userId": "03575281438400116050"
     },
     "user_tz": -60
    },
    "id": "iscLF4_EDSh3"
   },
   "outputs": [],
   "source": [
    "query=\"\"\"\n",
    "\n",
    "\n",
    "\n",
    "\"\"\"\n",
    "execute(connection,query,show=True)"
   ]
  },
  {
   "cell_type": "markdown",
   "metadata": {
    "id": "zHtOWA4LDSh3"
   },
   "source": [
    "#### Quel est le résultat des instructions suivantes (sur l'arbre initial):"
   ]
  },
  {
   "cell_type": "code",
   "execution_count": null,
   "metadata": {
    "executionInfo": {
     "elapsed": 35981,
     "status": "aborted",
     "timestamp": 1711528603251,
     "user": {
      "displayName": "Hubert Naacke",
      "userId": "03575281438400116050"
     },
     "user_tz": -60
    },
    "id": "hte9bFPgDSh3"
   },
   "outputs": [],
   "source": [
    "query=\"\"\"\n",
    "alter table Arbre drop constraint fk ;\n",
    "alter table Arbre add constraint fk foreign key (par) references Arbre(id)\n",
    "      on delete set null;\n",
    "delete from Arbre where id=3;\n",
    "select * from Arbre\n",
    "\"\"\"\n",
    "execute(connection,query,show=True)"
   ]
  },
  {
   "cell_type": "markdown",
   "metadata": {
    "id": "XOlkAPGGDSh3",
    "jp-MarkdownHeadingCollapsed": true,
    "tags": []
   },
   "source": [
    "# Transactions"
   ]
  },
  {
   "cell_type": "code",
   "execution_count": null,
   "metadata": {
    "executionInfo": {
     "elapsed": 35981,
     "status": "aborted",
     "timestamp": 1711528603251,
     "user": {
      "displayName": "Hubert Naacke",
      "userId": "03575281438400116050"
     },
     "user_tz": -60
    },
    "id": "Vi6Re_LCDSh3"
   },
   "outputs": [],
   "source": [
    "connection.commit()"
   ]
  },
  {
   "cell_type": "code",
   "execution_count": null,
   "metadata": {
    "executionInfo": {
     "elapsed": 35981,
     "status": "aborted",
     "timestamp": 1711528603251,
     "user": {
      "displayName": "Hubert Naacke",
      "userId": "03575281438400116050"
     },
     "user_tz": -60
    },
    "id": "D6x9SV7NDSh3"
   },
   "outputs": [],
   "source": [
    "resultat=execute(connection, \"SELECT * FROM athlete where aid<12\",True)"
   ]
  },
  {
   "cell_type": "code",
   "execution_count": null,
   "metadata": {
    "executionInfo": {
     "elapsed": 35980,
     "status": "aborted",
     "timestamp": 1711528603251,
     "user": {
      "displayName": "Hubert Naacke",
      "userId": "03575281438400116050"
     },
     "user_tz": -60
    },
    "id": "-i_V0D97DSh3"
   },
   "outputs": [],
   "source": [
    "delete_comment = \"DELETE FROM athlete where aid<10\"\n",
    "execute(connection, delete_comment)"
   ]
  },
  {
   "cell_type": "code",
   "execution_count": null,
   "metadata": {
    "executionInfo": {
     "elapsed": 35980,
     "status": "aborted",
     "timestamp": 1711528603251,
     "user": {
      "displayName": "Hubert Naacke",
      "userId": "03575281438400116050"
     },
     "user_tz": -60
    },
    "id": "cpEPvW6LDSh4"
   },
   "outputs": [],
   "source": [
    "execute(connection, \"SELECT * FROM athlete where aid < 12\",True)"
   ]
  },
  {
   "cell_type": "code",
   "execution_count": null,
   "metadata": {
    "executionInfo": {
     "elapsed": 35980,
     "status": "aborted",
     "timestamp": 1711528603251,
     "user": {
      "displayName": "Hubert Naacke",
      "userId": "03575281438400116050"
     },
     "user_tz": -60
    },
    "id": "AchrC3r9DSh4"
   },
   "outputs": [],
   "source": [
    "connection.rollback()"
   ]
  },
  {
   "cell_type": "code",
   "execution_count": null,
   "metadata": {
    "executionInfo": {
     "elapsed": 35980,
     "status": "aborted",
     "timestamp": 1711528603251,
     "user": {
      "displayName": "Hubert Naacke",
      "userId": "03575281438400116050"
     },
     "user_tz": -60
    },
    "id": "J_0wpkuaDSh4",
    "scrolled": true
   },
   "outputs": [],
   "source": [
    "execute(connection, \"SELECT * FROM athlete where aid < 12\",True)"
   ]
  },
  {
   "cell_type": "markdown",
   "metadata": {
    "id": "Fy6VJJzuDSh4"
   },
   "source": [
    "# Fermer la connexion"
   ]
  },
  {
   "cell_type": "code",
   "execution_count": null,
   "metadata": {
    "executionInfo": {
     "elapsed": 35980,
     "status": "aborted",
     "timestamp": 1711528603251,
     "user": {
      "displayName": "Hubert Naacke",
      "userId": "03575281438400116050"
     },
     "user_tz": -60
    },
    "id": "CakOEzsyDSh4"
   },
   "outputs": [],
   "source": [
    "connection.commit() # implicit avec close\n",
    "connection.close()"
   ]
  },
  {
   "cell_type": "code",
   "execution_count": null,
   "metadata": {
    "executionInfo": {
     "elapsed": 35979,
     "status": "aborted",
     "timestamp": 1711528603251,
     "user": {
      "displayName": "Hubert Naacke",
      "userId": "03575281438400116050"
     },
     "user_tz": -60
    },
    "id": "Zbfi3oGGDSh4"
   },
   "outputs": [],
   "source": []
  }
 ],
 "metadata": {
  "colab": {
   "provenance": [],
   "toc_visible": true
  },
  "interpreter": {
   "hash": "3f7970bd1fb3f240334e0295161dab121eeb02ebe2a02561bbc5f2c38513dba7"
  },
  "kernelspec": {
   "display_name": "Python 3 (ipykernel)",
   "language": "python",
   "name": "python3"
  },
  "language_info": {
   "codemirror_mode": {
    "name": "ipython",
    "version": 3
   },
   "file_extension": ".py",
   "mimetype": "text/x-python",
   "name": "python",
   "nbconvert_exporter": "python",
   "pygments_lexer": "ipython3",
   "version": "3.10.12"
  },
  "toc-autonumbering": true,
  "toc-showcode": false,
  "toc-showmarkdowntxt": false,
  "toc-showtags": true
 },
 "nbformat": 4,
 "nbformat_minor": 4
}
