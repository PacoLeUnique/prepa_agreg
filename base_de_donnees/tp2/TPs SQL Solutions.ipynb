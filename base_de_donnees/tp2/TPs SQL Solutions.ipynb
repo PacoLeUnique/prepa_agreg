{
 "cells": [
  {
   "cell_type": "markdown",
   "metadata": {},
   "source": [
    "# TP SQL Agrégation Informatique\n",
    "\n",
    "date du document: 23 septembre 2024\n",
    "\n",
    "Le système utilisé pendant les TME est H2.\n",
    "\n",
    "- Connectez-vous à l'environnement Jupyterhub de Capsule  (section TMEs Jupyter Notebook)\n",
    "- Importez les fichiers téléchargés dans votre environnement  (flèche vers le haut en haut à gauche)\n",
    "- Sélectionnez un Kernel \n",
    "\n",
    "\n",
    "Alternatives si problème d'utilisation de Jupyterhub de Capsule:\n",
    "\n",
    "- Installer et exécuter le serveur H2 en local (voir le documentation la documentation SGBD H2)\n",
    "- Télécharger les fichiers du TME dans un répertoire local et lancer jupyter-lab ou jupyter-notebook en local (installer  java si besoin), il n'y a pas de kernel pyspark dans ce cas\n"
   ]
  },
  {
   "cell_type": "markdown",
   "metadata": {},
   "source": [
    "# Installation H2 \n",
    "\n",
    "Le système utilisé pendant les TME est H2 qui est accédée avec l'adaptateur PostgreSQL:"
   ]
  },
  {
   "cell_type": "code",
   "execution_count": null,
   "metadata": {},
   "outputs": [],
   "source": [
    "pip install psycopg2-binary"
   ]
  },
  {
   "cell_type": "markdown",
   "metadata": {},
   "source": [
    "**Relancez le kernel**: Kernel -> Restart kernel ..."
   ]
  },
  {
   "cell_type": "markdown",
   "metadata": {},
   "source": [
    "Télécharger les pilote PostgreSQL et H2 (optionnel)"
   ]
  },
  {
   "cell_type": "code",
   "execution_count": 2,
   "metadata": {},
   "outputs": [
    {
     "name": "stdout",
     "output_type": "stream",
     "text": [
      "--2024-10-07 18:19:15--  https://nuage.lip6.fr/s/LqD9N23kxrfHopr/download?path=agreg/postgresql-42.6.0.jar\n",
      "Résolution de nuage.lip6.fr (nuage.lip6.fr)… 132.227.201.11\n",
      "Connexion à nuage.lip6.fr (nuage.lip6.fr)|132.227.201.11|:443… connecté.\n",
      "requête HTTP transmise, en attente de la réponse… 200 OK\n",
      "Taille : 1081604 (1,0M) [application/octet-stream]\n",
      "Enregistre : ‘postgresql-42.6.0.jar’\n",
      "\n",
      "postgresql-42.6.0.j 100%[===================>]   1,03M  --.-KB/s    ds 0,07s   \n",
      "\n",
      "2024-10-07 18:19:15 (13,8 MB/s) - ‘postgresql-42.6.0.jar’ enregistré [1081604/1081604]\n",
      "\n",
      "--2024-10-07 18:19:15--  https://nuage.lip6.fr/s/LqD9N23kxrfHopr/download?path=agreg/h2-2.1.214.jar\n",
      "Résolution de nuage.lip6.fr (nuage.lip6.fr)… 132.227.201.11\n",
      "Connexion à nuage.lip6.fr (nuage.lip6.fr)|132.227.201.11|:443… connecté.\n",
      "requête HTTP transmise, en attente de la réponse… 200 OK\n",
      "Taille : 2543011 (2,4M) [application/octet-stream]\n",
      "Enregistre : ‘h2-2.1.214.jar’\n",
      "\n",
      "h2-2.1.214.jar      100%[===================>]   2,42M  10,1MB/s    ds 0,2s    \n",
      "\n",
      "2024-10-07 18:19:16 (10,1 MB/s) - ‘h2-2.1.214.jar’ enregistré [2543011/2543011]\n",
      "\n"
     ]
    }
   ],
   "source": [
    "!wget https://nuage.lip6.fr/s/LqD9N23kxrfHopr/download?path=agreg/postgresql-42.6.0.jar -O postgresql-42.6.0.jar\n",
    "!wget https://nuage.lip6.fr/s/LqD9N23kxrfHopr/download?path=agreg/h2-2.1.214.jar -O h2-2.1.214.jar"
   ]
  },
  {
   "cell_type": "markdown",
   "metadata": {},
   "source": [
    "# Démarrer le serveur SQL H2"
   ]
  },
  {
   "cell_type": "code",
   "execution_count": 1,
   "metadata": {},
   "outputs": [
    {
     "name": "stdout",
     "output_type": "stream",
     "text": [
      "La commande java est: java\n",
      "Le numero du port du serveur H2 est: 5010\n",
      "Les fichiers dans ./data:\n",
      "   arbres5010.mv.db\n",
      "   employes5010.mv.db\n",
      "   jo5008.mv.db\n",
      "   jo5010.mv.db\n",
      "   villes5010.mv.db\n"
     ]
    }
   ],
   "source": [
    "import os\n",
    "import subprocess\n",
    "import psycopg2\n",
    "\n",
    "def connect_H2(db,user,password,port=5435):\n",
    "    global connection\n",
    "    try:\n",
    "        connection\n",
    "    except:\n",
    "        connection = None\n",
    "    if connection != None:\n",
    "        try:\n",
    "            connection.close()\n",
    "            print(\"Connection closed\")\n",
    "        except  Error as e:\n",
    "            print(f\"The error '{e}' occurred\")\n",
    "    try:\n",
    "        # connection = sqlite3.connect(path,isolation_level='DEFERRED')\n",
    "        connection = psycopg2.connect(f\"dbname={db} user={user} password={password} host=localhost port={port}\")\n",
    "        print(\"Connection to H2 DB successful\")\n",
    "    except Exception as e:\n",
    "        print(f\"The error '{e}' occurred\")\n",
    "    return connection\n",
    "\n",
    "def execute(connection, query, show=True,close=True):\n",
    "    try:\n",
    "        cursor = connection.cursor()\n",
    "        cursor.execute(query)\n",
    "        print(cursor.rowcount,\"rows\")\n",
    "        if show and cursor.rowcount and cursor.description is not None:\n",
    "            names = [desc[0] for desc in cursor.description]\n",
    "            lengths={}\n",
    "            for attr in names:\n",
    "                lengths[attr]=len(attr)\n",
    "            for ligne in cursor:\n",
    "                i=0\n",
    "                for attr in ligne:\n",
    "                    lengths[names[i]]=max(lengths[names[i]],len(str(attr).replace('\\n',' ')))\n",
    "                    i=i+1\n",
    "            print('|',end='')\n",
    "            for attr in names:\n",
    "                print(str(attr).ljust(lengths[attr]),end='|')\n",
    "            print()\n",
    "            print('|',end='')\n",
    "            for attr in names:\n",
    "                print(''.ljust(lengths[attr]+1,'-'),end='')\n",
    "            print()\n",
    "            cursor.execute(query)\n",
    "            for ligne in cursor:\n",
    "                i=0\n",
    "                print('|',end='')\n",
    "                for attr in ligne:\n",
    "                    print(str(attr).replace('\\n',' ')[:lengths[names[i]]].ljust(lengths[names[i]]),end='|')\n",
    "                    i=i+1\n",
    "                print()\n",
    "        if close:\n",
    "            cursor.close()\n",
    "    except Exception as e:\n",
    "        print(f\"The error '{e}' occurred\")\n",
    "        cursor=None\n",
    "    return cursor\n",
    "\n",
    "\n",
    "def show_table(connection,table_name):\n",
    "\n",
    "    query=f\"\"\"\n",
    "SELECT table_name,\n",
    "       column_name,\n",
    "       data_type,\n",
    "       column_default,\n",
    "       is_nullable,\n",
    "       character_maximum_length,\n",
    "       numeric_precision\n",
    "FROM information_schema.columns \n",
    "where lower(table_name)  = '{table_name}'  \n",
    "\"\"\"\n",
    "    execute(connection,query)\n",
    "\n",
    "def show_schema(connection):\n",
    "\n",
    "    print('*********** Tables ************')\n",
    "    query=\"\"\"\n",
    "    select TABLE_NAME\n",
    "    from INFORMATION_SCHEMA.TABLES \n",
    "    where TABLE_SCHEMA = 'public'\n",
    "    \"\"\"\n",
    "    execute(connection,query,show=True)\n",
    "\n",
    "    print('\\n\\n*********** Domaines ************')\n",
    "    query=\"\"\"\n",
    "    SELECT domain_name,check_clause \n",
    "    FROM information_schema.domain_constraints a, information_schema.check_constraints b\n",
    "    where a.constraint_name=b.constraint_name\n",
    "    \"\"\"\n",
    "    execute(connection,query)\n",
    "\n",
    "    print('\\n\\n*********** Attributs ************')\n",
    "    query=f\"\"\"\n",
    "    SELECT c.table_name,\n",
    "           c.column_name,\n",
    "           c.data_type,\n",
    "           c.column_default,\n",
    "           c.is_nullable,\n",
    "           c.character_maximum_length,\n",
    "           c.numeric_precision\n",
    "    FROM INFORMATION_SCHEMA.TABLES t, information_schema.columns c\n",
    "    where t.table_name=c.table_name\n",
    "    and t.TABLE_SCHEMA = 'public'\n",
    "    \"\"\"\n",
    "    execute(connection,query)\n",
    "    \n",
    "\n",
    "local_dir = \"./data\"\n",
    "os.makedirs(local_dir, exist_ok=True)\n",
    "\n",
    "# binaire java : décommenter sur jupyterhub Moodle\n",
    "# java='/opt/tljh/user/envs/pyspark/bin/java'\n",
    "java='java'\n",
    "\n",
    "# chaque utilisateur doit avoir un port différent!\n",
    "port = 5010\n",
    "\n",
    "print(f'La commande java est: {java}')\n",
    "print(f'Le numero du port du serveur H2 est: {port}')\n",
    "print(f'Les fichiers dans {local_dir}:')\n",
    "for f in os.listdir(local_dir):\n",
    "    print(f'   {f}')"
   ]
  },
  {
   "cell_type": "code",
   "execution_count": 2,
   "metadata": {},
   "outputs": [
    {
     "name": "stdout",
     "output_type": "stream",
     "text": [
      "Exception in thread \"main\" org.h2.jdbc.JdbcSQLNonTransientConnectionException: Exception à l'ouverture du port \"5010\" (le port est peut-être en cours d'utilisation), cause: \"java.net.BindException: Adresse déjà utilisée (Bind failed)\"\n",
      "Exception opening port \"5010\" (port may be in use), cause: \"java.net.BindException: Adresse déjà utilisée (Bind failed)\" [90061-214]\n",
      "\tat org.h2.message.DbException.getJdbcSQLException(DbException.java:678)\n",
      "\tat org.h2.message.DbException.getJdbcSQLException(DbException.java:477)\n",
      "\tat org.h2.message.DbException.get(DbException.java:212)\n",
      "\tat org.h2.util.NetUtils.createServerSocketTry(NetUtils.java:211)\n",
      "\tat org.h2.util.NetUtils.createServerSocket(NetUtils.java:177)\n",
      "\tat org.h2.server.pg.PgServer.start(PgServer.java:174)\n",
      "\tat org.h2.tools.Server.start(Server.java:521)\n",
      "\tat org.h2.tools.Server.runTool(Server.java:331)\n",
      "\tat org.h2.tools.Server.main(Server.java:126)\n",
      "Caused by: java.net.BindException: Adresse déjà utilisée (Bind failed)\n",
      "\tat java.base/java.net.PlainSocketImpl.socketBind(Native Method)\n",
      "\tat java.base/java.net.AbstractPlainSocketImpl.bind(AbstractPlainSocketImpl.java:452)\n",
      "\tat java.base/java.net.ServerSocket.bind(ServerSocket.java:395)\n",
      "\tat java.base/java.net.ServerSocket.<init>(ServerSocket.java:257)\n",
      "\tat org.h2.util.NetUtils.createServerSocketTry(NetUtils.java:209)\n",
      "\t... 5 more\n",
      "\n"
     ]
    }
   ],
   "source": [
    "# Défnir le port pour le serveur H2\n",
    "cmd=f\"{java} -Dh2.bindAddress=127.0.0.1  -cp  h2-2.1.214.jar:postgresql-42.6.0.jar org.h2.tools.Server -pg -pgPort {port}  -baseDir ./data -ifNotExists\"\n",
    "proc=subprocess.Popen(cmd,\n",
    "                      shell=True,\n",
    "                      text=True,\n",
    "                      stdout=subprocess.PIPE,\n",
    "                      stderr=subprocess.PIPE, \n",
    "                      )\n",
    "try:\n",
    "    outs, errs = proc.communicate(timeout=1)\n",
    "    print(errs)\n",
    "except :\n",
    "    print(\"Serveur H2 en marche\")"
   ]
  },
  {
   "cell_type": "markdown",
   "metadata": {
    "id": "zHpjYeKDK_P9",
    "tags": []
   },
   "source": [
    "# TD et TME4 : PREMIERS PAS EN SQL\n",
    "\n",
    "Ce TD/TME utilise les données contenues dans les fichiers **bd_jo_v1_H2.sql** et **bd_jo_v2_H2.sql**\n"
   ]
  },
  {
   "cell_type": "markdown",
   "metadata": {
    "id": "zHpjYeKDK_P9",
    "tags": []
   },
   "source": [
    "## TD4 \n",
    "\n",
    "Ce TD utilise les données contenues dans les fichiers **bd_jo_v1_H2.sql** \n",
    "\n",
    "BASE DE DONNÉES **JEUX OLYMPIQUES D'HIVER 2014** <br/>\n",
    "On considère le schéma de la base JEUXOLYMPIQUE2014 qui décrit les athlètes et leurs résultats aux\n",
    "épreuves des Jeux Olympiques d'Hiver Sotchi 2014 :<br/>\n",
    "\n",
    "\n",
    "**ATHLETE** ( <u>NOM,PRENOM</u>,DATENAISSANCE,PAYS)<br/>\n",
    "**RANGEPREUVE**( <u>NOMATH*,PRENOMATH*,EPREUVE,SPORT,CATEGORIE</u>,DATEDEBUT,DATEFIN,RANG)<br/>\n",
    "\n",
    "La relation ATHLETE contient des informations concernant les athlètes ayant participé aux Jeux\n",
    "Olympiques. Plus précisément : leur nom, leur prénom, leur date de naissance si elle est renseignée\n",
    "(ou NULL sinon) ainsi que le pays qu'ils représentent.\n",
    "La relation RANGEPREUVE renvoie pour chaque athlète identifie par NOMATH ET PRENOMATH et\n",
    "chaque épreuve identifiée par SPORT, EPREUVE ET CATEGORIE (HOMMES OU FEMMES) à laquelle il a\n",
    "participé, le RANG qu'il a obtenu. On pour chaque épreuve les dates de début et de fin (DATEDEBUT,\n",
    "DATEFIN).\n",
    "Lorsqu'un athlète participe à une épreuve puis est disqualifié, son rang n'est pas renseigné (NULL)\n",
    "\n"
   ]
  },
  {
   "cell_type": "markdown",
   "metadata": {
    "id": "Sd2wejT-K_QN",
    "tags": []
   },
   "source": [
    "### Télécharger les données, créer et charger les données"
   ]
  },
  {
   "cell_type": "markdown",
   "metadata": {
    "id": "9w7RdMnlSC_r"
   },
   "source": [
    "Télécharger le fichier SQL **bd_jo_v1_H2.sql** contenant les données de la base JO."
   ]
  },
  {
   "cell_type": "code",
   "execution_count": 3,
   "metadata": {
    "id": "BZCOAS6mP27Y",
    "tags": []
   },
   "outputs": [
    {
     "name": "stdout",
     "output_type": "stream",
     "text": [
      "--2024-10-07 18:24:05--  https://nuage.lip6.fr/s/LqD9N23kxrfHopr/download?path=agreg/bd-jo-v1_H2.sql\n",
      "Résolution de nuage.lip6.fr (nuage.lip6.fr)… 132.227.201.11\n",
      "Connexion à nuage.lip6.fr (nuage.lip6.fr)|132.227.201.11|:443… connecté.\n",
      "requête HTTP transmise, en attente de la réponse… 200 OK\n",
      "Taille : 455744 (445K) [application/octet-stream]\n",
      "Enregistre : ‘bd-jo-v1_H2.sql’\n",
      "\n",
      "bd-jo-v1_H2.sql     100%[===================>] 445,06K  --.-KB/s    ds 0,04s   \n",
      "\n",
      "2024-10-07 18:24:05 (9,74 MB/s) - ‘bd-jo-v1_H2.sql’ enregistré [455744/455744]\n",
      "\n"
     ]
    }
   ],
   "source": [
    "!wget https://nuage.lip6.fr/s/LqD9N23kxrfHopr/download?path=agreg/bd-jo-v1_H2.sql -O bd-jo-v1_H2.sql"
   ]
  },
  {
   "cell_type": "markdown",
   "metadata": {
    "id": "00mRiA73K_QB",
    "tags": []
   },
   "source": [
    "### Connexion à H2"
   ]
  },
  {
   "cell_type": "code",
   "execution_count": 4,
   "metadata": {
    "id": "IRyyRAX2K_QB",
    "tags": []
   },
   "outputs": [
    {
     "name": "stdout",
     "output_type": "stream",
     "text": [
      "Connection to H2 DB successful\n"
     ]
    }
   ],
   "source": [
    "connection = connect_H2(f\"jo{port}\",\"ba\",\"ba\",port=port)"
   ]
  },
  {
   "cell_type": "code",
   "execution_count": 5,
   "metadata": {
    "id": "And0zODlK_QC",
    "tags": []
   },
   "outputs": [
    {
     "name": "stdout",
     "output_type": "stream",
     "text": [
      "0 rows\n"
     ]
    },
    {
     "data": {
      "text/plain": [
       "<cursor object at 0x7ef849b40f40; closed: -1>"
      ]
     },
     "execution_count": 5,
     "metadata": {},
     "output_type": "execute_result"
    }
   ],
   "source": [
    "execute(connection,\"drop all objects\")"
   ]
  },
  {
   "cell_type": "markdown",
   "metadata": {
    "tags": []
   },
   "source": [
    "### Charger les données bd_jo_v1_H2.sql"
   ]
  },
  {
   "cell_type": "code",
   "execution_count": 6,
   "metadata": {
    "id": "ALsb-dtHK_QO",
    "tags": []
   },
   "outputs": [
    {
     "name": "stdout",
     "output_type": "stream",
     "text": [
      "0 rows\n"
     ]
    }
   ],
   "source": [
    "schemafile=open(\"bd-jo-v1_H2.sql\",mode=\"r\",encoding='utf-8')\n",
    "create_schema=schemafile.read()\n",
    "execute(connection, create_schema)\n",
    "connection.commit()"
   ]
  },
  {
   "cell_type": "markdown",
   "metadata": {
    "id": "Sd2wejT-K_QN",
    "tags": []
   },
   "source": [
    "### Requêtes"
   ]
  },
  {
   "cell_type": "markdown",
   "metadata": {},
   "source": [
    "**Q1**. Les athlètes français.<br/>\n",
    "Résultat : (92 lignes)"
   ]
  },
  {
   "cell_type": "code",
   "execution_count": 9,
   "metadata": {
    "id": "qc0wptxuK_QC",
    "tags": []
   },
   "outputs": [],
   "source": [
    "query=\"\"\"\n",
    "select * from Athlete where pays='France'\n",
    "\"\"\""
   ]
  },
  {
   "cell_type": "code",
   "execution_count": null,
   "metadata": {
    "id": "qc0wptxuK_QC",
    "tags": []
   },
   "outputs": [],
   "source": [
    "# Afficher le nombre de n-uplets (par defaut)\n",
    "execute(connection,query, show=False)"
   ]
  },
  {
   "cell_type": "code",
   "execution_count": null,
   "metadata": {
    "id": "qc0wptxuK_QC",
    "tags": []
   },
   "outputs": [],
   "source": [
    "# Afficher le résultat (par defaut)\n",
    "execute(connection,query)"
   ]
  },
  {
   "cell_type": "markdown",
   "metadata": {},
   "source": [
    "**Q2**. La date de naissance de Denis TEN.<br/>\n",
    "Résultat: 1993-06-13"
   ]
  },
  {
   "cell_type": "code",
   "execution_count": null,
   "metadata": {
    "id": "qc0wptxuK_QC"
   },
   "outputs": [],
   "source": [
    "query=\"\"\"\n",
    "select dateNaissance\n",
    "from Athlete\n",
    "where nom='TEN' and prenom='Denis'\n",
    "\"\"\"\n",
    "execute(connection,query)"
   ]
  },
  {
   "cell_type": "markdown",
   "metadata": {},
   "source": [
    "**Q3**. Les épreuves (sport, épreuve) dans lesquelles Therese JOHAUG a gagné une médaille, ainsi\n",
    "que le rang qu'elle a obtenu.<br/>\n",
    "Indice : pour gagner une médaille, il faut avoir été classé dans le rang 1, 2 ou 3.<br/>\n",
    "Résultat : ('Ski de fond', '10km', 3) et ('Ski de fond', '30km', 2)"
   ]
  },
  {
   "cell_type": "code",
   "execution_count": null,
   "metadata": {
    "id": "qc0wptxuK_QC"
   },
   "outputs": [],
   "source": [
    "query=\"\"\"\n",
    "select sport, epreuve, rang\n",
    "from RangEpreuve\n",
    "where nomAth='JOHAUG' and prenomAth='Therese' and rang <= 3\n",
    "\"\"\"\n",
    "execute(connection,query)"
   ]
  },
  {
   "cell_type": "markdown",
   "metadata": {},
   "source": [
    "**Q4**. La nationalité des athlètes Kamil STOCH et Suk-Hee SHIM.<br/>\n",
    "Résultat : ('SHIM', 'Suk-Hee', 'Corée du Sud') et ('STOCH', 'Kamil', 'Pologne')"
   ]
  },
  {
   "cell_type": "code",
   "execution_count": null,
   "metadata": {
    "id": "qc0wptxuK_QC"
   },
   "outputs": [],
   "source": [
    "query=\"\"\"\n",
    "select nom, prenom, pays\n",
    "from Athlete\n",
    "where (nom='STOCH' and prenom='Kamil') or (nom='SHIM' and prenom='Suk-Hee')\n",
    "\"\"\"\n",
    "execute(connection,query)"
   ]
  },
  {
   "cell_type": "code",
   "execution_count": null,
   "metadata": {
    "id": "qc0wptxuK_QC"
   },
   "outputs": [],
   "source": [
    "query=\"\"\"\n",
    "select nom, prenom, pays from Athlete where (nom='STOCH' and prenom='Kamil')\n",
    "union\n",
    "select nom, prenom, pays from Athlete where (nom='SHIM' and prenom='Suk-Hee')\"\"\"\n",
    "execute(connection,query)"
   ]
  },
  {
   "cell_type": "markdown",
   "metadata": {},
   "source": [
    "**Q5**. Tous les sports des Jeux Olympiques.<br/>\n",
    "Résultat : (12 lignes)"
   ]
  },
  {
   "cell_type": "code",
   "execution_count": null,
   "metadata": {
    "id": "qc0wptxuK_QC"
   },
   "outputs": [],
   "source": [
    "query=\"\"\"\n",
    "select distinct sport from RangEpreuve\n",
    "\"\"\"\n",
    "execute(connection,query)"
   ]
  },
  {
   "cell_type": "markdown",
   "metadata": {},
   "source": [
    "**Q6**. Le nom des athlètes originaire de Scandinavie (pays : Danemark, Finlande, Norvège, Suède,\n",
    "Islande) triés par le nom, puis par leur prénom.<br/>\n",
    "Résultat : (186 lignes)"
   ]
  },
  {
   "cell_type": "code",
   "execution_count": null,
   "metadata": {
    "id": "qc0wptxuK_QC"
   },
   "outputs": [],
   "source": [
    "query=\"\"\"\n",
    "select distinct nom , prenom\n",
    "from Athlete\n",
    "where pays in ('Danemark', 'Finlande', 'Norvège', 'Suède', 'Island')\n",
    "order by nom, prenom\n",
    "\"\"\"\n",
    "execute(connection,query)"
   ]
  },
  {
   "cell_type": "code",
   "execution_count": null,
   "metadata": {
    "id": "qc0wptxuK_QC"
   },
   "outputs": [],
   "source": [
    "query=\"\"\"\n",
    "select distinct nom , prenom\n",
    "from Athlete\n",
    "Where pays = 'Danemark' or pays= 'Finlande' or pays= 'Norvège'\n",
    "or pays='Suède' or pays= 'Island'\n",
    "order by nom, prenom\n",
    "\"\"\"\n",
    "execute(connection,query)"
   ]
  },
  {
   "cell_type": "markdown",
   "metadata": {},
   "source": [
    "**Q7**. Le nom de sports contenant la chaîne de caractères 'ski' (par exemple, 'Ski de fond', 'Saut à\n",
    "ski', …).<br/>\n",
    "Résultat : Ski de fond, Ski alpin, Ski acrobatique, Saut à ski"
   ]
  },
  {
   "cell_type": "code",
   "execution_count": null,
   "metadata": {
    "id": "qc0wptxuK_QC"
   },
   "outputs": [],
   "source": [
    "query=\"\"\"\n",
    "select distinct sport\n",
    "from RangEpreuve\n",
    "where lower(sport) like '%ski%'\n",
    "\"\"\"\n",
    "execute(connection,query)"
   ]
  },
  {
   "cell_type": "markdown",
   "metadata": {},
   "source": [
    "**Q8**. Les athlètes (nom, prénom) dont la date de naissance n'est pas renseignée.<br/>\n",
    "Résultat : (1516 lignes)"
   ]
  },
  {
   "cell_type": "code",
   "execution_count": null,
   "metadata": {
    "id": "qc0wptxuK_QC",
    "tags": []
   },
   "outputs": [],
   "source": [
    "query=\"\"\"\n",
    "select * from Athlete where dateNaissance is null\n",
    "\"\"\"\n",
    "execute(connection,query)"
   ]
  },
  {
   "cell_type": "markdown",
   "metadata": {},
   "source": [
    "**Q9**. Les athlètes qui ont participé à l'épreuve '10km' de 'Ski de fond' sans être disqualifié (rang\n",
    "inconnu), triés par rang.<br/>\n",
    "Résultat : (75 lignes) "
   ]
  },
  {
   "cell_type": "code",
   "execution_count": null,
   "metadata": {
    "id": "qc0wptxuK_QC"
   },
   "outputs": [],
   "source": [
    "query=\"\"\"\n",
    "select nomAth, prenomAth, rang\n",
    "from RangEpreuve\n",
    "where sport='Ski de fond' and epreuve='10km'\n",
    "and rang is not null\n",
    "order by rang\n",
    "\"\"\"\n",
    "execute(connection,query)"
   ]
  },
  {
   "cell_type": "markdown",
   "metadata": {},
   "source": [
    "**Q10**. Les épreuves (sport, épreuve et categorie) qui ont eu lieu après le 21 février 2014.<br/>\n",
    "Résultat : (4 lignes)"
   ]
  },
  {
   "cell_type": "code",
   "execution_count": null,
   "metadata": {
    "id": "qc0wptxuK_QC"
   },
   "outputs": [],
   "source": [
    "query=\"\"\"\n",
    "select distinct SPORT,EPREUVE ,CATEGORIE\n",
    "from RANGEPREUVE where DATEDEBUT > '2014-02-21'\n",
    "\"\"\"\n",
    "execute(connection,query)"
   ]
  },
  {
   "cell_type": "code",
   "execution_count": null,
   "metadata": {
    "id": "qc0wptxuK_QC"
   },
   "outputs": [],
   "source": [
    "query=\"\"\"\n",
    "select distinct SPORT ,EPREUVE ,CATEGORIE\n",
    "from RANGEPREUVE\n",
    "where DATEDEBUT > parsedatetime('2014-02-21','yyyy-MM-dd')\n",
    "\"\"\"\n",
    "execute(connection,query)"
   ]
  },
  {
   "cell_type": "code",
   "execution_count": null,
   "metadata": {
    "id": "qc0wptxuK_QC",
    "tags": []
   },
   "outputs": [],
   "source": [
    "query=\"\"\"\n",
    "select distinct SPORT ,EPREUVE ,CATEGORIE\n",
    "from RANGEPREUVE\n",
    "where DATEDEBUT > parsedatetime('21 févr. 2014','dd MMM yyyy')\"\"\"\n",
    "execute(connection,query)"
   ]
  },
  {
   "cell_type": "code",
   "execution_count": null,
   "metadata": {
    "id": "qc0wptxuK_QC",
    "tags": []
   },
   "outputs": [],
   "source": [
    "query=\"\"\"\n",
    "Select distinct SPORT ,EPREUVE ,CATEGORIE\n",
    "from RANGEPREUVE\n",
    "where DATEDEBUT > parsedatetime('21 février 2014','dd MMMM yyyy')\n",
    "\"\"\"\n",
    "execute(connection,query)"
   ]
  },
  {
   "cell_type": "markdown",
   "metadata": {},
   "source": [
    "**Q11**. Les épreuves (sport, épreuve et categorie) qui ont duré entre 2 et 4 jours, ainsi que leur\n",
    "durée exacte.<br/>\n",
    "Résultat : (16 lignes)"
   ]
  },
  {
   "cell_type": "code",
   "execution_count": null,
   "metadata": {
    "id": "qc0wptxuK_QC"
   },
   "outputs": [],
   "source": [
    "query=\"\"\"\n",
    "select distinct sport, epreuve, categorie, datediff(DAY, dateDebut, dateFin)+1,\n",
    "datedebut, datefin\n",
    "from RangEpreuve\n",
    "where datediff(DAY, dateDebut, dateFin)+1 >= 2\n",
    "and datediff(DAY, dateDebut, dateFin)+1 <=4\n",
    "\"\"\"\n",
    "execute(connection,query)"
   ]
  },
  {
   "cell_type": "code",
   "execution_count": null,
   "metadata": {
    "id": "qc0wptxuK_QC"
   },
   "outputs": [],
   "source": [
    "query=\"\"\"\n",
    "select distinct sport, epreuve, categorie, DATEDIFF(DAY, dateDebut, dateFin)+1\n",
    "from RangEpreuve\n",
    "where datediff(DAY, dateDebut, dateFin)+1 between 2 and 4\n",
    "\"\"\"\n",
    "execute(connection,query)"
   ]
  },
  {
   "cell_type": "markdown",
   "metadata": {},
   "source": [
    "**Q12**. Les épreuves (sport, épreuve et catégorie) dont le final a eu lieu pendant un weekend.<br/>\n",
    "Résultat : (26 lignes)"
   ]
  },
  {
   "cell_type": "code",
   "execution_count": null,
   "metadata": {
    "id": "qc0wptxuK_QC"
   },
   "outputs": [],
   "source": [
    "query=\"\"\"\n",
    "select distinct sport, epreuve, categorie, dayname(dateFin)\n",
    "from RangEpreuve\n",
    "where dayname(dateFin) in ('Saturday', 'Sunday')\n",
    "\"\"\"\n",
    "execute(connection,query)"
   ]
  },
  {
   "cell_type": "code",
   "execution_count": null,
   "metadata": {
    "id": "qc0wptxuK_QC"
   },
   "outputs": [],
   "source": [
    "query=\"\"\"\n",
    "select distinct sport, epreuve, categorie, dayname(dateFin), dayofweek(dateFin)\n",
    "from RangEpreuve\n",
    "where dayofweek(dateFin) in (6,7)\n",
    "\"\"\"\n",
    "execute(connection,query)"
   ]
  },
  {
   "cell_type": "code",
   "execution_count": null,
   "metadata": {
    "id": "qc0wptxuK_QC"
   },
   "outputs": [],
   "source": [
    "query=\"\"\"\n",
    "select distinct sport, epreuve, categorie, dayname(dateDebut), dayname(dateFin)\n",
    "from RangEpreuve\n",
    "where dayofweek(dateFin) = 6 or dayofweek(dateFin)=7\n",
    "\"\"\"\n",
    "execute(connection,query)"
   ]
  },
  {
   "cell_type": "markdown",
   "metadata": {},
   "source": [
    "**Q13**. Les athlètes (nom, prénom) femmes de nationalité française.<br/>\n",
    "Résultat : (26 lignes)"
   ]
  },
  {
   "cell_type": "code",
   "execution_count": null,
   "metadata": {
    "id": "qc0wptxuK_QC"
   },
   "outputs": [],
   "source": [
    "query=\"\"\"\n",
    "select a.nom, a.prenom from athlete a where pays = 'France'\n",
    "intersect\n",
    "select r.nomath, r.prenomath from rangepreuve r where r.categorie = 'Femmes'\n",
    "\"\"\"\n",
    "execute(connection,query)"
   ]
  },
  {
   "cell_type": "code",
   "execution_count": null,
   "metadata": {
    "id": "qc0wptxuK_QC"
   },
   "outputs": [],
   "source": [
    "query=\"\"\"\n",
    "select a.nom, a.prenom from athlete a where pays = 'France'\n",
    "intersect\n",
    "select r.nomath as nom, r.prenomath as prenom from rangepreuve r\n",
    "where r.categorie = 'Femmes'\n",
    "\"\"\"\n",
    "execute(connection,query)"
   ]
  },
  {
   "cell_type": "markdown",
   "metadata": {},
   "source": [
    "**Q14**. Les athlètes (nom, prénom) qui ont aujourd'hui moins de 30 ans et qui ont gagné une\n",
    "médaille.<br/>\n",
    "Résultat : depend de la date d'exécution "
   ]
  },
  {
   "cell_type": "code",
   "execution_count": null,
   "metadata": {
    "id": "qc0wptxuK_QC"
   },
   "outputs": [],
   "source": [
    "query=\"\"\"\n",
    "select a.nom, a.prenom from athlete a\n",
    "where DATEDIFF(YEAR,datenaissance,now()) <= 30\n",
    "intersect\n",
    "select r.nomath, r.prenomath from rangepreuve r\n",
    "where r.rang between 1 and 3\n",
    "\"\"\"\n",
    "execute(connection,query)"
   ]
  },
  {
   "cell_type": "code",
   "execution_count": null,
   "metadata": {
    "id": "qc0wptxuK_QC"
   },
   "outputs": [],
   "source": [
    "query=\"\"\"\n",
    "select distinct a.NOM ,a.PRENOM\n",
    "from ATHLETE a, RANGEPREUVE r\n",
    "where extract(year from current_date)-extract(year from a.DATENAISSANCE) <= 30\n",
    "and r.rang<=3 and a.nom=r.nomAth and a.prenom=r.prenomAth\n",
    "\"\"\"\n",
    "execute(connection,query)"
   ]
  },
  {
   "cell_type": "code",
   "execution_count": null,
   "metadata": {
    "id": "qc0wptxuK_QC"
   },
   "outputs": [],
   "source": [
    "query=\"\"\"\n",
    "Select a.nom, a.prenom from athlete a\n",
    "where datediff(YEAR,datenaissance,now()) < 30\n",
    "    or (datediff(YEAR,datenaissance,now()) = 30\n",
    "        and day_of_year(datenaissance) > day_of_year(now()))\n",
    "intersect\n",
    "select r.nomath, r.prenomath\n",
    "from rangepreuve r\n",
    "where r.rang between 1 and 3\n",
    "\"\"\"\n",
    "execute(connection,query)"
   ]
  },
  {
   "cell_type": "markdown",
   "metadata": {},
   "source": [
    "**Q15**. Les athlètes (nom, prénom) qui avaient leur anniversaire à la date de fin de l'épreuve dans\n",
    "laquelle ils participaient.<br/>\n",
    "Résultat : ('GARANICHEV', 'Evgeniy', 13, 2), ('SKOBREV', 'Ivan', 8, 2) et ('WEIBRECHT',\n",
    "'Andrew', 10, 2)"
   ]
  },
  {
   "cell_type": "code",
   "execution_count": null,
   "metadata": {
    "id": "qc0wptxuK_QC"
   },
   "outputs": [],
   "source": [
    "query=\"\"\"\n",
    "select nom, prenom, extract(day from dateNaissance), extract(month from dateNaissance)\n",
    "from Athlete\n",
    "intersect\n",
    "select nomAth, prenomAth, extract(day from dateFin), extract(month from dateFin)\n",
    "from RangEpreuve\n",
    "\"\"\"\n",
    "execute(connection,query)"
   ]
  },
  {
   "cell_type": "code",
   "execution_count": null,
   "metadata": {
    "id": "qc0wptxuK_QC"
   },
   "outputs": [],
   "source": [
    "query=\"\"\"\n",
    "select NOMATH ,PRENOMATH, day(DATEFIN), month(datefin)\n",
    "from RANGEPREUVE\n",
    "intersect\n",
    "select NOM ,PRENOM, day(DATENAISSANCE), month(datenaissance)\n",
    "from ATHLETE\n",
    "\"\"\"\n",
    "execute(connection,query)"
   ]
  },
  {
   "cell_type": "markdown",
   "metadata": {},
   "source": [
    "**Q16**.  Les athlètes français (nom, prénom) qui ont gagné une médaille.<br/>\n",
    "Résultat : (12 lignes)"
   ]
  },
  {
   "cell_type": "code",
   "execution_count": null,
   "metadata": {
    "id": "qc0wptxuK_QC"
   },
   "outputs": [],
   "source": [
    "query=\"\"\"\n",
    "select nom, prenom from Athlete where pays='France'\n",
    "intersect\n",
    "select nomAth, prenomAth from RangEpreuve where rang <= 3\n",
    "\"\"\"\n",
    "execute(connection,query)"
   ]
  },
  {
   "cell_type": "markdown",
   "metadata": {},
   "source": [
    "**Q17**. Les sports qui n'ont pas d'épreuves féminines.<br/>\n",
    "Résultat : Combiné nordique"
   ]
  },
  {
   "cell_type": "code",
   "execution_count": null,
   "metadata": {
    "id": "qc0wptxuK_QC"
   },
   "outputs": [],
   "source": [
    "query=\"\"\"\n",
    "select distinct sport from RangEpreuve\n",
    "except\n",
    "select sport from RangEpreuve where categorie='Femmes'\n",
    "\"\"\"\n",
    "execute(connection,query)"
   ]
  },
  {
   "cell_type": "markdown",
   "metadata": {
    "id": "zHpjYeKDK_P9",
    "tags": []
   },
   "source": [
    "## TME4 \n",
    "\n",
    "Ce TME utilise les données contenues dans les fichiers **bd_jo_v1_H2.sql** et **bd_jo_v2_H2.sql**\n"
   ]
  },
  {
   "cell_type": "markdown",
   "metadata": {},
   "source": [
    "### Exemple d'utilisation H2"
   ]
  },
  {
   "cell_type": "markdown",
   "metadata": {
    "tags": []
   },
   "source": [
    "Tous les athlètes"
   ]
  },
  {
   "cell_type": "code",
   "execution_count": null,
   "metadata": {
    "tags": []
   },
   "outputs": [],
   "source": [
    "cursor=execute(connection,query=\"SELECT * FROM athlete\",show=True)"
   ]
  },
  {
   "cell_type": "code",
   "execution_count": null,
   "metadata": {
    "tags": []
   },
   "outputs": [],
   "source": [
    "cursor.query"
   ]
  },
  {
   "cell_type": "code",
   "execution_count": null,
   "metadata": {
    "tags": []
   },
   "outputs": [],
   "source": [
    "cursor.rowcount"
   ]
  },
  {
   "cell_type": "code",
   "execution_count": null,
   "metadata": {
    "tags": []
   },
   "outputs": [],
   "source": [
    "cursor.description"
   ]
  },
  {
   "cell_type": "markdown",
   "metadata": {},
   "source": [
    "Le nombre de n-uplets stockés dans la relation Athlete."
   ]
  },
  {
   "cell_type": "code",
   "execution_count": null,
   "metadata": {
    "tags": []
   },
   "outputs": [],
   "source": [
    "cursor=execute(connection,query=\"select count(*) from Athlete\", show=True)"
   ]
  },
  {
   "cell_type": "markdown",
   "metadata": {},
   "source": [
    "### Exercice 1\n",
    "\n",
    "Exprimer les requêtes suivantes en SQL "
   ]
  },
  {
   "cell_type": "markdown",
   "metadata": {},
   "source": [
    "**Q1**. Les athlètes (nom, prénom) d'Inde (104 lignes).<br/>\n",
    "Résultat : IQBAL Nadeem, KESHAVAN Shiva, THAKUR Himanshu"
   ]
  },
  {
   "cell_type": "code",
   "execution_count": null,
   "metadata": {
    "id": "qc0wptxuK_QC"
   },
   "outputs": [],
   "source": [
    "query=\"\"\"\n",
    "select *\n",
    "from Athlete\n",
    "where pays='Inde'\n",
    "\"\"\"\n",
    "execute(connection,query)"
   ]
  },
  {
   "cell_type": "markdown",
   "metadata": {},
   "source": [
    "**Q2** Le prénom des athlètes dont le nom est 'GOLD'.<br/>\n",
    "Résultat : Arielle, Gracie, Taylor"
   ]
  },
  {
   "cell_type": "code",
   "execution_count": null,
   "metadata": {
    "id": "GJDia4KfK_QC"
   },
   "outputs": [],
   "source": [
    "query=\"\"\"\n",
    "select prenom\n",
    "from Athlete\n",
    "where nom='GOLD'\n",
    "\"\"\"\n",
    "execute(connection,query)"
   ]
  },
  {
   "cell_type": "markdown",
   "metadata": {},
   "source": [
    "**Q3** La nationalité de AONO Ryo.<br/>\n",
    "Résultat : Japon"
   ]
  },
  {
   "cell_type": "code",
   "execution_count": null,
   "metadata": {
    "id": "RG0fmAcsK_QC"
   },
   "outputs": [],
   "source": [
    "query=\"\"\"\n",
    "select pays\n",
    "from Athlete\n",
    "where nom='AONO' and prenom='Ryo'\n",
    "\"\"\"\n",
    "execute(connection,query)"
   ]
  },
  {
   "cell_type": "markdown",
   "metadata": {},
   "source": [
    "**Q4** Le gagnant du médaille d'or de chaque épreuve. Triez le résultat par sport, puis par épreuve.<br/>\n",
    "Résultat : (74 lignes)"
   ]
  },
  {
   "cell_type": "code",
   "execution_count": null,
   "metadata": {
    "id": "R4Msxey7K_QC"
   },
   "outputs": [],
   "source": [
    "query=\"\"\"\n",
    "select sport, epreuve, nomAth, prenomAth\n",
    "from RangEpreuve\n",
    "where rang = 1\n",
    "order by sport, epreuve\n",
    "\"\"\"\n",
    "execute(connection,query)"
   ]
  },
  {
   "cell_type": "markdown",
   "metadata": {},
   "source": [
    "**Q5** Toutes les épreuves (sport, épreuve, catégorie) triées par la date de fin de l'épreuve.   \n",
    "Résultat : (73 lignes)"
   ]
  },
  {
   "cell_type": "code",
   "execution_count": null,
   "metadata": {
    "id": "R4Msxey7K_QC"
   },
   "outputs": [],
   "source": [
    "query=\"\"\"\n",
    "select distinct sport, epreuve, categorie, dateFin\n",
    "from RangEpreuve\n",
    "order by dateFin\n",
    "\"\"\"\n",
    "execute(connection,query)"
   ]
  },
  {
   "cell_type": "markdown",
   "metadata": {},
   "source": [
    "**Q6** Les athlètes nés entre 1990 et 1995.<br/>\n",
    "Résultat : (87 lignes)"
   ]
  },
  {
   "cell_type": "code",
   "execution_count": null,
   "metadata": {
    "id": "R4Msxey7K_QC"
   },
   "outputs": [],
   "source": [
    "query=\"\"\"\n",
    "select nom, prenom, dateNaissance\n",
    "from Athlete\n",
    "where extract (year from dateNaissance) between 1990 and 1995\n",
    "\"\"\"\n",
    "execute(connection,query)"
   ]
  },
  {
   "cell_type": "markdown",
   "metadata": {},
   "source": [
    "**Q7** Les athlètes suisses ayant participé au sport 'Biathlon' et disqualifié à au moins une épreuve\n",
    "dece sport (solution sans jointure, avec une opération ensembliste).<br/>\n",
    "Résultat : GASPARIN Elisa"
   ]
  },
  {
   "cell_type": "code",
   "execution_count": null,
   "metadata": {
    "id": "R4Msxey7K_QC"
   },
   "outputs": [],
   "source": [
    "query=\"\"\"\n",
    "(select nom, prenom\n",
    "from athlete\n",
    "where pays='Suisse')\n",
    "intersect\n",
    "(select nomAth, prenomAth\n",
    "from RangEpreuve\n",
    "where sport='Biathlon' and rang is null)\n",
    "\"\"\"\n",
    "execute(connection,query)"
   ]
  },
  {
   "cell_type": "markdown",
   "metadata": {},
   "source": [
    "**Q8** Les épreuves dans lesquelles il n'y a pas eu une médaille d'argent (solution sans jointure,\n",
    "avec une opération ensembliste). <br/>\n",
    "Résultat : Ski alpin Descente Femmes"
   ]
  },
  {
   "cell_type": "code",
   "execution_count": null,
   "metadata": {
    "id": "R4Msxey7K_QC"
   },
   "outputs": [],
   "source": [
    "query=\"\"\"\n",
    "(select distinct sport, epreuve, categorie from RangEpreuve)\n",
    "except\n",
    "(select distinct sport, epreuve, categorie from RangEpreuve where rang=2)\n",
    "\"\"\"\n",
    "execute(connection,query)"
   ]
  },
  {
   "cell_type": "markdown",
   "metadata": {
    "id": "Tb2N2-b0K_QC",
    "tags": []
   },
   "source": [
    "### Exercice 2\n",
    "\n",
    "On considère maintenant le schéma complet de la base JO2014\n",
    "\n",
    "**PAYS** (<u>CODEPAYS</u>, NOMP)<br/>\n",
    "**SPORT** (<u>SID</u>, NOMSP)<br/>\n",
    "**EPREUVE** (<u>EPID</u>, SID*, NOMEP, CATÉGORIE, DATEDEBUT, DATEFIN) <br/>\n",
    "**ATHLETE** (<u>AID</u>, NOMATH, PRENOMATH, DATENAISSANCE, CODEPAYS*) EQUIPE (EQID, CODEPAYS*)<br/>\n",
    "**ATHLETESEQUIPE** (<u>EQID*, AID*</u>)<br/>\n",
    "**RANGINDIVIDUEL** (<u>EPID*, AID*</u>, RANG)<br/>\n",
    "**RANGEQUIPE** (<u>EPID*, EQID*</u>, RANG)<br/>\n",
    "    \n",
    "\n",
    "La relation PAYS contient le code et le nom de tous les pays, même si ils n'ont pas participé aux Jeux Olympiques. Les sports (n-uplets de la relation SPORT) sont un ensemble d'épreuves (n-uplets de la relation EPREUVE). Pour chaque épreuve on connaît son nom et les date de début et fin de l'épreuve. Les épreuves peuvent être individuelles ou par équipe. Dans le premier cas, la participation des athlètes (n-uplets de la relation ATHLETE) est stocké dans la table RANGINDIVIDUEL qui contient en plus le rang qu'ils ont obtenu (1 pour la médaille d'or). Pour les épreuves par équipe les résultats sont stockés dans la relation RANGEQUIPE, alors que l'information sur le pays de chaque équipe et ses participants et stocké dans les relations EQUIPE et ATHLETESEQUIPE. Dans les relations RANGINDIVIDUEL et RANGEQUIPE l'attribut rang est égal à null si l'athlète ou l'équipe a été disqualifié.\n"
   ]
  },
  {
   "cell_type": "markdown",
   "metadata": {
    "id": "Sd2wejT-K_QN",
    "tags": []
   },
   "source": [
    "#### Télécharger les données, créer et charger les données"
   ]
  },
  {
   "cell_type": "markdown",
   "metadata": {
    "id": "9w7RdMnlSC_r"
   },
   "source": [
    "Télécharger le fichier SQL **bd_jo_v2_H2.sql** contenant les données de la base JO."
   ]
  },
  {
   "cell_type": "code",
   "execution_count": null,
   "metadata": {
    "id": "BZCOAS6mP27Y"
   },
   "outputs": [],
   "source": [
    "#PAS TOUCHE\n",
    "#!wget https://nuage.lip6.fr/s/LqD9N23kxrfHopr/download?path=agreg/bd-jo-v2_H2.sql -O bd-jo-v2_H2.sql"
   ]
  },
  {
   "cell_type": "markdown",
   "metadata": {
    "tags": []
   },
   "source": [
    "Créer les tables et charger les données bd_jo_v2_H2.sql"
   ]
  },
  {
   "cell_type": "code",
   "execution_count": null,
   "metadata": {
    "id": "ALsb-dtHK_QO"
   },
   "outputs": [],
   "source": [
    "schemafile=open(\"bd-jo-v2_H2.sql\",mode=\"r\",encoding='utf-8')\n",
    "create_schema=schemafile.read()\n",
    "execute(connection, create_schema)\n",
    "connection.commit()"
   ]
  },
  {
   "cell_type": "markdown",
   "metadata": {},
   "source": [
    "#### Requêtes\n",
    "\n",
    "Exprimer les requêtes suivantes en SQL :"
   ]
  },
  {
   "cell_type": "markdown",
   "metadata": {},
   "source": [
    "**Q9**. Les épreuves (sport, épreuve, catégorie) individuelles.<br/>\n",
    "Résultat : (73 lignes)"
   ]
  },
  {
   "cell_type": "code",
   "execution_count": null,
   "metadata": {
    "id": "eRUNvSL9K_QC"
   },
   "outputs": [],
   "source": [
    "query=\"\"\"\n",
    "select distinct s.nomSp, e.nomEp, e.categorie\n",
    "from Epreuve e, Sport s, RangIndividuel r\n",
    "where e.sid=s.sid and r.epid=e.epid\n",
    "\"\"\"\n",
    "execute(connection,query)\n"
   ]
  },
  {
   "cell_type": "markdown",
   "metadata": {},
   "source": [
    "**Q10**. Les résultats (nom, prénom, pays de l'athlète et rang) de l'épreuve '1000m' du 'Patinage de vitesse' pour les 'Femmes'.<br/>\n",
    "Résultat : (36 lignes)"
   ]
  },
  {
   "cell_type": "code",
   "execution_count": null,
   "metadata": {
    "id": "t_M_AYEOK_QC"
   },
   "outputs": [],
   "source": [
    "query=\"\"\"\n",
    "select a.nomAth, a.prenomAth, a.codePays, r.rang\n",
    "from Sport s, Epreuve e, RangIndividuel r, Athlete a\n",
    "where s.nomSp='Patinage de vitesse' and e.nomEp='1000m' and e.categorie='Femmes'\n",
    "and e.sid=s.sid and r.epid=e.epid and r.aid=a.aid\n",
    "\"\"\"\n",
    "execute(connection,query)"
   ]
  },
  {
   "cell_type": "markdown",
   "metadata": {},
   "source": [
    "**Q11**. Le nom et prénom des athlètes qui forment l'équipe qui a gagné la médaille d'or dans l'épreuve 'relais 4x6km' de 'Biathlon' de 'Femmes'.   \n",
    "Résultat : SEMERENKO Vita, SEMERENKO Valj, DZHYMA Juliya, PIDHRUSHNA Olena"
   ]
  },
  {
   "cell_type": "code",
   "execution_count": null,
   "metadata": {
    "id": "uKGV_oUGK_QC"
   },
   "outputs": [],
   "source": [
    "query=\"\"\"\n",
    "select a.nomAth, a.prenomAth\n",
    "from Athlete a, AthletesEquipe ae, Epreuve e, Sport s, RangEquipe r\n",
    "where e.nomEp='relais 4x6km' and e.categorie='Femmes'\n",
    "and e.sid=s.sid and s.nomSp='Biathlon'\n",
    "and r.epid=e.epid and r.rang=1 and r.eqid=ae.eqid\n",
    "and a.aid=ae.aid\n",
    "\"\"\"\n",
    "execute(connection,query)"
   ]
  },
  {
   "cell_type": "markdown",
   "metadata": {
    "tags": []
   },
   "source": [
    "# TD et TME 5"
   ]
  },
  {
   "cell_type": "markdown",
   "metadata": {},
   "source": [
    "### Charger bd-jo-v2_H2.sql"
   ]
  },
  {
   "cell_type": "code",
   "execution_count": null,
   "metadata": {
    "id": "ALsb-dtHK_QO"
   },
   "outputs": [],
   "source": [
    "schemafile=open(\"bd-jo-v2_H2.sql\",mode=\"r\",encoding='utf-8')\n",
    "create_schema=schemafile.read()\n",
    "execute(connection, create_schema)\n",
    "connection.commit()"
   ]
  },
  {
   "cell_type": "markdown",
   "metadata": {},
   "source": [
    "### Jointures"
   ]
  },
  {
   "cell_type": "markdown",
   "metadata": {},
   "source": [
    "Q1. Les athlètes français (nom pays = 'France') (104 lignes)."
   ]
  },
  {
   "cell_type": "code",
   "execution_count": null,
   "metadata": {
    "scrolled": true
   },
   "outputs": [],
   "source": [
    "query=\"\"\"\n",
    "select a.nomAth, a.prenomAth\n",
    "from Pays p, Athlete a\n",
    "where a.codePays = p.codePays and p.nomP='France'\n",
    "\"\"\"\n",
    "\n",
    "cursor=execute(connection,query,show=True)"
   ]
  },
  {
   "cell_type": "code",
   "execution_count": null,
   "metadata": {
    "scrolled": true
   },
   "outputs": [],
   "source": [
    "query=\"\"\"\n",
    "select nomAth, prenomAth\n",
    "from Pays natural join Athlete \n",
    "where nomP='France'\n",
    "\"\"\"\n",
    "cursor=execute(connection,query,show=True)"
   ]
  },
  {
   "cell_type": "markdown",
   "metadata": {},
   "source": [
    "Q2. Les épreuves (sport, nom d'épreuve, catégorie) triées par nom de sport, puis par nom d'épreuve dans l'ordre inverse du dictionnaire (98 lignes)."
   ]
  },
  {
   "cell_type": "code",
   "execution_count": null,
   "metadata": {
    "scrolled": true
   },
   "outputs": [],
   "source": [
    "query=\"\"\"\n",
    "select distinct e.nomep, e.categorie, s.nomsp\n",
    "from epreuve e, sport s\n",
    "where e.sid = s.sid\n",
    "order by s.nomsp desc, e.nomep desc\n",
    "\"\"\"\n",
    "\n",
    "cursor=execute(connection,query,show=True)"
   ]
  },
  {
   "cell_type": "code",
   "execution_count": null,
   "metadata": {
    "scrolled": true
   },
   "outputs": [],
   "source": [
    "query=\"\"\"\n",
    "select nomep, categorie, nomsp\n",
    "from epreuve natural join sport \n",
    "order by nomsp desc, nomep desc\n",
    "\"\"\"\n",
    "\n",
    "cursor=execute(connection,query,show=True)"
   ]
  },
  {
   "cell_type": "markdown",
   "metadata": {},
   "source": [
    "Q3. Les athlètes ayant participé à une équipe de France (30 lignes)."
   ]
  },
  {
   "cell_type": "code",
   "execution_count": null,
   "metadata": {
    "scrolled": true
   },
   "outputs": [],
   "source": [
    "query=\"\"\"\n",
    "select distinct a.nomAth, a.prenomAth\n",
    "from Athlete a, Equipe e, AthletesEquipe ae, Pays p\n",
    "where a.aid=ae.aid and e.eqid=ae.eqid\n",
    "and e.codePays=p.codePays and p.nomP='France'\n",
    "\"\"\"\n",
    "\n",
    "cursor=execute(connection,query,show=True)"
   ]
  },
  {
   "cell_type": "code",
   "execution_count": null,
   "metadata": {
    "scrolled": true
   },
   "outputs": [],
   "source": [
    "query=\"\"\"\n",
    "select distinct nomAth, prenomAth\n",
    "from ((Athlete natural join Equipe) natural join AthletesEquipe)\n",
    "     natural join Pays \n",
    "where nomP='France'\n",
    "\"\"\"\n",
    "\n",
    "cursor=execute(connection,query,show=True)"
   ]
  },
  {
   "cell_type": "code",
   "execution_count": null,
   "metadata": {
    "scrolled": true
   },
   "outputs": [],
   "source": [
    "query=\"\"\"\n",
    "select distinct nomAth, prenomAth\n",
    "from Pays natural join Athlete natural join AthletesEquipe natural join Equipe\n",
    "where nomP='France'\n",
    "\"\"\"\n",
    "\n",
    "cursor=execute(connection,query,show=True)"
   ]
  },
  {
   "cell_type": "code",
   "execution_count": null,
   "metadata": {
    "scrolled": true
   },
   "outputs": [],
   "source": [
    "# reponse fausse !!!\n",
    "query=\"\"\"\n",
    "select distinct nomAth, prenomAth\n",
    "from Athlete natural join Equipe natural join AthletesEquipe\n",
    "     natural join Pays \n",
    "where nomP='France'\n",
    "\"\"\"\n",
    "\n",
    "cursor=execute(connection,query,show=True)"
   ]
  },
  {
   "cell_type": "markdown",
   "metadata": {},
   "source": [
    "Q4. Les épreuves (sport, épreuve, catégorie) auxquelles participent des équipes (25 lignes)."
   ]
  },
  {
   "cell_type": "code",
   "execution_count": null,
   "metadata": {
    "scrolled": true
   },
   "outputs": [],
   "source": [
    "query=\"\"\"\n",
    "select distinct s.nomSp, e.nomEp, e.categorie\n",
    "from Epreuve e, Sport s, RangEquipe r\n",
    "where e.sid=s.sid and r.epid=e.epid\n",
    "\"\"\"\n",
    "\n",
    "cursor=execute(connection,query,show=True)"
   ]
  },
  {
   "cell_type": "code",
   "execution_count": null,
   "metadata": {
    "scrolled": true
   },
   "outputs": [],
   "source": [
    "query=\"\"\"\n",
    "select distinct nomSp, nomEp, categorie\n",
    "from (Epreuve natural join RangEquipe) natural join Sport \n",
    "\"\"\"\n",
    "\n",
    "cursor=execute(connection,query,show=True)"
   ]
  },
  {
   "cell_type": "markdown",
   "metadata": {},
   "source": [
    "Q5. Le pays qui a gagné, en équipe, la médaille d'or dans l'épreuve de la catégorie 'Femmes' intitulée 'relais 4x6km' du sport 'Biathlon' (Ukraine)."
   ]
  },
  {
   "cell_type": "code",
   "execution_count": null,
   "metadata": {},
   "outputs": [],
   "source": [
    "query=\"\"\"\n",
    "select p.nomP\n",
    "from Epreuve ep, Sport s, RangEquipe r, Equipe eq, Pays p\n",
    "where ep.nomEp='relais 4x6km' and ep.categorie='Femmes'\n",
    "and ep.sid=s.sid and s.nomSp='Biathlon'\n",
    "and r.epid=ep.epid and r.rang=1 and r.eqid=eq.eqid\n",
    "and eq.codePays=p.codePays\n",
    "\"\"\"\n",
    "\n",
    "cursor=execute(connection,query,show=True)"
   ]
  },
  {
   "cell_type": "code",
   "execution_count": null,
   "metadata": {
    "scrolled": true
   },
   "outputs": [],
   "source": [
    "query=\"\"\"\n",
    "select distinct nomp\n",
    "from Sport\n",
    "natural join Epreuve \n",
    "natural join RangEquipe\n",
    "natural join Equipe \n",
    "natural join Pays \n",
    "where nomEp='relais 4x6km' and categorie='Femmes'\n",
    "and nomSp='Biathlon' and rang=1 \n",
    "\"\"\"\n",
    "\n",
    "cursor=execute(connection,query,show=True)"
   ]
  },
  {
   "cell_type": "code",
   "execution_count": null,
   "metadata": {
    "scrolled": true
   },
   "outputs": [],
   "source": [
    "# ne marche pas \n",
    "query=\"\"\"\n",
    "select distinct nomp\n",
    "from Pays natural join Epreuve natural join RangEquipe natural join Equipe natural join Sport \n",
    "where nomEp='relais 4x6km' and categorie='Femmes'\n",
    "and nomSp='Biathlon' and rang=1 \n",
    "\"\"\"\n",
    "\n",
    "cursor=execute(connection,query,show=True)"
   ]
  },
  {
   "cell_type": "markdown",
   "metadata": {},
   "source": [
    "Q6. Les athlètes ayant participé à au moins une épreuve individuelle et au moins une par équipe (372 lignes)."
   ]
  },
  {
   "cell_type": "code",
   "execution_count": null,
   "metadata": {
    "scrolled": true
   },
   "outputs": [],
   "source": [
    "query=\"\"\"\n",
    "select distinct a.*\n",
    "from Athlete a, RangIndividuel ri, RangEquipe re, AthletesEquipe ae\n",
    "where a.aid=ri.aid and re.eqid=ae.eqid and a.aid=ae.aid\n",
    "\"\"\"\n",
    "\n",
    "cursor=execute(connection,query,show=True)"
   ]
  },
  {
   "cell_type": "markdown",
   "metadata": {},
   "source": [
    "Q7. Les homonymes (les nom de familles portés par deux athlètes ou plus) (141 lignes)"
   ]
  },
  {
   "cell_type": "code",
   "execution_count": null,
   "metadata": {
    "scrolled": true
   },
   "outputs": [],
   "source": [
    "query=\"\"\"\n",
    "select distinct a1.nomAth\n",
    "from Athlete a1, Athlete a2\n",
    "where a1.aid <> a2.aid and a1.nomAth = a2.nomAth\n",
    "\"\"\"\n",
    "\n",
    "cursor=execute(connection,query,show=True)"
   ]
  },
  {
   "cell_type": "markdown",
   "metadata": {},
   "source": [
    "Q8. Les athlètes ayant participé à (au moins) deux épreuves individuelles (706 lignes)."
   ]
  },
  {
   "cell_type": "code",
   "execution_count": null,
   "metadata": {
    "scrolled": true
   },
   "outputs": [],
   "source": [
    "query=\"\"\"\n",
    "select distinct a.*\n",
    "from Athlete a, RangIndividuel r1, RangIndividuel r2\n",
    "where a.aid = r1.aid and a.aid = r2.aid and r1.epid <> r2.epid\n",
    "\"\"\"\n",
    "\n",
    "cursor=execute(connection,query,show=True)"
   ]
  },
  {
   "cell_type": "markdown",
   "metadata": {},
   "source": [
    "Q9. Les athlètes ayant gagné une médaille dans une épreuve individuelle, mais ayant été disqualifiés\n",
    "dans une autre (14 lignes)."
   ]
  },
  {
   "cell_type": "code",
   "execution_count": null,
   "metadata": {
    "scrolled": true
   },
   "outputs": [],
   "source": [
    "query=\"\"\"\n",
    "select distinct a.*\n",
    "from Athlete a, RangIndividuel r1, RangIndividuel r2\n",
    "where a.aid = r1.aid and a.aid = r2.aid and r1.epid <> r2.epid\n",
    "and r1.rang <= 3 and r2.rang is null\n",
    "\"\"\"\n",
    "\n",
    "cursor=execute(connection,query,show=True)"
   ]
  },
  {
   "cell_type": "markdown",
   "metadata": {},
   "source": [
    "Q10. Les athlètes ayant gagné (au moins) une médaille dans une épreuve individuelle (182 lignes)."
   ]
  },
  {
   "cell_type": "code",
   "execution_count": null,
   "metadata": {
    "scrolled": true
   },
   "outputs": [],
   "source": [
    "query=\"\"\"\n",
    "select a.*\n",
    "from Athlete a\n",
    "where a.aid in (select aid\n",
    "from RangIndividuel r\n",
    "where r.rang <= 3)\n",
    "\"\"\"\n",
    "\n",
    "cursor=execute(connection,query,show=True)"
   ]
  },
  {
   "cell_type": "markdown",
   "metadata": {},
   "source": [
    "### NOT EXISTS / NOT IN"
   ]
  },
  {
   "cell_type": "markdown",
   "metadata": {},
   "source": [
    "Q11.  Les noms de pays qui n’ont qu’une seule équipe (9 lignes)."
   ]
  },
  {
   "cell_type": "code",
   "execution_count": null,
   "metadata": {
    "scrolled": true
   },
   "outputs": [],
   "source": [
    "query=\"\"\"\n",
    "select distinct p.NomP\n",
    "from Pays p, Equipe e\n",
    "where p.codePays = e.codePays\n",
    "and not exists (select * from Equipe e1\n",
    "where e1.eqid <> e.eqid and e1.CodePays = e.codePays)\n",
    "\"\"\"\n",
    "\n",
    "cursor=execute(connection,query,show=True)"
   ]
  },
  {
   "cell_type": "code",
   "execution_count": null,
   "metadata": {
    "scrolled": true
   },
   "outputs": [],
   "source": [
    "query=\"\"\"\n",
    "select distinct p.NomP\n",
    "from Pays p, Equipe e\n",
    "where p.codePays = e.codePays\n",
    "and e.codePays NOT IN (select e1.codePays from Equipe e1, Equipe e2\n",
    "where e1.eqid <> e2.eqid and e1.CodePays = e2.codePays)\n",
    "\"\"\"\n",
    "\n",
    "cursor=execute(connection,query,show=True)"
   ]
  },
  {
   "cell_type": "markdown",
   "metadata": {},
   "source": [
    "Q12. Les athlètes ayant participé à exactement 2 épreuves individuelles (402 lignes)."
   ]
  },
  {
   "cell_type": "code",
   "execution_count": null,
   "metadata": {
    "scrolled": true,
    "tags": []
   },
   "outputs": [],
   "source": [
    "query=\"\"\"\n",
    "select distinct a.*\n",
    "from Athlete a, RangIndividuel r1, RangIndividuel r2\n",
    "where a.aid = r1. aid and r2.aid= a.aid and r1.epid <> r2.epid\n",
    "and not exists (select * from RangIndividuel r3\n",
    "where r3.aid = r1.aid and r3.epid <> r1.epid and r3.epid<>r2.epid)\n",
    "\"\"\"\n",
    "\n",
    "cursor=execute(connection,query,show=True)"
   ]
  },
  {
   "cell_type": "markdown",
   "metadata": {},
   "source": [
    "## TME5"
   ]
  },
  {
   "cell_type": "markdown",
   "metadata": {},
   "source": [
    "### Jointures"
   ]
  },
  {
   "cell_type": "markdown",
   "metadata": {},
   "source": [
    "Q1. Les sports auxquels LESSER Erik a participé en supposant qu'il a participé aux épreuves\n",
    "individuelles (2 lignes)."
   ]
  },
  {
   "cell_type": "code",
   "execution_count": null,
   "metadata": {
    "scrolled": true
   },
   "outputs": [],
   "source": [
    "query=\"\"\"\n",
    "select distinct s.*\n",
    "from Sport s, Athlete a, RangIndividuel r, Epreuve e\n",
    "where a.nomAth='LESSER' and a.prenomAth='Erik'\n",
    "and a.aid = r.aid and r.epid = e.epid and e.sid = s.sid\n",
    "\"\"\"\n",
    "\n",
    "cursor=execute(connection,query,show=True)"
   ]
  },
  {
   "cell_type": "markdown",
   "metadata": {},
   "source": [
    "Q2. Les athlètes ayant participé aux épreuves individuelles de (au moins) deux sports différents (2 lignes)."
   ]
  },
  {
   "cell_type": "code",
   "execution_count": null,
   "metadata": {
    "scrolled": true
   },
   "outputs": [],
   "source": [
    "query=\"\"\"\n",
    "select distinct a.nomath, a.prenomath\n",
    "from Athlete a,RangIndividuel r1,Epreuve e1,RangIndividuel r2,Epreuve e2\n",
    "where a.aid = r1.aid and a.aid = r2.aid\n",
    "and e1.epid = r1.epid and a.aid = r1.aid\n",
    "and e2.epid = r2.epid and a.aid = r2.aid and e1.sid <> e2.sid\n",
    "\"\"\"\n",
    "\n",
    "cursor=execute(connection,query,show=True)"
   ]
  },
  {
   "cell_type": "markdown",
   "metadata": {},
   "source": [
    "### NOT EXISTS / NOT IN / IS NULL"
   ]
  },
  {
   "cell_type": "markdown",
   "metadata": {},
   "source": [
    "Q3. Les dates de début et de fin des Jeux Olympique 2014."
   ]
  },
  {
   "cell_type": "code",
   "execution_count": null,
   "metadata": {
    "scrolled": true
   },
   "outputs": [],
   "source": [
    "query=\"\"\"\n",
    "select distinct e1.dateDebut as Debut, e2.dateFin as Fin\n",
    "from Epreuve e1, Epreuve e2\n",
    "where not exists ( select * from Epreuve e3 where e3.dateDebut < e1.dateDebut)\n",
    "and not exists ( select * from Epreuve e4 where e4.dateFin > e2.dateFin) \n",
    "\"\"\"\n",
    "\n",
    "cursor=execute(connection,query,show=True)"
   ]
  },
  {
   "cell_type": "markdown",
   "metadata": {},
   "source": [
    "Q4. Les pays qui ont des participants de moins de 18 ans ou de plus que 40 au 24-02-2016\n",
    "(Attention : il faut éliminer les athlètes dont on ne connaît pas la date de naissance) (9 ou 7 lignes)."
   ]
  },
  {
   "cell_type": "code",
   "execution_count": null,
   "metadata": {
    "scrolled": true
   },
   "outputs": [],
   "source": [
    "query=\"\"\"\n",
    "select distinct p.codepays, p.nomp\n",
    "from athlete a, pays p\n",
    "where a.codepays=p.codepays and a.datenaissance is not null\n",
    "and (2016-year(a.datenaissance) <= 18\n",
    "or 2016-year(a.datenaissance) >= 40)\n",
    "\"\"\"\n",
    "\n",
    "cursor=execute(connection,query,show=True)"
   ]
  },
  {
   "cell_type": "code",
   "execution_count": null,
   "metadata": {
    "scrolled": true
   },
   "outputs": [],
   "source": [
    "query=\"\"\"\n",
    "select distinct p.CODEPAYS, p.NOMP\n",
    "from Pays p\n",
    "where exists (select *\n",
    "from Athlete a\n",
    "where a.codePays=p.codePays and a.dateNaissance is not null\n",
    "and (datediff(day,a.dateNaissance,parsedatetime('24-02-2016', 'dd-MM-yyyy')) < 18 * 365\n",
    "or datediff(day,a.dateNaissance,parsedatetime('24-02-2016', 'dd-MM-yyyy')) > 40 * 365))\n",
    "\"\"\"\n",
    "\n",
    "cursor=execute(connection,query,show=True)"
   ]
  },
  {
   "cell_type": "code",
   "execution_count": null,
   "metadata": {
    "scrolled": true
   },
   "outputs": [],
   "source": [
    "query=\"\"\"\n",
    "select distinct p.CODEPAYS, p.NOMP\n",
    "from ATHLETE a, PAYS p\n",
    "where a.codePays=p.codePays and a.dateNaissance is not null\n",
    "and (2016-year(a.DATENAISSANCE) < 18\n",
    "or (2016-year(a.DATENAISSANCE) > 40)\n",
    "or ((2016-year(a.DATENAISSANCE) = 18\n",
    "and DAY_OF_YEAR(datenaissance) >\n",
    "DAY_OF_YEAR(parsedatetime('24-02-2016', 'dd-MM-yyyy'))))\n",
    "or ((2016-year(a.DATENAISSANCE) = 40\n",
    "and DAY_OF_YEAR(datenaissance) <\n",
    "DAY_OF_YEAR(parsedatetime('24-02-2016', 'dd-MM-yyyy')))))\n",
    "\"\"\"\n",
    "\n",
    "cursor=execute(connection,query,show=True)"
   ]
  },
  {
   "cell_type": "markdown",
   "metadata": {},
   "source": [
    "Q5. Les équipes n'ayant pas d'athlète (la base de données ne contient pas l'information sur les participants) (13 lignes)"
   ]
  },
  {
   "cell_type": "code",
   "execution_count": null,
   "metadata": {
    "scrolled": true
   },
   "outputs": [],
   "source": [
    "query=\"\"\"\n",
    "select e.eqid, e.codePays\n",
    "from Equipe e\n",
    "where not exists (select *\n",
    "from AthletesEquipe ae\n",
    "where e.eqid = ae.eqid)\n",
    "\"\"\"\n",
    "\n",
    "cursor=execute(connection,query,show=True)"
   ]
  },
  {
   "cell_type": "markdown",
   "metadata": {},
   "source": [
    "Q6. Les équipes qui ont exactement 2 athlètes. Retourner l'équipe en question avec ses deux seuls athlètes (114 lignes).\n"
   ]
  },
  {
   "cell_type": "code",
   "execution_count": null,
   "metadata": {
    "scrolled": true
   },
   "outputs": [],
   "source": [
    "query=\"\"\"\n",
    "select ae1.eqid, a1. nomath, a2.nomath\n",
    "from athlete a1, athlete a2, athletesequipe ae1, athletesequipe ae2\n",
    "where a1.aid<a2.aid and ae1.eqid=ae2.eqid and ae1.aid=a1.aid and ae2.aid=a2.aid\n",
    "and not exists (select * from Athletesequipe ae3\n",
    "where ae3.aid<>a1.aid and ae3.aid<>a2.aid and ae3.eqid=ae1.eqid)\n",
    "\"\"\"\n",
    "\n",
    "cursor=execute(connection,query,show=True)"
   ]
  },
  {
   "cell_type": "markdown",
   "metadata": {},
   "source": [
    "Q7. Les sports qui n'ont pas d'épreuves de catégorie Mixte (12 lignes)."
   ]
  },
  {
   "cell_type": "code",
   "execution_count": null,
   "metadata": {
    "scrolled": true
   },
   "outputs": [],
   "source": [
    "query=\"\"\"\n",
    "select nomSp\n",
    "from Sport s\n",
    "where not exists (select *\n",
    "from Epreuve e\n",
    "where e.sid = s.sid and e.categorie='Mixte')\n",
    "\"\"\"\n",
    "\n",
    "cursor=execute(connection,query,show=True)"
   ]
  },
  {
   "cell_type": "markdown",
   "metadata": {},
   "source": [
    "Q8. Les athlètes qui ont gagné une médaille d’or (au moins) mais pas de médaille d’argent ni de bronze (53 lignes)"
   ]
  },
  {
   "cell_type": "code",
   "execution_count": null,
   "metadata": {
    "scrolled": true
   },
   "outputs": [],
   "source": [
    "query=\"\"\"\n",
    "select distinct a.aid, a.nomath, a.prenomath\n",
    "from athlete a, rangindividuel r\n",
    "where a.aid= r.aid and r.rang=1\n",
    "and a.aid not in (select r1.aid from Rangindividuel r1 where r1.rang=2 or r1.rang = 3)\n",
    "\"\"\"\n",
    "\n",
    "cursor=execute(connection,query,show=True)"
   ]
  },
  {
   "cell_type": "markdown",
   "metadata": {},
   "source": [
    "Q9. Les athlète(s) qui ont fini dernier d’une épreuve individuelle. Indiquer leur nom, prenom, le nom\n",
    "du sport et de l’épreuve et leur rang. Attention : il faut filtrer les athlètes disqualifiés (73 lignes)."
   ]
  },
  {
   "cell_type": "code",
   "execution_count": null,
   "metadata": {
    "scrolled": true
   },
   "outputs": [],
   "source": [
    "query=\"\"\"\n",
    "select a.aid, a.nomath, a.prenomath, r.rang, e.nomep, s.nomsp\n",
    "from athlete a, rangindividuel r, epreuve e, sport s\n",
    "where a.aid=r.aid and r.rang is not null\n",
    "and e.epid=r.epid and s.sid=e.sid\n",
    "and not exists (select * from rangindividuel r1\n",
    "where r1.epid = r.epid and r.rang < r1.rang)\n",
    "order by a.aid\n",
    "\"\"\"\n",
    "\n",
    "cursor=execute(connection,query,show=True)"
   ]
  },
  {
   "cell_type": "markdown",
   "metadata": {},
   "source": [
    "# TD et TME 6"
   ]
  },
  {
   "cell_type": "markdown",
   "metadata": {},
   "source": [
    "### TD 6 ANY /ALL / IN / EXISTS"
   ]
  },
  {
   "cell_type": "markdown",
   "metadata": {},
   "source": [
    "Q1. Les athlètes ayant participé à (au moins) une épreuve individuelle et (au moins) une épreuve\n",
    "par équipe. Exprimer la requête en utilisant ANY (au lieu de IN; voir requête 2.6 dans TD5).\n",
    "Résultat : (372 lignes)"
   ]
  },
  {
   "cell_type": "code",
   "execution_count": null,
   "metadata": {
    "tags": []
   },
   "outputs": [],
   "source": [
    "query=\"\"\"\n",
    "select nomAth, prenomAth\n",
    "from Athlete\n",
    "where aid=ANY (select aid from RangIndividuel)\n",
    "and aid=ANY (select aid from RangEquipe re,AthletesEquipe ae where re.eqid=ae.eqid)\n",
    "\"\"\"\n",
    "execute(connection,query,show=True)"
   ]
  },
  {
   "cell_type": "markdown",
   "metadata": {},
   "source": [
    "2. a) Les pays ayant au moins un athlète (requête équivalente: les pays ayant participé aux JO).\n",
    "Résultat : (88 lignes)"
   ]
  },
  {
   "cell_type": "code",
   "execution_count": null,
   "metadata": {},
   "outputs": [],
   "source": [
    "query=\"\"\"\n",
    "select distinct p.nomP\n",
    "from Pays p, Athlete a\n",
    "where a.codePays = p.codePays\n",
    "\"\"\"\n",
    "execute(connection,query,show=True)"
   ]
  },
  {
   "cell_type": "markdown",
   "metadata": {},
   "source": [
    "b) Les pays ayant exactement un seul athlète\n",
    "Résultat : (18 lignes)"
   ]
  },
  {
   "cell_type": "code",
   "execution_count": null,
   "metadata": {},
   "outputs": [],
   "source": [
    "query=\"\"\"\n",
    "select p.nomP\n",
    "from Pays p, Athlete a1\n",
    "where a1.codePays = p.codePays\n",
    "and not exists (select *\n",
    "from Athlete a2\n",
    "where a2.aid <> a1.aid and a2.codePays = p.codePays)\n",
    "\"\"\"\n",
    "execute(connection,query,show=True)\n"
   ]
  },
  {
   "cell_type": "markdown",
   "metadata": {},
   "source": [
    "3. a) Les athlètes qui n'ont jamais été disqualifiés aux épreuves individuelles.\n",
    "Résultat : (2194 lignes)"
   ]
  },
  {
   "cell_type": "code",
   "execution_count": null,
   "metadata": {},
   "outputs": [],
   "source": [
    "query=\"\"\"\n",
    "select nomAth, prenomAth\n",
    "from Athlete\n",
    "where aid NOT IN (select aid\n",
    "from RangIndividuel\n",
    "where rang is null)\n",
    "\"\"\"\n",
    "execute(connection,query,show=True)"
   ]
  },
  {
   "cell_type": "markdown",
   "metadata": {},
   "source": [
    "b) Les pays qui n'ont pas eu d'athlète disqualifié aux épreuves individuelles.\n",
    "Résultat : (143 lignes)"
   ]
  },
  {
   "cell_type": "code",
   "execution_count": null,
   "metadata": {},
   "outputs": [],
   "source": [
    "query=\"\"\"\n",
    "select p.nomP\n",
    "from Pays p\n",
    "where not exists (select *\n",
    "from Athlete a, RangIndividuel r\n",
    "where a.codePays = p.codePays and a.aid = r.aid and r.rang is null)\n",
    "\"\"\"\n",
    "execute(connection,query,show=True)"
   ]
  },
  {
   "cell_type": "markdown",
   "metadata": {},
   "source": [
    "c) Les pays qui ont participé aux JO et qui n'ont pas eu d'athlètes disqualifiés aux épreuves\n",
    "individuelles.\n",
    "Résultat : (25 lignes)"
   ]
  },
  {
   "cell_type": "code",
   "execution_count": null,
   "metadata": {},
   "outputs": [],
   "source": [
    "query=\"\"\"\n",
    "select p.nomP\n",
    "from Pays p\n",
    "where exists (select * from Athlete a1 where a1.codePays = p.codePays)\n",
    "and not exists (select *\n",
    "from Athlete a, RangIndividuel r\n",
    "where a.codePays = p.codePays and a.aid = r.aid and r.rang is null)\n",
    "\"\"\"\n",
    "execute(connection,query,show=True)"
   ]
  },
  {
   "cell_type": "markdown",
   "metadata": {},
   "source": [
    "d) Les pays qui ont participé aux JO et qui n'ont pas eu des athlètes disqualifiés ni en\n",
    "individuel ni par équipe\n",
    "Résultat : (25 lignes)"
   ]
  },
  {
   "cell_type": "code",
   "execution_count": null,
   "metadata": {},
   "outputs": [],
   "source": [
    "query=\"\"\"\n",
    "select p.nomP\n",
    "from Pays p\n",
    "where exists (select *\n",
    "from Athlete a1\n",
    "where a1.codePays = p.codePays)\n",
    "and not exists (select *\n",
    "from Athlete a, RangIndividuel r\n",
    "where a.codePays = p.codePays and a.aid = r.aid and r.rang is null)\n",
    "and not exists (select *\n",
    "from Equipe e, RangEquipe re\n",
    "where e.codePays = p.codePays and e.eqid = re.eqid and re.rang is null)\n",
    "\"\"\"\n",
    "execute(connection,query,show=True)"
   ]
  },
  {
   "cell_type": "markdown",
   "metadata": {},
   "source": [
    "4. a) Les athlètes n'ayant pas gagné de médaille ni en individuel ni en équipe\n",
    "Résultat : (1921 lignes)"
   ]
  },
  {
   "cell_type": "code",
   "execution_count": null,
   "metadata": {},
   "outputs": [],
   "source": [
    "query=\"\"\"\n",
    "select nomAth, prenomAth\n",
    "from Athlete a\n",
    "where not exists (select *\n",
    "from RangIndividuel r\n",
    "where r.aid = a.aid and r.rang <= 3)\n",
    "and not exists (select *\n",
    "from AthletesEquipe e, RangEquipe r\n",
    "where e.aid=a.aid and e.eqid = r.eqid and r.rang <= 3)\n",
    "\"\"\"\n",
    "execute(connection,query,show=True)"
   ]
  },
  {
   "cell_type": "markdown",
   "metadata": {},
   "source": [
    "b) Les pays ayant participé aux JO et n'ayant pas gagné de médaille ni en individuel ni en\n",
    "équipe.\n",
    "Résultat : (63 lignes)"
   ]
  },
  {
   "cell_type": "code",
   "execution_count": null,
   "metadata": {},
   "outputs": [],
   "source": [
    "query=\"\"\"\n",
    "select nomP\n",
    "from Pays p\n",
    "where exists (select * from Athlete a1 where a1.codePays = p.codePays)\n",
    "and not exists (select *\n",
    "from Athlete a2, RangIndividuel r\n",
    "where a2.codePays = p.codePays and a2.aid = r.aid and r.rang <= 3)\n",
    "and not exists (select *\n",
    "from Equipe e, RangEquipe r\n",
    "where e.codePays = p.codePays and e.eqid = r.eqid and r.rang <= 3)\n",
    "\"\"\"\n",
    "execute(connection,query,show=True)\n"
   ]
  },
  {
   "cell_type": "markdown",
   "metadata": {},
   "source": [
    "5. L'(es) épreuve(s) avec la plus grande durée.\n",
    "Résultat : Hockey sur glace, Hockey sur glace, Hommes, 16 jours"
   ]
  },
  {
   "cell_type": "code",
   "execution_count": null,
   "metadata": {},
   "outputs": [],
   "source": [
    "query=\"\"\"\n",
    "select s.nomSp, e.nomEp, e.categorie, DATEDIFF(DAY, dateDebut, dateFin) + 1 as Duree\n",
    "from Sport s, Epreuve e\n",
    "where s.sid = e.sid and DATEDIFF(DAY, dateDebut, dateFin) >= all\n",
    "(select DATEDIFF(DAY, dateDebut, dateFin) from Epreuve e2)\n",
    "\"\"\"\n",
    "execute(connection,query,show=True)"
   ]
  },
  {
   "cell_type": "markdown",
   "metadata": {},
   "source": [
    "6. Les athlètes ayant gagné une médaille à toutes les épreuve individuelles auxquelles ils ont\n",
    "participé. Résultat : (109 lignes)"
   ]
  },
  {
   "cell_type": "code",
   "execution_count": null,
   "metadata": {},
   "outputs": [],
   "source": [
    "query=\"\"\"\n",
    "select distinct nomAth, prenomAth\n",
    "From Athlete a, RangIndividuel r\n",
    "Where a.aid = r.aid and NOT EXISTS (Select * From RangIndividuel i where i.aid=a.aid and\n",
    "(i.rang> 3 OR i.rang IS NULL ))\n",
    "\"\"\"\n",
    "execute(connection,query,show=True)"
   ]
  },
  {
   "cell_type": "code",
   "execution_count": null,
   "metadata": {},
   "outputs": [],
   "source": [
    "query=\"\"\"\n",
    "select distinct ri.aid\n",
    "from RangIndividuel ri\n",
    "where 3 >= all (select r.rang\n",
    "from RangIndividuel r\n",
    "where r.aid = ri.aid)\n",
    "\"\"\"\n",
    "execute(connection,query,show=True)"
   ]
  },
  {
   "cell_type": "code",
   "execution_count": null,
   "metadata": {},
   "outputs": [],
   "source": [
    "query=\"\"\"\n",
    "select nomAth, prenomAth\n",
    "from Athlete a\n",
    "where 3 >= all (select r.rang\n",
    "from RangIndividuel r\n",
    "where r.aid = a.aid)\n",
    "and a.aid in (select aid from RangIndividuel)\n",
    "\"\"\"\n",
    "execute(connection,query,show=True)"
   ]
  },
  {
   "cell_type": "markdown",
   "metadata": {},
   "source": [
    "## TME6"
   ]
  },
  {
   "cell_type": "markdown",
   "metadata": {},
   "source": [
    "### ANY /ALL / IN / EXISTS"
   ]
  },
  {
   "cell_type": "markdown",
   "metadata": {},
   "source": [
    "Exprimer les requêtes suivantes en SQL :\n",
    "\n",
    "1. Les sports dont toutes les épreuves ont duré un seul jour.\n",
    "Résultat : Ski de fond, Ski alpin, Biathlon"
   ]
  },
  {
   "cell_type": "code",
   "execution_count": null,
   "metadata": {},
   "outputs": [],
   "source": [
    "query=\"\"\"\n",
    "select nomSp\n",
    "from Sport s\n",
    "where not exists (select *\n",
    "from Epreuve e\n",
    "where e.sid = s.sid and e.dateFin <> e.dateDebut)\n",
    "\"\"\"\n",
    "execute(connection,query,show=True)"
   ]
  },
  {
   "cell_type": "markdown",
   "metadata": {},
   "source": [
    "2. Les sports qui n'ont pas d'épreuves de categorie Mixte.\n",
    "Résultat : (12 lignes)"
   ]
  },
  {
   "cell_type": "code",
   "execution_count": null,
   "metadata": {},
   "outputs": [],
   "source": [
    "query=\"\"\"\n",
    "select nomSp\n",
    "from Sport s\n",
    "where not exists (select *\n",
    "from Epreuve e\n",
    "where e.sid = s.sid and e.categorie='Mixte')\n",
    "\"\"\"\n",
    "execute(connection,query,show=True)"
   ]
  },
  {
   "cell_type": "markdown",
   "metadata": {},
   "source": [
    "3. Les équipes dont aucun athlète n'a gagné de médaille aux épreuves individuelles.\n",
    "Attention : il y a des équipes sans athlètes.\n",
    "Résultat : (265 lignes avec les équipes sans athlètes - 252 lignes sans les équipes sans\n",
    "athlètes)"
   ]
  },
  {
   "cell_type": "markdown",
   "metadata": {},
   "source": [
    "Avec les équipes sans athlètes :"
   ]
  },
  {
   "cell_type": "code",
   "execution_count": null,
   "metadata": {},
   "outputs": [],
   "source": [
    "query=\"\"\"\n",
    "select e.eqid\n",
    "from Equipe e\n",
    "where not exists (select *\n",
    "from AthletesEquipe ae, RangIndividuel ri\n",
    "where e.eqid = ae.eqid and ri.aid=ae.aid and ri.rang <= 3)\n",
    "\"\"\"\n",
    "execute(connection,query,show=True)"
   ]
  },
  {
   "cell_type": "markdown",
   "metadata": {},
   "source": [
    "Sans les équipes sans athlètes :"
   ]
  },
  {
   "cell_type": "code",
   "execution_count": null,
   "metadata": {
    "tags": []
   },
   "outputs": [],
   "source": [
    "query=\"\"\"\n",
    "select e.eqid\n",
    "from AthletesEquipe e\n",
    "where not exists (select *\n",
    "from AthletesEquipe ae, RangIndividuel ri\n",
    "where e.eqid = ae.eqid and ri.aid=ae.aid and ri.rang <= 3)\n",
    "\"\"\"\n",
    "execute(connection,query,show=True)"
   ]
  },
  {
   "cell_type": "markdown",
   "metadata": {},
   "source": [
    "4. La nationalité de l'athlète le/la plus jeune. Attention : il y a des athlètes dont on ne connaît\n",
    "pas la date de naissance.\n",
    "Résultat : ('29/11/1998','JPN')"
   ]
  },
  {
   "cell_type": "code",
   "execution_count": null,
   "metadata": {},
   "outputs": [],
   "source": [
    "query=\"\"\"\n",
    "select a1.dateNaissance, a1.codePays\n",
    "from Athlete a1\n",
    "where a1.dateNaissance is not null and not exists (select *\n",
    "from Athlete a2\n",
    "where a2.dateNaissance > a1.dateNaissance)\n",
    "\"\"\"\n",
    "execute(connection,query,show=True)"
   ]
  },
  {
   "cell_type": "markdown",
   "metadata": {},
   "source": [
    "5. Le plus jeune athlète de chaque pays.\n",
    "Résultat : (26 lignes)"
   ]
  },
  {
   "cell_type": "code",
   "execution_count": null,
   "metadata": {},
   "outputs": [],
   "source": [
    "query=\"\"\"\n",
    "select a1.*\n",
    "from Athlete a1, Pays p\n",
    "where a1.codePays=p.codePays and a1.dateNaissance is not null\n",
    "and not exists (select *\n",
    "from Athlete a2\n",
    "where a2.codePays=p.codePays\n",
    "and a2.dateNaissance > a1.dateNaissance)\n",
    "\"\"\"\n",
    "execute(connection,query,show=True)"
   ]
  },
  {
   "cell_type": "markdown",
   "metadata": {},
   "source": [
    "# TME7"
   ]
  },
  {
   "cell_type": "markdown",
   "metadata": {},
   "source": [
    "On reprend le schéma schéma « Jeux Olympiques d'hiver 2014 ».\n",
    "\n",
    "PAYS (CODEPAYS, NOMP)\n",
    "\n",
    "SPORT (SID , NOM SP)\n",
    "\n",
    "EPREUVE (EPID, SID*, NOMEP, CATEGORIE, DATEDEBUT, DATEFIN)\n",
    "\n",
    "ATHLETE (AID, NOMATH, PRENOMATH, DATENAISSANCE, CODEPAYS*)\n",
    "\n",
    "EQUIPE (EQID, CODE PAYS*)\n",
    "\n",
    "ATHLETESEQUIPE (EQID*, AID*)\n",
    "\n",
    "RANGINDIVIDUEL (EPID*, AID*, RANG)\n",
    "\n",
    "RANGEQUIPE (EPID*, EQID*, RANG)"
   ]
  },
  {
   "cell_type": "markdown",
   "metadata": {},
   "source": [
    "### Fonctions d’agrégation « COUNT, SUM, AVG, MIN, MAX »"
   ]
  },
  {
   "cell_type": "markdown",
   "metadata": {},
   "source": [
    "1. Le nombre d’athlètes.\n",
    "Résultat (1 ligne) : 2431"
   ]
  },
  {
   "cell_type": "code",
   "execution_count": null,
   "metadata": {},
   "outputs": [],
   "source": [
    "query=\"\"\"\n",
    "select count(*) from Athlete\n",
    "\"\"\"\n",
    "execute(connection,query,show=True)"
   ]
  },
  {
   "cell_type": "markdown",
   "metadata": {},
   "source": [
    "2. Le nombre d’athlètes ayant participé à au moins une épreuve en individuel.\n",
    "Résultat (1 ligne) : 1558"
   ]
  },
  {
   "cell_type": "code",
   "execution_count": null,
   "metadata": {},
   "outputs": [],
   "source": [
    "query=\"\"\"\n",
    "select count(distinct aid) from RangIndividuel\n",
    "\"\"\"\n",
    "execute(connection,query,show=True)"
   ]
  },
  {
   "cell_type": "markdown",
   "metadata": {},
   "source": [
    "3. L'âge moyen des sportifs dont le code pays est 'FRA' (France) au 06/02/2014.\n",
    "Résultat (1 ligne) : 26,8\n",
    "Aide :\n",
    "– utilisez round(valeur,nb) pour garder seulement nb décimales à valeur\n",
    "– sous Oracle, utilisez: to_date('06/02/2014','dd/mm/YYYY')"
   ]
  },
  {
   "cell_type": "code",
   "execution_count": null,
   "metadata": {},
   "outputs": [],
   "source": [
    "query=\"\"\"\n",
    "select round(avg(datediff(day,dateNaissance,'2014-02-06'))/365.25,1) as AgeMoy\n",
    "from Athlete where codepays='FRA'\n",
    "\"\"\"\n",
    "execute(connection,query,show=True)"
   ]
  },
  {
   "cell_type": "markdown",
   "metadata": {},
   "source": [
    "4. La durée moyenne, minimale et maximale des épreuves.\n",
    "Résultat (1 ligne) : « Durée moyenne = 1,98 min = 1 max = 16 »\n",
    "Aide : utilisez l’opérateur de concaténation ||\n",
    "Attention : entre le 10/01/2014 et le 13/01/2014, il y a une durée de 4 jours (et non pas 3)."
   ]
  },
  {
   "cell_type": "code",
   "execution_count": null,
   "metadata": {},
   "outputs": [],
   "source": [
    "query=\"\"\"\n",
    "select 'Durée moyenne = ' || round(avg(1.0+datediff(day, dateDebut, dateFin)),2)\n",
    "|| ' min = ' || min(1+datediff(day, dateDebut, dateFin))\n",
    "|| ' max = ' || max(1+datediff(day, dateDebut, dateFin))\n",
    "from Epreuve\n",
    "\"\"\"\n",
    "execute(connection,query,show=True)"
   ]
  },
  {
   "cell_type": "markdown",
   "metadata": {},
   "source": [
    "5. Le nombre moyen d'athlètes par pays, c'est-à-dire le nombre d'athlètes divisé par le nombre\n",
    "de pays (ayant au moins un athlète). Résultat (1 ligne) : 27,625"
   ]
  },
  {
   "cell_type": "code",
   "execution_count": null,
   "metadata": {},
   "outputs": [],
   "source": [
    "query=\"\"\"\n",
    "select Round(1.0*count(aid)/count(distinct codePays),3) as nbAthletesMoy\n",
    "from Athlete\n",
    "\"\"\"\n",
    "execute(connection,query,show=True)"
   ]
  },
  {
   "cell_type": "markdown",
   "metadata": {},
   "source": [
    "### Partitionnement « group by »"
   ]
  },
  {
   "cell_type": "markdown",
   "metadata": {},
   "source": [
    "6. Pour chaque pays, le nom du pays et le nombre d’athlètes, ordonner par nombre d’athlètes\n",
    "croissant.\n",
    "Résultats (88 lignes) : (PAK,1) ; (HKG, 1) ; ... ; (USA, 196) ; (CAN,221)"
   ]
  },
  {
   "cell_type": "code",
   "execution_count": null,
   "metadata": {},
   "outputs": [],
   "source": [
    "query=\"\"\"\n",
    "select codePays, count(*) as nbAthletes\n",
    "from Athlete\n",
    "group by codePays\n",
    "order by count(*)\n",
    "\"\"\"\n",
    "execute(connection,query,show=True)"
   ]
  },
  {
   "cell_type": "markdown",
   "metadata": {},
   "source": [
    "7. Le nombre moyen d'athlètes par pays (avec group by). Aide : compter le nombre\n",
    "d’athlètes dans chaque pays (ayant au moins un athlète), puis faire la moyenne.\n",
    "Résultat (1 ligne) : 27,625"
   ]
  },
  {
   "cell_type": "code",
   "execution_count": null,
   "metadata": {},
   "outputs": [],
   "source": [
    "query=\"\"\"\n",
    "select avg(count) from (select count(*) as count from Athlete group by codePays) \n",
    "\"\"\"\n",
    "execute(connection,query,show=True)"
   ]
  },
  {
   "cell_type": "markdown",
   "metadata": {},
   "source": [
    "8. Pour chaque équipe, l’eqid de l'équipe et le nombre d'athlètes, ordonner par nombre\n",
    "d’athlètes décroissant.\n",
    "Résultats (296 lignes) : (164,25) ; (165,25) ; (166,25) ; ... ; (180,2) ; (181, 2) ; (182, 2)"
   ]
  },
  {
   "cell_type": "code",
   "execution_count": null,
   "metadata": {},
   "outputs": [],
   "source": [
    "query=\"\"\"\n",
    "select eqid, count(*)\n",
    "from AthletesEquipe\n",
    "group by eqid\n",
    "order by count(*) DESC\n",
    "\"\"\"\n",
    "execute(connection,query,show=True)"
   ]
  },
  {
   "cell_type": "markdown",
   "metadata": {},
   "source": [
    "9. Pour chaque catégorie, la catégorie et le nombre d'épreuves.\n",
    "Résultats (3 lignes) : (Femmes,43) ; (Mixte,6) ; (Hommes,49)"
   ]
  },
  {
   "cell_type": "code",
   "execution_count": null,
   "metadata": {},
   "outputs": [],
   "source": [
    "query=\"\"\"\n",
    "select categorie, count(*)\n",
    "from Epreuve\n",
    "group by categorie\n",
    "\"\"\"\n",
    "execute(connection,query,show=True)"
   ]
  },
  {
   "cell_type": "markdown",
   "metadata": {},
   "source": [
    "10. Pour chaque sport, le nom du sport et le nombre d'épreuves, ordonner par nombre d'épreuves\n",
    "décroissant.\n",
    "\n",
    "Résultats (15 lignes) : (Patinage de vitesse,12) ; (Ski de fond,12) ; ... ;(Hockey sur glace,2)"
   ]
  },
  {
   "cell_type": "code",
   "execution_count": null,
   "metadata": {},
   "outputs": [],
   "source": [
    "query=\"\"\"\n",
    "select s.nomSp, count(*)\n",
    "from Epreuve ep, Sport s\n",
    "where ep.sid=s.sid\n",
    "group by s.sid, s.nomSp\n",
    "order by count(*) desc \n",
    "\"\"\"\n",
    "execute(connection,query,show=True)"
   ]
  },
  {
   "cell_type": "markdown",
   "metadata": {},
   "source": [
    "11. Pour chaque pays, le code du pays, le nombre de médailles en épreuve individuelle gagnées\n",
    "et le nombre d'athlètes ayant gagnés au moins une médaille. Ordonner par nombre de\n",
    "médailles décroissant. Aide : 2 tables seulement sont nécessaires.\n",
    "Résultats (24 lignes) : (NOR, 24,19) ; (NED,22,15) ; ..."
   ]
  },
  {
   "cell_type": "code",
   "execution_count": null,
   "metadata": {},
   "outputs": [],
   "source": [
    "query=\"\"\"\n",
    "select a.codePays, count(*), count(distinct a.aid)\n",
    "from Athlete a, RangIndividuel ri\n",
    "where a.aid=ri.aid and ri.rang <= 3\n",
    "group by a.codePays\n",
    "order by count(*) DESC\n",
    "\"\"\"\n",
    "execute(connection,query,show=True)"
   ]
  },
  {
   "cell_type": "markdown",
   "metadata": {},
   "source": []
  },
  {
   "cell_type": "markdown",
   "metadata": {},
   "source": [
    "12. Pour chaque pays et sport, le code du pays, le sid du sport, le nombre de médailles en\n",
    "épreuve individuelle gagnées, le nombre d'athlètes ayant gagnés au moins une médaille,\n",
    "ordonner d'abord par code pays, puis par nombre de médailles décroissant.\n",
    "Résultats (84 lignes) : (AUS,12,2,2); (AUS,15,1,1);(AUT,13,9,7);(AUT,15,2,2);..."
   ]
  },
  {
   "cell_type": "code",
   "execution_count": null,
   "metadata": {},
   "outputs": [],
   "source": [
    "query=\"\"\"\n",
    "select a.codePays, e.sid, count(*), count(distinct a.aid)\n",
    "from Athlete a, RangIndividuel ri, Epreuve e\n",
    "where a.aid=ri.aid and ri.rang <= 3 and e.epid = ri.epid\n",
    "group by a.codePays, e.sid\n",
    "order by a.codePays, count(*) DESC\n",
    "\"\"\"\n",
    "execute(connection,query,show=True)"
   ]
  },
  {
   "cell_type": "markdown",
   "metadata": {},
   "source": [
    "### Partitionnement avec « group by / having »\n",
    "\n",
    "13. L’eqid de la ou des équipes qui sont composées :\n",
    "a) d'exactement 10 athlètes. Résultat (1 ligne) : 226"
   ]
  },
  {
   "cell_type": "code",
   "execution_count": null,
   "metadata": {},
   "outputs": [],
   "source": [
    "query=\"\"\"\n",
    "select eqid\n",
    "from AthletesEquipe\n",
    "group by eqid\n",
    "having count(*) = 10\n",
    "\"\"\"\n",
    "execute(connection,query,show=True)"
   ]
  },
  {
   "cell_type": "markdown",
   "metadata": {},
   "source": [
    "b) du plus d’athlètes pour ces JO."
   ]
  },
  {
   "cell_type": "markdown",
   "metadata": {},
   "source": [
    "Résultats (3 lignes) : 164 ; 165 ; 166"
   ]
  },
  {
   "cell_type": "code",
   "execution_count": null,
   "metadata": {},
   "outputs": [],
   "source": [
    "query=\"\"\"\n",
    "select eqid from AthletesEquipe group by eqid\n",
    "having count(*) = (select max(cnt) \n",
    "                    from  (select count(*) as cnt \n",
    "                           from AthletesEquipe\n",
    "                           group by eqid\n",
    "                )) \n",
    "\"\"\"\n",
    "execute(connection,query,show=True)"
   ]
  },
  {
   "cell_type": "code",
   "execution_count": null,
   "metadata": {},
   "outputs": [],
   "source": [
    "query=\"\"\"\n",
    "select eqid from AthletesEquipe group by eqid\n",
    "having count(*) = (with R as (\n",
    "                        select count(*) as cnt \n",
    "                           from AthletesEquipe\n",
    "                           group by eqid )\n",
    "                   select max(cnt) from  R) \n",
    "\"\"\"\n",
    "execute(connection,query,show=True)"
   ]
  },
  {
   "cell_type": "code",
   "execution_count": null,
   "metadata": {},
   "outputs": [],
   "source": [
    "query=\"\"\"\n",
    "select eqid from AthletesEquipe group by eqid\n",
    "having count(*) >= ALL (select count(*) as cnt \n",
    "                    from AthletesEquipe\n",
    "                   group by eqid) \n",
    "\"\"\"\n",
    "execute(connection,query,show=True)"
   ]
  },
  {
   "cell_type": "markdown",
   "metadata": {},
   "source": [
    "14. Le nombre d'épreuves en individuel où il y a eu au moins 100 participants.\n",
    "Résultat (1 ligne ) : 2"
   ]
  },
  {
   "cell_type": "code",
   "execution_count": null,
   "metadata": {},
   "outputs": [],
   "source": [
    "query=\"\"\"\n",
    "select count(c) from (select count(*) as c from Epreuve e, RangIndividuel ri where\n",
    "e.epid=ri.epid group by e.epid having count(*) >= 100)\n",
    "\"\"\"\n",
    "execute(connection,query,show=True)"
   ]
  },
  {
   "cell_type": "code",
   "execution_count": null,
   "metadata": {},
   "outputs": [],
   "source": [
    "query=\"\"\"\n",
    "with R as (\n",
    "    select count(*) as c from Epreuve e, RangIndividuel ri \n",
    "    where e.epid=ri.epid \n",
    "    group by e.epid \n",
    "    having count(*) >= 100 \n",
    "    )\n",
    "select count(*) from R\n",
    "\"\"\"\n",
    "execute(connection,query,show=True)"
   ]
  },
  {
   "cell_type": "markdown",
   "metadata": {},
   "source": [
    "15. Le nom des pays qui ont gagné au moins 20 médailles aux épreuves individuelles.\n",
    "Résultats (3 lignes) : Pays-Bas ; États-Unis ; Norvège"
   ]
  },
  {
   "cell_type": "code",
   "execution_count": null,
   "metadata": {},
   "outputs": [],
   "source": [
    "query=\"\"\"\n",
    "select p.nomP\n",
    "from Athlete a, RangIndividuel ri, Pays p\n",
    "where a.aid = ri.aid and ri.rang <= 3 and a.codePays=p.codePays\n",
    "group by a.codePays, p.nomP\n",
    "having count(*) >= 20\n",
    "\"\"\"\n",
    "execute(connection,query,show=True)"
   ]
  },
  {
   "cell_type": "markdown",
   "metadata": {},
   "source": [
    "### Division en SQL"
   ]
  },
  {
   "cell_type": "markdown",
   "metadata": {},
   "source": [
    "16. Le sid des sports qui ont des épreuves dans toutes les catégories existantes.\n",
    "Résultats (3 lignes) : 1 ; 6 ; 7"
   ]
  },
  {
   "cell_type": "markdown",
   "metadata": {},
   "source": [
    "Principe : pour chaque épreuve, on compte le nombre de catégories, puis on regarde si il est\n",
    "égal au nombre total de catégories d’épreuves."
   ]
  },
  {
   "cell_type": "code",
   "execution_count": null,
   "metadata": {},
   "outputs": [],
   "source": [
    "query=\"\"\"\n",
    "select sid\n",
    "from Epreuve\n",
    "group by sid\n",
    "having count(distinct categorie) = (select count(distinct categorie) from Epreuve)\n",
    "\"\"\"\n",
    "execute(connection,query,show=True)"
   ]
  },
  {
   "cell_type": "code",
   "execution_count": null,
   "metadata": {},
   "outputs": [],
   "source": [
    "query=\"\"\"\n",
    "select sid\n",
    "from Sport s\n",
    "where not exists(select * from Epreuve e2\n",
    "where not exists(select * from Epreuve e3\n",
    "where e3.sid=s.sid and e3.categorie=e2.categorie))\n",
    "\"\"\"\n",
    "execute(connection,query,show=True)"
   ]
  },
  {
   "cell_type": "markdown",
   "metadata": {},
   "source": [
    "17. Le nom des pays qui ont participé aux épreuves en individuel de tous les sports en"
   ]
  },
  {
   "cell_type": "markdown",
   "metadata": {},
   "source": [
    "individuel. Résultats (3 lignes) : (Russie,12) ; (États-Unis,12) ; (Italie,12)"
   ]
  },
  {
   "cell_type": "code",
   "execution_count": null,
   "metadata": {},
   "outputs": [],
   "source": [
    "query=\"\"\"\n",
    "select distinct p.nomP, count(distinct e.sid )\n",
    "from Pays p, RangIndividuel ri, Athlete a, Epreuve e, Sport s\n",
    "where p.codePays=a.codePays and a.aid=ri.aid and e.epid=ri.epid and s.sid=e.sid\n",
    "group by p.codePays, p.nomP\n",
    "having count(distinct e.sid ) = (select count(distinct e2.sid)\n",
    "from Epreuve e2, RangIndividuel ri2\n",
    "where e2.epid=ri2.epid)\n",
    "\"\"\"\n",
    "execute(connection,query,show=True)"
   ]
  },
  {
   "cell_type": "markdown",
   "metadata": {},
   "source": [
    "## Requêtes avec paramètres"
   ]
  },
  {
   "cell_type": "code",
   "execution_count": null,
   "metadata": {},
   "outputs": [],
   "source": [
    "cursor=connection.cursor()\n",
    "cursor.execute(\"SELECT * FROM athlete WHERE aid=(%s)\", '1')\n",
    "print(cursor.fetchall())\n"
   ]
  },
  {
   "cell_type": "markdown",
   "metadata": {},
   "source": [
    "# TD et TME 8   "
   ]
  },
  {
   "cell_type": "markdown",
   "metadata": {},
   "source": [
    "## TD 8 Création de schémas (DDL)"
   ]
  },
  {
   "cell_type": "markdown",
   "metadata": {},
   "source": [
    "On considère le schéma Entreprise décrit ci-dessous.\n",
    "\n",
    "EMPLOYE (NumSS, NomE, PrenomE, NumChef*, VilleE, DateNaiss)\n",
    "\n",
    "PROJET(NumProj, NomProj, RespProj*, VilleP, Budget)\n",
    "\n",
    "EMBAUCHE (NumSS*, NumProj*, DateEmb, Profil*)\n",
    "\n",
    "GRILLE_SAL (Profil, salaire)\n",
    "\n",
    "La clé primaire de chaque relation est soulignée et les attributs des clés étrangères sont suivis d’un\n",
    "astérisque. Cette base contient des informations sur des employés et sur les projets dans lesquels ils\n",
    "sont impliqués. DateEnreg dans la table employe donne la date à laquelle l'employé a été enregistré\n",
    "dans la BD. Ces employés sont embauchés dans un projet sur un profil donné et perçoivent un\n",
    "salaire en fonction de ce profil. Le chef d'un employé dans la table Employé et le chef d'un projet\n",
    "dans la table Projet sont des employés. En plus des contraintes de clé et contraintes référentielles\n",
    "indiquées dans le schéma, on voudrait intégrer les contraintes suivantes :\n",
    "\n",
    "* Domaines\n",
    "    - Le numéro de sécurité sociale possède exactement 5 chiffres.\n",
    "    - Les attributs textuels (NomE, PrenomE, NomProj, Profil) ne dépassent pas 20 caractères (ils peuvent en avoir moins).\n",
    "    - La ville d’un employé (VillE) ou d’un projet (VilleP) se limite à 'Paris', 'Lyon' et 'Marseille' et sa longueur ne dépasse pas 9 caractères.\n",
    "    - Le numéro d’un projet varie entre 5 et 7 chiffres.\n",
    "    - Le salaire peut avoir deux chiffres après la virgule et ne dépasse pas 90 000.\n",
    "    - Le budget est un entier sur 6 chiffres (sans virgule)\n",
    "    - Aucun employé ne peut avoir plus de 70 ans au moment où il est enregistré dans la table Employé.\n",
    "\n",
    "* Clés\n",
    "    - Il n'y a pas deux employés avec le même nom et le même prénom.\n",
    "\n",
    "* Not-null\n",
    "    - Chaque projet doit avoir un responsable.\n",
    "    - Dans la table Embauche, NumSS; NumProj et Profil représentent un employé, un projet et un profil existant. \n"
   ]
  },
  {
   "cell_type": "markdown",
   "metadata": {},
   "source": [
    "### Donner en SQL les instructions de création des contraintes de domaines indiquées dans\n",
    "l'énoncé."
   ]
  },
  {
   "cell_type": "code",
   "execution_count": null,
   "metadata": {},
   "outputs": [],
   "source": [
    "connection = connect_H2(f\"employes{port}\",\"ba\",\"ba\",port)"
   ]
  },
  {
   "cell_type": "code",
   "execution_count": null,
   "metadata": {},
   "outputs": [],
   "source": [
    "execute(connection,\"drop all objects\")"
   ]
  },
  {
   "cell_type": "code",
   "execution_count": null,
   "metadata": {},
   "outputs": [],
   "source": [
    "query=\"\"\"\n",
    "/* Le numéro de sécurité sociale possède exactement 5 chiffres.*/\n",
    "drop domain dnumss if exists;\n",
    "create domain dnumss as numeric(5) check(length(value)=5)\n",
    "\"\"\"\n",
    "execute(connection,query)"
   ]
  },
  {
   "cell_type": "code",
   "execution_count": null,
   "metadata": {},
   "outputs": [],
   "source": [
    "query=\"\"\"\n",
    "/* Le numéro de sécurité sociale possède exactement 5 chiffres.*/\n",
    "drop domain dnumss if exists;\n",
    "create domain dnumss as numeric(5) check(value >=10000 and value < 100000)\n",
    "\"\"\"\n",
    "execute(connection,query)"
   ]
  },
  {
   "cell_type": "code",
   "execution_count": null,
   "metadata": {},
   "outputs": [],
   "source": [
    "query=\"\"\"\n",
    "/* Les attributs textuels (NomE, PrenomE, NomProj, Profil) ne dépassent pas 20 caractères (ils\n",
    "peuvent en avoir moins).*/\n",
    "drop domain dchaines if exists;\n",
    "create domain dchaines as varchar(20)\n",
    "\"\"\"\n",
    "execute(connection,query)"
   ]
  },
  {
   "cell_type": "code",
   "execution_count": null,
   "metadata": {},
   "outputs": [],
   "source": [
    "query=\"\"\"\n",
    "/* La ville d’un employé (VilleE) ou d’un projet (VilleP) se limite à 'Paris', 'Lyon' et 'Marseille' et\n",
    "sa longueur ne dépasse pas 9 caractères.*/\n",
    "drop domain dvilles if exists;\n",
    "create domain dvilles as varchar(9) check(lower(value) in ('paris','lyon','marseille'))\n",
    "\"\"\"\n",
    "execute(connection,query)"
   ]
  },
  {
   "cell_type": "code",
   "execution_count": null,
   "metadata": {},
   "outputs": [],
   "source": [
    "query=\"\"\"\n",
    "/*Le numéro d’un projet varie entre 5 et 7 chiffres.*/\n",
    "drop domain dnumproj if exists;\n",
    "create domain dnumproj as numeric(7) check (length(value)>=5);\n",
    "\n",
    "/* Le salaire peut avoir deux chiffres après la virgule et ne dépasse pas 90 000.*/\n",
    "drop domain dsal if exists;\n",
    "create domain dsal as numeric(7,2) check (value <=90000);\n",
    "\n",
    "/*Budget sur 6 chiffres*/\n",
    "drop domain dbudget if exists;\n",
    "create domain dbudget as numeric(6);\n",
    "\n",
    "/*Aucun employé ne peut avoir plus de 70 ans au moment où il est enregistré dans la table\n",
    "Employé.*/\n",
    "drop domain ddatenaiss if exists;\n",
    "create domain ddatenaiss as date check (datediff(year,value, current_date)<=70);\n",
    "\"\"\"\n",
    "execute(connection,query)\n"
   ]
  },
  {
   "cell_type": "code",
   "execution_count": null,
   "metadata": {},
   "outputs": [],
   "source": [
    "query=\"\"\"\n",
    "SELECT domain_name,check_clause \n",
    "FROM information_schema.domain_constraints a, information_schema.check_constraints b\n",
    "where a.constraint_name=b.constraint_name\n",
    "\"\"\"\n",
    "execute(connection,query)\n"
   ]
  },
  {
   "cell_type": "code",
   "execution_count": null,
   "metadata": {},
   "outputs": [],
   "source": [
    "query=\"\"\"\n",
    "SELECT a.table_name,a.column_name,a.data_type FROM information_schema.columns a, information_schema.tables b\n",
    "where a.table_name=b.table_name\n",
    "and lower(a.table_name)='embauche'\n",
    "\"\"\"\n",
    "execute(connection,query)\n"
   ]
  },
  {
   "cell_type": "markdown",
   "metadata": {},
   "source": [
    "### Donner en SQL les instructions de création du schéma de la base en leur associant les contraintes de clés, référentielles et de domaines indiquées dans l'énoncé."
   ]
  },
  {
   "cell_type": "code",
   "execution_count": null,
   "metadata": {},
   "outputs": [],
   "source": [
    "query=\"\"\"\n",
    "/*EMPLOYE (NumSS, NomE, PrenomE, NumChef*, VilleE, DateNaiss)*/\n",
    "create table Employe(\n",
    "    NumSS dnumss,\n",
    "    NomE dchaines,\n",
    "    PrenomE dchaines,\n",
    "    NumChef dnumss,\n",
    "    VilleE dvilles,\n",
    "    DateNaiss ddatenaiss,\n",
    "    /*contraintes de cle et referentielles*/\n",
    "    constraint pk_emp primary key (NumSS),\n",
    "    constraint fk_chef foreign key (numchef) references Employe,\n",
    "    constraint key_emp unique(NomE, PrenomE) )\n",
    "\"\"\"\n",
    "execute(connection,query)\n"
   ]
  },
  {
   "cell_type": "code",
   "execution_count": null,
   "metadata": {},
   "outputs": [],
   "source": [
    "query=\"\"\"\n",
    "/*PROJET(NumProj, NomProj, RespProj*, VilleP, Budget)*/\n",
    "create table Projet(\n",
    "NumProj dnumproj,\n",
    "NomProj dchaines,\n",
    "RespProj dnumss not null,\n",
    "VilleP dvilles,\n",
    "Budget dbudget,\n",
    "/*contraintes de cle et referentielles*/\n",
    "constraint pk_proj primary key(numproj),\n",
    "constraint fk_resp foreign key (RespProj) references Employe\n",
    ")\n",
    "\"\"\"\n",
    "execute(connection,query)\n",
    "\n",
    "\n"
   ]
  },
  {
   "cell_type": "code",
   "execution_count": null,
   "metadata": {},
   "outputs": [],
   "source": [
    "query=\"\"\"\n",
    "/*GRILLE_SAL (Profil, salaire)*/\n",
    "create table Grille_sal(\n",
    "profil dchaines,\n",
    "salaire dsal,\n",
    "    \n",
    "/*contraintes de cle et referentielles*/\n",
    "constraint pk_sal primary key (profil) )\n",
    "\"\"\"\n",
    "execute(connection,query)\n"
   ]
  },
  {
   "cell_type": "code",
   "execution_count": null,
   "metadata": {},
   "outputs": [],
   "source": [
    "query=\"\"\"\n",
    "/*EMBAUCHE (NumSS*, NumProj*, DateEmb, Profil*)*/\n",
    "create table Embauche(\n",
    "NumSS dnumss,\n",
    "NumProj dnumproj,\n",
    "DateEmb date,\n",
    "Profil dchaines not null,\n",
    "/*contraintes de cle et referentielles*/\n",
    "constraint pk_emb primary key (NumSS, NumProj),\n",
    "constraint fk_emb_emp foreign key (NumSS) references Employe,\n",
    "constraint fk_emb_proj foreign key (NumProj) references Projet,\n",
    "constraint fk_emb_sal foreign key (Profil) references Grille_sal\n",
    ")\n",
    "\"\"\"\n",
    "execute(connection,query)\n"
   ]
  },
  {
   "cell_type": "markdown",
   "metadata": {},
   "source": [
    "3. Un responsable de projet doit habiter la ville du projet dont il est responsable. Donner en\n",
    "SQL l'instruction permettant d’exprimer cette contrainte en considérant que la table projet a été créée/ Utiliser la commande "
   ]
  },
  {
   "cell_type": "markdown",
   "metadata": {},
   "source": [
    "      alter table <table> add constraint <nom><expression> "
   ]
  },
  {
   "cell_type": "code",
   "execution_count": null,
   "metadata": {},
   "outputs": [],
   "source": [
    "query=\"\"\"\n",
    "alter table PROJET add constraint resprojet check (respproj in (select numss from employe\n",
    "where villee = villep)) \n",
    "\"\"\"\n",
    "execute(connection,query)\n"
   ]
  },
  {
   "cell_type": "markdown",
   "metadata": {},
   "source": [
    "Commande utile: \n",
    "    "
   ]
  },
  {
   "cell_type": "code",
   "execution_count": null,
   "metadata": {},
   "outputs": [],
   "source": [
    "query=\"\"\"\n",
    "alter table PROJET drop constraint resprojet\n",
    "\"\"\"\n",
    "execute(connection,query)\n"
   ]
  },
  {
   "cell_type": "markdown",
   "metadata": {},
   "source": [
    "### Afficher le schéma"
   ]
  },
  {
   "cell_type": "code",
   "execution_count": null,
   "metadata": {},
   "outputs": [],
   "source": [
    "show_table(connection, 'employe')"
   ]
  },
  {
   "cell_type": "code",
   "execution_count": null,
   "metadata": {},
   "outputs": [],
   "source": [
    "show_schema(connection)"
   ]
  },
  {
   "cell_type": "code",
   "execution_count": null,
   "metadata": {},
   "outputs": [],
   "source": [
    "query=\"\"\"\n",
    "SELECT t.table_name,constraint_name \n",
    "FROM information_schema.table_constraints t\n",
    "\"\"\"\n",
    "execute(connection,query,show=True)"
   ]
  },
  {
   "cell_type": "code",
   "execution_count": null,
   "metadata": {},
   "outputs": [],
   "source": [
    "query=\"\"\"\n",
    "SELECT t.table_name,constraint_name,column_name,data_type \n",
    "FROM information_schema.table_constraints t, information_schema.columns c\n",
    "where t.table_name=c.table_name\n",
    "\"\"\"\n",
    "execute(connection,query,show=True)"
   ]
  },
  {
   "cell_type": "markdown",
   "metadata": {},
   "source": [
    "## TME 8 Modification de données (DML)"
   ]
  },
  {
   "cell_type": "markdown",
   "metadata": {},
   "source": [
    "Dans ce qui suit, il vous est demandé d'effectuer des insertions de n-uplets dans des tables."
   ]
  },
  {
   "cell_type": "markdown",
   "metadata": {},
   "source": [
    "Syntaxe des insertions :\n",
    "\n",
    "    insert into Table(attr1, attr2, ...) values ('val1', 'val2', ....)\n",
    "    insert into Table values ('val1', 'val2', ....) \n",
    "    insert into Table <requête>\n",
    "    "
   ]
  },
  {
   "cell_type": "markdown",
   "metadata": {},
   "source": [
    "Syntaxe des suppressions :\n",
    "\n",
    "    delete from table\n",
    "    delete from table where <cond>"
   ]
  },
  {
   "cell_type": "markdown",
   "metadata": {},
   "source": [
    "Syntaxe des mise à jour :\n",
    "\n",
    "    update table set attr = valeur where <cond>\n",
    "    update table set attr = <requete> where <cond>"
   ]
  },
  {
   "cell_type": "code",
   "execution_count": null,
   "metadata": {},
   "outputs": [],
   "source": [
    "connection = connect_H2(f\"employes{port}\",\"ba\",\"ba\",port)"
   ]
  },
  {
   "cell_type": "markdown",
   "metadata": {},
   "source": [
    "### Insérez dans chaque table au moins un n-uplet qui vérifie les contraintes d'intégrité. "
   ]
  },
  {
   "cell_type": "code",
   "execution_count": null,
   "metadata": {},
   "outputs": [],
   "source": [
    "query=\"\"\"\n",
    "insert into employe(NUMSS,NOME,PRENOME, VILLEE , DATENAISS ) values (12345, 'Smith', 'John', 'Paris', '1975-08-25' )\n",
    "\"\"\"\n",
    "execute(connection,query)"
   ]
  },
  {
   "cell_type": "markdown",
   "metadata": {},
   "source": [
    "### Proposez des insertions qui violent les contraintes d'intégrité définies pour chaque table."
   ]
  },
  {
   "cell_type": "code",
   "execution_count": null,
   "metadata": {},
   "outputs": [],
   "source": [
    "query=\"\"\"\n",
    "insert into employe values(null,'LARS', 'Anna',null,'paris', parsedatetime('25-08-1975', 'dd-MM-yyyy' ));\n",
    "\"\"\"\n",
    "execute(connection,query)"
   ]
  },
  {
   "cell_type": "markdown",
   "metadata": {},
   "source": [
    "Répondre aux questions suivantes :"
   ]
  },
  {
   "cell_type": "markdown",
   "metadata": {},
   "source": [
    "1. Proposer une insertion dans la table Employé qui ne respecte pas la contrainte de clé primaire."
   ]
  },
  {
   "cell_type": "code",
   "execution_count": null,
   "metadata": {},
   "outputs": [],
   "source": [
    "query=\"\"\"\n",
    "insert into employe (NumSS, NomE, prenomE, villeE, dateNaiss) \n",
    "   values (21456, 'DUPONT', 'Marc', 'paris', parsedatetime('12-01-1982', 'dd-MM-yyyy' )) ;\n",
    "insert into employe (NumSS, NomE, prenomE, villeE, dateNaiss) \n",
    "   values (21456, 'DUPOND', 'Pierre', 'paris', parsedatetime('12-01-1982', 'dd-MM-yyyy' )) ;\n",
    "\"\"\"\n",
    "execute(connection,query)"
   ]
  },
  {
   "cell_type": "markdown",
   "metadata": {},
   "source": [
    "2. Proposer une insertion dans la table Employe qui ne respecte pas la contrainte de limite d'âge."
   ]
  },
  {
   "cell_type": "code",
   "execution_count": null,
   "metadata": {},
   "outputs": [],
   "source": [
    "query=\"\"\"\n",
    "insert into employe\n",
    " (NumSS, NomE, prenomE, villeE, dateNaiss)\n",
    "values (45678, 'DUPONT', 'Marc', 'paris', parsedatetime('31-12-1944', 'dd-MM-yyyy' )) ;\n",
    "\"\"\"\n",
    "execute(connection,query)"
   ]
  },
  {
   "cell_type": "markdown",
   "metadata": {},
   "source": [
    "3. Proposer une insertion dans la table Employe qui ne respecte pas la contrainte de longueur de\n",
    "l'attribut NumSS."
   ]
  },
  {
   "cell_type": "code",
   "execution_count": null,
   "metadata": {},
   "outputs": [],
   "source": [
    "query=\"\"\"\n",
    "insert into employe\n",
    " (NumSS, NomE, prenomE, villeE, dateNaiss)\n",
    "values (456, 'DUPONT', 'Marc', 'paris', parsedatetime('12-01-1982', 'dd-MM-yyyy' )) ;\n",
    "\"\"\"\n",
    "execute(connection,query)"
   ]
  },
  {
   "cell_type": "markdown",
   "metadata": {},
   "source": [
    "4. Proposer une insertion dans la table Employe qui ne respecte pas la contrainte sur les villes\n",
    "possibles."
   ]
  },
  {
   "cell_type": "code",
   "execution_count": null,
   "metadata": {},
   "outputs": [],
   "source": [
    "query=\"\"\"\n",
    "insert into employe\n",
    " (NumSS, NomE, prenomE, villeE, dateNaiss)\n",
    "values (45689, 'DUPONT', 'Marc', 'rennes', parsedatetime('12-01-1982', 'dd-MM-yyyy' )) ;\n",
    "\"\"\"\n",
    "execute(connection,query)"
   ]
  },
  {
   "cell_type": "markdown",
   "metadata": {},
   "source": [
    "5. Insérer dans la table Employé deux employés avec le même nom et le même prénom."
   ]
  },
  {
   "cell_type": "code",
   "execution_count": null,
   "metadata": {},
   "outputs": [],
   "source": [
    "query=\"\"\"\n",
    "insert into employe (NumSS, NomE, prenomE, villeE, dateNaiss)\n",
    "values (45678, 'LO', 'Dan', 'paris', parsedatetime('31-12-1984', 'dd-MM-yyyy')) ;\n",
    "insert into employe (NumSS, NomE, prenomE, villeE, dateNaiss)\n",
    "values (90123, 'LO', 'Dan', 'lyon', parsedatetime('01-02-1994', 'dd-MM-yyyy' )) ;\n",
    "\"\"\"\n",
    "execute(connection,query)"
   ]
  },
  {
   "cell_type": "markdown",
   "metadata": {},
   "source": [
    "6. Proposer une insertion dans la table Grille_SAL qui ne respecte pas la contrainte sur le salaire\n",
    "qui ne doit pas dépasser 90 000."
   ]
  },
  {
   "cell_type": "code",
   "execution_count": null,
   "metadata": {},
   "outputs": [],
   "source": [
    "query=\"\"\"\n",
    "insert into\n",
    " Grille_sal values ('dev', 99000) ;\n",
    "\"\"\"\n",
    "execute(connection,query)"
   ]
  },
  {
   "cell_type": "markdown",
   "metadata": {},
   "source": [
    "7. Proposer une insertion dans la table Projet qui ne respecte pas la contrainte référentielle vers"
   ]
  },
  {
   "cell_type": "markdown",
   "metadata": {},
   "source": [
    "Employe : insérer un responsable de projet qui n'est pas dans la table Employé\n",
    "Insertion d'un projet avec pour responsable un employé avec numss = 97123 inexistant dans la\n",
    "table Employe\n",
    "\n",
    "Il est possible que la contrainte que le responsable soit dans la même ville est déclenchée. Vous pouvez enlever cette contrainte avec la commande :\n",
    "\n",
    "    alter table drop constraint \"nom de contrainte\"\n",
    "    \n",
    "Il faudrait la recréer après."
   ]
  },
  {
   "cell_type": "code",
   "execution_count": null,
   "metadata": {},
   "outputs": [],
   "source": [
    "query=\"\"\"\n",
    "alter table PROJET drop constraint resprojet\n",
    "\"\"\"\n",
    "execute(connection,query)\n"
   ]
  },
  {
   "cell_type": "code",
   "execution_count": null,
   "metadata": {},
   "outputs": [],
   "source": [
    "query=\"\"\"\n",
    "insert into Projet (numproj,nomproj,respproj)  values (123456,'infra', 97123) ;\n",
    "\"\"\"\n",
    "cursor=execute(connection,query)"
   ]
  },
  {
   "cell_type": "code",
   "execution_count": null,
   "metadata": {},
   "outputs": [],
   "source": [
    "query=\"\"\"\n",
    "alter table PROJET add constraint resprojet check (respproj in (select numss from employe\n",
    "where villee = villep)) \n",
    "\"\"\"\n",
    "execute(connection,query)\n"
   ]
  },
  {
   "cell_type": "markdown",
   "metadata": {},
   "source": [
    "8. Proposer une insertion dans la table Embauche qui ne respecte pas une des contraintes\n",
    "référentielles : par exemple, associer un employé existant à un projet qui n'existe pas."
   ]
  },
  {
   "cell_type": "code",
   "execution_count": null,
   "metadata": {},
   "outputs": [],
   "source": [
    "query=\"\"\"\n",
    "insert into employe (NumSS, NomE, prenomE, villeE, dateNaiss)\n",
    "       values (12345, 'DUPONT', 'Marc', 'paris', parsedatetime('12-01-1982', 'dd-MM-yyyy')) ;\n",
    "insert into EMBAUCHE  values (12007, 45678, current_date,'Responsable');\n",
    "\"\"\"\n",
    "execute(connection,query)"
   ]
  },
  {
   "cell_type": "markdown",
   "metadata": {},
   "source": [
    "# TD et TME 9 Création de schémas et modifications de données (DDL et DML)"
   ]
  },
  {
   "cell_type": "markdown",
   "metadata": {},
   "source": [
    "### Villes et Pays"
   ]
  },
  {
   "cell_type": "markdown",
   "metadata": {},
   "source": [
    "On veut créer un schéma relationnel pour stocker des informations sur des villes et des pays."
   ]
  },
  {
   "cell_type": "markdown",
   "metadata": {},
   "source": [
    "#### 1. Traduisez le schéma relationnel suivant en instructions SQL:\n",
    "\n",
    "    Ville(nom, population, pays*)\n",
    "    Pays(nom, capitale*)\n",
    "\n",
    "où pays est une référence vers un pays dans la table Pays et capitale est une référence vers une ville dans la table Ville."
   ]
  },
  {
   "cell_type": "code",
   "execution_count": null,
   "metadata": {},
   "outputs": [],
   "source": [
    "connection = connect_H2(f\"villes{port}\",\"ba\",\"ba\",port)"
   ]
  },
  {
   "cell_type": "code",
   "execution_count": null,
   "metadata": {},
   "outputs": [],
   "source": [
    "execute(connection,\"drop all objects\")"
   ]
  },
  {
   "cell_type": "code",
   "execution_count": null,
   "metadata": {},
   "outputs": [],
   "source": [
    "query=\"\"\"\n",
    "create table Ville(\n",
    "nom varchar(32) primary key,\n",
    "population numeric(10),\n",
    "pays varchar(32)\n",
    ");\n",
    "create table Pays(\n",
    "nom varchar(32) primary key,\n",
    "capitale varchar(32)\n",
    ");\n",
    "alter table Ville add constraint fk_pays foreign key (pays) references Pays(nom) ;\n",
    "alter table Pays add constraint fk_ville foreign key (capitale) references Ville(nom) ;\n",
    "\"\"\"\n",
    "execute(connection,query)\n"
   ]
  },
  {
   "cell_type": "markdown",
   "metadata": {},
   "source": [
    "#### Insérez la France avec sa capitale Paris (3 millions d'habitants) dans la base de données."
   ]
  },
  {
   "cell_type": "code",
   "execution_count": null,
   "metadata": {},
   "outputs": [],
   "source": [
    "query=\"\"\"\n",
    "insert into Ville values('Paris', 3000000, null);\n",
    "insert into Pays values('France', 'Paris');\n",
    "update Ville set pays = 'France' where nom = 'Paris';\n",
    "\"\"\"\n",
    "cursor=execute(connection,query)"
   ]
  },
  {
   "cell_type": "markdown",
   "metadata": {},
   "source": [
    "autre solution :"
   ]
  },
  {
   "cell_type": "code",
   "execution_count": null,
   "metadata": {},
   "outputs": [],
   "source": [
    "query=\"\"\"\n",
    "alter table Ville SET REFERENTIAL_INTEGRITY false ;\n",
    "insert into Ville values('Paris', 3000000, 'France');\n",
    "insert into Pays values('France', 'Paris');\n",
    "alter table Ville SET REFERENTIAL_INTEGRITY true ;\n",
    "\"\"\"\n",
    "cursor=execute(connection,query)\n"
   ]
  },
  {
   "cell_type": "code",
   "execution_count": null,
   "metadata": {},
   "outputs": [],
   "source": [
    "query=\"\"\"\n",
    "select * from Pays\n",
    "\"\"\"\n",
    "execute(connection,query,show=True)"
   ]
  },
  {
   "cell_type": "code",
   "execution_count": null,
   "metadata": {},
   "outputs": [],
   "source": [
    "query=\"\"\"\n",
    "select * from Ville\n",
    "\"\"\"\n",
    "execute(connection,query,show=True)"
   ]
  },
  {
   "cell_type": "markdown",
   "metadata": {},
   "source": [
    "#### Modifiez le schéma de telle manière que la suppression d'un pays déclenche automatiquement la suppression de toutes les villes du pays.\n",
    "                                             "
   ]
  },
  {
   "cell_type": "code",
   "execution_count": null,
   "metadata": {},
   "outputs": [],
   "source": [
    "query=\"\"\"\n",
    "alter table Ville drop constraint fk_pays;\n",
    "alter table Ville add constraint fk_pays foreign key (pays) references Pays(nom) on delete\n",
    "cascade ;\n",
    "\n",
    "alter table Pays drop constraint fk_ville;\n",
    "alter table Pays add\n",
    "constraint fk_pays_capitale foreign key (capitale) references Ville(nom)\n",
    "on update restrict ON DELETE CASCADE;\n",
    "\"\"\"\n",
    "execute(connection,query)\n",
    "\n"
   ]
  },
  {
   "cell_type": "code",
   "execution_count": null,
   "metadata": {},
   "outputs": [],
   "source": [
    "query=\"\"\"\n",
    "delete from Pays;\n",
    "select * from Pays\n",
    "\"\"\"\n",
    "execute(connection,query,show=True)"
   ]
  },
  {
   "cell_type": "code",
   "execution_count": null,
   "metadata": {},
   "outputs": [],
   "source": [
    "query=\"\"\"\n",
    "select * from Ville\n",
    "\"\"\"\n",
    "execute(connection,query,show=True)"
   ]
  },
  {
   "cell_type": "markdown",
   "metadata": {},
   "source": [
    "#### Effacez les deux tables Ville et Pays du schéma."
   ]
  },
  {
   "cell_type": "code",
   "execution_count": null,
   "metadata": {},
   "outputs": [],
   "source": [
    "query=\"\"\"\n",
    "alter table Ville drop constraint fk_pays if exists;\n",
    "drop table Pays if exists;\n",
    "drop table Ville;\n",
    "\"\"\"\n",
    "execute(connection,query)\n"
   ]
  },
  {
   "cell_type": "markdown",
   "metadata": {},
   "source": [
    "### Arbres ordonnées"
   ]
  },
  {
   "cell_type": "markdown",
   "metadata": {},
   "source": [
    "Voici une table Arbre qui permet de stocker des arbres ordonnés dans une base de données\n",
    "relationnelle:"
   ]
  },
  {
   "cell_type": "code",
   "execution_count": null,
   "metadata": {},
   "outputs": [],
   "source": [
    "connection = connect_H2(f\"arbres{port}\",\"ba\",\"ba\",port)"
   ]
  },
  {
   "cell_type": "code",
   "execution_count": null,
   "metadata": {},
   "outputs": [],
   "source": [
    "query=\"\"\"\n",
    "drop table Arbre if exists;\n",
    "create table Arbre(\n",
    "    id numeric(10),\n",
    "    par numeric(10),\n",
    "    pos numeric(2),\n",
    "    constraint pk primary key (id),\n",
    "    constraint fk foreign key (par) references Arbre (id));\n",
    "\"\"\"\n",
    "execute(connection,query)\n"
   ]
  },
  {
   "cell_type": "markdown",
   "metadata": {},
   "source": [
    "- id est l'identifiant du nœud,\n",
    "- par est l'identifiant du parent,\n",
    "- pos est la position parmi les enfants ;"
   ]
  },
  {
   "cell_type": "markdown",
   "metadata": {},
   "source": [
    "#### Inserez l'arbre binaire (1(2(4,5),3(6,7(8,9))))) dans la base de données."
   ]
  },
  {
   "cell_type": "code",
   "execution_count": null,
   "metadata": {},
   "outputs": [],
   "source": [
    "query=\"\"\"\n",
    "delete from Arbre;\n",
    "insert into Arbre values (1,NULL,0);\n",
    "insert into Arbre values (2,1,0);\n",
    "insert into Arbre values (3,1,1);\n",
    "insert into Arbre values (4,2,0);\n",
    "insert into Arbre values (5,2,1);\n",
    "insert into Arbre values (6,3,0);\n",
    "insert into Arbre values (7,3,1);\n",
    "insert into Arbre values (8,7,0);\n",
    "insert into Arbre values (9,7,1);\n",
    "select * from Arbre\n",
    "\"\"\"\n",
    "execute(connection,query,show=True)\n"
   ]
  },
  {
   "cell_type": "code",
   "execution_count": null,
   "metadata": {},
   "outputs": [],
   "source": [
    "query=\"\"\"\n",
    "delete from Arbre where par=7;\n",
    "delete from Arbre where par=3;\n",
    "delete from Arbre where id=3;\n",
    "\"\"\"\n",
    "execute(connection,query)\n"
   ]
  },
  {
   "cell_type": "markdown",
   "metadata": {},
   "source": [
    "#### Comment faut il modifier le schéma pour empêcher qu'un noeud a deux enfants à la même position?"
   ]
  },
  {
   "cell_type": "code",
   "execution_count": null,
   "metadata": {},
   "outputs": [],
   "source": [
    "query=\"\"\"\n",
    "alter table Arbre add constraint position_unique unique (par, pos);\n",
    "\"\"\"\n",
    "execute(connection,query)\n",
    "\n"
   ]
  },
  {
   "cell_type": "code",
   "execution_count": null,
   "metadata": {},
   "outputs": [],
   "source": [
    "query=\"\"\"\n",
    "delete from Arbre where par=2;\n",
    "delete from Arbre where id=2\n",
    "\"\"\"\n",
    "execute(connection,query)"
   ]
  },
  {
   "cell_type": "markdown",
   "metadata": {},
   "source": [
    "#### Effacez le sous-arbre 3(6,7(8,9)) de la base de données."
   ]
  },
  {
   "cell_type": "code",
   "execution_count": null,
   "metadata": {},
   "outputs": [],
   "source": [
    "query=\"\"\"\n",
    "delete from Arbre where par=7;\n",
    "delete from Arbre where par=3;\n",
    "delete from Arbre where id=3\n",
    "\"\"\"\n",
    "execute(connection,query)\n"
   ]
  },
  {
   "cell_type": "markdown",
   "metadata": {},
   "source": [
    "#### Est-ce que l'instruction suivante est possible sur l'arbre initial (avant l'effacement) ?"
   ]
  },
  {
   "cell_type": "code",
   "execution_count": null,
   "metadata": {},
   "outputs": [],
   "source": [
    "query=\"\"\"\n",
    "delete from Arbre where id=3\n",
    "\"\"\"\n",
    "execute(connection,query)"
   ]
  },
  {
   "cell_type": "code",
   "execution_count": null,
   "metadata": {},
   "outputs": [],
   "source": [
    "query=\"\"\"\n",
    "select * from Arbre\n",
    "\"\"\"\n",
    "execute(connection,query,show=True)"
   ]
  },
  {
   "cell_type": "markdown",
   "metadata": {},
   "source": [
    "#### Comment peut-on modifier le schéma pour effacer le sous-arbre avec l'instruction précédente ?"
   ]
  },
  {
   "cell_type": "code",
   "execution_count": null,
   "metadata": {},
   "outputs": [],
   "source": [
    "query=\"\"\"\n",
    "alter table Arbre drop constraint fk ;\n",
    "alter table Arbre add constraint fk foreign key (par) references Arbre (id) on delete cascade;\n",
    "\"\"\"\n",
    "execute(connection,query)"
   ]
  },
  {
   "cell_type": "markdown",
   "metadata": {},
   "source": [
    "#### Est-ce qu'il est possible de modifier l'identifiant d'un nœud ? "
   ]
  },
  {
   "cell_type": "markdown",
   "metadata": {},
   "source": [
    "#### Comment peut-on modifier le schéma pour permettre l'instruction précédente ?"
   ]
  },
  {
   "cell_type": "code",
   "execution_count": null,
   "metadata": {},
   "outputs": [],
   "source": [
    "query=\"\"\"\n",
    "alter table Arbre drop constraint fk ;\n",
    "alter table Arbre add constraint fk foreign key (par) references Arbre(id)\n",
    "on update cascade on delete cascade;\n",
    "update Arbre set id=15 where id=3;\n",
    "select * from Arbre\n",
    "\"\"\"\n",
    "execute(connection,query,show=True)"
   ]
  },
  {
   "cell_type": "markdown",
   "metadata": {},
   "source": [
    "#### Quel est le résultat des instructions suivantes (sur l'arbre initial):"
   ]
  },
  {
   "cell_type": "code",
   "execution_count": null,
   "metadata": {},
   "outputs": [],
   "source": [
    "query=\"\"\"\n",
    "alter table Arbre drop constraint fk ;\n",
    "alter table Arbre add constraint fk foreign key (par) references Arbre(id)\n",
    "on delete set null;\n",
    "delete from Arbre where id=3;\n",
    "select * from Arbre\n",
    "\"\"\"\n",
    "execute(connection,query,show=True)"
   ]
  },
  {
   "cell_type": "markdown",
   "metadata": {},
   "source": [
    "# Fermer la connexion"
   ]
  },
  {
   "cell_type": "code",
   "execution_count": 188,
   "metadata": {},
   "outputs": [],
   "source": [
    "connection.commit() # implicit avec close\n",
    "connection.close()"
   ]
  },
  {
   "cell_type": "code",
   "execution_count": null,
   "metadata": {},
   "outputs": [],
   "source": [
    "connection"
   ]
  },
  {
   "cell_type": "code",
   "execution_count": null,
   "metadata": {},
   "outputs": [],
   "source": []
  }
 ],
 "metadata": {
  "kernelspec": {
   "display_name": "Python 3",
   "language": "python",
   "name": "python3"
  },
  "language_info": {
   "codemirror_mode": {
    "name": "ipython",
    "version": 3
   },
   "file_extension": ".py",
   "mimetype": "text/x-python",
   "name": "python",
   "nbconvert_exporter": "python",
   "pygments_lexer": "ipython3",
   "version": "3.10.12"
  },
  "toc-autonumbering": true,
  "toc-showcode": false,
  "toc-showmarkdowntxt": false,
  "toc-showtags": false
 },
 "nbformat": 4,
 "nbformat_minor": 4
}
