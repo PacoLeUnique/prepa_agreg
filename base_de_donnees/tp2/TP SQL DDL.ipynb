{
 "cells": [
  {
   "cell_type": "markdown",
   "metadata": {
    "id": "zHpjYeKDK_P9",
    "tags": []
   },
   "source": [
    "# TP SQL Agrégation Informatique\n",
    "\n",
    "date du document: 23 septembre 2024\n",
    "\n",
    "Le système utilisé pendant les TME est H2.\n",
    "\n",
    "- Connectez-vous à l'environnement Jupyterhub de Capsule  (section TMEs Jupyter Notebook)\n",
    "- Importez le fichier TD_TP_4_ETUDIANTS.ipynb dans votre environnement  (flèche vers le haut en haut à gauche)\n",
    "- Sélectionnez le Kernel (Python [conda env:pyspark])\n",
    "- Le schéma correspondant à la base du fichier bd-jo-v2-H2.sql se trouve dans le fichier jo_v2_diagram.pdf\n",
    "\n",
    "\n",
    "Alternatives si problème d'utilisation de Jupyterhub de Capsule:\n",
    "\n",
    "- Installer et exécuter le serveur H2 en local (voir le documentation la documentation SGBD H2)\n",
    "- Télécharger les fichiers du TME dans un répertoire local et lancer jupyter-lab ou jupyter-notebook en local (installer  java si besoin), il n'y a pas de kernel pyspark dans ce cas\n"
   ]
  },
  {
   "cell_type": "code",
   "execution_count": null,
   "metadata": {},
   "outputs": [],
   "source": []
  },
  {
   "cell_type": "code",
   "execution_count": 2,
   "metadata": {
    "tags": []
   },
   "outputs": [
    {
     "name": "stdout",
     "output_type": "stream",
     "text": [
      "Defaulting to user installation because normal site-packages is not writeable\n",
      "Requirement already satisfied: psycopg2-binary in /home/paco/.local/lib/python3.10/site-packages (2.9.9)\n",
      "Note: you may need to restart the kernel to use updated packages.\n"
     ]
    }
   ],
   "source": [
    "pip install psycopg2-binary"
   ]
  },
  {
   "cell_type": "code",
   "execution_count": 3,
   "metadata": {
    "tags": []
   },
   "outputs": [],
   "source": [
    "# executer uniquemement sur jupyterhub Moodle\n",
    "# pip install pyspark"
   ]
  },
  {
   "cell_type": "markdown",
   "metadata": {},
   "source": [
    "**Relancez le kernel**: Kernel -> Restart kernel ..."
   ]
  },
  {
   "cell_type": "markdown",
   "metadata": {},
   "source": [
    "Télécharger les pilote PostgreSQL et H2"
   ]
  },
  {
   "cell_type": "code",
   "execution_count": 4,
   "metadata": {
    "tags": []
   },
   "outputs": [
    {
     "name": "stdout",
     "output_type": "stream",
     "text": [
      "--2024-09-30 18:19:52--  https://nuage.lip6.fr/s/LqD9N23kxrfHopr/download?path=agreg/postgresql-42.6.0.jar\n",
      "Résolution de nuage.lip6.fr (nuage.lip6.fr)… 132.227.201.11\n",
      "Connexion à nuage.lip6.fr (nuage.lip6.fr)|132.227.201.11|:443… connecté.\n",
      "requête HTTP transmise, en attente de la réponse… 200 OK\n",
      "Taille : 1081604 (1,0M) [application/octet-stream]\n",
      "Enregistre : ‘postgresql-42.6.0.jar’\n",
      "\n",
      "postgresql-42.6.0.j 100%[===================>]   1,03M  --.-KB/s    ds 0,09s   \n",
      "\n",
      "2024-09-30 18:19:52 (11,6 MB/s) - ‘postgresql-42.6.0.jar’ enregistré [1081604/1081604]\n",
      "\n",
      "--2024-09-30 18:19:52--  https://nuage.lip6.fr/s/LqD9N23kxrfHopr/download?path=agreg/h2-2.1.214.jar\n",
      "Résolution de nuage.lip6.fr (nuage.lip6.fr)… 132.227.201.11\n",
      "Connexion à nuage.lip6.fr (nuage.lip6.fr)|132.227.201.11|:443… connecté.\n",
      "requête HTTP transmise, en attente de la réponse… 200 OK\n",
      "Taille : 2543011 (2,4M) [application/octet-stream]\n",
      "Enregistre : ‘h2-2.1.214.jar’\n",
      "\n",
      "h2-2.1.214.jar      100%[===================>]   2,42M  13,8MB/s    ds 0,2s    \n",
      "\n",
      "2024-09-30 18:19:53 (13,8 MB/s) - ‘h2-2.1.214.jar’ enregistré [2543011/2543011]\n",
      "\n"
     ]
    }
   ],
   "source": [
    "!wget https://nuage.lip6.fr/s/LqD9N23kxrfHopr/download?path=agreg/postgresql-42.6.0.jar -O postgresql-42.6.0.jar\n",
    "!wget https://nuage.lip6.fr/s/LqD9N23kxrfHopr/download?path=agreg/h2-2.1.214.jar -O h2-2.1.214.jar"
   ]
  },
  {
   "cell_type": "markdown",
   "metadata": {
    "tags": []
   },
   "source": [
    "## Fonctions utiles"
   ]
  },
  {
   "cell_type": "markdown",
   "metadata": {},
   "source": [
    "## connect_H2"
   ]
  },
  {
   "cell_type": "code",
   "execution_count": 1,
   "metadata": {},
   "outputs": [],
   "source": [
    "def connect_H2(db,user,password,port=5435):\n",
    "    global connection\n",
    "    try:\n",
    "        connection\n",
    "    except:\n",
    "        connection = None\n",
    "    if connection != None:\n",
    "        try:\n",
    "            connection.close()\n",
    "            print(\"Connection closed\")\n",
    "        except  Error as e:\n",
    "            print(f\"The error '{e}' occurred\")\n",
    "    try:\n",
    "        # connection = sqlite3.connect(path,isolation_level='DEFERRED')\n",
    "        connection = psycopg2.connect(f\"dbname={db} user={user} password={password} host=localhost port={port}\")\n",
    "        print(\"Connection to H2 DB successful\")\n",
    "    except Exception as e:\n",
    "        print(f\"The error '{e}' occurred\")\n",
    "    return connection"
   ]
  },
  {
   "cell_type": "markdown",
   "metadata": {},
   "source": [
    "## execute"
   ]
  },
  {
   "cell_type": "code",
   "execution_count": 2,
   "metadata": {},
   "outputs": [],
   "source": [
    "def execute(connection, query, show=True,close=True):\n",
    "    try:\n",
    "        cursor = connection.cursor()\n",
    "        cursor.execute(query)\n",
    "        print(cursor.rowcount,\"rows\")\n",
    "        if show and cursor.rowcount and cursor.description is not None:\n",
    "            names = [desc[0] for desc in cursor.description]\n",
    "            lengths={}\n",
    "            for attr in names:\n",
    "                lengths[attr]=len(attr)\n",
    "            for ligne in cursor:\n",
    "                i=0\n",
    "                for attr in ligne:\n",
    "                    lengths[names[i]]=max(lengths[names[i]],len(str(attr).replace('\\n',' ')))\n",
    "                    i=i+1\n",
    "            print('|',end='')\n",
    "            for attr in names:\n",
    "                print(str(attr).ljust(lengths[attr]),end='|')\n",
    "            print()\n",
    "            print('|',end='')\n",
    "            for attr in names:\n",
    "                print(''.ljust(lengths[attr]+1,'-'),end='')\n",
    "            print()\n",
    "            cursor.execute(query)\n",
    "            for ligne in cursor:\n",
    "                i=0\n",
    "                print('|',end='')\n",
    "                for attr in ligne:\n",
    "                    print(str(attr).replace('\\n',' ')[:lengths[names[i]]].ljust(lengths[names[i]]),end='|')\n",
    "                    i=i+1\n",
    "                print()\n",
    "        if close:\n",
    "            cursor.close()\n",
    "    except Exception as e:\n",
    "        print(f\"The error '{e}' occurred\")\n",
    "        cursor=None\n",
    "    return cursor"
   ]
  },
  {
   "cell_type": "markdown",
   "metadata": {},
   "source": [
    "## show table"
   ]
  },
  {
   "cell_type": "code",
   "execution_count": 3,
   "metadata": {},
   "outputs": [],
   "source": [
    "def show_table(connection,table_name):\n",
    "\n",
    "    query=f\"\"\"\n",
    "SELECT table_name,\n",
    "       column_name,\n",
    "       data_type,\n",
    "       column_default,\n",
    "       is_nullable,\n",
    "       character_maximum_length,\n",
    "       numeric_precision\n",
    "FROM information_schema.columns \n",
    "where lower(table_name)  = '{table_name}'  \n",
    "\"\"\"\n",
    "    execute(connection,query)\n",
    "    "
   ]
  },
  {
   "cell_type": "markdown",
   "metadata": {},
   "source": [
    "## show_schema"
   ]
  },
  {
   "cell_type": "code",
   "execution_count": 4,
   "metadata": {},
   "outputs": [],
   "source": [
    "def show_schema(connection):\n",
    "\n",
    "    print('*********** Tables ************')\n",
    "    query=\"\"\"\n",
    "    select TABLE_NAME\n",
    "    from INFORMATION_SCHEMA.TABLES \n",
    "    where TABLE_SCHEMA = 'public'\n",
    "    \"\"\"\n",
    "    execute(connection,query,show=True)\n",
    "\n",
    "    print('\\n\\n*********** Domaines ************')\n",
    "    query=\"\"\"\n",
    "    SELECT domain_name,check_clause \n",
    "    FROM information_schema.domain_constraints a, information_schema.check_constraints b\n",
    "    where a.constraint_name=b.constraint_name\n",
    "    \"\"\"\n",
    "    execute(connection,query)\n",
    "\n",
    "    print('\\n\\n*********** Attributs ************')\n",
    "    query=f\"\"\"\n",
    "    SELECT c.table_name,\n",
    "           c.column_name,\n",
    "           c.data_type,\n",
    "           c.column_default,\n",
    "           c.is_nullable,\n",
    "           c.character_maximum_length,\n",
    "           c.numeric_precision\n",
    "    FROM INFORMATION_SCHEMA.TABLES t, information_schema.columns c\n",
    "    where t.table_name=c.table_name\n",
    "    and t.TABLE_SCHEMA = 'public'\n",
    "    \"\"\"\n",
    "    execute(connection,query)\n",
    "    "
   ]
  },
  {
   "cell_type": "markdown",
   "metadata": {
    "id": "hsCZZv8lmbBK"
   },
   "source": [
    "## Démarrer le serveur SQL H2"
   ]
  },
  {
   "cell_type": "code",
   "execution_count": 5,
   "metadata": {
    "id": "uYFrmROKQRhM",
    "tags": []
   },
   "outputs": [
    {
     "name": "stdout",
     "output_type": "stream",
     "text": [
      "La commande java est: java\n",
      "Le numero du port du serveur H2 est: 5010\n",
      "Les fichiers dans ./data:\n",
      "   arbres5010.mv.db\n",
      "   employes5010.mv.db\n",
      "   jo5008.mv.db\n",
      "   jo5010.mv.db\n",
      "   villes5010.mv.db\n"
     ]
    }
   ],
   "source": [
    "import psycopg2\n",
    "import os\n",
    "import subprocess\n",
    "\n",
    "\n",
    "local_dir = \"./data\"\n",
    "os.makedirs(local_dir, exist_ok=True)\n",
    "\n",
    "# binaire java : décommenter sur jupyterhub Moodle\n",
    "# java='/opt/tljh/user/envs/pyspark/bin/java'\n",
    "java='java'\n",
    "\n",
    "# chaque utilisateur doit avoir un port différent!\n",
    "port = 5010\n",
    "\n",
    "print(f'La commande java est: {java}')\n",
    "print(f'Le numero du port du serveur H2 est: {port}')\n",
    "print(f'Les fichiers dans {local_dir}:')\n",
    "for f in os.listdir(local_dir):\n",
    "    print(f'   {f}')"
   ]
  },
  {
   "cell_type": "code",
   "execution_count": 6,
   "metadata": {
    "tags": []
   },
   "outputs": [
    {
     "name": "stdout",
     "output_type": "stream",
     "text": [
      "openjdk 11.0.24 2024-07-16\n",
      "OpenJDK Runtime Environment (build 11.0.24+8-post-Ubuntu-1ubuntu322.04)\n",
      "OpenJDK 64-Bit Server VM (build 11.0.24+8-post-Ubuntu-1ubuntu322.04, mixed mode, sharing)\n",
      "\n"
     ]
    }
   ],
   "source": [
    "output=subprocess.run(f'{java} --version',shell=True, text=True, stdout=subprocess.PIPE).stdout\n",
    "print(output)"
   ]
  },
  {
   "cell_type": "code",
   "execution_count": 7,
   "metadata": {
    "tags": []
   },
   "outputs": [
    {
     "name": "stdout",
     "output_type": "stream",
     "text": [
      "Serveur H2 en marche\n"
     ]
    }
   ],
   "source": [
    "# Défnir le port pour le serveur H2\n",
    "cmd=f\"{java} -Dh2.bindAddress=127.0.0.1  -cp  h2-2.1.214.jar:postgresql-42.6.0.jar org.h2.tools.Server -pg -pgPort {port}  -baseDir ./data -ifNotExists\"\n",
    "proc=subprocess.Popen(cmd,\n",
    "                      shell=True,\n",
    "                      text=True,\n",
    "                      stdout=subprocess.PIPE,\n",
    "                      stderr=subprocess.PIPE, \n",
    "                      )\n",
    "try:\n",
    "    outs, errs = proc.communicate(timeout=1)\n",
    "    print(errs)\n",
    "except :\n",
    "    print(\"Serveur H2 en marche\")"
   ]
  },
  {
   "cell_type": "code",
   "execution_count": 8,
   "metadata": {
    "tags": []
   },
   "outputs": [
    {
     "name": "stdout",
     "output_type": "stream",
     "text": [
      "Connection to H2 DB successful\n"
     ]
    }
   ],
   "source": [
    "connection =  connect_H2(\"employes\"+f'{port}',\"ba\",\"ba\",port)"
   ]
  },
  {
   "cell_type": "markdown",
   "metadata": {
    "id": "qD_nzTALVYlf"
   },
   "source": [
    "# Manipulation de données : SQL DDL et DML\n",
    "\n",
    "Les exercices suivantes correspondent aux chapitres correspondants dans les documents\n",
    "*poly-TD-etudiants-2023.pdf* et *poly-TME-etudiants-2023.pdf*\n",
    "sur Moodle."
   ]
  },
  {
   "cell_type": "markdown",
   "metadata": {
    "id": "zBRndOPPVrcb"
   },
   "source": [
    "## TD8 CREATION DE SCHEMAS- CONTRAINTES D'INTEGRITE"
   ]
  },
  {
   "cell_type": "markdown",
   "metadata": {
    "id": "qhHeNz-iK_QB"
   },
   "source": [
    "\n",
    "\n",
    "On considère le schéma Entreprise décrit ci-dessous.\n",
    "\n",
    "EMPLOYE (NumSS, NomE, PrenomE, NumChef*, VilleE, DateNaiss)\n",
    "\n",
    "PROJET(NumProj, NomProj, RespProj*, VilleP, Budget)\n",
    "\n",
    "EMBAUCHE (NumSS*, NumProj*, DateEmb, Profil*)\n",
    "\n",
    "GRILLE_SAL (Profil, salaire)\n",
    "\n",
    "La clé primaire de chaque relation est soulignée et les attributs des clés étrangères sont suivis d’un\n",
    "astérisque. Cette base contient des informations sur des employés et sur les projets dans lesquels ils\n",
    "sont impliqués. DateEnreg dans la table employe donne la date à laquelle l'employé a été enregistré\n",
    "dans la BD. Ces employés sont embauchés dans un projet sur un profil donné et perçoivent un\n",
    "salaire en fonction de ce profil. Le chef d'un employé dans la table Employé et le chef d'un projet\n",
    "dans la table Projet sont des employés. En plus des contraintes de clé et contraintes référentielles\n",
    "indiquées dans le schéma, on voudrait intégrer les contraintes suivantes :\n",
    "\n",
    "* Domaines\n",
    "    - Le numéro de sécurité sociale possède exactement 5 chiffres.\n",
    "    - Les attributs textuels (NomE, PrenomE, NomProj, Profil) ne dépassent pas 20 caractères (ils peuvent en avoir moins).\n",
    "    - La ville d’un employé (VillE) ou d’un projet (VilleP) se limite à 'Paris', 'Lyon' et 'Marseille' et sa longueur ne dépasse pas 9 caractères.\n",
    "    - Le numéro d’un projet varie entre 5 et 7 chiffres.\n",
    "    - Le salaire peut avoir deux chiffres après la virgule et ne dépasse pas 90 000.\n",
    "    - Le budget est un entier sur 6 chiffres (sans virgule)\n",
    "    - Aucun employé ne peut avoir plus de 70 ans au moment où il est enregistré dans la table Employé.\n",
    "\n",
    "* Clés\n",
    "    - Il n'y a pas deux employés avec le même nom et le même prénom.\n",
    "\n",
    "* Not-null\n",
    "    - Chaque projet doit avoir un responsable.\n",
    "    - Dans la table Embauche, NumSS; NumProj et Profil représentent un employé, un projet et un profil existant.\n"
   ]
  },
  {
   "cell_type": "markdown",
   "metadata": {
    "id": "00mRiA73K_QB"
   },
   "source": [
    "#### Donner en SQL les instructions de création des contraintes de domaines indiquées dans l'énoncé."
   ]
  },
  {
   "cell_type": "code",
   "execution_count": 13,
   "metadata": {
    "id": "And0zODlK_QC",
    "tags": []
   },
   "outputs": [
    {
     "name": "stdout",
     "output_type": "stream",
     "text": [
      "0 rows\n"
     ]
    },
    {
     "data": {
      "text/plain": [
       "<cursor object at 0x754adb552b60; closed: -1>"
      ]
     },
     "execution_count": 13,
     "metadata": {},
     "output_type": "execute_result"
    }
   ],
   "source": [
    "execute(connection,\"drop all objects\")"
   ]
  },
  {
   "cell_type": "code",
   "execution_count": 14,
   "metadata": {
    "id": "qc0wptxuK_QC",
    "tags": []
   },
   "outputs": [
    {
     "name": "stdout",
     "output_type": "stream",
     "text": [
      "0 rows\n"
     ]
    },
    {
     "data": {
      "text/plain": [
       "<cursor object at 0x754adb550f40; closed: -1>"
      ]
     },
     "execution_count": 14,
     "metadata": {},
     "output_type": "execute_result"
    }
   ],
   "source": [
    "query=\"\"\"\n",
    "/* Le numéro de sécurité sociale possède exactement 5 chiffres.*/\n",
    "drop domain dnumss if exists;\n",
    "create domain dnumss as  varchar(5)\n",
    "\"\"\"\n",
    "execute(connection,query)"
   ]
  },
  {
   "cell_type": "code",
   "execution_count": 15,
   "metadata": {
    "tags": []
   },
   "outputs": [
    {
     "name": "stdout",
     "output_type": "stream",
     "text": [
      "1 rows\n",
      "|domain_catalog|domain_schema|domain_name|data_type        |character_maximum_length|character_octet_length|character_set_catalog|character_set_schema|character_set_name|collation_catalog|collation_schema|collation_name|numeric_precision|numeric_precision_radix|numeric_scale|datetime_precision|interval_type|interval_precision|domain_default|maximum_cardinality|dtd_identifier|declared_data_type|declared_numeric_precision|declared_numeric_scale|geometry_type|geometry_srid|domain_on_update|parent_domain_catalog|parent_domain_schema|parent_domain_name|remarks|\n",
      "|---------------------------------------------------------------------------------------------------------------------------------------------------------------------------------------------------------------------------------------------------------------------------------------------------------------------------------------------------------------------------------------------------------------------------------------------------------------------------------------------------------------------------------------------------------------------------------\n",
      "|employes5010  |public       |dnumss     |CHARACTER VARYING|5                       |5                     |employes5010         |public              |Unicode           |employes5010     |public          |OFF           |None             |None                   |None         |None              |None         |None              |None          |None               |TYPE          |None              |None                      |None                  |None         |None         |None            |None                 |None                |None              |None   |\n"
     ]
    },
    {
     "data": {
      "text/plain": [
       "<cursor object at 0x754adb551120; closed: -1>"
      ]
     },
     "execution_count": 15,
     "metadata": {},
     "output_type": "execute_result"
    }
   ],
   "source": [
    "execute(connection,\"select * from information_schema.domains\")"
   ]
  },
  {
   "cell_type": "code",
   "execution_count": 16,
   "metadata": {
    "id": "GJDia4KfK_QC",
    "tags": []
   },
   "outputs": [
    {
     "name": "stdout",
     "output_type": "stream",
     "text": [
      "0 rows\n"
     ]
    },
    {
     "data": {
      "text/plain": [
       "<cursor object at 0x754adb552020; closed: -1>"
      ]
     },
     "execution_count": 16,
     "metadata": {},
     "output_type": "execute_result"
    }
   ],
   "source": [
    "query=\"\"\"\n",
    "/* Les attributs textuels (NomE, PrenomE, NomProj, Profil) ne dépassent pas 20 caractères (ils\n",
    "peuvent en avoir moins).*/\n",
    "drop domain dchaines if exists;\n",
    "create domain dchaines as  varchar(20);\n",
    "\"\"\"\n",
    "execute(connection,query)"
   ]
  },
  {
   "cell_type": "code",
   "execution_count": 17,
   "metadata": {
    "id": "RG0fmAcsK_QC",
    "tags": []
   },
   "outputs": [
    {
     "name": "stdout",
     "output_type": "stream",
     "text": [
      "0 rows\n",
      "*********** Tables ************\n",
      "0 rows\n",
      "\n",
      "\n",
      "*********** Domaines ************\n",
      "1 rows\n",
      "|domain_name|check_clause                          |\n",
      "|---------------------------------------------------\n",
      "|dvilles    |VALUE IN('Paris', 'Lyon', 'Marseille')|\n",
      "\n",
      "\n",
      "*********** Attributs ************\n",
      "0 rows\n"
     ]
    }
   ],
   "source": [
    "query=\"\"\"\n",
    "/* La ville d’un employé (VilleE) ou d’un projet (VilleP) se limite à 'Paris', 'Lyon' et 'Marseille' et\n",
    "sa longueur ne dépasse pas 9 caractères.*/\n",
    "drop domain dvilles if exists;\n",
    "CREATE DOMAIN dvilles as  VARCHAR(9)\n",
    "CHECK VALUE IN ('Paris', 'Lyon', 'Marseille');\n",
    "\"\"\"\n",
    "execute(connection,query)\n",
    "show_schema(connection)"
   ]
  },
  {
   "cell_type": "code",
   "execution_count": 18,
   "metadata": {
    "id": "R4Msxey7K_QC",
    "tags": []
   },
   "outputs": [
    {
     "name": "stdout",
     "output_type": "stream",
     "text": [
      "0 rows\n",
      "*********** Tables ************\n",
      "0 rows\n",
      "\n",
      "\n",
      "*********** Domaines ************\n",
      "4 rows\n",
      "|domain_name|check_clause                                               |\n",
      "|------------------------------------------------------------------------\n",
      "|dsal       |VALUE <= 90000.00                                          |\n",
      "|ddatenaiss |DATEDIFF(YEAR, VALUE, CURRENT_DATE) <= 70                  |\n",
      "|dvilles    |VALUE IN('Paris', 'Lyon', 'Marseille')                     |\n",
      "|dnumproj   |(CHAR_LENGTH(VALUE) >= 5)     AND (CHAR_LENGTH(VALUE) <= 7)|\n",
      "\n",
      "\n",
      "*********** Attributs ************\n",
      "0 rows\n"
     ]
    }
   ],
   "source": [
    "query=\"\"\"\n",
    "/*Le numéro d’un projet varie entre 5 et 7 chiffres.*/\n",
    "drop domain dnumproj if exists;\n",
    "create domain dnumproj as NUMERIC(7)\n",
    "CHECK (LENGTH(VALUE) >= 5 AND LENGTH(VALUE) <= 7);\n",
    "\n",
    "\n",
    "/* Le salaire peut avoir deux chiffres après la virgule et ne dépasse pas 90 000.*/\n",
    "drop domain dsal if exists;\n",
    "create domain dsal as NUMERIC(7,2)\n",
    "CHECK VALUE <= 90000.00;\n",
    "\n",
    "/*Budget sur 6 chiffres*/\n",
    "drop domain dbudget if exists;\n",
    "create domain dbudget as NUMERIC(6,0);\n",
    "\n",
    "/*Aucun employé ne peut avoir plus de 70 ans au moment où il est enregistré dans la table\n",
    "Employé.*/\n",
    "drop domain ddatenaiss if exists;\n",
    "create domain ddatenaiss as DATE\n",
    "CHECK (datediff(year, VALUE, CURRENT_DATE) <= 70);\n",
    "\"\"\"\n",
    "execute(connection,query)\n",
    "show_schema(connection)\n"
   ]
  },
  {
   "cell_type": "markdown",
   "metadata": {
    "id": "Tb2N2-b0K_QC"
   },
   "source": [
    "### Donner en SQL les instructions de création du schéma de la base en leur associant les contraintes de clés, référentielles et de domaines indiquées dans l'énoncé."
   ]
  },
  {
   "cell_type": "code",
   "execution_count": 19,
   "metadata": {
    "id": "eRUNvSL9K_QC",
    "tags": []
   },
   "outputs": [
    {
     "name": "stdout",
     "output_type": "stream",
     "text": [
      "0 rows\n"
     ]
    },
    {
     "data": {
      "text/plain": [
       "<cursor object at 0x754adb551e40; closed: -1>"
      ]
     },
     "execution_count": 19,
     "metadata": {},
     "output_type": "execute_result"
    }
   ],
   "source": [
    "query=\"\"\"\n",
    "/*EMPLOYE (NumSS, NomE, PrenomE, NumChef*, VilleE, DateNaiss)*/\n",
    "create table Employe(\n",
    "    NumSS dnumss PRIMARY KEY,\n",
    "    NomE TEXT,\n",
    "    PrenomE TEXT,\n",
    "    NumChef dnumss,\n",
    "    VilleE dvilles,\n",
    "    DateNaiss ddatenaiss,\n",
    "\n",
    "    FOREIGN KEY (NumChef) REFERENCES Employe(NumSS),\n",
    "    UNIQUE (NomE, PrenomE)\n",
    ")\n",
    "\"\"\"\n",
    "execute(connection,query)\n"
   ]
  },
  {
   "cell_type": "code",
   "execution_count": 20,
   "metadata": {
    "id": "t_M_AYEOK_QC",
    "tags": []
   },
   "outputs": [
    {
     "name": "stdout",
     "output_type": "stream",
     "text": [
      "0 rows\n"
     ]
    },
    {
     "data": {
      "text/plain": [
       "<cursor object at 0x754adb5527a0; closed: -1>"
      ]
     },
     "execution_count": 20,
     "metadata": {},
     "output_type": "execute_result"
    }
   ],
   "source": [
    "query=\"\"\"\n",
    "/*PROJET(NumProj, NomProj, RespProj*, VilleP, Budget)*/\n",
    "create table Projet(\n",
    "    NumProj dnumproj PRIMARY KEY, \n",
    "    NomProj TEXT, \n",
    "    RespProj dnumss NOT NULL,\n",
    "    VilleP dvilles,\n",
    "    Budget dbudget,\n",
    "\n",
    "    FOREIGN KEY (RespProj) REFERENCES Employe(NumSS)\n",
    ")\n",
    "\"\"\"\n",
    "execute(connection,query)\n",
    "\n",
    "\n"
   ]
  },
  {
   "cell_type": "code",
   "execution_count": 21,
   "metadata": {
    "id": "uKGV_oUGK_QC",
    "tags": []
   },
   "outputs": [
    {
     "name": "stdout",
     "output_type": "stream",
     "text": [
      "0 rows\n"
     ]
    },
    {
     "data": {
      "text/plain": [
       "<cursor object at 0x754adb552d40; closed: -1>"
      ]
     },
     "execution_count": 21,
     "metadata": {},
     "output_type": "execute_result"
    }
   ],
   "source": [
    "query=\"\"\"\n",
    "/*GRILLE_SAL (Profil, salaire)*/\n",
    "create table Grille_sal(\n",
    "    Profil TEXT PRIMARY KEY,\n",
    "    Salaire dsal    \n",
    ")\n",
    "\"\"\"\n",
    "execute(connection,query)\n"
   ]
  },
  {
   "cell_type": "code",
   "execution_count": 22,
   "metadata": {
    "id": "yLCmY7wCK_QD",
    "tags": []
   },
   "outputs": [
    {
     "name": "stdout",
     "output_type": "stream",
     "text": [
      "0 rows\n"
     ]
    },
    {
     "data": {
      "text/plain": [
       "<cursor object at 0x754adb552c50; closed: -1>"
      ]
     },
     "execution_count": 22,
     "metadata": {},
     "output_type": "execute_result"
    }
   ],
   "source": [
    "query=\"\"\"\n",
    "/*EMBAUCHE (NumSS*, NumProj*, DateEmb, Profil*)*/\n",
    "create table Embauche(\n",
    "    NumSS dnumss,\n",
    "    NumProj dnumproj,\n",
    "    DateEmb DATE,\n",
    "    Profil TEXT,\n",
    "\n",
    "    PRIMARY KEY (NumSS, NumProj),\n",
    "    FOREIGN KEY (NumSS) REFERENCES Employe(NumSS),\n",
    "    FOREIGN KEY (NumProj) REFERENCES Projet(NumProj),\n",
    "    FOREIGN KEY (Profil) REFERENCES Grille_sal(Profil)\n",
    ")\n",
    "\"\"\"\n",
    "execute(connection,query)\n"
   ]
  },
  {
   "cell_type": "markdown",
   "metadata": {
    "id": "EYwe7iOaK_QD"
   },
   "source": [
    "3. Un responsable de projet doit habiter la ville du projet dont il est responsable. Donner en\n",
    "SQL l'instruction permettant d’exprimer cette contrainte en considérant que la table projet a été créée/ Utiliser la commande"
   ]
  },
  {
   "cell_type": "markdown",
   "metadata": {
    "id": "kU5xGOTuK_QD"
   },
   "source": [
    "      alter table <table> add constraint <nom><expression>"
   ]
  },
  {
   "cell_type": "code",
   "execution_count": 23,
   "metadata": {
    "id": "kcMnMlSnK_QD",
    "tags": []
   },
   "outputs": [
    {
     "name": "stdout",
     "output_type": "stream",
     "text": [
      "0 rows\n"
     ]
    },
    {
     "data": {
      "text/plain": [
       "<cursor object at 0x754adb5532e0; closed: -1>"
      ]
     },
     "execution_count": 23,
     "metadata": {},
     "output_type": "execute_result"
    }
   ],
   "source": [
    "query=\"\"\"\n",
    "alter table Projet add constraint RespProjer\n",
    "check (VilleP = \n",
    "            (SELECT VilleE from Employe WHERE Projet.RespProj = Employe.NumSS))\n",
    "\"\"\"\n",
    "execute(connection,query)\n"
   ]
  },
  {
   "cell_type": "markdown",
   "metadata": {
    "id": "2v_XcSj_K_QD"
   },
   "source": [
    "Commande utile:\n",
    "    "
   ]
  },
  {
   "cell_type": "code",
   "execution_count": 24,
   "metadata": {
    "id": "BSXHwrp6K_QD"
   },
   "outputs": [
    {
     "name": "stdout",
     "output_type": "stream",
     "text": [
      "The error 'Contrainte \"resprojet\" non trouvée\n",
      "Constraint \"resprojet\" not found; SQL statement:\n",
      "\n",
      "alter table PROJET drop constraint resproje [90057-214]\n",
      "DETAIL:  org.h2.jdbc.JdbcSQLSyntaxErrorException: Contrainte \"resprojet\" non trouvée\n",
      "Constraint \"resprojet\" not found; SQL statement:\n",
      "\n",
      "alter table PROJET drop constraint resproje [90057-214]\n",
      "' occurred\n"
     ]
    }
   ],
   "source": [
    "query=\"\"\"\n",
    "alter table PROJET drop constraint resprojet\n",
    "\"\"\"\n",
    "execute(connection,query)\n"
   ]
  },
  {
   "cell_type": "markdown",
   "metadata": {
    "id": "CaBMZBPgK_QE"
   },
   "source": [
    "## TME8 CREATION DE SCHEMAS- CONTRAINTES D'INTEGRITE\n",
    "\n",
    "Dans ce qui suit, il vous est demandé d'effectuer des insertions de n-uplets dans des tables.\n",
    "\n",
    "Syntaxe des insertions :\n",
    "\n",
    "    insert into Table(attr1, attr2, ...) values ('val1', 'val2', ....)\n",
    "    insert into Table values ('val1', 'val2', ....)\n",
    "    insert into Table <requête>\n",
    "    \n",
    "\n",
    "Syntaxe des suppressions :\n",
    "\n",
    "    delete from table\n",
    "    delete from table where <cond>\n",
    "\n",
    "Syntaxe des mise à jour :\n",
    "\n",
    "    upate table set attr = valeur where <cond>\n",
    "    upate table set attr = <requete> where <cond>"
   ]
  },
  {
   "cell_type": "code",
   "execution_count": 25,
   "metadata": {
    "id": "j3AIVT4VK_QE"
   },
   "outputs": [
    {
     "name": "stdout",
     "output_type": "stream",
     "text": [
      "Connection closed\n",
      "Connection to H2 DB successful\n"
     ]
    }
   ],
   "source": [
    "connection = connect_H2(f\"employes{port}\",\"ba\",\"ba\",port)"
   ]
  },
  {
   "cell_type": "markdown",
   "metadata": {
    "id": "8hS7GgYkK_QF"
   },
   "source": [
    "### Insérez dans chaque table au moins un n-uplet qui vérifie les contraintes d'intégrité."
   ]
  },
  {
   "cell_type": "code",
   "execution_count": 26,
   "metadata": {
    "id": "nTL21QqgK_QF"
   },
   "outputs": [
    {
     "name": "stdout",
     "output_type": "stream",
     "text": [
      "0 rows\n"
     ]
    },
    {
     "data": {
      "text/plain": [
       "<cursor object at 0x754adb551f30; closed: -1>"
      ]
     },
     "execution_count": 26,
     "metadata": {},
     "output_type": "execute_result"
    }
   ],
   "source": [
    "query=\"\"\"\n",
    "/*insert into employe(NUMSS,NOME,PRENOME, VILLEE , DATENAISS ) values (12345, 'Smith', 'John', 'Paris', '1975-08-25' );*/\n",
    "/*insert into projet values (123456,'Tah le projet de FOU', 12345, 'Paris', 750000);*/\n",
    "/*insert into grille_sal values('Ingénieur Bomboclaat', 60000.25);*/\n",
    "/*insert into embauche values (12345, 123456, '2019-01-01', 'Ingénieur Bomboclaat');*/\n",
    "\"\"\"\n",
    "execute(connection,query)"
   ]
  },
  {
   "cell_type": "markdown",
   "metadata": {
    "id": "KsI24jkpK_QF"
   },
   "source": [
    "### Proposez des insertions qui violent les contraintes d'intégrité définies pour chaque table."
   ]
  },
  {
   "cell_type": "markdown",
   "metadata": {
    "id": "ACzmN6UBK_QF"
   },
   "source": [
    "1. Proposer une insertion dans la table Employé qui ne respecte pas la contrainte de clé primaire."
   ]
  },
  {
   "cell_type": "code",
   "execution_count": 27,
   "metadata": {
    "id": "_ekIMzU8K_QF"
   },
   "outputs": [
    {
     "name": "stdout",
     "output_type": "stream",
     "text": [
      "1 rows\n"
     ]
    },
    {
     "data": {
      "text/plain": [
       "<cursor object at 0x754adb552e30; closed: -1>"
      ]
     },
     "execution_count": 27,
     "metadata": {},
     "output_type": "execute_result"
    }
   ],
   "source": [
    "query=\"\"\"\n",
    "/*insert into employe (NumSS, NomE, prenomE, villeE, dateNaiss)\n",
    "   values (21456, 'DUPONT', 'Marc', 'Paris', parsedatetime('12-01-1982', 'dd-MM-yyyy' )) ; */\n",
    "insert into employe (NumSS, NomE, prenomE, villeE, dateNaiss)\n",
    "   values (21456, 'GROSCACA', 'Edouard', 'Paris', '1977-05-14')\n",
    "\"\"\"\n",
    "execute(connection,query)"
   ]
  },
  {
   "cell_type": "markdown",
   "metadata": {
    "id": "KtxlP51UK_QF"
   },
   "source": [
    "2. Proposer une insertion dans la table Employe qui ne respecte pas la contrainte de limite d'âge."
   ]
  },
  {
   "cell_type": "code",
   "execution_count": 28,
   "metadata": {
    "id": "gYQjfTcqK_QI"
   },
   "outputs": [
    {
     "name": "stdout",
     "output_type": "stream",
     "text": [
      "The error 'Vérifiez la violation de contrainte: \"(DATEDIFF(YEAR, VALUE, CURRENT_DATE) <= 70)\"\n",
      "Check constraint violation: \"(DATEDIFF(YEAR, VALUE, CURRENT_DATE) <= 70)\"; SQL statement:\n",
      "\n",
      "insert into employe \n",
      "values (47035, 'GROSPROUT', 'Mireille', 00000, 'Paris', '1840-04-28' [23513-214]\n",
      "DETAIL:  org.h2.jdbc.JdbcSQLIntegrityConstraintViolationException: Vérifiez la violation de contrainte: \"(DATEDIFF(YEAR, VALUE, CURRENT_DATE) <= 70)\"\n",
      "Check constraint violation: \"(DATEDIFF(YEAR, VALUE, CURRENT_DATE) <= 70)\"; SQL statement:\n",
      "\n",
      "insert into employe \n",
      "values (47035, 'GROSPROUT', 'Mireille', 00000, 'Paris', '1840-04-28' [23513-214]\n",
      "' occurred\n"
     ]
    }
   ],
   "source": [
    "query=\"\"\"\n",
    "insert into employe \n",
    "values (47035, 'GROSPROUT', 'Mireille', 00000, 'Paris', '1840-04-28')\n",
    "\"\"\"\n",
    "execute(connection,query)"
   ]
  },
  {
   "cell_type": "markdown",
   "metadata": {
    "id": "Y3XlChCZK_QI"
   },
   "source": [
    "3. Proposer une insertion dans la table Employe qui ne respecte pas la contrainte de longueur de\n",
    "l'attribut NumSS."
   ]
  },
  {
   "cell_type": "code",
   "execution_count": 29,
   "metadata": {
    "id": "KZcaQCU2K_QJ"
   },
   "outputs": [
    {
     "name": "stdout",
     "output_type": "stream",
     "text": [
      "The error 'Valeur trop longue pour la colonne \"numss CHARACTER VARYING(5)\": \"22222222222222 (64)\"\n",
      "Value too long for column \"numss CHARACTER VARYING(5)\": \"22222222222222 (64)\"; SQL statement:\n",
      "\n",
      "insert into employe \n",
      "values (22222222222222, 'DeBZ', 'Chokbarinho', 00000, 'Paris', '2002-01-30' [22001-214]\n",
      "DETAIL:  org.h2.jdbc.JdbcSQLDataException: Valeur trop longue pour la colonne \"numss CHARACTER VARYING(5)\": \"22222222222222 (64)\"\n",
      "Value too long for column \"numss CHARACTER VARYING(5)\": \"22222222222222 (64)\"; SQL statement:\n",
      "\n",
      "insert into employe \n",
      "values (22222222222222, 'DeBZ', 'Chokbarinho', 00000, 'Paris', '2002-01-30' [22001-214]\n",
      "' occurred\n"
     ]
    }
   ],
   "source": [
    "query=\"\"\"\n",
    "insert into employe \n",
    "values (22222222222222, 'DeBZ', 'Chokbarinho', 00000, 'Paris', '2002-01-30')\n",
    "\"\"\"\n",
    "execute(connection,query)"
   ]
  },
  {
   "cell_type": "markdown",
   "metadata": {
    "id": "PGPGN_V7K_QJ"
   },
   "source": [
    "4. Proposer une insertion dans la table Employe qui ne respecte pas la contrainte sur les villes\n",
    "possibles."
   ]
  },
  {
   "cell_type": "code",
   "execution_count": 30,
   "metadata": {
    "id": "hyr0e8OaK_QJ"
   },
   "outputs": [
    {
     "name": "stdout",
     "output_type": "stream",
     "text": [
      "The error 'Vérifiez la violation de contrainte: \"(VALUE IN('Paris', 'Lyon', 'Marseille'))\"\n",
      "Check constraint violation: \"(VALUE IN('Paris', 'Lyon', 'Marseille'))\"; SQL statement:\n",
      "\n",
      "insert into employe\n",
      "values (78046, 'Matuidi', 'Blaise', 00000, 'Les Ulis', '1995-06-30' [23513-214]\n",
      "DETAIL:  org.h2.jdbc.JdbcSQLIntegrityConstraintViolationException: Vérifiez la violation de contrainte: \"(VALUE IN('Paris', 'Lyon', 'Marseille'))\"\n",
      "Check constraint violation: \"(VALUE IN('Paris', 'Lyon', 'Marseille'))\"; SQL statement:\n",
      "\n",
      "insert into employe\n",
      "values (78046, 'Matuidi', 'Blaise', 00000, 'Les Ulis', '1995-06-30' [23513-214]\n",
      "' occurred\n"
     ]
    }
   ],
   "source": [
    "query=\"\"\"\n",
    "insert into employe\n",
    "values (78046, 'Matuidi', 'Blaise', 00000, 'Les Ulis', '1995-06-30')\n",
    "\"\"\"\n",
    "execute(connection,query)"
   ]
  },
  {
   "cell_type": "markdown",
   "metadata": {
    "id": "Q4F-dt_7K_QJ"
   },
   "source": [
    "6. Proposer une insertion dans la table Grille_SAL qui ne respecte pas la contrainte sur le salaire\n",
    "qui ne doit pas dépasser 90 000."
   ]
  },
  {
   "cell_type": "code",
   "execution_count": 31,
   "metadata": {
    "id": "s8fsAl5KK_QJ"
   },
   "outputs": [
    {
     "name": "stdout",
     "output_type": "stream",
     "text": [
      "The error 'Valeur trop longue pour la colonne \"salaire NUMERIC(7, 2)\": \"35000000 (32)\"\n",
      "Value too long for column \"salaire NUMERIC(7, 2)\": \"35000000 (32)\"; SQL statement:\n",
      "\n",
      "insert into  Grille_sal \n",
      "values ('Mesureur de bazouzou', 35000000 [22001-214]\n",
      "DETAIL:  org.h2.jdbc.JdbcSQLDataException: Valeur trop longue pour la colonne \"salaire NUMERIC(7, 2)\": \"35000000 (32)\"\n",
      "Value too long for column \"salaire NUMERIC(7, 2)\": \"35000000 (32)\"; SQL statement:\n",
      "\n",
      "insert into  Grille_sal \n",
      "values ('Mesureur de bazouzou', 35000000 [22001-214]\n",
      "' occurred\n"
     ]
    }
   ],
   "source": [
    "query=\"\"\"\n",
    "insert into  Grille_sal \n",
    "values ('Mesureur de bazouzou', 35000000)\n",
    "\"\"\"\n",
    "execute(connection,query)"
   ]
  },
  {
   "cell_type": "markdown",
   "metadata": {
    "id": "BfAgh51gK_QJ"
   },
   "source": [
    "7. Proposer une insertion dans la table Projet qui ne respecte pas la contrainte référentielle vers Employe."
   ]
  },
  {
   "cell_type": "code",
   "execution_count": 32,
   "metadata": {
    "id": "3jWpUDVsK_QJ"
   },
   "outputs": [
    {
     "name": "stdout",
     "output_type": "stream",
     "text": [
      "The error 'Intégrité référentielle violation de contrainte: \"CONSTRAINT_C5: public.projet FOREIGN KEY(respproj) REFERENCES public.employe(numss) ('80000')\"\n",
      "Referential integrity constraint violation: \"CONSTRAINT_C5: public.projet FOREIGN KEY(respproj) REFERENCES public.employe(numss) ('80000')\"; SQL statement:\n",
      "\n",
      "insert into Projet values (011456, 'Projet tous les choquer', 80000, 'Lyon', 550420 [23506-214]\n",
      "DETAIL:  org.h2.jdbc.JdbcSQLIntegrityConstraintViolationException: Intégrité référentielle violation de contrainte: \"CONSTRAINT_C5: public.projet FOREIGN KEY(respproj) REFERENCES public.employe(numss) ('80000')\"\n",
      "Referential integrity constraint violation: \"CONSTRAINT_C5: public.projet FOREIGN KEY(respproj) REFERENCES public.employe(numss) ('80000')\"; SQL statement:\n",
      "\n",
      "insert into Projet values (011456, 'Projet tous les choquer', 80000, 'Lyon', 550420 [23506-214]\n",
      "' occurred\n"
     ]
    }
   ],
   "source": [
    "query=\"\"\"\n",
    "insert into Projet values (011456, 'Projet tous les choquer', 80000, 'Lyon', 550420)\n",
    "\"\"\"\n",
    "cursor=execute(connection,query)"
   ]
  },
  {
   "cell_type": "markdown",
   "metadata": {
    "id": "4JlhNAwsK_QJ"
   },
   "source": [
    "8. Proposer une insertion dans la table Embauche qui ne respecte pas une des contraintes\n",
    "référentielles."
   ]
  },
  {
   "cell_type": "code",
   "execution_count": 33,
   "metadata": {
    "id": "yKEloLOdK_QJ"
   },
   "outputs": [
    {
     "name": "stdout",
     "output_type": "stream",
     "text": [
      "The error 'Intégrité référentielle violation de contrainte: \"CONSTRAINT_2EA: public.embauche FOREIGN KEY(numss) REFERENCES public.employe(numss) ('12345')\"\n",
      "Referential integrity constraint violation: \"CONSTRAINT_2EA: public.embauche FOREIGN KEY(numss) REFERENCES public.employe(numss) ('12345')\"; SQL statement:\n",
      "\n",
      "insert into embauche values (12345, 820652, '2024-01-02', 'Mesureur de zizi' [23506-214]\n",
      "DETAIL:  org.h2.jdbc.JdbcSQLIntegrityConstraintViolationException: Intégrité référentielle violation de contrainte: \"CONSTRAINT_2EA: public.embauche FOREIGN KEY(numss) REFERENCES public.employe(numss) ('12345')\"\n",
      "Referential integrity constraint violation: \"CONSTRAINT_2EA: public.embauche FOREIGN KEY(numss) REFERENCES public.employe(numss) ('12345')\"; SQL statement:\n",
      "\n",
      "insert into embauche values (12345, 820652, '2024-01-02', 'Mesureur de zizi' [23506-214]\n",
      "' occurred\n"
     ]
    }
   ],
   "source": [
    "query=\"\"\"\n",
    "insert into embauche values (12345, 820652, '2024-01-02', 'Mesureur de zizi')\n",
    "\n",
    "\"\"\"\n",
    "execute(connection,query)"
   ]
  },
  {
   "cell_type": "markdown",
   "metadata": {
    "id": "3HyPG6wGK_QK"
   },
   "source": [
    "## TD9 CREATION DES SCHEMAS - MODIFICATION DES DONNEES.\n",
    "\n",
    "### Villes et Pays\n",
    "\n",
    "On veut créer un schéma relationnel pour stocker des informations sur des villes et des pays.\n",
    "\n",
    "#### 1. Traduisez le schéma relationnel suivant en instructions SQL:\n",
    "\n",
    "    Ville(nom, population, pays*)\n",
    "    Pays(nom, capitale*)\n",
    "\n",
    "où pays est une référence vers un pays dans la table Pays et capitale est une référence vers une ville dans la table Ville."
   ]
  },
  {
   "cell_type": "code",
   "execution_count": 30,
   "metadata": {
    "id": "iexfYIugK_QK"
   },
   "outputs": [
    {
     "name": "stdout",
     "output_type": "stream",
     "text": [
      "Connection closed\n",
      "Connection to H2 DB successful\n"
     ]
    }
   ],
   "source": [
    "connection = connect_H2(f\"villes{port}\",\"ba\",\"ba\",port)"
   ]
  },
  {
   "cell_type": "code",
   "execution_count": 31,
   "metadata": {
    "id": "wF4vz3UgK_QK"
   },
   "outputs": [
    {
     "name": "stdout",
     "output_type": "stream",
     "text": [
      "0 rows\n"
     ]
    },
    {
     "data": {
      "text/plain": [
       "<cursor object at 0x79eea0225e40; closed: -1>"
      ]
     },
     "execution_count": 31,
     "metadata": {},
     "output_type": "execute_result"
    }
   ],
   "source": [
    "query=\"\"\"\n",
    "drop all objects;\n",
    "create table Ville(\n",
    "    nomV VARCHAR(50) UNIQUE,\n",
    "    population INT,\n",
    "    pays VARCHAR(50),\n",
    "\n",
    "    primary key (nomV, pays)\n",
    ");\n",
    "create table Pays(\n",
    "    nomP VARCHAR(50) PRIMARY KEY,\n",
    "    capitale VARCHAR(50),\n",
    "\n",
    "    foreign key (capitale) references Ville(nomV)\n",
    ");\n",
    "\n",
    "alter table Ville add constraint ville_ref_pays foreign key (pays) references Pays(nomP)\n",
    "\n",
    "\"\"\"\n",
    "execute(connection,query)\n"
   ]
  },
  {
   "cell_type": "markdown",
   "metadata": {
    "id": "Rykl3isCK_QK"
   },
   "source": [
    "#### Insérez la France avec sa capitale Paris (3 millions d'habitants) dans la base de données."
   ]
  },
  {
   "cell_type": "code",
   "execution_count": 32,
   "metadata": {
    "id": "y96PUjTWK_QK"
   },
   "outputs": [
    {
     "name": "stdout",
     "output_type": "stream",
     "text": [
      "0 rows\n"
     ]
    }
   ],
   "source": [
    "query=\"\"\"\n",
    "    alter table Ville drop constraint ville_ref_pays;\n",
    "    insert into Ville values ('Paris', 3000000, 'France');\n",
    "    insert into Pays values ('France', 'Paris');\n",
    "    alter table Ville add constraint ville_ref_pays foreign key (pays) references Pays(nomP)\n",
    "\n",
    "\n",
    "\"\"\"\n",
    "cursor=execute(connection,query)"
   ]
  },
  {
   "cell_type": "code",
   "execution_count": 33,
   "metadata": {},
   "outputs": [
    {
     "name": "stdout",
     "output_type": "stream",
     "text": [
      "1 rows\n",
      "|nomv |population|pays  |\n",
      "|------------------------\n",
      "|Paris|3000000   |France|\n"
     ]
    }
   ],
   "source": [
    "query=\"\"\"\n",
    "    select * from Ville\n",
    "\n",
    "\"\"\"\n",
    "cursor=execute(connection,query)"
   ]
  },
  {
   "cell_type": "markdown",
   "metadata": {
    "id": "VC_xKKf0K_QK"
   },
   "source": [
    "#### Modifiez le schéma de telle manière que la suppression d'un pays déclenche automatiquement la suppression de toutes les villes du pays.\n",
    "                                             "
   ]
  },
  {
   "cell_type": "code",
   "execution_count": 36,
   "metadata": {
    "id": "DNjXtKqcK_QK"
   },
   "outputs": [
    {
     "name": "stdout",
     "output_type": "stream",
     "text": [
      "The error 'Erreur de syntaxe dans l'instruction SQL \"\\000a/*alter table Ville drop constraint fk_pays;*/\\000aalter table Ville add constraint fk_pays [*]on delete set null\"; attendu \"., COMMENT, PRIMARY, UNIQUE, FOREIGN, CHECK\"\n",
      "Syntax error in SQL statement \"\\000a/*alter table Ville drop constraint fk_pays;*/\\000aalter table Ville add constraint fk_pays [*]on delete set null\"; expected \"., COMMENT, PRIMARY, UNIQUE, FOREIGN, CHECK\"; SQL statement:\n",
      "\n",
      "/*alter table Ville drop constraint fk_pays;*/\n",
      "alter table Ville add constraint fk_pays on delete set null [42001-214]\n",
      "DETAIL:  org.h2.jdbc.JdbcSQLSyntaxErrorException: Erreur de syntaxe dans l'instruction SQL \"\\000a/*alter table Ville drop constraint fk_pays;*/\\000aalter table Ville add constraint fk_pays [*]on delete set null\"; attendu \"., COMMENT, PRIMARY, UNIQUE, FOREIGN, CHECK\"\n",
      "Syntax error in SQL statement \"\\000a/*alter table Ville drop constraint fk_pays;*/\\000aalter table Ville add constraint fk_pays [*]on delete set null\"; expected \"., COMMENT, PRIMARY, UNIQUE, FOREIGN, CHECK\"; SQL statement:\n",
      "\n",
      "/*alter table Ville drop constraint fk_pays;*/\n",
      "alter table Ville add constraint fk_pays on delete set null [42001-214]\n",
      "' occurred\n"
     ]
    }
   ],
   "source": [
    "query=\"\"\"\n",
    "/*alter table Ville drop constraint fk_pays;*/\n",
    "alter table Ville add constraint fk_pays on delete set null;\n",
    "\n",
    "/*alter table Pays drop constraint fk_pays_capitale;*/\n",
    "alter table Pays add constraint fk_pays_capitale on delete cascade;\n",
    "\"\"\"\n",
    "execute(connection,query)\n",
    "\n"
   ]
  },
  {
   "cell_type": "markdown",
   "metadata": {
    "id": "GrTzfz6-K_QL"
   },
   "source": [
    "#### Effacez les deux tables Ville et Pays du schéma."
   ]
  },
  {
   "cell_type": "code",
   "execution_count": 38,
   "metadata": {
    "id": "7lp6hRkSK_QL"
   },
   "outputs": [
    {
     "name": "stdout",
     "output_type": "stream",
     "text": [
      "0 rows\n"
     ]
    },
    {
     "data": {
      "text/plain": [
       "<cursor object at 0x754adb5534c0; closed: -1>"
      ]
     },
     "execution_count": 38,
     "metadata": {},
     "output_type": "execute_result"
    }
   ],
   "source": [
    "query=\"\"\"\n",
    "\n",
    "\n",
    "\n",
    "\n",
    "\"\"\"\n",
    "execute(connection,query)\n"
   ]
  },
  {
   "cell_type": "markdown",
   "metadata": {
    "id": "NA2rs-BuK_QL"
   },
   "source": [
    "### Arbres ordonnées"
   ]
  },
  {
   "cell_type": "markdown",
   "metadata": {
    "id": "uPCM-0nnK_QL"
   },
   "source": [
    "Voici une table Arbre qui permet de stocker des arbres ordonnés dans une base de données\n",
    "relationnelle:"
   ]
  },
  {
   "cell_type": "code",
   "execution_count": 37,
   "metadata": {
    "id": "ZA0hq79JK_QL"
   },
   "outputs": [
    {
     "name": "stdout",
     "output_type": "stream",
     "text": [
      "Connection closed\n",
      "Connection to H2 DB successful\n"
     ]
    }
   ],
   "source": [
    "connection = connect_H2(f\"arbres{port}\",\"ba\",\"ba\",port)"
   ]
  },
  {
   "cell_type": "code",
   "execution_count": 38,
   "metadata": {
    "id": "s5OoawwrK_QL"
   },
   "outputs": [
    {
     "name": "stdout",
     "output_type": "stream",
     "text": [
      "0 rows\n"
     ]
    },
    {
     "data": {
      "text/plain": [
       "<cursor object at 0x79eea0225f30; closed: -1>"
      ]
     },
     "execution_count": 38,
     "metadata": {},
     "output_type": "execute_result"
    }
   ],
   "source": [
    "query=\"\"\"\n",
    "drop table Arbre if exists;\n",
    "create table Arbre(\n",
    "    id numeric(10),\n",
    "    par numeric(10),\n",
    "    pos numeric(2),\n",
    "    constraint pk primary key (id),\n",
    "    constraint fk foreign key (par) references Arbre (id));\n",
    "\"\"\"\n",
    "execute(connection,query)\n"
   ]
  },
  {
   "cell_type": "markdown",
   "metadata": {
    "id": "4DauYjWBK_QL"
   },
   "source": [
    "- id est l'identifiant du nœud,\n",
    "- par est l'identifiant du parent,\n",
    "- pos est la position parmi les enfants ;"
   ]
  },
  {
   "cell_type": "markdown",
   "metadata": {
    "id": "rEgXyeVFK_QL"
   },
   "source": [
    "#### Inserez l'arbre binaire (1(2(4,5),3(6,7(8,9))))) dans la base de données."
   ]
  },
  {
   "cell_type": "code",
   "execution_count": 42,
   "metadata": {
    "id": "4Qlnte8BK_QM"
   },
   "outputs": [
    {
     "name": "stdout",
     "output_type": "stream",
     "text": [
      "9 rows\n",
      "|id|par |pos|\n",
      "|------------\n",
      "|1 |None|0  |\n",
      "|2 |1   |0  |\n",
      "|4 |2   |0  |\n",
      "|5 |2   |1  |\n",
      "|3 |1   |1  |\n",
      "|6 |3   |0  |\n",
      "|7 |3   |1  |\n",
      "|8 |7   |0  |\n",
      "|9 |7   |1  |\n"
     ]
    },
    {
     "data": {
      "text/plain": [
       "<cursor object at 0x79eea02266b0; closed: -1>"
      ]
     },
     "execution_count": 42,
     "metadata": {},
     "output_type": "execute_result"
    }
   ],
   "source": [
    "query=\"\"\"\n",
    "delete from Arbre;\n",
    "insert into Arbre Values (1,NULL, 0);\n",
    "    insert into Arbre Values (2, 1, 0);\n",
    "        insert into Arbre Values (4, 2, 0);\n",
    "        insert into Arbre Values (5, 2, 1);\n",
    "    insert into Arbre Values (3, 1, 1);\n",
    "        insert into Arbre Values (6, 3, 0);\n",
    "        insert into Arbre Values (7, 3, 1);\n",
    "            insert into Arbre Values (8, 7, 0);\n",
    "            insert into Arbre Values (9, 7, 1);\n",
    "\n",
    "select * from Arbre\n",
    "\"\"\"\n",
    "execute(connection,query,show=True)\n"
   ]
  },
  {
   "cell_type": "markdown",
   "metadata": {
    "id": "sFwCS1O-K_QM"
   },
   "source": [
    "#### Comment faut il modifier le schéma pour empêcher qu'un noeud a deux enfants à la même position?"
   ]
  },
  {
   "cell_type": "code",
   "execution_count": 42,
   "metadata": {
    "id": "2CZh_UHwK_QM"
   },
   "outputs": [
    {
     "name": "stdout",
     "output_type": "stream",
     "text": [
      "The error 'Erreur de syntaxe dans l'instruction SQL \"\\000aalter table Arbre add constraint [*]....\\000a\"; attendu \"identifier\"\n",
      "Syntax error in SQL statement \"\\000aalter table Arbre add constraint [*]....\\000a\"; expected \"identifier\"; SQL statement:\n",
      "\n",
      "alter table Arbre add constraint ....\n",
      " [42001-214]\n",
      "DETAIL:  org.h2.jdbc.JdbcSQLSyntaxErrorException: Erreur de syntaxe dans l'instruction SQL \"\\000aalter table Arbre add constraint [*]....\\000a\"; attendu \"identifier\"\n",
      "Syntax error in SQL statement \"\\000aalter table Arbre add constraint [*]....\\000a\"; expected \"identifier\"; SQL statement:\n",
      "\n",
      "alter table Arbre add constraint ....\n",
      " [42001-214]\n",
      "' occurred\n"
     ]
    }
   ],
   "source": [
    "query=\"\"\"\n",
    "alter table Arbre add constraint ....\n",
    "\"\"\"\n",
    "execute(connection,query)\n",
    "\n"
   ]
  },
  {
   "cell_type": "markdown",
   "metadata": {
    "id": "i1G2v7FeK_QM"
   },
   "source": [
    "#### Effacez le sous-arbre 3(6,7(8,9)) de la base de données."
   ]
  },
  {
   "cell_type": "code",
   "execution_count": 43,
   "metadata": {
    "id": "t-yfHh39K_QM"
   },
   "outputs": [
    {
     "name": "stdout",
     "output_type": "stream",
     "text": [
      "0 rows\n"
     ]
    },
    {
     "data": {
      "text/plain": [
       "<cursor object at 0x754adb553790; closed: -1>"
      ]
     },
     "execution_count": 43,
     "metadata": {},
     "output_type": "execute_result"
    }
   ],
   "source": [
    "query=\"\"\"\n",
    "\n",
    "\n",
    "\n",
    "\"\"\"\n",
    "execute(connection,query)\n"
   ]
  },
  {
   "cell_type": "markdown",
   "metadata": {
    "id": "K_zlUZfnK_QM"
   },
   "source": [
    "#### Est-ce que l'instruction suivante est possible sur l'arbre initial (avant l'effacement) ?"
   ]
  },
  {
   "cell_type": "code",
   "execution_count": 44,
   "metadata": {
    "id": "J0dbaT3uK_QM"
   },
   "outputs": [
    {
     "name": "stdout",
     "output_type": "stream",
     "text": [
      "0 rows\n"
     ]
    },
    {
     "data": {
      "text/plain": [
       "<cursor object at 0x754adb5535b0; closed: -1>"
      ]
     },
     "execution_count": 44,
     "metadata": {},
     "output_type": "execute_result"
    }
   ],
   "source": [
    "query=\"\"\"\n",
    "delete from Arbre where id=3\n",
    "\"\"\"\n",
    "execute(connection,query)"
   ]
  },
  {
   "cell_type": "markdown",
   "metadata": {
    "id": "zRVI8LC0K_QM"
   },
   "source": [
    "#### Comment peut-on modifier le schéma pour effacer le sous-arbre avec l'instruction précédente ?"
   ]
  },
  {
   "cell_type": "code",
   "execution_count": 45,
   "metadata": {
    "id": "_8serCCjK_QN"
   },
   "outputs": [
    {
     "name": "stdout",
     "output_type": "stream",
     "text": [
      "0 rows\n"
     ]
    },
    {
     "data": {
      "text/plain": [
       "<cursor object at 0x754adb553970; closed: -1>"
      ]
     },
     "execution_count": 45,
     "metadata": {},
     "output_type": "execute_result"
    }
   ],
   "source": [
    "query=\"\"\"\n",
    "\n",
    "\n",
    "\n",
    "\"\"\"\n",
    "execute(connection,query)"
   ]
  },
  {
   "cell_type": "markdown",
   "metadata": {
    "id": "gC6vRXHAK_QN"
   },
   "source": [
    "#### Est-ce qu'il est possible de modifier l'identifiant d'un nœud ?"
   ]
  },
  {
   "cell_type": "markdown",
   "metadata": {
    "id": "jYHyJRkaK_QN"
   },
   "source": [
    "#### Comment peut-on modifier le schéma pour permettre l'instruction précédente ?"
   ]
  },
  {
   "cell_type": "code",
   "execution_count": 46,
   "metadata": {
    "id": "_ZhMXO6OK_QN"
   },
   "outputs": [
    {
     "name": "stdout",
     "output_type": "stream",
     "text": [
      "0 rows\n"
     ]
    },
    {
     "data": {
      "text/plain": [
       "<cursor object at 0x754adb553a60; closed: -1>"
      ]
     },
     "execution_count": 46,
     "metadata": {},
     "output_type": "execute_result"
    }
   ],
   "source": [
    "query=\"\"\"\n",
    "\n",
    "\n",
    "\n",
    "\"\"\"\n",
    "execute(connection,query,show=True)"
   ]
  },
  {
   "cell_type": "markdown",
   "metadata": {
    "id": "x0ppv7_aK_QN"
   },
   "source": [
    "#### Quel est le résultat des instructions suivantes (sur l'arbre initial):"
   ]
  },
  {
   "cell_type": "code",
   "execution_count": 47,
   "metadata": {
    "id": "0K6xktXrK_QN"
   },
   "outputs": [
    {
     "name": "stdout",
     "output_type": "stream",
     "text": [
      "0 rows\n"
     ]
    },
    {
     "data": {
      "text/plain": [
       "<cursor object at 0x754adb553b50; closed: -1>"
      ]
     },
     "execution_count": 47,
     "metadata": {},
     "output_type": "execute_result"
    }
   ],
   "source": [
    "query=\"\"\"\n",
    "alter table Arbre drop constraint fk ;\n",
    "alter table Arbre add constraint fk foreign key (par) references Arbre(id)\n",
    "      on delete set null;\n",
    "delete from Arbre where id=3;\n",
    "select * from Arbre\n",
    "\"\"\"\n",
    "execute(connection,query,show=True)"
   ]
  },
  {
   "cell_type": "markdown",
   "metadata": {
    "id": "Sd2wejT-K_QN"
   },
   "source": [
    "# Requêtes SQL"
   ]
  },
  {
   "cell_type": "code",
   "execution_count": 43,
   "metadata": {
    "id": "hOnMkgh2K_QN",
    "scrolled": true
   },
   "outputs": [
    {
     "name": "stdout",
     "output_type": "stream",
     "text": [
      "Connection closed\n",
      "Connection to H2 DB successful\n"
     ]
    }
   ],
   "source": [
    "connection = connect_H2(f\"jo{port}\",\"ba\",\"ba\",port)"
   ]
  },
  {
   "cell_type": "markdown",
   "metadata": {
    "id": "9w7RdMnlSC_r"
   },
   "source": [
    "Télécharger le fichier SQL contenant les données de la base JO."
   ]
  },
  {
   "cell_type": "code",
   "execution_count": 44,
   "metadata": {
    "id": "BZCOAS6mP27Y"
   },
   "outputs": [],
   "source": [
    "#NE PAS EXECUTER CA!!!!! \n",
    "#ça supprime le fichier bd-ji-v2\n",
    "#!wget https://nuage.lip6.fr/s/H3bpyRGgnCq2NR4/download?path=agreg/bd-jo-v2_H2.sql -O bd-jo-v2_H2.sql"
   ]
  },
  {
   "cell_type": "code",
   "execution_count": 45,
   "metadata": {
    "id": "ALsb-dtHK_QO"
   },
   "outputs": [
    {
     "name": "stdout",
     "output_type": "stream",
     "text": [
      "0 rows\n"
     ]
    }
   ],
   "source": [
    "schemafile=open(\"bd-jo-v2_H2.sql\",mode=\"r\",encoding='utf-8')\n",
    "create_schema=schemafile.read()\n",
    "execute(connection, create_schema)\n",
    "connection.commit()"
   ]
  },
  {
   "cell_type": "markdown",
   "metadata": {
    "id": "ti-pfq68K_QO"
   },
   "source": [
    "## Exemple"
   ]
  },
  {
   "cell_type": "markdown",
   "metadata": {
    "id": "Q7KALLNSK_QO"
   },
   "source": [
    "Tous les athlètes"
   ]
  },
  {
   "cell_type": "code",
   "execution_count": 46,
   "metadata": {
    "id": "VorUXrY-K_QO",
    "scrolled": true
   },
   "outputs": [
    {
     "name": "stdout",
     "output_type": "stream",
     "text": [
      "2431 rows\n",
      "|nomath                 |\n",
      "|------------------------\n",
      "|BJOERNDALEN            |\n",
      "|BJOERGEN               |\n",
      "|AN                     |\n",
      "|PECHSTEIN              |\n",
      "|WÜST                   |\n",
      "|SVENDSEN               |\n",
      "|AMMANN                 |\n",
      "|KRAMER                 |\n",
      "|SABLIKOVA              |\n",
      "|HAMELIN                |\n",
      "|MORGENSTERN            |\n",
      "|HELLNER                |\n",
      "|HOEFL-RIESCH           |\n",
      "|DOMRACHEVA             |\n",
      "|COLOGNA                |\n",
      "|LOCH                   |\n",
      "|ZHOU                   |\n",
      "|NYSTAD                 |\n",
      "|SACHENBACHER-STEHLE    |\n",
      "|KALLA                  |\n",
      "|ZAITSEVA               |\n",
      "|PLYUSHCHENKO           |\n",
      "|MAZE                   |\n",
      "|DAVIS                  |\n",
      "|FOURCADE               |\n",
      "|OLSSON                 |\n",
      "|ZOEGGELER              |\n",
      "|KOWALCZYK              |\n",
      "|HENKEL                 |\n",
      "|BERGER                 |\n",
      "|NORTHUG                |\n",
      "|DI CENTA               |\n",
      "|KUZMINA                |\n",
      "|PARK                   |\n",
      "|STECHER                |\n",
      "|RAICH                  |\n",
      "|USTYUGOV               |\n",
      "|RICHARDSSON            |\n",
      "|GEISENBERGER           |\n",
      "|SCHOCH                 |\n",
      "|BILODEAU               |\n",
      "|WHITE                  |\n",
      "|LIGETY                 |\n",
      "|SANG-HWA               |\n",
      "|STOCH                  |\n",
      "|TER MORS               |\n",
      "|GRAABAK                |\n",
      "|WILD                   |\n",
      "|MILLER                 |\n",
      "|MANCUSO                |\n",
      "|MORRISON               |\n",
      "|MOAN                   |\n",
      "|HAAG                   |\n",
      "|BECKERT                |\n",
      "|DE JONG                |\n",
      "|SCHLIERENZAUER         |\n",
      "|HUEFNER                |\n",
      "|JANSRUD                |\n",
      "|SVINDAL                |\n",
      "|JOHAUG                 |\n",
      "|FRENZEL                |\n",
      "|BLOKHUIJSEN            |\n",
      "|SHIM                   |\n",
      "|DEMONG                 |\n",
      "|NESBITT                |\n",
      "|LEGKOV                 |\n",
      "|TETER                  |\n",
      "|BEGG-SMITH             |\n",
      "|BRIGHT                 |\n",
      "|FENNINGER              |\n",
      "|KRIUKOV                |\n",
      "|OESTBERG               |\n",
      "|KIM                    |\n",
      "|VERWEIJ                |\n",
      "|WANK                   |\n",
      "|GRIGOREV               |\n",
      "|MO                     |\n",
      "|BIELER                 |\n",
      "|GRUBER                 |\n",
      "|TUITERT                |\n",
      "|CLARK                  |\n",
      "|ECKHOFF                |\n",
      "|LASSILA                |\n",
      "|GRISHIN                |\n",
      "|SOEDERGREN             |\n",
      "|KEARNEY                |\n",
      "|TRETYAKOV              |\n",
      "|INGEMARSDOTTER         |\n",
      "|STEIRA                 |\n",
      "|REBENSBURG             |\n",
      "|SHIPULIN               |\n",
      "|SEMERENKO              |\n",
      "|BRODKA                 |\n",
      "|BEEK                   |\n",
      "|MULDER                 |\n",
      "|KROG                   |\n",
      "|BERGSMA                |\n",
      "|TSUPER                 |\n",
      "|ANDERSON               |\n",
      "|RICKER                 |\n",
      "|MATT                   |\n",
      "|JAUHOJARVI             |\n",
      "|SAUERBREIJ             |\n",
      "|DEFAGO                 |\n",
      "|CRAWFORD               |\n",
      "|FERRY                  |\n",
      "|SEMERENKO              |\n",
      "|LAMY CHAPPUIS          |\n",
      "|VAULTIER               |\n",
      "|ANESI                  |\n",
      "|GROOTHUIS              |\n",
      "|HATTESTAD              |\n",
      "|KUSHNIR                |\n",
      "|PODLADTCHIKOV          |\n",
      "|RAZZOLI                |\n",
      "|GISIN                  |\n",
      "|JANKA                  |\n",
      "|VILETTA                |\n",
      "|VOLKOV                 |\n",
      "|DZHYMA                 |\n",
      "|PIDHRUSHNA             |\n",
      "|BOE                    |\n",
      "|FALLA                  |\n",
      "|SCHMID                 |\n",
      "|KLEMETSEN              |\n",
      "|FARRINGTON             |\n",
      "|ANDERSON               |\n",
      "|KUMMER                 |\n",
      "|DUJMOVITS              |\n",
      "|FREUND                 |\n",
      "|LEENSTRA               |\n",
      "|GIROUX                 |\n",
      "|MAKOWSKY               |\n",
      "|ELISTRATOV             |\n",
      "|CHO                    |\n",
      "|JEAN                   |\n",
      "|HAMELIN                |\n",
      "|SOTNIKOVA              |\n",
      "|WELLINGER              |\n",
      "|YARNOLD                |\n",
      "|WIKEN                  |\n",
      "|NELSON                 |\n",
      "|NISKANEN               |\n",
      "|HANYU                  |\n",
      "|LIPNITSKAYA            |\n",
      "|KOTSENBURG             |\n",
      "|SAMKOVA                |\n",
      "|JIANROU                |\n",
      "|KIM                    |\n",
      "|VOGT                   |\n",
      "|KRAUS                  |\n",
      "|HONG                   |\n",
      "|MAYER                  |\n",
      "|SHIFFRIN               |\n",
      "|MALYSHKO               |\n",
      "|CHAPUIS                |\n",
      "|THOMPSON               |\n",
      "|DUFOUR-LAPOINTE        |\n",
      "|HOWELL                 |\n",
      "|WISE                   |\n",
      "|BOWMAN                 |\n",
      "|CHRISTENSEN            |\n",
      "|KOSTELIC               |\n",
      "|SCHILD                 |\n",
      "|KIRCHEISEN             |\n",
      "|DEMTSCHENKO            |\n",
      "|VYLEGZHANIN            |\n",
      "|ST-GELAIS              |\n",
      "|SAARINEN               |\n",
      "|ANGERER                |\n",
      "|KASAI                  |\n",
      "|HOSP                   |\n",
      "|SUMANN                 |\n",
      "|MORAVEC                |\n",
      "|AHONEN                 |\n",
      "|LI                     |\n",
      "|TEICHMANN              |\n",
      "|DUKURS                 |\n",
      "|VILUKHINA              |\n",
      "|SOUKALOVA              |\n",
      "|NISKANEN               |\n",
      "|CHAN                   |\n",
      "|LESSER                 |\n",
      "|FONTANA                |\n",
      "|BAUER                  |\n",
      "|CELSKI                 |\n",
      "|DASHINSKI              |\n",
      "|MESOTITSCH             |\n",
      "|DROLET                 |\n",
      "|FILBRICH               |\n",
      "|BOEHLER                |\n",
      "|KOBER                  |\n",
      "|MALTAIS                |\n",
      "|SKOBREV                |\n",
      "|INNERHOFER             |\n",
      "|WEIBRECHT              |\n",
      "|SOUKUP                 |\n",
      "|EDER                   |\n",
      "|BRUNET                 |\n",
      "|PETERSON               |\n",
      "|RYDZEK                 |\n",
      "|KOSIR                  |\n",
      "|KARL                   |\n",
      "|PREVC                  |\n",
      "|WOZNIAK                |\n",
      "|BACHLEDA-CURUS         |\n",
      "|ZLOTKOWSKA             |\n",
      "|MALONE                 |\n",
      "|RIESSLE                |\n",
      "|SUNDBY                 |\n",
      "|TIANYU                 |\n",
      "|DAJING                 |\n",
      "|DORIN HABERT           |\n",
      "|LANDERTINGER           |\n",
      "|TABATA                 |\n",
      "|LODWICK                |\n",
      "|POUTIAINEN             |\n",
      "|NOVIKOV                |\n",
      "|WOLF                   |\n",
      "|MOELLER                |\n",
      "|TAKEUCHI               |\n",
      "|SCHOCH                 |\n",
      "|JACOBELLIS             |\n",
      "|WATABE                 |\n",
      "|RUDMAN                 |\n",
      "|NAGASHIMA              |\n",
      "|ANTHONIOZ              |\n",
      "|HERBST                 |\n",
      "|REITHMAYER             |\n",
      "|HIRSCHER               |\n",
      "|MISSILLIER             |\n",
      "|KHRUSTALEVA            |\n",
      "|SCHEMPP                |\n",
      "|PEIFFER                |\n",
      "|VITKOVA                |\n",
      "|GASPARIN               |\n",
      "|BESSMERTNYKH           |\n",
      "|ZELLER                 |\n",
      "|KYLLOENEN              |\n",
      "|LAHTEENMAKI            |\n",
      "|MORRIS                 |\n",
      "|XU                     |\n",
      "|DUFOUR-LAPOINTE        |\n",
      "|SERWA                  |\n",
      "|MATT                   |\n",
      "|BOVOLENTA              |\n",
      "|ASADA                  |\n",
      "|REYNOLDS               |\n",
      "|IVANOVA                |\n",
      "|ILYUKHINA              |\n",
      "|OLYUNIN                |\n",
      "|SANDBECH               |\n",
      "|KARSTENS               |\n",
      "|PIIROINEN              |\n",
      "|GALMARINI              |\n",
      "|PIKUS-PACE             |\n",
      "|CZERWONKA              |\n",
      "|FATKULINA              |\n",
      "|KODAIRA                |\n",
      "|HOZUMI                 |\n",
      "|SMEEKENS               |\n",
      "|KUCK                   |\n",
      "|HANSEN                 |\n",
      "|MALTAIS                |\n",
      "|ALVAREZ                |\n",
      "|TSCHARNKE              |\n",
      "|JAPAROV                |\n",
      "|OSMOND                 |\n",
      "|HIRANO                 |\n",
      "|RUKAJARVI              |\n",
      "|HEWITT                 |\n",
      "|KEXIN                  |\n",
      "|CREVELING              |\n",
      "|DIETHART               |\n",
      "|HAYBOECK               |\n",
      "|IRASCHKO-STOLZ         |\n",
      "|JOO                    |\n",
      "|KIM                    |\n",
      "|LEE                    |\n",
      "|SHUMILOVA              |\n",
      "|ROMANOVA               |\n",
      "|BOEHM                  |\n",
      "|MARTINOD               |\n",
      "|RIDDLE                 |\n",
      "|KINGSBURY              |\n",
      "|KENWORTHY              |\n",
      "|LOGAN                  |\n",
      "|RUBENIS                |\n",
      "|BARDAL                 |\n",
      "|GOERGL                 |\n",
      "|JOENSSON               |\n",
      "|BOER                   |\n",
      "|GRAF                   |\n",
      "|LOBYSHEVA              |\n",
      "|MAGAL                  |\n",
      "|HOLLINGSWORTH          |\n",
      "|ROPONEN                |\n",
      "|TAKAHASHI              |\n",
      "|BUAAS                  |\n",
      "|GREGORIN               |\n",
      "|KRANJEC                |\n",
      "|HURAJT                 |\n",
      "|FESSEL                 |\n",
      "|BØKKO                  |\n",
      "|HAMLIN                 |\n",
      "|HUDEC                  |\n",
      "|KOIVURANTA             |\n",
      "|MYHRER                 |\n",
      "|SMYSHLYAEV             |\n",
      "|ITO                    |\n",
      "|KATO                   |\n",
      "|GAILLARD               |\n",
      "|LIU                    |\n",
      "|KOSTNER                |\n",
      "|PITTIN                 |\n",
      "|DE LE RUE              |\n",
      "|WANG                   |\n",
      "|KLEIBEUKER             |\n",
      "|FLATLAND               |\n",
      "|ZETTEL                 |\n",
      "|KREINER                |\n",
      "|FABJAN                 |\n",
      "|NIEDZWIEDZKI           |\n",
      "|GUT                    |\n",
      "|PINTURAULT             |\n",
      "|HOFER                  |\n",
      "|OBERHOFER              |\n",
      "|WIERER                 |\n",
      "|SKARDINO               |\n",
      "|BEATRIX                |\n",
      "|PETUKHOV               |\n",
      "|CHERNOUSOV             |\n",
      "|KHAZOVA                |\n",
      "|JAKS                   |\n",
      "|DUVILLARD              |\n",
      "|MANIFICAT              |\n",
      "|PERRILLAT BOITEUX      |\n",
      "|JIA                    |\n",
      "|HOLMLUND               |\n",
      "|JOSSERAND              |\n",
      "|TEN                    |\n",
      "|ABBOTT                 |\n",
      "|WAGNER                 |\n",
      "|TIRUMA                 |\n",
      "|EDELMANN               |\n",
      "|KLAPFER                |\n",
      "|ZAVARZINA              |\n",
      "|RAMOIN                 |\n",
      "|JACOBSEN               |\n",
      "|TAKEUCHI               |\n",
      "|HUBER                  |\n",
      "|ANTOINE                |\n",
      "|SZYMANSKI              |\n",
      "|SKOKOVA                |\n",
      "|LEE                    |\n",
      "|SHIKHOVA               |\n",
      "|VAN RIESSEN            |\n",
      "|MULDER                 |\n",
      "|KNEGT                  |\n",
      "|VIVIANI                |\n",
      "|PERETTI                |\n",
      "|VALCEPINA              |\n",
      "|DUDEK                  |\n",
      "|HIRAOKA                |\n",
      "|NIKITINA               |\n",
      "|WENG                   |\n",
      "|NILSSON                |\n",
      "|HERRMANN               |\n",
      "|GOLD                   |\n",
      "|BROWN                  |\n",
      "|TRESPEUCH              |\n",
      "|MCMORRIS               |\n",
      "|DEIBOLD                |\n",
      "|JONES                  |\n",
      "|COURNOYER              |\n",
      "|CHEN                   |\n",
      "|SHI                    |\n",
      "|SHIMIZU                |\n",
      "|MATTEL                 |\n",
      "|KRISTOFFERSEN          |\n",
      "|STRACHOVA              |\n",
      "|GARANICHEV             |\n",
      "|WINDISCH               |\n",
      "|FAK                    |\n",
      "|ONOZUKA                |\n",
      "|MIDOL                  |\n",
      "|ROLLAND                |\n",
      "|GOEPPER                |\n",
      "|LAMARRE                |\n",
      "|AHN                    |\n",
      "|SKARDZINA              |\n",
      "|TOFALVI                |\n",
      "|CHOI                   |\n",
      "|KIM                    |\n",
      "|BAJCICAK               |\n",
      "|SHEVCHENKO             |\n",
      "|UEMURA                 |\n",
      "|DERYZEMLYA             |\n",
      "|TOBRELUTS              |\n",
      "|MATURA                 |\n",
      "|SIMARI BIRKNER         |\n",
      "|KIRCHGASSER            |\n",
      "|WINDISCH               |\n",
      "|CLARK RIBEIRO          |\n",
      "|RUIZ CASTILLO          |\n",
      "|SYKARAS                |\n",
      "|CHEBOTKO               |\n",
      "|GWIZDON                |\n",
      "|LOBKOV                 |\n",
      "|CETINKAYA              |\n",
      "|OGLAGO                 |\n",
      "|SIMARI BIRKNER         |\n",
      "|OWENS                  |\n",
      "|KROELL                 |\n",
      "|DENIFL                 |\n",
      "|PROMMEGGER             |\n",
      "|RIEGLER                |\n",
      "|KLETCHEROV             |\n",
      "|JANDA                  |\n",
      "|VERNER                 |\n",
      "|NOVOTNA                |\n",
      "|BANK                   |\n",
      "|KRAUS                  |\n",
      "|CHURAVY                |\n",
      "|SUDOVA                 |\n",
      "|SLAVIK                 |\n",
      "|MOELLER                |\n",
      "|LESSING                |\n",
      "|KOSKELA                |\n",
      "|LACROIX                |\n",
      "|LIZEROUX               |\n",
      "|JOUBERT                |\n",
      "|ALCOTT                 |\n",
      "|BROMLEY                |\n",
      "|ELEY                   |\n",
      "|BIRNBACHER             |\n",
      "|WISCHNEWSKI            |\n",
      "|FISCHNALLER            |\n",
      "|PONZA                  |\n",
      "|SIMONCELLI             |\n",
      "|KARBON                 |\n",
      "|SASAKI                 |\n",
      "|YUASA                  |\n",
      "|WATASE                 |\n",
      "|ISA                    |\n",
      "|DUKURS                 |\n",
      "|RASIMOVICIUTE          |\n",
      "|VALENCIC               |\n",
      "|MARIC                  |\n",
      "|AUFDENBLATTEN          |\n",
      "|LARSSON                |\n",
      "|BERGMAN                |\n",
      "|DIDENKO                |\n",
      "|BAILEY                 |\n",
      "|RANDALL                |\n",
      "|FREEMAN                |\n",
      "|KOOS                   |\n",
      "|SULLIVAN               |\n",
      "|REITER                 |\n",
      "|MOURAO                 |\n",
      "|BARAHONA               |\n",
      "|NEUREUTHER             |\n",
      "|ABRAMASHVILI           |\n",
      "|GEDEVANISHVILI         |\n",
      "|STRAMATURARU           |\n",
      "|BUSSLER                |\n",
      "|JOERG                  |\n",
      "|HESSE                  |\n",
      "|LEHMANN                |\n",
      "|CHATAIGNIER            |\n",
      "|FAUCONNET              |\n",
      "|PIERRON                |\n",
      "|BARNES                 |\n",
      "|BURKE                  |\n",
      "|NEWELL                 |\n",
      "|JOHNSON                |\n",
      "|GUAY                   |\n",
      "|JANYK                  |\n",
      "|OSBORNE-PARADIS        |\n",
      "|KOCHER                 |\n",
      "|LEGUELLEC              |\n",
      "|AMMAR                  |\n",
      "|KERSHAW                |\n",
      "|CHEREPANOV             |\n",
      "|ROBICHAUD              |\n",
      "|BARMASHOV              |\n",
      "|REIHERD                |\n",
      "|RYBALOVA               |\n",
      "|GOUGH                  |\n",
      "|LIPSCOMB               |\n",
      "|MARTIN                 |\n",
      "|NICOLL                 |\n",
      "|SCHUSSLER              |\n",
      "|BABENKO                |\n",
      "|ZHIGIN                 |\n",
      "|KRYZL                  |\n",
      "|SLESINGR               |\n",
      "|KUMMEL                 |\n",
      "|REHEMAA                |\n",
      "|NOUSIAINEN             |\n",
      "|GLEBOVA                |\n",
      "|RYYNAENEN              |\n",
      "|KORPI                  |\n",
      "|HAJEK                  |\n",
      "|MATVEEVA               |\n",
      "|COOK                   |\n",
      "|KORNILOV               |\n",
      "|VASSILIEV              |\n",
      "|TUDEGESHEVA            |\n",
      "|HOLLAND                |\n",
      "|ROMMEL                 |\n",
      "|UHLAENDER              |\n",
      "|FREDRICKS              |\n",
      "|LAMB                   |\n",
      "|BORODULINA             |\n",
      "|TREJBAL                |\n",
      "|VRABLIK                |\n",
      "|GANTNEROVA             |\n",
      "|LINDELL-VIKARBY        |\n",
      "|PIETILAE-HOLMNER       |\n",
      "|COOK                   |\n",
      "|NYMAN                  |\n",
      "|STIEGLER               |\n",
      "|MAKARAINEN             |\n",
      "|GEREKOVA               |\n",
      "|KAZAR                  |\n",
      "|MATIASKO               |\n",
      "|KOZISEK                |\n",
      "|ISHIDA                 |\n",
      "|ONDA                   |\n",
      "|OTCENAS                |\n",
      "|PROCHAZKOVA            |\n",
      "|NORGREN                |\n",
      "|ITO                    |\n",
      "|SPETT                  |\n",
      "|NINIS                  |\n",
      "|GILLINGS               |\n",
      "|FUJIMORI               |\n",
      "|POUTALA                |\n",
      "|OIKAWA                 |\n",
      "|NIGG                   |\n",
      "|WEIRATHER              |\n",
      "|HALLENBARTER           |\n",
      "|GRYGORENKO             |\n",
      "|LAMBERT                |\n",
      "|ULRICH                 |\n",
      "|ABRAMENKO              |\n",
      "|KOCHER                 |\n",
      "|KIS                    |\n",
      "|KIRKOVA                |\n",
      "|BARTHET                |\n",
      "|FANARA                 |\n",
      "|GRANGE                 |\n",
      "|MARCHAND-ARVIER        |\n",
      "|THEAUX                 |\n",
      "|COSTAZZA               |\n",
      "|FANCHINI               |\n",
      "|FANCHINI               |\n",
      "|FILL                   |\n",
      "|HEEL                   |\n",
      "|MERIGHETTI             |\n",
      "|MOELGG                 |\n",
      "|STUFFER                |\n",
      "|THALER                 |\n",
      "|FOURCADE               |\n",
      "|WINDISCH               |\n",
      "|DE LORENZI             |\n",
      "|BOTTOMLEY              |\n",
      "|FISCHER                |\n",
      "|LIVERS                 |\n",
      "|PERL                   |\n",
      "|LI                     |\n",
      "|MAN                    |\n",
      "|REN                    |\n",
      "|CLARA                  |\n",
      "|PASINI                 |\n",
      "|LEE                    |\n",
      "|CHENG                  |\n",
      "|ZHANG                  |\n",
      "|MATIZ                  |\n",
      "|SCANZIO                |\n",
      "|BRAUD                  |\n",
      "|LAHEURTE               |\n",
      "|BRESADOLA              |\n",
      "|MICHIELLI              |\n",
      "|CRAWFORD               |\n",
      "|JEKOVA                 |\n",
      "|SUN                    |\n",
      "|RODRIGUEZ              |\n",
      "|BOCCACINI              |\n",
      "|ERLACHER               |\n",
      "|MAAS                   |\n",
      "|COLLOREDO              |\n",
      "|STEELE                 |\n",
      "|OIOLI                  |\n",
      "|CONFORTOLA             |\n",
      "|KERSTHOLT              |\n",
      "|ZHANG                  |\n",
      "|LEE                    |\n",
      "|LEE                    |\n",
      "|SANDFORD               |\n",
      "|LOESETH                |\n",
      "|DOLIDOWITSCH           |\n",
      "|LASUTKIN               |\n",
      "|SANNIKOVA              |\n",
      "|GJERDALEN              |\n",
      "|WURM                   |\n",
      "|DAMJANOVSKI            |\n",
      "|PFEIFER                |\n",
      "|PFISTER                |\n",
      "|MACOVEI                |\n",
      "|MOLL                   |\n",
      "|SCHAIRER               |\n",
      "|SAMSAL                 |\n",
      "|ZRNCIC-DIM             |\n",
      "|BAUER                  |\n",
      "|SHERPA                 |\n",
      "|DAMJAN                 |\n",
      "|FLANDER                |\n",
      "|SUSTERSIC              |\n",
      "|GUTIERREZ              |\n",
      "|PALKA                  |\n",
      "|PLYWACZYK              |\n",
      "|ORGUE                  |\n",
      "|KRECZMER               |\n",
      "|LIGOCKI                |\n",
      "|LIGOCKI                |\n",
      "|ZYLA                   |\n",
      "|WAS                    |\n",
      "|KNOCH                  |\n",
      "|TOLA                   |\n",
      "|CASTELLET              |\n",
      "|NOVAKOVIC              |\n",
      "|COLETTI                |\n",
      "|JENOT                  |\n",
      "|ZAKURDAEV              |\n",
      "|KOSHKIN                |\n",
      "|BEDAREVA               |\n",
      "|ZUEV                   |\n",
      "|YAKOVISHINA            |\n",
      "|SEJERSTED              |\n",
      "|BYDLINSKI              |\n",
      "|KLUS                   |\n",
      "|TRAVERS                |\n",
      "|BENIANIDZE             |\n",
      "|PAPAMICHAEL            |\n",
      "|LONGHI                 |\n",
      "|HARRISSON              |\n",
      "|NOVOSELIC              |\n",
      "|TSIKLAURI              |\n",
      "|BARBU                  |\n",
      "|LOESETH                |\n",
      "|LINDNER                |\n",
      "|GROSS                  |\n",
      "|PARIS                  |\n",
      "|IGNJATOVIC             |\n",
      "|BRIGNONE               |\n",
      "|MARSAGLIA              |\n",
      "|MATSOTSKA              |\n",
      "|FEIERABEND             |\n",
      "|CARRERAS               |\n",
      "|PREFONTAINE            |\n",
      "|GAGNON                 |\n",
      "|SPENCE                 |\n",
      "|YURKIW                 |\n",
      "|RALLI                  |\n",
      "|BASSANI ANTIVARI       |\n",
      "|JUNG                   |\n",
      "|RISTEVSKI              |\n",
      "|BERECZ                 |\n",
      "|FARKAS                 |\n",
      "|KUDRATOV               |\n",
      "|SMITH                  |\n",
      "|ESTEVE RIGAIL          |\n",
      "|CHAMOUN                |\n",
      "|SHKANOVA               |\n",
      "|SAVEH SHEMSHAKI        |\n",
      "|ZVEJNIEKS              |\n",
      "|RODE                   |\n",
      "|GASUNA                 |\n",
      "|TERRA                  |\n",
      "|DE LA CUESTA           |\n",
      "|PRISADOV               |\n",
      "|GEORGIEV               |\n",
      "|CHONGAROV              |\n",
      "|QUIROGA                |\n",
      "|FAARUP                 |\n",
      "|GEIGER                 |\n",
      "|WIRTH                  |\n",
      "|DOPFER                 |\n",
      "|SANDELL                |\n",
      "|RYDING                 |\n",
      "|HANSDOTTER             |\n",
      "|KLING                  |\n",
      "|HARGIN                 |\n",
      "|OLSSON                 |\n",
      "|BAECK                  |\n",
      "|GASTALDI               |\n",
      "|FERK                   |\n",
      "|STUHEC                 |\n",
      "|XIA                    |\n",
      "|SMITH                  |\n",
      "|JITLOFF                |\n",
      "|KASPER                 |\n",
      "|FORD                   |\n",
      "|CHODOUNSKY             |\n",
      "|MCJAMES                |\n",
      "|ROSS                   |\n",
      "|KUCEROVA               |\n",
      "|KRIZOVA                |\n",
      "|PAULATHOVA             |\n",
      "|ZEMANOVA               |\n",
      "|KUENG                  |\n",
      "|ABDERHALDEN            |\n",
      "|CAVIEZEL               |\n",
      "|FEUZ                   |\n",
      "|SUTER                  |\n",
      "|KANTOROVA              |\n",
      "|LUKACOVA               |\n",
      "|SAALOVA                |\n",
      "|ZAMPA                  |\n",
      "|BAUMANN                |\n",
      "|FRANZ                  |\n",
      "|SCHILD                 |\n",
      "|SCHOERGHOFER           |\n",
      "|STREITBERGER           |\n",
      "|OETTL REYES            |\n",
      "|OETTL REYES            |\n",
      "|BAUD                   |\n",
      "|BERTRAND               |\n",
      "|MARMOTTAN              |\n",
      "|NOENS                  |\n",
      "|CLAREY                 |\n",
      "|FAIVRE                 |\n",
      "|FAYED                  |\n",
      "|MERMILLOD BLONDIN      |\n",
      "|POISSON                |\n",
      "|VORONOV                |\n",
      "|GRIGOREVA              |\n",
      "|LAIKERT                |\n",
      "|RUDIC                  |\n",
      "|PHELAN                 |\n",
      "|MIELZYNSKI             |\n",
      "|SIMMERLING             |\n",
      "|HOHENLOHE              |\n",
      "|TORSTI                 |\n",
      "|SEREBRAKIAN            |\n",
      "|OLIVERAS               |\n",
      "|HAUGEN                 |\n",
      "|GILARDONI              |\n",
      "|SZCZUREK               |\n",
      "|NAUMIK                 |\n",
      "|SAVITSKIY              |\n",
      "|KENESHEV               |\n",
      "|TRIFONOV               |\n",
      "|LEBEDEVA               |\n",
      "|SOLEMDAL               |\n",
      "|SEMENOV                |\n",
      "|SEDNEV                 |\n",
      "|PRYMA                  |\n",
      "|SUZUKI                 |\n",
      "|KAUKENAS               |\n",
      "|LEE                    |\n",
      "|MUN                    |\n",
      "|PINZARU                |\n",
      "|PETROVIC               |\n",
      "|CRAWFORD               |\n",
      "|GREEN                  |\n",
      "|PERRAS                 |\n",
      "|SMITH                  |\n",
      "|IMRIE                  |\n",
      "|KOIV                   |\n",
      "|LEHTLA                 |\n",
      "|STEPTSENKO             |\n",
      "|GOMBOS                 |\n",
      "|JUSKANE                |\n",
      "|RASTORGUJEVS           |\n",
      "|ABRAMENKO              |\n",
      "|KALINCHIK              |\n",
      "|PADIAL HERNANDEZ       |\n",
      "|ILIEV                  |\n",
      "|KENANOV                |\n",
      "|ANEV                   |\n",
      "|ALMOUKOV               |\n",
      "|STEPHAN                |\n",
      "|LAUKKANEN              |\n",
      "|KAUPPINEN              |\n",
      "|SONG                   |\n",
      "|JACKSON                |\n",
      "|DOKL                   |\n",
      "|COOK                   |\n",
      "|DUNKLEE                |\n",
      "|STUDEBAKER             |\n",
      "|NORDGREN               |\n",
      "|CURRIER                |\n",
      "|JOLLER                 |\n",
      "|WEGER                  |\n",
      "|CHRAPANOVA             |\n",
      "|POLIAKOVA              |\n",
      "|BESCOND                |\n",
      "|BOEUF                  |\n",
      "|BOLLIET                |\n",
      "|HAELG                  |\n",
      "|GAFAROV                |\n",
      "|SHAPOVALOVA            |\n",
      "|SLONOVA                |\n",
      "|VELICHKO               |\n",
      "|STAROSTIN              |\n",
      "|TCHEKALEVA             |\n",
      "|VOLZHENTSEV            |\n",
      "|JACOBSEN               |\n",
      "|ROENNING               |\n",
      "|GLOEERSEN              |\n",
      "|JASKOWIEC              |\n",
      "|PEREKHODA              |\n",
      "|ANTSYBOR               |\n",
      "|TSESELSKA              |\n",
      "|RIBELA                 |\n",
      "|MALEC                  |\n",
      "|PEPENE                 |\n",
      "|PUCHIANU               |\n",
      "|KARP                   |\n",
      "|CAMENSCIC              |\n",
      "|BRANDSDAL              |\n",
      "|SMRKOVIC               |\n",
      "|HOFER                  |\n",
      "|BROCARD                |\n",
      "|OJASTE                 |\n",
      "|MACIUSZEK              |\n",
      "|HARVEY                 |\n",
      "|SIMON                  |\n",
      "|SZABO                  |\n",
      "|ROJO                   |\n",
      "|CHINBAT                |\n",
      "|TAMMJARV               |\n",
      "|SEYD                   |\n",
      "|PAIPALS                |\n",
      "|LIEPINS                |\n",
      "|GUTIERREZ              |\n",
      "|MALCHEVA               |\n",
      "|WATSON                 |\n",
      "|DUBAREZAVA             |\n",
      "|IVANOU                 |\n",
      "|PETERS                 |\n",
      "|WENZL                  |\n",
      "|MALVALEHTO             |\n",
      "|HEIKKINEN              |\n",
      "|JYLHAE                 |\n",
      "|LEHTONEN               |\n",
      "|PENTSINEN              |\n",
      "|MUSGRAVE               |\n",
      "|MUSGRAVE               |\n",
      "|SMITH                  |\n",
      "|YOUNG                  |\n",
      "|MURPHY                 |\n",
      "|LINDBORG               |\n",
      "|JEZERSEK               |\n",
      "|VISNAR                 |\n",
      "|XU                     |\n",
      "|SUN                    |\n",
      "|STEPHEN                |\n",
      "|HOFFMAN                |\n",
      "|NOVAK                  |\n",
      "|RAZYM                  |\n",
      "|MORAVCOVA              |\n",
      "|KINDSCHI               |\n",
      "|VAN DER GRAAFF         |\n",
      "|BONER                  |\n",
      "|KOTSCHOVA              |\n",
      "|MLYNAR                 |\n",
      "|DUERR                  |\n",
      "|SMUTNA                 |\n",
      "|CARCELEN               |\n",
      "|FAIVRE PICON           |\n",
      "|GAILLARD               |\n",
      "|HUGUE                  |\n",
      "|MIRANDA                |\n",
      "|KARISIK                |\n",
      "|PLAKALOVIC             |\n",
      "|CALDWELL               |\n",
      "|HALFVARSSON            |\n",
      "|GAIAZOVA               |\n",
      "|WEBSTER                |\n",
      "|JONES                  |\n",
      "|BROOKS                 |\n",
      "|WATSON                 |\n",
      "|HAMILTON               |\n",
      "|MIKAYELYAN             |\n",
      "|VOLKOV                 |\n",
      "|VOLKOV                 |\n",
      "|KOROTKOV               |\n",
      "|LIVINSKAYA             |\n",
      "|MOZHAEV                |\n",
      "|MURATOVA               |\n",
      "|RAKHIMOVA              |\n",
      "|PERTAKHIYA             |\n",
      "|STOLYAROVA             |\n",
      "|GALYSHEVA              |\n",
      "|ARAPBAYEVA             |\n",
      "|BERESTOVSKIY           |\n",
      "|HOEIE GJEFSEN          |\n",
      "|POLYUK                 |\n",
      "|MURATA                 |\n",
      "|NISHI                  |\n",
      "|ENDO                   |\n",
      "|BORGE LIE              |\n",
      "|DELBOSCO               |\n",
      "|LEMAN                  |\n",
      "|SEO                    |\n",
      "|CREMA                  |\n",
      "|HALL                   |\n",
      "|KNELLER                |\n",
      "|HUSKOVA                |\n",
      "|OSIPAU                 |\n",
      "|CHOI                   |\n",
      "|ZACHER                 |\n",
      "|QI                     |\n",
      "|WU                     |\n",
      "|NING                   |\n",
      "|KIRAMO                 |\n",
      "|PELLINEN               |\n",
      "|FORSLUND               |\n",
      "|KLOSER                 |\n",
      "|CALDWELL               |\n",
      "|MCPHIE                 |\n",
      "|WILSON                 |\n",
      "|OUTTRIM                |\n",
      "|DENEEN                 |\n",
      "|VACULIKOVA             |\n",
      "|LUEDI                  |\n",
      "|MUELLER                |\n",
      "|NIEDERER               |\n",
      "|SCHAERER               |\n",
      "|SMITH                  |\n",
      "|FIVA                   |\n",
      "|KOLLER                 |\n",
      "|OFNER                  |\n",
      "|ZANGERL                |\n",
      "|BENNA                  |\n",
      "|DAVID                  |\n",
      "|DUNCAN                 |\n",
      "|LIMBACHER              |\n",
      "|DUFOUR-LAPOINTE        |\n",
      "|MARQUIS                |\n",
      "|SCHAUER                |\n",
      "|RAKIMGALIEV            |\n",
      "|POPOVA                 |\n",
      "|SUZUKI                 |\n",
      "|KELEMEN                |\n",
      "|FERNANDEZ              |\n",
      "|MARCHEI                |\n",
      "|ROMANENKOV             |\n",
      "|LIEBERS                |\n",
      "|ZHANG                  |\n",
      "|MCCORKELL              |\n",
      "|HELGESSON              |\n",
      "|MAJOROV                |\n",
      "|BREZINA                |\n",
      "|FRANK                  |\n",
      "|AMODIO                 |\n",
      "|MACHIDA                |\n",
      "|PAVLICHENKO            |\n",
      "|KHOREVA                |\n",
      "|KUROWSKI               |\n",
      "|KANAYAMA               |\n",
      "|MANDZIY                |\n",
      "|CRETU                  |\n",
      "|GASPARINI              |\n",
      "|LANGENHAN              |\n",
      "|KIVLENIEKS             |\n",
      "|MAURINS                |\n",
      "|CARIGIET               |\n",
      "|HANSEN                 |\n",
      "|HYMAN                  |\n",
      "|EGGER                  |\n",
      "|KINDL                  |\n",
      "|BUCSIS                 |\n",
      "|PANIN                  |\n",
      "|KOKSLIEN               |\n",
      "|KATO                   |\n",
      "|WATABE                 |\n",
      "|BAUER                  |\n",
      "|RUNGGALDIER            |\n",
      "|TIIRMAA                |\n",
      "|NURMSALU               |\n",
      "|BERLOT                 |\n",
      "|JELENKO                |\n",
      "|ORANIC                 |\n",
      "|FLETCHER               |\n",
      "|FLETCHER               |\n",
      "|DVORAK                 |\n",
      "|HUG                    |\n",
      "|JODKO                  |\n",
      "|KROL                   |\n",
      "|SZTOKFISZ              |\n",
      "|ZAJAC                  |\n",
      "|TSOY                   |\n",
      "|BOLDYKOV               |\n",
      "|DETKOV                 |\n",
      "|SOBOLEV                |\n",
      "|TARASOV                |\n",
      "|OLAFSEN                |\n",
      "|ENGELI                 |\n",
      "|SIVERTZEN              |\n",
      "|DUCKWORTH              |\n",
      "|AONO                   |\n",
      "|OKADA                  |\n",
      "|CHUNDAK                |\n",
      "|PENYAK                 |\n",
      "|MAKAR                  |\n",
      "|MICIC                  |\n",
      "|PERATHONER             |\n",
      "|MARCH                  |\n",
      "|BRUTTO                 |\n",
      "|CAI                    |\n",
      "|BERGHUIS               |\n",
      "|VAN DER WAL            |\n",
      "|CALVE                  |\n",
      "|FAGAN                  |\n",
      "|LAMBERT                |\n",
      "|LAVIGNE                |\n",
      "|MORISON                |\n",
      "|KIM                    |\n",
      "|SHIN                   |\n",
      "|SOBOLEV                |\n",
      "|MARIN TARROCH          |\n",
      "|SCHAD                  |\n",
      "|LABOECK                |\n",
      "|BERGMANN               |\n",
      "|LIU                    |\n",
      "|SHI                    |\n",
      "|ZHANG                  |\n",
      "|HERNANDEZ              |\n",
      "|YANKOV                 |\n",
      "|PULLIN                 |\n",
      "|JOHNSTONE              |\n",
      "|SINCLAIR               |\n",
      "|LAARI                  |\n",
      "|LINDFORS               |\n",
      "|MALIN                  |\n",
      "|HARINGTON              |\n",
      "|KILNER                 |\n",
      "|MARGUC                 |\n",
      "|BAUMGARTNER            |\n",
      "|DAVIS                  |\n",
      "|BRETZ                  |\n",
      "|BAKES                  |\n",
      "|PANCOCHOVA             |\n",
      "|MATTEOTTI              |\n",
      "|MICK                   |\n",
      "|MEILER                 |\n",
      "|PURTSCHERT             |\n",
      "|ZOGG                   |\n",
      "|CANDRIAN               |\n",
      "|FLUETSCH               |\n",
      "|HALLER                 |\n",
      "|HALLER                 |\n",
      "|DOUSCHAN               |\n",
      "|MATHIES                |\n",
      "|MESCHIK                |\n",
      "|RAMBERGER              |\n",
      "|UNTERKOFLER            |\n",
      "|BAISAMY                |\n",
      "|DUFOUR                 |\n",
      "|LONGO                  |\n",
      "|MOENNE LOCCOZ          |\n",
      "|THOVEX                 |\n",
      "|REID                   |\n",
      "|SMITS                  |\n",
      "|KOT                    |\n",
      "|DELLASEGA              |\n",
      "|MORRICE                |\n",
      "|KANG                   |\n",
      "|ZOGRAFSKI              |\n",
      "|TEPES                  |\n",
      "|ALEXANDER              |\n",
      "|FAIRALL                |\n",
      "|HLAVA                  |\n",
      "|KOUDELKA               |\n",
      "|DESCHWANDEN            |\n",
      "|KUBACKI                |\n",
      "|BOYD-CLOWES            |\n",
      "|CHUDINOV               |\n",
      "|KOMURO                 |\n",
      "|MAZILU                 |\n",
      "|VELICU                 |\n",
      "|FAIRBAIRN              |\n",
      "|MIRAMBELL              |\n",
      "|FARROW                 |\n",
      "|EUSTACE                |\n",
      "|DALY                   |\n",
      "|TRESS                  |\n",
      "|GUGGENBERGER           |\n",
      "|REID                   |\n",
      "|DRUSZKIEWICZ           |\n",
      "|KUZIN                  |\n",
      "|KRECH                  |\n",
      "|GOLIKOVA               |\n",
      "|YESIN                  |\n",
      "|RUMYANTSEV             |\n",
      "|CHERNOVA               |\n",
      "|PEDERSEN               |\n",
      "|KAMIJO                 |\n",
      "|ISHIZAWA               |\n",
      "|TSUJI                  |\n",
      "|NOH                    |\n",
      "|HEMMER                 |\n",
      "|NAUTA                  |\n",
      "|VAN DER WEIJDEN        |\n",
      "|GREGG                  |\n",
      "|DUTTON                 |\n",
      "|NINZI                  |\n",
      "|SILOVS                 |\n",
      "|GREIG                  |\n",
      "|DOBBIN                 |\n",
      "|HIRSCHBICHLER          |\n",
      "|BECKERT                |\n",
      "|SCHWARZ                |\n",
      "|IHLE                   |\n",
      "|QI                     |\n",
      "|TODD                   |\n",
      "|MEEK                   |\n",
      "|ROOKARD                |\n",
      "|RICHARDSON             |\n",
      "|WHITMORE               |\n",
      "|RINGSRED               |\n",
      "|CHOLEWINSKI            |\n",
      "|GUNTHER                |\n",
      "|ERBANOVA               |\n",
      "|ROKITA                 |\n",
      "|BELYAKOVA              |\n",
      "|MALISZEWSKA            |\n",
      "|BEKZHANOV              |\n",
      "|SIMONOVA               |\n",
      "|BYKANOV                |\n",
      "|TAKAMIDO               |\n",
      "|SAKASHITA              |\n",
      "|ITO                    |\n",
      "|SAKAI                  |\n",
      "|SAKURAI                |\n",
      "|SHIMIZU                |\n",
      "|BLACKBURN              |\n",
      "|HEIDUM                 |\n",
      "|KESZLER                |\n",
      "|BERES                  |\n",
      "|VAN KERKHOF            |\n",
      "|VAN DER WART           |\n",
      "|LUI                    |\n",
      "|LIU                    |\n",
      "|LIANG                  |\n",
      "|BODA                   |\n",
      "|SEIFERT                |\n",
      "|CHRISTIE               |\n",
      "|GILMARTIN              |\n",
      "|WHELBOURNE             |\n",
      "|SMITH                  |\n",
      "|LEPAPE                 |\n",
      "|MACE                   |\n",
      "|KOLB                   |\n",
      "|WOERNER                |\n",
      "|FISCHER                |\n",
      "|COX                    |\n",
      "|GRAHAM                 |\n",
      "|FLISAR                 |\n",
      "|HILL                   |\n",
      "|GULINI                 |\n",
      "|JAMES                  |\n",
      "|FRENETTE               |\n",
      "|FREITAG                |\n",
      "|FANNEMEL               |\n",
      "|GILDAY                 |\n",
      "|ZAVECKAS               |\n",
      "|MYTSAK                 |\n",
      "|SMALL                  |\n",
      "|VERDU SANCHEZ          |\n",
      "|ABOLTINA               |\n",
      "|BELL                   |\n",
      "|TOBI                   |\n",
      "|VALCAREGGI             |\n",
      "|MOHBAT                 |\n",
      "|VILHJALMSDOTTIR        |\n",
      "|MICHELOTTI             |\n",
      "|VLHOVA                 |\n",
      "|LAMHAMEDI              |\n",
      "|SONG                   |\n",
      "|VISHNEVSKAYA           |\n",
      "|GASPARIN               |\n",
      "|PREUSS                 |\n",
      "|PRIPICI                |\n",
      "|KRASOVSKYI             |\n",
      "|GLANVILLE              |\n",
      "|KIVARI                 |\n",
      "|SUMMERHAYES            |\n",
      "|MAHLER                 |\n",
      "|BLUNCK                 |\n",
      "|KIM                    |\n",
      "|KIM                    |\n",
      "|WELLS                  |\n",
      "|YAN                    |\n",
      "|LI                     |\n",
      "|PARK                   |\n",
      "|MARTINEZ               |\n",
      "|FENNELL                |\n",
      "|MALYK                  |\n",
      "|STETSKIV               |\n",
      "|FERLAZZO               |\n",
      "|ZIRNE                  |\n",
      "|VOETTER                |\n",
      "|LIEN                   |\n",
      "|BRITCHER               |\n",
      "|WEST                   |\n",
      "|KOTENOVA               |\n",
      "|HEROLA                 |\n",
      "|ILVES                  |\n",
      "|PORTYK                 |\n",
      "|AVTANEEV               |\n",
      "|HOEPFL                 |\n",
      "|HABLUETZEL             |\n",
      "|GOLD                   |\n",
      "|KRALJ                  |\n",
      "|RAVNJAK                |\n",
      "|TAKANASHI              |\n",
      "|HENRICH                |\n",
      "|KOREK                  |\n",
      "|LEMARE                 |\n",
      "|ALTHAUS                |\n",
      "|NAGAI                  |\n",
      "|CIESLAR                |\n",
      "|KLIMOV                 |\n",
      "|PIHO                   |\n",
      "|COSTA                  |\n",
      "|PASICHNYK              |\n",
      "|LEINONEN               |\n",
      "|VAEHAESOEYRINKI        |\n",
      "|TAKAHASHI              |\n",
      "|SASAHARA               |\n",
      "|ORLOVA                 |\n",
      "|POTYLITSINA            |\n",
      "|NEILSON                |\n",
      "|KEFALAS                |\n",
      "|FLOCK                  |\n",
      "|MAIER                  |\n",
      "|CHAFFER                |\n",
      "|GRIEBEL                |\n",
      "|KROECKEL               |\n",
      "|THEES                  |\n",
      "|LEE                    |\n",
      "|YUN                    |\n",
      "|GREENWOOD              |\n",
      "|PRIEDULENA             |\n",
      "|PARSONS                |\n",
      "|TREGYBOV               |\n",
      "|BELOV                  |\n",
      "|ARDISAUSKAITE          |\n",
      "|STROLIA                |\n",
      "|GLAVATSKIKH            |\n",
      "|TSINZOV                |\n",
      "|GRIDIN                 |\n",
      "|GRIGOROVA-BURGOVA      |\n",
      "|USTIUGOV               |\n",
      "|KUBINSKA               |\n",
      "|SZYMANCZAK             |\n",
      "|ANTOLEC                |\n",
      "|GAZUREK                |\n",
      "|KLISZ                  |\n",
      "|STAREGA                |\n",
      "|FERNANDEZ              |\n",
      "|DOTSENKO               |\n",
      "|ZHUKOVA                |\n",
      "|IVANOVA                |\n",
      "|KUZIUKOVA              |\n",
      "|REZASOLTANI            |\n",
      "|KAMINSKAYA             |\n",
      "|SARA                   |\n",
      "|AKHMADIYEV             |\n",
      "|VOLOTKA                |\n",
      "|KOLOMINA               |\n",
      "|OSSIPOVA               |\n",
      "|POLTORANIN             |\n",
      "|RAGOZIN                |\n",
      "|CICHERO                |\n",
      "|AYMONIER               |\n",
      "|BACKSCHEIDER           |\n",
      "|GROS                   |\n",
      "|JAY                    |\n",
      "|JEAN                   |\n",
      "|RANKEL                 |\n",
      "|SELLIS                 |\n",
      "|BABIKOV                |\n",
      "|COCKNEY                |\n",
      "|KILLICK                |\n",
      "|NISHIKAWA              |\n",
      "|WIDMER                 |\n",
      "|VALJAS                 |\n",
      "|ERIKSON                |\n",
      "|NOECKLER               |\n",
      "|PELLEGRINO             |\n",
      "|PELLEGRIN              |\n",
      "|NIZZI                  |\n",
      "|DE FABIANI             |\n",
      "|AGREITER               |\n",
      "|DE MARTIN TOPRANIN     |\n",
      "|PILLER                 |\n",
      "|DEBERTOLIS             |\n",
      "|VUERICH                |\n",
      "|LAURENT                |\n",
      "|KOVACEVIC              |\n",
      "|DADIC                  |\n",
      "|GOLBERG                |\n",
      "|ROETHE                 |\n",
      "|SARGENT                |\n",
      "|DIGGINS                |\n",
      "|ROSSITER               |\n",
      "|BOLD                   |\n",
      "|ANGELIS                |\n",
      "|TSAKIRI                |\n",
      "|MAYERHOFER             |\n",
      "|SCHWARZ                |\n",
      "|STADLOBER              |\n",
      "|HAUKE                  |\n",
      "|TRITSCHER              |\n",
      "|BELLINGHAM             |\n",
      "|SEMENOV                |\n",
      "|BING                   |\n",
      "|DOTZLER                |\n",
      "|EISENLAUER             |\n",
      "|BJORNSEN               |\n",
      "|GREGG                  |\n",
      "|MIKKONEN               |\n",
      "|SARASOJA-LILJA         |\n",
      "|HWANG                  |\n",
      "|GROHOVA                |\n",
      "|NOVAKOVA               |\n",
      "|VRABCOVA-NYVLTOVA      |\n",
      "|ANTYPENKO              |\n",
      "|DAUSHKANE              |\n",
      "|BIRGISSON              |\n",
      "|BJORNSEN               |\n",
      "|BAUMANN                |\n",
      "|HEDIGER                |\n",
      "|CEBASEK                |\n",
      "|RAZINGER               |\n",
      "|KOLAROSKA              |\n",
      "|SCHAAD                 |\n",
      "|YEGHOYAN               |\n",
      "|JESPERSEN              |\n",
      "|PETITJEAN              |\n",
      "|LISOGOR                |\n",
      "|ANGER                  |\n",
      "|BUILLET                |\n",
      "|MORRONE DI SILVESTRI   |\n",
      "|DI SILVESTRI           |\n",
      "|IQBAL                  |\n",
      "|GALSTYAN               |\n",
      "|MURAKAMI               |\n",
      "|GE                     |\n",
      "|BYCHENKO               |\n",
      "|RAYA                   |\n",
      "|GODOROZHA              |\n",
      "|MEITE                  |\n",
      "|RAJICOVA               |\n",
      "|PARKINSON              |\n",
      "|DALEMAN                |\n",
      "|FIRUS                  |\n",
      "|HAN                    |\n",
      "|KERRY                  |\n",
      "|EDMUNDS                |\n",
      "|WILLIAMS               |\n",
      "|KIM                    |\n",
      "|WEINZIERL              |\n",
      "|GJERSEM                |\n",
      "|UKOLOVA                |\n",
      "|HENDRICKX              |\n",
      "|BATURINA               |\n",
      "|PERETYAGIN             |\n",
      "|BENYOV                 |\n",
      "|KULS                   |\n",
      "|WOJTUSCISZYN           |\n",
      "|EDNEY                  |\n",
      "|JONES                  |\n",
      "|MCRAE                  |\n",
      "|BONNEFOY               |\n",
      "|GBUROVA                |\n",
      "|ROBATSCHER             |\n",
      "|FISCHNALLER            |\n",
      "|RIEDER                 |\n",
      "|SUNG                   |\n",
      "|KELLY                  |\n",
      "|MAZDZER                |\n",
      "|SHKHUMOVA              |\n",
      "|KIM                    |\n",
      "|KASTLUNGER             |\n",
      "|KOPPANG                |\n",
      "|NOERBECH               |\n",
      "|ROLFSEN                |\n",
      "|PLATZER                |\n",
      "|AXENOVA                |\n",
      "|BANANI                 |\n",
      "|KESHAVAN               |\n",
      "|SOBOLEVA               |\n",
      "|NEDEFUJI               |\n",
      "|KADONO                 |\n",
      "|KOLEGOV                |\n",
      "|KOPRIVITSA             |\n",
      "|KHARITONOV             |\n",
      "|LI                     |\n",
      "|BANKES                 |\n",
      "|GRIMAL                 |\n",
      "|BLASMAN                |\n",
      "|HOLDEN                 |\n",
      "|LEESON                 |\n",
      "|LIVINGSTON             |\n",
      "|PARROT                 |\n",
      "|ROBANSKE               |\n",
      "|TOUTANT                |\n",
      "|TSUYUKI                |\n",
      "|OBRIEN                 |\n",
      "|HERRERO                |\n",
      "|OCHNER                 |\n",
      "|VISINTIN               |\n",
      "|LEONI                  |\n",
      "|MOIOLI                 |\n",
      "|EGUIBAR                |\n",
      "|MATTSSON               |\n",
      "|THORGREN               |\n",
      "|BERGREM                |\n",
      "|BRAATEN                |\n",
      "|NORENDAL               |\n",
      "|ULSLETTEN              |\n",
      "|GASSER                 |\n",
      "|KRAINER                |\n",
      "|SCHATTSCHNEIDER        |\n",
      "|WEISSENBACHER          |\n",
      "|HAEMMERLE              |\n",
      "|SHORR                  |\n",
      "|WALKER                 |\n",
      "|GULDEMOND              |\n",
      "|STASSEL                |\n",
      "|JENSON                 |\n",
      "|GOLD                   |\n",
      "|JACOB                  |\n",
      "|HERNANDEZ              |\n",
      "|BAUMEISTER             |\n",
      "|BERG                   |\n",
      "|ENNE                   |\n",
      "|PAUMOLA                |\n",
      "|SUITIALA               |\n",
      "|TAKA                   |\n",
      "|TONTERI                |\n",
      "|KIM                    |\n",
      "|BOLTON                 |\n",
      "|BROCKHOFF              |\n",
      "|CALLISTER              |\n",
      "|HUGHES                 |\n",
      "|MAGIROS                |\n",
      "|TRIGGER                |\n",
      "|LEE                    |\n",
      "|OCONNOR                |\n",
      "|NOVAK                  |\n",
      "|LEDECKA                |\n",
      "|FULLER                 |\n",
      "|MORGAN                 |\n",
      "|NICHOLLS               |\n",
      "|GOTLIEB                |\n",
      "|LUXTON                 |\n",
      "|PRIOR                  |\n",
      "|TORR                   |\n",
      "|DEKKER                 |\n",
      "|DE JONG                |\n",
      "|WATTER                 |\n",
      "|MUELLER                |\n",
      "|ROHRER                 |\n",
      "|SCHERRER               |\n",
      "|DERUNGS                |\n",
      "|GERBER                 |\n",
      "|JAMES                  |\n",
      "|JENNY                  |\n",
      "|KOCH                   |\n",
      "|KOENZ                  |\n",
      "|KOTNIK                 |\n",
      "|SAKAZUME               |\n",
      "|SEREIKAITE             |\n",
      "|PROSVIRNOVA            |\n",
      "|REZNIK                 |\n",
      "|SIARHEYU               |\n",
      "|TALAYEVA               |\n",
      "|BODOVA                 |\n",
      "|DOTTI                  |\n",
      "|LOBELLO                |\n",
      "|SCOTT                  |\n",
      "|KONYA                  |\n",
      "|LIU SHAOLIN            |\n",
      "|LOCKETT                |\n",
      "|ZHUMAGAZIYEV           |\n",
      "|NIKISHA                |\n",
      "|VLASOVA                |\n",
      "|SIN                    |\n",
      "|PARK                   |\n",
      "|LEE                    |\n",
      "|SEIDEL                 |\n",
      "|LOUDIN                 |\n",
      "|PUKITIS                |\n",
      "|SHOEBRIDGE             |\n",
      "|VAN RUIJVEN            |\n",
      "|ITO                    |\n",
      "|YAMADA                 |\n",
      "|ZIOBRO                 |\n",
      "|PCHELINTSEV            |\n",
      "|ZHAPAROV               |\n",
      "|CLAIR                  |\n",
      "|ROMASHOV               |\n",
      "|AVVAKUMOVA             |\n",
      "|LAMY CHAPPUIS          |\n",
      "|SAMMELSELG             |\n",
      "|INSAM                  |\n",
      "|RUNGGALDIER            |\n",
      "|JAHR                   |\n",
      "|LUNDBY                 |\n",
      "|SMEBY                  |\n",
      "|VELTA                  |\n",
      "|HAZETDINOV             |\n",
      "|MAKSIMOCHKIN           |\n",
      "|ROWLEY                 |\n",
      "|TANAKA                 |\n",
      "|VAN                    |\n",
      "|HENDRICKSON            |\n",
      "|JEROME                 |\n",
      "|POLYCHRONIDIS          |\n",
      "|HOELZL                 |\n",
      "|GRAESSLER              |\n",
      "|KYKKAENEN              |\n",
      "|MAEAETTAE              |\n",
      "|MUOTKA                 |\n",
      "|CHOI                   |\n",
      "|ERNST                  |\n",
      "|WINDMUELLER            |\n",
      "|LOGAR                  |\n",
      "|POZUN                  |\n",
      "|ROGELJ                 |\n",
      "|VTIC                   |\n",
      "|PITEA                  |\n",
      "|KONDO                  |\n",
      "|SUMIYOSHI              |\n",
      "|KIKUCHI                |\n",
      "|FUJIMURA               |\n",
      "|YAMANAKA               |\n",
      "|OSHIGIRI               |\n",
      "|TAKAGI                 |\n",
      "|NOGAL                  |\n",
      "|KOVAL                  |\n",
      "|KUZNETCOV              |\n",
      "|YUSKOV                 |\n",
      "|MALYSHEVA              |\n",
      "|ANDERSSON              |\n",
      "|AYDOVA                 |\n",
      "|MEZENTSEV              |\n",
      "|SUNG                   |\n",
      "|FERNANDEZ              |\n",
      "|BLONDIN                |\n",
      "|CHRIST                 |\n",
      "|IRVINE                 |\n",
      "|JUNIO                  |\n",
      "|OUARDI                 |\n",
      "|TUTT                   |\n",
      "|WOTHERSPOON            |\n",
      "|DE HAITRE              |\n",
      "|DALDOSSI               |\n",
      "|LOLLOBRIGIDA           |\n",
      "|BOSA                   |\n",
      "|GIOVANNINI             |\n",
      "|BOKKO                  |\n",
      "|HVAMMEN                |\n",
      "|LORENTZEN              |\n",
      "|SPIELER NILSEN         |\n",
      "|NJAATUN                |\n",
      "|MANTIA                 |\n",
      "|GARCIA                 |\n",
      "|LEHMAN                 |\n",
      "|NAGY                   |\n",
      "|BITTNER                |\n",
      "|HUDEY                  |\n",
      "|BOWE                   |\n",
      "|PULLI                  |\n",
      "|KIM                    |\n",
      "|PARK                   |\n",
      "|KIM                    |\n",
      "|KIM                    |\n",
      "|YANG                   |\n",
      "|GEISREITER             |\n",
      "|ANGERMUELLER           |\n",
      "|BAUMGAERTNER           |\n",
      "|KRAUS                  |\n",
      "|ROTH                   |\n",
      "|LI                     |\n",
      "|ZHAO                   |\n",
      "|MU                     |\n",
      "|BAI                    |\n",
      "|TIAN                   |\n",
      "|LI                     |\n",
      "|PEETERS                |\n",
      "|SWINGS                 |\n",
      "|DE JONG                |\n",
      "|WILLIAMSON             |\n",
      "|KIM                    |\n",
      "|SERYAYEV               |\n",
      "|SUVOROV                |\n",
      "|BOGOLYUBSKY            |\n",
      "|JANUSKEVICIUTE         |\n",
      "|CLARO                  |\n",
      "|VON APPEN              |\n",
      "|BRACHNER               |\n",
      "|CHRAPEK                |\n",
      "|GASIENICA-DANIEL       |\n",
      "|GARNIEWICZ             |\n",
      "|JASICZEK               |\n",
      "|VANDEPUT               |\n",
      "|TAZI                   |\n",
      "|KIYADARBANDSARI        |\n",
      "|ABBASI                 |\n",
      "|DANILOCHKIN            |\n",
      "|PFIFFNER               |\n",
      "|TAYLOR                 |\n",
      "|CAILL                  |\n",
      "|HADZIC                 |\n",
      "|BULATOVIC              |\n",
      "|TRIKHICHEV             |\n",
      "|BANCORA                |\n",
      "|BIRKNER KETELHOHN      |\n",
      "|ALOPINA                |\n",
      "|MAYTAKOV               |\n",
      "|NOVIKOV                |\n",
      "|KHOROSHILOV            |\n",
      "|GLEBOV                 |\n",
      "|KHUBER                 |\n",
      "|ZHANG                  |\n",
      "|WIKSTROEM              |\n",
      "|HECTOR                 |\n",
      "|SWENN-LARSSON          |\n",
      "|ACHIRILOAIE            |\n",
      "|PELLEGRIN              |\n",
      "|DE ALIPRANDINI         |\n",
      "|BROWN                  |\n",
      "|PHILP                  |\n",
      "|PRIDY                  |\n",
      "|TERWIEL                |\n",
      "|THOMSEN                |\n",
      "|NANI                   |\n",
      "|BENDIK                 |\n",
      "|FALAT                  |\n",
      "|ZAMPA                  |\n",
      "|PUENTE TASIAS          |\n",
      "|BAMFORD                |\n",
      "|CHRYSTAL               |\n",
      "|DEMSCHAR               |\n",
      "|PERAUDO                |\n",
      "|VUKICEVIC              |\n",
      "|KOMSIC                 |\n",
      "|ZUBCIC                 |\n",
      "|VIDOVIC                |\n",
      "|BRIGOVIC               |\n",
      "|MIKLOS                 |\n",
      "|LYNE                   |\n",
      "|KILDE                  |\n",
      "|MOWINCKEL              |\n",
      "|SOLEVAAG               |\n",
      "|HUETTER                |\n",
      "|STERZ                  |\n",
      "|STRIEDINGER            |\n",
      "|GOLDBERG               |\n",
      "|WILES                  |\n",
      "|LUITZ                  |\n",
      "|PALONIEMI              |\n",
      "|GANONG                 |\n",
      "|PARK                   |\n",
      "|GIM                    |\n",
      "|SUCHARITAKUL           |\n",
      "|ALESSANDRIA            |\n",
      "|DUBOVSKA               |\n",
      "|ONSKULIS               |\n",
      "|GUDMUNDSSON            |\n",
      "|KRISTGEIRSSON          |\n",
      "|BARWOOD                |\n",
      "|VANAKORN               |\n",
      "|MEHILLI                |\n",
      "|CAMPBELL               |\n",
      "|DIAS                   |\n",
      "|HANSE                  |\n",
      "|YULE                   |\n",
      "|ZENHAEUSERN            |\n",
      "|MURISIER               |\n",
      "|AERNI                  |\n",
      "|CAVIEZEL               |\n",
      "|GISIN                  |\n",
      "|HOLDENER               |\n",
      "|SELVA                  |\n",
      "|KOSI                   |\n",
      "|KRANJEC                |\n",
      "|LAVTAR                 |\n",
      "|GOUTT                  |\n",
      "|STEYN                  |\n",
      "|SIMSEK                 |\n",
      "|KANG                   |\n",
      "|KOCAAGA                |\n",
      "|KARIM                  |\n",
      "|DIPOL                  |\n",
      "|THAKUR                 |\n",
      "|KYUNG                  |\n",
      "|HOJNISZ                |\n",
      "|NOWAKOWSKA-ZIEMNIAK    |\n",
      "|GUZIK                  |\n",
      "|LEPEL                  |\n",
      "|SLONINA                |\n",
      "|ZLATEV                 |\n",
      "|STOYANOVA              |\n",
      "|NAKAJIMA               |\n",
      "|SUZUKI                 |\n",
      "|KOBAYASHI              |\n",
      "|CHEPELIN               |\n",
      "|LIADOV                 |\n",
      "|PISAREVA               |\n",
      "|LOGINOV                |\n",
      "|GLAZYRINA              |\n",
      "|PIDRUCHNYI             |\n",
      "|ZHANG                  |\n",
      "|TANG                   |\n",
      "|DREISSIGACKER          |\n",
      "|CHEVALIER              |\n",
      "|DESTHIEUX              |\n",
      "|LINDSTROEM             |\n",
      "|ERMITS                 |\n",
      "|GAIM                   |\n",
      "|TALIHAERM              |\n",
      "|YURLOVA                |\n",
      "|GONTIER                |\n",
      "|RUNGGALDIER            |\n",
      "|FIALKOVA               |\n",
      "|HASILLA                |\n",
      "|LOBO ESCOLAR           |\n",
      "|PANTOV                 |\n",
      "|RAIKOVA                |\n",
      "|USANOVA                |\n",
      "|BOE                    |\n",
      "|RINGEN                 |\n",
      "|ARWIDSON               |\n",
      "|SZOCS                  |\n",
      "|SOULIE                 |\n",
      "|HAUSER                 |\n",
      "|INNERHOFER             |\n",
      "|HILDEBRAND             |\n",
      "|DAHLMEIER              |\n",
      "|HEINICKE               |\n",
      "|TOIVANEN               |\n",
      "|DAROZHKA               |\n",
      "|KRUPCIK                |\n",
      "|KRCMAR                 |\n",
      "|LANDOVA                |\n",
      "|PUSKARCIKOVA           |\n",
      "|LIGHTFOOT              |\n",
      "|WIESTNER               |\n",
      "|BOECKLI                |\n",
      "|CADURISCH              |\n",
      "|GASPARIN               |\n",
      "|OHACO                  |\n",
      "|HOSHINO                |\n",
      "|TSUDA                  |\n",
      "|MITSUBOSHI             |\n",
      "|TAKAO                  |\n",
      "|CROOK                  |\n",
      "|RIEMEN-ZEREBECKA       |\n",
      "|CHIRTCOVA              |\n",
      "|PAVLENKO               |\n",
      "|BUROV                  |\n",
      "|KROTOV                 |\n",
      "|KORSUNOVA              |\n",
      "|ORLOVA                 |\n",
      "|SLIVETS                |\n",
      "|SLIVETS                |\n",
      "|MIRTOVA                |\n",
      "|KORPACHEV              |\n",
      "|MAKAGONOVA             |\n",
      "|NABOKIKH               |\n",
      "|CHESNOKOVA             |\n",
      "|ALDABERGENOVA          |\n",
      "|INKARBEK               |\n",
      "|ADELISSE               |\n",
      "|BARON                  |\n",
      "|BERGER SABBATEL        |\n",
      "|BERTONI                |\n",
      "|BONNAIRE               |\n",
      "|CARADEUX               |\n",
      "|CAVET                  |\n",
      "|DEVOUASSOUX            |\n",
      "|KRIEF                  |\n",
      "|LAFFONT                |\n",
      "|JOFFROY                |\n",
      "|PANCRAS                |\n",
      "|VALENTIN               |\n",
      "|GRIFFITHS              |\n",
      "|SLEPECKA               |\n",
      "|STROMKOVA              |\n",
      "|EDER                   |\n",
      "|BEAULIEU-MARCHAND      |\n",
      "|TSUBOTA                |\n",
      "|DOREY                  |\n",
      "|GAGNON                 |\n",
      "|GERRITS                |\n",
      "|GROENEWOUD             |\n",
      "|HANSEN                 |\n",
      "|MARGETTS               |\n",
      "|TURSKI                 |\n",
      "|EKLUND                 |\n",
      "|BERTAGNA               |\n",
      "|TJADER                 |\n",
      "|DAHLSTROM              |\n",
      "|FJALLSTROM             |\n",
      "|BOWMAN                 |\n",
      "|AURDAL                 |\n",
      "|BRAATEN                |\n",
      "|HAATVEIT               |\n",
      "|JUELL                  |\n",
      "|LINDSTAD               |\n",
      "|MITHASSEL              |\n",
      "|WESSEL                 |\n",
      "|NAESLUND               |\n",
      "|OEHLING NORBERG        |\n",
      "|WESTER                 |\n",
      "|HARLAUT                |\n",
      "|PUZDERKO               |\n",
      "|NOVOSAD                |\n",
      "|MOKHNATSKA             |\n",
      "|BAIR                   |\n",
      "|GOHL                   |\n",
      "|LADNER                 |\n",
      "|TRIBONDEAU             |\n",
      "|WAHRSTOETTER           |\n",
      "|GRIMUS                 |\n",
      "|HENSHAW                |\n",
      "|KENNEDY-SIM            |\n",
      "|PARKS                  |\n",
      "|PEEL                   |\n",
      "|SCOTT                  |\n",
      "|SEGAL                  |\n",
      "|SHEEHAN                |\n",
      "|SUMMERS                |\n",
      "|WELLS                  |\n",
      "|WILLIAMS               |\n",
      "|HUNDER                 |\n",
      "|CURRIER                |\n",
      "|VANLAANEN              |\n",
      "|BROWN                  |\n",
      "|YATER-WALLACE          |\n",
      "|DREW                   |\n",
      "|SIGOURNEY              |\n",
      "|BOHONNON               |\n",
      "|TELLER                 |\n",
      "|HERMAN                 |\n",
      "|EIGLER                 |\n",
      "|ZIMMERMANN             |\n",
      "|GRASEMANN              |\n",
      "|BOHNACKER              |\n",
      "|CAKMAKLI               |\n",
      "|STAUDINGER             |\n",
      "|KEMPPAINEN             |\n",
      "|MIETTUNEN              |\n",
      "|PENTTALA               |\n",
      "|RAISANEN               |\n",
      "|SALONEN                |\n",
      "|SEO                    |\n",
      "|PARK                   |\n",
      "|ONEILL                 |\n",
      "|KOLMAKOV               |\n",
      "|SKALA                  |\n",
      "|BUCHAN                 |\n",
      "|LONSDALE               |\n",
      "|MACHON                 |\n",
      "|WOODS                  |\n",
      "|SANTOS                 |\n",
      "|OLLILA                 |\n",
      "|KUZMA                  |\n",
      "|SHEEHAN                |\n",
      "|WELLS                  |\n",
      "|WELLS                  |\n",
      "|WILLCOX-SILFVERBERG    |\n",
      "|AERTS                  |\n",
      "|MUELLER                |\n",
      "|RAGETTLI               |\n",
      "|AMBUEHL                |\n",
      "|BERRA                  |\n",
      "|BHEND                  |\n",
      "|BOESCH                 |\n",
      "|FAIVRE                 |\n",
      "|GASSER                 |\n",
      "|GISLER                 |\n",
      "|JAEGER                 |\n",
      "|LAUPER                 |\n",
      "|LERJEN                 |\n",
      "|SCHULER                |\n",
      "|MARINO                 |\n",
      "|KRASS                  |\n",
      "|MAYR                   |\n",
      "|PATJA                  |\n",
      "|PODCHUFAROVA           |\n",
      "|ENGER                  |\n",
      "|TIMOFEEV               |\n",
      "|ASGEIRSDOTTIR          |\n",
      "|PARDO ANDRETTA         |\n",
      "|PLUSHENKO              |\n",
      "|TRETIAKOV              |\n",
      "|Welle-Strand HORN      |\n",
      "|DOHERTY                |\n",
      "|BURDYGA                |\n",
      "|PANFILOVA              |\n",
      "|PINTER                 |\n",
      "|MOYSE                  |\n",
      "|HUMPHRIES              |\n",
      "|WILLIAMS               |\n",
      "|MEYERS                 |\n",
      "|GREUBEL                |\n",
      "|EVANS                  |\n",
      "|KAMPHUIS               |\n",
      "|VIS                    |\n",
      "|PROKOFF                |\n",
      "|FRITZ                  |\n",
      "|WILLEMSEN              |\n",
      "|Emilie MARIEN          |\n",
      "|MARTINI                |\n",
      "|SENKEL                 |\n",
      "|MEYER                  |\n",
      "|MAYER                  |\n",
      "|UDOBKINA               |\n",
      "|STULNEVA               |\n",
      "|SCHNEIDERHEINZE        |\n",
      "|SCHNEIDER              |\n",
      "|JONES                  |\n",
      "|FENLATOR               |\n",
      "|WALKER                 |\n",
      "|WILSON                 |\n",
      "|CIOCHETTI              |\n",
      "|VALOIS                 |\n",
      "|RAWLINSON              |\n",
      "|RADJENOVIC             |\n",
      "|HENGSTER               |\n",
      "|TUECHI                 |\n",
      "|SERGEEVA               |\n",
      "|PALEEVA                |\n",
      "|GRECU                  |\n",
      "|CONSTANTIN             |\n",
      "|KIM                    |\n",
      "|SHIN                   |\n",
      "|SANTOS                 |\n",
      "|Mayara DA SILVA        |\n",
      "|ZUBKOV                 |\n",
      "|VOEVODA                |\n",
      "|HEFTI                  |\n",
      "|BAUMANN                |\n",
      "|HOLCOMB                |\n",
      "|LANGTON                |\n",
      "|BELUGIN                |\n",
      "|KASJANOV               |\n",
      "|DREISHKENS             |\n",
      "|MELBARDIS              |\n",
      "|BARNETT                |\n",
      "|KRIPPS                 |\n",
      "|LUMSDEN                |\n",
      "|SPRING                 |\n",
      "|BAECKER                |\n",
      "|FRIEDRICH              |\n",
      "|RUSH                   |\n",
      "|BROWN                  |\n",
      "|EGGER                  |\n",
      "|PETER                  |\n",
      "|KUSKE                  |\n",
      "|FLORSCHUETZ            |\n",
      "|FOGT                   |\n",
      "|BUTNER                 |\n",
      "|CUNNINGHAM             |\n",
      "|ROBINSON               |\n",
      "|BERTAZZO               |\n",
      "|FONTANA                |\n",
      "|ROEDIGER               |\n",
      "|ARNDT                  |\n",
      "|KIBERMANIS             |\n",
      "|LEIBOMS                |\n",
      "|ISTRATE                |\n",
      "|Cezar CRACIUN          |\n",
      "|WON                    |\n",
      "|SEO                    |\n",
      "|VAN CALKER             |\n",
      "|VAN DER ZIJDE          |\n",
      "|HEINRICH               |\n",
      "|COSTERG                |\n",
      "|GATTUSO                |\n",
      "|SERVELLE               |\n",
      "|MAIER                  |\n",
      "|SAMMER                 |\n",
      "|BAINES                 |\n",
      "|DEEN                   |\n",
      "|VRBA                   |\n",
      "|VACEK                  |\n",
      "|KIM                    |\n",
      "|JUN                    |\n",
      "|HARVEY                 |\n",
      "|SPENCE                 |\n",
      "|KUPCZYK                |\n",
      "|MROZ                   |\n",
      "|SUZUKI                 |\n",
      "|MIYAZAKI               |\n",
      "|WATT                   |\n",
      "|DIXON                  |\n",
      "|RADENOVIC              |\n",
      "|BUNDALO                |\n",
      "|TRUNENKOV              |\n",
      "|NEGODAYLO              |\n",
      "|STRENGA                |\n",
      "|VILKASTE               |\n",
      "|TOMASEVICZ             |\n",
      "|PUSHKAREV              |\n",
      "|HUZIN                  |\n",
      "|BENSON                 |\n",
      "|FEARON                 |\n",
      "|James JACKSON          |\n",
      "|TASKER                 |\n",
      "|PUTZE                  |\n",
      "|HUEBENBECKER           |\n",
      "|POSER                  |\n",
      "|BLUHM                  |\n",
      "|LAMPARTER              |\n",
      "|BISSETT                |\n",
      "|WRIGHT                 |\n",
      "|BERMBACH               |\n",
      "|MARGIS                 |\n",
      "|JANSMA                 |\n",
      "|KLAASSEN               |\n",
      "|OLSEN                  |\n",
      "|QUINN                  |\n",
      "|MCNAUGHTON             |\n",
      "|RANDALL                |\n",
      "|BROKS                  |\n",
      "|LUSIS                  |\n",
      "|MOISEEV                |\n",
      "|ZAKHAROV               |\n",
      "|MOKROUSOV              |\n",
      "|KHRENKOV               |\n",
      "|SUCHY                  |\n",
      "|DVORAK                 |\n",
      "|LEFORT                 |\n",
      "|RIBET                  |\n",
      "|ROMANINI               |\n",
      "|COSTA                  |\n",
      "|SIMONS                 |\n",
      "|MATTHEWS               |\n",
      "|SUK                    |\n",
      "|SOMOV                  |\n",
      "|WITHALM                |\n",
      "|MATA                   |\n",
      "|NICHOLS                |\n",
      "|BAILLARD               |\n",
      "|BOUTHERIN              |\n",
      "|Alexis GODEFROY        |\n",
      "|Daniel Jean-Paul RICARD|\n",
      "|NEAGU                  |\n",
      "|MUNTEAN                |\n",
      "|OTAVA                  |\n",
      "|JAGNESAK               |\n",
      "|NAROVEC                |\n",
      "|KOZIENKA               |\n",
      "|MOKRAS                 |\n",
      "|SATO                   |\n",
      "|KUROIWA                |\n",
      "|KIM                    |\n",
      "|KIM                    |\n",
      "|OH                     |\n",
      "|BINDILATTI             |\n",
      "|Carlos PESSONI         |\n",
      "|Ricardo MARTINS        |\n",
      "|GONCALVES SILVA        |\n",
      "|DEMETRE                |\n",
      "|RINHOLM                |\n",
      "|KASPEROWICZ            |\n",
      "|ZALEWSKI               |\n",
      "|MINATO                 |\n",
      "|NABEEV                 |\n",
      "|YAHIN                  |\n",
      "|LAWES                  |\n",
      "|MCEWEN                 |\n",
      "|OFFICER                |\n",
      "|WALL                   |\n",
      "|BERTRUP                |\n",
      "|KNOCHENHAUER           |\n",
      "|PRYTZ                  |\n",
      "|SIGFRIDSSON            |\n",
      "|WENNERSTROM            |\n",
      "|ADAMS                  |\n",
      "|GRAY                   |\n",
      "|HAMILTON               |\n",
      "|MUIRHEAD               |\n",
      "|SLOAN                  |\n",
      "|OTT                    |\n",
      "|SCHAFER                |\n",
      "|KUNG                   |\n",
      "|GREINER                |\n",
      "|PATZ                   |\n",
      "|OGASAWARA              |\n",
      "|FUNAYAMA               |\n",
      "|ONODERA                |\n",
      "|TOMABECHI              |\n",
      "|YOSHIDA                |\n",
      "|NIELSEN                |\n",
      "|SIMONSEN               |\n",
      "|ELLEGAARD              |\n",
      "|POULSEN                |\n",
      "|DE NEERGAARD           |\n",
      "|BINGYU                 |\n",
      "|YIN                    |\n",
      "|QUINGSHUANG            |\n",
      "|YAN                    |\n",
      "|YILUN                  |\n",
      "|JI-SUN                 |\n",
      "|SEUL-BEE               |\n",
      "|MI-SUNG                |\n",
      "|UN-CHI                 |\n",
      "|HYUN-JUNG              |\n",
      "|JACOBS                 |\n",
      "|FRY                    |\n",
      "|J. HARNDEN             |\n",
      "|HARNDEN                |\n",
      "|FLAXEY                 |\n",
      "|MURDOCH                |\n",
      "|BREWSTER               |\n",
      "|DRUMMOND               |\n",
      "|ANDREWS                |\n",
      "|GOODFELLOW             |\n",
      "|EDIN                   |\n",
      "|KRAUPP                 |\n",
      "|LINDBERG               |\n",
      "|KJALL                  |\n",
      "|ERIKSSON               |\n",
      "|RUI                    |\n",
      "|XIAOMING               |\n",
      "|DEXIN                  |\n",
      "|JIALIANG               |\n",
      "|DEJIA                  |\n",
      "|ULSRUD                 |\n",
      "|NERGARD                |\n",
      "|SVAE                   |\n",
      "|VAD PETERSSON          |\n",
      "|HOIBERG                |\n",
      "|STJERNE                |\n",
      "|FREDERIKSEN            |\n",
      "|POULSEN                |\n",
      "|HARRY                  |\n",
      "|VILANDT                |\n",
      "|DROZDOV                |\n",
      "|ARKHIPOV               |\n",
      "|STUKALSKIY             |\n",
      "|DRON                   |\n",
      "|KOZYREV                |\n",
      "|MICHEL                 |\n",
      "|PATZ                   |\n",
      "|TROLLIET               |\n",
      "|GEMPELER               |\n",
      "|Agosta                 |\n",
      "|Apps                   |\n",
      "|Daoust                 |\n",
      "|Fortino                |\n",
      "|Hefford                |\n",
      "|Irwin                  |\n",
      "|Jenner                 |\n",
      "|Johnston               |\n",
      "|Labonté                |\n",
      "|Lacasse                |\n",
      "|Larocque               |\n",
      "|Mikkelson              |\n",
      "|Ouellette              |\n",
      "|Poulin                 |\n",
      "|Rougeau                |\n",
      "|Spooner                |\n",
      "|Szabados               |\n",
      "|Wakefield              |\n",
      "|Ward                   |\n",
      "|Watchorn               |\n",
      "|Wickenheiser           |\n",
      "|Bellamy                |\n",
      "|Bozek                  |\n",
      "|Carpenter              |\n",
      "|Chu                    |\n",
      "|Coyne                  |\n",
      "|Decker                 |\n",
      "|Duggan                 |\n",
      "|Fry                    |\n",
      "|Kessel                 |\n",
      "|Knight                 |\n",
      "|Lamoureux              |\n",
      "|Lamoureux-Kolls        |\n",
      "|Marvin                 |\n",
      "|McLaughlin             |\n",
      "|Picard                 |\n",
      "|Pucci                  |\n",
      "|Schaus                 |\n",
      "|Schleper               |\n",
      "|Stack                  |\n",
      "|Stecklein              |\n",
      "|Vetter                 |\n",
      "|Alder                  |\n",
      "|Altmann                |\n",
      "|Anthamatten            |\n",
      "|Benz                   |\n",
      "|Benz                   |\n",
      "|Bullo                  |\n",
      "|Eggimann               |\n",
      "|Forster                |\n",
      "|Frautschi              |\n",
      "|Lutz                   |\n",
      "|Marty                  |\n",
      "|Marty                  |\n",
      "|Muller                 |\n",
      "|Nabholz                |\n",
      "|Raselli                |\n",
      "|Schelling              |\n",
      "|Stalder                |\n",
      "|Stanz                  |\n",
      "|Stiefel                |\n",
      "|Thalmann               |\n",
      "|Waidacher              |\n",
      "|Benn                   |\n",
      "|Bergeron               |\n",
      "|Bouwmeester            |\n",
      "|Carter                 |\n",
      "|Crosby                 |\n",
      "|Doughty                |\n",
      "|Duchene                |\n",
      "|Getzlaf                |\n",
      "|Hamhuis                |\n",
      "|Keith                  |\n",
      "|Kunitz                 |\n",
      "|Luongo                 |\n",
      "|Marleau                |\n",
      "|Nash                   |\n",
      "|Perry                  |\n",
      "|Pietrangelo            |\n",
      "|Price                  |\n",
      "|St-Louis               |\n",
      "|Sharp                  |\n",
      "|Smith                  |\n",
      "|Subban                 |\n",
      "|Tavares                |\n",
      "|Toews                  |\n",
      "|Vlasic                 |\n",
      "|Weber                  |\n",
      "|Alfredsson             |\n",
      "|Backstrom              |\n",
      "|Berglund               |\n",
      "|Edler                  |\n",
      "|Ekman-Larsson          |\n",
      "|Enroth                 |\n",
      "|Ericsson               |\n",
      "|Ericsson               |\n",
      "|Eriksson               |\n",
      "|Gustavsson             |\n",
      "|Hagelin                |\n",
      "|Hjalmarsson            |\n",
      "|Johansson              |\n",
      "|Karlsson               |\n",
      "|Kronwall               |\n",
      "|Krüger                 |\n",
      "|Landeskog              |\n",
      "|Lundqvist              |\n",
      "|Nyquist                |\n",
      "|Oduya                  |\n",
      "|Sedin                  |\n",
      "|Silfverberg            |\n",
      "|Steen                  |\n",
      "|Tallinder              |\n",
      "|Zetterberg             |\n",
      "|Aaltonen               |\n",
      "|Barkov                 |\n",
      "|Granlund               |\n",
      "|Hietanen               |\n",
      "|Immonen                |\n",
      "|Jokinen                |\n",
      "|Jokinen                |\n",
      "|Komarov                |\n",
      "|Lepistö                |\n",
      "|Kontiola               |\n",
      "|Korpikoski             |\n",
      "|Kukkonen               |\n",
      "|Lehterä                |\n",
      "|Lehtonen               |\n",
      "|Määttä                 |\n",
      "|Niemi                  |\n",
      "|Pihlström              |\n",
      "|Rask                   |\n",
      "|Ruutu                  |\n",
      "|Salminen               |\n",
      "|Salo                   |\n",
      "|Selänne                |\n",
      "|Timonen                |\n",
      "|Väänänen               |\n",
      "|Vatanen                |\n",
      "|ARLT                   |\n",
      "|WENDL                  |\n",
      "|LINGER                 |\n",
      "|LINGER                 |\n",
      "|SICS                   |\n",
      "|SICS                   |\n",
      "|SNITH                  |\n",
      "|WALKER                 |\n",
      "|ANTONOV                |\n",
      "|DENISYEV               |\n",
      "|GRUBER                 |\n",
      "|OBERSTOLZ              |\n",
      "|RASTNER                |\n",
      "|RIEDER                 |\n",
      "|EGGERT                 |\n",
      "|BENECKEN               |\n",
      "|MAKHNUTIN              |\n",
      "|YUZHAKOV               |\n",
      "|GUDRAMOVICS            |\n",
      "|KALNINS                |\n",
      "|NICCUM                 |\n",
      "|TERDIMAN               |\n",
      "|PETRULAK               |\n",
      "|ZEMANIK                |\n",
      "|BROZ                   |\n",
      "|BROZ                   |\n",
      "|GRIFFALL               |\n",
      "|MORTENSEN              |\n",
      "|MIKRUT                 |\n",
      "|POREBA                 |\n",
      "|SOLCANSKY              |\n",
      "|STUCHLAK               |\n",
      "|ZAKHARKIV              |\n",
      "|OBOLONCHYK             |\n",
      "|PARK                   |\n",
      "|Myung CHO              |\n",
      "|FISCHLER               |\n",
      "|PENZ                   |\n",
      "|ZÖGGELER               |\n",
      "|TATIANA                |\n",
      "|MAXIM                  |\n",
      "|KSENIA                 |\n",
      "|FEDOR 02               |\n",
      "|ALIONA                 |\n",
      "|ROBIN 02               |\n",
      "|WHITE                  |\n",
      "|DAVIS                  |\n",
      "|MOIR                   |\n",
      "|VIRTUE                 |\n",
      "|ILINYKH                |\n",
      "|KATSALAPOV             |\n",
      "|BOURZAT                |\n",
      "|PECHALAT               |\n",
      "|SOLOVIEV               |\n",
      "|BOBROVA                |\n",
      "|CAPPELLINI             |\n",
      "|LANOTTE                |\n",
      "|POJE                   |\n",
      "|WEAVER                 |\n",
      "|CHOCK                  |\n",
      "|BATES                  |\n",
      "|SHIBUTANI              |\n",
      "|SHIBUTANI              |\n",
      "|BUCKLAND               |\n",
      "|COOMES                 |\n",
      "|GAZSI                  |\n",
      "|ZHIGANSHINA            |\n",
      "|SITNIKOV               |\n",
      "|ZLOBINA                |\n",
      "|DIAZ                   |\n",
      "|HURTADO                |\n",
      "|GUIGNARD               |\n",
      "|FABBRI                 |\n",
      "|CARRON                 |\n",
      "|JONES                  |\n",
      "|SINITSINA              |\n",
      "|ZHIGANSHIN             |\n",
      "|STAGNIUNAS             |\n",
      "|TOBIAS                 |\n",
      "|ISLAM                  |\n",
      "|PAUL                   |\n",
      "|KOLBE                  |\n",
      "|CARUSO                 |\n",
      "|OBRIEN                 |\n",
      "|MERRIMAN               |\n",
      "|REED                   |\n",
      "|REED                   |\n",
      "|UCAR                   |\n",
      "|AGAFONOVA              |\n",
      "|HUANG                  |\n",
      "|ZHENG                  |\n",
      "|DUN                    |\n",
      "|HEEKIN-CANEDY          |\n",
      "|Bobrova                |\n",
      "|Ilinykh                |\n",
      "|Katsalapov             |\n",
      "|Klimov                 |\n",
      "|Lipnitskaya            |\n",
      "|Pliouchtchenko         |\n",
      "|Soloviev               |\n",
      "|Stolbova               |\n",
      "|Trankov                |\n",
      "|Volosozhar             |\n",
      "|Chan                   |\n",
      "|Duhamel                |\n",
      "|Moir                   |\n",
      "|Moore-Towers           |\n",
      "|Moscovitch             |\n",
      "|Osmond                 |\n",
      "|Radford                |\n",
      "|Reynolds               |\n",
      "|Virtue                 |\n",
      "|Abbott                 |\n",
      "|Brown                  |\n",
      "|Castelli               |\n",
      "|Davis                  |\n",
      "|Gold                   |\n",
      "|Shnapir                |\n",
      "|Wagner                 |\n",
      "|White                  |\n",
      "|Hee SHIM               |\n",
      "|FAN                    |\n",
      "|ZAKHAROV               |\n",
      "|WU                     |\n",
      "|BREEUWSMA              |\n",
      "|AZHGALIYEV             |\n",
      "|GRUBER                 |\n",
      "|NARUSE                 |\n",
      "|YOSHIDA                |\n",
      "|MIYAZAWA               |\n",
      "|LENTING                |\n",
      "|COLOGNA                |\n"
     ]
    }
   ],
   "source": [
    "cursor=execute(connection,query=\"SELECT nomath FROM athlete\",show=True)"
   ]
  },
  {
   "cell_type": "code",
   "execution_count": 47,
   "metadata": {
    "id": "XubF4ZiUK_QO"
   },
   "outputs": [
    {
     "data": {
      "text/plain": [
       "b'SELECT nomath FROM athlete'"
      ]
     },
     "execution_count": 47,
     "metadata": {},
     "output_type": "execute_result"
    }
   ],
   "source": [
    "cursor.query"
   ]
  },
  {
   "cell_type": "code",
   "execution_count": 48,
   "metadata": {
    "id": "dO5BM6iIK_QO"
   },
   "outputs": [
    {
     "data": {
      "text/plain": [
       "2431"
      ]
     },
     "execution_count": 48,
     "metadata": {},
     "output_type": "execute_result"
    }
   ],
   "source": [
    "cursor.rowcount"
   ]
  },
  {
   "cell_type": "code",
   "execution_count": 49,
   "metadata": {
    "id": "yRiPSha0K_QO"
   },
   "outputs": [
    {
     "data": {
      "text/plain": [
       "(Column(name='nomath', type_code=1043),)"
      ]
     },
     "execution_count": 49,
     "metadata": {},
     "output_type": "execute_result"
    }
   ],
   "source": [
    "cursor.description"
   ]
  },
  {
   "cell_type": "markdown",
   "metadata": {
    "id": "GH_DCCUYK_QP"
   },
   "source": [
    "## TD 5 SQL JOINTURES"
   ]
  },
  {
   "cell_type": "markdown",
   "metadata": {
    "id": "f2Wp1A3qK_QP"
   },
   "source": [
    "### Jointures"
   ]
  },
  {
   "cell_type": "markdown",
   "metadata": {
    "id": "GCUKmuBGK_QP"
   },
   "source": [
    "Q1. Les athlètes français (nom pays = 'France') (104 lignes)."
   ]
  },
  {
   "cell_type": "code",
   "execution_count": 50,
   "metadata": {
    "id": "EN1KA770K_QP",
    "scrolled": true
   },
   "outputs": [
    {
     "name": "stdout",
     "output_type": "stream",
     "text": [
      "104 rows\n",
      "|nomath                 |prenomath     |\n",
      "|---------------------------------------\n",
      "|FOURCADE               |Martin        |\n",
      "|LAMY CHAPPUIS          |Jason         |\n",
      "|VAULTIER               |Pierre        |\n",
      "|CHAPUIS                |Jean Frederic |\n",
      "|BRUNET                 |Marie Laure   |\n",
      "|DORIN HABERT           |Marie         |\n",
      "|ANTHONIOZ              |Deborah       |\n",
      "|MISSILLIER             |Steve         |\n",
      "|BOVOLENTA              |Arnaud        |\n",
      "|MARTINOD               |Marie         |\n",
      "|GAILLARD               |Jean Marc     |\n",
      "|DE LE RUE              |Paul-Henri    |\n",
      "|PINTURAULT             |Alexis        |\n",
      "|BEATRIX                |Jean Guillaume|\n",
      "|DUVILLARD              |Robin         |\n",
      "|MANIFICAT              |Maurice       |\n",
      "|PERRILLAT BOITEUX      |Ivan          |\n",
      "|JOSSERAND              |Marion        |\n",
      "|RAMOIN                 |Tony          |\n",
      "|TRESPEUCH              |Chloe         |\n",
      "|MATTEL                 |Coline        |\n",
      "|MIDOL                  |Jonathan      |\n",
      "|ROLLAND                |Kevin         |\n",
      "|LACROIX                |Sebastian     |\n",
      "|LIZEROUX               |Julien        |\n",
      "|JOUBERT                |Brian         |\n",
      "|CHATAIGNIER            |Maxime        |\n",
      "|FAUCONNET              |Thibaut       |\n",
      "|PIERRON                |Veronique     |\n",
      "|BARTHET                |Anne-Sophie   |\n",
      "|FANARA                 |Thomas        |\n",
      "|GRANGE                 |Jean-Baptiste |\n",
      "|MARCHAND-ARVIER        |Marie         |\n",
      "|THEAUX                 |Adrien        |\n",
      "|FOURCADE               |Simon         |\n",
      "|BRAUD                  |Francois      |\n",
      "|LAHEURTE               |Maxime        |\n",
      "|RODRIGUEZ              |Sophie        |\n",
      "|BAUD                   |Adeline       |\n",
      "|BERTRAND               |Marion        |\n",
      "|MARMOTTAN              |Anemone       |\n",
      "|NOENS                  |Nastasia      |\n",
      "|CLAREY                 |Johan         |\n",
      "|FAIVRE                 |Mathieu       |\n",
      "|FAYED                  |Guillermo     |\n",
      "|MERMILLOD BLONDIN      |Thomas        |\n",
      "|POISSON                |David         |\n",
      "|BESCOND                |Anais         |\n",
      "|BOEUF                  |Alexis        |\n",
      "|BOLLIET                |Marine        |\n",
      "|FAIVRE PICON           |Anouk         |\n",
      "|GAILLARD               |Cyril         |\n",
      "|HUGUE                  |Coraline      |\n",
      "|MIRANDA                |Cyril         |\n",
      "|BENNA                  |Anthony       |\n",
      "|DAVID                  |Ophelie       |\n",
      "|AMODIO                 |Florent       |\n",
      "|BAISAMY                |Johann        |\n",
      "|DUFOUR                 |Sylvain       |\n",
      "|LONGO                  |Arthur        |\n",
      "|MOENNE LOCCOZ          |Nelly         |\n",
      "|THOVEX                 |Mirabelle     |\n",
      "|LEPAPE                 |Sebastien     |\n",
      "|MACE                   |Benjamin      |\n",
      "|LEMARE                 |Lea           |\n",
      "|AYMONIER               |Celia         |\n",
      "|BACKSCHEIDER           |Adrien        |\n",
      "|GROS                   |Baptiste      |\n",
      "|JAY                    |Renaud        |\n",
      "|JEAN                   |Aurore        |\n",
      "|BUILLET                |Marion        |\n",
      "|MEITE                  |Mae Berenice  |\n",
      "|BONNEFOY               |Morgane       |\n",
      "|BANKES                 |Charlotte     |\n",
      "|GRIMAL                 |Clemence      |\n",
      "|CLAIR                  |Julia         |\n",
      "|LAMY CHAPPUIS          |Ronan         |\n",
      "|FERNANDEZ              |Ewen          |\n",
      "|CHEVALIER              |Anais         |\n",
      "|DESTHIEUX              |Simon         |\n",
      "|ADELISSE               |Antoine       |\n",
      "|BARON                  |Alizee        |\n",
      "|BERGER SABBATEL        |Marielle      |\n",
      "|BERTONI                |Xavier        |\n",
      "|BONNAIRE               |Jules         |\n",
      "|CARADEUX               |Anais         |\n",
      "|CAVET                  |Benjamin      |\n",
      "|DEVOUASSOUX            |Jonas         |\n",
      "|KRIEF                  |Thomas        |\n",
      "|LAFFONT                |Perrine       |\n",
      "|PANCRAS                |Jeremy        |\n",
      "|VALENTIN               |Benoit        |\n",
      "|HEINRICH               |Romain        |\n",
      "|COSTERG                |Loic          |\n",
      "|LEFORT                 |Elly          |\n",
      "|RIBET                  |Florent       |\n",
      "|BAILLARD               |Jeremy        |\n",
      "|BOUTHERIN              |Jeremie       |\n",
      "|Alexis GODEFROY        |Thibault      |\n",
      "|Daniel Jean-Paul RICARD|Vincent       |\n",
      "|BOURZAT                |Fabian        |\n",
      "|PECHALAT               |Nathalie      |\n",
      "|CARRON                 |Pernelle      |\n",
      "|JONES                  |Lloyd         |\n"
     ]
    }
   ],
   "source": [
    "query=\"\"\"\n",
    "select a.nomAth, a.prenomAth\n",
    "from Pays p, Athlete a\n",
    "where a.codePays = p.codePays and p.nomP='France'\n",
    "\"\"\"\n",
    "\n",
    "cursor=execute(connection,query,show=True)"
   ]
  },
  {
   "cell_type": "code",
   "execution_count": 51,
   "metadata": {
    "id": "uuy4w1IbK_QP",
    "scrolled": true
   },
   "outputs": [
    {
     "name": "stdout",
     "output_type": "stream",
     "text": [
      "104 rows\n",
      "|nomath                 |prenomath     |\n",
      "|---------------------------------------\n",
      "|FOURCADE               |Martin        |\n",
      "|LAMY CHAPPUIS          |Jason         |\n",
      "|VAULTIER               |Pierre        |\n",
      "|CHAPUIS                |Jean Frederic |\n",
      "|BRUNET                 |Marie Laure   |\n",
      "|DORIN HABERT           |Marie         |\n",
      "|ANTHONIOZ              |Deborah       |\n",
      "|MISSILLIER             |Steve         |\n",
      "|BOVOLENTA              |Arnaud        |\n",
      "|MARTINOD               |Marie         |\n",
      "|GAILLARD               |Jean Marc     |\n",
      "|DE LE RUE              |Paul-Henri    |\n",
      "|PINTURAULT             |Alexis        |\n",
      "|BEATRIX                |Jean Guillaume|\n",
      "|DUVILLARD              |Robin         |\n",
      "|MANIFICAT              |Maurice       |\n",
      "|PERRILLAT BOITEUX      |Ivan          |\n",
      "|JOSSERAND              |Marion        |\n",
      "|RAMOIN                 |Tony          |\n",
      "|TRESPEUCH              |Chloe         |\n",
      "|MATTEL                 |Coline        |\n",
      "|MIDOL                  |Jonathan      |\n",
      "|ROLLAND                |Kevin         |\n",
      "|LACROIX                |Sebastian     |\n",
      "|LIZEROUX               |Julien        |\n",
      "|JOUBERT                |Brian         |\n",
      "|CHATAIGNIER            |Maxime        |\n",
      "|FAUCONNET              |Thibaut       |\n",
      "|PIERRON                |Veronique     |\n",
      "|BARTHET                |Anne-Sophie   |\n",
      "|FANARA                 |Thomas        |\n",
      "|GRANGE                 |Jean-Baptiste |\n",
      "|MARCHAND-ARVIER        |Marie         |\n",
      "|THEAUX                 |Adrien        |\n",
      "|FOURCADE               |Simon         |\n",
      "|BRAUD                  |Francois      |\n",
      "|LAHEURTE               |Maxime        |\n",
      "|RODRIGUEZ              |Sophie        |\n",
      "|BAUD                   |Adeline       |\n",
      "|BERTRAND               |Marion        |\n",
      "|MARMOTTAN              |Anemone       |\n",
      "|NOENS                  |Nastasia      |\n",
      "|CLAREY                 |Johan         |\n",
      "|FAIVRE                 |Mathieu       |\n",
      "|FAYED                  |Guillermo     |\n",
      "|MERMILLOD BLONDIN      |Thomas        |\n",
      "|POISSON                |David         |\n",
      "|BESCOND                |Anais         |\n",
      "|BOEUF                  |Alexis        |\n",
      "|BOLLIET                |Marine        |\n",
      "|FAIVRE PICON           |Anouk         |\n",
      "|GAILLARD               |Cyril         |\n",
      "|HUGUE                  |Coraline      |\n",
      "|MIRANDA                |Cyril         |\n",
      "|BENNA                  |Anthony       |\n",
      "|DAVID                  |Ophelie       |\n",
      "|AMODIO                 |Florent       |\n",
      "|BAISAMY                |Johann        |\n",
      "|DUFOUR                 |Sylvain       |\n",
      "|LONGO                  |Arthur        |\n",
      "|MOENNE LOCCOZ          |Nelly         |\n",
      "|THOVEX                 |Mirabelle     |\n",
      "|LEPAPE                 |Sebastien     |\n",
      "|MACE                   |Benjamin      |\n",
      "|LEMARE                 |Lea           |\n",
      "|AYMONIER               |Celia         |\n",
      "|BACKSCHEIDER           |Adrien        |\n",
      "|GROS                   |Baptiste      |\n",
      "|JAY                    |Renaud        |\n",
      "|JEAN                   |Aurore        |\n",
      "|BUILLET                |Marion        |\n",
      "|MEITE                  |Mae Berenice  |\n",
      "|BONNEFOY               |Morgane       |\n",
      "|BANKES                 |Charlotte     |\n",
      "|GRIMAL                 |Clemence      |\n",
      "|CLAIR                  |Julia         |\n",
      "|LAMY CHAPPUIS          |Ronan         |\n",
      "|FERNANDEZ              |Ewen          |\n",
      "|CHEVALIER              |Anais         |\n",
      "|DESTHIEUX              |Simon         |\n",
      "|ADELISSE               |Antoine       |\n",
      "|BARON                  |Alizee        |\n",
      "|BERGER SABBATEL        |Marielle      |\n",
      "|BERTONI                |Xavier        |\n",
      "|BONNAIRE               |Jules         |\n",
      "|CARADEUX               |Anais         |\n",
      "|CAVET                  |Benjamin      |\n",
      "|DEVOUASSOUX            |Jonas         |\n",
      "|KRIEF                  |Thomas        |\n",
      "|LAFFONT                |Perrine       |\n",
      "|PANCRAS                |Jeremy        |\n",
      "|VALENTIN               |Benoit        |\n",
      "|HEINRICH               |Romain        |\n",
      "|COSTERG                |Loic          |\n",
      "|LEFORT                 |Elly          |\n",
      "|RIBET                  |Florent       |\n",
      "|BAILLARD               |Jeremy        |\n",
      "|BOUTHERIN              |Jeremie       |\n",
      "|Alexis GODEFROY        |Thibault      |\n",
      "|Daniel Jean-Paul RICARD|Vincent       |\n",
      "|BOURZAT                |Fabian        |\n",
      "|PECHALAT               |Nathalie      |\n",
      "|CARRON                 |Pernelle      |\n",
      "|JONES                  |Lloyd         |\n"
     ]
    }
   ],
   "source": [
    "query=\"\"\"\n",
    "select nomAth, prenomAth\n",
    "from Pays natural join Athlete\n",
    "where nomP='France'\n",
    "\"\"\"\n",
    "\n",
    "cursor=execute(connection,query,show=True)"
   ]
  },
  {
   "cell_type": "markdown",
   "metadata": {
    "id": "xYndH3urK_QP"
   },
   "source": [
    "Q2. Les épreuves (sport, nom d'épreuve, catégorie) triées par nom de sport, puis par nom d'épreuve dans l'ordre inverse du dictionnaire (98 lignes)."
   ]
  },
  {
   "cell_type": "code",
   "execution_count": 52,
   "metadata": {
    "id": "7-Sd54ybK_QP",
    "scrolled": true
   },
   "outputs": [
    {
     "name": "stdout",
     "output_type": "stream",
     "text": [
      "98 rows\n",
      "|nomep                     |categorie|nomsp                               |\n",
      "|--------------------------------------------------------------------------\n",
      "|Snowboard cross           |Femmes   |Surf des neiges                     |\n",
      "|Snowboard cross           |Hommes   |Surf des neiges                     |\n",
      "|Slopestyle                |Femmes   |Surf des neiges                     |\n",
      "|Slopestyle                |Hommes   |Surf des neiges                     |\n",
      "|Slalom parallèle          |Femmes   |Surf des neiges                     |\n",
      "|Slalom parallèle          |Hommes   |Surf des neiges                     |\n",
      "|Slalom géant parallèle    |Femmes   |Surf des neiges                     |\n",
      "|Slalom géant parallèle    |Hommes   |Surf des neiges                     |\n",
      "|Halfpipe                  |Femmes   |Surf des neiges                     |\n",
      "|Halfpipe                  |Hommes   |Surf des neiges                     |\n",
      "|Sprint par équipes        |Femmes   |Ski de fond                         |\n",
      "|Sprint par équipes        |Hommes   |Ski de fond                         |\n",
      "|Sprint 1,5km              |Femmes   |Ski de fond                         |\n",
      "|Sprint 1,5km              |Hommes   |Ski de fond                         |\n",
      "|Skiathlon (7,5km + 7,5km) |Femmes   |Ski de fond                         |\n",
      "|Skiathlon (15km + 15km)   |Hommes   |Ski de fond                         |\n",
      "|Relais 4x5km              |Femmes   |Ski de fond                         |\n",
      "|Relais 4x10km             |Hommes   |Ski de fond                         |\n",
      "|50km                      |Hommes   |Ski de fond                         |\n",
      "|30km                      |Femmes   |Ski de fond                         |\n",
      "|15km                      |Hommes   |Ski de fond                         |\n",
      "|10km                      |Femmes   |Ski de fond                         |\n",
      "|Super combiné             |Femmes   |Ski alpin                           |\n",
      "|Super combiné             |Hommes   |Ski alpin                           |\n",
      "|Super G                   |Femmes   |Ski alpin                           |\n",
      "|Super G                   |Hommes   |Ski alpin                           |\n",
      "|Slalom géant              |Femmes   |Ski alpin                           |\n",
      "|Slalom géant              |Hommes   |Ski alpin                           |\n",
      "|Slalom                    |Femmes   |Ski alpin                           |\n",
      "|Slalom                    |Hommes   |Ski alpin                           |\n",
      "|Descente                  |Femmes   |Ski alpin                           |\n",
      "|Descente                  |Hommes   |Ski alpin                           |\n",
      "|Ski slopestyle            |Femmes   |Ski acrobatique                     |\n",
      "|Ski slopestyle            |Hommes   |Ski acrobatique                     |\n",
      "|Ski halfpipe              |Femmes   |Ski acrobatique                     |\n",
      "|Ski halfpipe              |Hommes   |Ski acrobatique                     |\n",
      "|Ski Cross                 |Femmes   |Ski acrobatique                     |\n",
      "|Ski Cross                 |Hommes   |Ski acrobatique                     |\n",
      "|Saut                      |Femmes   |Ski acrobatique                     |\n",
      "|Saut                      |Hommes   |Ski acrobatique                     |\n",
      "|Bosses                    |Femmes   |Ski acrobatique                     |\n",
      "|Bosses                    |Hommes   |Ski acrobatique                     |\n",
      "|Individuel                |Femmes   |Skeleton                            |\n",
      "|Individuel                |Hommes   |Skeleton                            |\n",
      "|Tremplin normal individuel|Femmes   |Saut à ski                          |\n",
      "|Tremplin normal individuel|Hommes   |Saut à ski                          |\n",
      "|Par équipes               |Hommes   |Saut à ski                          |\n",
      "|Grand tremplin individuel |Hommes   |Saut à ski                          |\n",
      "|Relais 5000m              |Hommes   |Patinage de vitesse sur piste courte|\n",
      "|Relais 3000m              |Femmes   |Patinage de vitesse sur piste courte|\n",
      "|500m                      |Femmes   |Patinage de vitesse sur piste courte|\n",
      "|500m                      |Hommes   |Patinage de vitesse sur piste courte|\n",
      "|1500m                     |Femmes   |Patinage de vitesse sur piste courte|\n",
      "|1500m                     |Hommes   |Patinage de vitesse sur piste courte|\n",
      "|1000m                     |Femmes   |Patinage de vitesse sur piste courte|\n",
      "|1000m                     |Hommes   |Patinage de vitesse sur piste courte|\n",
      "|Poursuite par équipes     |Femmes   |Patinage de vitesse                 |\n",
      "|Poursuite par équipes     |Hommes   |Patinage de vitesse                 |\n",
      "|5000m                     |Femmes   |Patinage de vitesse                 |\n",
      "|5000m                     |Hommes   |Patinage de vitesse                 |\n",
      "|3000m                     |Femmes   |Patinage de vitesse                 |\n",
      "|2x500m                    |Femmes   |Patinage de vitesse                 |\n",
      "|2x500m                    |Hommes   |Patinage de vitesse                 |\n",
      "|1500m                     |Femmes   |Patinage de vitesse                 |\n",
      "|1500m                     |Hommes   |Patinage de vitesse                 |\n",
      "|1000m                     |Femmes   |Patinage de vitesse                 |\n",
      "|1000m                     |Hommes   |Patinage de vitesse                 |\n",
      "|10000m                    |Hommes   |Patinage de vitesse                 |\n",
      "|Par équipes               |Mixte    |Patinage artistique                 |\n",
      "|Individuel                |Femmes   |Patinage artistique                 |\n",
      "|Individuel                |Hommes   |Patinage artistique                 |\n",
      "|Danse sur glace           |Mixte    |Patinage artistique                 |\n",
      "|Couples                   |Mixte    |Patinage artistique                 |\n",
      "|Simple                    |Femmes   |Luge                                |\n",
      "|Simple                    |Hommes   |Luge                                |\n",
      "|Relais par équipes mixte  |Mixte    |Luge                                |\n",
      "|Double                    |Mixte    |Luge                                |\n",
      "|hockey sur glace          |Femmes   |Hockey sur glace                    |\n",
      "|hockey sur glace          |Hommes   |Hockey sur glace                    |\n",
      "|curling                   |Femmes   |Curling                             |\n",
      "|curling                   |Hommes   |Curling                             |\n",
      "|Par équipes               |Hommes   |Combiné nordique                    |\n",
      "|Individuel LH             |Hommes   |Combiné nordique                    |\n",
      "|Individuel                |Hommes   |Combiné nordique                    |\n",
      "|bob à quatres             |Hommes   |Bobsleigh                           |\n",
      "|bob à deux                |Femmes   |Bobsleigh                           |\n",
      "|bob à deux                |Hommes   |Bobsleigh                           |\n",
      "|relais 4x7,5km            |Hommes   |Biathlon                            |\n",
      "|relais 4x6km              |Femmes   |Biathlon                            |\n",
      "|Relais mix                |Mixte    |Biathlon                            |\n",
      "|7,5km                     |Femmes   |Biathlon                            |\n",
      "|20km                      |Hommes   |Biathlon                            |\n",
      "|15km départ groupé        |Hommes   |Biathlon                            |\n",
      "|15km                      |Femmes   |Biathlon                            |\n",
      "|12,5km poursuite          |Hommes   |Biathlon                            |\n",
      "|12,5km départ groupé      |Femmes   |Biathlon                            |\n",
      "|10km poursuite            |Femmes   |Biathlon                            |\n",
      "|10km                      |Hommes   |Biathlon                            |\n"
     ]
    }
   ],
   "source": [
    "query=\"\"\"\n",
    "select distinct e.nomep, e.categorie, s.nomsp\n",
    "from epreuve e, sport s\n",
    "where e.sid = s.sid\n",
    "order by s.nomsp desc, e.nomep desc\n",
    "\"\"\"\n",
    "\n",
    "cursor=execute(connection,query,show=True)"
   ]
  },
  {
   "cell_type": "code",
   "execution_count": 53,
   "metadata": {
    "id": "LCKWGj-bK_QP",
    "scrolled": true
   },
   "outputs": [
    {
     "name": "stdout",
     "output_type": "stream",
     "text": [
      "98 rows\n",
      "|nomep                     |categorie|nomsp                               |\n",
      "|--------------------------------------------------------------------------\n",
      "|Snowboard cross           |Femmes   |Surf des neiges                     |\n",
      "|Snowboard cross           |Hommes   |Surf des neiges                     |\n",
      "|Slopestyle                |Femmes   |Surf des neiges                     |\n",
      "|Slopestyle                |Hommes   |Surf des neiges                     |\n",
      "|Slalom parallèle          |Femmes   |Surf des neiges                     |\n",
      "|Slalom parallèle          |Hommes   |Surf des neiges                     |\n",
      "|Slalom géant parallèle    |Femmes   |Surf des neiges                     |\n",
      "|Slalom géant parallèle    |Hommes   |Surf des neiges                     |\n",
      "|Halfpipe                  |Femmes   |Surf des neiges                     |\n",
      "|Halfpipe                  |Hommes   |Surf des neiges                     |\n",
      "|Sprint par équipes        |Femmes   |Ski de fond                         |\n",
      "|Sprint par équipes        |Hommes   |Ski de fond                         |\n",
      "|Sprint 1,5km              |Femmes   |Ski de fond                         |\n",
      "|Sprint 1,5km              |Hommes   |Ski de fond                         |\n",
      "|Skiathlon (7,5km + 7,5km) |Femmes   |Ski de fond                         |\n",
      "|Skiathlon (15km + 15km)   |Hommes   |Ski de fond                         |\n",
      "|Relais 4x5km              |Femmes   |Ski de fond                         |\n",
      "|Relais 4x10km             |Hommes   |Ski de fond                         |\n",
      "|50km                      |Hommes   |Ski de fond                         |\n",
      "|30km                      |Femmes   |Ski de fond                         |\n",
      "|15km                      |Hommes   |Ski de fond                         |\n",
      "|10km                      |Femmes   |Ski de fond                         |\n",
      "|Super combiné             |Femmes   |Ski alpin                           |\n",
      "|Super combiné             |Hommes   |Ski alpin                           |\n",
      "|Super G                   |Femmes   |Ski alpin                           |\n",
      "|Super G                   |Hommes   |Ski alpin                           |\n",
      "|Slalom géant              |Femmes   |Ski alpin                           |\n",
      "|Slalom géant              |Hommes   |Ski alpin                           |\n",
      "|Slalom                    |Femmes   |Ski alpin                           |\n",
      "|Slalom                    |Hommes   |Ski alpin                           |\n",
      "|Descente                  |Femmes   |Ski alpin                           |\n",
      "|Descente                  |Hommes   |Ski alpin                           |\n",
      "|Ski slopestyle            |Femmes   |Ski acrobatique                     |\n",
      "|Ski slopestyle            |Hommes   |Ski acrobatique                     |\n",
      "|Ski halfpipe              |Femmes   |Ski acrobatique                     |\n",
      "|Ski halfpipe              |Hommes   |Ski acrobatique                     |\n",
      "|Ski Cross                 |Femmes   |Ski acrobatique                     |\n",
      "|Ski Cross                 |Hommes   |Ski acrobatique                     |\n",
      "|Saut                      |Femmes   |Ski acrobatique                     |\n",
      "|Saut                      |Hommes   |Ski acrobatique                     |\n",
      "|Bosses                    |Femmes   |Ski acrobatique                     |\n",
      "|Bosses                    |Hommes   |Ski acrobatique                     |\n",
      "|Individuel                |Femmes   |Skeleton                            |\n",
      "|Individuel                |Hommes   |Skeleton                            |\n",
      "|Tremplin normal individuel|Femmes   |Saut à ski                          |\n",
      "|Tremplin normal individuel|Hommes   |Saut à ski                          |\n",
      "|Par équipes               |Hommes   |Saut à ski                          |\n",
      "|Grand tremplin individuel |Hommes   |Saut à ski                          |\n",
      "|Relais 5000m              |Hommes   |Patinage de vitesse sur piste courte|\n",
      "|Relais 3000m              |Femmes   |Patinage de vitesse sur piste courte|\n",
      "|500m                      |Femmes   |Patinage de vitesse sur piste courte|\n",
      "|500m                      |Hommes   |Patinage de vitesse sur piste courte|\n",
      "|1500m                     |Femmes   |Patinage de vitesse sur piste courte|\n",
      "|1500m                     |Hommes   |Patinage de vitesse sur piste courte|\n",
      "|1000m                     |Femmes   |Patinage de vitesse sur piste courte|\n",
      "|1000m                     |Hommes   |Patinage de vitesse sur piste courte|\n",
      "|Poursuite par équipes     |Femmes   |Patinage de vitesse                 |\n",
      "|Poursuite par équipes     |Hommes   |Patinage de vitesse                 |\n",
      "|5000m                     |Femmes   |Patinage de vitesse                 |\n",
      "|5000m                     |Hommes   |Patinage de vitesse                 |\n",
      "|3000m                     |Femmes   |Patinage de vitesse                 |\n",
      "|2x500m                    |Femmes   |Patinage de vitesse                 |\n",
      "|2x500m                    |Hommes   |Patinage de vitesse                 |\n",
      "|1500m                     |Femmes   |Patinage de vitesse                 |\n",
      "|1500m                     |Hommes   |Patinage de vitesse                 |\n",
      "|1000m                     |Femmes   |Patinage de vitesse                 |\n",
      "|1000m                     |Hommes   |Patinage de vitesse                 |\n",
      "|10000m                    |Hommes   |Patinage de vitesse                 |\n",
      "|Par équipes               |Mixte    |Patinage artistique                 |\n",
      "|Individuel                |Femmes   |Patinage artistique                 |\n",
      "|Individuel                |Hommes   |Patinage artistique                 |\n",
      "|Danse sur glace           |Mixte    |Patinage artistique                 |\n",
      "|Couples                   |Mixte    |Patinage artistique                 |\n",
      "|Simple                    |Femmes   |Luge                                |\n",
      "|Simple                    |Hommes   |Luge                                |\n",
      "|Relais par équipes mixte  |Mixte    |Luge                                |\n",
      "|Double                    |Mixte    |Luge                                |\n",
      "|hockey sur glace          |Femmes   |Hockey sur glace                    |\n",
      "|hockey sur glace          |Hommes   |Hockey sur glace                    |\n",
      "|curling                   |Femmes   |Curling                             |\n",
      "|curling                   |Hommes   |Curling                             |\n",
      "|Par équipes               |Hommes   |Combiné nordique                    |\n",
      "|Individuel LH             |Hommes   |Combiné nordique                    |\n",
      "|Individuel                |Hommes   |Combiné nordique                    |\n",
      "|bob à quatres             |Hommes   |Bobsleigh                           |\n",
      "|bob à deux                |Femmes   |Bobsleigh                           |\n",
      "|bob à deux                |Hommes   |Bobsleigh                           |\n",
      "|relais 4x7,5km            |Hommes   |Biathlon                            |\n",
      "|relais 4x6km              |Femmes   |Biathlon                            |\n",
      "|Relais mix                |Mixte    |Biathlon                            |\n",
      "|7,5km                     |Femmes   |Biathlon                            |\n",
      "|20km                      |Hommes   |Biathlon                            |\n",
      "|15km départ groupé        |Hommes   |Biathlon                            |\n",
      "|15km                      |Femmes   |Biathlon                            |\n",
      "|12,5km poursuite          |Hommes   |Biathlon                            |\n",
      "|12,5km départ groupé      |Femmes   |Biathlon                            |\n",
      "|10km poursuite            |Femmes   |Biathlon                            |\n",
      "|10km                      |Hommes   |Biathlon                            |\n"
     ]
    }
   ],
   "source": [
    "query=\"\"\"\n",
    "select nomep, categorie, nomsp\n",
    "from epreuve natural join sport\n",
    "order by nomsp desc, nomep desc\n",
    "\"\"\"\n",
    "\n",
    "cursor=execute(connection,query,show=True)"
   ]
  },
  {
   "cell_type": "markdown",
   "metadata": {
    "id": "MKe32KZvK_QQ"
   },
   "source": [
    "Q3. Les athlètes ayant participé à une équipe de France (30 lignes)."
   ]
  },
  {
   "cell_type": "code",
   "execution_count": 82,
   "metadata": {
    "id": "NnoCXyyZK_QQ",
    "scrolled": true
   },
   "outputs": [
    {
     "name": "stdout",
     "output_type": "stream",
     "text": [
      "30 rows\n",
      "|nomath                 |prenomath     |datenaissance|codepays|\n",
      "|--------------------------------------------------------------\n",
      "|AYMONIER               |Celia         |None         |FRA     |\n",
      "|Alexis GODEFROY        |Thibault      |None         |FRA     |\n",
      "|BAILLARD               |Jeremy        |None         |FRA     |\n",
      "|BEATRIX                |Jean Guillaume|1988-03-24   |FRA     |\n",
      "|BESCOND                |Anais         |None         |FRA     |\n",
      "|BOEUF                  |Alexis        |None         |FRA     |\n",
      "|BOURZAT                |Fabian        |None         |FRA     |\n",
      "|BOUTHERIN              |Jeremie       |None         |FRA     |\n",
      "|BRAUD                  |Francois      |None         |FRA     |\n",
      "|CARRON                 |Pernelle      |None         |FRA     |\n",
      "|COSTERG                |Loic          |None         |FRA     |\n",
      "|DESTHIEUX              |Simon         |None         |FRA     |\n",
      "|DORIN HABERT           |Marie         |1986-06-19   |FRA     |\n",
      "|DUVILLARD              |Robin         |1983-12-22   |FRA     |\n",
      "|Daniel Jean-Paul RICARD|Vincent       |None         |FRA     |\n",
      "|FAIVRE PICON           |Anouk         |None         |FRA     |\n",
      "|FOURCADE               |Martin        |1988-09-14   |FRA     |\n",
      "|GAILLARD               |Jean Marc     |1980-10-07   |FRA     |\n",
      "|HEINRICH               |Romain        |None         |FRA     |\n",
      "|HUGUE                  |Coraline      |None         |FRA     |\n",
      "|JEAN                   |Aurore        |None         |FRA     |\n",
      "|JONES                  |Lloyd         |None         |FRA     |\n",
      "|LACROIX                |Sebastian     |None         |FRA     |\n",
      "|LAHEURTE               |Maxime        |None         |FRA     |\n",
      "|LAMY CHAPPUIS          |Jason         |1986-09-09   |FRA     |\n",
      "|LEFORT                 |Elly          |None         |FRA     |\n",
      "|MANIFICAT              |Maurice       |1986-04-04   |FRA     |\n",
      "|PECHALAT               |Nathalie      |None         |FRA     |\n",
      "|PERRILLAT BOITEUX      |Ivan          |1985-12-28   |FRA     |\n",
      "|RIBET                  |Florent       |None         |FRA     |\n"
     ]
    }
   ],
   "source": [
    "query=\"\"\"\n",
    "select distinct nomAth, prenomAth, dateNaissance, a.codePays\n",
    "from Athlete as a\n",
    "natural join Pays p\n",
    "natural join Equipe e\n",
    "where nomP = 'France'\n",
    "and aid in \n",
    "    (Select aid \n",
    "    from AthletesEquipe)\n",
    "\"\"\"\n",
    "\n",
    "cursor=execute(connection,query,show=True)"
   ]
  },
  {
   "cell_type": "markdown",
   "metadata": {
    "id": "53OeDF3xK_QQ"
   },
   "source": [
    "Q4. Les épreuves (sport, épreuve, catégorie) auxquelles participent des équipes (25 lignes)."
   ]
  },
  {
   "cell_type": "code",
   "execution_count": 93,
   "metadata": {
    "id": "gxRFEZh4K_QQ",
    "scrolled": true
   },
   "outputs": [
    {
     "name": "stdout",
     "output_type": "stream",
     "text": [
      "25 rows\n",
      "|nomsp                               |nomep                   |categorie|\n",
      "|------------------------------------------------------------------------\n",
      "|Biathlon                            |Relais mix              |Mixte    |\n",
      "|Biathlon                            |relais 4x6km            |Femmes   |\n",
      "|Biathlon                            |relais 4x7,5km          |Hommes   |\n",
      "|Bobsleigh                           |bob à deux              |Femmes   |\n",
      "|Bobsleigh                           |bob à deux              |Hommes   |\n",
      "|Bobsleigh                           |bob à quatres           |Hommes   |\n",
      "|Combiné nordique                    |Par équipes             |Hommes   |\n",
      "|Curling                             |curling                 |Femmes   |\n",
      "|Curling                             |curling                 |Hommes   |\n",
      "|Hockey sur glace                    |hockey sur glace        |Femmes   |\n",
      "|Hockey sur glace                    |hockey sur glace        |Hommes   |\n",
      "|Luge                                |Double                  |Mixte    |\n",
      "|Luge                                |Relais par équipes mixte|Mixte    |\n",
      "|Patinage artistique                 |Couples                 |Mixte    |\n",
      "|Patinage artistique                 |Danse sur glace         |Mixte    |\n",
      "|Patinage artistique                 |Par équipes             |Mixte    |\n",
      "|Patinage de vitesse                 |Poursuite par équipes   |Femmes   |\n",
      "|Patinage de vitesse                 |Poursuite par équipes   |Hommes   |\n",
      "|Patinage de vitesse sur piste courte|Relais 3000m            |Femmes   |\n",
      "|Patinage de vitesse sur piste courte|Relais 5000m            |Hommes   |\n",
      "|Saut à ski                          |Par équipes             |Hommes   |\n",
      "|Ski de fond                         |Relais 4x10km           |Hommes   |\n",
      "|Ski de fond                         |Relais 4x5km            |Femmes   |\n",
      "|Ski de fond                         |Sprint par équipes      |Femmes   |\n",
      "|Ski de fond                         |Sprint par équipes      |Hommes   |\n"
     ]
    }
   ],
   "source": [
    "query=\"\"\"\n",
    "\n",
    "select distinct s.nomSp, ep.nomEp, ep.categorie\n",
    "from RangEquipe req\n",
    "natural join Epreuve ep\n",
    "natural join Sport s \n",
    "\n",
    "\"\"\"\n",
    "\n",
    "cursor=execute(connection,query,show=True)"
   ]
  },
  {
   "cell_type": "markdown",
   "metadata": {
    "id": "AhRFvZoXK_QQ"
   },
   "source": [
    "Q5. Le pays qui a gagné, en équipe, la médaille d'or dans l'épreuve de la catégorie 'Femmes' intitulée 'relais 4x6km' du sport 'Biathlon' (Ukraine)."
   ]
  },
  {
   "cell_type": "code",
   "execution_count": 241,
   "metadata": {
    "id": "VwsylFhiK_QQ"
   },
   "outputs": [
    {
     "name": "stdout",
     "output_type": "stream",
     "text": [
      "16 rows\n",
      "|nomp                         |nomep       |rang|\n",
      "|------------------------------------------------\n",
      "|Ukraine                      |relais 4x6km|1   |\n",
      "|Russie                       |relais 4x6km|2   |\n",
      "|Norvège                      |relais 4x6km|3   |\n",
      "|République tchèque           |relais 4x6km|4   |\n",
      "|Biélorussie                  |relais 4x6km|5   |\n",
      "|Italie                       |relais 4x6km|6   |\n",
      "|États-Unis                   |relais 4x6km|7   |\n",
      "|Canada                       |relais 4x6km|8   |\n",
      "|Suisse                       |relais 4x6km|9   |\n",
      "|Pologne                      |relais 4x6km|10  |\n",
      "|Allemagne                    |relais 4x6km|11  |\n",
      "|Kazakhstan                   |relais 4x6km|12  |\n",
      "|Japon                        |relais 4x6km|13  |\n",
      "|Slovaquie                    |relais 4x6km|14  |\n",
      "|République populaire de Chine|relais 4x6km|15  |\n",
      "|Estonie                      |relais 4x6km|16  |\n"
     ]
    }
   ],
   "source": [
    "query=\"\"\"\n",
    "Select nomP, nomEp, rang\n",
    "from pays\n",
    "natural join Equipe\n",
    "natural join RangEquipe\n",
    "natural join Epreuve\n",
    "natural join Sport\n",
    "where categorie = 'Femmes' and nomep = 'relais 4x6km' and nomSp = 'Biathlon'\n",
    "order by rang\n",
    "\n",
    "\"\"\"\n",
    "\n",
    "cursor=execute(connection,query,show=True)"
   ]
  },
  {
   "cell_type": "markdown",
   "metadata": {
    "id": "QnzH0wW0K_QQ"
   },
   "source": [
    "Q6. Les athlètes ayant participé à au moins une épreuve individuelle et au moins une par équipe (372 lignes)."
   ]
  },
  {
   "cell_type": "code",
   "execution_count": 114,
   "metadata": {
    "id": "vpACj1A4K_QQ",
    "scrolled": true
   },
   "outputs": [
    {
     "name": "stdout",
     "output_type": "stream",
     "text": [
      "372 rows\n",
      "|nomath             |prenomath        |\n",
      "|--------------------------------------\n",
      "|ABRAMENKO          |Evgeny           |\n",
      "|AHONEN             |Janne            |\n",
      "|ALEXANDER          |Nicholas         |\n",
      "|AN                 |Victor           |\n",
      "|ANEV               |Krasimir         |\n",
      "|ANGERER            |Tobias           |\n",
      "|ANTOLEC            |Jan              |\n",
      "|ANTSYBOR           |Maryna           |\n",
      "|ANTYPENKO          |Tetyana          |\n",
      "|ARWIDSON           |Tobias           |\n",
      "|AYMONIER           |Celia            |\n",
      "|BABIKOV            |Ivan             |\n",
      "|BACHLEDA-CURUS     |Katarzyna        |\n",
      "|BAILEY             |Lowell           |\n",
      "|BARDAL             |Anders           |\n",
      "|BAUER              |Armin            |\n",
      "|BAUER              |Klemen           |\n",
      "|BAUER              |Lukas            |\n",
      "|BAUMANN            |Jonas            |\n",
      "|BEATRIX            |Jean Guillaume   |\n",
      "|BERGER             |Tora             |\n",
      "|BERGMAN            |Carl Johan       |\n",
      "|BESCOND            |Anais            |\n",
      "|BESSMERTNYKH       |Alexander        |\n",
      "|BIELER             |Christoph        |\n",
      "|BJOERGEN           |Marit            |\n",
      "|BJOERNDALEN        |Ole Einar        |\n",
      "|BJORNSEN           |Erik             |\n",
      "|BJORNSEN           |Sadie            |\n",
      "|BLOKHUIJSEN        |Jan              |\n",
      "|BOE                |Johannes Thingnes|\n",
      "|BOE                |Tarjei           |\n",
      "|BOECKLI            |Claudio          |\n",
      "|BOEHLER            |Stefanie         |\n",
      "|BOEHM              |Daniel           |\n",
      "|BOEUF              |Alexis           |\n",
      "|BONER              |Seraina          |\n",
      "|BOYD-CLOWES        |Mackenzie        |\n",
      "|BRAUD              |Francois         |\n",
      "|BROCARD            |Elisa            |\n",
      "|BURKE              |Tim              |\n",
      "|CALDWELL           |Sophie           |\n",
      "|CEBASEK            |Alenka           |\n",
      "|CELSKI             |J.R.             |\n",
      "|CHEBOTKO           |Nikolay          |\n",
      "|CHEN               |Dequan           |\n",
      "|CHEPELIN           |Vladimir         |\n",
      "|CHEREPANOV         |Sergey           |\n",
      "|CHOI               |Heung-Chul       |\n",
      "|CHOI               |Seou             |\n",
      "|CHURAVY            |Pavel            |\n",
      "|CLARA              |Roland           |\n",
      "|COCKNEY            |Jesse            |\n",
      "|COLOGNA            |Dario            |\n",
      "|COOK               |Annalies         |\n",
      "|COSTA              |Samuel           |\n",
      "|CRAWFORD           |Rosanna          |\n",
      "|CURRIER            |Russell          |\n",
      "|DAHLMEIER          |Laura            |\n",
      "|DAMJAN             |Jernej           |\n",
      "|DE LORENZI         |Christian        |\n",
      "|DE MARTIN TOPRANIN |Virginia         |\n",
      "|DEBERTOLIS         |Ilaria           |\n",
      "|DEMONG             |Bill             |\n",
      "|DEMTSCHENKO        |Albert           |\n",
      "|DERYZEMLYA         |Andriy           |\n",
      "|DESTHIEUX          |Simon            |\n",
      "|DI CENTA           |Giorgio          |\n",
      "|DIETHART           |Thomas           |\n",
      "|DIGGINS            |Jessica          |\n",
      "|DOKL               |Peter            |\n",
      "|DOLIDOWITSCH       |Sergei           |\n",
      "|DOMRACHEVA         |Darya            |\n",
      "|DORIN HABERT       |Marie            |\n",
      "|DOTZLER            |Hannes           |\n",
      "|DUBAREZAVA         |Nastassia        |\n",
      "|DUNKLEE            |Susan            |\n",
      "|DUVILLARD          |Robin            |\n",
      "|DVORAK             |Miroslav         |\n",
      "|DZHYMA             |Juliya           |\n",
      "|ECKHOFF            |Tiril            |\n",
      "|EDER               |Simon            |\n",
      "|EDNEY              |Samuel           |\n",
      "|ERMITS             |Kalev            |\n",
      "|FABJAN             |Vesna            |\n",
      "|FAIRALL            |Nicholas         |\n",
      "|FAIVRE PICON       |Anouk            |\n",
      "|FAK                |Jakov            |\n",
      "|FANNEMEL           |Anders           |\n",
      "|FERRY              |Bjoern           |\n",
      "|FESSEL             |Nicole           |\n",
      "|FILBRICH           |Jens             |\n",
      "|FISCHER            |Remo             |\n",
      "|FLATLAND           |Ann Kristin      |\n",
      "|FLETCHER           |Bryan            |\n",
      "|FLETCHER           |Taylor           |\n",
      "|FONTANA            |Arianna          |\n",
      "|FOURCADE           |Martin           |\n",
      "|FRENETTE           |Peter            |\n",
      "|FRENZEL            |Eric             |\n",
      "|FREUND             |Severin          |\n",
      "|GAIAZOVA           |Daria            |\n",
      "|GAILLARD           |Jean Marc        |\n",
      "|GARANICHEV         |Evgeniy          |\n",
      "|GASPARIN           |Elisa            |\n",
      "|GASPARIN           |Selina           |\n",
      "|GASPARINI          |Sandra           |\n",
      "|GAZUREK            |Sebastian        |\n",
      "|GBUROVA            |Viera            |\n",
      "|GEISENBERGER       |Natalie          |\n",
      "|GEREKOVA           |Jana             |\n",
      "|GONTIER            |Nicole           |\n",
      "|GOUGH              |Alex             |\n",
      "|GRAABAK            |Joergen          |\n",
      "|GREEN              |Brendan          |\n",
      "|GRIGOREV           |Vladimir         |\n",
      "|GRUBER             |Bernhard         |\n",
      "|GRYGORENKO         |Kateryna         |\n",
      "|GWIZDON            |Magdalena        |\n",
      "|HAAG               |Anna             |\n",
      "|HAJEK              |Antonin          |\n",
      "|HALLENBARTER       |Simon            |\n",
      "|HAMLIN             |Erin             |\n",
      "|HASILLA            |Tomas            |\n",
      "|HATTESTAD          |Ola Vigen        |\n",
      "|HAUSER             |Lisa Theresa     |\n",
      "|HAYBOECK           |Michael          |\n",
      "|HAZETDINOV         |Ilmir            |\n",
      "|HEIKKINEN          |Matti            |\n",
      "|HEINICKE           |Megan            |\n",
      "|HELLNER            |Marcus           |\n",
      "|HENKEL             |Andrea           |\n",
      "|HILDEBRAND         |Franziska        |\n",
      "|HOFER              |David            |\n",
      "|HOFER              |Lukas            |\n",
      "|HOFFMAN            |Noah             |\n",
      "|HOJNISZ            |Monika           |\n",
      "|HUGUE              |Coraline         |\n",
      "|HURAJT             |Pavol            |\n",
      "|HYMAN              |Ondrej           |\n",
      "|ILIEV              |Vladimir         |\n",
      "|IMRIE              |Megan            |\n",
      "|INGEMARSDOTTER     |Ida              |\n",
      "|ITO                |Daiki            |\n",
      "|IVANOU             |Aliaksei         |\n",
      "|IVANOVA            |Julia            |\n",
      "|IVANOVA            |Tatiana          |\n",
      "|JACOBSEN           |Anders           |\n",
      "|JACOBSEN           |Astrid Uhrenholdt|\n",
      "|JAKS               |Martin           |\n",
      "|JANDA              |Jakub            |\n",
      "|JAPAROV            |Dmitriy          |\n",
      "|JASKOWIEC          |Sylwia           |\n",
      "|JAUHOJARVI         |Sami             |\n",
      "|JEAN               |Aurore           |\n",
      "|JESPERSEN          |Chris Andre      |\n",
      "|JEZERSEK           |Barbara          |\n",
      "|JIANROU            |Li               |\n",
      "|JOENSSON           |Emil             |\n",
      "|JOHAUG             |Therese          |\n",
      "|JOHNSON            |Anders           |\n",
      "|JOLLER             |Ivan             |\n",
      "|JONES              |Jenny            |\n",
      "|JOO                |Hyong Jun        |\n",
      "|KALINCHIK          |Liudmila         |\n",
      "|KALLA              |Charlotte        |\n",
      "|KARP               |Algo             |\n",
      "|KASAI              |Noriaki          |\n",
      "|KASTLUNGER         |Miriam           |\n",
      "|KAZAR              |Matej            |\n",
      "|KENESHEV           |Dias             |\n",
      "|KHRUSTALEVA        |Elena            |\n",
      "|KILLICK            |Graeme           |\n",
      "|KIM                |Alang            |\n",
      "|KIM                |Cheol Min        |\n",
      "|KIM                |Donghyeon        |\n",
      "|KIM                |Hyun-Ki          |\n",
      "|KINDL              |Wolfgang         |\n",
      "|KIRCHEISEN         |Bjoern           |\n",
      "|KIS                |Andriy           |\n",
      "|KLAPFER            |Lukas            |\n",
      "|KLEMETSEN          |Haavard          |\n",
      "|KLETCHEROV         |Michail          |\n",
      "|KLIMOV             |Evgeniy          |\n",
      "|KNEGT              |Sjinkie          |\n",
      "|KOCHER             |Zina             |\n",
      "|KOIV               |Kauri            |\n",
      "|KOIVURANTA         |Anssi            |\n",
      "|KORNILOV           |Denis            |\n",
      "|KOT                |Maciej           |\n",
      "|KOTENOVA           |Vendula          |\n",
      "|KOUDELKA           |Roman            |\n",
      "|KOWALCZYK          |Justyna          |\n",
      "|KRAMER             |Sven             |\n",
      "|KRANJEC            |Robert           |\n",
      "|KRAUS              |Marinus          |\n",
      "|KRCMAR             |Michal           |\n",
      "|KRECZMER           |Maciej           |\n",
      "|KROG               |Magnus           |\n",
      "|KRUPCIK            |Tomas            |\n",
      "|KUBINSKA           |Kornelia         |\n",
      "|KUROWSKI           |Maciej           |\n",
      "|KUZIUKOVA          |Olga             |\n",
      "|KUZMINA            |Anastazia        |\n",
      "|KYLLOENEN          |Anne             |\n",
      "|LACROIX            |Sebastian        |\n",
      "|LAHEURTE           |Maxime           |\n",
      "|LAHTEENMAKI        |Krista           |\n",
      "|LAMY CHAPPUIS      |Jason            |\n",
      "|LANDERTINGER       |Dominik          |\n",
      "|LANDOVA            |Jitka            |\n",
      "|LASUTKIN           |Alexander        |\n",
      "|LEE                |Seung Hoon       |\n",
      "|LEENSTRA           |Marrit           |\n",
      "|LEGKOV             |Alexander        |\n",
      "|LEGUELLEC          |Jean Philippe    |\n",
      "|LEHTONEN           |Lari             |\n",
      "|LEPEL              |Rafal            |\n",
      "|LESSER             |Erik             |\n",
      "|LESSING            |Roland           |\n",
      "|LIADOV             |Yuryi            |\n",
      "|LINDSTROEM         |Fredrik          |\n",
      "|LIVERS             |Toni             |\n",
      "|LOCH               |Felix            |\n",
      "|LODWICK            |Todd             |\n",
      "|MACIUSZEK          |Paulina          |\n",
      "|MAEAETTAE          |Jarkko           |\n",
      "|MALYSHKO           |Dmitry           |\n",
      "|MANIFICAT          |Maurice          |\n",
      "|MARIC              |Janez            |\n",
      "|MATIASKO           |Miroslav         |\n",
      "|MATURA             |Jan              |\n",
      "|MAYERHOFER         |Veronika         |\n",
      "|MAZDZER            |Christopher      |\n",
      "|MESOTITSCH         |Daniel           |\n",
      "|MOAN               |Magnus Hovdal    |\n",
      "|MORAVCOVA          |Klara            |\n",
      "|MORAVEC            |Ondrej           |\n",
      "|MORGENSTERN        |Thomas           |\n",
      "|MORRICE            |Trevor           |\n",
      "|MUOTKA             |Olli             |\n",
      "|NAGAI              |Hideaki          |\n",
      "|NAUMIK             |Sergey           |\n",
      "|NELSON             |Lars             |\n",
      "|NINIS              |Jozef            |\n",
      "|NISHIKAWA          |Emily            |\n",
      "|NISKANEN           |Iivo             |\n",
      "|NISKANEN           |Kerttu           |\n",
      "|NOECKLER           |Dietmar          |\n",
      "|NORDGREN           |Leif             |\n",
      "|NORTHUG            |Petter Jr.       |\n",
      "|NOVAKOVA           |Petra            |\n",
      "|NOVIKOV            |Sergei           |\n",
      "|NOWAKOWSKA-ZIEMNIAK|Weronika         |\n",
      "|NYSTAD             |Claudia          |\n",
      "|OBERHOFER          |Karin            |\n",
      "|OESTBERG           |Ingvild Flugstad |\n",
      "|OLSSON             |Johan            |\n",
      "|PALKA              |Krystyna         |\n",
      "|PANIN              |Ivan             |\n",
      "|PANTOV             |Anton            |\n",
      "|PARK               |Seung-Hi         |\n",
      "|PEIFFER            |Arnd             |\n",
      "|PERL               |Curdin           |\n",
      "|PERRAS             |Scott            |\n",
      "|PERRILLAT BOITEUX  |Ivan             |\n",
      "|PETERSON           |Teodor           |\n",
      "|PIDHRUSHNA         |Olena            |\n",
      "|PIDRUCHNYI         |Dmytro           |\n",
      "|PILLER             |Marina           |\n",
      "|PITTIN             |Alessandro       |\n",
      "|PLYWACZYK          |Krzysztof        |\n",
      "|POLTORANIN         |Alexey           |\n",
      "|PONZA              |Michela          |\n",
      "|PORTYK             |Tomas            |\n",
      "|PREUSS             |Franziska        |\n",
      "|PREVC              |Peter            |\n",
      "|PRYMA              |Artem            |\n",
      "|PUSKARCIKOVA       |Eva              |\n",
      "|RANDALL            |Kikkan           |\n",
      "|RANKEL             |Raido            |\n",
      "|REHEMAA            |Aivar            |\n",
      "|RICHARDSSON        |Daniel           |\n",
      "|RIESSLE            |Fabian           |\n",
      "|ROENNING           |Eldar            |\n",
      "|ROMANOVA           |Yana             |\n",
      "|ROMASHOV           |Alexey           |\n",
      "|RUBENIS            |Martins          |\n",
      "|RUNGGALDIER        |Lukas            |\n",
      "|RYDZEK             |Johannes         |\n",
      "|SAARINEN           |Aino Kaisa       |\n",
      "|SACHENBACHER-STEHLE|Evi              |\n",
      "|SCHEMPP            |Simon            |\n",
      "|SCHLIERENZAUER     |Gregor           |\n",
      "|SCHWARZ            |Nathalie         |\n",
      "|SEMENOV            |Michail          |\n",
      "|SEMENOV            |Serhiy           |\n",
      "|SEMERENKO          |Valj             |\n",
      "|SEMERENKO          |Vita             |\n",
      "|SHEVCHENKO         |Valentina        |\n",
      "|SHIMIZU            |Reruhi           |\n",
      "|SHIPULIN           |Anton            |\n",
      "|SHKHUMOVA          |Olena            |\n",
      "|SHUMILOVA          |Ekaterina        |\n",
      "|SKARDINO           |Nadezhda         |\n",
      "|SLAVIK             |Tomas            |\n",
      "|SLONINA            |Lukasz           |\n",
      "|SMITH              |Nathan           |\n",
      "|SMUTNA             |Katerina         |\n",
      "|SOUKALOVA          |Gabriela         |\n",
      "|SOUKUP             |Jaroslav         |\n",
      "|STADLOBER          |Teresa           |\n",
      "|STAREGA            |Maciej           |\n",
      "|STAROSTIN          |Mark             |\n",
      "|STECHER            |Mario            |\n",
      "|STEPHEN            |Elizabeth        |\n",
      "|STEPTSENKO         |Danil            |\n",
      "|STOCH              |Kamil            |\n",
      "|STUDEBAKER         |Sara             |\n",
      "|SUMANN             |Christoph        |\n",
      "|SUNDBY             |Martin Johnsrud  |\n",
      "|SUNG               |Eunryung         |\n",
      "|SUZUKI             |Fuyuko           |\n",
      "|SVENDSEN           |Emil Hegle       |\n",
      "|SZCZUREK           |Lukasz           |\n",
      "|TAKEUCHI           |Taku             |\n",
      "|TALIHAERM          |Johanna          |\n",
      "|TAMMJARV           |Karel            |\n",
      "|TANG               |Jialin           |\n",
      "|TCHEKALEVA         |Yulia            |\n",
      "|TEICHMANN          |Axel             |\n",
      "|TEPES              |Jurij            |\n",
      "|TER MORS           |Jorien           |\n",
      "|TIANYU             |Han              |\n",
      "|TIRUMA             |Eliza            |\n",
      "|TRIFONOV           |Alexandr         |\n",
      "|TSCHARNKE          |Tim              |\n",
      "|USANOVA            |Darya            |\n",
      "|USTYUGOV           |Evgeny           |\n",
      "|VASSILIEV          |Dmitry           |\n",
      "|VELICHKO           |Yevgeniy         |\n",
      "|VELTA              |Rune             |\n",
      "|VERWEIJ            |Koen             |\n",
      "|VILUKHINA          |Olga             |\n",
      "|VISNAR             |Katja            |\n",
      "|VITKOVA            |Veronika         |\n",
      "|VOLKOV             |Alexey           |\n",
      "|VRABCOVA-NYVLTOVA  |Eva              |\n",
      "|VYLEGZHANIN        |Maxim            |\n",
      "|WANK               |Andreas          |\n",
      "|WATABE             |Akito            |\n",
      "|WATABE             |Yoshito          |\n",
      "|WEBSTER            |Brittany         |\n",
      "|WEGER              |Benjamin         |\n",
      "|WELLINGER          |Andreas          |\n",
      "|WENG               |Heidi            |\n",
      "|WIERER             |Dorothea         |\n",
      "|WIESTNER           |Serafin          |\n",
      "|WIKEN              |Emma             |\n",
      "|WINDISCH           |Dominik          |\n",
      "|WINDISCH           |Markus           |\n",
      "|WOJTUSCISZYN       |Natalia          |\n",
      "|WOZNIAK            |Katarzyna        |\n",
      "|WÜST               |Ireen            |\n",
      "|ZAITSEVA           |Olga             |\n",
      "|ZHANG              |Yan              |\n",
      "|ZHOU               |Yang             |\n",
      "|ZHUKOVA            |Natalia          |\n",
      "|ZIOBRO             |Jan              |\n",
      "|ZLATEV             |Ivan             |\n",
      "|ZLOTKOWSKA         |Luiza            |\n",
      "|ZYLA               |Piotr            |\n"
     ]
    }
   ],
   "source": [
    "query=\"\"\"\n",
    "select distinct nomAth, prenomAth\n",
    "from Athlete a\n",
    "natural join RangIndividuel rInd\n",
    "natural join AthletesEquipe ae\n",
    "natural join Equipe \n",
    "\n",
    "\"\"\"\n",
    "\n",
    "cursor=execute(connection,query,show=True)"
   ]
  },
  {
   "cell_type": "markdown",
   "metadata": {
    "id": "sZEMFLQTK_QR"
   },
   "source": [
    "Q7. Les homonymes (les nom de familles portés par deux athlètes ou plus) (141 lignes)"
   ]
  },
  {
   "cell_type": "code",
   "execution_count": 124,
   "metadata": {
    "id": "Inwlx8nVK_QR",
    "scrolled": true
   },
   "outputs": [
    {
     "name": "stdout",
     "output_type": "stream",
     "text": [
      "141 rows\n",
      "|nomath         |\n",
      "|----------------\n",
      "|ABRAMENKO      |\n",
      "|ANDERSON       |\n",
      "|BAUER          |\n",
      "|BAUMANN        |\n",
      "|BECKERT        |\n",
      "|BJORNSEN       |\n",
      "|BOE            |\n",
      "|BOWMAN         |\n",
      "|BRAATEN        |\n",
      "|BROWN          |\n",
      "|BROZ           |\n",
      "|Benz           |\n",
      "|CALDWELL       |\n",
      "|CAVIEZEL       |\n",
      "|CHOI           |\n",
      "|COLOGNA        |\n",
      "|COOK           |\n",
      "|COSTA          |\n",
      "|CRAWFORD       |\n",
      "|CURRIER        |\n",
      "|DAVIS          |\n",
      "|DE JONG        |\n",
      "|DUFOUR-LAPOINTE|\n",
      "|DUKURS         |\n",
      "|DVORAK         |\n",
      "|EDER           |\n",
      "|EGGER          |\n",
      "|Ericsson       |\n",
      "|FAIVRE         |\n",
      "|FANCHINI       |\n",
      "|FERNANDEZ      |\n",
      "|FISCHER        |\n",
      "|FISCHNALLER    |\n",
      "|FLETCHER       |\n",
      "|FONTANA        |\n",
      "|FOURCADE       |\n",
      "|GAGNON         |\n",
      "|GAILLARD       |\n",
      "|GASPARIN       |\n",
      "|GASSER         |\n",
      "|GISIN          |\n",
      "|GOLD           |\n",
      "|GREGG          |\n",
      "|GRUBER         |\n",
      "|GUTIERREZ      |\n",
      "|HALLER         |\n",
      "|HAMELIN        |\n",
      "|HAMILTON       |\n",
      "|HANSEN         |\n",
      "|HARVEY         |\n",
      "|HERNANDEZ      |\n",
      "|HOFER          |\n",
      "|INNERHOFER     |\n",
      "|ITO            |\n",
      "|IVANOVA        |\n",
      "|JACOBSEN       |\n",
      "|JAMES          |\n",
      "|JEAN           |\n",
      "|JONES          |\n",
      "|Jokinen        |\n",
      "|KANG           |\n",
      "|KATO           |\n",
      "|KIM            |\n",
      "|KOCHER         |\n",
      "|KRANJEC        |\n",
      "|KRAUS          |\n",
      "|LAMBERT        |\n",
      "|LAMY CHAPPUIS  |\n",
      "|LEE            |\n",
      "|LI             |\n",
      "|LIGOCKI        |\n",
      "|LINGER         |\n",
      "|LIU            |\n",
      "|LOESETH        |\n",
      "|MAIER          |\n",
      "|MALTAIS        |\n",
      "|MATT           |\n",
      "|MAYER          |\n",
      "|MOELLER        |\n",
      "|MUELLER        |\n",
      "|MULDER         |\n",
      "|MUSGRAVE       |\n",
      "|Marty          |\n",
      "|NISKANEN       |\n",
      "|NOVAK          |\n",
      "|NOVIKOV        |\n",
      "|OBRIEN         |\n",
      "|OETTL REYES    |\n",
      "|OLSSON         |\n",
      "|ORLOVA         |\n",
      "|PARK           |\n",
      "|PATZ           |\n",
      "|PELLEGRIN      |\n",
      "|POULSEN        |\n",
      "|QI             |\n",
      "|RANDALL        |\n",
      "|REED           |\n",
      "|REID           |\n",
      "|RIEDER         |\n",
      "|RUNGGALDIER    |\n",
      "|SANTOS         |\n",
      "|SCHILD         |\n",
      "|SCHOCH         |\n",
      "|SCHWARZ        |\n",
      "|SCOTT          |\n",
      "|SEMENOV        |\n",
      "|SEMERENKO      |\n",
      "|SEO            |\n",
      "|SHEEHAN        |\n",
      "|SHI            |\n",
      "|SHIBUTANI      |\n",
      "|SHIMIZU        |\n",
      "|SHIN           |\n",
      "|SICS           |\n",
      "|SIMARI BIRKNER |\n",
      "|SLIVETS        |\n",
      "|SMITH          |\n",
      "|SOBOLEV        |\n",
      "|SONG           |\n",
      "|SPENCE         |\n",
      "|SUN            |\n",
      "|SUNG           |\n",
      "|SUZUKI         |\n",
      "|TAKAHASHI      |\n",
      "|TAKEUCHI       |\n",
      "|VOLKOV         |\n",
      "|WALKER         |\n",
      "|WATABE         |\n",
      "|WATSON         |\n",
      "|WELLS          |\n",
      "|WHITE          |\n",
      "|WILLIAMS       |\n",
      "|WILSON         |\n",
      "|WINDISCH       |\n",
      "|WU             |\n",
      "|XU             |\n",
      "|YAN            |\n",
      "|YOSHIDA        |\n",
      "|ZAKHAROV       |\n",
      "|ZAMPA          |\n",
      "|ZHANG          |\n"
     ]
    }
   ],
   "source": [
    "query=\"\"\"\n",
    "Select nomAth\n",
    "from Athlete\n",
    "group by nomAth\n",
    "having count(nomAth) >= 2\n",
    "\n",
    "\"\"\"\n",
    "\n",
    "cursor=execute(connection,query,show=True)"
   ]
  },
  {
   "cell_type": "markdown",
   "metadata": {
    "id": "SCHrrJvfK_QR"
   },
   "source": [
    "Q8. Les athlètes ayant participé à (au moins) deux épreuves individuelles (706 lignes)."
   ]
  },
  {
   "cell_type": "code",
   "execution_count": 126,
   "metadata": {
    "id": "bj4xi0EFK_QR",
    "scrolled": true
   },
   "outputs": [
    {
     "name": "stdout",
     "output_type": "stream",
     "text": [
      "706 rows\n",
      "|nomath             |prenomath        |\n",
      "|--------------------------------------\n",
      "|BJOERNDALEN        |Ole Einar        |\n",
      "|BJOERGEN           |Marit            |\n",
      "|AN                 |Victor           |\n",
      "|PECHSTEIN          |Claudia          |\n",
      "|WÜST               |Ireen            |\n",
      "|SVENDSEN           |Emil Hegle       |\n",
      "|AMMANN             |Simon            |\n",
      "|KRAMER             |Sven             |\n",
      "|SABLIKOVA          |Martina          |\n",
      "|MORGENSTERN        |Thomas           |\n",
      "|HELLNER            |Marcus           |\n",
      "|HOEFL-RIESCH       |Maria            |\n",
      "|DOMRACHEVA         |Darya            |\n",
      "|COLOGNA            |Dario            |\n",
      "|SACHENBACHER-STEHLE|Evi              |\n",
      "|KALLA              |Charlotte        |\n",
      "|ZAITSEVA           |Olga             |\n",
      "|MAZE               |Tina             |\n",
      "|DAVIS              |Shani            |\n",
      "|FOURCADE           |Martin           |\n",
      "|OLSSON             |Johan            |\n",
      "|KOWALCZYK          |Justyna          |\n",
      "|HENKEL             |Andrea           |\n",
      "|BERGER             |Tora             |\n",
      "|NORTHUG            |Petter Jr.       |\n",
      "|KUZMINA            |Anastazia        |\n",
      "|PARK               |Seung-Hi         |\n",
      "|STECHER            |Mario            |\n",
      "|RAICH              |Benjamin         |\n",
      "|USTYUGOV           |Evgeny           |\n",
      "|RICHARDSSON        |Daniel           |\n",
      "|LIGETY             |Ted              |\n",
      "|SANG-HWA           |Lee              |\n",
      "|STOCH              |Kamil            |\n",
      "|TER MORS           |Jorien           |\n",
      "|WILD               |Vic              |\n",
      "|MILLER             |Bode             |\n",
      "|MANCUSO            |Julia            |\n",
      "|MORRISON           |Denny            |\n",
      "|MOAN               |Magnus Hovdal    |\n",
      "|HAAG               |Anna             |\n",
      "|BECKERT            |Stephanie        |\n",
      "|SCHLIERENZAUER     |Gregor           |\n",
      "|JANSRUD            |Kjetil           |\n",
      "|SVINDAL            |Aksel Lund       |\n",
      "|JOHAUG             |Therese          |\n",
      "|FRENZEL            |Eric             |\n",
      "|BLOKHUIJSEN        |Jan              |\n",
      "|SHIM               |Suk-Hee          |\n",
      "|DEMONG             |Bill             |\n",
      "|NESBITT            |Christine        |\n",
      "|LEGKOV             |Alexander        |\n",
      "|BRIGHT             |Torah            |\n",
      "|FENNINGER          |Anna             |\n",
      "|VERWEIJ            |Koen             |\n",
      "|MO                 |Tae Bum          |\n",
      "|BIELER             |Christoph        |\n",
      "|TUITERT            |Mark             |\n",
      "|ECKHOFF            |Tiril            |\n",
      "|SOEDERGREN         |Anders           |\n",
      "|STEIRA             |Kristin Stormer  |\n",
      "|REBENSBURG         |Viktoria         |\n",
      "|SHIPULIN           |Anton            |\n",
      "|SEMERENKO          |Vita             |\n",
      "|BRODKA             |Zbigniew         |\n",
      "|BEEK               |Lotte van        |\n",
      "|MULDER             |Michel           |\n",
      "|KROG               |Magnus           |\n",
      "|BERGSMA            |Jorrit           |\n",
      "|JAUHOJARVI         |Sami             |\n",
      "|DEFAGO             |Didier           |\n",
      "|FERRY              |Bjoern           |\n",
      "|SEMERENKO          |Valj             |\n",
      "|LAMY CHAPPUIS      |Jason            |\n",
      "|GROOTHUIS          |Stefan           |\n",
      "|GISIN              |Dominique        |\n",
      "|JANKA              |Carlo            |\n",
      "|DZHYMA             |Juliya           |\n",
      "|PIDHRUSHNA         |Olena            |\n",
      "|BOE                |Tarjei           |\n",
      "|KLEMETSEN          |Haavard          |\n",
      "|KUMMER             |Patrizia         |\n",
      "|FREUND             |Severin          |\n",
      "|LEENSTRA           |Marrit           |\n",
      "|GIROUX             |Mathieu          |\n",
      "|WELLINGER          |Andreas          |\n",
      "|WIKEN              |Emma             |\n",
      "|NELSON             |Lars             |\n",
      "|NISKANEN           |Iivo             |\n",
      "|JIANROU            |Li               |\n",
      "|HONG               |Zhang            |\n",
      "|MAYER              |Matthias         |\n",
      "|SHIFFRIN           |Mikaela          |\n",
      "|MALYSHKO           |Dmitry           |\n",
      "|KOSTELIC           |Ivica            |\n",
      "|VYLEGZHANIN        |Maxim            |\n",
      "|SAARINEN           |Aino Kaisa       |\n",
      "|KASAI              |Noriaki          |\n",
      "|HOSP               |Nicole           |\n",
      "|SUMANN             |Christoph        |\n",
      "|MORAVEC            |Ondrej           |\n",
      "|AHONEN             |Janne            |\n",
      "|TEICHMANN          |Axel             |\n",
      "|VILUKHINA          |Olga             |\n",
      "|SOUKALOVA          |Gabriela         |\n",
      "|NISKANEN           |Kerttu           |\n",
      "|LESSER             |Erik             |\n",
      "|FONTANA            |Arianna          |\n",
      "|BAUER              |Lukas            |\n",
      "|MESOTITSCH         |Daniel           |\n",
      "|BOEHLER            |Stefanie         |\n",
      "|SKOBREV            |Ivan             |\n",
      "|INNERHOFER         |Christof         |\n",
      "|WEIBRECHT          |Andrew           |\n",
      "|SOUKUP             |Jaroslav         |\n",
      "|EDER               |Simon            |\n",
      "|BRUNET             |Marie Laure      |\n",
      "|RYDZEK             |Johannes         |\n",
      "|KOSIR              |Zan              |\n",
      "|PREVC              |Peter            |\n",
      "|ZLOTKOWSKA         |Luiza            |\n",
      "|RIESSLE            |Fabian           |\n",
      "|SUNDBY             |Martin Johnsrud  |\n",
      "|DAJING             |Wu               |\n",
      "|DORIN HABERT       |Marie            |\n",
      "|LANDERTINGER       |Dominik          |\n",
      "|POUTIAINEN         |Tanja            |\n",
      "|NOVIKOV            |Sergei           |\n",
      "|WOLF               |Jenny            |\n",
      "|TAKEUCHI           |Tomoka           |\n",
      "|WATABE             |Akito            |\n",
      "|HIRSCHER           |Marcel           |\n",
      "|MISSILLIER         |Steve            |\n",
      "|KHRUSTALEVA        |Elena            |\n",
      "|SCHEMPP            |Simon            |\n",
      "|PEIFFER            |Arnd             |\n",
      "|VITKOVA            |Veronika         |\n",
      "|GASPARIN           |Selina           |\n",
      "|ZELLER             |Katrin           |\n",
      "|KYLLOENEN          |Anne             |\n",
      "|LAHTEENMAKI        |Krista           |\n",
      "|PIIROINEN          |Peetu            |\n",
      "|GALMARINI          |Nevin            |\n",
      "|CZERWONKA          |Natalia          |\n",
      "|FATKULINA          |Olga             |\n",
      "|KODAIRA            |Nao              |\n",
      "|HOZUMI             |Masako           |\n",
      "|KUCK               |Jonathan         |\n",
      "|HANSEN             |Brian            |\n",
      "|DIETHART           |Thomas           |\n",
      "|HAYBOECK           |Michael          |\n",
      "|LEE                |Seung Hoon       |\n",
      "|SHUMILOVA          |Ekaterina        |\n",
      "|ROMANOVA           |Yana             |\n",
      "|BARDAL             |Anders           |\n",
      "|GOERGL             |Elisabeth        |\n",
      "|BOER               |Margot           |\n",
      "|GRAF               |Olga             |\n",
      "|LOBYSHEVA          |Yekaterina       |\n",
      "|MAGAL              |Jiri             |\n",
      "|GREGORIN           |Teja             |\n",
      "|HURAJT             |Pavol            |\n",
      "|FESSEL             |Nicole           |\n",
      "|BØKKO              |Håvard           |\n",
      "|HUDEC              |Jan              |\n",
      "|KOIVURANTA         |Anssi            |\n",
      "|GAILLARD           |Jean Marc        |\n",
      "|PITTIN             |Alessandro       |\n",
      "|WANG               |Beixing          |\n",
      "|FLATLAND           |Ann Kristin      |\n",
      "|ZETTEL             |Kathrin          |\n",
      "|NIEDZWIEDZKI       |Konrad           |\n",
      "|GUT                |Lara             |\n",
      "|PINTURAULT         |Alexis           |\n",
      "|HOFER              |Lukas            |\n",
      "|OBERHOFER          |Karin            |\n",
      "|WIERER             |Dorothea         |\n",
      "|SKARDINO           |Nadezhda         |\n",
      "|BEATRIX            |Jean Guillaume   |\n",
      "|CHERNOUSOV         |Ilia             |\n",
      "|KHAZOVA            |Irina            |\n",
      "|JAKS               |Martin           |\n",
      "|MANIFICAT          |Maurice          |\n",
      "|PERRILLAT BOITEUX  |Ivan             |\n",
      "|KLAPFER            |Lukas            |\n",
      "|ZAVARZINA          |Alena            |\n",
      "|JACOBSEN           |Anders           |\n",
      "|TAKEUCHI           |Taku             |\n",
      "|SZYMANSKI          |Jan              |\n",
      "|SKOKOVA            |Yuliya           |\n",
      "|SHIKHOVA           |Yekaterina       |\n",
      "|WENG               |Heidi            |\n",
      "|SHIMIZU            |Reruhi           |\n",
      "|KRISTOFFERSEN      |Henrik           |\n",
      "|STRACHOVA          |Sarka            |\n",
      "|GARANICHEV         |Evgeniy          |\n",
      "|WINDISCH           |Dominik          |\n",
      "|FAK                |Jakov            |\n",
      "|TOFALVI            |Eva              |\n",
      "|CHOI               |Heung-Chul       |\n",
      "|BAJCICAK           |Martin           |\n",
      "|SHEVCHENKO         |Valentina        |\n",
      "|DERYZEMLYA         |Andriy           |\n",
      "|TOBRELUTS          |Indrek           |\n",
      "|MATURA             |Jan              |\n",
      "|SIMARI BIRKNER     |Macarena         |\n",
      "|KIRCHGASSER        |Michaela         |\n",
      "|RUIZ CASTILLO      |Carolina         |\n",
      "|SYKARAS            |Kostas           |\n",
      "|GWIZDON            |Magdalena        |\n",
      "|LOBKOV             |Dmitry           |\n",
      "|CETINKAYA          |Kelime           |\n",
      "|SIMARI BIRKNER     |Cristian Javier  |\n",
      "|KLETCHEROV         |Michail          |\n",
      "|JANDA              |Jakub            |\n",
      "|BANK               |Ondrej           |\n",
      "|CHURAVY            |Pavel            |\n",
      "|SLAVIK             |Tomas            |\n",
      "|MOELLER            |Martin           |\n",
      "|LACROIX            |Sebastian        |\n",
      "|ALCOTT             |Chimene          |\n",
      "|PONZA              |Michela          |\n",
      "|ISA                |Hidenori         |\n",
      "|RASIMOVICIUTE      |Diana            |\n",
      "|MARIC              |Janez            |\n",
      "|BERGMAN            |Carl Johan       |\n",
      "|BAILEY             |Lowell           |\n",
      "|FREEMAN            |Kris             |\n",
      "|BARAHONA           |Noelle           |\n",
      "|NEUREUTHER         |Felix            |\n",
      "|ABRAMASHVILI       |Iason            |\n",
      "|HESSE              |Judith           |\n",
      "|BURKE              |Tim              |\n",
      "|GUAY               |Erik             |\n",
      "|OSBORNE-PARADIS    |Manuel           |\n",
      "|KOCHER             |Zina             |\n",
      "|LEGUELLEC          |Jean Philippe    |\n",
      "|AMMAR              |Amanda           |\n",
      "|CHEREPANOV         |Sergey           |\n",
      "|SCHUSSLER          |Brittany         |\n",
      "|BABENKO            |Dmitry           |\n",
      "|KRYZL              |Krystof          |\n",
      "|SLESINGR           |Michal           |\n",
      "|REHEMAA            |Aivar            |\n",
      "|RYYNAENEN          |Janne            |\n",
      "|KORPI              |Janne            |\n",
      "|KORNILOV           |Denis            |\n",
      "|VRABLIK            |Martin           |\n",
      "|GANTNEROVA         |Jana             |\n",
      "|LINDELL-VIKARBY    |Jessica          |\n",
      "|PIETILAE-HOLMNER   |Maria            |\n",
      "|COOK               |Stacey           |\n",
      "|STIEGLER           |Resi             |\n",
      "|MAKARAINEN         |Kaisa            |\n",
      "|GEREKOVA           |Jana             |\n",
      "|KAZAR              |Matej            |\n",
      "|ISHIDA             |Masako           |\n",
      "|WEIRATHER          |Tina             |\n",
      "|GRYGORENKO         |Kateryna         |\n",
      "|KIRKOVA            |Maria            |\n",
      "|BARTHET            |Anne-Sophie      |\n",
      "|MARCHAND-ARVIER    |Marie            |\n",
      "|THEAUX             |Adrien           |\n",
      "|FANCHINI           |Elena            |\n",
      "|FANCHINI           |Nadia            |\n",
      "|FILL               |Peter            |\n",
      "|HEEL               |Werner           |\n",
      "|MERIGHETTI         |Daniela          |\n",
      "|MOELGG             |Manfred          |\n",
      "|STUFFER            |Verena           |\n",
      "|FOURCADE           |Simon            |\n",
      "|WINDISCH           |Markus           |\n",
      "|DE LORENZI         |Christian        |\n",
      "|PERL               |Curdin           |\n",
      "|LI                 |Hongxue          |\n",
      "|REN                |Long             |\n",
      "|CLARA              |Roland           |\n",
      "|LEE                |Chae-Won         |\n",
      "|BRAUD              |Francois         |\n",
      "|LAHEURTE           |Maxime           |\n",
      "|COLLOREDO          |Sebastian        |\n",
      "|LEE                |Bo Ra            |\n",
      "|LEE                |Kyou-Hyuk        |\n",
      "|LOESETH            |Nina             |\n",
      "|DOLIDOWITSCH       |Sergei           |\n",
      "|LASUTKIN           |Alexander        |\n",
      "|SANNIKOVA          |Alena            |\n",
      "|GJERDALEN          |Tord Asle        |\n",
      "|DAMJANOVSKI        |Darko            |\n",
      "|ZRNCIC-DIM         |Natko            |\n",
      "|BAUER              |Klemen           |\n",
      "|DAMJAN             |Jernej           |\n",
      "|GUTIERREZ          |Mireia           |\n",
      "|PALKA              |Krystyna         |\n",
      "|PLYWACZYK          |Krzysztof        |\n",
      "|ORGUE              |Laura            |\n",
      "|KRECZMER           |Maciej           |\n",
      "|TOLA               |Erjon            |\n",
      "|NOVAKOVIC          |Zana             |\n",
      "|COLETTI            |Alexandra        |\n",
      "|JENOT              |Olivier          |\n",
      "|ZAKURDAEV          |Igor             |\n",
      "|KOSHKIN            |Dmitriy          |\n",
      "|BEDAREVA           |Maria            |\n",
      "|ZUEV               |Stepan           |\n",
      "|YAKOVISHINA        |Elena            |\n",
      "|SEJERSTED          |Lotte Smiseth    |\n",
      "|BYDLINSKI          |Maciej           |\n",
      "|TRAVERS            |Dow              |\n",
      "|BENIANIDZE         |Alex             |\n",
      "|PAPAMICHAEL        |Constantinos     |\n",
      "|LONGHI             |Jhonatan         |\n",
      "|HARRISSON          |Maya             |\n",
      "|NOVOSELIC          |Sofija           |\n",
      "|TSIKLAURI          |Nino             |\n",
      "|BARBU              |Alexandru        |\n",
      "|LOESETH            |Mona             |\n",
      "|PARIS              |Dominik          |\n",
      "|IGNJATOVIC         |Nevena           |\n",
      "|BRIGNONE           |Federica         |\n",
      "|MARSAGLIA          |Francesca        |\n",
      "|MATSOTSKA          |Bogdana          |\n",
      "|FEIERABEND         |Denise           |\n",
      "|CARRERAS           |Pol              |\n",
      "|PREFONTAINE        |Marie-Pier       |\n",
      "|GAGNON             |Marie-Michele    |\n",
      "|YURKIW             |Larisa           |\n",
      "|RALLI              |Sophia           |\n",
      "|JUNG               |Dong-Hyun        |\n",
      "|RISTEVSKI          |Antonio          |\n",
      "|BERECZ             |Anna             |\n",
      "|FARKAS             |Norbert          |\n",
      "|SMITH              |Warren Cummings  |\n",
      "|SHKANOVA           |Maria            |\n",
      "|SAVEH SHEMSHAKI    |Hossein          |\n",
      "|ZVEJNIEKS          |Kristaps         |\n",
      "|RODE               |Roberts          |\n",
      "|GASUNA             |Lelde            |\n",
      "|TERRA              |Ferran           |\n",
      "|DE LA CUESTA       |Paul             |\n",
      "|PRISADOV           |Stefan           |\n",
      "|GEORGIEV           |Georgi           |\n",
      "|CHONGAROV          |Nikola           |\n",
      "|QUIROGA            |Julietta         |\n",
      "|FAARUP             |Christoffer      |\n",
      "|WIRTH              |Barbara          |\n",
      "|DOPFER             |Fritz            |\n",
      "|HANSDOTTER         |Frida            |\n",
      "|KLING              |Kajsa            |\n",
      "|GASTALDI           |Sebastiano       |\n",
      "|FERK               |Marusa           |\n",
      "|STUHEC             |Ilka             |\n",
      "|XIA                |Lina             |\n",
      "|SMITH              |Leanne           |\n",
      "|MCJAMES            |Megan            |\n",
      "|ROSS               |Laurenne         |\n",
      "|KRIZOVA            |Klara            |\n",
      "|PAULATHOVA         |Katerina         |\n",
      "|KUENG              |Patrick          |\n",
      "|ABDERHALDEN        |Marianne         |\n",
      "|CAVIEZEL           |Mauro            |\n",
      "|FEUZ               |Beat             |\n",
      "|SUTER              |Fabienne         |\n",
      "|KANTOROVA          |Barbara          |\n",
      "|LUKACOVA           |Barbora          |\n",
      "|SAALOVA            |Kristina         |\n",
      "|ZAMPA              |Adam             |\n",
      "|FRANZ              |Max              |\n",
      "|STREITBERGER       |Georg            |\n",
      "|OETTL REYES        |Ornella          |\n",
      "|OETTL REYES        |Manfred          |\n",
      "|BAUD               |Adeline          |\n",
      "|MARMOTTAN          |Anemone          |\n",
      "|CLAREY             |Johan            |\n",
      "|MERMILLOD BLONDIN  |Thomas           |\n",
      "|POISSON            |David            |\n",
      "|VORONOV            |Artem            |\n",
      "|GRIGOREVA          |Kseniya          |\n",
      "|LAIKERT            |Igor             |\n",
      "|RUDIC              |Marko            |\n",
      "|MIELZYNSKI         |Erin             |\n",
      "|SEREBRAKIAN        |Arman-Ted        |\n",
      "|OLIVERAS           |Marc             |\n",
      "|HAUGEN             |Leif Kristian    |\n",
      "|SZCZUREK           |Lukasz           |\n",
      "|NAUMIK             |Sergey           |\n",
      "|SAVITSKIY          |Yan              |\n",
      "|SOLEMDAL           |Synnoeve         |\n",
      "|SEMENOV            |Serhiy           |\n",
      "|SEDNEV             |Serguei          |\n",
      "|PRYMA              |Artem            |\n",
      "|SUZUKI             |Fuyuko           |\n",
      "|KAUKENAS           |Tomas            |\n",
      "|LEE                |In-Bok           |\n",
      "|PETROVIC           |Milanko          |\n",
      "|CRAWFORD           |Rosanna          |\n",
      "|GREEN              |Brendan          |\n",
      "|PERRAS             |Scott            |\n",
      "|SMITH              |Nathan           |\n",
      "|IMRIE              |Megan            |\n",
      "|KOIV               |Kauri            |\n",
      "|STEPTSENKO         |Danil            |\n",
      "|GOMBOS             |Karoly           |\n",
      "|RASTORGUJEVS       |Andrejs          |\n",
      "|ABRAMENKO          |Evgeny           |\n",
      "|KALINCHIK          |Liudmila         |\n",
      "|PADIAL HERNANDEZ   |Victoria         |\n",
      "|ILIEV              |Vladimir         |\n",
      "|ANEV               |Krasimir         |\n",
      "|ALMOUKOV           |Alexei           |\n",
      "|STEPHAN            |Christoph        |\n",
      "|LAUKKANEN          |Mari             |\n",
      "|KAUPPINEN          |Jarkko           |\n",
      "|JACKSON            |Lee-Steve        |\n",
      "|DOKL               |Peter            |\n",
      "|COOK               |Annalies         |\n",
      "|DUNKLEE            |Susan            |\n",
      "|STUDEBAKER         |Sara             |\n",
      "|NORDGREN           |Leif             |\n",
      "|CURRIER            |Russell          |\n",
      "|WEGER              |Benjamin         |\n",
      "|BESCOND            |Anais            |\n",
      "|HAELG              |Philipp          |\n",
      "|SLONOVA            |Anastasia        |\n",
      "|VELICHKO           |Yevgeniy         |\n",
      "|STAROSTIN          |Mark             |\n",
      "|TCHEKALEVA         |Yulia            |\n",
      "|JACOBSEN           |Astrid Uhrenholdt|\n",
      "|ANTSYBOR           |Maryna           |\n",
      "|MALEC              |Vedrana          |\n",
      "|PEPENE             |Paul Constantin  |\n",
      "|PUCHIANU           |Cornel           |\n",
      "|BROCARD            |Elisa            |\n",
      "|MACIUSZEK          |Paulina          |\n",
      "|HARVEY             |Alex             |\n",
      "|ROJO               |Imanol           |\n",
      "|TAMMJARV           |Karel            |\n",
      "|LIEPINS            |Arvis            |\n",
      "|GUTIERREZ          |Javier           |\n",
      "|WATSON             |Aimee            |\n",
      "|DUBAREZAVA         |Nastassia        |\n",
      "|HEIKKINEN          |Matti            |\n",
      "|LEHTONEN           |Lari             |\n",
      "|MUSGRAVE           |Andrew           |\n",
      "|SMITH              |Callum           |\n",
      "|LINDBORG           |Sara             |\n",
      "|JEZERSEK           |Barbara          |\n",
      "|XU                 |Wenlong          |\n",
      "|STEPHEN            |Elizabeth        |\n",
      "|HOFFMAN            |Noah             |\n",
      "|NOVAK              |Petr             |\n",
      "|MORAVCOVA          |Klara            |\n",
      "|SMUTNA             |Katerina         |\n",
      "|FAIVRE PICON       |Anouk            |\n",
      "|HUGUE              |Coraline         |\n",
      "|CALDWELL           |Sophie           |\n",
      "|WEBSTER            |Brittany         |\n",
      "|BROOKS             |Holly            |\n",
      "|WATSON             |Callum           |\n",
      "|MIKAYELYAN         |Sergey           |\n",
      "|KATO               |Taihei           |\n",
      "|WATABE             |Yoshito          |\n",
      "|BAUER              |Armin            |\n",
      "|RUNGGALDIER        |Lukas            |\n",
      "|TIIRMAA            |Karl-August      |\n",
      "|NURMSALU           |Kaarel           |\n",
      "|BERLOT             |Gasper           |\n",
      "|JELENKO            |Marjan           |\n",
      "|ORANIC             |Mitja            |\n",
      "|FLETCHER           |Taylor           |\n",
      "|FLETCHER           |Bryan            |\n",
      "|DVORAK             |Miroslav         |\n",
      "|HUG                |Tim              |\n",
      "|PANCOCHOVA         |Sarka            |\n",
      "|KOT                |Maciej           |\n",
      "|TEPES              |Jurij            |\n",
      "|ALEXANDER          |Nicholas         |\n",
      "|KOUDELKA           |Roman            |\n",
      "|DESCHWANDEN        |Gregor           |\n",
      "|BOYD-CLOWES        |Mackenzie        |\n",
      "|DRUSZKIEWICZ       |Sebastian        |\n",
      "|KUZIN              |Denis            |\n",
      "|KRECH              |Roman            |\n",
      "|YESIN              |Aleksey          |\n",
      "|PEDERSEN           |Sverre Lunde     |\n",
      "|ISHIZAWA           |Shiho            |\n",
      "|TSUJI              |Maki             |\n",
      "|NOH                |Seon Yeong       |\n",
      "|HEMMER             |Mari             |\n",
      "|DUTTON             |William          |\n",
      "|NINZI              |Mirko            |\n",
      "|SILOVS             |Haralds          |\n",
      "|GREIG              |Daniel           |\n",
      "|DOBBIN             |Shane            |\n",
      "|HIRSCHBICHLER      |Gabriele         |\n",
      "|BECKERT            |Patrick          |\n",
      "|SCHWARZ            |Samuel           |\n",
      "|IHLE               |Nico             |\n",
      "|TODD               |Sugar            |\n",
      "|MEEK               |Patrick          |\n",
      "|ROOKARD            |Jilleanne        |\n",
      "|RICHARDSON         |Heather          |\n",
      "|ERBANOVA           |Karolina         |\n",
      "|MACE               |Benjamin         |\n",
      "|JAMES              |Scott            |\n",
      "|FREITAG            |Richard          |\n",
      "|FANNEMEL           |Anders           |\n",
      "|ZAVECKAS           |Rokas            |\n",
      "|MYTSAK             |Dmytro           |\n",
      "|SMALL              |Greta            |\n",
      "|ABOLTINA           |Agnese           |\n",
      "|BELL               |Florence         |\n",
      "|TOBI               |Triin            |\n",
      "|VALCAREGGI         |Massimiliano     |\n",
      "|MOHBAT             |Alexandre        |\n",
      "|VILHJALMSDOTTIR    |Helga Maria      |\n",
      "|VLHOVA             |Petra            |\n",
      "|LAMHAMEDI          |Adam             |\n",
      "|PREUSS             |Franziska        |\n",
      "|WELLS              |Beau-James       |\n",
      "|HEROLA             |Ilkka            |\n",
      "|ILVES              |Kristjan         |\n",
      "|PORTYK             |Tomas            |\n",
      "|NAGAI              |Hideaki          |\n",
      "|CIESLAR            |Adam             |\n",
      "|PIHO               |Han Hendrik      |\n",
      "|PASICHNYK          |Viktor           |\n",
      "|LEINONEN           |Mikke            |\n",
      "|VAEHAESOEYRINKI    |Eetu             |\n",
      "|BELOV              |Evgeniy          |\n",
      "|STROLIA            |Vytautas         |\n",
      "|TSINZOV            |Veselin          |\n",
      "|GRIDIN             |Andrey           |\n",
      "|GRIGOROVA-BURGOVA  |Antoniya         |\n",
      "|KUBINSKA           |Kornelia         |\n",
      "|KLISZ              |Pawel            |\n",
      "|ZHUKOVA            |Natalia          |\n",
      "|IVANOVA            |Julia            |\n",
      "|KUZIUKOVA          |Olga             |\n",
      "|SARA               |Timea            |\n",
      "|AKHMADIYEV         |Yerdos           |\n",
      "|KOLOMINA           |Yelena           |\n",
      "|OSSIPOVA           |Tatyana          |\n",
      "|POLTORANIN         |Alexey           |\n",
      "|AYMONIER           |Celia            |\n",
      "|JEAN               |Aurore           |\n",
      "|BABIKOV            |Ivan             |\n",
      "|KILLICK            |Graeme           |\n",
      "|NISHIKAWA          |Emily            |\n",
      "|WIDMER             |Heidi            |\n",
      "|DE FABIANI         |Francesco        |\n",
      "|AGREITER           |Debora           |\n",
      "|PILLER             |Marina           |\n",
      "|DADIC              |Edi              |\n",
      "|DIGGINS            |Jessica          |\n",
      "|STADLOBER          |Teresa           |\n",
      "|SEMENOV            |Michail          |\n",
      "|BING               |Thomas           |\n",
      "|DOTZLER            |Hannes           |\n",
      "|BJORNSEN           |Sadie            |\n",
      "|GREGG              |Brian            |\n",
      "|HWANG              |Jun-Ho           |\n",
      "|NOVAKOVA           |Petra            |\n",
      "|VRABCOVA-NYVLTOVA  |Eva              |\n",
      "|ANTYPENKO          |Tetyana          |\n",
      "|BJORNSEN           |Erik             |\n",
      "|BAUMANN            |Jonas            |\n",
      "|YEGHOYAN           |Artur            |\n",
      "|JESPERSEN          |Chris Andre      |\n",
      "|OCONNOR            |Seamus           |\n",
      "|SCHERRER           |Jan              |\n",
      "|ZIOBRO             |Jan              |\n",
      "|ROMASHOV           |Alexey           |\n",
      "|LAMY CHAPPUIS      |Ronan            |\n",
      "|VELTA              |Rune             |\n",
      "|HAZETDINOV         |Ilmir            |\n",
      "|MAEAETTAE          |Jarkko           |\n",
      "|MUOTKA             |Olli             |\n",
      "|CHOI               |Seou             |\n",
      "|KONDO              |Taro             |\n",
      "|SUMIYOSHI          |Miyako           |\n",
      "|FUJIMURA           |Shoko            |\n",
      "|YUSKOV             |Denis            |\n",
      "|ANDERSSON          |David            |\n",
      "|AYDOVA             |Yekaterina       |\n",
      "|MEZENTSEV          |Fyodor           |\n",
      "|SUNG               |Ching-Yang       |\n",
      "|FERNANDEZ          |Ewen             |\n",
      "|BLONDIN            |Ivanie           |\n",
      "|CHRIST             |Kali             |\n",
      "|OUARDI             |Muncef           |\n",
      "|DE HAITRE          |Vincent          |\n",
      "|HVAMMEN            |Espen            |\n",
      "|LORENTZEN          |Havard           |\n",
      "|SPIELER NILSEN     |Simen            |\n",
      "|NJAATUN            |Ida              |\n",
      "|MANTIA             |Joey             |\n",
      "|LEHMAN             |Emery            |\n",
      "|BITTNER            |Vanessa          |\n",
      "|BOWE               |Brittany         |\n",
      "|PARK               |Seung Ju         |\n",
      "|KIM                |Bo Reum          |\n",
      "|KIM                |Hyun Yung        |\n",
      "|YANG               |Shin Young       |\n",
      "|GEISREITER         |Moritz           |\n",
      "|ANGERMUELLER       |Monique          |\n",
      "|BAUMGAERTNER       |Alexej           |\n",
      "|KRAUS              |Bente            |\n",
      "|TIAN               |Guojun           |\n",
      "|PEETERS            |Jelena           |\n",
      "|SWINGS             |Bart             |\n",
      "|JANUSKEVICIUTE     |Ieva             |\n",
      "|CLARO              |Eugenio          |\n",
      "|VON APPEN          |Henrik           |\n",
      "|BRACHNER           |Patrick          |\n",
      "|CHRAPEK            |Karolina         |\n",
      "|GASIENICA-DANIEL   |Maryna           |\n",
      "|TAZI               |Kenza            |\n",
      "|KIYADARBANDSARI    |Mohammad         |\n",
      "|DANILOCHKIN        |Yuri             |\n",
      "|PFIFFNER           |Marco            |\n",
      "|CAILL              |Ania Monica      |\n",
      "|HADZIC             |Tarik            |\n",
      "|TRIKHICHEV         |Pavel            |\n",
      "|BANCORA            |Salome           |\n",
      "|BIRKNER KETELHOHN  |Jorge F.         |\n",
      "|MAYTAKOV           |Sergei           |\n",
      "|KHOROSHILOV        |Alexander        |\n",
      "|GLEBOV             |Alexander        |\n",
      "|KHUBER             |Martin           |\n",
      "|ZHANG              |Yuxin            |\n",
      "|HECTOR             |Sara             |\n",
      "|ACHIRILOAIE        |Ioan Valeriu     |\n",
      "|PELLEGRIN          |Elise            |\n",
      "|BROWN              |Philip           |\n",
      "|PHILP              |Trevor           |\n",
      "|PRIDY              |Morgan           |\n",
      "|BENDIK             |Martin           |\n",
      "|FALAT              |Matej            |\n",
      "|ZAMPA              |Andreas          |\n",
      "|PUENTE TASIAS      |Alex             |\n",
      "|BAMFORD            |Emily            |\n",
      "|CHRYSTAL           |Lavinia          |\n",
      "|DEMSCHAR           |Dominic          |\n",
      "|PERAUDO            |Ross             |\n",
      "|VUKICEVIC          |Marko            |\n",
      "|KOMSIC             |Andrea           |\n",
      "|MIKLOS             |Edit             |\n",
      "|LYNE               |Conor            |\n",
      "|KILDE              |Aleksander Aamodt|\n",
      "|MOWINCKEL          |Ragnhild         |\n",
      "|STRIEDINGER        |Otmar            |\n",
      "|GOLDBERG           |Jared            |\n",
      "|LUITZ              |Stefan           |\n",
      "|GANONG             |Travis           |\n",
      "|PARK               |Je-Yun           |\n",
      "|GIM                |So-Hui           |\n",
      "|SUCHARITAKUL       |Kanes            |\n",
      "|ALESSANDRIA        |Arnaud           |\n",
      "|DUBOVSKA           |Martina          |\n",
      "|ONSKULIS           |Martins          |\n",
      "|GUDMUNDSSON        |Brynjar Jokull   |\n",
      "|KRISTGEIRSSON      |Einar Kristinn   |\n",
      "|BARWOOD            |Adam             |\n",
      "|MEHILLI            |Suela            |\n",
      "|CAMPBELL           |Jasmine          |\n",
      "|DIAS               |Camille          |\n",
      "|HANSE              |Arthur           |\n",
      "|HOLDENER           |Wendy            |\n",
      "|KOSI               |Klemen           |\n",
      "|KRANJEC            |Zan              |\n",
      "|LAVTAR             |Katarina         |\n",
      "|STEYN              |Luke             |\n",
      "|SIMSEK             |Emre             |\n",
      "|KOCAAGA            |Tugba            |\n",
      "|DIPOL              |Alessia Afi      |\n",
      "|KYUNG              |Sung Hyun        |\n",
      "|HOJNISZ            |Monika           |\n",
      "|NOWAKOWSKA-ZIEMNIAK|Weronika         |\n",
      "|GUZIK              |Grzegorz         |\n",
      "|CHEPELIN           |Vladimir         |\n",
      "|LIADOV             |Yuryi            |\n",
      "|ZHANG              |Yan              |\n",
      "|TANG               |Jialin           |\n",
      "|CHEVALIER          |Anais            |\n",
      "|DESTHIEUX          |Simon            |\n",
      "|LINDSTROEM         |Fredrik          |\n",
      "|TALIHAERM          |Johanna          |\n",
      "|GONTIER            |Nicole           |\n",
      "|HASILLA            |Tomas            |\n",
      "|LOBO ESCOLAR       |Victor           |\n",
      "|PANTOV             |Anton            |\n",
      "|USANOVA            |Darya            |\n",
      "|BOE                |Johannes Thingnes|\n",
      "|ARWIDSON           |Tobias           |\n",
      "|HAUSER             |Lisa Theresa     |\n",
      "|DAHLMEIER          |Laura            |\n",
      "|HEINICKE           |Megan            |\n",
      "|TOIVANEN           |Ahti             |\n",
      "|LANDOVA            |Jitka            |\n",
      "|PUSKARCIKOVA       |Eva              |\n",
      "|WIESTNER           |Serafin          |\n",
      "|GASPARIN           |Elisa            |\n",
      "|WELLS              |Josiah           |\n",
      "|TIMOFEEV           |Evgeniy          |\n",
      "|ASGEIRSDOTTIR      |Erla             |\n"
     ]
    }
   ],
   "source": [
    "query=\"\"\"\n",
    "Select nomAth, prenomAth\n",
    "from Athlete a\n",
    "natural join RangIndividuel rInd\n",
    "group by rInd.aid\n",
    "having count(rInd.aid) >= 2\n",
    "\n",
    "\"\"\"\n",
    "\n",
    "cursor=execute(connection,query,show=True)"
   ]
  },
  {
   "cell_type": "markdown",
   "metadata": {
    "id": "rLP7cZ7tK_QR"
   },
   "source": [
    "Q9. Les athlètes ayant gagné une médaille dans une épreuve individuelle, mais ayant été disqualifiés\n",
    "dans une autre (14 lignes)."
   ]
  },
  {
   "cell_type": "code",
   "execution_count": 140,
   "metadata": {
    "id": "8iaqK77wK_QR",
    "scrolled": true
   },
   "outputs": [
    {
     "name": "stdout",
     "output_type": "stream",
     "text": [
      "14 rows\n",
      "|nomath      |prenomath|\n",
      "|-----------------------\n",
      "|FENNINGER   |Anna     |\n",
      "|GISIN       |Dominique|\n",
      "|GUT         |Lara     |\n",
      "|HOEFL-RIESCH|Maria    |\n",
      "|INNERHOFER  |Christof |\n",
      "|JANSRUD     |Kjetil   |\n",
      "|JIANROU     |Li       |\n",
      "|KOWALCZYK   |Justyna  |\n",
      "|LIGETY      |Ted      |\n",
      "|MANCUSO     |Julia    |\n",
      "|MAYER       |Matthias |\n",
      "|MISSILLIER  |Steve    |\n",
      "|PINTURAULT  |Alexis   |\n",
      "|WEIBRECHT   |Andrew   |\n"
     ]
    }
   ],
   "source": [
    "query=\"\"\"\n",
    "Select distinct nomAth, prenomAth\n",
    "from Athlete a\n",
    "where   exists (Select * from RangIndividuel rind where (rind.aid = a.aid) and rind.rang <= 3)\n",
    "and     exists (Select * from RangIndividuel rind where (rind.aid = a.aid) and rind.rang is NULL)\n",
    "\n",
    "\"\"\"\n",
    "\n",
    "cursor=execute(connection,query,show=True)"
   ]
  },
  {
   "cell_type": "markdown",
   "metadata": {
    "id": "x2lMlSYnK_QR"
   },
   "source": [
    "Q10. Les athlètes ayant gagné (au moins) une médaille dans une épreuve individuelle (182 lignes)."
   ]
  },
  {
   "cell_type": "code",
   "execution_count": 143,
   "metadata": {
    "id": "PI1FG7BqK_QR",
    "scrolled": true
   },
   "outputs": [
    {
     "name": "stdout",
     "output_type": "stream",
     "text": [
      "182 rows\n",
      "|prenomath       |nomath         |\n",
      "|---------------------------------\n",
      "|Ole Einar       |BJOERNDALEN    |\n",
      "|Marit           |BJOERGEN       |\n",
      "|Victor          |AN             |\n",
      "|Ireen           |WÜST           |\n",
      "|Emil Hegle      |SVENDSEN       |\n",
      "|Sven            |KRAMER         |\n",
      "|Martina         |SABLIKOVA      |\n",
      "|Charles         |HAMELIN        |\n",
      "|Marcus          |HELLNER        |\n",
      "|Maria           |HOEFL-RIESCH   |\n",
      "|Darya           |DOMRACHEVA     |\n",
      "|Dario           |COLOGNA        |\n",
      "|Felix           |LOCH           |\n",
      "|Yang            |ZHOU           |\n",
      "|Charlotte       |KALLA          |\n",
      "|Tina            |MAZE           |\n",
      "|Martin          |FOURCADE       |\n",
      "|Johan           |OLSSON         |\n",
      "|Armin           |ZOEGGELER      |\n",
      "|Justyna         |KOWALCZYK      |\n",
      "|Tora            |BERGER         |\n",
      "|Seung-Hi        |PARK           |\n",
      "|Daniel          |RICHARDSSON    |\n",
      "|Natalie         |GEISENBERGER   |\n",
      "|Alexandre       |BILODEAU       |\n",
      "|Ted             |LIGETY         |\n",
      "|Lee             |SANG-HWA       |\n",
      "|Kamil           |STOCH          |\n",
      "|Jorien          |TER MORS       |\n",
      "|Joergen         |GRAABAK        |\n",
      "|Vic             |WILD           |\n",
      "|Bode            |MILLER         |\n",
      "|Julia           |MANCUSO        |\n",
      "|Denny           |MORRISON       |\n",
      "|Magnus Hovdal   |MOAN           |\n",
      "|Bob             |DE JONG        |\n",
      "|Tatjana         |HUEFNER        |\n",
      "|Kjetil          |JANSRUD        |\n",
      "|Therese         |JOHAUG         |\n",
      "|Eric            |FRENZEL        |\n",
      "|Jan             |BLOKHUIJSEN    |\n",
      "|Suk-Hee         |SHIM           |\n",
      "|Alexander       |LEGKOV         |\n",
      "|Torah           |BRIGHT         |\n",
      "|Anna            |FENNINGER      |\n",
      "|Ingvild Flugstad|OESTBERG       |\n",
      "|Yuna            |KIM            |\n",
      "|Koen            |VERWEIJ        |\n",
      "|Vladimir        |GRIGOREV       |\n",
      "|Kelly           |CLARK          |\n",
      "|Tiril           |ECKHOFF        |\n",
      "|Lydia           |LASSILA        |\n",
      "|Hannah          |KEARNEY        |\n",
      "|Kristin Stormer |STEIRA         |\n",
      "|Viktoria        |REBENSBURG     |\n",
      "|Zbigniew        |BRODKA         |\n",
      "|Lotte van       |BEEK           |\n",
      "|Michel          |MULDER         |\n",
      "|Magnus          |KROG           |\n",
      "|Jorrit          |BERGSMA        |\n",
      "|Alla            |TSUPER         |\n",
      "|Mario           |MATT           |\n",
      "|Pierre          |VAULTIER       |\n",
      "|Stefan          |GROOTHUIS      |\n",
      "|Ola Vigen       |HATTESTAD      |\n",
      "|Anton           |KUSHNIR        |\n",
      "|Iouri           |PODLADTCHIKOV  |\n",
      "|Dominique       |GISIN          |\n",
      "|Sandro          |VILETTA        |\n",
      "|Maiken Caspersen|FALLA          |\n",
      "|Kaitlyn         |FARRINGTON     |\n",
      "|Jamie           |ANDERSON       |\n",
      "|Patrizia        |KUMMER         |\n",
      "|Julia           |DUJMOVITS      |\n",
      "|Adelina         |SOTNIKOVA      |\n",
      "|Elizabeth       |YARNOLD        |\n",
      "|Yuzuru          |HANYU          |\n",
      "|Sage            |KOTSENBURG     |\n",
      "|Eva             |SAMKOVA        |\n",
      "|Li              |JIANROU        |\n",
      "|Carina          |VOGT           |\n",
      "|Zhang           |HONG           |\n",
      "|Matthias        |MAYER          |\n",
      "|Mikaela         |SHIFFRIN       |\n",
      "|Jean Frederic   |CHAPUIS        |\n",
      "|Marielle        |THOMPSON       |\n",
      "|Justine         |DUFOUR-LAPOINTE|\n",
      "|Dara            |HOWELL         |\n",
      "|David           |WISE           |\n",
      "|Maddie          |BOWMAN         |\n",
      "|Joss            |CHRISTENSEN    |\n",
      "|Ivica           |KOSTELIC       |\n",
      "|Marlies         |SCHILD         |\n",
      "|Albert          |DEMTSCHENKO    |\n",
      "|Maxim           |VYLEGZHANIN    |\n",
      "|Noriaki         |KASAI          |\n",
      "|Nicole          |HOSP           |\n",
      "|Ondrej          |MORAVEC        |\n",
      "|Martins         |DUKURS         |\n",
      "|Gabriela        |SOUKALOVA      |\n",
      "|Patrick         |CHAN           |\n",
      "|Erik            |LESSER         |\n",
      "|Arianna         |FONTANA        |\n",
      "|Amelie          |KOBER          |\n",
      "|Dominique       |MALTAIS        |\n",
      "|Christof        |INNERHOFER     |\n",
      "|Andrew          |WEIBRECHT      |\n",
      "|Jaroslav        |SOUKUP         |\n",
      "|Teodor          |PETERSON       |\n",
      "|Zan             |KOSIR          |\n",
      "|Benjamin        |KARL           |\n",
      "|Peter           |PREVC          |\n",
      "|Fabian          |RIESSLE        |\n",
      "|Martin Johnsrud |SUNDBY         |\n",
      "|Han             |TIANYU         |\n",
      "|Wu              |DAJING         |\n",
      "|Dominik         |LANDERTINGER   |\n",
      "|Tomoka          |TAKEUCHI       |\n",
      "|Akito           |WATABE         |\n",
      "|Marcel          |HIRSCHER       |\n",
      "|Steve           |MISSILLIER     |\n",
      "|David           |MORRIS         |\n",
      "|Mengtao         |XU             |\n",
      "|Chloe           |DUFOUR-LAPOINTE|\n",
      "|Kelsey          |SERWA          |\n",
      "|Arnaud          |BOVOLENTA      |\n",
      "|Nikolay         |OLYUNIN        |\n",
      "|Staale          |SANDBECH       |\n",
      "|Anke            |KARSTENS       |\n",
      "|Nevin           |GALMARINI      |\n",
      "|Noelle          |PIKUS-PACE     |\n",
      "|Olga            |FATKULINA      |\n",
      "|Jan             |SMEEKENS       |\n",
      "|Ayumu           |HIRANO         |\n",
      "|Enni            |RUKAJARVI      |\n",
      "|Fan             |KEXIN          |\n",
      "|Daniela         |IRASCHKO-STOLZ |\n",
      "|Marie           |MARTINOD       |\n",
      "|Mike            |RIDDLE         |\n",
      "|Mikael          |KINGSBURY      |\n",
      "|Gus             |KENWORTHY      |\n",
      "|Devin           |LOGAN          |\n",
      "|Anders          |BARDAL         |\n",
      "|Emil            |JOENSSON       |\n",
      "|Margot          |BOER           |\n",
      "|Olga            |GRAF           |\n",
      "|Teja            |GREGORIN       |\n",
      "|Erin            |HAMLIN         |\n",
      "|Jan             |HUDEC          |\n",
      "|Alexandr        |SMYSHLYAEV     |\n",
      "|Carolina        |KOSTNER        |\n",
      "|Carien          |KLEIBEUKER     |\n",
      "|Kathrin         |ZETTEL         |\n",
      "|Vesna           |FABJAN         |\n",
      "|Lara            |GUT            |\n",
      "|Alexis          |PINTURAULT     |\n",
      "|Jean Guillaume  |BEATRIX        |\n",
      "|Ilia            |CHERNOUSOV     |\n",
      "|Zongyang        |JIA            |\n",
      "|Anna            |HOLMLUND       |\n",
      "|Denis           |TEN            |\n",
      "|Alena           |ZAVARZINA      |\n",
      "|Matthew         |ANTOINE        |\n",
      "|Ronald          |MULDER         |\n",
      "|Sjinkie         |KNEGT          |\n",
      "|Taku            |HIRAOKA        |\n",
      "|Elena           |NIKITINA       |\n",
      "|Heidi           |WENG           |\n",
      "|Chloe           |TRESPEUCH      |\n",
      "|Mark            |MCMORRIS       |\n",
      "|Alex            |DEIBOLD        |\n",
      "|Jenny           |JONES          |\n",
      "|Charle          |COURNOYER      |\n",
      "|Coline          |MATTEL         |\n",
      "|Henrik          |KRISTOFFERSEN  |\n",
      "|Evgeniy         |GARANICHEV     |\n",
      "|Ayana           |ONOZUKA        |\n",
      "|Jonathan        |MIDOL          |\n",
      "|Kevin           |ROLLAND        |\n",
      "|Nicholas        |GOEPPER        |\n",
      "|Kim             |LAMARRE        |\n",
      "|Alexander       |TRETIAKOV      |\n"
     ]
    }
   ],
   "source": [
    "query=\"\"\"\n",
    "select prenomAth, nomAth\n",
    "from Athlete a \n",
    "where exists (Select * from RangIndividuel rind where (rind.aid = a.aid) and rang <= 3)\n",
    "\n",
    "\"\"\"\n",
    "\n",
    "cursor=execute(connection,query,show=True)"
   ]
  },
  {
   "cell_type": "markdown",
   "metadata": {
    "id": "eGEvPA0PK_QS"
   },
   "source": [
    "Q11.  Les noms de pays qui n’ont qu’une seule équipe (9 lignes)."
   ]
  },
  {
   "cell_type": "code",
   "execution_count": 165,
   "metadata": {
    "id": "NdSSX9mJK_QS",
    "scrolled": true
   },
   "outputs": [
    {
     "name": "stdout",
     "output_type": "stream",
     "text": [
      "9 rows\n",
      "|nomp       |codepays|\n",
      "|---------------------\n",
      "|Azerbaïdjan|AZE     |\n",
      "|Belgique   |BEL     |\n",
      "|Bulgarie   |BUL     |\n",
      "|Espagne    |ESP     |\n",
      "|Jamaïque   |JAM     |\n",
      "|Lituanie   |LTU     |\n",
      "|Monaco     |MON     |\n",
      "|Serbie     |SRB     |\n",
      "|Turquie    |TUR     |\n"
     ]
    }
   ],
   "source": [
    "query=\"\"\"\n",
    "Select distinct nomP, p.codePays\n",
    "from Pays p\n",
    "where (Select count (*) from Equipe e where p.codePays = e.codePays) = 1\n",
    "\n",
    "\"\"\"\n",
    "\n",
    "cursor=execute(connection,query,show=True)"
   ]
  },
  {
   "cell_type": "markdown",
   "metadata": {
    "id": "YvtrSnmsK_QS"
   },
   "source": [
    "Q12. Les athlètes ayant participé à exactement 2 épreuves individuelles (402 lignes)."
   ]
  },
  {
   "cell_type": "code",
   "execution_count": 177,
   "metadata": {},
   "outputs": [
    {
     "name": "stdout",
     "output_type": "stream",
     "text": [
      "402 rows\n",
      "|nomath           |prenomath        |\n",
      "|------------------------------------\n",
      "|AMMANN           |Simon            |\n",
      "|KRAMER           |Sven             |\n",
      "|SABLIKOVA        |Martina          |\n",
      "|MORGENSTERN      |Thomas           |\n",
      "|OLSSON           |Johan            |\n",
      "|NORTHUG          |Petter Jr.       |\n",
      "|PARK             |Seung-Hi         |\n",
      "|STECHER          |Mario            |\n",
      "|RAICH            |Benjamin         |\n",
      "|SANG-HWA         |Lee              |\n",
      "|STOCH            |Kamil            |\n",
      "|TER MORS         |Jorien           |\n",
      "|WILD             |Vic              |\n",
      "|MORRISON         |Denny            |\n",
      "|MOAN             |Magnus Hovdal    |\n",
      "|HAAG             |Anna             |\n",
      "|BECKERT          |Stephanie        |\n",
      "|SCHLIERENZAUER   |Gregor           |\n",
      "|FRENZEL          |Eric             |\n",
      "|BLOKHUIJSEN      |Jan              |\n",
      "|SHIM             |Suk-Hee          |\n",
      "|DEMONG           |Bill             |\n",
      "|LEGKOV           |Alexander        |\n",
      "|BRIGHT           |Torah            |\n",
      "|VERWEIJ          |Koen             |\n",
      "|MO               |Tae Bum          |\n",
      "|BIELER           |Christoph        |\n",
      "|TUITERT          |Mark             |\n",
      "|SOEDERGREN       |Anders           |\n",
      "|STEIRA           |Kristin Stormer  |\n",
      "|BRODKA           |Zbigniew         |\n",
      "|MULDER           |Michel           |\n",
      "|KROG             |Magnus           |\n",
      "|BERGSMA          |Jorrit           |\n",
      "|JAUHOJARVI       |Sami             |\n",
      "|LAMY CHAPPUIS    |Jason            |\n",
      "|KLEMETSEN        |Haavard          |\n",
      "|KUMMER           |Patrizia         |\n",
      "|FREUND           |Severin          |\n",
      "|GIROUX           |Mathieu          |\n",
      "|WELLINGER        |Andreas          |\n",
      "|NELSON           |Lars             |\n",
      "|JIANROU          |Li               |\n",
      "|HONG             |Zhang            |\n",
      "|SHIFFRIN         |Mikaela          |\n",
      "|VYLEGZHANIN      |Maxim            |\n",
      "|KASAI            |Noriaki          |\n",
      "|AHONEN           |Janne            |\n",
      "|FONTANA          |Arianna          |\n",
      "|BAUER            |Lukas            |\n",
      "|BOEHLER          |Stefanie         |\n",
      "|SKOBREV          |Ivan             |\n",
      "|WEIBRECHT        |Andrew           |\n",
      "|RYDZEK           |Johannes         |\n",
      "|KOSIR            |Zan              |\n",
      "|PREVC            |Peter            |\n",
      "|RIESSLE          |Fabian           |\n",
      "|DAJING           |Wu               |\n",
      "|POUTIAINEN       |Tanja            |\n",
      "|WOLF             |Jenny            |\n",
      "|TAKEUCHI         |Tomoka           |\n",
      "|WATABE           |Akito            |\n",
      "|HIRSCHER         |Marcel           |\n",
      "|MISSILLIER       |Steve            |\n",
      "|KYLLOENEN        |Anne             |\n",
      "|PIIROINEN        |Peetu            |\n",
      "|GALMARINI        |Nevin            |\n",
      "|KODAIRA          |Nao              |\n",
      "|HOZUMI           |Masako           |\n",
      "|KUCK             |Jonathan         |\n",
      "|DIETHART         |Thomas           |\n",
      "|HAYBOECK         |Michael          |\n",
      "|LEE              |Seung Hoon       |\n",
      "|BARDAL           |Anders           |\n",
      "|BOER             |Margot           |\n",
      "|GRAF             |Olga             |\n",
      "|MAGAL            |Jiri             |\n",
      "|HUDEC            |Jan              |\n",
      "|KOIVURANTA       |Anssi            |\n",
      "|PITTIN           |Alessandro       |\n",
      "|WANG             |Beixing          |\n",
      "|ZETTEL           |Kathrin          |\n",
      "|NIEDZWIEDZKI     |Konrad           |\n",
      "|CHERNOUSOV       |Ilia             |\n",
      "|KHAZOVA          |Irina            |\n",
      "|JAKS             |Martin           |\n",
      "|MANIFICAT        |Maurice          |\n",
      "|PERRILLAT BOITEUX|Ivan             |\n",
      "|KLAPFER          |Lukas            |\n",
      "|ZAVARZINA        |Alena            |\n",
      "|JACOBSEN         |Anders           |\n",
      "|TAKEUCHI         |Taku             |\n",
      "|SZYMANSKI        |Jan              |\n",
      "|SHIMIZU          |Reruhi           |\n",
      "|KRISTOFFERSEN    |Henrik           |\n",
      "|CHOI             |Heung-Chul       |\n",
      "|MATURA           |Jan              |\n",
      "|RUIZ CASTILLO    |Carolina         |\n",
      "|LOBKOV           |Dmitry           |\n",
      "|CETINKAYA        |Kelime           |\n",
      "|KLETCHEROV       |Michail          |\n",
      "|JANDA            |Jakub            |\n",
      "|CHURAVY          |Pavel            |\n",
      "|SLAVIK           |Tomas            |\n",
      "|LACROIX          |Sebastian        |\n",
      "|ISA              |Hidenori         |\n",
      "|NEUREUTHER       |Felix            |\n",
      "|ABRAMASHVILI     |Iason            |\n",
      "|HESSE            |Judith           |\n",
      "|GUAY             |Erik             |\n",
      "|OSBORNE-PARADIS  |Manuel           |\n",
      "|CHEREPANOV       |Sergey           |\n",
      "|RYYNAENEN        |Janne            |\n",
      "|KORPI            |Janne            |\n",
      "|KORNILOV         |Denis            |\n",
      "|GANTNEROVA       |Jana             |\n",
      "|LINDELL-VIKARBY  |Jessica          |\n",
      "|PIETILAE-HOLMNER |Maria            |\n",
      "|STIEGLER         |Resi             |\n",
      "|WEIRATHER        |Tina             |\n",
      "|KIRKOVA          |Maria            |\n",
      "|BARTHET          |Anne-Sophie      |\n",
      "|MARCHAND-ARVIER  |Marie            |\n",
      "|FANCHINI         |Elena            |\n",
      "|HEEL             |Werner           |\n",
      "|MOELGG           |Manfred          |\n",
      "|STUFFER          |Verena           |\n",
      "|WINDISCH         |Markus           |\n",
      "|REN              |Long             |\n",
      "|CLARA            |Roland           |\n",
      "|BRAUD            |Francois         |\n",
      "|LAHEURTE         |Maxime           |\n",
      "|COLLOREDO        |Sebastian        |\n",
      "|LEE              |Bo Ra            |\n",
      "|LEE              |Kyou-Hyuk        |\n",
      "|LOESETH          |Nina             |\n",
      "|LASUTKIN         |Alexander        |\n",
      "|GJERDALEN        |Tord Asle        |\n",
      "|DAMJANOVSKI      |Darko            |\n",
      "|DAMJAN           |Jernej           |\n",
      "|PLYWACZYK        |Krzysztof        |\n",
      "|KRECZMER         |Maciej           |\n",
      "|TOLA             |Erjon            |\n",
      "|NOVAKOVIC        |Zana             |\n",
      "|COLETTI          |Alexandra        |\n",
      "|KOSHKIN          |Dmitriy          |\n",
      "|TRAVERS          |Dow              |\n",
      "|BENIANIDZE       |Alex             |\n",
      "|PAPAMICHAEL      |Constantinos     |\n",
      "|LONGHI           |Jhonatan         |\n",
      "|HARRISSON        |Maya             |\n",
      "|NOVOSELIC        |Sofija           |\n",
      "|TSIKLAURI        |Nino             |\n",
      "|BARBU            |Alexandru        |\n",
      "|LOESETH          |Mona             |\n",
      "|IGNJATOVIC       |Nevena           |\n",
      "|MATSOTSKA        |Bogdana          |\n",
      "|FEIERABEND       |Denise           |\n",
      "|CARRERAS         |Pol              |\n",
      "|PREFONTAINE      |Marie-Pier       |\n",
      "|YURKIW           |Larisa           |\n",
      "|RALLI            |Sophia           |\n",
      "|JUNG             |Dong-Hyun        |\n",
      "|RISTEVSKI        |Antonio          |\n",
      "|FARKAS           |Norbert          |\n",
      "|SMITH            |Warren Cummings  |\n",
      "|SAVEH SHEMSHAKI  |Hossein          |\n",
      "|ZVEJNIEKS        |Kristaps         |\n",
      "|GASUNA           |Lelde            |\n",
      "|PRISADOV         |Stefan           |\n",
      "|QUIROGA          |Julietta         |\n",
      "|WIRTH            |Barbara          |\n",
      "|DOPFER           |Fritz            |\n",
      "|HANSDOTTER       |Frida            |\n",
      "|GASTALDI         |Sebastiano       |\n",
      "|XIA              |Lina             |\n",
      "|SMITH            |Leanne           |\n",
      "|MCJAMES          |Megan            |\n",
      "|KUENG            |Patrick          |\n",
      "|ABDERHALDEN      |Marianne         |\n",
      "|CAVIEZEL         |Mauro            |\n",
      "|LUKACOVA         |Barbora          |\n",
      "|STREITBERGER     |Georg            |\n",
      "|OETTL REYES      |Ornella          |\n",
      "|OETTL REYES      |Manfred          |\n",
      "|BAUD             |Adeline          |\n",
      "|MARMOTTAN        |Anemone          |\n",
      "|CLAREY           |Johan            |\n",
      "|MERMILLOD BLONDIN|Thomas           |\n",
      "|POISSON          |David            |\n",
      "|VORONOV          |Artem            |\n",
      "|GRIGOREVA        |Kseniya          |\n",
      "|RUDIC            |Marko            |\n",
      "|MIELZYNSKI       |Erin             |\n",
      "|SEREBRAKIAN      |Arman-Ted        |\n",
      "|HAUGEN           |Leif Kristian    |\n",
      "|SZCZUREK         |Lukasz           |\n",
      "|SEDNEV           |Serguei          |\n",
      "|LEE              |In-Bok           |\n",
      "|PERRAS           |Scott            |\n",
      "|GOMBOS           |Karoly           |\n",
      "|ALMOUKOV         |Alexei           |\n",
      "|STEPHAN          |Christoph        |\n",
      "|KAUPPINEN        |Jarkko           |\n",
      "|JACKSON          |Lee-Steve        |\n",
      "|DOKL             |Peter            |\n",
      "|CURRIER          |Russell          |\n",
      "|WEGER            |Benjamin         |\n",
      "|HAELG            |Philipp          |\n",
      "|SLONOVA          |Anastasia        |\n",
      "|STAROSTIN        |Mark             |\n",
      "|JACOBSEN         |Astrid Uhrenholdt|\n",
      "|ANTSYBOR         |Maryna           |\n",
      "|PEPENE           |Paul Constantin  |\n",
      "|TAMMJARV         |Karel            |\n",
      "|WATSON           |Aimee            |\n",
      "|LEHTONEN         |Lari             |\n",
      "|MUSGRAVE         |Andrew           |\n",
      "|SMITH            |Callum           |\n",
      "|XU               |Wenlong          |\n",
      "|STEPHEN          |Elizabeth        |\n",
      "|NOVAK            |Petr             |\n",
      "|SMUTNA           |Katerina         |\n",
      "|FAIVRE PICON     |Anouk            |\n",
      "|HUGUE            |Coraline         |\n",
      "|CALDWELL         |Sophie           |\n",
      "|WATSON           |Callum           |\n",
      "|MIKAYELYAN       |Sergey           |\n",
      "|KATO             |Taihei           |\n",
      "|WATABE           |Yoshito          |\n",
      "|BAUER            |Armin            |\n",
      "|RUNGGALDIER      |Lukas            |\n",
      "|TIIRMAA          |Karl-August      |\n",
      "|NURMSALU         |Kaarel           |\n",
      "|BERLOT           |Gasper           |\n",
      "|JELENKO          |Marjan           |\n",
      "|ORANIC           |Mitja            |\n",
      "|FLETCHER         |Taylor           |\n",
      "|FLETCHER         |Bryan            |\n",
      "|DVORAK           |Miroslav         |\n",
      "|HUG              |Tim              |\n",
      "|PANCOCHOVA       |Sarka            |\n",
      "|KOT              |Maciej           |\n",
      "|TEPES            |Jurij            |\n",
      "|ALEXANDER        |Nicholas         |\n",
      "|KOUDELKA         |Roman            |\n",
      "|DESCHWANDEN      |Gregor           |\n",
      "|BOYD-CLOWES      |Mackenzie        |\n",
      "|DRUSZKIEWICZ     |Sebastian        |\n",
      "|KUZIN            |Denis            |\n",
      "|KRECH            |Roman            |\n",
      "|PEDERSEN         |Sverre Lunde     |\n",
      "|ISHIZAWA         |Shiho            |\n",
      "|TSUJI            |Maki             |\n",
      "|NOH              |Seon Yeong       |\n",
      "|HEMMER           |Mari             |\n",
      "|DUTTON           |William          |\n",
      "|GREIG            |Daniel           |\n",
      "|DOBBIN           |Shane            |\n",
      "|SCHWARZ          |Samuel           |\n",
      "|IHLE             |Nico             |\n",
      "|TODD             |Sugar            |\n",
      "|MEEK             |Patrick          |\n",
      "|ROOKARD          |Jilleanne        |\n",
      "|MACE             |Benjamin         |\n",
      "|JAMES            |Scott            |\n",
      "|FREITAG          |Richard          |\n",
      "|FANNEMEL         |Anders           |\n",
      "|ZAVECKAS         |Rokas            |\n",
      "|BELL             |Florence         |\n",
      "|TOBI             |Triin            |\n",
      "|MOHBAT           |Alexandre        |\n",
      "|VLHOVA           |Petra            |\n",
      "|LAMHAMEDI        |Adam             |\n",
      "|WELLS            |Beau-James       |\n",
      "|HEROLA           |Ilkka            |\n",
      "|ILVES            |Kristjan         |\n",
      "|PORTYK           |Tomas            |\n",
      "|NAGAI            |Hideaki          |\n",
      "|CIESLAR          |Adam             |\n",
      "|PIHO             |Han Hendrik      |\n",
      "|PASICHNYK        |Viktor           |\n",
      "|LEINONEN         |Mikke            |\n",
      "|VAEHAESOEYRINKI  |Eetu             |\n",
      "|BELOV            |Evgeniy          |\n",
      "|STROLIA          |Vytautas         |\n",
      "|GRIDIN           |Andrey           |\n",
      "|GRIGOROVA-BURGOVA|Antoniya         |\n",
      "|KLISZ            |Pawel            |\n",
      "|IVANOVA          |Julia            |\n",
      "|KUZIUKOVA        |Olga             |\n",
      "|SARA             |Timea            |\n",
      "|AKHMADIYEV       |Yerdos           |\n",
      "|POLTORANIN       |Alexey           |\n",
      "|AYMONIER         |Celia            |\n",
      "|NISHIKAWA        |Emily            |\n",
      "|WIDMER           |Heidi            |\n",
      "|AGREITER         |Debora           |\n",
      "|DIGGINS          |Jessica          |\n",
      "|STADLOBER        |Teresa           |\n",
      "|BING             |Thomas           |\n",
      "|DOTZLER          |Hannes           |\n",
      "|BJORNSEN         |Sadie            |\n",
      "|HWANG            |Jun-Ho           |\n",
      "|NOVAKOVA         |Petra            |\n",
      "|ANTYPENKO        |Tetyana          |\n",
      "|BJORNSEN         |Erik             |\n",
      "|BAUMANN          |Jonas            |\n",
      "|YEGHOYAN         |Artur            |\n",
      "|JESPERSEN        |Chris Andre      |\n",
      "|OCONNOR          |Seamus           |\n",
      "|SCHERRER         |Jan              |\n",
      "|ZIOBRO           |Jan              |\n",
      "|ROMASHOV         |Alexey           |\n",
      "|LAMY CHAPPUIS    |Ronan            |\n",
      "|VELTA            |Rune             |\n",
      "|HAZETDINOV       |Ilmir            |\n",
      "|MAEAETTAE        |Jarkko           |\n",
      "|MUOTKA           |Olli             |\n",
      "|CHOI             |Seou             |\n",
      "|KONDO            |Taro             |\n",
      "|SUMIYOSHI        |Miyako           |\n",
      "|FUJIMURA         |Shoko            |\n",
      "|ANDERSSON        |David            |\n",
      "|MEZENTSEV        |Fyodor           |\n",
      "|SUNG             |Ching-Yang       |\n",
      "|FERNANDEZ        |Ewen             |\n",
      "|BLONDIN          |Ivanie           |\n",
      "|CHRIST           |Kali             |\n",
      "|OUARDI           |Muncef           |\n",
      "|DE HAITRE        |Vincent          |\n",
      "|HVAMMEN          |Espen            |\n",
      "|SPIELER NILSEN   |Simen            |\n",
      "|MANTIA           |Joey             |\n",
      "|LEHMAN           |Emery            |\n",
      "|PARK             |Seung Ju         |\n",
      "|KIM              |Bo Reum          |\n",
      "|KIM              |Hyun Yung        |\n",
      "|YANG             |Shin Young       |\n",
      "|GEISREITER       |Moritz           |\n",
      "|ANGERMUELLER     |Monique          |\n",
      "|BAUMGAERTNER     |Alexej           |\n",
      "|KRAUS            |Bente            |\n",
      "|TIAN             |Guojun           |\n",
      "|PEETERS          |Jelena           |\n",
      "|JANUSKEVICIUTE   |Ieva             |\n",
      "|BRACHNER         |Patrick          |\n",
      "|TAZI             |Kenza            |\n",
      "|KIYADARBANDSARI  |Mohammad         |\n",
      "|PFIFFNER         |Marco            |\n",
      "|HADZIC           |Tarik            |\n",
      "|BANCORA          |Salome           |\n",
      "|MAYTAKOV         |Sergei           |\n",
      "|KHOROSHILOV      |Alexander        |\n",
      "|GLEBOV           |Alexander        |\n",
      "|ZHANG            |Yuxin            |\n",
      "|ACHIRILOAIE      |Ioan Valeriu     |\n",
      "|PELLEGRIN        |Elise            |\n",
      "|BROWN            |Philip           |\n",
      "|PHILP            |Trevor           |\n",
      "|PUENTE TASIAS    |Alex             |\n",
      "|BAMFORD          |Emily            |\n",
      "|CHRYSTAL         |Lavinia          |\n",
      "|DEMSCHAR         |Dominic          |\n",
      "|PERAUDO          |Ross             |\n",
      "|KOMSIC           |Andrea           |\n",
      "|LYNE             |Conor            |\n",
      "|STRIEDINGER      |Otmar            |\n",
      "|GOLDBERG         |Jared            |\n",
      "|LUITZ            |Stefan           |\n",
      "|GANONG           |Travis           |\n",
      "|PARK             |Je-Yun           |\n",
      "|GIM              |So-Hui           |\n",
      "|SUCHARITAKUL     |Kanes            |\n",
      "|DUBOVSKA         |Martina          |\n",
      "|ONSKULIS         |Martins          |\n",
      "|GUDMUNDSSON      |Brynjar Jokull   |\n",
      "|KRISTGEIRSSON    |Einar Kristinn   |\n",
      "|BARWOOD          |Adam             |\n",
      "|MEHILLI          |Suela            |\n",
      "|CAMPBELL         |Jasmine          |\n",
      "|DIAS             |Camille          |\n",
      "|HANSE            |Arthur           |\n",
      "|HOLDENER         |Wendy            |\n",
      "|KRANJEC          |Zan              |\n",
      "|LAVTAR           |Katarina         |\n",
      "|STEYN            |Luke             |\n",
      "|SIMSEK           |Emre             |\n",
      "|KOCAAGA          |Tugba            |\n",
      "|DIPOL            |Alessia Afi      |\n",
      "|KYUNG            |Sung Hyun        |\n",
      "|GUZIK            |Grzegorz         |\n",
      "|LIADOV           |Yuryi            |\n",
      "|DESTHIEUX        |Simon            |\n",
      "|HASILLA          |Tomas            |\n",
      "|LOBO ESCOLAR     |Victor           |\n",
      "|PANTOV           |Anton            |\n",
      "|TOIVANEN         |Ahti             |\n",
      "|WIESTNER         |Serafin          |\n",
      "|WELLS            |Josiah           |\n",
      "|TIMOFEEV         |Evgeniy          |\n",
      "|ASGEIRSDOTTIR    |Erla             |\n"
     ]
    }
   ],
   "source": [
    "query = \"\"\"\n",
    "Select nomAth, prenomAth\n",
    "from RangIndividuel rind\n",
    "natural join Athlete\n",
    "group by rind.aid\n",
    "having count(rind.aid) = 2\n",
    "\n",
    "\"\"\"\n",
    "cursor=execute(connection,query,show=True)"
   ]
  },
  {
   "cell_type": "markdown",
   "metadata": {
    "id": "jahd33SBK_QS"
   },
   "source": [
    "## TME5 SQL JOINTURES / EXISTS"
   ]
  },
  {
   "cell_type": "markdown",
   "metadata": {
    "id": "HYs-xs7bK_QS"
   },
   "source": [
    "Q1. Les sports auxquels LESSER Erik a participé en supposant qu'il a participé aux épreuves\n",
    "individuelles (2 lignes)."
   ]
  },
  {
   "cell_type": "code",
   "execution_count": 191,
   "metadata": {
    "id": "Q9LsRsw1K_QS",
    "scrolled": true
   },
   "outputs": [
    {
     "name": "stdout",
     "output_type": "stream",
     "text": [
      "2 rows\n",
      "|nomsp      |\n",
      "|------------\n",
      "|Biathlon   |\n",
      "|Ski de fond|\n"
     ]
    }
   ],
   "source": [
    "query=\"\"\"\n",
    "Select distinct nomSp\n",
    "from Sport s\n",
    "natural join Epreuve ep\n",
    "natural join RangIndividuel\n",
    "natural join Athlete a\n",
    "where nomAth = 'LESSER' and prenomAth = 'Erik'\n",
    "\n",
    "\n",
    "\"\"\"\n",
    "\n",
    "cursor=execute(connection,query,show=True)"
   ]
  },
  {
   "cell_type": "markdown",
   "metadata": {
    "id": "3hIbpOBmK_QV"
   },
   "source": [
    "Q2. Les athlètes ayant participé aux épreuves individuelles de (au moins) deux sports différents (2 lignes). // A priori les 4 lignes sont correctes ????"
   ]
  },
  {
   "cell_type": "code",
   "execution_count": 186,
   "metadata": {
    "id": "ICNhci1OK_QV",
    "scrolled": true
   },
   "outputs": [
    {
     "name": "stdout",
     "output_type": "stream",
     "text": [
      "4 rows\n",
      "|nomath  |prenomath|\n",
      "|-------------------\n",
      "|TER MORS|Jorien   |\n",
      "|LESSER  |Erik     |\n",
      "|PEIFFER |Arnd     |\n",
      "|PETROVIC|Milanko  |\n"
     ]
    }
   ],
   "source": [
    "query=\"\"\"\n",
    "select nomAth, prenomAth\n",
    "from Athlete a\n",
    "where (\n",
    "    Select count (distinct nomSp) \n",
    "    from Sport\n",
    "    natural join Epreuve\n",
    "    natural join RangIndividuel rind\n",
    "    where rind.aid = a.aid  \n",
    ") >= 2\n",
    "\n",
    "\"\"\"\n",
    "\n",
    "cursor=execute(connection,query,show=True)"
   ]
  },
  {
   "cell_type": "markdown",
   "metadata": {
    "id": "-qLuhvVdK_QV"
   },
   "source": [
    "Q3. Les dates de début et de fin des Jeux Olympique 2014."
   ]
  },
  {
   "cell_type": "code",
   "execution_count": 194,
   "metadata": {
    "id": "BsTOU4gsK_QV",
    "scrolled": true
   },
   "outputs": [
    {
     "name": "stdout",
     "output_type": "stream",
     "text": [
      "1 rows\n",
      "|?column?  |?column?  |\n",
      "|----------------------\n",
      "|2014-02-06|2014-02-23|\n"
     ]
    }
   ],
   "source": [
    "query=\"\"\"\n",
    "Select min(dateDebut), max(dateFin) \n",
    "from Epreuve\n",
    "\n",
    "\"\"\"\n",
    "\n",
    "cursor=execute(connection,query,show=True)"
   ]
  },
  {
   "cell_type": "markdown",
   "metadata": {
    "id": "mN6ZBX36K_QV"
   },
   "source": [
    "Q4. Les pays qui ont des participants de moins de 18 ans ou de plus que 40 au 24-02-2016\n",
    "(Attention : il faut éliminer les athlètes dont on ne connaît pas la date de naissance) (9 ou 7 lignes)."
   ]
  },
  {
   "cell_type": "code",
   "execution_count": 228,
   "metadata": {
    "id": "WT8V2bM_K_QV",
    "scrolled": true
   },
   "outputs": [
    {
     "name": "stdout",
     "output_type": "stream",
     "text": [
      "8 rows\n",
      "|aid|nomath     |prenomath|datenaissance|codepays|\n",
      "|-------------------------------------------------\n",
      "|1  |BJOERNDALEN|Ole Einar|1974-01-27   |NOR     |\n",
      "|4  |PECHSTEIN  |Claudia  |1972-02-22   |GER     |\n",
      "|27 |ZOEGGELER  |Armin    |1974-01-04   |ITA     |\n",
      "|32 |DI CENTA   |Giorgio  |1972-07-10   |ITA     |\n",
      "|99 |ANDERSON   |Jasey Jay|1975-04-13   |CAN     |\n",
      "|166|DEMTSCHENKO|Albert   |1971-11-27   |RUS     |\n",
      "|171|KASAI      |Noriaki  |1972-06-06   |JPN     |\n",
      "|215|TABATA     |Maki     |1974-11-09   |JPN     |\n"
     ]
    }
   ],
   "source": [
    "query=\"\"\"\n",
    "\n",
    "/*\n",
    "select nomP\n",
    "from Athlete a \n",
    "natural join Pays\n",
    "where DATEDIFF(YEAR, a.dateNaissance, '2016-02-24') < 18\n",
    "or DATEDIFF(YEAR, a.dateNaissance, '2016-02-24') > 40\n",
    "*/\n",
    "\n",
    "\n",
    "select *\n",
    "from Athlete a \n",
    "where DATEDIFF(YEAR, a.dateNaissance, '2016-02-24') < 18\n",
    "or DATEDIFF(YEAR, a.dateNaissance, '2016-02-24') > 40\n",
    "\n",
    "\n",
    "/*\n",
    "select * \n",
    "from Athlete \n",
    "order by dateNaissance asc\n",
    "*/\n",
    "\n",
    "\"\"\"\n",
    "\n",
    "cursor=execute(connection,query,show=True)"
   ]
  },
  {
   "cell_type": "markdown",
   "metadata": {
    "id": "MkZ5hQNSK_QW"
   },
   "source": [
    "### NOT EXISTS / NOT IN"
   ]
  },
  {
   "cell_type": "markdown",
   "metadata": {
    "id": "lz9VJoBTK_QW"
   },
   "source": [
    "Q5. Les équipes n'ayant pas d'athlète (la base de données ne contient pas l'information sur les participants) (13 lignes)"
   ]
  },
  {
   "cell_type": "code",
   "execution_count": 243,
   "metadata": {
    "id": "7ne6BWTwK_QW",
    "scrolled": true
   },
   "outputs": [
    {
     "name": "stdout",
     "output_type": "stream",
     "text": [
      "13 rows\n",
      "|eqid|codepays|\n",
      "|--------------\n",
      "|159 |SWE     |\n",
      "|160 |FIN     |\n",
      "|161 |RUS     |\n",
      "|162 |GER     |\n",
      "|163 |JPN     |\n",
      "|167 |USA     |\n",
      "|229 |ITA     |\n",
      "|230 |JPN     |\n",
      "|231 |FRA     |\n",
      "|232 |CHN     |\n",
      "|233 |GER     |\n",
      "|234 |UKR     |\n",
      "|235 |GBR     |\n"
     ]
    }
   ],
   "source": [
    "query=\"\"\"\n",
    "\n",
    "select distinct e.eqid, codepays \n",
    "from Equipe e\n",
    "where not exists (\n",
    "    Select *\n",
    "    from AthletesEquipe ae\n",
    "    where e.eqid = ae.eqid)\n",
    "\n",
    "\"\"\"\n",
    "\n",
    "cursor=execute(connection,query,show=True)"
   ]
  },
  {
   "cell_type": "markdown",
   "metadata": {
    "id": "0IASIDbYK_QW"
   },
   "source": [
    "Q6. Les équipes qui ont exactement 2 athlètes. Retourner l'équipe en question avec ses deux seuls athlètes (114 lignes).\n"
   ]
  },
  {
   "cell_type": "code",
   "execution_count": null,
   "metadata": {
    "id": "PeuaVPZWK_QW",
    "scrolled": true
   },
   "outputs": [],
   "source": [
    "query=\"\"\"\n",
    "\n",
    "\"\"\"\n",
    "\n",
    "cursor=execute(connection,query,show=True)"
   ]
  },
  {
   "cell_type": "markdown",
   "metadata": {
    "id": "0BaxQE9uK_QW"
   },
   "source": [
    "Q7. Les sports qui n'ont pas d'épreuves de catégorie Mixte (12 lignes)."
   ]
  },
  {
   "cell_type": "code",
   "execution_count": null,
   "metadata": {
    "id": "c60MlGLnK_QW",
    "scrolled": true
   },
   "outputs": [],
   "source": [
    "query=\"\"\"\n",
    "\n",
    "\n",
    "\"\"\"\n",
    "\n",
    "cursor=execute(connection,query,show=True)"
   ]
  },
  {
   "cell_type": "markdown",
   "metadata": {
    "id": "mJ_GYrlPK_QW"
   },
   "source": [
    "Q8. Les athlètes qui ont gagné une médaille d’or (au moins) mais pas de médaille d’argent ni de bronze (53 lignes)"
   ]
  },
  {
   "cell_type": "code",
   "execution_count": null,
   "metadata": {
    "id": "sLdOMM8YK_QW",
    "scrolled": true
   },
   "outputs": [],
   "source": [
    "query=\"\"\"\n",
    "\n",
    "\n",
    "\"\"\"\n",
    "\n",
    "cursor=execute(connection,query,show=True)"
   ]
  },
  {
   "cell_type": "markdown",
   "metadata": {
    "id": "VUEqCvN0K_QX"
   },
   "source": [
    "Q9. Les athlète(s) qui ont fini dernier d’une épreuve individuelle. Indiquer leur nom, prenom, le nom\n",
    "du sport et de l’épreuve et leur rang. Attention : il faut filtrer les athlètes disqualifiés (73 lignes)."
   ]
  },
  {
   "cell_type": "code",
   "execution_count": null,
   "metadata": {
    "id": "VspoP8RGK_QX",
    "scrolled": true
   },
   "outputs": [],
   "source": [
    "query=\"\"\"\n",
    "\n",
    "\n",
    "\"\"\"\n",
    "\n",
    "cursor=execute(connection,query,show=True)"
   ]
  },
  {
   "cell_type": "markdown",
   "metadata": {
    "id": "oI80YY4SK_QX"
   },
   "source": [
    "## TD6 REQUÊTES IMBRIQUÉES AVEC EXISTS, ALL ET A"
   ]
  },
  {
   "cell_type": "markdown",
   "metadata": {
    "id": "yQYt6buzK_QX"
   },
   "source": [
    "Q1. Les athlètes ayant participé à (au moins) une épreuve individuelle et (au moins) une épreuve\n",
    "par équipe. Exprimer la requête en utilisant ANY (au lieu de IN; voir requête 2.6 dans TD5).\n",
    "Résultat : (372 lignes)"
   ]
  },
  {
   "cell_type": "code",
   "execution_count": null,
   "metadata": {
    "id": "9Olo5cQLK_QX",
    "tags": []
   },
   "outputs": [],
   "source": [
    "query=\"\"\"\n",
    "\n",
    "\n",
    "\"\"\"\n",
    "execute(connection,query,show=True)"
   ]
  },
  {
   "cell_type": "markdown",
   "metadata": {
    "id": "FGpuedpUK_QX"
   },
   "source": [
    "2. a) Les pays ayant au moins un athlète (requête équivalente: les pays ayant participé aux JO).\n",
    "Résultat : (88 lignes)"
   ]
  },
  {
   "cell_type": "code",
   "execution_count": null,
   "metadata": {
    "id": "GniRw1inK_QX"
   },
   "outputs": [],
   "source": [
    "query=\"\"\"\n",
    "\n",
    "\n",
    "\"\"\"\n",
    "execute(connection,query,show=True)"
   ]
  },
  {
   "cell_type": "markdown",
   "metadata": {
    "id": "Bp2TBA3_K_QX"
   },
   "source": [
    "b) Les pays ayant exactement un seul athlète\n",
    "Résultat : (18 lignes)"
   ]
  },
  {
   "cell_type": "code",
   "execution_count": null,
   "metadata": {
    "id": "2skSzFYhK_QY"
   },
   "outputs": [],
   "source": [
    "query=\"\"\"\n",
    "\n",
    "\n",
    "\"\"\"\n",
    "execute(connection,query,show=True)\n"
   ]
  },
  {
   "cell_type": "markdown",
   "metadata": {
    "id": "3kNeWqNHK_QY"
   },
   "source": [
    "3. a) Les athlètes qui n'ont jamais été disqualifiés aux épreuves individuelles.\n",
    "Résultat : (2194 lignes)"
   ]
  },
  {
   "cell_type": "code",
   "execution_count": null,
   "metadata": {
    "id": "g99uDpf2K_QY"
   },
   "outputs": [],
   "source": [
    "query=\"\"\"\n",
    "\n",
    "\n",
    "\"\"\"\n",
    "execute(connection,query,show=True)"
   ]
  },
  {
   "cell_type": "markdown",
   "metadata": {
    "id": "BQ-25LwzK_QY"
   },
   "source": [
    "b) Les pays qui n'ont pas eu d'athlète disqualifié aux épreuves individuelles.\n",
    "Résultat : (143 lignes)"
   ]
  },
  {
   "cell_type": "code",
   "execution_count": null,
   "metadata": {
    "id": "0NT42eJVK_QY"
   },
   "outputs": [],
   "source": [
    "query=\"\"\"\n",
    "\n",
    "\n",
    "\"\"\"\n",
    "execute(connection,query,show=True)"
   ]
  },
  {
   "cell_type": "markdown",
   "metadata": {
    "id": "fHg_QsuuK_QY"
   },
   "source": [
    "c) Les pays qui ont participé aux JO et qui n'ont pas eu d'athlètes disqualifiés aux épreuves\n",
    "individuelles.\n",
    "Résultat : (25 lignes)"
   ]
  },
  {
   "cell_type": "code",
   "execution_count": null,
   "metadata": {
    "id": "YXuJGJRBK_QY"
   },
   "outputs": [],
   "source": [
    "query=\"\"\"\n",
    "\n",
    "\n",
    "\"\"\"\n",
    "execute(connection,query,show=True)"
   ]
  },
  {
   "cell_type": "markdown",
   "metadata": {
    "id": "Fsqtn20KK_QY"
   },
   "source": [
    "d) Les pays qui ont participé aux JO et qui n'ont pas eu des athlètes disqualifiés ni en\n",
    "individuel ni par équipe\n",
    "Résultat : (25 lignes)"
   ]
  },
  {
   "cell_type": "code",
   "execution_count": null,
   "metadata": {
    "id": "73orDmUGK_QZ"
   },
   "outputs": [],
   "source": [
    "query=\"\"\"\n",
    "\n",
    "\n",
    "\"\"\"\n",
    "execute(connection,query,show=True)"
   ]
  },
  {
   "cell_type": "markdown",
   "metadata": {
    "id": "kp8MsK1gK_QZ"
   },
   "source": [
    "4. a) Les athlètes n'ayant pas gagné de médaille ni en individuel ni en équipe\n",
    "Résultat : (1921 lignes)"
   ]
  },
  {
   "cell_type": "code",
   "execution_count": null,
   "metadata": {
    "id": "FtZgJhZNK_QZ"
   },
   "outputs": [],
   "source": [
    "query=\"\"\"\n",
    "\n",
    "\n",
    "\"\"\"\n",
    "execute(connection,query,show=True)"
   ]
  },
  {
   "cell_type": "markdown",
   "metadata": {
    "id": "5_64wIZNK_QZ"
   },
   "source": [
    "b) Les pays ayant participé aux JO et n'ayant pas gagné de médaille ni en individuel ni en\n",
    "équipe.\n",
    "Résultat : (63 lignes)"
   ]
  },
  {
   "cell_type": "code",
   "execution_count": null,
   "metadata": {
    "id": "9U58ESk8K_QZ"
   },
   "outputs": [],
   "source": [
    "query=\"\"\"\n",
    "\n",
    "\n",
    "\"\"\"\n",
    "execute(connection,query,show=True)\n"
   ]
  },
  {
   "cell_type": "markdown",
   "metadata": {
    "id": "hlcRO7GMK_QZ"
   },
   "source": [
    "5. L'(es) épreuve(s) avec la plus grande durée.\n",
    "Résultat : Hockey sur glace, Hockey sur glace, Hommes, 16 jours"
   ]
  },
  {
   "cell_type": "code",
   "execution_count": null,
   "metadata": {
    "id": "i8rNd1-vK_QZ"
   },
   "outputs": [],
   "source": [
    "query=\"\"\"\n",
    "\n",
    "\n",
    "\"\"\"\n",
    "execute(connection,query,show=True)"
   ]
  },
  {
   "cell_type": "markdown",
   "metadata": {
    "id": "OpqT8QQOK_QZ"
   },
   "source": [
    "6. Les athlètes ayant gagné une médaille à toutes les épreuve individuelles auxquelles ils ont\n",
    "participé. Résultat : (109 lignes)"
   ]
  },
  {
   "cell_type": "code",
   "execution_count": null,
   "metadata": {
    "id": "z8wBgqYiK_QZ"
   },
   "outputs": [],
   "source": [
    "query=\"\"\"\n",
    "\n",
    "\n",
    "\"\"\"\n",
    "execute(connection,query,show=True)"
   ]
  },
  {
   "cell_type": "markdown",
   "metadata": {
    "id": "a1QbXzXRK_Qa"
   },
   "source": [
    "## TME6 REQUÊTES IMBRIQUÉES AVEC EXISTS, ALL ET ANY"
   ]
  },
  {
   "cell_type": "markdown",
   "metadata": {
    "id": "CCR7b3pFK_Qa"
   },
   "source": [
    "### ANY / ALL / IN / EXISTS"
   ]
  },
  {
   "cell_type": "markdown",
   "metadata": {
    "id": "-dVVJmgOK_Qa"
   },
   "source": [
    "Exprimer les requêtes suivantes en SQL :\n",
    "\n",
    "1. Les sports dont toutes les épreuves ont duré un seul jour.\n",
    "Résultat : Ski de fond, Ski alpin, Biathlon"
   ]
  },
  {
   "cell_type": "code",
   "execution_count": null,
   "metadata": {
    "id": "bYJMYYsMK_Qa"
   },
   "outputs": [],
   "source": [
    "query=\"\"\"\n",
    "\n",
    "\n",
    "\"\"\"\n",
    "execute(connection,query,show=True)"
   ]
  },
  {
   "cell_type": "markdown",
   "metadata": {
    "id": "gqqOQ9lbK_Qa"
   },
   "source": [
    "2. Les sports qui n'ont pas d'épreuves de categorie Mixte.\n",
    "Résultat : (12 lignes)"
   ]
  },
  {
   "cell_type": "code",
   "execution_count": null,
   "metadata": {
    "id": "H55TvGICK_Qa"
   },
   "outputs": [],
   "source": [
    "query=\"\"\"\n",
    "\n",
    "\n",
    "\"\"\"\n",
    "execute(connection,query,show=True)"
   ]
  },
  {
   "cell_type": "markdown",
   "metadata": {
    "id": "5zh6KHqlK_Qa"
   },
   "source": [
    "3. Les équipes dont aucun athlète n'a gagné de médaille aux épreuves individuelles.\n",
    "Attention : il y a des équipes sans athlètes.\n",
    "Résultat : (265 lignes avec les équipes sans athlètes - 252 lignes sans les équipes sans\n",
    "athlètes)"
   ]
  },
  {
   "cell_type": "markdown",
   "metadata": {
    "id": "RnS5ceSZK_Qa"
   },
   "source": [
    "Avec les équipes sans athlètes :"
   ]
  },
  {
   "cell_type": "code",
   "execution_count": null,
   "metadata": {
    "id": "Jc7cCk2RK_Qb"
   },
   "outputs": [],
   "source": [
    "query=\"\"\"\n",
    "\n",
    "\n",
    "\"\"\"\n",
    "execute(connection,query,show=True)"
   ]
  },
  {
   "cell_type": "markdown",
   "metadata": {
    "id": "7TCOWjOwK_Qb"
   },
   "source": [
    "Sans les équipes sans athlètes :"
   ]
  },
  {
   "cell_type": "code",
   "execution_count": null,
   "metadata": {
    "id": "FWaVdiBoK_Qb"
   },
   "outputs": [],
   "source": [
    "query=\"\"\"\n",
    "\n",
    "\n",
    "\"\"\"\n",
    "execute(connection,query,show=True)"
   ]
  },
  {
   "cell_type": "markdown",
   "metadata": {
    "id": "c7GRqtVVK_Qb"
   },
   "source": [
    "4. La nationalité de l'athlète le/la plus jeune. Attention : il y a des athlètes dont on ne connaît\n",
    "pas la date de naissance.\n",
    "Résultat : ('29/11/1998','JPN')"
   ]
  },
  {
   "cell_type": "code",
   "execution_count": null,
   "metadata": {
    "id": "rggL0gpSK_Qb"
   },
   "outputs": [],
   "source": [
    "query=\"\"\"\n",
    "\n",
    "\n",
    "\"\"\"\n",
    "execute(connection,query,show=True)"
   ]
  },
  {
   "cell_type": "markdown",
   "metadata": {
    "id": "8w2feGAkK_Qc"
   },
   "source": [
    "5. Le plus jeune athlète de chaque pays.\n",
    "Résultat : (26 lignes)"
   ]
  },
  {
   "cell_type": "code",
   "execution_count": null,
   "metadata": {
    "id": "MOElEASCK_Qc"
   },
   "outputs": [],
   "source": [
    "query=\"\"\"\n",
    "\n",
    "\n",
    "\"\"\"\n",
    "execute(connection,query,show=True)"
   ]
  },
  {
   "cell_type": "markdown",
   "metadata": {
    "id": "q8QRjWcEK_Qc"
   },
   "source": [
    "## TME7 REQUÊTES D'AGRÉGATION ET DIVISION"
   ]
  },
  {
   "cell_type": "markdown",
   "metadata": {
    "id": "Ut0U4TePK_Qc"
   },
   "source": [
    "On reprend le schéma schéma « Jeux Olympiques d'hiver 2014 ».\n",
    "\n",
    "PAYS (CODEPAYS, NOMP)\n",
    "\n",
    "SPORT (SID , NOM SP)\n",
    "\n",
    "EPREUVE (EPID, SID*, NOMEP, CATEGORIE, DATEDEBUT, DATEFIN)\n",
    "\n",
    "ATHLETE (AID, NOMATH, PRENOMATH, DATENAISSANCE, CODEPAYS*)\n",
    "\n",
    "EQUIPE (EQID, CODE PAYS*)\n",
    "\n",
    "ATHLETESEQUIPE (EQID*, AID*)\n",
    "\n",
    "RANGINDIVIDUEL (EPID*, AID*, RANG)\n",
    "\n",
    "RANGEQUIPE (EPID*, EQID*, RANG)"
   ]
  },
  {
   "cell_type": "markdown",
   "metadata": {
    "id": "MPzDi8LWK_Qc"
   },
   "source": [
    "### Fonctions d’agrégation « COUNT, SUM, AVG, MIN, MAX »"
   ]
  },
  {
   "cell_type": "markdown",
   "metadata": {
    "id": "a_pvXlUGK_Qc"
   },
   "source": [
    "1. Le nombre d’athlètes.\n",
    "Résultat (1 ligne) : 2431"
   ]
  },
  {
   "cell_type": "code",
   "execution_count": null,
   "metadata": {
    "id": "TS72LTiiK_Qc"
   },
   "outputs": [],
   "source": [
    "query=\"\"\"\n",
    "\n",
    "\n",
    "\"\"\"\n",
    "execute(connection,query,show=True)"
   ]
  },
  {
   "cell_type": "markdown",
   "metadata": {
    "id": "ISX14NCSK_Qc"
   },
   "source": [
    "2. Le nombre d’athlètes ayant participé à au moins une épreuve en individuel.\n",
    "Résultat (1 ligne) : 1558"
   ]
  },
  {
   "cell_type": "code",
   "execution_count": null,
   "metadata": {
    "id": "0uhEMKJBK_Qe"
   },
   "outputs": [],
   "source": [
    "query=\"\"\"\n",
    "\n",
    "\n",
    "\"\"\"\n",
    "execute(connection,query,show=True)"
   ]
  },
  {
   "cell_type": "markdown",
   "metadata": {
    "id": "kEyxwDGdK_Qe"
   },
   "source": [
    "3. L'âge moyen des sportifs dont le code pays est 'FRA' (France) au 06/02/2014.\n",
    "Résultat (1 ligne) : 26,8\n",
    "Aide :\n",
    "– utilisez round(valeur,nb) pour garder seulement nb décimales à valeur\n",
    "– sous Oracle, utilisez: to_date('06/02/2014','dd/mm/YYYY')"
   ]
  },
  {
   "cell_type": "code",
   "execution_count": null,
   "metadata": {
    "id": "fRNbse8zK_Qe"
   },
   "outputs": [],
   "source": [
    "query=\"\"\"\n",
    "\n",
    "\n",
    "\"\"\"\n",
    "execute(connection,query,show=True)"
   ]
  },
  {
   "cell_type": "markdown",
   "metadata": {
    "id": "mM6irKcIK_Qe"
   },
   "source": [
    "4. La durée moyenne, minimale et maximale des épreuves.\n",
    "Résultat (1 ligne) : « Durée moyenne = 1,98 min = 1 max = 16 »\n",
    "Aide : utilisez l’opérateur de concaténation ||\n",
    "Attention : entre le 10/01/2014 et le 13/01/2014, il y a une durée de 4 jours (et non pas 3)."
   ]
  },
  {
   "cell_type": "code",
   "execution_count": null,
   "metadata": {
    "id": "7uDd-oGcK_Qf"
   },
   "outputs": [],
   "source": [
    "query=\"\"\"\n",
    "\n",
    "\n",
    "\"\"\"\n",
    "execute(connection,query,show=True)"
   ]
  },
  {
   "cell_type": "markdown",
   "metadata": {
    "id": "nw6ejEVPK_Qf"
   },
   "source": [
    "5. Le nombre moyen d'athlètes par pays, c'est-à-dire le nombre d'athlètes divisé par le nombre\n",
    "de pays (ayant au moins un athlète). Résultat (1 ligne) : 27,625"
   ]
  },
  {
   "cell_type": "code",
   "execution_count": null,
   "metadata": {
    "id": "yS-8LvjsK_Qf"
   },
   "outputs": [],
   "source": [
    "query=\"\"\"\n",
    "\n",
    "\n",
    "\"\"\"\n",
    "execute(connection,query,show=True)"
   ]
  },
  {
   "cell_type": "markdown",
   "metadata": {
    "id": "MDGyIJR3K_Qf"
   },
   "source": [
    "Partitionnement « group by »"
   ]
  },
  {
   "cell_type": "markdown",
   "metadata": {
    "id": "230EUEcsK_Qf"
   },
   "source": [
    "6. Pour chaque pays, le nom du pays et le nombre d’athlètes, ordonner par nombre d’athlètes\n",
    "croissant.\n",
    "Résultats (88 lignes) : (PAK,1) ; (HKG, 1) ; ... ; (USA, 196) ; (CAN,221)"
   ]
  },
  {
   "cell_type": "code",
   "execution_count": null,
   "metadata": {
    "id": "x2OCNUPtK_Qf"
   },
   "outputs": [],
   "source": [
    "query=\"\"\"\n",
    "\n",
    "\n",
    "\"\"\"\n",
    "execute(connection,query,show=True)"
   ]
  },
  {
   "cell_type": "markdown",
   "metadata": {
    "id": "4zTnoY8BK_Qf"
   },
   "source": [
    "7. Le nombre moyen d'athlètes par pays (avec group by). Aide : compter le nombre\n",
    "d’athlètes dans chaque pays (ayant au moins un athlète), puis faire la moyenne.\n",
    "Résultat (1 ligne) : 27,625"
   ]
  },
  {
   "cell_type": "code",
   "execution_count": null,
   "metadata": {
    "id": "X7obDdzLK_Qf"
   },
   "outputs": [],
   "source": [
    "query=\"\"\"\n",
    "\n",
    "\n",
    "\"\"\"\n",
    "execute(connection,query,show=True)"
   ]
  },
  {
   "cell_type": "markdown",
   "metadata": {
    "id": "hxE6j5KzK_Qf"
   },
   "source": [
    "8. Pour chaque équipe, l’eqid de l'équipe et le nombre d'athlètes, ordonner par nombre\n",
    "d’athlètes décroissant.\n",
    "Résultats (296 lignes) : (164,25) ; (165,25) ; (166,25) ; ... ; (180,2) ; (181, 2) ; (182, 2)"
   ]
  },
  {
   "cell_type": "code",
   "execution_count": null,
   "metadata": {
    "id": "NyDpYgIJK_Qg"
   },
   "outputs": [],
   "source": [
    "query=\"\"\"\n",
    "\n",
    "\n",
    "\"\"\"\n",
    "execute(connection,query,show=True)"
   ]
  },
  {
   "cell_type": "markdown",
   "metadata": {
    "id": "PzKD_8b5K_Qg"
   },
   "source": [
    "9. Pour chaque catégorie, la catégorie et le nombre d'épreuves.\n",
    "Résultats (3 lignes) : (Femmes,43) ; (Mixte,6) ; (Hommes,49)"
   ]
  },
  {
   "cell_type": "code",
   "execution_count": null,
   "metadata": {
    "id": "oHTOuqv2K_Qg"
   },
   "outputs": [],
   "source": [
    "query=\"\"\"\n",
    "\n",
    "\n",
    "\"\"\"\n",
    "execute(connection,query,show=True)"
   ]
  },
  {
   "cell_type": "markdown",
   "metadata": {
    "id": "-_kn7mx8K_Qg"
   },
   "source": [
    "10. Pour chaque sport, le nom du sport et le nombre d'épreuves, ordonner par nombre d'épreuves\n",
    "décroissant.\n",
    "\n",
    "Résultats (15 lignes) : (Patinage de vitesse,12) ; (Ski de fond,12) ; ... ;(Hockey sur glace,2)"
   ]
  },
  {
   "cell_type": "code",
   "execution_count": null,
   "metadata": {
    "id": "STFyLi8KK_Qg"
   },
   "outputs": [],
   "source": [
    "query=\"\"\"\n",
    "\n",
    "\n",
    "\"\"\"\n",
    "execute(connection,query,show=True)"
   ]
  },
  {
   "cell_type": "markdown",
   "metadata": {
    "id": "Bjav_rGtK_Qg"
   },
   "source": [
    "11. Pour chaque pays, le code du pays, le nombre de médailles en épreuve individuelle gagnées\n",
    "et le nombre d'athlètes ayant gagnés au moins une médaille. Ordonner par nombre de\n",
    "médailles décroissant. Aide : 2 tables seulement sont nécessaires.\n",
    "Résultats (24 lignes) : (NOR, 24,19) ; (NED,22,15) ; ..."
   ]
  },
  {
   "cell_type": "code",
   "execution_count": null,
   "metadata": {
    "id": "rBV2Sap1K_Qg"
   },
   "outputs": [],
   "source": [
    "query=\"\"\"\n",
    "\n",
    "\n",
    "\"\"\"\n",
    "execute(connection,query,show=True)"
   ]
  },
  {
   "cell_type": "markdown",
   "metadata": {
    "id": "ORAh5F2uK_Qh"
   },
   "source": []
  },
  {
   "cell_type": "markdown",
   "metadata": {
    "id": "3MrvBvfqK_Qh"
   },
   "source": [
    "12. Pour chaque pays et sport, le code du pays, le sid du sport, le nombre de médailles en\n",
    "épreuve individuelle gagnées, le nombre d'athlètes ayant gagnés au moins une médaille,\n",
    "ordonner d'abord par code pays, puis par nombre de médailles décroissant.\n",
    "Résultats (84 lignes) : (AUS,12,2,2); (AUS,15,1,1);(AUT,13,9,7);(AUT,15,2,2);..."
   ]
  },
  {
   "cell_type": "code",
   "execution_count": null,
   "metadata": {
    "id": "JN-k1usvK_Qh"
   },
   "outputs": [],
   "source": [
    "query=\"\"\"\n",
    "\n",
    "\n",
    "\"\"\"\n",
    "execute(connection,query,show=True)"
   ]
  },
  {
   "cell_type": "markdown",
   "metadata": {
    "id": "-aACINwgK_Qh"
   },
   "source": [
    "### Partitionnement avec « group by / having »\n",
    "\n",
    "13. L’eqid de la ou des équipes qui sont composées :\n",
    "a) d'exactement 10 athlètes. Résultat (1 ligne) : 226"
   ]
  },
  {
   "cell_type": "code",
   "execution_count": null,
   "metadata": {
    "id": "v8NpoQL2K_Qh"
   },
   "outputs": [],
   "source": [
    "query=\"\"\"\n",
    "\n",
    "\n",
    "\"\"\"\n",
    "execute(connection,query,show=True)"
   ]
  },
  {
   "cell_type": "markdown",
   "metadata": {
    "id": "VdFbUSYrK_Qh"
   },
   "source": [
    "b) du plus d’athlètes pour ces JO."
   ]
  },
  {
   "cell_type": "markdown",
   "metadata": {
    "id": "qz7N0f3yK_Qh"
   },
   "source": [
    "Résultats (3 lignes) : 164 ; 165 ; 166"
   ]
  },
  {
   "cell_type": "code",
   "execution_count": null,
   "metadata": {
    "id": "MBAkX-mnK_Qh"
   },
   "outputs": [],
   "source": [
    "query=\"\"\"\n",
    "\n",
    "\n",
    "\"\"\"\n",
    "execute(connection,query,show=True)"
   ]
  },
  {
   "cell_type": "markdown",
   "metadata": {
    "id": "roedd_gzK_Qh"
   },
   "source": [
    "14. Le nombre d'épreuves en individuel où il y a eu au moins 100 participants.\n",
    "Résultat (1 ligne ) : 2"
   ]
  },
  {
   "cell_type": "code",
   "execution_count": null,
   "metadata": {
    "id": "QhzY34qlK_Qi"
   },
   "outputs": [],
   "source": [
    "query=\"\"\"\n",
    "\n",
    "\n",
    "\"\"\"\n",
    "execute(connection,query,show=True)"
   ]
  },
  {
   "cell_type": "markdown",
   "metadata": {
    "id": "Hzm1pF_7K_Qi"
   },
   "source": [
    "15. Le nom des pays qui ont gagné au moins 20 médailles aux épreuves individuelles.\n",
    "Résultats (3 lignes) : Pays-Bas ; États-Unis ; Norvège"
   ]
  },
  {
   "cell_type": "code",
   "execution_count": null,
   "metadata": {
    "id": "sgAAEe-NK_Qi"
   },
   "outputs": [],
   "source": [
    "query=\"\"\"\n",
    "\n",
    "\n",
    "\"\"\"\n",
    "execute(connection,query,show=True)"
   ]
  },
  {
   "cell_type": "markdown",
   "metadata": {
    "id": "SijvfzX9K_Qi"
   },
   "source": [
    "### Division en SQL"
   ]
  },
  {
   "cell_type": "markdown",
   "metadata": {
    "id": "xsKaUC0zK_Qi"
   },
   "source": [
    "16. Le sid des sports qui ont des épreuves dans toutes les catégories existantes.\n",
    "Résultats (3 lignes) : 1 ; 6 ; 7"
   ]
  },
  {
   "cell_type": "markdown",
   "metadata": {
    "id": "FlyL97vlK_Qi"
   },
   "source": [
    "Principe : pour chaque épreuve, on compte le nombre de catégories, puis on regarde si il est\n",
    "égal au nombre total de catégories d’épreuves."
   ]
  },
  {
   "cell_type": "code",
   "execution_count": null,
   "metadata": {
    "id": "zIpT0ZuSK_Qi"
   },
   "outputs": [],
   "source": [
    "query=\"\"\"\n",
    "\n",
    "\n",
    "\"\"\"\n",
    "execute(connection,query,show=True)"
   ]
  },
  {
   "cell_type": "code",
   "execution_count": null,
   "metadata": {
    "id": "YlU5Q6YlK_Qi"
   },
   "outputs": [],
   "source": [
    "query=\"\"\"\n",
    "\n",
    "\"\"\"\n",
    "execute(connection,query,show=True)"
   ]
  },
  {
   "cell_type": "markdown",
   "metadata": {
    "id": "IksXEeeLK_Qi"
   },
   "source": [
    "17. Le nom des pays qui ont participé aux épreuves en individuel de tous les sports en"
   ]
  },
  {
   "cell_type": "markdown",
   "metadata": {
    "id": "93EzLCxhK_Qi"
   },
   "source": [
    "individuel. Résultats (3 lignes) : (Russie,12) ; (États-Unis,12) ; (Italie,12)"
   ]
  },
  {
   "cell_type": "code",
   "execution_count": null,
   "metadata": {
    "id": "_2NBBgVnK_Qj"
   },
   "outputs": [],
   "source": [
    "query=\"\"\"\n",
    "\n",
    "\n",
    "\"\"\"\n",
    "execute(connection,query,show=True)"
   ]
  },
  {
   "cell_type": "markdown",
   "metadata": {
    "id": "tnuHZoJZK_Qj"
   },
   "source": []
  },
  {
   "cell_type": "markdown",
   "metadata": {
    "id": "ovUUbgV3K_Qj"
   },
   "source": [
    "## Requêtes avec paramètres"
   ]
  },
  {
   "cell_type": "code",
   "execution_count": null,
   "metadata": {
    "id": "0_b8eC1EK_Qj"
   },
   "outputs": [],
   "source": [
    "cursor=connection.cursor()\n",
    "cursor.execute(\"SELECT * FROM athlete WHERE aid=(%s)\", '1')\n",
    "print(cursor.fetchall())\n"
   ]
  },
  {
   "cell_type": "markdown",
   "metadata": {
    "id": "RZ6EOmdgK_Qj"
   },
   "source": [
    "# Transactions"
   ]
  },
  {
   "cell_type": "code",
   "execution_count": null,
   "metadata": {
    "id": "0ea2ZV_BK_Qj"
   },
   "outputs": [],
   "source": [
    "connection.commit()"
   ]
  },
  {
   "cell_type": "code",
   "execution_count": null,
   "metadata": {
    "id": "MRBf4qzVK_Qj"
   },
   "outputs": [],
   "source": [
    "resultat=execute(connection, \"SELECT * FROM athlete where aid<12\",True)"
   ]
  },
  {
   "cell_type": "code",
   "execution_count": null,
   "metadata": {
    "id": "y-Z3siy5K_Qj"
   },
   "outputs": [],
   "source": [
    "delete_comment = \"DELETE FROM athlete where aid<10\"\n",
    "execute(connection, delete_comment)"
   ]
  },
  {
   "cell_type": "code",
   "execution_count": null,
   "metadata": {
    "id": "KiUmOKvnK_Qj"
   },
   "outputs": [],
   "source": [
    "execute(connection, \"SELECT * FROM athlete where aid < 12\",True)"
   ]
  },
  {
   "cell_type": "code",
   "execution_count": null,
   "metadata": {
    "id": "EpkS3SeyK_Qk"
   },
   "outputs": [],
   "source": [
    "connection.rollback()"
   ]
  },
  {
   "cell_type": "code",
   "execution_count": null,
   "metadata": {
    "id": "yBSex13dK_Qk",
    "scrolled": true
   },
   "outputs": [],
   "source": [
    "execute(connection, \"SELECT * FROM athlete where aid < 12\",True)"
   ]
  },
  {
   "cell_type": "markdown",
   "metadata": {
    "id": "XGY3Xv2GK_Qk"
   },
   "source": [
    "# Fermer la connexion"
   ]
  },
  {
   "cell_type": "code",
   "execution_count": null,
   "metadata": {
    "id": "sL8PCTDbK_Qk"
   },
   "outputs": [],
   "source": [
    "connection.commit() # implicit avec close\n",
    "connection.close()"
   ]
  },
  {
   "cell_type": "code",
   "execution_count": null,
   "metadata": {
    "id": "S4-RP-a5K_Qk"
   },
   "outputs": [],
   "source": []
  }
 ],
 "metadata": {
  "colab": {
   "collapsed_sections": [
    "zBRndOPPVrcb",
    "CaBMZBPgK_QE",
    "3HyPG6wGK_QK"
   ],
   "provenance": [],
   "toc_visible": true
  },
  "kernelspec": {
   "display_name": "Python 3",
   "language": "python",
   "name": "python3"
  },
  "language_info": {
   "codemirror_mode": {
    "name": "ipython",
    "version": 3
   },
   "file_extension": ".py",
   "mimetype": "text/x-python",
   "name": "python",
   "nbconvert_exporter": "python",
   "pygments_lexer": "ipython3",
   "version": "3.10.12"
  },
  "toc-autonumbering": true,
  "toc-showcode": false,
  "toc-showmarkdowntxt": false,
  "toc-showtags": false
 },
 "nbformat": 4,
 "nbformat_minor": 4
}
