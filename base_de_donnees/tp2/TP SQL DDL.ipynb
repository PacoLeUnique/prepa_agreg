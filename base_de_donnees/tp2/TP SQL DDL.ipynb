{
 "cells": [
  {
   "cell_type": "markdown",
   "metadata": {
    "id": "zHpjYeKDK_P9",
    "tags": []
   },
   "source": [
    "# TP SQL Agrégation Informatique\n",
    "\n",
    "date du document: 23 septembre 2024\n",
    "\n",
    "Le système utilisé pendant les TME est H2.\n",
    "\n",
    "- Connectez-vous à l'environnement Jupyterhub de Capsule  (section TMEs Jupyter Notebook)\n",
    "- Importez le fichier TD_TP_4_ETUDIANTS.ipynb dans votre environnement  (flèche vers le haut en haut à gauche)\n",
    "- Sélectionnez le Kernel (Python [conda env:pyspark])\n",
    "- Le schéma correspondant à la base du fichier bd-jo-v2-H2.sql se trouve dans le fichier jo_v2_diagram.pdf\n",
    "\n",
    "\n",
    "Alternatives si problème d'utilisation de Jupyterhub de Capsule:\n",
    "\n",
    "- Installer et exécuter le serveur H2 en local (voir le documentation la documentation SGBD H2)\n",
    "- Télécharger les fichiers du TME dans un répertoire local et lancer jupyter-lab ou jupyter-notebook en local (installer  java si besoin), il n'y a pas de kernel pyspark dans ce cas\n"
   ]
  },
  {
   "cell_type": "code",
   "execution_count": null,
   "metadata": {},
   "outputs": [],
   "source": []
  },
  {
   "cell_type": "code",
   "execution_count": 2,
   "metadata": {
    "tags": []
   },
   "outputs": [
    {
     "name": "stdout",
     "output_type": "stream",
     "text": [
      "Defaulting to user installation because normal site-packages is not writeable\n",
      "Requirement already satisfied: psycopg2-binary in /home/paco/.local/lib/python3.10/site-packages (2.9.9)\n",
      "Note: you may need to restart the kernel to use updated packages.\n"
     ]
    }
   ],
   "source": [
    "pip install psycopg2-binary"
   ]
  },
  {
   "cell_type": "code",
   "execution_count": 3,
   "metadata": {
    "tags": []
   },
   "outputs": [],
   "source": [
    "# executer uniquemement sur jupyterhub Moodle\n",
    "# pip install pyspark"
   ]
  },
  {
   "cell_type": "markdown",
   "metadata": {},
   "source": [
    "**Relancez le kernel**: Kernel -> Restart kernel ..."
   ]
  },
  {
   "cell_type": "markdown",
   "metadata": {},
   "source": [
    "Télécharger les pilote PostgreSQL et H2"
   ]
  },
  {
   "cell_type": "code",
   "execution_count": 4,
   "metadata": {
    "tags": []
   },
   "outputs": [
    {
     "name": "stdout",
     "output_type": "stream",
     "text": [
      "--2024-09-30 18:19:52--  https://nuage.lip6.fr/s/LqD9N23kxrfHopr/download?path=agreg/postgresql-42.6.0.jar\n",
      "Résolution de nuage.lip6.fr (nuage.lip6.fr)… 132.227.201.11\n",
      "Connexion à nuage.lip6.fr (nuage.lip6.fr)|132.227.201.11|:443… connecté.\n",
      "requête HTTP transmise, en attente de la réponse… 200 OK\n",
      "Taille : 1081604 (1,0M) [application/octet-stream]\n",
      "Enregistre : ‘postgresql-42.6.0.jar’\n",
      "\n",
      "postgresql-42.6.0.j 100%[===================>]   1,03M  --.-KB/s    ds 0,09s   \n",
      "\n",
      "2024-09-30 18:19:52 (11,6 MB/s) - ‘postgresql-42.6.0.jar’ enregistré [1081604/1081604]\n",
      "\n",
      "--2024-09-30 18:19:52--  https://nuage.lip6.fr/s/LqD9N23kxrfHopr/download?path=agreg/h2-2.1.214.jar\n",
      "Résolution de nuage.lip6.fr (nuage.lip6.fr)… 132.227.201.11\n",
      "Connexion à nuage.lip6.fr (nuage.lip6.fr)|132.227.201.11|:443… connecté.\n",
      "requête HTTP transmise, en attente de la réponse… 200 OK\n",
      "Taille : 2543011 (2,4M) [application/octet-stream]\n",
      "Enregistre : ‘h2-2.1.214.jar’\n",
      "\n",
      "h2-2.1.214.jar      100%[===================>]   2,42M  13,8MB/s    ds 0,2s    \n",
      "\n",
      "2024-09-30 18:19:53 (13,8 MB/s) - ‘h2-2.1.214.jar’ enregistré [2543011/2543011]\n",
      "\n"
     ]
    }
   ],
   "source": [
    "!wget https://nuage.lip6.fr/s/LqD9N23kxrfHopr/download?path=agreg/postgresql-42.6.0.jar -O postgresql-42.6.0.jar\n",
    "!wget https://nuage.lip6.fr/s/LqD9N23kxrfHopr/download?path=agreg/h2-2.1.214.jar -O h2-2.1.214.jar"
   ]
  },
  {
   "cell_type": "markdown",
   "metadata": {
    "tags": []
   },
   "source": [
    "## Fonctions utiles"
   ]
  },
  {
   "cell_type": "markdown",
   "metadata": {},
   "source": [
    "## connect_H2"
   ]
  },
  {
   "cell_type": "code",
   "execution_count": 5,
   "metadata": {},
   "outputs": [],
   "source": [
    "def connect_H2(db,user,password,port=5435):\n",
    "    global connection\n",
    "    try:\n",
    "        connection\n",
    "    except:\n",
    "        connection = None\n",
    "    if connection != None:\n",
    "        try:\n",
    "            connection.close()\n",
    "            print(\"Connection closed\")\n",
    "        except  Error as e:\n",
    "            print(f\"The error '{e}' occurred\")\n",
    "    try:\n",
    "        # connection = sqlite3.connect(path,isolation_level='DEFERRED')\n",
    "        connection = psycopg2.connect(f\"dbname={db} user={user} password={password} host=localhost port={port}\")\n",
    "        print(\"Connection to H2 DB successful\")\n",
    "    except Exception as e:\n",
    "        print(f\"The error '{e}' occurred\")\n",
    "    return connection"
   ]
  },
  {
   "cell_type": "markdown",
   "metadata": {},
   "source": [
    "## execute"
   ]
  },
  {
   "cell_type": "code",
   "execution_count": 6,
   "metadata": {},
   "outputs": [],
   "source": [
    "def execute(connection, query, show=True,close=True):\n",
    "    try:\n",
    "        cursor = connection.cursor()\n",
    "        cursor.execute(query)\n",
    "        print(cursor.rowcount,\"rows\")\n",
    "        if show and cursor.rowcount and cursor.description is not None:\n",
    "            names = [desc[0] for desc in cursor.description]\n",
    "            lengths={}\n",
    "            for attr in names:\n",
    "                lengths[attr]=len(attr)\n",
    "            for ligne in cursor:\n",
    "                i=0\n",
    "                for attr in ligne:\n",
    "                    lengths[names[i]]=max(lengths[names[i]],len(str(attr).replace('\\n',' ')))\n",
    "                    i=i+1\n",
    "            print('|',end='')\n",
    "            for attr in names:\n",
    "                print(str(attr).ljust(lengths[attr]),end='|')\n",
    "            print()\n",
    "            print('|',end='')\n",
    "            for attr in names:\n",
    "                print(''.ljust(lengths[attr]+1,'-'),end='')\n",
    "            print()\n",
    "            cursor.execute(query)\n",
    "            for ligne in cursor:\n",
    "                i=0\n",
    "                print('|',end='')\n",
    "                for attr in ligne:\n",
    "                    print(str(attr).replace('\\n',' ')[:lengths[names[i]]].ljust(lengths[names[i]]),end='|')\n",
    "                    i=i+1\n",
    "                print()\n",
    "        if close:\n",
    "            cursor.close()\n",
    "    except Exception as e:\n",
    "        print(f\"The error '{e}' occurred\")\n",
    "        cursor=None\n",
    "    return cursor"
   ]
  },
  {
   "cell_type": "markdown",
   "metadata": {},
   "source": [
    "## show table"
   ]
  },
  {
   "cell_type": "code",
   "execution_count": 7,
   "metadata": {},
   "outputs": [],
   "source": [
    "def show_table(connection,table_name):\n",
    "\n",
    "    query=f\"\"\"\n",
    "SELECT table_name,\n",
    "       column_name,\n",
    "       data_type,\n",
    "       column_default,\n",
    "       is_nullable,\n",
    "       character_maximum_length,\n",
    "       numeric_precision\n",
    "FROM information_schema.columns \n",
    "where lower(table_name)  = '{table_name}'  \n",
    "\"\"\"\n",
    "    execute(connection,query)\n",
    "    "
   ]
  },
  {
   "cell_type": "markdown",
   "metadata": {},
   "source": [
    "## show_schema"
   ]
  },
  {
   "cell_type": "code",
   "execution_count": 8,
   "metadata": {},
   "outputs": [],
   "source": [
    "def show_schema(connection):\n",
    "\n",
    "    print('*********** Tables ************')\n",
    "    query=\"\"\"\n",
    "    select TABLE_NAME\n",
    "    from INFORMATION_SCHEMA.TABLES \n",
    "    where TABLE_SCHEMA = 'public'\n",
    "    \"\"\"\n",
    "    execute(connection,query,show=True)\n",
    "\n",
    "    print('\\n\\n*********** Domaines ************')\n",
    "    query=\"\"\"\n",
    "    SELECT domain_name,check_clause \n",
    "    FROM information_schema.domain_constraints a, information_schema.check_constraints b\n",
    "    where a.constraint_name=b.constraint_name\n",
    "    \"\"\"\n",
    "    execute(connection,query)\n",
    "\n",
    "    print('\\n\\n*********** Attributs ************')\n",
    "    query=f\"\"\"\n",
    "    SELECT c.table_name,\n",
    "           c.column_name,\n",
    "           c.data_type,\n",
    "           c.column_default,\n",
    "           c.is_nullable,\n",
    "           c.character_maximum_length,\n",
    "           c.numeric_precision\n",
    "    FROM INFORMATION_SCHEMA.TABLES t, information_schema.columns c\n",
    "    where t.table_name=c.table_name\n",
    "    and t.TABLE_SCHEMA = 'public'\n",
    "    \"\"\"\n",
    "    execute(connection,query)\n",
    "    "
   ]
  },
  {
   "cell_type": "markdown",
   "metadata": {
    "id": "hsCZZv8lmbBK"
   },
   "source": [
    "## Démarrer le serveur SQL H2"
   ]
  },
  {
   "cell_type": "code",
   "execution_count": 9,
   "metadata": {
    "id": "uYFrmROKQRhM",
    "tags": []
   },
   "outputs": [
    {
     "name": "stdout",
     "output_type": "stream",
     "text": [
      "La commande java est: java\n",
      "Le numero du port du serveur H2 est: 5010\n",
      "Les fichiers dans ./data:\n",
      "   employes5010.mv.db\n",
      "   jo5008.mv.db\n",
      "   villes5010.mv.db\n"
     ]
    }
   ],
   "source": [
    "import psycopg2\n",
    "import os\n",
    "import subprocess\n",
    "\n",
    "\n",
    "local_dir = \"./data\"\n",
    "os.makedirs(local_dir, exist_ok=True)\n",
    "\n",
    "# binaire java : décommenter sur jupyterhub Moodle\n",
    "# java='/opt/tljh/user/envs/pyspark/bin/java'\n",
    "java='java'\n",
    "\n",
    "# chaque utilisateur doit avoir un port différent!\n",
    "port = 5010\n",
    "\n",
    "print(f'La commande java est: {java}')\n",
    "print(f'Le numero du port du serveur H2 est: {port}')\n",
    "print(f'Les fichiers dans {local_dir}:')\n",
    "for f in os.listdir(local_dir):\n",
    "    print(f'   {f}')"
   ]
  },
  {
   "cell_type": "code",
   "execution_count": 10,
   "metadata": {
    "tags": []
   },
   "outputs": [
    {
     "name": "stdout",
     "output_type": "stream",
     "text": [
      "openjdk 11.0.24 2024-07-16\n",
      "OpenJDK Runtime Environment (build 11.0.24+8-post-Ubuntu-1ubuntu322.04)\n",
      "OpenJDK 64-Bit Server VM (build 11.0.24+8-post-Ubuntu-1ubuntu322.04, mixed mode, sharing)\n",
      "\n"
     ]
    }
   ],
   "source": [
    "output=subprocess.run(f'{java} --version',shell=True, text=True, stdout=subprocess.PIPE).stdout\n",
    "print(output)"
   ]
  },
  {
   "cell_type": "code",
   "execution_count": 11,
   "metadata": {
    "tags": []
   },
   "outputs": [
    {
     "name": "stdout",
     "output_type": "stream",
     "text": [
      "Exception in thread \"main\" org.h2.jdbc.JdbcSQLNonTransientConnectionException: Exception à l'ouverture du port \"5010\" (le port est peut-être en cours d'utilisation), cause: \"java.net.BindException: Adresse déjà utilisée (Bind failed)\"\n",
      "Exception opening port \"5010\" (port may be in use), cause: \"java.net.BindException: Adresse déjà utilisée (Bind failed)\" [90061-214]\n",
      "\tat org.h2.message.DbException.getJdbcSQLException(DbException.java:678)\n",
      "\tat org.h2.message.DbException.getJdbcSQLException(DbException.java:477)\n",
      "\tat org.h2.message.DbException.get(DbException.java:212)\n",
      "\tat org.h2.util.NetUtils.createServerSocketTry(NetUtils.java:211)\n",
      "\tat org.h2.util.NetUtils.createServerSocket(NetUtils.java:177)\n",
      "\tat org.h2.server.pg.PgServer.start(PgServer.java:174)\n",
      "\tat org.h2.tools.Server.start(Server.java:521)\n",
      "\tat org.h2.tools.Server.runTool(Server.java:331)\n",
      "\tat org.h2.tools.Server.main(Server.java:126)\n",
      "Caused by: java.net.BindException: Adresse déjà utilisée (Bind failed)\n",
      "\tat java.base/java.net.PlainSocketImpl.socketBind(Native Method)\n",
      "\tat java.base/java.net.AbstractPlainSocketImpl.bind(AbstractPlainSocketImpl.java:452)\n",
      "\tat java.base/java.net.ServerSocket.bind(ServerSocket.java:395)\n",
      "\tat java.base/java.net.ServerSocket.<init>(ServerSocket.java:257)\n",
      "\tat org.h2.util.NetUtils.createServerSocketTry(NetUtils.java:209)\n",
      "\t... 5 more\n",
      "\n"
     ]
    }
   ],
   "source": [
    "# Défnir le port pour le serveur H2\n",
    "cmd=f\"{java} -Dh2.bindAddress=127.0.0.1  -cp  h2-2.1.214.jar:postgresql-42.6.0.jar org.h2.tools.Server -pg -pgPort {port}  -baseDir ./data -ifNotExists\"\n",
    "proc=subprocess.Popen(cmd,\n",
    "                      shell=True,\n",
    "                      text=True,\n",
    "                      stdout=subprocess.PIPE,\n",
    "                      stderr=subprocess.PIPE, \n",
    "                      )\n",
    "try:\n",
    "    outs, errs = proc.communicate(timeout=1)\n",
    "    print(errs)\n",
    "except :\n",
    "    print(\"Serveur H2 en marche\")"
   ]
  },
  {
   "cell_type": "code",
   "execution_count": 12,
   "metadata": {
    "tags": []
   },
   "outputs": [
    {
     "name": "stdout",
     "output_type": "stream",
     "text": [
      "Connection to H2 DB successful\n"
     ]
    }
   ],
   "source": [
    "connection =  connect_H2(\"employes\"+f'{port}',\"ba\",\"ba\",port)"
   ]
  },
  {
   "cell_type": "markdown",
   "metadata": {
    "id": "qD_nzTALVYlf"
   },
   "source": [
    "# Manipulation de données : SQL DDL et DML\n",
    "\n",
    "Les exercices suivantes correspondent aux chapitres correspondants dans les documents\n",
    "*poly-TD-etudiants-2023.pdf* et *poly-TME-etudiants-2023.pdf*\n",
    "sur Moodle."
   ]
  },
  {
   "cell_type": "markdown",
   "metadata": {
    "id": "zBRndOPPVrcb"
   },
   "source": [
    "## TD8 CREATION DE SCHEMAS- CONTRAINTES D'INTEGRITE"
   ]
  },
  {
   "cell_type": "markdown",
   "metadata": {
    "id": "qhHeNz-iK_QB"
   },
   "source": [
    "\n",
    "\n",
    "On considère le schéma Entreprise décrit ci-dessous.\n",
    "\n",
    "EMPLOYE (NumSS, NomE, PrenomE, NumChef*, VilleE, DateNaiss)\n",
    "\n",
    "PROJET(NumProj, NomProj, RespProj*, VilleP, Budget)\n",
    "\n",
    "EMBAUCHE (NumSS*, NumProj*, DateEmb, Profil*)\n",
    "\n",
    "GRILLE_SAL (Profil, salaire)\n",
    "\n",
    "La clé primaire de chaque relation est soulignée et les attributs des clés étrangères sont suivis d’un\n",
    "astérisque. Cette base contient des informations sur des employés et sur les projets dans lesquels ils\n",
    "sont impliqués. DateEnreg dans la table employe donne la date à laquelle l'employé a été enregistré\n",
    "dans la BD. Ces employés sont embauchés dans un projet sur un profil donné et perçoivent un\n",
    "salaire en fonction de ce profil. Le chef d'un employé dans la table Employé et le chef d'un projet\n",
    "dans la table Projet sont des employés. En plus des contraintes de clé et contraintes référentielles\n",
    "indiquées dans le schéma, on voudrait intégrer les contraintes suivantes :\n",
    "\n",
    "* Domaines\n",
    "    - Le numéro de sécurité sociale possède exactement 5 chiffres.\n",
    "    - Les attributs textuels (NomE, PrenomE, NomProj, Profil) ne dépassent pas 20 caractères (ils peuvent en avoir moins).\n",
    "    - La ville d’un employé (VillE) ou d’un projet (VilleP) se limite à 'Paris', 'Lyon' et 'Marseille' et sa longueur ne dépasse pas 9 caractères.\n",
    "    - Le numéro d’un projet varie entre 5 et 7 chiffres.\n",
    "    - Le salaire peut avoir deux chiffres après la virgule et ne dépasse pas 90 000.\n",
    "    - Le budget est un entier sur 6 chiffres (sans virgule)\n",
    "    - Aucun employé ne peut avoir plus de 70 ans au moment où il est enregistré dans la table Employé.\n",
    "\n",
    "* Clés\n",
    "    - Il n'y a pas deux employés avec le même nom et le même prénom.\n",
    "\n",
    "* Not-null\n",
    "    - Chaque projet doit avoir un responsable.\n",
    "    - Dans la table Embauche, NumSS; NumProj et Profil représentent un employé, un projet et un profil existant.\n"
   ]
  },
  {
   "cell_type": "markdown",
   "metadata": {
    "id": "00mRiA73K_QB"
   },
   "source": [
    "#### Donner en SQL les instructions de création des contraintes de domaines indiquées dans l'énoncé."
   ]
  },
  {
   "cell_type": "code",
   "execution_count": 13,
   "metadata": {
    "id": "And0zODlK_QC",
    "tags": []
   },
   "outputs": [
    {
     "name": "stdout",
     "output_type": "stream",
     "text": [
      "0 rows\n"
     ]
    },
    {
     "data": {
      "text/plain": [
       "<cursor object at 0x754adb552b60; closed: -1>"
      ]
     },
     "execution_count": 13,
     "metadata": {},
     "output_type": "execute_result"
    }
   ],
   "source": [
    "execute(connection,\"drop all objects\")"
   ]
  },
  {
   "cell_type": "code",
   "execution_count": 14,
   "metadata": {
    "id": "qc0wptxuK_QC",
    "tags": []
   },
   "outputs": [
    {
     "name": "stdout",
     "output_type": "stream",
     "text": [
      "0 rows\n"
     ]
    },
    {
     "data": {
      "text/plain": [
       "<cursor object at 0x754adb550f40; closed: -1>"
      ]
     },
     "execution_count": 14,
     "metadata": {},
     "output_type": "execute_result"
    }
   ],
   "source": [
    "query=\"\"\"\n",
    "/* Le numéro de sécurité sociale possède exactement 5 chiffres.*/\n",
    "drop domain dnumss if exists;\n",
    "create domain dnumss as  varchar(5)\n",
    "\"\"\"\n",
    "execute(connection,query)"
   ]
  },
  {
   "cell_type": "code",
   "execution_count": 15,
   "metadata": {
    "tags": []
   },
   "outputs": [
    {
     "name": "stdout",
     "output_type": "stream",
     "text": [
      "1 rows\n",
      "|domain_catalog|domain_schema|domain_name|data_type        |character_maximum_length|character_octet_length|character_set_catalog|character_set_schema|character_set_name|collation_catalog|collation_schema|collation_name|numeric_precision|numeric_precision_radix|numeric_scale|datetime_precision|interval_type|interval_precision|domain_default|maximum_cardinality|dtd_identifier|declared_data_type|declared_numeric_precision|declared_numeric_scale|geometry_type|geometry_srid|domain_on_update|parent_domain_catalog|parent_domain_schema|parent_domain_name|remarks|\n",
      "|---------------------------------------------------------------------------------------------------------------------------------------------------------------------------------------------------------------------------------------------------------------------------------------------------------------------------------------------------------------------------------------------------------------------------------------------------------------------------------------------------------------------------------------------------------------------------------\n",
      "|employes5010  |public       |dnumss     |CHARACTER VARYING|5                       |5                     |employes5010         |public              |Unicode           |employes5010     |public          |OFF           |None             |None                   |None         |None              |None         |None              |None          |None               |TYPE          |None              |None                      |None                  |None         |None         |None            |None                 |None                |None              |None   |\n"
     ]
    },
    {
     "data": {
      "text/plain": [
       "<cursor object at 0x754adb551120; closed: -1>"
      ]
     },
     "execution_count": 15,
     "metadata": {},
     "output_type": "execute_result"
    }
   ],
   "source": [
    "execute(connection,\"select * from information_schema.domains\")"
   ]
  },
  {
   "cell_type": "code",
   "execution_count": 16,
   "metadata": {
    "id": "GJDia4KfK_QC",
    "tags": []
   },
   "outputs": [
    {
     "name": "stdout",
     "output_type": "stream",
     "text": [
      "0 rows\n"
     ]
    },
    {
     "data": {
      "text/plain": [
       "<cursor object at 0x754adb552020; closed: -1>"
      ]
     },
     "execution_count": 16,
     "metadata": {},
     "output_type": "execute_result"
    }
   ],
   "source": [
    "query=\"\"\"\n",
    "/* Les attributs textuels (NomE, PrenomE, NomProj, Profil) ne dépassent pas 20 caractères (ils\n",
    "peuvent en avoir moins).*/\n",
    "drop domain dchaines if exists;\n",
    "create domain dchaines as  varchar(20);\n",
    "\"\"\"\n",
    "execute(connection,query)"
   ]
  },
  {
   "cell_type": "code",
   "execution_count": 17,
   "metadata": {
    "id": "RG0fmAcsK_QC",
    "tags": []
   },
   "outputs": [
    {
     "name": "stdout",
     "output_type": "stream",
     "text": [
      "0 rows\n",
      "*********** Tables ************\n",
      "0 rows\n",
      "\n",
      "\n",
      "*********** Domaines ************\n",
      "1 rows\n",
      "|domain_name|check_clause                          |\n",
      "|---------------------------------------------------\n",
      "|dvilles    |VALUE IN('Paris', 'Lyon', 'Marseille')|\n",
      "\n",
      "\n",
      "*********** Attributs ************\n",
      "0 rows\n"
     ]
    }
   ],
   "source": [
    "query=\"\"\"\n",
    "/* La ville d’un employé (VilleE) ou d’un projet (VilleP) se limite à 'Paris', 'Lyon' et 'Marseille' et\n",
    "sa longueur ne dépasse pas 9 caractères.*/\n",
    "drop domain dvilles if exists;\n",
    "CREATE DOMAIN dvilles as  VARCHAR(9)\n",
    "CHECK VALUE IN ('Paris', 'Lyon', 'Marseille');\n",
    "\"\"\"\n",
    "execute(connection,query)\n",
    "show_schema(connection)"
   ]
  },
  {
   "cell_type": "code",
   "execution_count": 18,
   "metadata": {
    "id": "R4Msxey7K_QC",
    "tags": []
   },
   "outputs": [
    {
     "name": "stdout",
     "output_type": "stream",
     "text": [
      "0 rows\n",
      "*********** Tables ************\n",
      "0 rows\n",
      "\n",
      "\n",
      "*********** Domaines ************\n",
      "4 rows\n",
      "|domain_name|check_clause                                               |\n",
      "|------------------------------------------------------------------------\n",
      "|dsal       |VALUE <= 90000.00                                          |\n",
      "|ddatenaiss |DATEDIFF(YEAR, VALUE, CURRENT_DATE) <= 70                  |\n",
      "|dvilles    |VALUE IN('Paris', 'Lyon', 'Marseille')                     |\n",
      "|dnumproj   |(CHAR_LENGTH(VALUE) >= 5)     AND (CHAR_LENGTH(VALUE) <= 7)|\n",
      "\n",
      "\n",
      "*********** Attributs ************\n",
      "0 rows\n"
     ]
    }
   ],
   "source": [
    "query=\"\"\"\n",
    "/*Le numéro d’un projet varie entre 5 et 7 chiffres.*/\n",
    "drop domain dnumproj if exists;\n",
    "create domain dnumproj as NUMERIC(7)\n",
    "CHECK (LENGTH(VALUE) >= 5 AND LENGTH(VALUE) <= 7);\n",
    "\n",
    "\n",
    "/* Le salaire peut avoir deux chiffres après la virgule et ne dépasse pas 90 000.*/\n",
    "drop domain dsal if exists;\n",
    "create domain dsal as NUMERIC(7,2)\n",
    "CHECK VALUE <= 90000.00;\n",
    "\n",
    "/*Budget sur 6 chiffres*/\n",
    "drop domain dbudget if exists;\n",
    "create domain dbudget as NUMERIC(6,0);\n",
    "\n",
    "/*Aucun employé ne peut avoir plus de 70 ans au moment où il est enregistré dans la table\n",
    "Employé.*/\n",
    "drop domain ddatenaiss if exists;\n",
    "create domain ddatenaiss as DATE\n",
    "CHECK (datediff(year, VALUE, CURRENT_DATE) <= 70);\n",
    "\"\"\"\n",
    "execute(connection,query)\n",
    "show_schema(connection)\n"
   ]
  },
  {
   "cell_type": "markdown",
   "metadata": {
    "id": "Tb2N2-b0K_QC"
   },
   "source": [
    "### Donner en SQL les instructions de création du schéma de la base en leur associant les contraintes de clés, référentielles et de domaines indiquées dans l'énoncé."
   ]
  },
  {
   "cell_type": "code",
   "execution_count": 19,
   "metadata": {
    "id": "eRUNvSL9K_QC",
    "tags": []
   },
   "outputs": [
    {
     "name": "stdout",
     "output_type": "stream",
     "text": [
      "0 rows\n"
     ]
    },
    {
     "data": {
      "text/plain": [
       "<cursor object at 0x754adb551e40; closed: -1>"
      ]
     },
     "execution_count": 19,
     "metadata": {},
     "output_type": "execute_result"
    }
   ],
   "source": [
    "query=\"\"\"\n",
    "/*EMPLOYE (NumSS, NomE, PrenomE, NumChef*, VilleE, DateNaiss)*/\n",
    "create table Employe(\n",
    "    NumSS dnumss PRIMARY KEY,\n",
    "    NomE TEXT,\n",
    "    PrenomE TEXT,\n",
    "    NumChef dnumss,\n",
    "    VilleE dvilles,\n",
    "    DateNaiss ddatenaiss,\n",
    "\n",
    "    FOREIGN KEY (NumChef) REFERENCES Employe(NumSS),\n",
    "    UNIQUE (NomE, PrenomE)\n",
    ")\n",
    "\"\"\"\n",
    "execute(connection,query)\n"
   ]
  },
  {
   "cell_type": "code",
   "execution_count": 20,
   "metadata": {
    "id": "t_M_AYEOK_QC",
    "tags": []
   },
   "outputs": [
    {
     "name": "stdout",
     "output_type": "stream",
     "text": [
      "0 rows\n"
     ]
    },
    {
     "data": {
      "text/plain": [
       "<cursor object at 0x754adb5527a0; closed: -1>"
      ]
     },
     "execution_count": 20,
     "metadata": {},
     "output_type": "execute_result"
    }
   ],
   "source": [
    "query=\"\"\"\n",
    "/*PROJET(NumProj, NomProj, RespProj*, VilleP, Budget)*/\n",
    "create table Projet(\n",
    "    NumProj dnumproj PRIMARY KEY, \n",
    "    NomProj TEXT, \n",
    "    RespProj dnumss NOT NULL,\n",
    "    VilleP dvilles,\n",
    "    Budget dbudget,\n",
    "\n",
    "    FOREIGN KEY (RespProj) REFERENCES Employe(NumSS)\n",
    ")\n",
    "\"\"\"\n",
    "execute(connection,query)\n",
    "\n",
    "\n"
   ]
  },
  {
   "cell_type": "code",
   "execution_count": 21,
   "metadata": {
    "id": "uKGV_oUGK_QC",
    "tags": []
   },
   "outputs": [
    {
     "name": "stdout",
     "output_type": "stream",
     "text": [
      "0 rows\n"
     ]
    },
    {
     "data": {
      "text/plain": [
       "<cursor object at 0x754adb552d40; closed: -1>"
      ]
     },
     "execution_count": 21,
     "metadata": {},
     "output_type": "execute_result"
    }
   ],
   "source": [
    "query=\"\"\"\n",
    "/*GRILLE_SAL (Profil, salaire)*/\n",
    "create table Grille_sal(\n",
    "    Profil TEXT PRIMARY KEY,\n",
    "    Salaire dsal    \n",
    ")\n",
    "\"\"\"\n",
    "execute(connection,query)\n"
   ]
  },
  {
   "cell_type": "code",
   "execution_count": 22,
   "metadata": {
    "id": "yLCmY7wCK_QD",
    "tags": []
   },
   "outputs": [
    {
     "name": "stdout",
     "output_type": "stream",
     "text": [
      "0 rows\n"
     ]
    },
    {
     "data": {
      "text/plain": [
       "<cursor object at 0x754adb552c50; closed: -1>"
      ]
     },
     "execution_count": 22,
     "metadata": {},
     "output_type": "execute_result"
    }
   ],
   "source": [
    "query=\"\"\"\n",
    "/*EMBAUCHE (NumSS*, NumProj*, DateEmb, Profil*)*/\n",
    "create table Embauche(\n",
    "    NumSS dnumss,\n",
    "    NumProj dnumproj,\n",
    "    DateEmb DATE,\n",
    "    Profil TEXT,\n",
    "\n",
    "    PRIMARY KEY (NumSS, NumProj),\n",
    "    FOREIGN KEY (NumSS) REFERENCES Employe(NumSS),\n",
    "    FOREIGN KEY (NumProj) REFERENCES Projet(NumProj),\n",
    "    FOREIGN KEY (Profil) REFERENCES Grille_sal(Profil)\n",
    ")\n",
    "\"\"\"\n",
    "execute(connection,query)\n"
   ]
  },
  {
   "cell_type": "markdown",
   "metadata": {
    "id": "EYwe7iOaK_QD"
   },
   "source": [
    "3. Un responsable de projet doit habiter la ville du projet dont il est responsable. Donner en\n",
    "SQL l'instruction permettant d’exprimer cette contrainte en considérant que la table projet a été créée/ Utiliser la commande"
   ]
  },
  {
   "cell_type": "markdown",
   "metadata": {
    "id": "kU5xGOTuK_QD"
   },
   "source": [
    "      alter table <table> add constraint <nom><expression>"
   ]
  },
  {
   "cell_type": "code",
   "execution_count": 23,
   "metadata": {
    "id": "kcMnMlSnK_QD",
    "tags": []
   },
   "outputs": [
    {
     "name": "stdout",
     "output_type": "stream",
     "text": [
      "0 rows\n"
     ]
    },
    {
     "data": {
      "text/plain": [
       "<cursor object at 0x754adb5532e0; closed: -1>"
      ]
     },
     "execution_count": 23,
     "metadata": {},
     "output_type": "execute_result"
    }
   ],
   "source": [
    "query=\"\"\"\n",
    "alter table Projet add constraint RespProjer\n",
    "check (VilleP = \n",
    "            (SELECT VilleE from Employe WHERE Projet.RespProj = Employe.NumSS))\n",
    "\"\"\"\n",
    "execute(connection,query)\n"
   ]
  },
  {
   "cell_type": "markdown",
   "metadata": {
    "id": "2v_XcSj_K_QD"
   },
   "source": [
    "Commande utile:\n",
    "    "
   ]
  },
  {
   "cell_type": "code",
   "execution_count": 24,
   "metadata": {
    "id": "BSXHwrp6K_QD"
   },
   "outputs": [
    {
     "name": "stdout",
     "output_type": "stream",
     "text": [
      "The error 'Contrainte \"resprojet\" non trouvée\n",
      "Constraint \"resprojet\" not found; SQL statement:\n",
      "\n",
      "alter table PROJET drop constraint resproje [90057-214]\n",
      "DETAIL:  org.h2.jdbc.JdbcSQLSyntaxErrorException: Contrainte \"resprojet\" non trouvée\n",
      "Constraint \"resprojet\" not found; SQL statement:\n",
      "\n",
      "alter table PROJET drop constraint resproje [90057-214]\n",
      "' occurred\n"
     ]
    }
   ],
   "source": [
    "query=\"\"\"\n",
    "alter table PROJET drop constraint resprojet\n",
    "\"\"\"\n",
    "execute(connection,query)\n"
   ]
  },
  {
   "cell_type": "markdown",
   "metadata": {
    "id": "CaBMZBPgK_QE"
   },
   "source": [
    "## TME8 CREATION DE SCHEMAS- CONTRAINTES D'INTEGRITE\n",
    "\n",
    "Dans ce qui suit, il vous est demandé d'effectuer des insertions de n-uplets dans des tables.\n",
    "\n",
    "Syntaxe des insertions :\n",
    "\n",
    "    insert into Table(attr1, attr2, ...) values ('val1', 'val2', ....)\n",
    "    insert into Table values ('val1', 'val2', ....)\n",
    "    insert into Table <requête>\n",
    "    \n",
    "\n",
    "Syntaxe des suppressions :\n",
    "\n",
    "    delete from table\n",
    "    delete from table where <cond>\n",
    "\n",
    "Syntaxe des mise à jour :\n",
    "\n",
    "    upate table set attr = valeur where <cond>\n",
    "    upate table set attr = <requete> where <cond>"
   ]
  },
  {
   "cell_type": "code",
   "execution_count": 25,
   "metadata": {
    "id": "j3AIVT4VK_QE"
   },
   "outputs": [
    {
     "name": "stdout",
     "output_type": "stream",
     "text": [
      "Connection closed\n",
      "Connection to H2 DB successful\n"
     ]
    }
   ],
   "source": [
    "connection = connect_H2(f\"employes{port}\",\"ba\",\"ba\",port)"
   ]
  },
  {
   "cell_type": "markdown",
   "metadata": {
    "id": "8hS7GgYkK_QF"
   },
   "source": [
    "### Insérez dans chaque table au moins un n-uplet qui vérifie les contraintes d'intégrité."
   ]
  },
  {
   "cell_type": "code",
   "execution_count": 26,
   "metadata": {
    "id": "nTL21QqgK_QF"
   },
   "outputs": [
    {
     "name": "stdout",
     "output_type": "stream",
     "text": [
      "0 rows\n"
     ]
    },
    {
     "data": {
      "text/plain": [
       "<cursor object at 0x754adb551f30; closed: -1>"
      ]
     },
     "execution_count": 26,
     "metadata": {},
     "output_type": "execute_result"
    }
   ],
   "source": [
    "query=\"\"\"\n",
    "/*insert into employe(NUMSS,NOME,PRENOME, VILLEE , DATENAISS ) values (12345, 'Smith', 'John', 'Paris', '1975-08-25' );*/\n",
    "/*insert into projet values (123456,'Tah le projet de FOU', 12345, 'Paris', 750000);*/\n",
    "/*insert into grille_sal values('Ingénieur Bomboclaat', 60000.25);*/\n",
    "/*insert into embauche values (12345, 123456, '2019-01-01', 'Ingénieur Bomboclaat');*/\n",
    "\"\"\"\n",
    "execute(connection,query)"
   ]
  },
  {
   "cell_type": "markdown",
   "metadata": {
    "id": "KsI24jkpK_QF"
   },
   "source": [
    "### Proposez des insertions qui violent les contraintes d'intégrité définies pour chaque table."
   ]
  },
  {
   "cell_type": "markdown",
   "metadata": {
    "id": "ACzmN6UBK_QF"
   },
   "source": [
    "1. Proposer une insertion dans la table Employé qui ne respecte pas la contrainte de clé primaire."
   ]
  },
  {
   "cell_type": "code",
   "execution_count": 27,
   "metadata": {
    "id": "_ekIMzU8K_QF"
   },
   "outputs": [
    {
     "name": "stdout",
     "output_type": "stream",
     "text": [
      "1 rows\n"
     ]
    },
    {
     "data": {
      "text/plain": [
       "<cursor object at 0x754adb552e30; closed: -1>"
      ]
     },
     "execution_count": 27,
     "metadata": {},
     "output_type": "execute_result"
    }
   ],
   "source": [
    "query=\"\"\"\n",
    "/*insert into employe (NumSS, NomE, prenomE, villeE, dateNaiss)\n",
    "   values (21456, 'DUPONT', 'Marc', 'Paris', parsedatetime('12-01-1982', 'dd-MM-yyyy' )) ; */\n",
    "insert into employe (NumSS, NomE, prenomE, villeE, dateNaiss)\n",
    "   values (21456, 'GROSCACA', 'Edouard', 'Paris', '1977-05-14')\n",
    "\"\"\"\n",
    "execute(connection,query)"
   ]
  },
  {
   "cell_type": "markdown",
   "metadata": {
    "id": "KtxlP51UK_QF"
   },
   "source": [
    "2. Proposer une insertion dans la table Employe qui ne respecte pas la contrainte de limite d'âge."
   ]
  },
  {
   "cell_type": "code",
   "execution_count": 28,
   "metadata": {
    "id": "gYQjfTcqK_QI"
   },
   "outputs": [
    {
     "name": "stdout",
     "output_type": "stream",
     "text": [
      "The error 'Vérifiez la violation de contrainte: \"(DATEDIFF(YEAR, VALUE, CURRENT_DATE) <= 70)\"\n",
      "Check constraint violation: \"(DATEDIFF(YEAR, VALUE, CURRENT_DATE) <= 70)\"; SQL statement:\n",
      "\n",
      "insert into employe \n",
      "values (47035, 'GROSPROUT', 'Mireille', 00000, 'Paris', '1840-04-28' [23513-214]\n",
      "DETAIL:  org.h2.jdbc.JdbcSQLIntegrityConstraintViolationException: Vérifiez la violation de contrainte: \"(DATEDIFF(YEAR, VALUE, CURRENT_DATE) <= 70)\"\n",
      "Check constraint violation: \"(DATEDIFF(YEAR, VALUE, CURRENT_DATE) <= 70)\"; SQL statement:\n",
      "\n",
      "insert into employe \n",
      "values (47035, 'GROSPROUT', 'Mireille', 00000, 'Paris', '1840-04-28' [23513-214]\n",
      "' occurred\n"
     ]
    }
   ],
   "source": [
    "query=\"\"\"\n",
    "insert into employe \n",
    "values (47035, 'GROSPROUT', 'Mireille', 00000, 'Paris', '1840-04-28')\n",
    "\"\"\"\n",
    "execute(connection,query)"
   ]
  },
  {
   "cell_type": "markdown",
   "metadata": {
    "id": "Y3XlChCZK_QI"
   },
   "source": [
    "3. Proposer une insertion dans la table Employe qui ne respecte pas la contrainte de longueur de\n",
    "l'attribut NumSS."
   ]
  },
  {
   "cell_type": "code",
   "execution_count": 29,
   "metadata": {
    "id": "KZcaQCU2K_QJ"
   },
   "outputs": [
    {
     "name": "stdout",
     "output_type": "stream",
     "text": [
      "The error 'Valeur trop longue pour la colonne \"numss CHARACTER VARYING(5)\": \"22222222222222 (64)\"\n",
      "Value too long for column \"numss CHARACTER VARYING(5)\": \"22222222222222 (64)\"; SQL statement:\n",
      "\n",
      "insert into employe \n",
      "values (22222222222222, 'DeBZ', 'Chokbarinho', 00000, 'Paris', '2002-01-30' [22001-214]\n",
      "DETAIL:  org.h2.jdbc.JdbcSQLDataException: Valeur trop longue pour la colonne \"numss CHARACTER VARYING(5)\": \"22222222222222 (64)\"\n",
      "Value too long for column \"numss CHARACTER VARYING(5)\": \"22222222222222 (64)\"; SQL statement:\n",
      "\n",
      "insert into employe \n",
      "values (22222222222222, 'DeBZ', 'Chokbarinho', 00000, 'Paris', '2002-01-30' [22001-214]\n",
      "' occurred\n"
     ]
    }
   ],
   "source": [
    "query=\"\"\"\n",
    "insert into employe \n",
    "values (22222222222222, 'DeBZ', 'Chokbarinho', 00000, 'Paris', '2002-01-30')\n",
    "\"\"\"\n",
    "execute(connection,query)"
   ]
  },
  {
   "cell_type": "markdown",
   "metadata": {
    "id": "PGPGN_V7K_QJ"
   },
   "source": [
    "4. Proposer une insertion dans la table Employe qui ne respecte pas la contrainte sur les villes\n",
    "possibles."
   ]
  },
  {
   "cell_type": "code",
   "execution_count": 30,
   "metadata": {
    "id": "hyr0e8OaK_QJ"
   },
   "outputs": [
    {
     "name": "stdout",
     "output_type": "stream",
     "text": [
      "The error 'Vérifiez la violation de contrainte: \"(VALUE IN('Paris', 'Lyon', 'Marseille'))\"\n",
      "Check constraint violation: \"(VALUE IN('Paris', 'Lyon', 'Marseille'))\"; SQL statement:\n",
      "\n",
      "insert into employe\n",
      "values (78046, 'Matuidi', 'Blaise', 00000, 'Les Ulis', '1995-06-30' [23513-214]\n",
      "DETAIL:  org.h2.jdbc.JdbcSQLIntegrityConstraintViolationException: Vérifiez la violation de contrainte: \"(VALUE IN('Paris', 'Lyon', 'Marseille'))\"\n",
      "Check constraint violation: \"(VALUE IN('Paris', 'Lyon', 'Marseille'))\"; SQL statement:\n",
      "\n",
      "insert into employe\n",
      "values (78046, 'Matuidi', 'Blaise', 00000, 'Les Ulis', '1995-06-30' [23513-214]\n",
      "' occurred\n"
     ]
    }
   ],
   "source": [
    "query=\"\"\"\n",
    "insert into employe\n",
    "values (78046, 'Matuidi', 'Blaise', 00000, 'Les Ulis', '1995-06-30')\n",
    "\"\"\"\n",
    "execute(connection,query)"
   ]
  },
  {
   "cell_type": "markdown",
   "metadata": {
    "id": "Q4F-dt_7K_QJ"
   },
   "source": [
    "6. Proposer une insertion dans la table Grille_SAL qui ne respecte pas la contrainte sur le salaire\n",
    "qui ne doit pas dépasser 90 000."
   ]
  },
  {
   "cell_type": "code",
   "execution_count": 31,
   "metadata": {
    "id": "s8fsAl5KK_QJ"
   },
   "outputs": [
    {
     "name": "stdout",
     "output_type": "stream",
     "text": [
      "The error 'Valeur trop longue pour la colonne \"salaire NUMERIC(7, 2)\": \"35000000 (32)\"\n",
      "Value too long for column \"salaire NUMERIC(7, 2)\": \"35000000 (32)\"; SQL statement:\n",
      "\n",
      "insert into  Grille_sal \n",
      "values ('Mesureur de bazouzou', 35000000 [22001-214]\n",
      "DETAIL:  org.h2.jdbc.JdbcSQLDataException: Valeur trop longue pour la colonne \"salaire NUMERIC(7, 2)\": \"35000000 (32)\"\n",
      "Value too long for column \"salaire NUMERIC(7, 2)\": \"35000000 (32)\"; SQL statement:\n",
      "\n",
      "insert into  Grille_sal \n",
      "values ('Mesureur de bazouzou', 35000000 [22001-214]\n",
      "' occurred\n"
     ]
    }
   ],
   "source": [
    "query=\"\"\"\n",
    "insert into  Grille_sal \n",
    "values ('Mesureur de bazouzou', 35000000)\n",
    "\"\"\"\n",
    "execute(connection,query)"
   ]
  },
  {
   "cell_type": "markdown",
   "metadata": {
    "id": "BfAgh51gK_QJ"
   },
   "source": [
    "7. Proposer une insertion dans la table Projet qui ne respecte pas la contrainte référentielle vers Employe."
   ]
  },
  {
   "cell_type": "code",
   "execution_count": 32,
   "metadata": {
    "id": "3jWpUDVsK_QJ"
   },
   "outputs": [
    {
     "name": "stdout",
     "output_type": "stream",
     "text": [
      "The error 'Intégrité référentielle violation de contrainte: \"CONSTRAINT_C5: public.projet FOREIGN KEY(respproj) REFERENCES public.employe(numss) ('80000')\"\n",
      "Referential integrity constraint violation: \"CONSTRAINT_C5: public.projet FOREIGN KEY(respproj) REFERENCES public.employe(numss) ('80000')\"; SQL statement:\n",
      "\n",
      "insert into Projet values (011456, 'Projet tous les choquer', 80000, 'Lyon', 550420 [23506-214]\n",
      "DETAIL:  org.h2.jdbc.JdbcSQLIntegrityConstraintViolationException: Intégrité référentielle violation de contrainte: \"CONSTRAINT_C5: public.projet FOREIGN KEY(respproj) REFERENCES public.employe(numss) ('80000')\"\n",
      "Referential integrity constraint violation: \"CONSTRAINT_C5: public.projet FOREIGN KEY(respproj) REFERENCES public.employe(numss) ('80000')\"; SQL statement:\n",
      "\n",
      "insert into Projet values (011456, 'Projet tous les choquer', 80000, 'Lyon', 550420 [23506-214]\n",
      "' occurred\n"
     ]
    }
   ],
   "source": [
    "query=\"\"\"\n",
    "insert into Projet values (011456, 'Projet tous les choquer', 80000, 'Lyon', 550420)\n",
    "\"\"\"\n",
    "cursor=execute(connection,query)"
   ]
  },
  {
   "cell_type": "markdown",
   "metadata": {
    "id": "4JlhNAwsK_QJ"
   },
   "source": [
    "8. Proposer une insertion dans la table Embauche qui ne respecte pas une des contraintes\n",
    "référentielles."
   ]
  },
  {
   "cell_type": "code",
   "execution_count": 33,
   "metadata": {
    "id": "yKEloLOdK_QJ"
   },
   "outputs": [
    {
     "name": "stdout",
     "output_type": "stream",
     "text": [
      "The error 'Intégrité référentielle violation de contrainte: \"CONSTRAINT_2EA: public.embauche FOREIGN KEY(numss) REFERENCES public.employe(numss) ('12345')\"\n",
      "Referential integrity constraint violation: \"CONSTRAINT_2EA: public.embauche FOREIGN KEY(numss) REFERENCES public.employe(numss) ('12345')\"; SQL statement:\n",
      "\n",
      "insert into embauche values (12345, 820652, '2024-01-02', 'Mesureur de zizi' [23506-214]\n",
      "DETAIL:  org.h2.jdbc.JdbcSQLIntegrityConstraintViolationException: Intégrité référentielle violation de contrainte: \"CONSTRAINT_2EA: public.embauche FOREIGN KEY(numss) REFERENCES public.employe(numss) ('12345')\"\n",
      "Referential integrity constraint violation: \"CONSTRAINT_2EA: public.embauche FOREIGN KEY(numss) REFERENCES public.employe(numss) ('12345')\"; SQL statement:\n",
      "\n",
      "insert into embauche values (12345, 820652, '2024-01-02', 'Mesureur de zizi' [23506-214]\n",
      "' occurred\n"
     ]
    }
   ],
   "source": [
    "query=\"\"\"\n",
    "insert into embauche values (12345, 820652, '2024-01-02', 'Mesureur de zizi')\n",
    "\n",
    "\"\"\"\n",
    "execute(connection,query)"
   ]
  },
  {
   "cell_type": "markdown",
   "metadata": {
    "id": "3HyPG6wGK_QK"
   },
   "source": [
    "## TD9 CREATION DES SCHEMAS - MODIFICATION DES DONNEES.\n",
    "\n",
    "### Villes et Pays\n",
    "\n",
    "On veut créer un schéma relationnel pour stocker des informations sur des villes et des pays.\n",
    "\n",
    "#### 1. Traduisez le schéma relationnel suivant en instructions SQL:\n",
    "\n",
    "    Ville(nom, population, pays*)\n",
    "    Pays(nom, capitale*)\n",
    "\n",
    "où pays est une référence vers un pays dans la table Pays et capitale est une référence vers une ville dans la table Ville."
   ]
  },
  {
   "cell_type": "code",
   "execution_count": 34,
   "metadata": {
    "id": "iexfYIugK_QK"
   },
   "outputs": [
    {
     "name": "stdout",
     "output_type": "stream",
     "text": [
      "Connection closed\n"
     ]
    },
    {
     "name": "stdout",
     "output_type": "stream",
     "text": [
      "Connection to H2 DB successful\n"
     ]
    }
   ],
   "source": [
    "connection = connect_H2(f\"villes{port}\",\"ba\",\"ba\",port)"
   ]
  },
  {
   "cell_type": "code",
   "execution_count": 77,
   "metadata": {
    "id": "wF4vz3UgK_QK"
   },
   "outputs": [
    {
     "name": "stdout",
     "output_type": "stream",
     "text": [
      "0 rows\n"
     ]
    },
    {
     "data": {
      "text/plain": [
       "<cursor object at 0x754ad811cf40; closed: -1>"
      ]
     },
     "execution_count": 77,
     "metadata": {},
     "output_type": "execute_result"
    }
   ],
   "source": [
    "query=\"\"\"\n",
    "drop all objects;\n",
    "create table Ville(\n",
    "    nomV VARCHAR(50) UNIQUE,\n",
    "    population INT,\n",
    "    pays VARCHAR(50),\n",
    "\n",
    "    primary key (nomV, pays)\n",
    ");\n",
    "create table Pays(\n",
    "    nomP VARCHAR(50) PRIMARY KEY,\n",
    "    capitale VARCHAR(50),\n",
    "\n",
    "    foreign key (capitale) references Ville(nomV)\n",
    ");\n",
    "\n",
    "alter table Ville add constraint ville_ref_pays foreign key (pays) references Pays(nomP)\n",
    "\n",
    "\"\"\"\n",
    "execute(connection,query)\n"
   ]
  },
  {
   "cell_type": "markdown",
   "metadata": {
    "id": "Rykl3isCK_QK"
   },
   "source": [
    "#### Insérez la France avec sa capitale Paris (3 millions d'habitants) dans la base de données."
   ]
  },
  {
   "cell_type": "code",
   "execution_count": 78,
   "metadata": {
    "id": "y96PUjTWK_QK"
   },
   "outputs": [
    {
     "name": "stdout",
     "output_type": "stream",
     "text": [
      "0 rows\n"
     ]
    }
   ],
   "source": [
    "query=\"\"\"\n",
    "    alter table Ville drop constraint ville_ref_pays;\n",
    "    insert into Ville values ('Paris', 3000000, 'France');\n",
    "    insert into Pays values ('France', 'Paris');\n",
    "    alter table Ville add constraint ville_ref_pays foreign key (pays) references Pays(nomP)\n",
    "\n",
    "\n",
    "\"\"\"\n",
    "cursor=execute(connection,query)"
   ]
  },
  {
   "cell_type": "code",
   "execution_count": 79,
   "metadata": {},
   "outputs": [
    {
     "name": "stdout",
     "output_type": "stream",
     "text": [
      "1 rows\n",
      "|nomv |population|pays  |\n",
      "|------------------------\n",
      "|Paris|3000000   |France|\n"
     ]
    }
   ],
   "source": [
    "query=\"\"\"\n",
    "    select * from Ville\n",
    "\n",
    "\"\"\"\n",
    "cursor=execute(connection,query)"
   ]
  },
  {
   "cell_type": "markdown",
   "metadata": {
    "id": "VC_xKKf0K_QK"
   },
   "source": [
    "#### Modifiez le schéma de telle manière que la suppression d'un pays déclenche automatiquement la suppression de toutes les villes du pays.\n",
    "                                             "
   ]
  },
  {
   "cell_type": "code",
   "execution_count": 37,
   "metadata": {
    "id": "DNjXtKqcK_QK"
   },
   "outputs": [
    {
     "name": "stdout",
     "output_type": "stream",
     "text": [
      "The error 'Contrainte \"fk_pays\" non trouvée\n",
      "Constraint \"fk_pays\" not found; SQL statement:\n",
      "\n",
      "alter table Ville drop constraint fk_pay [90057-214]\n",
      "DETAIL:  org.h2.jdbc.JdbcSQLSyntaxErrorException: Contrainte \"fk_pays\" non trouvée\n",
      "Constraint \"fk_pays\" not found; SQL statement:\n",
      "\n",
      "alter table Ville drop constraint fk_pay [90057-214]\n",
      "' occurred\n"
     ]
    }
   ],
   "source": [
    "query=\"\"\"\n",
    "alter table Ville drop constraint fk_pays;\n",
    "alter table Ville add constraint fk_pays ....\n",
    "\n",
    "alter table Pays drop constraint fk_pays_capitale;\n",
    "alter table Pays add constraint fk_pays_capitale .....\n",
    "\"\"\"\n",
    "execute(connection,query)\n",
    "\n"
   ]
  },
  {
   "cell_type": "markdown",
   "metadata": {
    "id": "GrTzfz6-K_QL"
   },
   "source": [
    "#### Effacez les deux tables Ville et Pays du schéma."
   ]
  },
  {
   "cell_type": "code",
   "execution_count": 38,
   "metadata": {
    "id": "7lp6hRkSK_QL"
   },
   "outputs": [
    {
     "name": "stdout",
     "output_type": "stream",
     "text": [
      "0 rows\n"
     ]
    },
    {
     "data": {
      "text/plain": [
       "<cursor object at 0x754adb5534c0; closed: -1>"
      ]
     },
     "execution_count": 38,
     "metadata": {},
     "output_type": "execute_result"
    }
   ],
   "source": [
    "query=\"\"\"\n",
    "\n",
    "\n",
    "\n",
    "\n",
    "\"\"\"\n",
    "execute(connection,query)\n"
   ]
  },
  {
   "cell_type": "markdown",
   "metadata": {
    "id": "NA2rs-BuK_QL"
   },
   "source": [
    "### Arbres ordonnées"
   ]
  },
  {
   "cell_type": "markdown",
   "metadata": {
    "id": "uPCM-0nnK_QL"
   },
   "source": [
    "Voici une table Arbre qui permet de stocker des arbres ordonnés dans une base de données\n",
    "relationnelle:"
   ]
  },
  {
   "cell_type": "code",
   "execution_count": 39,
   "metadata": {
    "id": "ZA0hq79JK_QL"
   },
   "outputs": [
    {
     "name": "stdout",
     "output_type": "stream",
     "text": [
      "Connection closed\n",
      "Connection to H2 DB successful\n"
     ]
    }
   ],
   "source": [
    "connection = connect_H2(f\"arbres{port}\",\"ba\",\"ba\",port)"
   ]
  },
  {
   "cell_type": "code",
   "execution_count": 40,
   "metadata": {
    "id": "s5OoawwrK_QL"
   },
   "outputs": [
    {
     "name": "stdout",
     "output_type": "stream",
     "text": [
      "0 rows\n"
     ]
    },
    {
     "data": {
      "text/plain": [
       "<cursor object at 0x754adb5533d0; closed: -1>"
      ]
     },
     "execution_count": 40,
     "metadata": {},
     "output_type": "execute_result"
    }
   ],
   "source": [
    "query=\"\"\"\n",
    "drop table Arbre if exists;\n",
    "create table Arbre(\n",
    "    id numeric(10),\n",
    "    par numeric(10),\n",
    "    pos numeric(2),\n",
    "    constraint pk primary key (id),\n",
    "    constraint fk foreign key (par) references Arbre (id));\n",
    "\"\"\"\n",
    "execute(connection,query)\n"
   ]
  },
  {
   "cell_type": "markdown",
   "metadata": {
    "id": "4DauYjWBK_QL"
   },
   "source": [
    "- id est l'identifiant du nœud,\n",
    "- par est l'identifiant du parent,\n",
    "- pos est la position parmi les enfants ;"
   ]
  },
  {
   "cell_type": "markdown",
   "metadata": {
    "id": "rEgXyeVFK_QL"
   },
   "source": [
    "#### Inserez l'arbre binaire (1(2(4,5),3(6,7(8,9))))) dans la base de données."
   ]
  },
  {
   "cell_type": "code",
   "execution_count": 41,
   "metadata": {
    "id": "4Qlnte8BK_QM"
   },
   "outputs": [
    {
     "name": "stdout",
     "output_type": "stream",
     "text": [
      "The error 'Erreur de syntaxe dans l'instruction SQL \"\\000a\\000ainsert into Arbre\\000a\\000a\\000a[*]\"; attendu \"., (, OVERRIDING USER VALUE, OVERRIDING SYSTEM VALUE, DIRECT, SORTED, DEFAULT VALUES, VALUES, SET, WITH, (, SELECT, TABLE, VALUES\"\n",
      "Syntax error in SQL statement \"\\000a\\000ainsert into Arbre\\000a\\000a\\000a[*]\"; expected \"., (, OVERRIDING USER VALUE, OVERRIDING SYSTEM VALUE, DIRECT, SORTED, DEFAULT VALUES, VALUES, SET, WITH, (, SELECT, TABLE, VALUES\"; SQL statement:\n",
      "\n",
      "\n",
      "insert into Arbre\n",
      "\n",
      "\n",
      " [42001-214]\n",
      "DETAIL:  org.h2.jdbc.JdbcSQLSyntaxErrorException: Erreur de syntaxe dans l'instruction SQL \"\\000a\\000ainsert into Arbre\\000a\\000a\\000a[*]\"; attendu \"., (, OVERRIDING USER VALUE, OVERRIDING SYSTEM VALUE, DIRECT, SORTED, DEFAULT VALUES, VALUES, SET, WITH, (, SELECT, TABLE, VALUES\"\n",
      "Syntax error in SQL statement \"\\000a\\000ainsert into Arbre\\000a\\000a\\000a[*]\"; expected \"., (, OVERRIDING USER VALUE, OVERRIDING SYSTEM VALUE, DIRECT, SORTED, DEFAULT VALUES, VALUES, SET, WITH, (, SELECT, TABLE, VALUES\"; SQL statement:\n",
      "\n",
      "\n",
      "insert into Arbre\n",
      "\n",
      "\n",
      " [42001-214]\n",
      "' occurred\n"
     ]
    }
   ],
   "source": [
    "query=\"\"\"\n",
    "\n",
    "insert into Arbre\n",
    "\n",
    "\n",
    "\"\"\"\n",
    "execute(connection,query,show=True)\n"
   ]
  },
  {
   "cell_type": "markdown",
   "metadata": {
    "id": "sFwCS1O-K_QM"
   },
   "source": [
    "#### Comment faut il modifier le schéma pour empêcher qu'un noeud a deux enfants à la même position?"
   ]
  },
  {
   "cell_type": "code",
   "execution_count": 42,
   "metadata": {
    "id": "2CZh_UHwK_QM"
   },
   "outputs": [
    {
     "name": "stdout",
     "output_type": "stream",
     "text": [
      "The error 'Erreur de syntaxe dans l'instruction SQL \"\\000aalter table Arbre add constraint [*]....\\000a\"; attendu \"identifier\"\n",
      "Syntax error in SQL statement \"\\000aalter table Arbre add constraint [*]....\\000a\"; expected \"identifier\"; SQL statement:\n",
      "\n",
      "alter table Arbre add constraint ....\n",
      " [42001-214]\n",
      "DETAIL:  org.h2.jdbc.JdbcSQLSyntaxErrorException: Erreur de syntaxe dans l'instruction SQL \"\\000aalter table Arbre add constraint [*]....\\000a\"; attendu \"identifier\"\n",
      "Syntax error in SQL statement \"\\000aalter table Arbre add constraint [*]....\\000a\"; expected \"identifier\"; SQL statement:\n",
      "\n",
      "alter table Arbre add constraint ....\n",
      " [42001-214]\n",
      "' occurred\n"
     ]
    }
   ],
   "source": [
    "query=\"\"\"\n",
    "alter table Arbre add constraint ....\n",
    "\"\"\"\n",
    "execute(connection,query)\n",
    "\n"
   ]
  },
  {
   "cell_type": "markdown",
   "metadata": {
    "id": "i1G2v7FeK_QM"
   },
   "source": [
    "#### Effacez le sous-arbre 3(6,7(8,9)) de la base de données."
   ]
  },
  {
   "cell_type": "code",
   "execution_count": 43,
   "metadata": {
    "id": "t-yfHh39K_QM"
   },
   "outputs": [
    {
     "name": "stdout",
     "output_type": "stream",
     "text": [
      "0 rows\n"
     ]
    },
    {
     "data": {
      "text/plain": [
       "<cursor object at 0x754adb553790; closed: -1>"
      ]
     },
     "execution_count": 43,
     "metadata": {},
     "output_type": "execute_result"
    }
   ],
   "source": [
    "query=\"\"\"\n",
    "\n",
    "\n",
    "\n",
    "\"\"\"\n",
    "execute(connection,query)\n"
   ]
  },
  {
   "cell_type": "markdown",
   "metadata": {
    "id": "K_zlUZfnK_QM"
   },
   "source": [
    "#### Est-ce que l'instruction suivante est possible sur l'arbre initial (avant l'effacement) ?"
   ]
  },
  {
   "cell_type": "code",
   "execution_count": 44,
   "metadata": {
    "id": "J0dbaT3uK_QM"
   },
   "outputs": [
    {
     "name": "stdout",
     "output_type": "stream",
     "text": [
      "0 rows\n"
     ]
    },
    {
     "data": {
      "text/plain": [
       "<cursor object at 0x754adb5535b0; closed: -1>"
      ]
     },
     "execution_count": 44,
     "metadata": {},
     "output_type": "execute_result"
    }
   ],
   "source": [
    "query=\"\"\"\n",
    "delete from Arbre where id=3\n",
    "\"\"\"\n",
    "execute(connection,query)"
   ]
  },
  {
   "cell_type": "markdown",
   "metadata": {
    "id": "zRVI8LC0K_QM"
   },
   "source": [
    "#### Comment peut-on modifier le schéma pour effacer le sous-arbre avec l'instruction précédente ?"
   ]
  },
  {
   "cell_type": "code",
   "execution_count": 45,
   "metadata": {
    "id": "_8serCCjK_QN"
   },
   "outputs": [
    {
     "name": "stdout",
     "output_type": "stream",
     "text": [
      "0 rows\n"
     ]
    },
    {
     "data": {
      "text/plain": [
       "<cursor object at 0x754adb553970; closed: -1>"
      ]
     },
     "execution_count": 45,
     "metadata": {},
     "output_type": "execute_result"
    }
   ],
   "source": [
    "query=\"\"\"\n",
    "\n",
    "\n",
    "\n",
    "\"\"\"\n",
    "execute(connection,query)"
   ]
  },
  {
   "cell_type": "markdown",
   "metadata": {
    "id": "gC6vRXHAK_QN"
   },
   "source": [
    "#### Est-ce qu'il est possible de modifier l'identifiant d'un nœud ?"
   ]
  },
  {
   "cell_type": "markdown",
   "metadata": {
    "id": "jYHyJRkaK_QN"
   },
   "source": [
    "#### Comment peut-on modifier le schéma pour permettre l'instruction précédente ?"
   ]
  },
  {
   "cell_type": "code",
   "execution_count": 46,
   "metadata": {
    "id": "_ZhMXO6OK_QN"
   },
   "outputs": [
    {
     "name": "stdout",
     "output_type": "stream",
     "text": [
      "0 rows\n"
     ]
    },
    {
     "data": {
      "text/plain": [
       "<cursor object at 0x754adb553a60; closed: -1>"
      ]
     },
     "execution_count": 46,
     "metadata": {},
     "output_type": "execute_result"
    }
   ],
   "source": [
    "query=\"\"\"\n",
    "\n",
    "\n",
    "\n",
    "\"\"\"\n",
    "execute(connection,query,show=True)"
   ]
  },
  {
   "cell_type": "markdown",
   "metadata": {
    "id": "x0ppv7_aK_QN"
   },
   "source": [
    "#### Quel est le résultat des instructions suivantes (sur l'arbre initial):"
   ]
  },
  {
   "cell_type": "code",
   "execution_count": 47,
   "metadata": {
    "id": "0K6xktXrK_QN"
   },
   "outputs": [
    {
     "name": "stdout",
     "output_type": "stream",
     "text": [
      "0 rows\n"
     ]
    },
    {
     "data": {
      "text/plain": [
       "<cursor object at 0x754adb553b50; closed: -1>"
      ]
     },
     "execution_count": 47,
     "metadata": {},
     "output_type": "execute_result"
    }
   ],
   "source": [
    "query=\"\"\"\n",
    "alter table Arbre drop constraint fk ;\n",
    "alter table Arbre add constraint fk foreign key (par) references Arbre(id)\n",
    "      on delete set null;\n",
    "delete from Arbre where id=3;\n",
    "select * from Arbre\n",
    "\"\"\"\n",
    "execute(connection,query,show=True)"
   ]
  },
  {
   "cell_type": "markdown",
   "metadata": {
    "id": "Sd2wejT-K_QN"
   },
   "source": [
    "# Requêtes SQL"
   ]
  },
  {
   "cell_type": "code",
   "execution_count": 48,
   "metadata": {
    "id": "hOnMkgh2K_QN",
    "scrolled": true
   },
   "outputs": [
    {
     "name": "stdout",
     "output_type": "stream",
     "text": [
      "Connection closed\n",
      "Connection to H2 DB successful\n"
     ]
    }
   ],
   "source": [
    "connection = connect_H2(f\"jo{port}\",\"ba\",\"ba\",port)"
   ]
  },
  {
   "cell_type": "markdown",
   "metadata": {
    "id": "9w7RdMnlSC_r"
   },
   "source": [
    "Télécharger le fichier SQL contenant les données de la base JO."
   ]
  },
  {
   "cell_type": "code",
   "execution_count": 49,
   "metadata": {
    "id": "BZCOAS6mP27Y"
   },
   "outputs": [
    {
     "name": "stdout",
     "output_type": "stream",
     "text": [
      "--2024-09-30 18:19:56--  https://nuage.lip6.fr/s/H3bpyRGgnCq2NR4/download?path=agreg/bd-jo-v2_H2.sql\n",
      "Résolution de nuage.lip6.fr (nuage.lip6.fr)… 132.227.201.11\n",
      "Connexion à nuage.lip6.fr (nuage.lip6.fr)|132.227.201.11|:443… connecté.\n",
      "requête HTTP transmise, en attente de la réponse… 404 Not Found\n",
      "2024-09-30 18:19:56 erreur 404 : Not Found.\n",
      "\n"
     ]
    }
   ],
   "source": [
    "!wget https://nuage.lip6.fr/s/H3bpyRGgnCq2NR4/download?path=agreg/bd-jo-v2_H2.sql -O bd-jo-v2_H2.sql"
   ]
  },
  {
   "cell_type": "code",
   "execution_count": 50,
   "metadata": {
    "id": "ALsb-dtHK_QO"
   },
   "outputs": [
    {
     "name": "stdout",
     "output_type": "stream",
     "text": [
      "The error 'can't execute an empty query' occurred\n"
     ]
    }
   ],
   "source": [
    "schemafile=open(\"bd-jo-v2_H2.sql\",mode=\"r\",encoding='utf-8')\n",
    "create_schema=schemafile.read()\n",
    "execute(connection, create_schema)\n",
    "connection.commit()"
   ]
  },
  {
   "cell_type": "markdown",
   "metadata": {
    "id": "ti-pfq68K_QO"
   },
   "source": [
    "## Exemple"
   ]
  },
  {
   "cell_type": "markdown",
   "metadata": {
    "id": "Q7KALLNSK_QO"
   },
   "source": [
    "Tous les athlètes"
   ]
  },
  {
   "cell_type": "code",
   "execution_count": 51,
   "metadata": {
    "id": "VorUXrY-K_QO",
    "scrolled": true
   },
   "outputs": [
    {
     "name": "stdout",
     "output_type": "stream",
     "text": [
      "The error 'Table \"athlete\" not found (this database is empty); SQL statement:\n",
      "SELECT nomath FROM athlete [42104-214]\n",
      "DETAIL:  org.h2.jdbc.JdbcSQLSyntaxErrorException: Table \"athlete\" not found (this database is empty); SQL statement:\n",
      "SELECT nomath FROM athlete [42104-214]\n",
      "' occurred\n"
     ]
    }
   ],
   "source": [
    "cursor=execute(connection,query=\"SELECT nomath FROM athlete\",show=True)"
   ]
  },
  {
   "cell_type": "code",
   "execution_count": 52,
   "metadata": {
    "id": "XubF4ZiUK_QO"
   },
   "outputs": [
    {
     "ename": "AttributeError",
     "evalue": "'NoneType' object has no attribute 'query'",
     "output_type": "error",
     "traceback": [
      "\u001b[0;31m---------------------------------------------------------------------------\u001b[0m",
      "\u001b[0;31mAttributeError\u001b[0m                            Traceback (most recent call last)",
      "Cell \u001b[0;32mIn[52], line 1\u001b[0m\n\u001b[0;32m----> 1\u001b[0m \u001b[43mcursor\u001b[49m\u001b[38;5;241;43m.\u001b[39;49m\u001b[43mquery\u001b[49m\n",
      "\u001b[0;31mAttributeError\u001b[0m: 'NoneType' object has no attribute 'query'"
     ]
    }
   ],
   "source": [
    "cursor.query"
   ]
  },
  {
   "cell_type": "code",
   "execution_count": null,
   "metadata": {
    "id": "dO5BM6iIK_QO"
   },
   "outputs": [],
   "source": [
    "cursor.rowcount"
   ]
  },
  {
   "cell_type": "code",
   "execution_count": null,
   "metadata": {
    "id": "yRiPSha0K_QO"
   },
   "outputs": [],
   "source": [
    "cursor.description"
   ]
  },
  {
   "cell_type": "markdown",
   "metadata": {
    "id": "GH_DCCUYK_QP"
   },
   "source": [
    "## TD 5 SQL JOINTURES"
   ]
  },
  {
   "cell_type": "markdown",
   "metadata": {
    "id": "f2Wp1A3qK_QP"
   },
   "source": [
    "### Jointures"
   ]
  },
  {
   "cell_type": "markdown",
   "metadata": {
    "id": "GCUKmuBGK_QP"
   },
   "source": [
    "Q1. Les athlètes français (nom pays = 'France') (104 lignes)."
   ]
  },
  {
   "cell_type": "code",
   "execution_count": null,
   "metadata": {
    "id": "EN1KA770K_QP",
    "scrolled": true
   },
   "outputs": [],
   "source": [
    "query=\"\"\"\n",
    "select a.nomAth, a.prenomAth\n",
    "from Pays p, Athlete a\n",
    "where a.codePays = p.codePays and p.nomP='France'\n",
    "\"\"\"\n",
    "\n",
    "cursor=execute(connection,query,show=True)"
   ]
  },
  {
   "cell_type": "code",
   "execution_count": null,
   "metadata": {
    "id": "uuy4w1IbK_QP",
    "scrolled": true
   },
   "outputs": [],
   "source": [
    "query=\"\"\"\n",
    "select nomAth, prenomAth\n",
    "from Pays natural join Athlete\n",
    "where nomP='France'\n",
    "\"\"\"\n",
    "\n",
    "cursor=execute(connection,query,show=True)"
   ]
  },
  {
   "cell_type": "markdown",
   "metadata": {
    "id": "xYndH3urK_QP"
   },
   "source": [
    "Q2. Les épreuves (sport, nom d'épreuve, catégorie) triées par nom de sport, puis par nom d'épreuve dans l'ordre inverse du dictionnaire (98 lignes)."
   ]
  },
  {
   "cell_type": "code",
   "execution_count": null,
   "metadata": {
    "id": "7-Sd54ybK_QP",
    "scrolled": true
   },
   "outputs": [],
   "source": [
    "query=\"\"\"\n",
    "select distinct e.nomep, e.categorie, s.nomsp\n",
    "from epreuve e, sport s\n",
    "where e.sid = s.sid\n",
    "order by s.nomsp desc, e.nomep desc\n",
    "\"\"\"\n",
    "\n",
    "cursor=execute(connection,query,show=True)"
   ]
  },
  {
   "cell_type": "code",
   "execution_count": null,
   "metadata": {
    "id": "LCKWGj-bK_QP",
    "scrolled": true
   },
   "outputs": [],
   "source": [
    "query=\"\"\"\n",
    "select nomep, categorie, nomsp\n",
    "from epreuve natural join sport\n",
    "order by nomsp desc, nomep desc\n",
    "\"\"\"\n",
    "\n",
    "cursor=execute(connection,query,show=True)"
   ]
  },
  {
   "cell_type": "markdown",
   "metadata": {
    "id": "MKe32KZvK_QQ"
   },
   "source": [
    "Q3. Les athlètes ayant participé à une équipe de France (30 lignes)."
   ]
  },
  {
   "cell_type": "code",
   "execution_count": null,
   "metadata": {
    "id": "NnoCXyyZK_QQ",
    "scrolled": true
   },
   "outputs": [],
   "source": [
    "query=\"\"\"\n",
    "\n",
    "\n",
    "\n",
    "\"\"\"\n",
    "\n",
    "cursor=execute(connection,query,show=True)"
   ]
  },
  {
   "cell_type": "markdown",
   "metadata": {
    "id": "53OeDF3xK_QQ"
   },
   "source": [
    "Q4. Les épreuves (sport, épreuve, catégorie) auxquelles participent des équipes (25 lignes)."
   ]
  },
  {
   "cell_type": "code",
   "execution_count": null,
   "metadata": {
    "id": "gxRFEZh4K_QQ",
    "scrolled": true
   },
   "outputs": [],
   "source": [
    "query=\"\"\"\n",
    "\n",
    "\n",
    "\n",
    "\"\"\"\n",
    "\n",
    "cursor=execute(connection,query,show=True)"
   ]
  },
  {
   "cell_type": "markdown",
   "metadata": {
    "id": "AhRFvZoXK_QQ"
   },
   "source": [
    "Q5. Le pays qui a gagné, en équipe, la médaille d'or dans l'épreuve de la catégorie 'Femmes' intitulée 'relais 4x6km' du sport 'Biathlon' (Ukraine)."
   ]
  },
  {
   "cell_type": "code",
   "execution_count": null,
   "metadata": {
    "id": "VwsylFhiK_QQ"
   },
   "outputs": [],
   "source": [
    "query=\"\"\"\n",
    "\n",
    "\n",
    "\"\"\"\n",
    "\n",
    "cursor=execute(connection,query,show=True)"
   ]
  },
  {
   "cell_type": "markdown",
   "metadata": {
    "id": "QnzH0wW0K_QQ"
   },
   "source": [
    "Q6. Les athlètes ayant participé à au moins une épreuve individuelle et au moins une par équipe (372 lignes)."
   ]
  },
  {
   "cell_type": "code",
   "execution_count": null,
   "metadata": {
    "id": "vpACj1A4K_QQ",
    "scrolled": true
   },
   "outputs": [],
   "source": [
    "query=\"\"\"\n",
    "\n",
    "\n",
    "\n",
    "\"\"\"\n",
    "\n",
    "cursor=execute(connection,query,show=True)"
   ]
  },
  {
   "cell_type": "markdown",
   "metadata": {
    "id": "sZEMFLQTK_QR"
   },
   "source": [
    "Q7. Les homonymes (les nom de familles portés par deux athlètes ou plus) (141 lignes)"
   ]
  },
  {
   "cell_type": "code",
   "execution_count": null,
   "metadata": {
    "id": "Inwlx8nVK_QR",
    "scrolled": true
   },
   "outputs": [],
   "source": [
    "query=\"\"\"\n",
    "\n",
    "\n",
    "\"\"\"\n",
    "\n",
    "cursor=execute(connection,query,show=True)"
   ]
  },
  {
   "cell_type": "markdown",
   "metadata": {
    "id": "SCHrrJvfK_QR"
   },
   "source": [
    "Q8. Les athlètes ayant participé à (au moins) deux épreuves individuelles (706 lignes)."
   ]
  },
  {
   "cell_type": "code",
   "execution_count": null,
   "metadata": {
    "id": "bj4xi0EFK_QR",
    "scrolled": true
   },
   "outputs": [],
   "source": [
    "query=\"\"\"\n",
    "\n",
    "\n",
    "\"\"\"\n",
    "\n",
    "cursor=execute(connection,query,show=True)"
   ]
  },
  {
   "cell_type": "markdown",
   "metadata": {
    "id": "rLP7cZ7tK_QR"
   },
   "source": [
    "Q9. Les athlètes ayant gagné une médaille dans une épreuve individuelle, mais ayant été disqualifiés\n",
    "dans une autre (14 lignes)."
   ]
  },
  {
   "cell_type": "code",
   "execution_count": null,
   "metadata": {
    "id": "8iaqK77wK_QR",
    "scrolled": true
   },
   "outputs": [],
   "source": [
    "query=\"\"\"\n",
    "\n",
    "\n",
    "\"\"\"\n",
    "\n",
    "cursor=execute(connection,query,show=True)"
   ]
  },
  {
   "cell_type": "markdown",
   "metadata": {
    "id": "x2lMlSYnK_QR"
   },
   "source": [
    "Q10. Les athlètes ayant gagné (au moins) une médaille dans une épreuve individuelle (182 lignes)."
   ]
  },
  {
   "cell_type": "code",
   "execution_count": null,
   "metadata": {
    "id": "PI1FG7BqK_QR",
    "scrolled": true
   },
   "outputs": [],
   "source": [
    "query=\"\"\"\n",
    "\n",
    "\n",
    "\"\"\"\n",
    "\n",
    "cursor=execute(connection,query,show=True)"
   ]
  },
  {
   "cell_type": "markdown",
   "metadata": {
    "id": "eGEvPA0PK_QS"
   },
   "source": [
    "Q11.  Les noms de pays qui n’ont qu’une seule équipe (9 lignes)."
   ]
  },
  {
   "cell_type": "code",
   "execution_count": null,
   "metadata": {
    "id": "NdSSX9mJK_QS",
    "scrolled": true
   },
   "outputs": [],
   "source": [
    "query=\"\"\"\n",
    "\n",
    "\n",
    "\"\"\"\n",
    "\n",
    "cursor=execute(connection,query,show=True)"
   ]
  },
  {
   "cell_type": "code",
   "execution_count": null,
   "metadata": {
    "id": "hQxLpMkAK_QS",
    "scrolled": true
   },
   "outputs": [],
   "source": [
    "query=\"\"\"\n",
    "\n",
    "\n",
    "\"\"\"\n",
    "\n",
    "cursor=execute(connection,query,show=True)"
   ]
  },
  {
   "cell_type": "markdown",
   "metadata": {
    "id": "YvtrSnmsK_QS"
   },
   "source": [
    "Q12. Les athlètes ayant participé à exactement 2 épreuves individuelles (402 lignes)."
   ]
  },
  {
   "cell_type": "code",
   "execution_count": null,
   "metadata": {
    "id": "4wr42kx7K_QS",
    "scrolled": true,
    "tags": []
   },
   "outputs": [],
   "source": [
    "query=\"\"\"\n",
    "\n",
    "\n",
    "\"\"\"\n",
    "\n",
    "cursor=execute(connection,query,show=True)"
   ]
  },
  {
   "cell_type": "markdown",
   "metadata": {
    "id": "jahd33SBK_QS"
   },
   "source": [
    "## TME5 SQL JOINTURES / EXISTS"
   ]
  },
  {
   "cell_type": "markdown",
   "metadata": {
    "id": "HYs-xs7bK_QS"
   },
   "source": [
    "Q1. Les sports auxquels LESSER Erik a participé en supposant qu'il a participé aux épreuves\n",
    "individuelles (2 lignes)."
   ]
  },
  {
   "cell_type": "code",
   "execution_count": null,
   "metadata": {
    "id": "Q9LsRsw1K_QS",
    "scrolled": true
   },
   "outputs": [],
   "source": [
    "query=\"\"\"\n",
    "\n",
    "\n",
    "\"\"\"\n",
    "\n",
    "cursor=execute(connection,query,show=True)"
   ]
  },
  {
   "cell_type": "markdown",
   "metadata": {
    "id": "3hIbpOBmK_QV"
   },
   "source": [
    "Q2. Les athlètes ayant participé aux épreuves individuelles de (au moins) deux sports différents (2 lignes)."
   ]
  },
  {
   "cell_type": "code",
   "execution_count": null,
   "metadata": {
    "id": "ICNhci1OK_QV",
    "scrolled": true
   },
   "outputs": [],
   "source": [
    "query=\"\"\"\n",
    "\n",
    "\n",
    "\"\"\"\n",
    "\n",
    "cursor=execute(connection,query,show=True)"
   ]
  },
  {
   "cell_type": "markdown",
   "metadata": {
    "id": "-qLuhvVdK_QV"
   },
   "source": [
    "Q3. Les dates de début et de fin des Jeux Olympique 2014."
   ]
  },
  {
   "cell_type": "code",
   "execution_count": null,
   "metadata": {
    "id": "BsTOU4gsK_QV",
    "scrolled": true
   },
   "outputs": [],
   "source": [
    "query=\"\"\"\n",
    "\n",
    "\n",
    "\"\"\"\n",
    "\n",
    "cursor=execute(connection,query,show=True)"
   ]
  },
  {
   "cell_type": "markdown",
   "metadata": {
    "id": "mN6ZBX36K_QV"
   },
   "source": [
    "Q4. Les pays qui ont des participants de moins de 18 ans ou de plus que 40 au 24-02-2016\n",
    "(Attention : il faut éliminer les athlètes dont on ne connaît pas la date de naissance) (9 ou 7 lignes)."
   ]
  },
  {
   "cell_type": "code",
   "execution_count": null,
   "metadata": {
    "id": "WT8V2bM_K_QV",
    "scrolled": true
   },
   "outputs": [],
   "source": [
    "query=\"\"\"\n",
    "\n",
    "\n",
    "\"\"\"\n",
    "\n",
    "cursor=execute(connection,query,show=True)"
   ]
  },
  {
   "cell_type": "markdown",
   "metadata": {
    "id": "MkZ5hQNSK_QW"
   },
   "source": [
    "### NOT EXISTS / NOT IN"
   ]
  },
  {
   "cell_type": "markdown",
   "metadata": {
    "id": "lz9VJoBTK_QW"
   },
   "source": [
    "Q5. Les équipes n'ayant pas d'athlète (la base de données ne contient pas l'information sur les participants) (13 lignes)"
   ]
  },
  {
   "cell_type": "code",
   "execution_count": null,
   "metadata": {
    "id": "7ne6BWTwK_QW",
    "scrolled": true
   },
   "outputs": [],
   "source": [
    "query=\"\"\"\n",
    "\n",
    "\n",
    "\"\"\"\n",
    "\n",
    "cursor=execute(connection,query,show=True)"
   ]
  },
  {
   "cell_type": "markdown",
   "metadata": {
    "id": "0IASIDbYK_QW"
   },
   "source": [
    "Q6. Les équipes qui ont exactement 2 athlètes. Retourner l'équipe en question avec ses deux seuls athlètes (114 lignes).\n"
   ]
  },
  {
   "cell_type": "code",
   "execution_count": null,
   "metadata": {
    "id": "PeuaVPZWK_QW",
    "scrolled": true
   },
   "outputs": [],
   "source": [
    "query=\"\"\"\n",
    "\n",
    "\n",
    "\n",
    "\"\"\"\n",
    "\n",
    "cursor=execute(connection,query,show=True)"
   ]
  },
  {
   "cell_type": "markdown",
   "metadata": {
    "id": "0BaxQE9uK_QW"
   },
   "source": [
    "Q7. Les sports qui n'ont pas d'épreuves de catégorie Mixte (12 lignes)."
   ]
  },
  {
   "cell_type": "code",
   "execution_count": null,
   "metadata": {
    "id": "c60MlGLnK_QW",
    "scrolled": true
   },
   "outputs": [],
   "source": [
    "query=\"\"\"\n",
    "\n",
    "\n",
    "\"\"\"\n",
    "\n",
    "cursor=execute(connection,query,show=True)"
   ]
  },
  {
   "cell_type": "markdown",
   "metadata": {
    "id": "mJ_GYrlPK_QW"
   },
   "source": [
    "Q8. Les athlètes qui ont gagné une médaille d’or (au moins) mais pas de médaille d’argent ni de bronze (53 lignes)"
   ]
  },
  {
   "cell_type": "code",
   "execution_count": null,
   "metadata": {
    "id": "sLdOMM8YK_QW",
    "scrolled": true
   },
   "outputs": [],
   "source": [
    "query=\"\"\"\n",
    "\n",
    "\n",
    "\"\"\"\n",
    "\n",
    "cursor=execute(connection,query,show=True)"
   ]
  },
  {
   "cell_type": "markdown",
   "metadata": {
    "id": "VUEqCvN0K_QX"
   },
   "source": [
    "Q9. Les athlète(s) qui ont fini dernier d’une épreuve individuelle. Indiquer leur nom, prenom, le nom\n",
    "du sport et de l’épreuve et leur rang. Attention : il faut filtrer les athlètes disqualifiés (73 lignes)."
   ]
  },
  {
   "cell_type": "code",
   "execution_count": null,
   "metadata": {
    "id": "VspoP8RGK_QX",
    "scrolled": true
   },
   "outputs": [],
   "source": [
    "query=\"\"\"\n",
    "\n",
    "\n",
    "\"\"\"\n",
    "\n",
    "cursor=execute(connection,query,show=True)"
   ]
  },
  {
   "cell_type": "markdown",
   "metadata": {
    "id": "oI80YY4SK_QX"
   },
   "source": [
    "## TD6 REQUÊTES IMBRIQUÉES AVEC EXISTS, ALL ET A"
   ]
  },
  {
   "cell_type": "markdown",
   "metadata": {
    "id": "yQYt6buzK_QX"
   },
   "source": [
    "Q1. Les athlètes ayant participé à (au moins) une épreuve individuelle et (au moins) une épreuve\n",
    "par équipe. Exprimer la requête en utilisant ANY (au lieu de IN; voir requête 2.6 dans TD5).\n",
    "Résultat : (372 lignes)"
   ]
  },
  {
   "cell_type": "code",
   "execution_count": null,
   "metadata": {
    "id": "9Olo5cQLK_QX",
    "tags": []
   },
   "outputs": [],
   "source": [
    "query=\"\"\"\n",
    "\n",
    "\n",
    "\"\"\"\n",
    "execute(connection,query,show=True)"
   ]
  },
  {
   "cell_type": "markdown",
   "metadata": {
    "id": "FGpuedpUK_QX"
   },
   "source": [
    "2. a) Les pays ayant au moins un athlète (requête équivalente: les pays ayant participé aux JO).\n",
    "Résultat : (88 lignes)"
   ]
  },
  {
   "cell_type": "code",
   "execution_count": null,
   "metadata": {
    "id": "GniRw1inK_QX"
   },
   "outputs": [],
   "source": [
    "query=\"\"\"\n",
    "\n",
    "\n",
    "\"\"\"\n",
    "execute(connection,query,show=True)"
   ]
  },
  {
   "cell_type": "markdown",
   "metadata": {
    "id": "Bp2TBA3_K_QX"
   },
   "source": [
    "b) Les pays ayant exactement un seul athlète\n",
    "Résultat : (18 lignes)"
   ]
  },
  {
   "cell_type": "code",
   "execution_count": null,
   "metadata": {
    "id": "2skSzFYhK_QY"
   },
   "outputs": [],
   "source": [
    "query=\"\"\"\n",
    "\n",
    "\n",
    "\"\"\"\n",
    "execute(connection,query,show=True)\n"
   ]
  },
  {
   "cell_type": "markdown",
   "metadata": {
    "id": "3kNeWqNHK_QY"
   },
   "source": [
    "3. a) Les athlètes qui n'ont jamais été disqualifiés aux épreuves individuelles.\n",
    "Résultat : (2194 lignes)"
   ]
  },
  {
   "cell_type": "code",
   "execution_count": null,
   "metadata": {
    "id": "g99uDpf2K_QY"
   },
   "outputs": [],
   "source": [
    "query=\"\"\"\n",
    "\n",
    "\n",
    "\"\"\"\n",
    "execute(connection,query,show=True)"
   ]
  },
  {
   "cell_type": "markdown",
   "metadata": {
    "id": "BQ-25LwzK_QY"
   },
   "source": [
    "b) Les pays qui n'ont pas eu d'athlète disqualifié aux épreuves individuelles.\n",
    "Résultat : (143 lignes)"
   ]
  },
  {
   "cell_type": "code",
   "execution_count": null,
   "metadata": {
    "id": "0NT42eJVK_QY"
   },
   "outputs": [],
   "source": [
    "query=\"\"\"\n",
    "\n",
    "\n",
    "\"\"\"\n",
    "execute(connection,query,show=True)"
   ]
  },
  {
   "cell_type": "markdown",
   "metadata": {
    "id": "fHg_QsuuK_QY"
   },
   "source": [
    "c) Les pays qui ont participé aux JO et qui n'ont pas eu d'athlètes disqualifiés aux épreuves\n",
    "individuelles.\n",
    "Résultat : (25 lignes)"
   ]
  },
  {
   "cell_type": "code",
   "execution_count": null,
   "metadata": {
    "id": "YXuJGJRBK_QY"
   },
   "outputs": [],
   "source": [
    "query=\"\"\"\n",
    "\n",
    "\n",
    "\"\"\"\n",
    "execute(connection,query,show=True)"
   ]
  },
  {
   "cell_type": "markdown",
   "metadata": {
    "id": "Fsqtn20KK_QY"
   },
   "source": [
    "d) Les pays qui ont participé aux JO et qui n'ont pas eu des athlètes disqualifiés ni en\n",
    "individuel ni par équipe\n",
    "Résultat : (25 lignes)"
   ]
  },
  {
   "cell_type": "code",
   "execution_count": null,
   "metadata": {
    "id": "73orDmUGK_QZ"
   },
   "outputs": [],
   "source": [
    "query=\"\"\"\n",
    "\n",
    "\n",
    "\"\"\"\n",
    "execute(connection,query,show=True)"
   ]
  },
  {
   "cell_type": "markdown",
   "metadata": {
    "id": "kp8MsK1gK_QZ"
   },
   "source": [
    "4. a) Les athlètes n'ayant pas gagné de médaille ni en individuel ni en équipe\n",
    "Résultat : (1921 lignes)"
   ]
  },
  {
   "cell_type": "code",
   "execution_count": null,
   "metadata": {
    "id": "FtZgJhZNK_QZ"
   },
   "outputs": [],
   "source": [
    "query=\"\"\"\n",
    "\n",
    "\n",
    "\"\"\"\n",
    "execute(connection,query,show=True)"
   ]
  },
  {
   "cell_type": "markdown",
   "metadata": {
    "id": "5_64wIZNK_QZ"
   },
   "source": [
    "b) Les pays ayant participé aux JO et n'ayant pas gagné de médaille ni en individuel ni en\n",
    "équipe.\n",
    "Résultat : (63 lignes)"
   ]
  },
  {
   "cell_type": "code",
   "execution_count": null,
   "metadata": {
    "id": "9U58ESk8K_QZ"
   },
   "outputs": [],
   "source": [
    "query=\"\"\"\n",
    "\n",
    "\n",
    "\"\"\"\n",
    "execute(connection,query,show=True)\n"
   ]
  },
  {
   "cell_type": "markdown",
   "metadata": {
    "id": "hlcRO7GMK_QZ"
   },
   "source": [
    "5. L'(es) épreuve(s) avec la plus grande durée.\n",
    "Résultat : Hockey sur glace, Hockey sur glace, Hommes, 16 jours"
   ]
  },
  {
   "cell_type": "code",
   "execution_count": null,
   "metadata": {
    "id": "i8rNd1-vK_QZ"
   },
   "outputs": [],
   "source": [
    "query=\"\"\"\n",
    "\n",
    "\n",
    "\"\"\"\n",
    "execute(connection,query,show=True)"
   ]
  },
  {
   "cell_type": "markdown",
   "metadata": {
    "id": "OpqT8QQOK_QZ"
   },
   "source": [
    "6. Les athlètes ayant gagné une médaille à toutes les épreuve individuelles auxquelles ils ont\n",
    "participé. Résultat : (109 lignes)"
   ]
  },
  {
   "cell_type": "code",
   "execution_count": null,
   "metadata": {
    "id": "z8wBgqYiK_QZ"
   },
   "outputs": [],
   "source": [
    "query=\"\"\"\n",
    "\n",
    "\n",
    "\"\"\"\n",
    "execute(connection,query,show=True)"
   ]
  },
  {
   "cell_type": "markdown",
   "metadata": {
    "id": "a1QbXzXRK_Qa"
   },
   "source": [
    "## TME6 REQUÊTES IMBRIQUÉES AVEC EXISTS, ALL ET ANY"
   ]
  },
  {
   "cell_type": "markdown",
   "metadata": {
    "id": "CCR7b3pFK_Qa"
   },
   "source": [
    "### ANY / ALL / IN / EXISTS"
   ]
  },
  {
   "cell_type": "markdown",
   "metadata": {
    "id": "-dVVJmgOK_Qa"
   },
   "source": [
    "Exprimer les requêtes suivantes en SQL :\n",
    "\n",
    "1. Les sports dont toutes les épreuves ont duré un seul jour.\n",
    "Résultat : Ski de fond, Ski alpin, Biathlon"
   ]
  },
  {
   "cell_type": "code",
   "execution_count": null,
   "metadata": {
    "id": "bYJMYYsMK_Qa"
   },
   "outputs": [],
   "source": [
    "query=\"\"\"\n",
    "\n",
    "\n",
    "\"\"\"\n",
    "execute(connection,query,show=True)"
   ]
  },
  {
   "cell_type": "markdown",
   "metadata": {
    "id": "gqqOQ9lbK_Qa"
   },
   "source": [
    "2. Les sports qui n'ont pas d'épreuves de categorie Mixte.\n",
    "Résultat : (12 lignes)"
   ]
  },
  {
   "cell_type": "code",
   "execution_count": null,
   "metadata": {
    "id": "H55TvGICK_Qa"
   },
   "outputs": [],
   "source": [
    "query=\"\"\"\n",
    "\n",
    "\n",
    "\"\"\"\n",
    "execute(connection,query,show=True)"
   ]
  },
  {
   "cell_type": "markdown",
   "metadata": {
    "id": "5zh6KHqlK_Qa"
   },
   "source": [
    "3. Les équipes dont aucun athlète n'a gagné de médaille aux épreuves individuelles.\n",
    "Attention : il y a des équipes sans athlètes.\n",
    "Résultat : (265 lignes avec les équipes sans athlètes - 252 lignes sans les équipes sans\n",
    "athlètes)"
   ]
  },
  {
   "cell_type": "markdown",
   "metadata": {
    "id": "RnS5ceSZK_Qa"
   },
   "source": [
    "Avec les équipes sans athlètes :"
   ]
  },
  {
   "cell_type": "code",
   "execution_count": null,
   "metadata": {
    "id": "Jc7cCk2RK_Qb"
   },
   "outputs": [],
   "source": [
    "query=\"\"\"\n",
    "\n",
    "\n",
    "\"\"\"\n",
    "execute(connection,query,show=True)"
   ]
  },
  {
   "cell_type": "markdown",
   "metadata": {
    "id": "7TCOWjOwK_Qb"
   },
   "source": [
    "Sans les équipes sans athlètes :"
   ]
  },
  {
   "cell_type": "code",
   "execution_count": null,
   "metadata": {
    "id": "FWaVdiBoK_Qb"
   },
   "outputs": [],
   "source": [
    "query=\"\"\"\n",
    "\n",
    "\n",
    "\"\"\"\n",
    "execute(connection,query,show=True)"
   ]
  },
  {
   "cell_type": "markdown",
   "metadata": {
    "id": "c7GRqtVVK_Qb"
   },
   "source": [
    "4. La nationalité de l'athlète le/la plus jeune. Attention : il y a des athlètes dont on ne connaît\n",
    "pas la date de naissance.\n",
    "Résultat : ('29/11/1998','JPN')"
   ]
  },
  {
   "cell_type": "code",
   "execution_count": null,
   "metadata": {
    "id": "rggL0gpSK_Qb"
   },
   "outputs": [],
   "source": [
    "query=\"\"\"\n",
    "\n",
    "\n",
    "\"\"\"\n",
    "execute(connection,query,show=True)"
   ]
  },
  {
   "cell_type": "markdown",
   "metadata": {
    "id": "8w2feGAkK_Qc"
   },
   "source": [
    "5. Le plus jeune athlète de chaque pays.\n",
    "Résultat : (26 lignes)"
   ]
  },
  {
   "cell_type": "code",
   "execution_count": null,
   "metadata": {
    "id": "MOElEASCK_Qc"
   },
   "outputs": [],
   "source": [
    "query=\"\"\"\n",
    "\n",
    "\n",
    "\"\"\"\n",
    "execute(connection,query,show=True)"
   ]
  },
  {
   "cell_type": "markdown",
   "metadata": {
    "id": "q8QRjWcEK_Qc"
   },
   "source": [
    "## TME7 REQUÊTES D'AGRÉGATION ET DIVISION"
   ]
  },
  {
   "cell_type": "markdown",
   "metadata": {
    "id": "Ut0U4TePK_Qc"
   },
   "source": [
    "On reprend le schéma schéma « Jeux Olympiques d'hiver 2014 ».\n",
    "\n",
    "PAYS (CODEPAYS, NOMP)\n",
    "\n",
    "SPORT (SID , NOM SP)\n",
    "\n",
    "EPREUVE (EPID, SID*, NOMEP, CATEGORIE, DATEDEBUT, DATEFIN)\n",
    "\n",
    "ATHLETE (AID, NOMATH, PRENOMATH, DATENAISSANCE, CODEPAYS*)\n",
    "\n",
    "EQUIPE (EQID, CODE PAYS*)\n",
    "\n",
    "ATHLETESEQUIPE (EQID*, AID*)\n",
    "\n",
    "RANGINDIVIDUEL (EPID*, AID*, RANG)\n",
    "\n",
    "RANGEQUIPE (EPID*, EQID*, RANG)"
   ]
  },
  {
   "cell_type": "markdown",
   "metadata": {
    "id": "MPzDi8LWK_Qc"
   },
   "source": [
    "### Fonctions d’agrégation « COUNT, SUM, AVG, MIN, MAX »"
   ]
  },
  {
   "cell_type": "markdown",
   "metadata": {
    "id": "a_pvXlUGK_Qc"
   },
   "source": [
    "1. Le nombre d’athlètes.\n",
    "Résultat (1 ligne) : 2431"
   ]
  },
  {
   "cell_type": "code",
   "execution_count": null,
   "metadata": {
    "id": "TS72LTiiK_Qc"
   },
   "outputs": [],
   "source": [
    "query=\"\"\"\n",
    "\n",
    "\n",
    "\"\"\"\n",
    "execute(connection,query,show=True)"
   ]
  },
  {
   "cell_type": "markdown",
   "metadata": {
    "id": "ISX14NCSK_Qc"
   },
   "source": [
    "2. Le nombre d’athlètes ayant participé à au moins une épreuve en individuel.\n",
    "Résultat (1 ligne) : 1558"
   ]
  },
  {
   "cell_type": "code",
   "execution_count": null,
   "metadata": {
    "id": "0uhEMKJBK_Qe"
   },
   "outputs": [],
   "source": [
    "query=\"\"\"\n",
    "\n",
    "\n",
    "\"\"\"\n",
    "execute(connection,query,show=True)"
   ]
  },
  {
   "cell_type": "markdown",
   "metadata": {
    "id": "kEyxwDGdK_Qe"
   },
   "source": [
    "3. L'âge moyen des sportifs dont le code pays est 'FRA' (France) au 06/02/2014.\n",
    "Résultat (1 ligne) : 26,8\n",
    "Aide :\n",
    "– utilisez round(valeur,nb) pour garder seulement nb décimales à valeur\n",
    "– sous Oracle, utilisez: to_date('06/02/2014','dd/mm/YYYY')"
   ]
  },
  {
   "cell_type": "code",
   "execution_count": null,
   "metadata": {
    "id": "fRNbse8zK_Qe"
   },
   "outputs": [],
   "source": [
    "query=\"\"\"\n",
    "\n",
    "\n",
    "\"\"\"\n",
    "execute(connection,query,show=True)"
   ]
  },
  {
   "cell_type": "markdown",
   "metadata": {
    "id": "mM6irKcIK_Qe"
   },
   "source": [
    "4. La durée moyenne, minimale et maximale des épreuves.\n",
    "Résultat (1 ligne) : « Durée moyenne = 1,98 min = 1 max = 16 »\n",
    "Aide : utilisez l’opérateur de concaténation ||\n",
    "Attention : entre le 10/01/2014 et le 13/01/2014, il y a une durée de 4 jours (et non pas 3)."
   ]
  },
  {
   "cell_type": "code",
   "execution_count": null,
   "metadata": {
    "id": "7uDd-oGcK_Qf"
   },
   "outputs": [],
   "source": [
    "query=\"\"\"\n",
    "\n",
    "\n",
    "\"\"\"\n",
    "execute(connection,query,show=True)"
   ]
  },
  {
   "cell_type": "markdown",
   "metadata": {
    "id": "nw6ejEVPK_Qf"
   },
   "source": [
    "5. Le nombre moyen d'athlètes par pays, c'est-à-dire le nombre d'athlètes divisé par le nombre\n",
    "de pays (ayant au moins un athlète). Résultat (1 ligne) : 27,625"
   ]
  },
  {
   "cell_type": "code",
   "execution_count": null,
   "metadata": {
    "id": "yS-8LvjsK_Qf"
   },
   "outputs": [],
   "source": [
    "query=\"\"\"\n",
    "\n",
    "\n",
    "\"\"\"\n",
    "execute(connection,query,show=True)"
   ]
  },
  {
   "cell_type": "markdown",
   "metadata": {
    "id": "MDGyIJR3K_Qf"
   },
   "source": [
    "Partitionnement « group by »"
   ]
  },
  {
   "cell_type": "markdown",
   "metadata": {
    "id": "230EUEcsK_Qf"
   },
   "source": [
    "6. Pour chaque pays, le nom du pays et le nombre d’athlètes, ordonner par nombre d’athlètes\n",
    "croissant.\n",
    "Résultats (88 lignes) : (PAK,1) ; (HKG, 1) ; ... ; (USA, 196) ; (CAN,221)"
   ]
  },
  {
   "cell_type": "code",
   "execution_count": null,
   "metadata": {
    "id": "x2OCNUPtK_Qf"
   },
   "outputs": [],
   "source": [
    "query=\"\"\"\n",
    "\n",
    "\n",
    "\"\"\"\n",
    "execute(connection,query,show=True)"
   ]
  },
  {
   "cell_type": "markdown",
   "metadata": {
    "id": "4zTnoY8BK_Qf"
   },
   "source": [
    "7. Le nombre moyen d'athlètes par pays (avec group by). Aide : compter le nombre\n",
    "d’athlètes dans chaque pays (ayant au moins un athlète), puis faire la moyenne.\n",
    "Résultat (1 ligne) : 27,625"
   ]
  },
  {
   "cell_type": "code",
   "execution_count": null,
   "metadata": {
    "id": "X7obDdzLK_Qf"
   },
   "outputs": [],
   "source": [
    "query=\"\"\"\n",
    "\n",
    "\n",
    "\"\"\"\n",
    "execute(connection,query,show=True)"
   ]
  },
  {
   "cell_type": "markdown",
   "metadata": {
    "id": "hxE6j5KzK_Qf"
   },
   "source": [
    "8. Pour chaque équipe, l’eqid de l'équipe et le nombre d'athlètes, ordonner par nombre\n",
    "d’athlètes décroissant.\n",
    "Résultats (296 lignes) : (164,25) ; (165,25) ; (166,25) ; ... ; (180,2) ; (181, 2) ; (182, 2)"
   ]
  },
  {
   "cell_type": "code",
   "execution_count": null,
   "metadata": {
    "id": "NyDpYgIJK_Qg"
   },
   "outputs": [],
   "source": [
    "query=\"\"\"\n",
    "\n",
    "\n",
    "\"\"\"\n",
    "execute(connection,query,show=True)"
   ]
  },
  {
   "cell_type": "markdown",
   "metadata": {
    "id": "PzKD_8b5K_Qg"
   },
   "source": [
    "9. Pour chaque catégorie, la catégorie et le nombre d'épreuves.\n",
    "Résultats (3 lignes) : (Femmes,43) ; (Mixte,6) ; (Hommes,49)"
   ]
  },
  {
   "cell_type": "code",
   "execution_count": null,
   "metadata": {
    "id": "oHTOuqv2K_Qg"
   },
   "outputs": [],
   "source": [
    "query=\"\"\"\n",
    "\n",
    "\n",
    "\"\"\"\n",
    "execute(connection,query,show=True)"
   ]
  },
  {
   "cell_type": "markdown",
   "metadata": {
    "id": "-_kn7mx8K_Qg"
   },
   "source": [
    "10. Pour chaque sport, le nom du sport et le nombre d'épreuves, ordonner par nombre d'épreuves\n",
    "décroissant.\n",
    "\n",
    "Résultats (15 lignes) : (Patinage de vitesse,12) ; (Ski de fond,12) ; ... ;(Hockey sur glace,2)"
   ]
  },
  {
   "cell_type": "code",
   "execution_count": null,
   "metadata": {
    "id": "STFyLi8KK_Qg"
   },
   "outputs": [],
   "source": [
    "query=\"\"\"\n",
    "\n",
    "\n",
    "\"\"\"\n",
    "execute(connection,query,show=True)"
   ]
  },
  {
   "cell_type": "markdown",
   "metadata": {
    "id": "Bjav_rGtK_Qg"
   },
   "source": [
    "11. Pour chaque pays, le code du pays, le nombre de médailles en épreuve individuelle gagnées\n",
    "et le nombre d'athlètes ayant gagnés au moins une médaille. Ordonner par nombre de\n",
    "médailles décroissant. Aide : 2 tables seulement sont nécessaires.\n",
    "Résultats (24 lignes) : (NOR, 24,19) ; (NED,22,15) ; ..."
   ]
  },
  {
   "cell_type": "code",
   "execution_count": null,
   "metadata": {
    "id": "rBV2Sap1K_Qg"
   },
   "outputs": [],
   "source": [
    "query=\"\"\"\n",
    "\n",
    "\n",
    "\"\"\"\n",
    "execute(connection,query,show=True)"
   ]
  },
  {
   "cell_type": "markdown",
   "metadata": {
    "id": "ORAh5F2uK_Qh"
   },
   "source": []
  },
  {
   "cell_type": "markdown",
   "metadata": {
    "id": "3MrvBvfqK_Qh"
   },
   "source": [
    "12. Pour chaque pays et sport, le code du pays, le sid du sport, le nombre de médailles en\n",
    "épreuve individuelle gagnées, le nombre d'athlètes ayant gagnés au moins une médaille,\n",
    "ordonner d'abord par code pays, puis par nombre de médailles décroissant.\n",
    "Résultats (84 lignes) : (AUS,12,2,2); (AUS,15,1,1);(AUT,13,9,7);(AUT,15,2,2);..."
   ]
  },
  {
   "cell_type": "code",
   "execution_count": null,
   "metadata": {
    "id": "JN-k1usvK_Qh"
   },
   "outputs": [],
   "source": [
    "query=\"\"\"\n",
    "\n",
    "\n",
    "\"\"\"\n",
    "execute(connection,query,show=True)"
   ]
  },
  {
   "cell_type": "markdown",
   "metadata": {
    "id": "-aACINwgK_Qh"
   },
   "source": [
    "### Partitionnement avec « group by / having »\n",
    "\n",
    "13. L’eqid de la ou des équipes qui sont composées :\n",
    "a) d'exactement 10 athlètes. Résultat (1 ligne) : 226"
   ]
  },
  {
   "cell_type": "code",
   "execution_count": null,
   "metadata": {
    "id": "v8NpoQL2K_Qh"
   },
   "outputs": [],
   "source": [
    "query=\"\"\"\n",
    "\n",
    "\n",
    "\"\"\"\n",
    "execute(connection,query,show=True)"
   ]
  },
  {
   "cell_type": "markdown",
   "metadata": {
    "id": "VdFbUSYrK_Qh"
   },
   "source": [
    "b) du plus d’athlètes pour ces JO."
   ]
  },
  {
   "cell_type": "markdown",
   "metadata": {
    "id": "qz7N0f3yK_Qh"
   },
   "source": [
    "Résultats (3 lignes) : 164 ; 165 ; 166"
   ]
  },
  {
   "cell_type": "code",
   "execution_count": null,
   "metadata": {
    "id": "MBAkX-mnK_Qh"
   },
   "outputs": [],
   "source": [
    "query=\"\"\"\n",
    "\n",
    "\n",
    "\"\"\"\n",
    "execute(connection,query,show=True)"
   ]
  },
  {
   "cell_type": "markdown",
   "metadata": {
    "id": "roedd_gzK_Qh"
   },
   "source": [
    "14. Le nombre d'épreuves en individuel où il y a eu au moins 100 participants.\n",
    "Résultat (1 ligne ) : 2"
   ]
  },
  {
   "cell_type": "code",
   "execution_count": null,
   "metadata": {
    "id": "QhzY34qlK_Qi"
   },
   "outputs": [],
   "source": [
    "query=\"\"\"\n",
    "\n",
    "\n",
    "\"\"\"\n",
    "execute(connection,query,show=True)"
   ]
  },
  {
   "cell_type": "markdown",
   "metadata": {
    "id": "Hzm1pF_7K_Qi"
   },
   "source": [
    "15. Le nom des pays qui ont gagné au moins 20 médailles aux épreuves individuelles.\n",
    "Résultats (3 lignes) : Pays-Bas ; États-Unis ; Norvège"
   ]
  },
  {
   "cell_type": "code",
   "execution_count": null,
   "metadata": {
    "id": "sgAAEe-NK_Qi"
   },
   "outputs": [],
   "source": [
    "query=\"\"\"\n",
    "\n",
    "\n",
    "\"\"\"\n",
    "execute(connection,query,show=True)"
   ]
  },
  {
   "cell_type": "markdown",
   "metadata": {
    "id": "SijvfzX9K_Qi"
   },
   "source": [
    "### Division en SQL"
   ]
  },
  {
   "cell_type": "markdown",
   "metadata": {
    "id": "xsKaUC0zK_Qi"
   },
   "source": [
    "16. Le sid des sports qui ont des épreuves dans toutes les catégories existantes.\n",
    "Résultats (3 lignes) : 1 ; 6 ; 7"
   ]
  },
  {
   "cell_type": "markdown",
   "metadata": {
    "id": "FlyL97vlK_Qi"
   },
   "source": [
    "Principe : pour chaque épreuve, on compte le nombre de catégories, puis on regarde si il est\n",
    "égal au nombre total de catégories d’épreuves."
   ]
  },
  {
   "cell_type": "code",
   "execution_count": null,
   "metadata": {
    "id": "zIpT0ZuSK_Qi"
   },
   "outputs": [],
   "source": [
    "query=\"\"\"\n",
    "\n",
    "\n",
    "\"\"\"\n",
    "execute(connection,query,show=True)"
   ]
  },
  {
   "cell_type": "code",
   "execution_count": null,
   "metadata": {
    "id": "YlU5Q6YlK_Qi"
   },
   "outputs": [],
   "source": [
    "query=\"\"\"\n",
    "\n",
    "\"\"\"\n",
    "execute(connection,query,show=True)"
   ]
  },
  {
   "cell_type": "markdown",
   "metadata": {
    "id": "IksXEeeLK_Qi"
   },
   "source": [
    "17. Le nom des pays qui ont participé aux épreuves en individuel de tous les sports en"
   ]
  },
  {
   "cell_type": "markdown",
   "metadata": {
    "id": "93EzLCxhK_Qi"
   },
   "source": [
    "individuel. Résultats (3 lignes) : (Russie,12) ; (États-Unis,12) ; (Italie,12)"
   ]
  },
  {
   "cell_type": "code",
   "execution_count": null,
   "metadata": {
    "id": "_2NBBgVnK_Qj"
   },
   "outputs": [],
   "source": [
    "query=\"\"\"\n",
    "\n",
    "\n",
    "\"\"\"\n",
    "execute(connection,query,show=True)"
   ]
  },
  {
   "cell_type": "markdown",
   "metadata": {
    "id": "tnuHZoJZK_Qj"
   },
   "source": []
  },
  {
   "cell_type": "markdown",
   "metadata": {
    "id": "ovUUbgV3K_Qj"
   },
   "source": [
    "## Requêtes avec paramètres"
   ]
  },
  {
   "cell_type": "code",
   "execution_count": null,
   "metadata": {
    "id": "0_b8eC1EK_Qj"
   },
   "outputs": [],
   "source": [
    "cursor=connection.cursor()\n",
    "cursor.execute(\"SELECT * FROM athlete WHERE aid=(%s)\", '1')\n",
    "print(cursor.fetchall())\n"
   ]
  },
  {
   "cell_type": "markdown",
   "metadata": {
    "id": "RZ6EOmdgK_Qj"
   },
   "source": [
    "# Transactions"
   ]
  },
  {
   "cell_type": "code",
   "execution_count": null,
   "metadata": {
    "id": "0ea2ZV_BK_Qj"
   },
   "outputs": [],
   "source": [
    "connection.commit()"
   ]
  },
  {
   "cell_type": "code",
   "execution_count": null,
   "metadata": {
    "id": "MRBf4qzVK_Qj"
   },
   "outputs": [],
   "source": [
    "resultat=execute(connection, \"SELECT * FROM athlete where aid<12\",True)"
   ]
  },
  {
   "cell_type": "code",
   "execution_count": null,
   "metadata": {
    "id": "y-Z3siy5K_Qj"
   },
   "outputs": [],
   "source": [
    "delete_comment = \"DELETE FROM athlete where aid<10\"\n",
    "execute(connection, delete_comment)"
   ]
  },
  {
   "cell_type": "code",
   "execution_count": null,
   "metadata": {
    "id": "KiUmOKvnK_Qj"
   },
   "outputs": [],
   "source": [
    "execute(connection, \"SELECT * FROM athlete where aid < 12\",True)"
   ]
  },
  {
   "cell_type": "code",
   "execution_count": null,
   "metadata": {
    "id": "EpkS3SeyK_Qk"
   },
   "outputs": [],
   "source": [
    "connection.rollback()"
   ]
  },
  {
   "cell_type": "code",
   "execution_count": null,
   "metadata": {
    "id": "yBSex13dK_Qk",
    "scrolled": true
   },
   "outputs": [],
   "source": [
    "execute(connection, \"SELECT * FROM athlete where aid < 12\",True)"
   ]
  },
  {
   "cell_type": "markdown",
   "metadata": {
    "id": "XGY3Xv2GK_Qk"
   },
   "source": [
    "# Fermer la connexion"
   ]
  },
  {
   "cell_type": "code",
   "execution_count": null,
   "metadata": {
    "id": "sL8PCTDbK_Qk"
   },
   "outputs": [],
   "source": [
    "connection.commit() # implicit avec close\n",
    "connection.close()"
   ]
  },
  {
   "cell_type": "code",
   "execution_count": null,
   "metadata": {
    "id": "S4-RP-a5K_Qk"
   },
   "outputs": [],
   "source": []
  }
 ],
 "metadata": {
  "colab": {
   "collapsed_sections": [
    "zBRndOPPVrcb",
    "CaBMZBPgK_QE",
    "3HyPG6wGK_QK"
   ],
   "provenance": [],
   "toc_visible": true
  },
  "kernelspec": {
   "display_name": "Python 3 (ipykernel)",
   "language": "python",
   "name": "python3"
  },
  "language_info": {
   "codemirror_mode": {
    "name": "ipython",
    "version": 3
   },
   "file_extension": ".py",
   "mimetype": "text/x-python",
   "name": "python",
   "nbconvert_exporter": "python",
   "pygments_lexer": "ipython3",
   "version": "3.10.12"
  },
  "toc-autonumbering": true,
  "toc-showcode": false,
  "toc-showmarkdowntxt": false,
  "toc-showtags": false
 },
 "nbformat": 4,
 "nbformat_minor": 4
}
