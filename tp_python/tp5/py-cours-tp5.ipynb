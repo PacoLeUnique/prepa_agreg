{
 "cells": [
  {
   "cell_type": "markdown",
   "metadata": {},
   "source": [
    "# Préparation à l'agrégation d'informatique, Python et POO, Cours et TP 5\n",
    "\n",
    "- Rudiments de POO\n",
    "- Unittest"
   ]
  },
  {
   "cell_type": "markdown",
   "metadata": {},
   "source": [
    "# La programmation orienté objets\n",
    "\n",
    "Mise en situation : vous voulez créer un programme qui gère un agenda. Chaque événement dispose de plusieurs données intéressantes :\n",
    "- Nom de l'événement,\n",
    "- Date de début, format AAAAMMJJ\n",
    "- Date de fin, format AAAAMMJJ\n",
    "- Heure de début, format HHMM\n",
    "- Heure de fin, format HHMM\n",
    "- Lieu\n",
    "- Périodicité\n",
    "- Description\n",
    "- ...\n",
    "\n",
    "Quelle structure de données choisir ?\n",
    "\n",
    "## Idée 1 : Utiliser des listes\n",
    "\n",
    "Chaque événement peut être stocké dans une liste. On pourrait avoir ainsi :\n",
    "    \n",
    "    CoursPython = [\"CoursPython\", 20231003, 20231003, 1345, 1700, \"Salle 24-25-309\", None, \"Un cours de Python\"] \n",
    "\n",
    "Ce n'est pas une solution très élégante, car il faut se souvenir de l'indice de chaque propriété intéressante. Par exemple, pour trouver le lieu d'un cours, il faut taper\n",
    "    \n",
    "    CoursPython[5]\n",
    "\n",
    "et ce n'est pas très élégant.\n",
    "\n",
    "## Idée 2 : Utiliser des dictionnaires\n",
    "\n",
    "Pour contourner la difficulté de l'indice pénible à retenir, on peut passer par un dictionnaire :\n",
    "\n",
    "    CoursPython : Dict = {\n",
    "        \"Nom\" : \"Cours de Python\",\n",
    "        \"DateDebut\" : 20231003,\n",
    "        \"DateFin\" : 20231003,\n",
    "        \"HeureDebut\" : 1345,\n",
    "        \"HeureFin\" : 1700,\n",
    "        \"Lieu\" : \"Salle 24-25-309\",\n",
    "        \"Periodicite\" : None,\n",
    "        \"Description\" : \"Un cours de Python\"\n",
    "        }\n",
    "\n",
    "Ainsi, pour obtenir le lieu, il suffit de taper\n",
    "    \n",
    "    CoursPython[\"Lieu\"]\n",
    "\n",
    "C'est intéressant comme solution, mais\n",
    "1) ça n'exploite pas le fait que tous les événements ont des champs similaires,\n",
    "2) ça n'offre pas la possibilité souhaitée d'écrire élégamment des fonctions sur les événements.\n",
    "\n",
    "## Idée 3 : Programmation orientée objet\n",
    "\n",
    "En Python, il est possible de définir des *classes d'objets*, qui ont les avantages qui manquent aux dictionnaires.\n",
    "\n",
    "### Rudiments de syntaxe\n",
    "\n",
    "Ci-dessous, la méthode `__init__` permet d'initialiser une instance de la classe.\n",
    "\n",
    "Les méthodes encadrées par `__` (*dunder*, pour *double underscore*) sont des méthodes utilisant des mots-clés spécifiques réservés par Python, pour des usages spécifiques.\n",
    "\n",
    "Convention de style : les noms de classe sont sans espace mais avec une majuscule au début de chaque mot. https://peps.python.org/pep-0008/#class-names"
   ]
  },
  {
   "cell_type": "code",
   "execution_count": 1,
   "metadata": {},
   "outputs": [],
   "source": [
    "class Evenement:\n",
    "    \n",
    "    # Initialisation. \n",
    "    def __init__(self, nom: str, date_debut: int, date_fin: int, heure_debut: int, heure_fin: int, lieu: str, description: str = \"\"):\n",
    "        self.nom : str = nom\n",
    "        self.date_debut : int = date_debut\n",
    "        self.date_fin : int = date_fin\n",
    "        self.heure_debut : int = heure_debut\n",
    "        self.heure_fin : int = heure_fin\n",
    "        self.lieu : str = lieu\n",
    "        self.description : str = description\n",
    "    \n",
    "    # Pour pouvoir print une instance de la classe Evenement, il faut passer par __repr__ :\n",
    "    # def __repr__(self):\n",
    "    #     return f\"{self.nom} : {self.description}\"\n",
    "    \n",
    "    def modifier_description(self, description : str):\n",
    "        \"\"\"\n",
    "            Prend en entrée une chaîne de caractère qui sera la nouvelle description.\n",
    "        \"\"\"\n",
    "        self.description = description"
   ]
  },
  {
   "cell_type": "code",
   "execution_count": 2,
   "id": "ddea5eca",
   "metadata": {},
   "outputs": [
    {
     "name": "stdout",
     "output_type": "stream",
     "text": [
      "<__main__.Evenement object at 0x73093e1f6b60>\n",
      "<__main__.Evenement object at 0x73093e1f6b60>\n"
     ]
    }
   ],
   "source": [
    "cours_python = Evenement(\"Cours de Python\", 20231003, 20231003, 1345, 1700,\n",
    "                        \"Salle 24-25-309\", \"Un cours de Python\")\n",
    "print(cours_python)\n",
    "cours_python.modifier_description(\"Ce cours a changé !\")\n",
    "print(cours_python)"
   ]
  },
  {
   "cell_type": "markdown",
   "metadata": {},
   "source": [
    "Il est possible de créer des sous-classes qui **héritent** des méthodes de la classe originelle. Les méthodes non recopiées sont gardées à l'identique, les autres sont écrasées."
   ]
  },
  {
   "cell_type": "code",
   "execution_count": 3,
   "metadata": {},
   "outputs": [
    {
     "name": "stdout",
     "output_type": "stream",
     "text": [
      "Cours de Python est un événement qui ne dure qu'un jour !\n"
     ]
    }
   ],
   "source": [
    "class EvenementUnJour(Evenement):\n",
    "    def __repr__(self):\n",
    "        return f\"{self.nom} est un événement qui ne dure qu'un jour !\"\n",
    "\n",
    "cours_python2 = EvenementUnJour(\"Cours de Python\", 20231003, 20231003, 1345, 1700,\n",
    "                        \"Salle 24-25-309\", \"Un cours de Python\")\n",
    "print(cours_python2)"
   ]
  },
  {
   "cell_type": "markdown",
   "metadata": {},
   "source": [
    "On peut modifier l'initialisation en rappelant la fonction précédente."
   ]
  },
  {
   "cell_type": "code",
   "execution_count": 4,
   "metadata": {},
   "outputs": [],
   "source": [
    "class EvenementUnJour(Evenement):\n",
    "    def __init__(self, nom: str, date_debut: int, date_fin: int, heure_debut: int, heure_fin: int, lieu: str, description: str = \"\"):\n",
    "        \"\"\"Seuls les événements qui ne durent qu'un jour peuvent être initialisés.\"\"\"\n",
    "        assert(date_debut == date_fin), \"EvenementUnJour doit avoir date début et date fin égales.\"\n",
    "        Evenement.__init__(self, nom, date_debut, date_fin, heure_debut,heure_fin, lieu, description)\n",
    "    \n",
    "    def __repr__(self):\n",
    "        return f\"{self.nom} est un événement qui ne dure qu'un jour !\""
   ]
  },
  {
   "cell_type": "code",
   "execution_count": 5,
   "metadata": {},
   "outputs": [],
   "source": [
    "cours_python = EvenementUnJour(\"Cours de Python\", 20231003, 20231003, 1345, 1700,\n",
    "                        \"Salle 24-25-309\", \"Un cours de Python\")"
   ]
  },
  {
   "cell_type": "code",
   "execution_count": 6,
   "metadata": {},
   "outputs": [
    {
     "ename": "AssertionError",
     "evalue": "EvenementUnJour doit avoir date début et date fin égales.",
     "output_type": "error",
     "traceback": [
      "\u001b[0;31m---------------------------------------------------------------------------\u001b[0m",
      "\u001b[0;31mAssertionError\u001b[0m                            Traceback (most recent call last)",
      "Cell \u001b[0;32mIn[6], line 1\u001b[0m\n\u001b[0;32m----> 1\u001b[0m cours_un_peu_long \u001b[38;5;241m=\u001b[39m \u001b[43mEvenementUnJour\u001b[49m\u001b[43m(\u001b[49m\u001b[38;5;124;43m\"\u001b[39;49m\u001b[38;5;124;43mCours de deux jours\u001b[39;49m\u001b[38;5;124;43m\"\u001b[39;49m\u001b[43m,\u001b[49m\u001b[43m \u001b[49m\u001b[38;5;241;43m20231003\u001b[39;49m\u001b[43m,\u001b[49m\u001b[43m \u001b[49m\u001b[38;5;241;43m20231004\u001b[39;49m\u001b[43m,\u001b[49m\u001b[43m \u001b[49m\u001b[38;5;241;43m1200\u001b[39;49m\u001b[43m,\u001b[49m\u001b[43m \u001b[49m\u001b[38;5;241;43m1200\u001b[39;49m\u001b[43m,\u001b[49m\n\u001b[1;32m      2\u001b[0m \u001b[43m                        \u001b[49m\u001b[38;5;124;43m\"\u001b[39;49m\u001b[38;5;124;43mSalle 24-25-309\u001b[39;49m\u001b[38;5;124;43m\"\u001b[39;49m\u001b[43m,\u001b[49m\u001b[43m \u001b[49m\u001b[38;5;124;43m\"\u001b[39;49m\u001b[38;5;124;43mUn cours assez long\u001b[39;49m\u001b[38;5;124;43m\"\u001b[39;49m\u001b[43m)\u001b[49m\n",
      "Cell \u001b[0;32mIn[4], line 4\u001b[0m, in \u001b[0;36mEvenementUnJour.__init__\u001b[0;34m(self, nom, date_debut, date_fin, heure_debut, heure_fin, lieu, description)\u001b[0m\n\u001b[1;32m      2\u001b[0m \u001b[38;5;28;01mdef\u001b[39;00m \u001b[38;5;21m__init__\u001b[39m(\u001b[38;5;28mself\u001b[39m, nom: \u001b[38;5;28mstr\u001b[39m, date_debut: \u001b[38;5;28mint\u001b[39m, date_fin: \u001b[38;5;28mint\u001b[39m, heure_debut: \u001b[38;5;28mint\u001b[39m, heure_fin: \u001b[38;5;28mint\u001b[39m, lieu: \u001b[38;5;28mstr\u001b[39m, description: \u001b[38;5;28mstr\u001b[39m \u001b[38;5;241m=\u001b[39m \u001b[38;5;124m\"\u001b[39m\u001b[38;5;124m\"\u001b[39m):\n\u001b[1;32m      3\u001b[0m \u001b[38;5;250m    \u001b[39m\u001b[38;5;124;03m\"\"\"Seuls les événements qui ne durent qu'un jour peuvent être initialisés.\"\"\"\u001b[39;00m\n\u001b[0;32m----> 4\u001b[0m     \u001b[38;5;28;01massert\u001b[39;00m(date_debut \u001b[38;5;241m==\u001b[39m date_fin), \u001b[38;5;124m\"\u001b[39m\u001b[38;5;124mEvenementUnJour doit avoir date début et date fin égales.\u001b[39m\u001b[38;5;124m\"\u001b[39m\n\u001b[1;32m      5\u001b[0m     Evenement\u001b[38;5;241m.\u001b[39m\u001b[38;5;21m__init__\u001b[39m(\u001b[38;5;28mself\u001b[39m, nom, date_debut, date_fin, heure_debut,heure_fin, lieu, description)\n",
      "\u001b[0;31mAssertionError\u001b[0m: EvenementUnJour doit avoir date début et date fin égales."
     ]
    }
   ],
   "source": [
    "cours_un_peu_long = EvenementUnJour(\"Cours de deux jours\", 20231003, 20231004, 1200, 1200,\n",
    "                        \"Salle 24-25-309\", \"Un cours assez long\")"
   ]
  },
  {
   "cell_type": "markdown",
   "metadata": {},
   "source": [
    "Il y a la possibilité de garder des variables globales propres à une classe.\n",
    "\n",
    "Il est considéré comme plus propre d'accéder à ou de modifier les variables de la classe via des méthodes spécifiques, plutôt qu'en accédant directement à la variable en question.\n",
    "\n",
    "La convention indique qu'on peut préfixer les variables destinées à un usage interne par un unique `_`. Ceci n'a cependant par d'influence sur l'exécution du code."
   ]
  },
  {
   "cell_type": "code",
   "execution_count": 7,
   "metadata": {},
   "outputs": [],
   "source": [
    "from typing import List\n",
    "\n",
    "class Agenda:\n",
    "    _liste_agendas : List = []\n",
    "    \n",
    "    def __init__(self):\n",
    "        self._liste_evenements : List[Evenement] = []\n",
    "        Agenda._liste_agendas.append(self)\n",
    "    \n",
    "    def ajouter_evt(self, evt : Evenement):\n",
    "        self._liste_evenements.append(evt)\n",
    "    \n",
    "    def affiche_evts(self):\n",
    "        for evt in self._liste_evenements:\n",
    "            print(evt)"
   ]
  },
  {
   "cell_type": "code",
   "execution_count": 8,
   "metadata": {},
   "outputs": [
    {
     "name": "stdout",
     "output_type": "stream",
     "text": [
      "[Cours de Python est un événement qui ne dure qu'un jour !, Cours de Python est un événement qui ne dure qu'un jour !]\n",
      "Cours de Python est un événement qui ne dure qu'un jour !\n",
      "Cours de Python est un événement qui ne dure qu'un jour !\n"
     ]
    }
   ],
   "source": [
    "monagenda = Agenda()\n",
    "monagenda._liste_evenements.append(cours_python)\n",
    "monagenda.ajouter_evt(cours_python)\n",
    "print(monagenda._liste_evenements)\n",
    "monagenda.affiche_evts()"
   ]
  },
  {
   "cell_type": "markdown",
   "metadata": {},
   "source": [
    "### Opérateurs de base\n",
    "\n",
    "En Python, plusieurs opérateurs sont communs à plusieurs objets différents. Par exemple, `==`, ou `+`. Ils ont en ce cas des sens différents selon les objets manipulés.\n",
    "\n",
    "Quand une classe est définie, il est possible de lui rajouter un sens pour les opérateurs de base. Par défaut, l'opérateur `==` fonctionne comme `is`, et `+` n'est pas défini."
   ]
  },
  {
   "cell_type": "code",
   "execution_count": 9,
   "metadata": {},
   "outputs": [
    {
     "data": {
      "text/plain": [
       "False"
      ]
     },
     "execution_count": 9,
     "metadata": {},
     "output_type": "execute_result"
    }
   ],
   "source": [
    "cours_python_un = EvenementUnJour(\"Cours de Python\", 20231003, 20231003, 1345, 1700,\n",
    "                        \"Salle 24-25-309\", \"Un cours de Python\")\n",
    "\n",
    "cours_python_deux = EvenementUnJour(\"Cours de Python\", 20231003, 20231003, 1345, 1700,\n",
    "                        \"Salle 24-25-309\", \"Un cours de Python\")\n",
    "\n",
    "cours_python_un == cours_python_deux"
   ]
  },
  {
   "cell_type": "code",
   "execution_count": 10,
   "metadata": {},
   "outputs": [
    {
     "ename": "TypeError",
     "evalue": "unsupported operand type(s) for +: 'EvenementUnJour' and 'EvenementUnJour'",
     "output_type": "error",
     "traceback": [
      "\u001b[0;31m---------------------------------------------------------------------------\u001b[0m",
      "\u001b[0;31mTypeError\u001b[0m                                 Traceback (most recent call last)",
      "Cell \u001b[0;32mIn[10], line 1\u001b[0m\n\u001b[0;32m----> 1\u001b[0m \u001b[43mcours_python_un\u001b[49m\u001b[43m \u001b[49m\u001b[38;5;241;43m+\u001b[39;49m\u001b[43m \u001b[49m\u001b[43mcours_python_deux\u001b[49m \u001b[38;5;66;03m# type: ignore\u001b[39;00m\n",
      "\u001b[0;31mTypeError\u001b[0m: unsupported operand type(s) for +: 'EvenementUnJour' and 'EvenementUnJour'"
     ]
    }
   ],
   "source": [
    "cours_python_un + cours_python_deux # type: ignore"
   ]
  },
  {
   "cell_type": "code",
   "execution_count": 11,
   "metadata": {},
   "outputs": [
    {
     "data": {
      "text/plain": [
       "True"
      ]
     },
     "execution_count": 11,
     "metadata": {},
     "output_type": "execute_result"
    }
   ],
   "source": [
    "class EvenementUnJour(Evenement):\n",
    "    def __init__(self, nom: str, date_debut: int, date_fin: int, heure_debut: int, heure_fin: int, lieu: str, description: str = \"\"):\n",
    "        \"\"\"Seuls les événements qui ne durent qu'un jour peuvent être initialisés.\"\"\"\n",
    "        assert(date_debut == date_fin), \"EvenementUnJour doit avoir date début et date fin égales.\"\n",
    "        Evenement.__init__(self, nom, date_debut, date_fin, heure_debut,heure_fin, lieu, description)\n",
    "    \n",
    "    def __repr__(self):\n",
    "        return f\"{self.nom} est un événement qui ne dure qu'un jour !\"\n",
    "    \n",
    "    def __eq__(self, y: EvenementUnJour):\n",
    "        return self.nom == y.nom\n",
    "\n",
    "cours_python_un = EvenementUnJour(\"Cours de Python\", 20231003, 20231003, 1345, 1700,\n",
    "                        \"Salle 24-25-309\", \"Un cours de Python\")\n",
    "\n",
    "cours_python_deux = EvenementUnJour(\"Cours de Python\", 20231003, 20231003, 1345, 1700,\n",
    "                        \"Salle 24-25-309\", \"Un cours de Python\")\n",
    "\n",
    "cours_python_un == cours_python_deux"
   ]
  },
  {
   "cell_type": "markdown",
   "metadata": {},
   "source": [
    "Quelques autres opérateurs implémentables :\n",
    "\n",
    "    __eq__       : ==\n",
    "    __ne__       : !=\n",
    "    __lt__       : <\n",
    "    __le__       : <=\n",
    "    __gt__       : >\n",
    "    __ge__       : >=\n",
    "    __add__      : +\n",
    "    __sub__      : -\n",
    "    __mul__      : *\n",
    "    __matmul__   : @\n",
    "    __pow__      : **\n",
    "    __truediv__  : /\n",
    "    __floordiv__ : //\n",
    "    __mod__      : %"
   ]
  },
  {
   "cell_type": "markdown",
   "metadata": {},
   "source": [
    "### Duck typing\n",
    "\n",
    "> Si je vois un oiseau qui vole comme un canard, cancane comme un canard, et nage comme un canard, alors j'appelle cet oiseau un canard\n",
    "\n",
    "En Python, deux classes d'objets différentes mais qui ont les mêmes méthodes peuvent être utilisées dans les mêmes contextes."
   ]
  },
  {
   "cell_type": "code",
   "execution_count": 12,
   "metadata": {},
   "outputs": [
    {
     "name": "stdout",
     "output_type": "stream",
     "text": [
      "La chimère a 2 têtes\n",
      "1\n",
      "La chimère a 3 têtes\n",
      "11\n",
      "La chimère a 4 têtes\n",
      "111\n"
     ]
    }
   ],
   "source": [
    "from typing import Any\n",
    "\n",
    "class Chimere:\n",
    "    nombre_tetes : int = 1\n",
    "    \n",
    "    def __init__(self):\n",
    "        pass\n",
    "    \n",
    "    def incrementer(self):\n",
    "        self.nombre_tetes += 1\n",
    "        \n",
    "    def __repr__(self):\n",
    "        return f\"La chimère a {self.nombre_tetes} têtes\"\n",
    "\n",
    "class Liste_uns:\n",
    "    liste : List[int] = []\n",
    "    \n",
    "    def __init__(self):\n",
    "        pass\n",
    "    \n",
    "    def incrementer(self):\n",
    "        self.liste.append(1)\n",
    "    \n",
    "    def __repr__(self):\n",
    "        return \"1\" * len(self.liste)\n",
    "\n",
    "chimere : Chimere = Chimere()\n",
    "liste_uns : Liste_uns = Liste_uns()\n",
    "\n",
    "l: list[Any] = [chimere, liste_uns]\n",
    "\n",
    "for i in range(3):\n",
    "    for x in l:\n",
    "        x.incrementer()\n",
    "        print(x)"
   ]
  },
  {
   "cell_type": "markdown",
   "metadata": {},
   "source": [
    "Nous verrons dans les semaines à venir comment typer les classes avec les Abstract Base Classes (ABCs) (*goose typing*)."
   ]
  },
  {
   "cell_type": "markdown",
   "id": "fe26b9dc",
   "metadata": {},
   "source": [
    "## Protocoles\n",
    "\n",
    "Un *protocole* est une interface informelle, définie uniquement dans la documentation et non dans le code.\n",
    "\n",
    "Par exemple, le protocole Sequence en Python signifie : implémenter les méthodes `__len__` et `__getitem__`.\n",
    "\n",
    "Sur la base de ces deux méthodes, d'autres méthodes sont déduites : `__contains__`, `__reversed__`, `index`, `count`."
   ]
  },
  {
   "cell_type": "code",
   "execution_count": 13,
   "id": "624bbe64",
   "metadata": {},
   "outputs": [],
   "source": [
    "class Card:\n",
    "    def __init__(self, rank: str, suit: str):\n",
    "        self.rank = rank\n",
    "        self.suit = suit\n",
    "\n",
    "    def __eq__(self, other: \"Card\") -> bool:\n",
    "        return self.rank == other.rank and self.suit == other.suit\n",
    "\n",
    "\n",
    "class Deck:\n",
    "    ranks: list[str] = [str(n) for n in range(2,11)] + list(\"JQKA\")\n",
    "    suits: list[str] = \"♡ ♠ ♣ ♢\".split() #type: ignore\n",
    "\n",
    "    def __init__(self):\n",
    "        self._cards = [Card(rank,suit) for rank in self.ranks for suit in self.suits]\n",
    "    \n",
    "    def __len__(self):\n",
    "        return len(self._cards)\n",
    "    \n",
    "    def __getitem__(self, pos):\n",
    "        return self._cards[pos]\n"
   ]
  },
  {
   "cell_type": "code",
   "execution_count": 14,
   "id": "350b847b",
   "metadata": {},
   "outputs": [
    {
     "name": "stdout",
     "output_type": "stream",
     "text": [
      "<__main__.Card object at 0x7d5e3c3edb70>\n",
      "['♡', '♠', '♣', '♢']\n",
      "52\n",
      "True\n"
     ]
    }
   ],
   "source": [
    "deck1 = Deck()\n",
    "print(deck1[42])\n",
    "print([d.suit for d in deck1 if d.rank == \"A\"])\n",
    "print(len(deck1))\n",
    "print(Card(\"5\", \"♡\") in deck1)"
   ]
  },
  {
   "cell_type": "code",
   "execution_count": 15,
   "id": "e7c6d023",
   "metadata": {},
   "outputs": [],
   "source": [
    "# équivalent:\n",
    "from dataclasses import dataclass\n",
    "@dataclass\n",
    "class Card2:\n",
    "    rank: str\n",
    "    suit: str\n",
    "\n",
    "class Deck2:\n",
    "    ranks: list[str] = [str(n) for n in range(2,11)] + list(\"JQKA\")\n",
    "    suits: list[str] = \"♡ ♠ ♣ ♢\".split() #type: ignore\n",
    "\n",
    "    def __init__(self):\n",
    "        self._cards = [Card2(rank,suit) for rank in self.ranks for suit in self.suits]\n",
    "    \n",
    "    def __len__(self):\n",
    "        return len(self._cards)\n",
    "    \n",
    "    def __getitem__(self, pos):\n",
    "        return self._cards[pos]"
   ]
  },
  {
   "cell_type": "code",
   "execution_count": 16,
   "id": "c8d5a42a",
   "metadata": {},
   "outputs": [
    {
     "name": "stdout",
     "output_type": "stream",
     "text": [
      "Card2(rank='Q', suit='♣')\n",
      "['♡', '♠', '♣', '♢']\n",
      "52\n",
      "True\n"
     ]
    }
   ],
   "source": [
    "deck2 = Deck2()\n",
    "print(deck2[42])\n",
    "print([d.suit for d in deck2 if d.rank == \"A\"])\n",
    "print(len(deck2))\n",
    "print(Card2(\"5\", \"♡\") in deck2)"
   ]
  },
  {
   "cell_type": "code",
   "execution_count": 17,
   "id": "6e5c7236",
   "metadata": {},
   "outputs": [],
   "source": [
    "#ou:\n",
    "\n",
    "from collections import namedtuple\n",
    "Card3 = namedtuple(\"Card3\", [\"rank\", \"suit\"]) # type: ignore\n",
    "\n",
    "class Deck3:\n",
    "    ranks: list[str] = [str(n) for n in range(2,11)] + list(\"JQKA\")\n",
    "    suits: list[str] = \"♡ ♠ ♣ ♢\".split() #type: ignore\n",
    "\n",
    "    def __init__(self):\n",
    "        self._cards = [Card3(rank,suit) for rank in self.ranks for suit in self.suits]\n",
    "    \n",
    "    def __len__(self):\n",
    "        return len(self._cards)\n",
    "    \n",
    "    def __getitem__(self, pos):\n",
    "        return self._cards[pos]"
   ]
  },
  {
   "cell_type": "code",
   "execution_count": 18,
   "id": "9d94e543",
   "metadata": {},
   "outputs": [
    {
     "name": "stdout",
     "output_type": "stream",
     "text": [
      "Card3(rank='Q', suit='♣')\n",
      "['♡', '♠', '♣', '♢']\n",
      "52\n",
      "True\n"
     ]
    }
   ],
   "source": [
    "deck3 = Deck3()\n",
    "print(deck3[42])\n",
    "print([d.suit for d in deck3 if d.rank == \"A\"])\n",
    "print(len(deck3))\n",
    "print(Card3(\"5\", \"♡\") in deck3)"
   ]
  },
  {
   "cell_type": "code",
   "execution_count": 19,
   "id": "432dbfd1",
   "metadata": {},
   "outputs": [
    {
     "name": "stdout",
     "output_type": "stream",
     "text": [
      "True\n",
      "False\n"
     ]
    }
   ],
   "source": [
    "print(deck3[0] == Card3(\"2\", \"♡\"))\n",
    "print(deck3[0] is Card3(\"2\", \"♡\"))"
   ]
  },
  {
   "cell_type": "code",
   "execution_count": 20,
   "id": "242171eb",
   "metadata": {},
   "outputs": [
    {
     "name": "stdout",
     "output_type": "stream",
     "text": [
      "True\n",
      "True\n",
      "False\n"
     ]
    }
   ],
   "source": [
    "print(deck2[0] == deck1[0])\n",
    "print(deck1[0] == deck3[0])\n",
    "print(deck2[0] == deck3[0]) # surprise! l'égalité n'est pas transitive..\n"
   ]
  },
  {
   "cell_type": "markdown",
   "metadata": {},
   "source": [
    "# Tests unitaires avec unittest\n",
    "\n",
    "La bibliothèque `unittest` permet de faire des tests unitaires de manière moins brouillonne que juste des lignes de `assert` au milieu du code.\n",
    "\n",
    "- Dans le cadre d'un projet de développement, cela permet d'exécuter le corps du code et les tests séparément, ainsi que de mettre bien en évidence quelle partie du code est dévouée aux tests.\n",
    "- Dans le cadre d'un oral, cela permet de montrer que vous savez à quoi doit ressembler un code propre dans un projet de développement.\n",
    "\n",
    "Des méthodes plus spécifiques que simplement `assert` sont utilisées, afin que le testeur puisse effectuer tous les tests avant de s'arrêter :\n",
    "    \n",
    "    assertEqual\n",
    "    assertTrue\n",
    "    assertFalse\n",
    "\n",
    "Il est possible de faire s'exécuter un morceau de code avant ou après les tests avec `setUp` et `tearDown`."
   ]
  },
  {
   "cell_type": "code",
   "execution_count": 21,
   "metadata": {},
   "outputs": [
    {
     "name": "stderr",
     "output_type": "stream",
     "text": [
      "test_programme_difficile (__main__.Test) ... FAIL\n",
      "test_programme_facile (__main__.Test) ... ok\n",
      "\n",
      "======================================================================\n",
      "FAIL: test_programme_difficile (__main__.Test)\n",
      "----------------------------------------------------------------------\n",
      "Traceback (most recent call last):\n",
      "  File \"/tmp/ipykernel_25720/1221416220.py\", line 21, in test_programme_difficile\n",
      "    self.assertEqual(2+2+2, 8)\n",
      "AssertionError: 6 != 8\n",
      "\n",
      "----------------------------------------------------------------------\n",
      "Ran 2 tests in 0.003s\n",
      "\n",
      "FAILED (failures=1)\n"
     ]
    },
    {
     "ename": "SystemExit",
     "evalue": "True",
     "output_type": "error",
     "traceback": [
      "An exception has occurred, use %tb to see the full traceback.\n",
      "\u001b[0;31mSystemExit\u001b[0m\u001b[0;31m:\u001b[0m True\n"
     ]
    },
    {
     "name": "stderr",
     "output_type": "stream",
     "text": [
      "/home/paco/.local/lib/python3.10/site-packages/IPython/core/interactiveshell.py:3585: UserWarning: To exit: use 'exit', 'quit', or Ctrl-D.\n",
      "  warn(\"To exit: use 'exit', 'quit', or Ctrl-D.\", stacklevel=1)\n"
     ]
    }
   ],
   "source": [
    "import unittest\n",
    "\n",
    "class Test(unittest.TestCase):\n",
    "    \"\"\"\n",
    "    Usage :\n",
    "    - Pour un fichier .py : `python3 -m unittest -v fichier.py`\n",
    "    - Dans un notebook :    unittest.main(argv=[''], verbosity=2)\n",
    "    \"\"\"\n",
    "    nombre = 1\n",
    "    \n",
    "    def setUp(self):\n",
    "        self.nombre += 1\n",
    "        \n",
    "    def test_programme_facile(self):\n",
    "        self.assertEqual(self.nombre, 2)\n",
    "        self.assertEqual(2+2, 4)\n",
    "        self.assertEqual(2*2, 4)\n",
    "        self.assertTrue(True)\n",
    "    \n",
    "    def test_programme_difficile(self):\n",
    "        self.assertEqual(2+2+2, 8)\n",
    "        self.assertEqual(2*2*2, 10)\n",
    "        self.assertFalse(True)   \n",
    "\n",
    "# verbosity : 1 ou 2 selon si on veut des réponses détaillées ou non.\n",
    "# argv : les arguments à appeler avec.\n",
    "unittest.main(argv=[''], verbosity=2)"
   ]
  },
  {
   "cell_type": "markdown",
   "metadata": {},
   "source": [
    "**Attention**, quand le retour indique `FAILED (failures=1)`, c'est le nombre de **tests** échoués qui est compté, et **pas** le nombre de `assert` !\n",
    "\n",
    "Ne pas hésiter à donner des noms parlants aux tests. Par exemple, `test_initialisation`, `test_recursivite`, `test_cas_limites`..."
   ]
  },
  {
   "cell_type": "markdown",
   "id": "33b2d9f8",
   "metadata": {},
   "source": [
    "# Exercices (TP 5)\n",
    "\n",
    "Pour chacun de ces exercices, créer des tests avec `unittest` chaque fois que c'est pertinent, et écrire le code de sorte à ce qu'il puisse être présenté devant les autres.\n",
    "\n",
    "## 1. Événements et agendas\n",
    "\n",
    "- Ajouter dans la classe `Evenement` une variable `Importance` qui est par défaut à 0."
   ]
  },
  {
   "cell_type": "markdown",
   "id": "c7508d88",
   "metadata": {},
   "source": [
    "- Écrire une méthode qui calcule la durée d'un `EvenementUnJour`, puis d'un `Evenement`. Ne pas hésiter à améliorer les champs de date et heure si vous avez une bonne idée."
   ]
  },
  {
   "cell_type": "markdown",
   "id": "bc090942",
   "metadata": {},
   "source": [
    "- Écrire une fonction qui détecte les événements ayant lieu simultanément dans un `Agenda`, et qui les liste."
   ]
  },
  {
   "cell_type": "markdown",
   "id": "1a3ed187",
   "metadata": {},
   "source": [
    "- Écrire une fonction qui liste les événements dans un agenda par ordre d'importance, puis par ordre chronologique de début."
   ]
  },
  {
   "cell_type": "code",
   "execution_count": 7,
   "id": "c5a271a2",
   "metadata": {},
   "outputs": [],
   "source": [
    "from datetime import datetime\n",
    "import unittest"
   ]
  },
  {
   "cell_type": "code",
   "execution_count": 8,
   "id": "e354b828",
   "metadata": {},
   "outputs": [],
   "source": [
    "class Evenement:\n",
    "    \n",
    "    # Initialisation. \n",
    "    def __init__(self, nom: str, date_debut: datetime, date_fin: datetime, lieu : str, importance : int = 0, description: str = \"\"):\n",
    "        self.nom : str = nom\n",
    "        self.date_debut : datetime = date_debut\n",
    "        self.date_fin : datetime = date_fin\n",
    "        self.lieu : str = lieu\n",
    "        self.description : str = description\n",
    "        \n",
    "        self.importance = importance\n",
    "    \n",
    "    #Pour pouvoir print une instance de la classe Evenement, il faut passer par __repr__ :\n",
    "    def __repr__(self):\n",
    "        return f\"{self.nom} : {self.description}\"\n",
    "    \n",
    "    def modifier_description(self, description : str):\n",
    "        \"\"\"\n",
    "            Prend en entrée une chaîne de caractère qui sera la nouvelle description.\n",
    "        \"\"\"\n",
    "        self.description = description\n",
    "\n",
    "    def duree(self):\n",
    "        \"\"\"Renvoie la durée de l'évènement.\"\"\"\n",
    "        return abs(self.date_debut - self.date_fin)"
   ]
  },
  {
   "cell_type": "markdown",
   "id": "8a19eb7d",
   "metadata": {},
   "source": [
    "Classe EvenementUnJour"
   ]
  },
  {
   "cell_type": "code",
   "execution_count": 9,
   "id": "6e0d01e6",
   "metadata": {},
   "outputs": [],
   "source": [
    "class EvenementUnJour(Evenement):\n",
    "    def __init__(self, nom: str, date_debut: datetime, date_fin: datetime, lieu: str, description: str = \"\"):\n",
    "        \"\"\"Seuls les événements qui ne durent qu'un jour peuvent être initialisés.\"\"\"\n",
    "        assert(      date_debut.year == date_fin.year\n",
    "                and  date_debut.month == date_fin.month\n",
    "                and  date_debut.day == date_debut.day), \"EvenementUnJour doit avoir date début et date fin égales.\"\n",
    "        Evenement.__init__(self, nom, date_debut, date_fin, lieu, description)\n",
    "    \n",
    "    def __repr__(self):\n",
    "        return f\"{self.nom} est un événement qui ne dure qu'un jour !\"\n",
    "    \n",
    "    def __eq__(self, y: EvenementUnJour):\n",
    "        return self.nom == y.nom"
   ]
  },
  {
   "cell_type": "code",
   "execution_count": 10,
   "id": "5325b485",
   "metadata": {},
   "outputs": [
    {
     "data": {
      "text/plain": [
       "datetime.timedelta(seconds=14400)"
      ]
     },
     "execution_count": 10,
     "metadata": {},
     "output_type": "execute_result"
    }
   ],
   "source": [
    "a : Evenement = Evenement(\"Fete de l'huma\", datetime(2024,9,15,8,0), datetime(2024,9,18,23,0), \"Bondoufle\")\n",
    "b : EvenementUnJour = EvenementUnJour(\"aprem jeu de société\", datetime(2024,10,1,14), datetime(2024,10,1,18), \"chez moi\")\n",
    "\n",
    "\n",
    "a.duree()\n",
    "b.duree()"
   ]
  },
  {
   "cell_type": "markdown",
   "id": "ec07f41d",
   "metadata": {},
   "source": [
    "## 2. Graphes"
   ]
  },
  {
   "cell_type": "markdown",
   "id": "3882febe",
   "metadata": {},
   "source": [
    "- Écrire une classe pour modéliser les graphes. Justifier votre choix d'implémentation."
   ]
  },
  {
   "cell_type": "markdown",
   "id": "72d47d52",
   "metadata": {},
   "source": [
    "- Lui rajouter une fonction taille, qui ne fait le calcul que la première fois."
   ]
  },
  {
   "cell_type": "markdown",
   "id": "f26a22a3",
   "metadata": {},
   "source": [
    "- Lui rajouter une fonction de parcours en profondeur ou en largeur."
   ]
  },
  {
   "cell_type": "markdown",
   "id": "38b75c26",
   "metadata": {},
   "source": [
    "### 2.1 Version itérative, avec listes de noeud et d'aretes"
   ]
  },
  {
   "cell_type": "code",
   "execution_count": 11,
   "id": "3c3f216f",
   "metadata": {},
   "outputs": [],
   "source": [
    "class Node:\n",
    "    \"\"\"Une classe qui représente un noeud d'un graphe.\"\"\"\n",
    "\n",
    "    def __init__(self, nom : str):\n",
    "        self.nom = nom\n",
    "\n",
    "    def __repr__(self):\n",
    "        return f\"Node({self.nom})\""
   ]
  },
  {
   "cell_type": "code",
   "execution_count": 12,
   "id": "f566e6ce",
   "metadata": {},
   "outputs": [],
   "source": [
    "class Graph:\n",
    "    def __init__(self, nodes : list[Node] = [], vertex : list[tuple[Node, Node]] = []):\n",
    "        self.nodes = nodes\n",
    "        self.vertex = vertex\n",
    "        self._taille = len(self.nodes)\n",
    "\n",
    "\n",
    "    def add_node(self, node: Node ):\n",
    "        \"\"\"Ajoute un nouveau noeud dans le graphe.\"\"\"\n",
    "        assert node not in self.nodes #Si il est déjà dedans, on ne l'ajoute pas \n",
    "\n",
    "        self.nodes.append(node)\n",
    "        self._taille += 1\n",
    "\n",
    "\n",
    "    def add_vertex(self, v : tuple[Node, Node]):\n",
    "        \"\"\"Ajoute une nouvelle arete dans le graphe.\"\"\"\n",
    "\n",
    "        #On s'assure que les noeuds existent déjà dans le graphe, et que l'arete n'existe pas déjà\n",
    "        n1, n2 = v\n",
    "        assert n1 in self.nodes\n",
    "        assert n2 in self.nodes\n",
    "        assert v not in self.vertex\n",
    "\n",
    "        self.vertex.append(v)\n",
    "\n",
    "\n",
    "    def __repr__(self):\n",
    "        vertex_str = [ n1.nom +\"--\"+ n2.nom for n1, n2 in self.vertex]\n",
    "        return f\"Graphe( nodes : {[n.nom for n in self.nodes]}, vertex : {vertex_str})\"\n",
    "\n",
    "    def __len__(self) -> int:\n",
    "        return self._taille"
   ]
  },
  {
   "cell_type": "code",
   "execution_count": 13,
   "id": "baa9733e",
   "metadata": {},
   "outputs": [
    {
     "data": {
      "text/plain": [
       "Graphe( nodes : ['a', 'b'], vertex : ['a--b'])"
      ]
     },
     "execution_count": 13,
     "metadata": {},
     "output_type": "execute_result"
    }
   ],
   "source": [
    "a = Node(\"a\")\n",
    "b = Node(\"b\")\n",
    "\n",
    "G = Graph([a,b], [])\n",
    "G.add_vertex((a,b))\n",
    "\n",
    "G"
   ]
  },
  {
   "cell_type": "code",
   "execution_count": 14,
   "id": "420d97b6",
   "metadata": {},
   "outputs": [
    {
     "data": {
      "text/plain": [
       "Graphe( nodes : ['a', 'b', 'c'], vertex : ['a--b', 'c--a'])"
      ]
     },
     "execution_count": 14,
     "metadata": {},
     "output_type": "execute_result"
    }
   ],
   "source": [
    "c  = Node(\"c\")\n",
    "G.add_node(c)\n",
    "G.add_vertex((c,a))\n",
    "\n",
    "G"
   ]
  },
  {
   "cell_type": "markdown",
   "id": "e2204cb1",
   "metadata": {},
   "source": [
    "### 2.2 version récursive (un peu plus intéressante)"
   ]
  },
  {
   "cell_type": "code",
   "execution_count": 15,
   "id": "434859a5",
   "metadata": {},
   "outputs": [],
   "source": [
    "class Node:\n",
    "    def __init__(self, nom : int, voisins : list[Node] = []):\n",
    "        self.nom = nom\n",
    "        self.voisins = voisins\n",
    "\n",
    "    \n",
    "    def parcours_profondeur(self, vus : list[Node]):\n",
    "        \"\"\"Parcours en profondeur le graphe à partir de ce noeud.\"\"\"\n",
    "\n",
    "        if self in vus: return \n",
    "\n",
    "        vus.append(self)\n",
    "        print(self.nom)\n",
    "        for v in self.voisins:\n",
    "            v.parcours_profondeur(vus)"
   ]
  },
  {
   "cell_type": "code",
   "execution_count": 16,
   "id": "45e25f73",
   "metadata": {},
   "outputs": [],
   "source": [
    "class Graph:\n",
    "    def __init__(self, racine : Node):\n",
    "        self.racine = racine\n",
    "        self.taille = self.parcours_profondeur()\n",
    "\n",
    "\n",
    "    @staticmethod\n",
    "    def from_adj_list(l : list[list[int]]) -> Graph:\n",
    "        \"\"\"Crée un graphe à partir de sa liste d'adjacence.\"\"\"\n",
    "\n",
    "        nodes : list[Node] = [Node(i) for i in range(len(l))]\n",
    "        for i in range(len(l)):\n",
    "            for voisin in l[i]:\n",
    "                nodes[i].voisins.append(nodes[voisin])\n",
    "        return Graph(nodes[0])\n",
    "    \n",
    "\n",
    "    def parcours_profondeur(self):\n",
    "        \"\"\" Parcourt en profondeur le graphe, et print toutes ses aretes.\n",
    "            Renvoie la taille du graphe.\n",
    "        \"\"\"\n",
    "        \n",
    "        vus = []\n",
    "        self.racine.parcours_profondeur(vus)\n",
    "        return len(vus)\n",
    "\n",
    "\n",
    "    def parcours_largeur(self):\n",
    "        pass\n",
    "\n",
    "\n"
   ]
  },
  {
   "cell_type": "code",
   "execution_count": 17,
   "id": "e993b79f",
   "metadata": {},
   "outputs": [
    {
     "name": "stdout",
     "output_type": "stream",
     "text": [
      "0\n",
      "1\n",
      "2\n",
      "3\n"
     ]
    }
   ],
   "source": [
    "adj_list = [[1,2], [0,1], [3], []]\n",
    "\n",
    "G = Graph.from_adj_list(adj_list)"
   ]
  },
  {
   "cell_type": "markdown",
   "id": "83654be9",
   "metadata": {},
   "source": [
    "## 3. Arbres"
   ]
  },
  {
   "cell_type": "markdown",
   "id": "a0e37d33",
   "metadata": {},
   "source": [
    "- Créer une sous-classe de graphes qui sont des arbres."
   ]
  },
  {
   "cell_type": "markdown",
   "id": "e551c748",
   "metadata": {},
   "source": [
    "- Lui rajouter une fonction de hauteur."
   ]
  },
  {
   "cell_type": "markdown",
   "id": "2a95cbc2",
   "metadata": {},
   "source": [
    "- Ajouter un test à l'initialisation qui vérifie que le graphe pris en entrée est bien connexe est acyclique."
   ]
  },
  {
   "cell_type": "markdown",
   "id": "90bc1bce",
   "metadata": {},
   "source": [
    "- Ajouter un opérateur de comparaison `<` tel que `a1 < a2` ssi `a1` est un sous-arbre strict de `a2`. L'étendre aux opérateurs `<`, `<=`, `>=`."
   ]
  },
  {
   "cell_type": "code",
   "execution_count": null,
   "id": "8bd5a56d",
   "metadata": {},
   "outputs": [],
   "source": [
    "class Tree(Graph):\n",
    "    pass"
   ]
  },
  {
   "cell_type": "markdown",
   "id": "90a2ba23",
   "metadata": {},
   "source": [
    "# 4. Ordres\n",
    "\n",
    "Le but de cet exercice est de concevoir un ordre dans lequel vous pouvez prendre `n` cours, qui sont étiquetés avec les entiers entre `0` et `n-1`. On vous donne une liste `prerequis : list[list[int]]`, telle que `prerequis[i]` a une longueur de `2` pour chaque `i`, où `prerequis[i] = [a,b]` signifie que vous **devez** prendre le cours `b` avant de prendre le cours `a`.\n",
    "\n",
    "* Ecrire une fonction qui renvoie un ordre possible des cours, s'il y en a un, et la liste vide si c'est impossible. (Voir aussi: https://leetcode.com/problems/course-schedule-ii/description/)"
   ]
  },
  {
   "cell_type": "markdown",
   "id": "6faf49d5",
   "metadata": {},
   "source": [
    "* Rappeler que signifie le terme \"tri topologique\" et expliquez le rapport avec cet exercice."
   ]
  },
  {
   "cell_type": "markdown",
   "id": "fb539444",
   "metadata": {},
   "source": [
    "* Ecrire une fonction qui renvoie la liste de tous les ordres possibles des cours."
   ]
  },
  {
   "cell_type": "code",
   "execution_count": null,
   "id": "fbb1cc95",
   "metadata": {},
   "outputs": [],
   "source": []
  }
 ],
 "metadata": {
  "kernelspec": {
   "display_name": "Python 3",
   "language": "python",
   "name": "python3"
  },
  "language_info": {
   "codemirror_mode": {
    "name": "ipython",
    "version": 3
   },
   "file_extension": ".py",
   "mimetype": "text/x-python",
   "name": "python",
   "nbconvert_exporter": "python",
   "pygments_lexer": "ipython3",
   "version": "3.10.12"
  }
 },
 "nbformat": 4,
 "nbformat_minor": 5
}
